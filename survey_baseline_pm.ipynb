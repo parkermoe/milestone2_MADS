{
 "cells": [
  {
   "cell_type": "code",
   "execution_count": 1,
   "metadata": {},
   "outputs": [],
   "source": [
    "from preprocessing_utils import *\n",
    "import pandas as pd\n",
    "import numpy as np\n",
    "import matplotlib.pyplot as plt\n",
    "import seaborn as sns\n",
    "\n",
    "survey_data_path = \"/Volumes/DeepLearner/MADS/Milestone_data/survey_cleaned.csv\"\n",
    "data_5k_path = \"/Volumes/DeepLearner/MADS/Milestone_data/data_5k_cleaned.csv\""
   ]
  },
  {
   "cell_type": "code",
   "execution_count": 4,
   "metadata": {},
   "outputs": [
    {
     "data": {
      "text/plain": [
       "(  ADD_TYPE   AGE AI_COUNTY_NAME  CENSUS_ST  CENSUS_TRK  CNS_MEDINC  \\\n",
       " 0        S  63.0         MARION         18    390602.0       728.0   \n",
       " 1        S  73.0           POLK         12     14123.0       511.0   \n",
       " 2        S  86.0    LOS ANGELES          6    403703.0       728.0   \n",
       " 3        S  55.0          OCEAN         34    714200.0       868.0   \n",
       " 4        S  73.0      JEFFERSON          8      9832.0       793.0   \n",
       " \n",
       "    CNSUS_PCTA  CNSUS_PCTB  CNSUS_PCTH  CNSUS_PCTI  ...  VTR_PRI20  VTR_PRI21  \\\n",
       " 0    0.000000   30.357143    7.142857         0.0  ...          N          N   \n",
       " 1    0.000000   28.571429   14.285714         0.0  ...          N          N   \n",
       " 2   24.324324    0.000000   43.243243         0.0  ...          N          N   \n",
       " 3    0.000000    0.000000   13.636364         0.0  ...          N          N   \n",
       " 4    0.000000    8.450704   14.788732         0.0  ...          Y          N   \n",
       " \n",
       "    VTR_PRI22    ZIP           Q1_Candidate                  Q2_Support  \\\n",
       " 0          A  46216    President Joe Biden      Very likely to support   \n",
       " 1          Y  33884              Undecided                         NaN   \n",
       " 2          N  91724    President Joe Biden           Likely to support   \n",
       " 3          N   8723    Marianne Williamson  Somewhat likely to support   \n",
       " 4          Y  80003  Robert F. Kennedy Jr.                         NaN   \n",
       " \n",
       "              Q3_Party    Q4_LikelyVoter Q5_TrumpSupport SURVEY_TYPE  \n",
       " 0            Democrat  Extremely likely     Never Trump           T  \n",
       " 1                 NaN               NaN             NaN           T  \n",
       " 2            Democrat       Very likely     Never Trump           T  \n",
       " 3  Unaffiliated/Other  Extremely likely     Maybe Trump           T  \n",
       " 4                 NaN               NaN             NaN           T  \n",
       " \n",
       " [5 rows x 182 columns],\n",
       " (1560, 182))"
      ]
     },
     "execution_count": 4,
     "metadata": {},
     "output_type": "execute_result"
    }
   ],
   "source": [
    "df_survey = pd.read_csv(survey_data_path, low_memory=False)\n",
    "df_survey = df_survey.drop(columns=['Unnamed: 0', 'RECORD_ID'])\n",
    "df_survey.head(), df_survey.shape"
   ]
  },
  {
   "cell_type": "code",
   "execution_count": 6,
   "metadata": {},
   "outputs": [],
   "source": [
    "# drop all columns that contain \n",
    "\n",
    "# For \"SEX\" column, need to make sure all f's and m's are capitalized\n",
    "\n",
    "df_survey = df_survey.applymap(lambda x: x.upper() if type(x) == str else x)"
   ]
  },
  {
   "cell_type": "code",
   "execution_count": null,
   "metadata": {},
   "outputs": [],
   "source": []
  }
 ],
 "metadata": {
  "kernelspec": {
   "display_name": "Python 3",
   "language": "python",
   "name": "python3"
  },
  "language_info": {
   "codemirror_mode": {
    "name": "ipython",
    "version": 3
   },
   "file_extension": ".py",
   "mimetype": "text/x-python",
   "name": "python",
   "nbconvert_exporter": "python",
   "pygments_lexer": "ipython3",
   "version": "3.11.2"
  },
  "orig_nbformat": 4
 },
 "nbformat": 4,
 "nbformat_minor": 2
}
