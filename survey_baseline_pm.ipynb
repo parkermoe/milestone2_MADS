{
 "cells": [
  {
   "cell_type": "code",
   "execution_count": 1,
   "metadata": {},
   "outputs": [],
   "source": [
    "#pip install xgboost"
   ]
  },
  {
   "cell_type": "code",
   "execution_count": 2,
   "metadata": {},
   "outputs": [],
   "source": [
    "#pip install imblearn"
   ]
  },
  {
   "cell_type": "code",
   "execution_count": 3,
   "metadata": {},
   "outputs": [],
   "source": [
    "from preprocessing_utils import *\n",
    "from dataprocessor import DataPreprocessor\n",
    "\n",
    "import warnings\n",
    "import pandas as pd\n",
    "# suppress warning messages\n",
    "warnings.filterwarnings('ignore')\n",
    "import numpy as np\n",
    "import matplotlib.pyplot as plt\n",
    "import seaborn as sns\n",
    "\n",
    "from sklearn.preprocessing import LabelEncoder\n",
    "from sklearn.model_selection import train_test_split, GridSearchCV\n",
    "from sklearn.ensemble import RandomForestClassifier\n",
    "from sklearn.ensemble import VotingClassifier\n",
    "from sklearn.ensemble import StackingClassifier\n",
    "from sklearn.linear_model import LogisticRegression\n",
    "from sklearn.svm import SVC\n",
    "from sklearn.decomposition import PCA\n",
    "from sklearn.preprocessing import StandardScaler\n",
    "from sklearn.pipeline import Pipeline\n",
    "from sklearn.compose import ColumnTransformer\n",
    "from sklearn.impute import SimpleImputer\n",
    "from sklearn.compose import make_column_selector as selector\n",
    "from sklearn.ensemble import GradientBoostingClassifier\n",
    "from sklearn.metrics import accuracy_score, precision_score, recall_score, f1_score,confusion_matrix, classification_report\n",
    "\n",
    "from imblearn.over_sampling import SMOTE\n",
    "\n",
    "\n",
    "from xgboost import XGBClassifier\n",
    "#from lightgbm import LGBMClassifier\n",
    "\n",
    "from tqdm import tqdm\n",
    "from time import sleep\n",
    "# import gradient_boosting machine\n",
    "\n",
    "\n",
    "\n",
    "# set global seed to ensure reproducibility\n",
    "\n",
    "seed = 42\n",
    "np.random.seed(seed)\n",
    "\n",
    "\n",
    "\n",
    "\n",
    "\n",
    "survey_data_path = \"/Volumes/DeepLearner/MADS/Milestone_data/surveydata.csv\"\n",
    "data_5k_path = \"/Volumes/DeepLearner/MADS/Milestone_data/data_5k_cleaned.csv\"\n",
    "config_path = \"/Volumes/DeepLearner/MADS/Milestone2_Party_prediction/milestone2_MADS/preprocessing_config.json\""
   ]
  },
  {
   "cell_type": "markdown",
   "metadata": {},
   "source": [
    "columns_to_use = [\n",
    "    'AGE' ,'CNS_MEDINC', 'CNSUS_PCTA', 'CNSUS_PCTB',\n",
    "    'CNSUS_PCTH', 'CNSUS_PCTI', 'CNSUS_PCTM', 'CNSUS_PCTO', 'CNSUS_PCTP', 'CNSUS_PCTW',\n",
    "    'COUNTY_TYPE', 'EDUCATION', 'ETHNIC_INFER',\n",
    "    'HOMEMKTVAL',  'NETWORTH',\n",
    "    'PARTY_CODE', 'PARTY_MIX', 'PRESENCHLD', 'PRFL_POLITICAL_IDEOLOGY',\n",
    "    'RELIGION', 'SEX', 'CENSUS_ST', \"CENSUS_TRK\",\n",
    "    'TOD_PRES_D_2016',  'TOD_PRES_D_2020_PREC', \n",
    "   'TOD_PRES_O_2020_PREC', 'TOD_PRES_R_2016', 'TOD_PRES_R_2016_PREC',\n",
    "    'TOD_PRES_R_2020_PREC', 'R_DONOR', 'D_DONOR', 'VOTED_R_ELECTION', 'VOTED_D_ELECTION',\n",
    "     'CENSUS_TRACT','Q1_Candidate',\n",
    "    'TOD_PRES_DIFF_2016','TOD_PRES_DIFF_2016_PREC','TOD_PRES_DIFF_2020_PREC', 'AI_COUNTY_NAME',\n",
    "    'STATE', \"GENDER_MIX\", \"GENERATION\", \"CREDRATE\",\n",
    "    \"PRFL_BORDER_SECURITY\", \"PRFL_CHOICELIFE\", \"PRFL_CONSERVATIVE_NEWS\", \"PRFL_TRUMP_SUPPORT\",\n",
    "    \"PRFL_LIBERAL_NEWS\", \"PRFL_IMMIGRATION_REFORM\" ]\n",
    "\n",
    "columns_to_use = [\n",
    "    'AGE' ,'CNSUS_PCTA',\n",
    "    'CNSUS_PCTH', 'CNSUS_PCTM', 'CNSUS_PCTO',  'CNSUS_PCTW',\n",
    "    'COUNTY_TYPE', 'EDUCATION', 'ETHNIC_INFER',\n",
    "    'HOMEMKTVAL',  'NETWORTH',\n",
    "    'PARTY_CODE', 'PARTY_MIX', 'PRESENCHLD', 'PRFL_POLITICAL_IDEOLOGY',\n",
    "    'RELIGION', \"CENSUS_TRK\",\n",
    "    'TOD_PRES_D_2016',  'TOD_PRES_D_2020_PREC', \n",
    "    'TOD_PRES_R_2016', 'TOD_PRES_R_2016_PREC',\n",
    "    'TOD_PRES_R_2020_PREC',\n",
    "    'Q1_Candidate', \"HH_SIZE\",\n",
    "    'TOD_PRES_DIFF_2016','TOD_PRES_DIFF_2016_PREC','TOD_PRES_DIFF_2020_PREC', 'AI_COUNTY_NAME',\n",
    "    'STATE', \"GENDER_MIX\", \"GENERATION\", \"CREDRATE\",\n",
    "    \"PRFL_BORDER_SECURITY\", \"PRFL_CHOICELIFE\", \"PRFL_CONSERVATIVE_NEWS\", \"PRFL_TRUMP_SUPPORT\",\n",
    " \"PRFL_IMMIGRATION_REFORM\", \"PRFL_MINWAGE\", \"VTR_GEN20\" ,\"VTR_GEN21\",\"VTR_GEN22\",\n",
    " \"VTR_OTH09\", \"VTR_OTH17\", \"VTR_PPP04\", \"VTR_PPP08\", \"VTR_PPP12\", \"VTR_PPP16\", \"VTR_PPP20\",\n",
    " ]\n",
    "\n",
    "# 'CENSUS_ST', \n",
    "\n",
    "#'VOTED_R_ELECTION', 'VOTED_D_ELECTION', 'CENSUS_TRACT'\n",
    "     \n",
    "   #  ''' \"PRFL_BIDEN_SUPPORT\", \"PRFL_HEALTHCARE_REFORM\"\n",
    "  #  , \"VOTER_CNT\", \"VOTER_TRLR\",  \"VP_GEN\", \"VP_PPP\", \"VP_PRI\", 'DON_POLIT',\"LANGUAGE\",\n",
    " #   \"HH_SIZE\",'ZIP',  \"PRFL_BLM_SUPPORT\", \"PRFL_LGBT_SUPPORT\",\n",
    "#    \"PRFL_MARRIAGE_EQUALITY\",  \"PRFL_MINWAGE\", \n",
    "#    \"VTR_GEN20\", \"VTR_GEN22\", \"VTR_PPP08\", \"VTR_PPP16\", \"VTR_PPP20\", \"VTR_PRI22\"] # \"PRFL_METOO_SUPPORT\"'''\n",
    "\n",
    "#COLS REMOVED\n",
    "# \"LIFESTAGE_CLUSTER\"\n",
    "# \"LENGTH_RES\"\n",
    "# , \"PRFL_2NDAMEND\"\n",
    "# \"LANGUAGE\"\n",
    "# \"PRFL_MINWAGE\"\n",
    "#  \"VP_OTH\"\n",
    "# PRFL_MINWAGE\n",
    "# 'COUNTY_ST'\n",
    "# 'HOMEOWNRNT'\n",
    "# , 'DON_POLIT'\n",
    "# \"LANGUAGE\",\n",
    "#\"HH_SIZE\"\n",
    "# 'ZIP',\n",
    "#  \"CENSUS_TRK\",\n",
    "# STATE_CD',\n",
    "# 'TOD_PRES_D_2016_PREC',\n",
    "# 'STATE_LOWER_HOUSE'\n",
    "# 'STATE_UPPER_HOUSE', \n",
    "#  \"VP_OTH\"\n",
    "# \"ADD_TYPE\"\n",
    "# 'STATE_COUNTY_FIPS'\n",
    "# \"PRFL_METOO_SUPPORT\",\n",
    "# \"LIFESTAGE_CLUSTER\",\n",
    "# INCOMESTHH',\n",
    "# \"TRAIL_CNT\",\n",
    "# 'TOD_PRES_O_2016_PREC'\n",
    "# 'TOD_PRES_O_2016'\n"
   ]
  },
  {
   "cell_type": "code",
   "execution_count": 4,
   "metadata": {},
   "outputs": [],
   "source": [
    "columns_to_use = [\n",
    "    'AGE' ,'CNSUS_PCTA',\n",
    "    'CNSUS_PCTH', 'CNSUS_PCTM', 'CNSUS_PCTO',  'CNSUS_PCTW',\n",
    "     'EDUCATION', 'ETHNIC_INFER',\n",
    "   'NETWORTH', \n",
    "    'PARTY_CODE',  'PRESENCHLD', \n",
    "    'RELIGION',  \"CENSUS_TRK\",\n",
    "    'TOD_PRES_D_2016',  'TOD_PRES_D_2020_PREC', \n",
    "    'TOD_PRES_R_2016', 'TOD_PRES_R_2016_PREC',\n",
    "    'TOD_PRES_R_2020_PREC',\n",
    "    'Q1_Candidate', \n",
    "    'TOD_PRES_DIFF_2016','TOD_PRES_DIFF_2016_PREC','TOD_PRES_DIFF_2020_PREC', 'AI_COUNTY_NAME',\n",
    "         \"CREDRATE\",\"HH_SIZE\",\n",
    "    \"PRFL_BORDER_SECURITY\", \"PRFL_CHOICELIFE\", \"PRFL_CONSERVATIVE_NEWS\", \"PRFL_TRUMP_SUPPORT\",\n",
    " \"PRFL_IMMIGRATION_REFORM\", \"VTR_GEN20\" ,\"VTR_GEN21\",\"VTR_GEN22\",\n",
    " \"VTR_OTH09\", \"VTR_OTH17\", \"VTR_PPP04\", \"VTR_PPP08\", \"VTR_PPP12\", \"VTR_PPP16\", \"VTR_PPP20\",\"PARTY_MIX\",\n",
    " \"PRFL_MARRIAGE_EQUALITY\", ]\n",
    "\n",
    "# Removed\n",
    "# \"PRFL_MINWAGE\",\n",
    "# 'STATE',\n",
    "#  \"GENDER_MIX\",\n",
    "# \"GENERATION\",\n",
    "# 'PRFL_POLITICAL_IDEOLOGY',\n",
    "# 'PARTY_MIX',\n",
    "# 'COUNTY_TYPE',\n",
    "# \"CENSUS_TRK\",\n",
    "# \"PARTY_INFER\"\n",
    "#\"HH_SIZE\",\n",
    "# 'HOMEMKTVAL', \n",
    "#  \"PRFL_HEALTHCARE_REFORM\",\n",
    "#  \"PRFL_LIBERAL_NEWS\", \"PRFL_LGBT_SUPPORT\","
   ]
  },
  {
   "cell_type": "code",
   "execution_count": 5,
   "metadata": {},
   "outputs": [
    {
     "name": "stdout",
     "output_type": "stream",
     "text": [
      "Loading config from /Volumes/DeepLearner/MADS/Milestone2_Party_prediction/milestone2_MADS/preprocessing_config.json\n",
      "DataPreprocessor initialized.\n",
      "Bleep bloop...\n",
      "Applying config...\n",
      "Standardizing missing values...\n",
      "Imputing missing values...\n",
      "Imputing missing values...\n",
      "Imputing missing values...\n",
      "Mapping categorical values...\n",
      "Engineering new features...\n",
      "Removing columns over the threshold...\n"
     ]
    }
   ],
   "source": [
    "\n",
    "surveydata = pd.read_csv(survey_data_path, low_memory=False)\n",
    "\n",
    "preprocessor_survey = DataPreprocessor(surveydata, config_path=config_path)\n",
    "survey_df = preprocessor_survey.run_preprocessing_pipeline(skip_preprocess_dataframe=True, use_frequency_encoding=True, drop_converted_cols=True)"
   ]
  },
  {
   "cell_type": "code",
   "execution_count": 6,
   "metadata": {},
   "outputs": [],
   "source": [
    "def set_inferred_party(row):\n",
    "   not_in_list = ['D', 'R', 'M', 'P', 'X', 'Z']\n",
    "   rpx = ['R', 'P', 'X']\n",
    "   dmz = ['D', 'M', 'Z']\n",
    "   if row['PARTY_CODE'] in ['N', 'U']:\n",
    "       if (\n",
    "           (row['FUND_POLIT'] == 'R' or row['DON_POLCONS'] or row['PRFL_HEALTHCARE_REFORM'] == '2' or\n",
    "            row['PRFL_2NDAMEND'] == 'Y' or row['PRFL_CHOICELIFE'] == '1') and row['FUND_POLIT'] != 'D' and\n",
    "            not row['DON_POLLIB'] and all(row[col] not in not_in_list for col in\n",
    "            ['VTR_PRI' + \"{:02}\".format(i) for i in range(22, 2, -1)] + ['VTR_PPP' + \"{:02}\".format(i) for i in [20, 16, 12, 8, 4, 0]])\n",
    "       ) or (\n",
    "           sum(1 for col in ['VTR_PRI' + \"{:02}\".format(i) for i in range(22, 2, -1)] + ['VTR_PPP' + \"{:02}\".format(i) for i in [20, 16, 12, 8, 4, 0]]\n",
    "            if row[col] in rpx) > sum(1 for col in ['VTR_PRI' + \"{:02}\".format(i) for i in range(22, 2, -1)] +\n",
    "            ['VTR_PPP' + \"{:02}\".format(i) for i in [20, 16, 12, 8, 4, 0]] if row[col] in dmz)\n",
    "       ):\n",
    "           return 'S'\n",
    "       elif (\n",
    "           (row['FUND_POLIT'] == 'D' or row['DON_POLLIB'] or row['PRFL_HEALTHCARE_REFORM'] == '1' or\n",
    "            row['PRFL_CHOICELIFE'] == '2') and row['FUND_POLIT'] != 'r' and not row['DON_POLCONS'] and\n",
    "            all(row[col] not in not_in_list for col in ['VTR_PRI' + \"{:02}\".format(i) for i in range(22, 2, -1)] +\n",
    "            ['VTR_PPP' + \"{:02}\".format(i) for i in [20, 16, 12, 8, 4, 0]])\n",
    "       ) or (\n",
    "           sum(1 for col in ['VTR_PRI' + \"{:02}\".format(i) for i in range(22, 2, -1)] + ['VTR_PPP' + \"{:02}\".format(i) for i in [20, 16, 12, 8, 4, 0]]\n",
    "            if row[col] in rpx) < sum(1 for col in ['VTR_PRI' + \"{:02}\".format(i) for i in range(22, 2, -1)] +\n",
    "            ['VTR_PPP' + \"{:02}\".format(i) for i in [20, 16, 12, 8, 4, 0]] if row[col] in dmz)\n",
    "       ):\n",
    "           return 'E'\n",
    "   return row['PARTY_CODE'] # Return original value if no conditions are met\n",
    "\n",
    "# adding inferred party to columns_to_use\n",
    "columns_to_use.append(\"PARTY_INFER\")\n",
    "\n",
    "survey_df['PARTY_INFER'] = survey_df.apply(set_inferred_party, axis=1)"
   ]
  },
  {
   "cell_type": "code",
   "execution_count": 7,
   "metadata": {},
   "outputs": [
    {
     "data": {
      "image/png": "[encoded data removed]",
      "text/plain": [
       "<Figure size 1000x600 with 1 Axes>"
      ]
     },
     "metadata": {},
     "output_type": "display_data"
    }
   ],
   "source": [
    "columns_to_plot = [\"HH_SIZE\"]\n",
    "\n",
    "plot_outliers(survey_df, columns_to_plot, \"Q1_Candidate\")"
   ]
  },
  {
   "cell_type": "code",
   "execution_count": 8,
   "metadata": {},
   "outputs": [],
   "source": [
    "def outlier_detection_single_column(survey_df, column_name, target_column=None, remove_by='none', threshold=1):\n",
    "    original_df = survey_df.copy()\n",
    "    \n",
    "    if target_column:\n",
    "        # Initialize DataFrame to store filtered rows\n",
    "        filtered_df = pd.DataFrame()\n",
    "        removed_df = pd.DataFrame()\n",
    "        \n",
    "        for target_value in original_df[target_column].unique():\n",
    "            sub_df = original_df[original_df[target_column] == target_value]\n",
    "            sub_filtered_df, sub_removed_df, _ = outlier_detection_single_column(sub_df, column_name, remove_by=remove_by, threshold=threshold)\n",
    "            \n",
    "            filtered_df = pd.concat([filtered_df, sub_filtered_df])\n",
    "            removed_df = pd.concat([removed_df, sub_removed_df])\n",
    "        \n",
    "        # Sort by index to maintain original order\n",
    "        filtered_df.sort_index(inplace=True)\n",
    "        removed_df.sort_index(inplace=True)\n",
    "        \n",
    "        return filtered_df, removed_df, None  # Return None for results as it's not used in this block\n",
    "\n",
    "    total_original_rows = len(original_df)\n",
    "\n",
    "    if np.issubdtype(original_df[column_name].dtype, np.number):\n",
    "        transformer = RobustScaler()\n",
    "    else:\n",
    "        original_df[column_name] = original_df[column_name].astype(str)\n",
    "        transformer = OneHotEncoder(handle_unknown='ignore')\n",
    "\n",
    "    X_col = transformer.fit_transform(original_df[[column_name]])\n",
    "\n",
    "    models = {\n",
    "        'IsolationForest': IsolationForest(contamination=0.1),\n",
    "        'LocalOutlierFactor': LocalOutlierFactor(contamination=0.1),\n",
    "        'OneClassSVM': OneClassSVM(nu=0.1)\n",
    "    }\n",
    "\n",
    "    results = {}\n",
    "    for name, model in models.items():\n",
    "        y_pred = model.fit_predict(X_col)\n",
    "        y_pred = [1 if x == -1 else 0 for x in y_pred]\n",
    "        results[name] = y_pred\n",
    "\n",
    "    original_df['consensus'] = np.sum(list(results.values()), axis=0)\n",
    "\n",
    "    if remove_by == 'consensus':\n",
    "        removed_df = original_df[original_df['consensus'] >= threshold]\n",
    "        filtered_df = original_df[original_df['consensus'] < threshold]\n",
    "    elif remove_by in models.keys():\n",
    "        removed_df = original_df[np.array(results[remove_by]) != 0]\n",
    "        filtered_df = original_df[np.array(results[remove_by]) == 0]\n",
    "    else:\n",
    "        removed_df = pd.DataFrame()\n",
    "        filtered_df = original_df.copy()\n",
    "\n",
    "    initial_count = len(original_df)\n",
    "    final_count = len(filtered_df)\n",
    "    removed_count = initial_count - final_count\n",
    "\n",
    "    if removed_count > 0:\n",
    "        removed_percentage = 100 * removed_count / initial_count\n",
    "        print(f\"Removed {removed_percentage:.2f}% of values from column {column_name}.\")\n",
    "\n",
    "    return filtered_df.drop(columns=['consensus'], errors='ignore'), removed_df, results\n",
    "\n",
    "#survey_df, removed_df, results = outlier_detection_single_column(survey_df, 'HH_SIZE',target_column=None, remove_by=\"consensus\", threshold=1)\n",
    "\n",
    "#removed_df.head(), removed_df.shape"
   ]
  },
  {
   "cell_type": "code",
   "execution_count": 9,
   "metadata": {},
   "outputs": [],
   "source": [
    "#survey_df, removed_df, results = outlier_detection_single_column(survey_df, 'TOD_PRES_R_2016_PREC',target_column=None, remove_by=\"consensus\", threshold=1)\n"
   ]
  },
  {
   "cell_type": "code",
   "execution_count": 10,
   "metadata": {},
   "outputs": [],
   "source": [
    "#removed_df.shape, survey_df.shape"
   ]
  },
  {
   "cell_type": "code",
   "execution_count": 11,
   "metadata": {},
   "outputs": [
    {
     "data": {
      "image/png": "[encoded data removed]",
      "text/plain": [
       "<Figure size 1000x600 with 1 Axes>"
      ]
     },
     "metadata": {},
     "output_type": "display_data"
    }
   ],
   "source": [
    "plot_outliers(survey_df, columns_to_plot, \"Q1_Candidate\")"
   ]
  },
  {
   "cell_type": "markdown",
   "metadata": {},
   "source": [
    "## Counting votes + Interaction Terms"
   ]
  },
  {
   "cell_type": "code",
   "execution_count": 12,
   "metadata": {},
   "outputs": [],
   "source": [
    "from itertools import groupby\n",
    "from itertools import combinations\n",
    "\n",
    "def create_interaction_terms(df, combinations, interaction_type='cat'):\n",
    "    for combination in combinations:\n",
    "        # Create an interaction term name dynamically based on the number of features involved\n",
    "        interaction_term_name = \"_\".join(combination) + \"_interaction\"\n",
    "\n",
    "        if interaction_type == 'cat':\n",
    "            # Create the categorical interaction term\n",
    "            df[interaction_term_name] = df[list(combination)].astype(str).apply(lambda x: \"_\".join(x), axis=1)\n",
    "            \n",
    "        elif interaction_type == 'num':\n",
    "            # Create the numerical interaction term\n",
    "            df[interaction_term_name] = df[list(combination)].apply(lambda x: x.prod(), axis=1)\n",
    "\n",
    "    return df\n",
    "\n",
    "def feature_engineering_voting_data(survey_df, columns_to_use, interaction_type='cat'):\n",
    "\n",
    "    # Define the vote types\n",
    "    democrat_votes = ['D', 'M', 'Z']\n",
    "    republican_votes = ['R', 'P', 'X']\n",
    "    early_votes = ['E', 'M', 'P']\n",
    "    absentee_votes = ['A', 'Z', 'X']\n",
    "\n",
    "    # Interaction terms for 2020\n",
    "   # survey_df['interaction_mult_2020'] = survey_df['CNSUS_PCTW'] * survey_df['TOD_PRES_R_2020_PREC']\n",
    "  #  survey_df['interaction_div_2020'] = survey_df['CNSUS_PCTW'] / survey_df['TOD_PRES_R_2020_PREC']\n",
    "   # survey_df['interaction_add_2020'] = survey_df['CNSUS_PCTW'] + survey_df['TOD_PRES_R_2020_PREC']\n",
    "\n",
    "    # Interaction terms for 2016\n",
    "  #  survey_df['interaction_mult_2016'] = survey_df['CNSUS_PCTW'] * survey_df['TOD_PRES_R_2016_PREC']\n",
    "  #  survey_df['interaction_div_2016'] = survey_df['CNSUS_PCTW'] / survey_df['TOD_PRES_R_2016_PREC']\n",
    "  #  survey_df['interaction_add_2016'] = survey_df['CNSUS_PCTW'] + survey_df['TOD_PRES_R_2016_PREC']\n",
    "\n",
    "    # Combined interaction terms\n",
    "   # survey_df['interaction_mult_combined'] = (survey_df['TOD_PRES_R_2016_PREC'] + survey_df['TOD_PRES_R_2020_PREC']) * survey_df['CNSUS_PCTW']\n",
    "\n",
    "    # Delta interaction term\n",
    "    survey_df['interaction_mult_delta'] = (survey_df['TOD_PRES_R_2020_PREC'] - survey_df['TOD_PRES_R_2016_PREC']) * survey_df['CNSUS_PCTW']\n",
    "\n",
    "    # Extend the list of columns to use in the model\n",
    "    columns_to_use.extend([\n",
    "      #   'interaction_div_2020',\n",
    "      #   'interaction_div_2016',  \n",
    "         'interaction_mult_delta',\n",
    "       #  'interaction_mult_2020',\n",
    "       #  'interaction_mult_2016'\n",
    "    ])\n",
    "\n",
    "    # Interaction terms for 2020 with respect to Democratic turnout\n",
    "   # survey_df['interaction_mult_D_2020'] = survey_df['CNSUS_PCTB'] * survey_df['TOD_PRES_D_2020_PREC']\n",
    "    survey_df['interaction_div_D_2020'] = survey_df['CNSUS_PCTB'] / survey_df['TOD_PRES_D_2020_PREC']\n",
    "   # survey_df['interaction_add_D_2020'] = survey_df['CNSUS_PCTB'] + survey_df['TOD_PRES_D_2020_PREC']\n",
    "\n",
    "    # Interaction terms for 2016 with respect to Democratic turnout\n",
    "   # survey_df['interaction_mult_D_2016'] = survey_df['CNSUS_PCTB'] * survey_df['TOD_PRES_D_2016_PREC']\n",
    "    survey_df['interaction_div_D_2016'] = survey_df['CNSUS_PCTB'] / survey_df['TOD_PRES_D_2016_PREC']\n",
    "   # survey_df['interaction_add_D_2016'] = survey_df['CNSUS_PCTB'] + survey_df['TOD_PRES_D_2016_PREC']\n",
    "\n",
    "    # Combined interaction terms for Democratic turnout\n",
    "    #survey_df['interaction_mult_D_combined'] = (survey_df['TOD_PRES_D_2016_PREC'] + survey_df['TOD_PRES_D_2020_PREC']) * survey_df['CNSUS_PCTB']\n",
    "\n",
    "    # Delta interaction term for Democratic turnout\n",
    "    survey_df['interaction_mult_D_delta'] = (survey_df['TOD_PRES_D_2020_PREC'] - survey_df['TOD_PRES_D_2016_PREC']) * survey_df['CNSUS_PCTB']\n",
    "\n",
    "    # Extend the list of columns to use in the model\n",
    "    columns_to_use.extend([\n",
    "         'interaction_div_D_2020',\n",
    "        'interaction_div_D_2016', \n",
    "        'interaction_mult_D_delta'\n",
    "    ])\n",
    "\n",
    "    survey_df['Years_Voted_Democrat'] = survey_df[['VTR_PPP04', 'VTR_PPP08', 'VTR_PPP12', 'VTR_PPP16', 'VTR_PPP20']].apply(lambda x: sum(x.isin(['D', 'M', 'Z'])), axis=1)\n",
    "    survey_df['Years_Voted_Republican'] = survey_df[['VTR_PPP04', 'VTR_PPP08', 'VTR_PPP12', 'VTR_PPP16', 'VTR_PPP20']].apply(lambda x: sum(x.isin(['R', 'P', 'X'])), axis=1)\n",
    "\n",
    "    columns_to_use.extend(['Years_Voted_Democrat', 'Years_Voted_Republican'])\n",
    "\n",
    "\n",
    "    #survey_df['Years_Absentee_Democrat'] = survey_df[['VTR_PPP04', 'VTR_PPP08', 'VTR_PPP12', 'VTR_PPP16', 'VTR_PPP20']].apply(lambda x: sum(x.isin(['Z'])), axis=1)\n",
    "    survey_df['Years_Early_Democrat'] = survey_df[['VTR_PPP04', 'VTR_PPP08', 'VTR_PPP12', 'VTR_PPP16', 'VTR_PPP20']].apply(lambda x: sum(x.isin(['M'])), axis=1)\n",
    "   # survey_df['Years_Absentee_Republican'] = survey_df[['VTR_PPP04', 'VTR_PPP08', 'VTR_PPP12', 'VTR_PPP16', 'VTR_PPP20']].apply(lambda x: sum(x.isin(['X'])), axis=1)\n",
    "    survey_df['Years_Early_Republican'] = survey_df[['VTR_PPP04', 'VTR_PPP08', 'VTR_PPP12', 'VTR_PPP16', 'VTR_PPP20']].apply(lambda x: sum(x.isin(['P'])), axis=1)\n",
    "\n",
    "    # 'Years_Absentee_Democrat', 'Years_Absentee_Republican',\n",
    "\n",
    "    columns_to_use.extend(['Years_Early_Democrat', 'Years_Early_Republican'])\n",
    "\n",
    "  #  primary_columns = ['VTR_PRI06', 'VTR_PRI10', 'VTR_PRI14', 'VTR_PRI16', 'VTR_PRI18', 'VTR_PRI20', 'VTR_PRI21', 'VTR_PRI22']\n",
    "   # survey_df['Years_Voted_Democrat_Primaries'] = survey_df[primary_columns].apply(lambda x: sum(x.isin(['D', 'M', 'Z'])), axis=1)\n",
    "   # survey_df['Years_Voted_Republican_Primaries'] = survey_df[primary_columns].apply(lambda x: sum(x.isin(['R', 'P', 'X'])), axis=1)\n",
    "   # survey_df['Years_Early_Democrat_Primaries'] = survey_df[primary_columns].apply(lambda x: sum(x.isin(['M'])), axis=1)\n",
    "   # survey_df['Years_Early_Republican_Primaries'] = survey_df[primary_columns].apply(lambda x: sum(x.isin(['P'])), axis=1)\n",
    "\n",
    "   # columns_to_use.extend(['Years_Voted_Democrat_Primaries', 'Years_Voted_Republican_Primaries', 'Years_Early_Democrat_Primaries', 'Years_Early_Republican_Primaries'])\n",
    "\n",
    "  #  for col in primary_columns:\n",
    "  #      columns_to_use.remove(col)\n",
    "    \n",
    "    # function to count specific vote types\n",
    "    def count_votes(vote_counts, vote_types):\n",
    "        return sum(vote_counts.get(vote_type, 0) for vote_type in vote_types)\n",
    "\n",
    "    # function to count longest streak for a party\n",
    "    def longest_streak(votes, party_votes):\n",
    "        streaks = [sum(1 for _ in g) for k, g in groupby(votes) if k in party_votes]\n",
    "        return max(streaks) if streaks else 0\n",
    "\n",
    "    # count early and absentee votes\n",
    "    survey_df['count_Early'] = survey_df.filter(like='VTR_GEN').apply(lambda row: count_votes(row.value_counts(), early_votes), axis=1)\n",
    "    survey_df['count_Absentee'] = survey_df.filter(like='VTR_GEN').apply(lambda row: count_votes(row.value_counts(), absentee_votes), axis=1)\n",
    "    columns_to_use.extend(['count_Early', 'count_Absentee'])\n",
    "\n",
    "\n",
    "\n",
    "    for prefix in ['VTR_GEN', 'VTR_PPP', 'VTR_PRI']:\n",
    "        survey_df[f'count_D_{prefix}'] = survey_df.filter(like=prefix).apply(lambda row: count_votes(row.value_counts(), democrat_votes), axis=1)\n",
    "        survey_df[f'count_R_{prefix}'] = survey_df.filter(like=prefix).apply(lambda row: count_votes(row.value_counts(), republican_votes), axis=1)\n",
    "        columns_to_use.extend([f'count_R_{prefix}'])\n",
    "        columns_to_use.extend([f'count_D_{prefix}'])\n",
    "           #[f'count_D_{prefix}', f'count_R_{prefix}'])\n",
    "\n",
    "        # Count longest streak of consistent voting for each party\n",
    "       # survey_df[f'longest_streak_D_{prefix}'] = survey_df.filter(like=prefix).apply(lambda row: longest_streak(row.tolist(), democrat_votes), axis=1)\n",
    "       # survey_df[f'longest_streak_R_{prefix}'] = survey_df.filter(like=prefix).apply(lambda row: longest_streak(row.tolist(), republican_votes), axis=1)\n",
    "        #columns_to_use.extend([f'longest_streak_D_{prefix}', f'longest_streak_R_{prefix}'])\n",
    "\n",
    "    #survey_df['recent_party_2022'] = survey_df['VTR_GEN22'].apply(lambda x: 'D' if x in democrat_votes else ('R' if x in republican_votes else 'Other'))\n",
    "    #survey_df['recent_party_2020'] = survey_df['VTR_GEN18'].apply(lambda x: 'D' if x in democrat_votes else ('R' if x in republican_votes else 'Other'))\n",
    "   # columns_to_use.extend(['recent_party_2022'])\n",
    "\n",
    "    survey_df['total_votes'] = survey_df.filter(like='VTR_').apply(lambda row: sum(row != 'N'), axis=1)\n",
    "    columns_to_use.append('total_votes')\n",
    "    #columns_to_use.remove(\"count_R_VTR_GEN\")\n",
    "\n",
    "    #feature_combinations = [\n",
    "    #['PRFL_LIBERAL_NEWS', 'PRFL_IMMIGRATION_REFORM'] ]\n",
    "\n",
    "    #survey_df = create_interaction_terms(survey_df, feature_combinations, interaction_type)\n",
    "    \n",
    "    # Add the new interaction term columns to your columns_to_use list\n",
    "    #new_columns = [\"_\".join(combination) + \"_interaction\" for combination in feature_combinations]\n",
    "   # columns_to_use.extend(new_columns)\n",
    "\n",
    "    # drop count_D_VTR_GEN\n",
    "   # columns_to_use.remove('count_D_VTR_GEN')\n",
    "\n",
    "    \n",
    "    return survey_df, columns_to_use\n",
    "\n",
    "\n",
    "\n",
    "survey_df, columns_to_use = feature_engineering_voting_data(survey_df, columns_to_use)"
   ]
  },
  {
   "cell_type": "code",
   "execution_count": 13,
   "metadata": {},
   "outputs": [],
   "source": [
    "from sklearn.tree import DecisionTreeClassifier, plot_tree\n",
    "\n",
    "def decision_tree_binning(df, target_var, feature_var, max_depth=3, remove_original=False, colums_to_use=None):\n",
    "    X = df[[feature_var]].copy()\n",
    "    y = df[target_var].copy()\n",
    "    \n",
    "    le = None  # Initialize LabelEncoder to None\n",
    "    \n",
    "    if np.issubdtype(X[feature_var].dtype, np.object_):\n",
    "        le = LabelEncoder()\n",
    "        X[feature_var] = le.fit_transform(X[feature_var])\n",
    "        \n",
    "    if np.issubdtype(y.dtype, np.object_):\n",
    "        le_target = LabelEncoder()\n",
    "        y = le_target.fit_transform(y)\n",
    "    \n",
    "    tree = DecisionTreeClassifier(max_depth=max_depth)\n",
    "    tree.fit(X, y)\n",
    "    \n",
    "    unique_values = np.sort(X[feature_var].unique())\n",
    "    tree_values = tree.tree_.threshold\n",
    "    bins = np.unique([val for val in tree_values if val != -2])\n",
    "    \n",
    "    if le:\n",
    "        bins = np.round(bins).astype(int)\n",
    "        bins = [b for b in bins if b in le.classes_]\n",
    "        bins = le.inverse_transform(bins)\n",
    "    \n",
    "    if len(bins) == 0:\n",
    "        raise ValueError(\"No valid bins found. Decision Tree may not have split the feature.\")\n",
    "    \n",
    "    bins = np.concatenate(([unique_values[0] - 1], bins, [unique_values[-1] + 1]))\n",
    "    bin_labels = range(len(bins) - 1)\n",
    "    \n",
    "    df[f'{feature_var}_bin'] = pd.cut(df[feature_var], bins=bins, labels=bin_labels, include_lowest=True)\n",
    "    \n",
    "    # Remove the original column if specified\n",
    "    if remove_original:\n",
    "        df.drop(columns=[feature_var], inplace=True)\n",
    "        # remove the column in columns_to_use\n",
    "        columns_to_use.remove(feature_var)\n",
    "    \n",
    "    plt.figure(figsize=(12, 8))\n",
    "    plot_tree(tree, filled=True, feature_names=[feature_var])\n",
    "    plt.title(f\"Decision Tree for Optimal Binning of {feature_var}\")\n",
    "    plt.show()\n",
    "    \n",
    "    return df\n",
    "\n",
    "#trgt = \"Q1_Candidate\"\n",
    "#feat = \"ZIP\"\n",
    "#survey_df = decision_tree_binning(survey_df, trgt, feat, max_depth=4, remove_original=True, colums_to_use=columns_to_use)\n"
   ]
  },
  {
   "cell_type": "code",
   "execution_count": 14,
   "metadata": {},
   "outputs": [],
   "source": [
    "# check dtypes of total_votes\n",
    "#print(survey_df.total_votes.dtypes)"
   ]
  },
  {
   "cell_type": "markdown",
   "metadata": {},
   "source": [
    "def count_switches(row):\n",
    "    switch_count = 0\n",
    "    prev_vote = None\n",
    "    for vote in row:\n",
    "        if prev_vote in democrat_votes and vote in republican_votes:\n",
    "            switch_count += 1\n",
    "        elif prev_vote in republican_votes and vote in democrat_votes:\n",
    "            switch_count += 1\n",
    "        prev_vote = vote\n",
    "    return switch_count\n",
    "\n",
    "survey_df['count_switches'] = survey_df.filter(like='VTR_GEN').apply(count_switches, axis=1)\n"
   ]
  },
  {
   "cell_type": "markdown",
   "metadata": {},
   "source": [
    "## Adding splitting out TOD"
   ]
  },
  {
   "cell_type": "code",
   "execution_count": 15,
   "metadata": {},
   "outputs": [],
   "source": [
    "#survey_df = survey_df[columns_to_use]\n",
    "\n",
    "# 'TOD_PRES_DIFF_2016_PREC','TOD_PRES_DIFF_2016'\n",
    "\n",
    "#split_cols = ['TOD_PRES_DIFF_2020_PREC']\n",
    "#for col in split_cols:\n",
    "    #print(survey_df[col].dtype)\n",
    "    #survey_df[col + '_num'] = survey_df[col].str.extract('(\\d+)').astype('float')\n",
    "    #survey_df[col + '_party'] = survey_df[col].str.extract('([RD])')\n",
    "    # append these new columsn to \"features_to_use\"\n",
    "   # features_to_use.append(col + '_num')\n",
    "   # features_to_use.append(col + '_party')\n",
    "   # columns_to_use.append(col + '_num')\n",
    "   # columns_to_use.append(col + '_party')\n",
    "    #columns_to_use.remove('TOD_PRES_DIFF_2020_PREC')\n",
    "\n",
    "# convert split_cols to int\n",
    "\n",
    "\n",
    "#survey_df[split_cols] = survey_df[split_cols].astype(int)\n",
    "\n",
    "# drop the split_cols\n",
    "#survey_df.drop(columns=split_cols, inplace=True)"
   ]
  },
  {
   "cell_type": "markdown",
   "metadata": {},
   "source": [
    "freq_cols = ['ZIP', 'STATE', 'AI_COUNTY_NAME']\n",
    "\n",
    "cols_tried = [\"LIFESTAGE_CLUSTER\", 'COUNTY_ST']\n",
    "\n",
    "for col in freq_cols:\n",
    "    freq_map = survey_df[col].value_counts(normalize=True)\n",
    "    survey_df[col + '_freq'] = survey_df[col].map(freq_map)\n",
    "    columns_to_use.append(col + '_freq')\n",
    "\n"
   ]
  },
  {
   "cell_type": "code",
   "execution_count": 16,
   "metadata": {},
   "outputs": [
    {
     "name": "stdout",
     "output_type": "stream",
     "text": [
      "['OTHER GOP' 'PRESIDENT DONALD TRUMP' 'PRESIDENT JOE BIDEN']\n",
      "[0 1 2]\n",
      "['OTHER GOP' 'PRESIDENT DONALD TRUMP' 'PRESIDENT JOE BIDEN']\n"
     ]
    }
   ],
   "source": [
    "survey_df = survey_df[columns_to_use]\n",
    "\n",
    "label_encoder = LabelEncoder()\n",
    "survey_df['Q1_Candidate'] = label_encoder.fit_transform(survey_df['Q1_Candidate'].astype(str))\n",
    "\n",
    "# print the class names for the target variable and corresponding labels\n",
    "print(label_encoder.classes_)\n",
    "print(label_encoder.transform(label_encoder.classes_))\n",
    "print(label_encoder.inverse_transform([0, 1, 2]))\n",
    "\n",
    "categorical_columns = survey_df.select_dtypes(include=['object', 'category']).columns.tolist()\n",
    "\n",
    "label_encoders = {}\n",
    "for categorical_col in categorical_columns:\n",
    "    survey_df.loc[:, categorical_col] = survey_df[categorical_col].fillna('missing').astype(str)\n",
    "    \n",
    "    le = LabelEncoder()\n",
    "    survey_df[categorical_col] = le.fit_transform(survey_df[categorical_col])\n",
    "    label_encoders[categorical_col] = le\n"
   ]
  },
  {
   "cell_type": "code",
   "execution_count": 17,
   "metadata": {},
   "outputs": [],
   "source": [
    "def fit_outlier_detection(X_train, column_names, remove_by='consensus', threshold=1):\n",
    "    fitted_models_dict = {}\n",
    "    transformer_dict = {}\n",
    "    \n",
    "    for column_name in column_names:\n",
    "        transformer = RobustScaler() if np.issubdtype(X_train[column_name].dtype, np.number) else OneHotEncoder(handle_unknown='ignore')\n",
    "        X_col = transformer.fit_transform(X_train[[column_name]])\n",
    "\n",
    "        models = {\n",
    "            'IsolationForest': IsolationForest(contamination=0.1),\n",
    "            'LocalOutlierFactor': LocalOutlierFactor(contamination=0.1, novelty=True),\n",
    "            'OneClassSVM': OneClassSVM(nu=0.1)\n",
    "        }\n",
    "\n",
    "        fitted_models = {}\n",
    "        for name, model in models.items():\n",
    "            fitted_models[name] = model.fit(X_col)\n",
    "\n",
    "        fitted_models_dict[column_name] = fitted_models\n",
    "        transformer_dict[column_name] = transformer\n",
    "\n",
    "    return fitted_models_dict, transformer_dict\n",
    "\n",
    "def apply_outlier_detection(X, fitted_models_dict, transformer_dict, column_names, remove_by='consensus', threshold=1):\n",
    "    outlier_indices = set()\n",
    "    \n",
    "    for column_name in column_names:\n",
    "        fitted_models = fitted_models_dict[column_name]\n",
    "        transformer = transformer_dict[column_name]\n",
    "        X_col = transformer.transform(X[[column_name]])\n",
    "\n",
    "        results = {}\n",
    "        for name, model in fitted_models.items():\n",
    "            y_pred = model.predict(X_col)\n",
    "            y_pred = [1 if x == -1 else 0 for x in y_pred]\n",
    "            results[name] = y_pred\n",
    "\n",
    "        consensus = np.sum(list(results.values()), axis=0)\n",
    "        current_outliers = np.where(consensus >= threshold)[0]\n",
    "        outlier_indices.update(current_outliers)\n",
    "\n",
    "    return X.drop(X.index[list(outlier_indices)])"
   ]
  },
  {
   "cell_type": "code",
   "execution_count": 18,
   "metadata": {},
   "outputs": [],
   "source": [
    "import matplotlib.pyplot as plt\n",
    "import numpy as np\n",
    "from sklearn.base import BaseEstimator,TransformerMixin\n",
    "from typing import List\n",
    "from sklearn.cluster import KMeans\n",
    "from category_encoders import TargetEncoder\n",
    "\n",
    "class TargetMeanEncoder(BaseEstimator, TransformerMixin):\n",
    "    def __init__(self, columns):\n",
    "        self.columns = columns\n",
    "        self.mean_map = {}\n",
    "        \n",
    "    def fit(self, X, y):\n",
    "        X_copy = X.copy()\n",
    "        X_copy['target'] = y\n",
    "        for col in self.columns:\n",
    "            self.mean_map[col] = X_copy.groupby(col)['target'].mean()\n",
    "        return self\n",
    "    \n",
    "    def transform(self, X):\n",
    "        X_copy = X.copy()\n",
    "        for col in self.columns:\n",
    "            X_copy[col] = X_copy[col].map(self.mean_map[col])\n",
    "        return X_copy\n",
    "\n",
    "def evaluate_model(model, X_test, y_test):\n",
    "    \"\"\"\n",
    "    Evaluate the model on various metrics and return a dictionary of results.\n",
    "    \"\"\"\n",
    "    y_pred = model.predict(X_test)\n",
    "    return {\n",
    "        'Accuracy': accuracy_score(y_test, y_pred),\n",
    "        'Precision': precision_score(y_test, y_pred, average='weighted'),\n",
    "        'Recall': recall_score(y_test, y_pred, average='weighted'),\n",
    "        'F1 Score': f1_score(y_test, y_pred, average='weighted')\n",
    "    }\n",
    "\n",
    "def plot_confusion_matrix(y_true, y_pred, title=''):\n",
    "    cm = confusion_matrix(y_true, y_pred)\n",
    "    sns.heatmap(cm, annot=True, fmt='d', cmap='Blues')\n",
    "    plt.xlabel('Predicted Label')\n",
    "    plt.ylabel('True Label')\n",
    "    plt.title(title)\n",
    "    plt.show()#\n",
    "\n",
    "def plot_logistic_regression_coefficients(model: BaseEstimator, feature_names: List[str], \n",
    "                                                      title: str = 'Logistic Regression Coefficients'):\n",
    "    \n",
    "    # Extract coefficients from the logistic regression model\n",
    "    coef = model.coef_[0]\n",
    "    \n",
    "    # Sort coefficients and feature names by the absolute values of coefficients\n",
    "    sorted_indices = np.argsort(np.abs(coef))[::-1]\n",
    "    sorted_coef = coef[sorted_indices]\n",
    "    sorted_feature_names = [feature_names[i] for i in sorted_indices]\n",
    "    \n",
    "    # Create DataFrame for Plotly\n",
    "    df = pd.DataFrame({\n",
    "        'Feature': sorted_feature_names,\n",
    "        'Coefficient': sorted_coef\n",
    "    })\n",
    "    \n",
    "    # Create interactive vertical bar chart\n",
    "    fig = px.bar(df, y='Feature', x='Coefficient', orientation='h', text='Coefficient')\n",
    "    \n",
    "    # Customize appearance\n",
    "    fig.update_layout(\n",
    "        title=title,\n",
    "        xaxis_title='Coefficient Value',\n",
    "        yaxis_title='Feature',\n",
    "        yaxis_categoryorder='total ascending'\n",
    "    )\n",
    "    \n",
    "    # Show the plot\n",
    "    fig.show()\n",
    "\n",
    "def plot_feature_importance(model: BaseEstimator, feature_names: List[str], \n",
    "                                        title: str = 'Feature Importances', n_features: int = None):\n",
    "    importances = None\n",
    "    \n",
    "    # Handle different types of models\n",
    "    if hasattr(model, 'feature_importances_'):\n",
    "        importances = model.feature_importances_\n",
    "    elif hasattr(model, 'coef_'):\n",
    "        importances = np.abs(model.coef_[0])\n",
    "    else:\n",
    "        print(f\"{title} does not support feature importances.\")\n",
    "        return\n",
    "\n",
    "    sorted_indices = np.argsort(importances)[::-1]\n",
    "    if n_features:\n",
    "        sorted_indices = sorted_indices[:n_features]\n",
    "    sorted_importances = importances[sorted_indices]\n",
    "    sorted_feature_names = [feature_names[i] for i in sorted_indices]\n",
    "    \n",
    "    df = pd.DataFrame({\n",
    "        'Feature': sorted_feature_names,\n",
    "        'Importance': sorted_importances\n",
    "    })\n",
    "    \n",
    "    fig = px.bar(df, y='Feature', x='Importance', orientation='h', text='Importance')\n",
    "    \n",
    "    fig.update_layout(\n",
    "        title=title,\n",
    "        xaxis_title='Importance Value',\n",
    "        yaxis_title='Feature',\n",
    "        yaxis_categoryorder='total ascending'\n",
    "    )\n",
    "    \n",
    "    fig.show()\n",
    "\n",
    "def plot_svm_feature_importance(model, feature_names, title='SVM - Feature Importance'):\n",
    "    \"\"\"\n",
    "    Plot feature importance for SVM. Note that this works well for linear SVM.\n",
    "    For non-linear SVM, the interpretation is not straightforward.\n",
    "    \"\"\"\n",
    "    try:\n",
    "        # If the SVM is linear, we can directly get the coefficients\n",
    "        coef = model.coef_[0]\n",
    "    except AttributeError:\n",
    "        print(\"The model does not expose 'coef_' attribute. This method works only for linear kernels.\")\n",
    "        return\n",
    "\n",
    "    # Sort coefficients and feature names by the absolute values of coefficients\n",
    "    sorted_indices = np.argsort(np.abs(coef))[::-1]\n",
    "    sorted_coef = coef[sorted_indices]\n",
    "    sorted_feature_names = [feature_names[i] for i in sorted_indices]\n",
    "    \n",
    "    # Create DataFrame for plotting\n",
    "    df = pd.DataFrame({\n",
    "        'Feature': sorted_feature_names,\n",
    "        'Coefficient': sorted_coef\n",
    "    })\n",
    "    \n",
    "    # Plotting\n",
    "    plt.figure(figsize=(10, 8))\n",
    "    plt.barh(df['Feature'], df['Coefficient'], align='center')\n",
    "    plt.xlabel('Coefficient Value')\n",
    "    plt.ylabel('Feature')\n",
    "    plt.title(title)\n",
    "    plt.show()\n",
    "\n",
    "class KMeansTransformer(BaseEstimator, TransformerMixin):\n",
    "    def __init__(self, n_clusters):\n",
    "        self.n_clusters = n_clusters\n",
    "        self.kmeans = KMeans(n_clusters=self.n_clusters, n_init='auto')\n",
    "    \n",
    "    def fit(self, X, y=None):\n",
    "        self.kmeans.fit(X)\n",
    "        return self\n",
    "    \n",
    "    def transform(self, X):\n",
    "        labels = self.kmeans.predict(X)\n",
    "        return np.c_[X, labels]\n",
    "\n",
    "\n",
    "from category_encoders import TargetEncoder\n",
    "\n",
    "def target_encode_columns(X_train, X_test, y_train, columns_to_encode):\n",
    "    encoder = TargetEncoder()\n",
    "    X_train_encoded = X_train.copy()\n",
    "    X_test_encoded = X_test.copy()\n",
    "    encoder.fit(X_train[columns_to_encode], y_train)\n",
    "    X_train_encoded[columns_to_encode] = encoder.transform(X_train[columns_to_encode])\n",
    "    X_test_encoded[columns_to_encode] = encoder.transform(X_test[columns_to_encode])\n",
    "    \n",
    "    return X_train_encoded, X_test_encoded\n",
    "\n",
    "def prepare_and_fit_model(df, target_col, model_type='All', feature_importance=False, \n",
    "                          scale_data=False, evaluate_models=False, use_grid_search=False, \n",
    "                          feature_engineering=None, add_stats=False):\n",
    "    print(\"Starting data preparation...\")\n",
    "\n",
    "    df = df.drop(columns=['Unnamed: 0', \"RECORD_ID\"], errors='ignore')\n",
    "    # Identify the prefix of the chosen target column\n",
    "    target_prefix = \"_\".join(target_col.split(\"_\")[:-1])\n",
    "    \n",
    "    # Drop all other questionnaire columns\n",
    "    other_q_cols = [col for col in df.columns if col.startswith(\"Q\") and not col.startswith(target_prefix)]\n",
    "    df = df.drop(columns=other_q_cols)\n",
    "    \n",
    "    if not np.issubdtype(df[target_col].dtype, np.number):\n",
    "        le = LabelEncoder()\n",
    "        df[target_col] = le.fit_transform(df[target_col])\n",
    "        # print codes of the target column after encoding\n",
    "        print(le.classes_)\n",
    "\n",
    "    num_features = df.select_dtypes(include=['int64', 'float64']).columns.tolist()\n",
    "    cat_features = df.select_dtypes(include=['object']).columns.tolist()\n",
    "\n",
    "    if target_col in num_features: \n",
    "        num_features.remove(target_col)\n",
    "    if target_col in cat_features: \n",
    "        cat_features.remove(target_col)\n",
    "\n",
    "    num_transformer = Pipeline(steps=[('imputer', SimpleImputer(strategy='mean'))])\n",
    "    cat_transformer = Pipeline(steps=[('imputer', SimpleImputer(strategy='most_frequent'))])\n",
    "\n",
    "    \n",
    "    kmeans_n_clusters = 8\n",
    "    feature_engineering_steps = []\n",
    "    pcs = 7\n",
    "\n",
    "    if feature_engineering == 'KMeans':\n",
    "        feature_engineering_steps.append(('kmeans', KMeansTransformer(n_clusters=kmeans_n_clusters)))\n",
    "    elif feature_engineering == 'PCA':\n",
    "        feature_engineering_steps.append(('pca', PCA(n_components=pcs, random_state=42)))  \n",
    "    elif feature_engineering == 'BOTH':\n",
    "        feature_engineering_steps.append(('kmeans', KMeansTransformer(n_clusters=kmeans_n_clusters)))\n",
    "        feature_engineering_steps.append(('pca', PCA(n_components=pcs, random_state=42)))  \n",
    "\n",
    "    if scale_data:\n",
    "        num_transformer = Pipeline(steps=[\n",
    "            ('imputer', SimpleImputer(strategy='mean')),\n",
    "            ('scaler', StandardScaler())\n",
    "        ] + feature_engineering_steps)\n",
    "    else:\n",
    "        num_transformer = Pipeline(steps=[\n",
    "            ('imputer', SimpleImputer(strategy='mean'))\n",
    "        ] + feature_engineering_steps)\n",
    "\n",
    "    # Your existing ColumnTransformer\n",
    "    preprocessor = ColumnTransformer(\n",
    "        transformers=[\n",
    "            ('num', num_transformer, num_features),\n",
    "            ('cat', cat_transformer, cat_features)\n",
    "        ])\n",
    "\n",
    "    models = {}\n",
    "    model_types_to_fit = []\n",
    "\n",
    "    if 'RF' in model_type or 'All' in model_type: \n",
    "        model_types_to_fit.append('RF')\n",
    "    if 'XGBoost' in model_type or 'All' in model_type: \n",
    "        model_types_to_fit.append('XGBoost')\n",
    "    if 'LogisticRegression' in model_type or 'All' in model_type: \n",
    "        model_types_to_fit.append('LogisticRegression')\n",
    "    if 'SVM' in model_type or 'All' in model_type: \n",
    "        model_types_to_fit.append('SVM')\n",
    "    if 'GBC' in model_type or 'All' in model_type:  \n",
    "        model_types_to_fit.append('GBC')\n",
    "    if 'Ensemble' in model_type or 'All' in model_type: \n",
    "        model_types_to_fit.append('Ensemble')\n",
    "    if 'Stacked' in model_type or 'All' in model_type: \n",
    "        model_types_to_fit.append('Stacked')\n",
    "\n",
    "    print(\"Starting model training...\")\n",
    "    evaluation_results = {}\n",
    "\n",
    "    X = df.drop(columns=[target_col])\n",
    "    y = df[target_col]\n",
    "    X_train, X_test, y_train, y_test = train_test_split(X, y, test_size=0.2, random_state=42)\n",
    "\n",
    "    print(type(X_train))\n",
    "    print(type(X_test))\n",
    "    if add_stats:\n",
    "        # Temporarily add the target column back to X_train and X_test for the merge\n",
    "        X_train_temp = X_train.copy()\n",
    "        X_train_temp[y_train.name] = y_train\n",
    "\n",
    "        X_test_temp = X_test.copy()\n",
    "        X_test_temp[y_train.name] = y_test\n",
    "\n",
    "        # Calculate aggregate statistics using y_train.name as the groupby column\n",
    "        agg_stats = X_train_temp.groupby(y_train.name)['TOD_PRES_R_2020_PREC', 'TOD_PRES_R_2016_PREC', \"AGE\", \"HH_SIZE\"].agg(['mean', 'std', 'min', 'max']).reset_index()\n",
    "\n",
    "        # Rename columns\n",
    "        agg_stats.columns = [y_train.name, 'TOD_PRES_R_2020_PREC_mean', 'TOD_PRES_R_2020_PREC_std', 'TOD_PRES_R_2020_PREC_min', 'TOD_PRES_R_2020_PREC_max',\n",
    "                            'TOD_PRES_R_2016_PREC_mean', 'TOD_PRES_R_2016_PREC_std', 'TOD_PRES_R_2016_PREC_min', 'TOD_PRES_R_2016_PREC_max',\n",
    "                            'AGE_mean', 'AGE_std', 'AGE_min', 'AGE_max',\n",
    "                            'HH_SIZE_mean', 'HH_SIZE_std', 'HH_SIZE_min', 'HH_SIZE_max']\n",
    "\n",
    "        # Merge these statistics back into the temporary training and test sets\n",
    "        X_train_temp = pd.merge(X_train_temp, agg_stats, on=y_train.name, how='left')\n",
    "        X_test_temp = pd.merge(X_test_temp, agg_stats, on=y_train.name, how='left')\n",
    "\n",
    "        # Remove the temporarily added target column to get the final X_train and X_test\n",
    "        X_train = X_train_temp.drop(columns=[y_train.name])\n",
    "        X_test = X_test_temp.drop(columns=[y_train.name])\n",
    "\n",
    "    # Initialize an empty dictionary to store the trained models\n",
    "    evaluation_results = {}\n",
    "    classification_reports_dict = {}\n",
    "    best_params_dict = {}\n",
    "    # Loop through the specified models to fit\n",
    "    for model_type in tqdm(model_types_to_fit):\n",
    "        clf = None  # Reset classifier\n",
    "\n",
    "        if model_type == 'RF':\n",
    "            clf = Pipeline(steps=[('preprocessor', preprocessor),\n",
    "                                ('classifier', RandomForestClassifier(random_state=42))])\n",
    "        elif model_type == 'XGBoost':\n",
    "            clf = Pipeline(steps=[('preprocessor', preprocessor),\n",
    "                                ('classifier', XGBClassifier(random_state=42))])\n",
    "        elif model_type == 'GBC':\n",
    "            clf = Pipeline(steps=[('preprocessor', preprocessor),\n",
    "                                ('classifier', GradientBoostingClassifier(random_state=42))])\n",
    "        elif model_type == 'LogisticRegression':\n",
    "            clf = Pipeline(steps=[('preprocessor', preprocessor),\n",
    "                                ('classifier', LogisticRegression(penalty='l1', solver='liblinear', C=1.0, random_state=42))])\n",
    "        elif model_type == 'SVM':\n",
    "            clf = Pipeline(steps=[('preprocessor', preprocessor),\n",
    "                                ('classifier',  SVC(C=1.0, kernel='rbf', random_state=42))])\n",
    "        elif model_type == 'Ensemble':\n",
    "            clf = Pipeline(steps=[('preprocessor', preprocessor),\n",
    "                              ('classifier', VotingClassifier(estimators=[\n",
    "                                  ('RF', RandomForestClassifier(random_state=42)),\n",
    "                                  ('XGBoost', XGBClassifier(random_state=42)),\n",
    "                                  ('LogisticRegression', LogisticRegression(penalty='l1', solver='liblinear', C=1.0, random_state=42)),\n",
    "                                  ('SVM', SVC(C=1.0, kernel='rbf', random_state=42, probability=True)),\n",
    "                                  ('GBC', GradientBoostingClassifier(random_state=42))],\n",
    "                              voting='soft'))])\n",
    "        elif model_type == 'Stacked':\n",
    "             clf = Pipeline(steps=[('preprocessor', preprocessor),\n",
    "                              ('classifier', StackingClassifier(estimators=[\n",
    "                                  ('RF', RandomForestClassifier(random_state=42)),\n",
    "                                  ('XGBoost', XGBClassifier(random_state=42)),\n",
    "                                  ('LogisticRegression', LogisticRegression(penalty='l1', solver='liblinear', C=1.0, random_state=42)),\n",
    "                                  ('SVM', SVC(C=1.0, kernel='linear',random_state=42,probability=True)),\n",
    "                                  ('GBC', GradientBoostingClassifier(random_state=42))],\n",
    "                              final_estimator=LogisticRegression(penalty='l1', solver='liblinear', C=1.0, random_state=42)))])\n",
    "        \n",
    "        best_params_dict = {}\n",
    "        if clf:\n",
    "            if use_grid_search:\n",
    "                param_grids = {\n",
    "                                'RF': {\n",
    "                                    'classifier__n_estimators': [50, 100, 200, 300],\n",
    "                                    'classifier__max_depth': [None, 10, 20, 30, 40],\n",
    "                                    'classifier__min_samples_split': [2, 5, 10, 15],\n",
    "                                    'classifier__min_samples_leaf': [1, 2, 5]\n",
    "                                },\n",
    "                                'XGBoost': {\n",
    "                                    'classifier__n_estimators': [50, 100, 200, 300],\n",
    "                                    'classifier__learning_rate': [0.001, 0.01, 0.1, 0.2],\n",
    "                                    'classifier__max_depth': [3, 4, 5, 6],\n",
    "                                    'classifier__subsample': [0.7, 0.8, 0.9, 1.0],\n",
    "                                    'classifier__colsample_bytree': [0.6, 0.7, 0.8, 0.9, 1.0]\n",
    "                                },\n",
    "                                'GBC': {\n",
    "                                    'classifier__n_estimators': [50, 100, 200, 300],\n",
    "                                    'classifier__learning_rate': [0.001, 0.01, 0.1, 0.2],\n",
    "                                    'classifier__max_depth': [3, 4, 5, 6],\n",
    "                                    'classifier__min_samples_split': [2, 3, 4, 5],\n",
    "                                    'classifier__min_samples_leaf': [1, 2, 3, 4]\n",
    "                                },\n",
    "                                'LogisticRegression': {\n",
    "                                    'classifier__penalty': ['l1', 'l2', 'elasticnet', 'none'],\n",
    "                                    'classifier__C': [0.001, 0.01, 0.1, 0.5, 1, 5, 10],\n",
    "                                    'classifier__solver': ['newton-cg', 'lbfgs', 'liblinear', 'sag', 'saga']\n",
    "                                },\n",
    "                                'SVM': {\n",
    "                                    'classifier__C': [0.001, 0.01, 0.1, 1, 10, 100],\n",
    "                                    'classifier__kernel': ['rbf', 'linear', 'poly', 'sigmoid'],\n",
    "                                    'classifier__gamma': ['scale', 'auto']\n",
    "                                }\n",
    "                                        }\n",
    "\n",
    "                \n",
    "                grid_search = GridSearchCV(clf, param_grids[model_type], cv=5, verbose=3, n_jobs=-1)\n",
    "                grid_search.fit(X_train, y_train)\n",
    "                clf = grid_search.best_estimator_\n",
    "                print(f\"Best parameters for {model_type}: {grid_search.best_params_}\")\n",
    "                #if 'kmeans_cluster_label' not in num_features:\n",
    "                  #  num_features.append('kmeans_cluster_label')\n",
    "\n",
    "                best_params_dict[model_type] = grid_search.best_params_\n",
    "                print(f\"Best parameters for {model_type}: {grid_search.best_params_}\")\n",
    "\n",
    "                models[model_type] = clf  # the best estimator is already fitted\n",
    "                print(f\"{model_type} model trained.\")\n",
    "            else:\n",
    "                clf.fit(X_train, y_train)\n",
    "                models[model_type] = clf\n",
    "                print(f\"{model_type} model trained.\")\n",
    "                #print(clf.named_steps)\n",
    "                transformed_X_train = clf.named_steps['preprocessor'].transform(X_train)\n",
    "                print(\"Shape of transformed_X_train:\", transformed_X_train.shape)\n",
    "\n",
    "                if feature_engineering in ['PCA', 'BOTH']:\n",
    "                    transformed_X_train_df = pd.DataFrame(transformed_X_train, columns=['PCA1', 'PCA2', \"PCA3\", \"PCA4\", \"PCA5\", \"PCA6\", \"PCA7\"])\n",
    "                elif feature_engineering in ['KMeans']:\n",
    "                    transformed_X_train_df = pd.DataFrame(transformed_X_train, columns=['kmeans_cluster'])\n",
    "\n",
    "                transformed_X_train_df['target_class'] = y_train.reset_index(drop=True)\n",
    "\n",
    "            if evaluate_models:\n",
    "                eval_metrics = evaluate_model(clf, X_test, y_test)\n",
    "                evaluation_results[model_type] = eval_metrics\n",
    "                print(f\"Evaluation metrics for {model_type}: {eval_metrics}\")\n",
    "\n",
    "                y_pred = clf.predict(X_test)\n",
    "                report = classification_report(y_test, y_pred, output_dict=True)\n",
    "                classification_reports_dict[model_type] = report\n",
    "                report_str = classification_report(y_test, y_pred)\n",
    "                print(f\"Classification Report for {model_type}:\\n{report}\")\n",
    "\n",
    "            if feature_importance:\n",
    "                feature_names = num_features + cat_features\n",
    "                feature_names.append('kmeans_cluster')  # Add the new KMeans feature name\n",
    "                if model_type in ['RF', 'XGBoost', 'GBC']:\n",
    "                    plot_feature_importance(clf.named_steps['classifier'], feature_names, title=f'{model_type} - Feature Importance')\n",
    "                elif model_type == 'LogisticRegression':\n",
    "                    plot_logistic_regression_coefficients(clf.named_steps['classifier'], feature_names, title=f'{model_type} - Coefficients')\n",
    "                elif model_type == 'SVM':\n",
    "                    plot_svm_feature_importance(clf.named_steps['classifier'], feature_names, title=f'{model_type} - Feature Importance')\n",
    "                elif model_type in ['Ensemble', 'Stacked']:\n",
    "                    # Handle ensemble feature importance here (either aggregate or per-model)\n",
    "                    print(\"Feature importance for ensembles needs special handling.\")\n",
    "                else:\n",
    "                    print(f\"Feature importance not available for {model_type}\")\n",
    "\n",
    "\n",
    "    print(\"Model training complete.\")\n",
    "    if evaluate_models:\n",
    "        return models, evaluation_results, classification_reports_dict, best_params_dict, transformed_X_train_df , X_train, y_train, X_test, y_test\n",
    "    else:\n",
    "        return models, transformed_X_train_df"
   ]
  },
  {
   "cell_type": "code",
   "execution_count": 19,
   "metadata": {},
   "outputs": [
    {
     "name": "stdout",
     "output_type": "stream",
     "text": [
      "Starting data preparation...\n",
      "Starting model training...\n",
      "<class 'pandas.core.frame.DataFrame'>\n",
      "<class 'pandas.core.frame.DataFrame'>\n"
     ]
    },
    {
     "name": "stderr",
     "output_type": "stream",
     "text": [
      "  0%|          | 0/7 [00:00<?, ?it/s]"
     ]
    },
    {
     "name": "stdout",
     "output_type": "stream",
     "text": [
      "RF model trained.\n",
      "Shape of transformed_X_train: (1079, 7)\n",
      "Evaluation metrics for RF: {'Accuracy': 0.5148148148148148, 'Precision': 0.4940543111797663, 'Recall': 0.5148148148148148, 'F1 Score': 0.5020648601289993}\n",
      "Classification Report for RF:\n",
      "{'0': {'precision': 0.22, 'recall': 0.15942028985507245, 'f1-score': 0.1848739495798319, 'support': 69}, '1': {'precision': 0.4824561403508772, 'recall': 0.5612244897959183, 'f1-score': 0.5188679245283019, 'support': 98}, '2': {'precision': 0.6886792452830188, 'recall': 0.7087378640776699, 'f1-score': 0.6985645933014353, 'support': 103}, 'accuracy': 0.5148148148148148, 'macro avg': {'precision': 0.46371179521129874, 'recall': 0.4764608812428868, 'f1-score': 0.46743548913652305, 'support': 270}, 'weighted avg': {'precision': 0.4940543111797663, 'recall': 0.5148148148148148, 'f1-score': 0.5020648601289993, 'support': 270}}\n"
     ]
    },
    {
     "data": {
      "application/vnd.plotly.v1+json": {
       "config": {
        "plotlyServerURL": "https://plot.ly"
       },
       "data": [
        {
         "alignmentgroup": "True",
         "hovertemplate": "Importance=%{text}<br>Feature=%{y}<extra></extra>",
         "legendgroup": "",
         "marker": {
          "color": "#636efa",
          "pattern": {
           "shape": ""
          }
         },
         "name": "",
         "offsetgroup": "",
         "orientation": "h",
         "showlegend": false,
         "text": [
          0.2350231191623437,
          0.13897465183465502,
          0.1335376289991186,
          0.1274648182892157,
          0.12468393774048953,
          0.12153513708345959,
          0.11878070689071787
         ],
         "textposition": "auto",
         "type": "bar",
         "x": [
          0.2350231191623437,
          0.13897465183465502,
          0.1335376289991186,
          0.1274648182892157,
          0.12468393774048953,
          0.12153513708345959,
          0.11878070689071787
         ],
         "xaxis": "x",
         "y": [
          "AGE",
          "CNSUS_PCTW",
          "CNSUS_PCTM",
          "CNSUS_PCTA",
          "CNSUS_PCTO",
          "EDUCATION",
          "CNSUS_PCTH"
         ],
         "yaxis": "y"
        }
       ],
       "layout": {
        "barmode": "relative",
        "legend": {
         "tracegroupgap": 0
        },
        "margin": {
         "t": 60
        },
        "template": {
         "data": {
          "bar": [
           {
            "error_x": {
             "color": "#2a3f5f"
            },
            "error_y": {
             "color": "#2a3f5f"
            },
            "marker": {
             "line": {
              "color": "#E5ECF6",
              "width": 0.5
             },
             "pattern": {
              "fillmode": "overlay",
              "size": 10,
              "solidity": 0.2
             }
            },
            "type": "bar"
           }
          ],
          "barpolar": [
           {
            "marker": {
             "line": {
              "color": "#E5ECF6",
              "width": 0.5
             },
             "pattern": {
              "fillmode": "overlay",
              "size": 10,
              "solidity": 0.2
             }
            },
            "type": "barpolar"
           }
          ],
          "carpet": [
           {
            "aaxis": {
             "endlinecolor": "#2a3f5f",
             "gridcolor": "white",
             "linecolor": "white",
             "minorgridcolor": "white",
             "startlinecolor": "#2a3f5f"
            },
            "baxis": {
             "endlinecolor": "#2a3f5f",
             "gridcolor": "white",
             "linecolor": "white",
             "minorgridcolor": "white",
             "startlinecolor": "#2a3f5f"
            },
            "type": "carpet"
           }
          ],
          "choropleth": [
           {
            "colorbar": {
             "outlinewidth": 0,
             "ticks": ""
            },
            "type": "choropleth"
           }
          ],
          "contour": [
           {
            "colorbar": {
             "outlinewidth": 0,
             "ticks": ""
            },
            "colorscale": [
             [
              0,
              "#0d0887"
             ],
             [
              0.1111111111111111,
              "#46039f"
             ],
             [
              0.2222222222222222,
              "#7201a8"
             ],
             [
              0.3333333333333333,
              "#9c179e"
             ],
             [
              0.4444444444444444,
              "#bd3786"
             ],
             [
              0.5555555555555556,
              "#d8576b"
             ],
             [
              0.6666666666666666,
              "#ed7953"
             ],
             [
              0.7777777777777778,
              "#fb9f3a"
             ],
             [
              0.8888888888888888,
              "#fdca26"
             ],
             [
              1,
              "#f0f921"
             ]
            ],
            "type": "contour"
           }
          ],
          "contourcarpet": [
           {
            "colorbar": {
             "outlinewidth": 0,
             "ticks": ""
            },
            "type": "contourcarpet"
           }
          ],
          "heatmap": [
           {
            "colorbar": {
             "outlinewidth": 0,
             "ticks": ""
            },
            "colorscale": [
             [
              0,
              "#0d0887"
             ],
             [
              0.1111111111111111,
              "#46039f"
             ],
             [
              0.2222222222222222,
              "#7201a8"
             ],
             [
              0.3333333333333333,
              "#9c179e"
             ],
             [
              0.4444444444444444,
              "#bd3786"
             ],
             [
              0.5555555555555556,
              "#d8576b"
             ],
             [
              0.6666666666666666,
              "#ed7953"
             ],
             [
              0.7777777777777778,
              "#fb9f3a"
             ],
             [
              0.8888888888888888,
              "#fdca26"
             ],
             [
              1,
              "#f0f921"
             ]
            ],
            "type": "heatmap"
           }
          ],
          "heatmapgl": [
           {
            "colorbar": {
             "outlinewidth": 0,
             "ticks": ""
            },
            "colorscale": [
             [
              0,
              "#0d0887"
             ],
             [
              0.1111111111111111,
              "#46039f"
             ],
             [
              0.2222222222222222,
              "#7201a8"
             ],
             [
              0.3333333333333333,
              "#9c179e"
             ],
             [
              0.4444444444444444,
              "#bd3786"
             ],
             [
              0.5555555555555556,
              "#d8576b"
             ],
             [
              0.6666666666666666,
              "#ed7953"
             ],
             [
              0.7777777777777778,
              "#fb9f3a"
             ],
             [
              0.8888888888888888,
              "#fdca26"
             ],
             [
              1,
              "#f0f921"
             ]
            ],
            "type": "heatmapgl"
           }
          ],
          "histogram": [
           {
            "marker": {
             "pattern": {
              "fillmode": "overlay",
              "size": 10,
              "solidity": 0.2
             }
            },
            "type": "histogram"
           }
          ],
          "histogram2d": [
           {
            "colorbar": {
             "outlinewidth": 0,
             "ticks": ""
            },
            "colorscale": [
             [
              0,
              "#0d0887"
             ],
             [
              0.1111111111111111,
              "#46039f"
             ],
             [
              0.2222222222222222,
              "#7201a8"
             ],
             [
              0.3333333333333333,
              "#9c179e"
             ],
             [
              0.4444444444444444,
              "#bd3786"
             ],
             [
              0.5555555555555556,
              "#d8576b"
             ],
             [
              0.6666666666666666,
              "#ed7953"
             ],
             [
              0.7777777777777778,
              "#fb9f3a"
             ],
             [
              0.8888888888888888,
              "#fdca26"
             ],
             [
              1,
              "#f0f921"
             ]
            ],
            "type": "histogram2d"
           }
          ],
          "histogram2dcontour": [
           {
            "colorbar": {
             "outlinewidth": 0,
             "ticks": ""
            },
            "colorscale": [
             [
              0,
              "#0d0887"
             ],
             [
              0.1111111111111111,
              "#46039f"
             ],
             [
              0.2222222222222222,
              "#7201a8"
             ],
             [
              0.3333333333333333,
              "#9c179e"
             ],
             [
              0.4444444444444444,
              "#bd3786"
             ],
             [
              0.5555555555555556,
              "#d8576b"
             ],
             [
              0.6666666666666666,
              "#ed7953"
             ],
             [
              0.7777777777777778,
              "#fb9f3a"
             ],
             [
              0.8888888888888888,
              "#fdca26"
             ],
             [
              1,
              "#f0f921"
             ]
            ],
            "type": "histogram2dcontour"
           }
          ],
          "mesh3d": [
           {
            "colorbar": {
             "outlinewidth": 0,
             "ticks": ""
            },
            "type": "mesh3d"
           }
          ],
          "parcoords": [
           {
            "line": {
             "colorbar": {
              "outlinewidth": 0,
              "ticks": ""
             }
            },
            "type": "parcoords"
           }
          ],
          "pie": [
           {
            "automargin": true,
            "type": "pie"
           }
          ],
          "scatter": [
           {
            "fillpattern": {
             "fillmode": "overlay",
             "size": 10,
             "solidity": 0.2
            },
            "type": "scatter"
           }
          ],
          "scatter3d": [
           {
            "line": {
             "colorbar": {
              "outlinewidth": 0,
              "ticks": ""
             }
            },
            "marker": {
             "colorbar": {
              "outlinewidth": 0,
              "ticks": ""
             }
            },
            "type": "scatter3d"
           }
          ],
          "scattercarpet": [
           {
            "marker": {
             "colorbar": {
              "outlinewidth": 0,
              "ticks": ""
             }
            },
            "type": "scattercarpet"
           }
          ],
          "scattergeo": [
           {
            "marker": {
             "colorbar": {
              "outlinewidth": 0,
              "ticks": ""
             }
            },
            "type": "scattergeo"
           }
          ],
          "scattergl": [
           {
            "marker": {
             "colorbar": {
              "outlinewidth": 0,
              "ticks": ""
             }
            },
            "type": "scattergl"
           }
          ],
          "scattermapbox": [
           {
            "marker": {
             "colorbar": {
              "outlinewidth": 0,
              "ticks": ""
             }
            },
            "type": "scattermapbox"
           }
          ],
          "scatterpolar": [
           {
            "marker": {
             "colorbar": {
              "outlinewidth": 0,
              "ticks": ""
             }
            },
            "type": "scatterpolar"
           }
          ],
          "scatterpolargl": [
           {
            "marker": {
             "colorbar": {
              "outlinewidth": 0,
              "ticks": ""
             }
            },
            "type": "scatterpolargl"
           }
          ],
          "scatterternary": [
           {
            "marker": {
             "colorbar": {
              "outlinewidth": 0,
              "ticks": ""
             }
            },
            "type": "scatterternary"
           }
          ],
          "surface": [
           {
            "colorbar": {
             "outlinewidth": 0,
             "ticks": ""
            },
            "colorscale": [
             [
              0,
              "#0d0887"
             ],
             [
              0.1111111111111111,
              "#46039f"
             ],
             [
              0.2222222222222222,
              "#7201a8"
             ],
             [
              0.3333333333333333,
              "#9c179e"
             ],
             [
              0.4444444444444444,
              "#bd3786"
             ],
             [
              0.5555555555555556,
              "#d8576b"
             ],
             [
              0.6666666666666666,
              "#ed7953"
             ],
             [
              0.7777777777777778,
              "#fb9f3a"
             ],
             [
              0.8888888888888888,
              "#fdca26"
             ],
             [
              1,
              "#f0f921"
             ]
            ],
            "type": "surface"
           }
          ],
          "table": [
           {
            "cells": {
             "fill": {
              "color": "#EBF0F8"
             },
             "line": {
              "color": "white"
             }
            },
            "header": {
             "fill": {
              "color": "#C8D4E3"
             },
             "line": {
              "color": "white"
             }
            },
            "type": "table"
           }
          ]
         },
         "layout": {
          "annotationdefaults": {
           "arrowcolor": "#2a3f5f",
           "arrowhead": 0,
           "arrowwidth": 1
          },
          "autotypenumbers": "strict",
          "coloraxis": {
           "colorbar": {
            "outlinewidth": 0,
            "ticks": ""
           }
          },
          "colorscale": {
           "diverging": [
            [
             0,
             "#8e0152"
            ],
            [
             0.1,
             "#c51b7d"
            ],
            [
             0.2,
             "#de77ae"
            ],
            [
             0.3,
             "#f1b6da"
            ],
            [
             0.4,
             "#fde0ef"
            ],
            [
             0.5,
             "#f7f7f7"
            ],
            [
             0.6,
             "#e6f5d0"
            ],
            [
             0.7,
             "#b8e186"
            ],
            [
             0.8,
             "#7fbc41"
            ],
            [
             0.9,
             "#4d9221"
            ],
            [
             1,
             "#276419"
            ]
           ],
           "sequential": [
            [
             0,
             "#0d0887"
            ],
            [
             0.1111111111111111,
             "#46039f"
            ],
            [
             0.2222222222222222,
             "#7201a8"
            ],
            [
             0.3333333333333333,
             "#9c179e"
            ],
            [
             0.4444444444444444,
             "#bd3786"
            ],
            [
             0.5555555555555556,
             "#d8576b"
            ],
            [
             0.6666666666666666,
             "#ed7953"
            ],
            [
             0.7777777777777778,
             "#fb9f3a"
            ],
            [
             0.8888888888888888,
             "#fdca26"
            ],
            [
             1,
             "#f0f921"
            ]
           ],
           "sequentialminus": [
            [
             0,
             "#0d0887"
            ],
            [
             0.1111111111111111,
             "#46039f"
            ],
            [
             0.2222222222222222,
             "#7201a8"
            ],
            [
             0.3333333333333333,
             "#9c179e"
            ],
            [
             0.4444444444444444,
             "#bd3786"
            ],
            [
             0.5555555555555556,
             "#d8576b"
            ],
            [
             0.6666666666666666,
             "#ed7953"
            ],
            [
             0.7777777777777778,
             "#fb9f3a"
            ],
            [
             0.8888888888888888,
             "#fdca26"
            ],
            [
             1,
             "#f0f921"
            ]
           ]
          },
          "colorway": [
           "#636efa",
           "#EF553B",
           "#00cc96",
           "#ab63fa",
           "#FFA15A",
           "#19d3f3",
           "#FF6692",
           "#B6E880",
           "#FF97FF",
           "#FECB52"
          ],
          "font": {
           "color": "#2a3f5f"
          },
          "geo": {
           "bgcolor": "white",
           "lakecolor": "white",
           "landcolor": "#E5ECF6",
           "showlakes": true,
           "showland": true,
           "subunitcolor": "white"
          },
          "hoverlabel": {
           "align": "left"
          },
          "hovermode": "closest",
          "mapbox": {
           "style": "light"
          },
          "paper_bgcolor": "white",
          "plot_bgcolor": "#E5ECF6",
          "polar": {
           "angularaxis": {
            "gridcolor": "white",
            "linecolor": "white",
            "ticks": ""
           },
           "bgcolor": "#E5ECF6",
           "radialaxis": {
            "gridcolor": "white",
            "linecolor": "white",
            "ticks": ""
           }
          },
          "scene": {
           "xaxis": {
            "backgroundcolor": "#E5ECF6",
            "gridcolor": "white",
            "gridwidth": 2,
            "linecolor": "white",
            "showbackground": true,
            "ticks": "",
            "zerolinecolor": "white"
           },
           "yaxis": {
            "backgroundcolor": "#E5ECF6",
            "gridcolor": "white",
            "gridwidth": 2,
            "linecolor": "white",
            "showbackground": true,
            "ticks": "",
            "zerolinecolor": "white"
           },
           "zaxis": {
            "backgroundcolor": "#E5ECF6",
            "gridcolor": "white",
            "gridwidth": 2,
            "linecolor": "white",
            "showbackground": true,
            "ticks": "",
            "zerolinecolor": "white"
           }
          },
          "shapedefaults": {
           "line": {
            "color": "#2a3f5f"
           }
          },
          "ternary": {
           "aaxis": {
            "gridcolor": "white",
            "linecolor": "white",
            "ticks": ""
           },
           "baxis": {
            "gridcolor": "white",
            "linecolor": "white",
            "ticks": ""
           },
           "bgcolor": "#E5ECF6",
           "caxis": {
            "gridcolor": "white",
            "linecolor": "white",
            "ticks": ""
           }
          },
          "title": {
           "x": 0.05
          },
          "xaxis": {
           "automargin": true,
           "gridcolor": "white",
           "linecolor": "white",
           "ticks": "",
           "title": {
            "standoff": 15
           },
           "zerolinecolor": "white",
           "zerolinewidth": 2
          },
          "yaxis": {
           "automargin": true,
           "gridcolor": "white",
           "linecolor": "white",
           "ticks": "",
           "title": {
            "standoff": 15
           },
           "zerolinecolor": "white",
           "zerolinewidth": 2
          }
         }
        },
        "title": {
         "text": "RF - Feature Importance"
        },
        "xaxis": {
         "anchor": "y",
         "domain": [
          0,
          1
         ],
         "title": {
          "text": "Importance Value"
         }
        },
        "yaxis": {
         "anchor": "x",
         "categoryorder": "total ascending",
         "domain": [
          0,
          1
         ],
         "title": {
          "text": "Feature"
         }
        }
       }
      }
     },
     "metadata": {},
     "output_type": "display_data"
    },
    {
     "name": "stderr",
     "output_type": "stream",
     "text": [
      " 14%|█▍        | 1/7 [00:01<00:07,  1.18s/it]"
     ]
    },
    {
     "name": "stdout",
     "output_type": "stream",
     "text": [
      "XGBoost model trained.\n",
      "Shape of transformed_X_train: (1079, 7)\n",
      "Evaluation metrics for XGBoost: {'Accuracy': 0.5074074074074074, 'Precision': 0.5129089506172839, 'Recall': 0.5074074074074074, 'F1 Score': 0.509622826777566}\n",
      "Classification Report for XGBoost:\n",
      "{'0': {'precision': 0.2753623188405797, 'recall': 0.2753623188405797, 'f1-score': 0.2753623188405797, 'support': 69}, '1': {'precision': 0.4857142857142857, 'recall': 0.5204081632653061, 'f1-score': 0.5024630541871921, 'support': 98}, '2': {'precision': 0.6979166666666666, 'recall': 0.6504854368932039, 'f1-score': 0.6733668341708543, 'support': 103}, 'accuracy': 0.5074074074074074, 'macro avg': {'precision': 0.4863310904071773, 'recall': 0.48208530633302993, 'f1-score': 0.48373073573287534, 'support': 270}, 'weighted avg': {'precision': 0.5129089506172839, 'recall': 0.5074074074074074, 'f1-score': 0.509622826777566, 'support': 270}}\n"
     ]
    },
    {
     "data": {
      "application/vnd.plotly.v1+json": {
       "config": {
        "plotlyServerURL": "https://plot.ly"
       },
       "data": [
        {
         "alignmentgroup": "True",
         "hovertemplate": "Importance=%{text}<br>Feature=%{y}<extra></extra>",
         "legendgroup": "",
         "marker": {
          "color": "#636efa",
          "pattern": {
           "shape": ""
          }
         },
         "name": "",
         "offsetgroup": "",
         "orientation": "h",
         "showlegend": false,
         "text": [
          0.18051350116729736,
          0.16411586105823517,
          0.14733748137950897,
          0.13085900247097015,
          0.12849773466587067,
          0.12707547843456268,
          0.12160100787878036
         ],
         "textposition": "auto",
         "type": "bar",
         "x": [
          0.1805135,
          0.16411586,
          0.14733748,
          0.130859,
          0.12849773,
          0.12707548,
          0.12160101
         ],
         "xaxis": "x",
         "y": [
          "AGE",
          "CNSUS_PCTA",
          "CNSUS_PCTH",
          "CNSUS_PCTM",
          "CNSUS_PCTO",
          "EDUCATION",
          "CNSUS_PCTW"
         ],
         "yaxis": "y"
        }
       ],
       "layout": {
        "barmode": "relative",
        "legend": {
         "tracegroupgap": 0
        },
        "margin": {
         "t": 60
        },
        "template": {
         "data": {
          "bar": [
           {
            "error_x": {
             "color": "#2a3f5f"
            },
            "error_y": {
             "color": "#2a3f5f"
            },
            "marker": {
             "line": {
              "color": "#E5ECF6",
              "width": 0.5
             },
             "pattern": {
              "fillmode": "overlay",
              "size": 10,
              "solidity": 0.2
             }
            },
            "type": "bar"
           }
          ],
          "barpolar": [
           {
            "marker": {
             "line": {
              "color": "#E5ECF6",
              "width": 0.5
             },
             "pattern": {
              "fillmode": "overlay",
              "size": 10,
              "solidity": 0.2
             }
            },
            "type": "barpolar"
           }
          ],
          "carpet": [
           {
            "aaxis": {
             "endlinecolor": "#2a3f5f",
             "gridcolor": "white",
             "linecolor": "white",
             "minorgridcolor": "white",
             "startlinecolor": "#2a3f5f"
            },
            "baxis": {
             "endlinecolor": "#2a3f5f",
             "gridcolor": "white",
             "linecolor": "white",
             "minorgridcolor": "white",
             "startlinecolor": "#2a3f5f"
            },
            "type": "carpet"
           }
          ],
          "choropleth": [
           {
            "colorbar": {
             "outlinewidth": 0,
             "ticks": ""
            },
            "type": "choropleth"
           }
          ],
          "contour": [
           {
            "colorbar": {
             "outlinewidth": 0,
             "ticks": ""
            },
            "colorscale": [
             [
              0,
              "#0d0887"
             ],
             [
              0.1111111111111111,
              "#46039f"
             ],
             [
              0.2222222222222222,
              "#7201a8"
             ],
             [
              0.3333333333333333,
              "#9c179e"
             ],
             [
              0.4444444444444444,
              "#bd3786"
             ],
             [
              0.5555555555555556,
              "#d8576b"
             ],
             [
              0.6666666666666666,
              "#ed7953"
             ],
             [
              0.7777777777777778,
              "#fb9f3a"
             ],
             [
              0.8888888888888888,
              "#fdca26"
             ],
             [
              1,
              "#f0f921"
             ]
            ],
            "type": "contour"
           }
          ],
          "contourcarpet": [
           {
            "colorbar": {
             "outlinewidth": 0,
             "ticks": ""
            },
            "type": "contourcarpet"
           }
          ],
          "heatmap": [
           {
            "colorbar": {
             "outlinewidth": 0,
             "ticks": ""
            },
            "colorscale": [
             [
              0,
              "#0d0887"
             ],
             [
              0.1111111111111111,
              "#46039f"
             ],
             [
              0.2222222222222222,
              "#7201a8"
             ],
             [
              0.3333333333333333,
              "#9c179e"
             ],
             [
              0.4444444444444444,
              "#bd3786"
             ],
             [
              0.5555555555555556,
              "#d8576b"
             ],
             [
              0.6666666666666666,
              "#ed7953"
             ],
             [
              0.7777777777777778,
              "#fb9f3a"
             ],
             [
              0.8888888888888888,
              "#fdca26"
             ],
             [
              1,
              "#f0f921"
             ]
            ],
            "type": "heatmap"
           }
          ],
          "heatmapgl": [
           {
            "colorbar": {
             "outlinewidth": 0,
             "ticks": ""
            },
            "colorscale": [
             [
              0,
              "#0d0887"
             ],
             [
              0.1111111111111111,
              "#46039f"
             ],
             [
              0.2222222222222222,
              "#7201a8"
             ],
             [
              0.3333333333333333,
              "#9c179e"
             ],
             [
              0.4444444444444444,
              "#bd3786"
             ],
             [
              0.5555555555555556,
              "#d8576b"
             ],
             [
              0.6666666666666666,
              "#ed7953"
             ],
             [
              0.7777777777777778,
              "#fb9f3a"
             ],
             [
              0.8888888888888888,
              "#fdca26"
             ],
             [
              1,
              "#f0f921"
             ]
            ],
            "type": "heatmapgl"
           }
          ],
          "histogram": [
           {
            "marker": {
             "pattern": {
              "fillmode": "overlay",
              "size": 10,
              "solidity": 0.2
             }
            },
            "type": "histogram"
           }
          ],
          "histogram2d": [
           {
            "colorbar": {
             "outlinewidth": 0,
             "ticks": ""
            },
            "colorscale": [
             [
              0,
              "#0d0887"
             ],
             [
              0.1111111111111111,
              "#46039f"
             ],
             [
              0.2222222222222222,
              "#7201a8"
             ],
             [
              0.3333333333333333,
              "#9c179e"
             ],
             [
              0.4444444444444444,
              "#bd3786"
             ],
             [
              0.5555555555555556,
              "#d8576b"
             ],
             [
              0.6666666666666666,
              "#ed7953"
             ],
             [
              0.7777777777777778,
              "#fb9f3a"
             ],
             [
              0.8888888888888888,
              "#fdca26"
             ],
             [
              1,
              "#f0f921"
             ]
            ],
            "type": "histogram2d"
           }
          ],
          "histogram2dcontour": [
           {
            "colorbar": {
             "outlinewidth": 0,
             "ticks": ""
            },
            "colorscale": [
             [
              0,
              "#0d0887"
             ],
             [
              0.1111111111111111,
              "#46039f"
             ],
             [
              0.2222222222222222,
              "#7201a8"
             ],
             [
              0.3333333333333333,
              "#9c179e"
             ],
             [
              0.4444444444444444,
              "#bd3786"
             ],
             [
              0.5555555555555556,
              "#d8576b"
             ],
             [
              0.6666666666666666,
              "#ed7953"
             ],
             [
              0.7777777777777778,
              "#fb9f3a"
             ],
             [
              0.8888888888888888,
              "#fdca26"
             ],
             [
              1,
              "#f0f921"
             ]
            ],
            "type": "histogram2dcontour"
           }
          ],
          "mesh3d": [
           {
            "colorbar": {
             "outlinewidth": 0,
             "ticks": ""
            },
            "type": "mesh3d"
           }
          ],
          "parcoords": [
           {
            "line": {
             "colorbar": {
              "outlinewidth": 0,
              "ticks": ""
             }
            },
            "type": "parcoords"
           }
          ],
          "pie": [
           {
            "automargin": true,
            "type": "pie"
           }
          ],
          "scatter": [
           {
            "fillpattern": {
             "fillmode": "overlay",
             "size": 10,
             "solidity": 0.2
            },
            "type": "scatter"
           }
          ],
          "scatter3d": [
           {
            "line": {
             "colorbar": {
              "outlinewidth": 0,
              "ticks": ""
             }
            },
            "marker": {
             "colorbar": {
              "outlinewidth": 0,
              "ticks": ""
             }
            },
            "type": "scatter3d"
           }
          ],
          "scattercarpet": [
           {
            "marker": {
             "colorbar": {
              "outlinewidth": 0,
              "ticks": ""
             }
            },
            "type": "scattercarpet"
           }
          ],
          "scattergeo": [
           {
            "marker": {
             "colorbar": {
              "outlinewidth": 0,
              "ticks": ""
             }
            },
            "type": "scattergeo"
           }
          ],
          "scattergl": [
           {
            "marker": {
             "colorbar": {
              "outlinewidth": 0,
              "ticks": ""
             }
            },
            "type": "scattergl"
           }
          ],
          "scattermapbox": [
           {
            "marker": {
             "colorbar": {
              "outlinewidth": 0,
              "ticks": ""
             }
            },
            "type": "scattermapbox"
           }
          ],
          "scatterpolar": [
           {
            "marker": {
             "colorbar": {
              "outlinewidth": 0,
              "ticks": ""
             }
            },
            "type": "scatterpolar"
           }
          ],
          "scatterpolargl": [
           {
            "marker": {
             "colorbar": {
              "outlinewidth": 0,
              "ticks": ""
             }
            },
            "type": "scatterpolargl"
           }
          ],
          "scatterternary": [
           {
            "marker": {
             "colorbar": {
              "outlinewidth": 0,
              "ticks": ""
             }
            },
            "type": "scatterternary"
           }
          ],
          "surface": [
           {
            "colorbar": {
             "outlinewidth": 0,
             "ticks": ""
            },
            "colorscale": [
             [
              0,
              "#0d0887"
             ],
             [
              0.1111111111111111,
              "#46039f"
             ],
             [
              0.2222222222222222,
              "#7201a8"
             ],
             [
              0.3333333333333333,
              "#9c179e"
             ],
             [
              0.4444444444444444,
              "#bd3786"
             ],
             [
              0.5555555555555556,
              "#d8576b"
             ],
             [
              0.6666666666666666,
              "#ed7953"
             ],
             [
              0.7777777777777778,
              "#fb9f3a"
             ],
             [
              0.8888888888888888,
              "#fdca26"
             ],
             [
              1,
              "#f0f921"
             ]
            ],
            "type": "surface"
           }
          ],
          "table": [
           {
            "cells": {
             "fill": {
              "color": "#EBF0F8"
             },
             "line": {
              "color": "white"
             }
            },
            "header": {
             "fill": {
              "color": "#C8D4E3"
             },
             "line": {
              "color": "white"
             }
            },
            "type": "table"
           }
          ]
         },
         "layout": {
          "annotationdefaults": {
           "arrowcolor": "#2a3f5f",
           "arrowhead": 0,
           "arrowwidth": 1
          },
          "autotypenumbers": "strict",
          "coloraxis": {
           "colorbar": {
            "outlinewidth": 0,
            "ticks": ""
           }
          },
          "colorscale": {
           "diverging": [
            [
             0,
             "#8e0152"
            ],
            [
             0.1,
             "#c51b7d"
            ],
            [
             0.2,
             "#de77ae"
            ],
            [
             0.3,
             "#f1b6da"
            ],
            [
             0.4,
             "#fde0ef"
            ],
            [
             0.5,
             "#f7f7f7"
            ],
            [
             0.6,
             "#e6f5d0"
            ],
            [
             0.7,
             "#b8e186"
            ],
            [
             0.8,
             "#7fbc41"
            ],
            [
             0.9,
             "#4d9221"
            ],
            [
             1,
             "#276419"
            ]
           ],
           "sequential": [
            [
             0,
             "#0d0887"
            ],
            [
             0.1111111111111111,
             "#46039f"
            ],
            [
             0.2222222222222222,
             "#7201a8"
            ],
            [
             0.3333333333333333,
             "#9c179e"
            ],
            [
             0.4444444444444444,
             "#bd3786"
            ],
            [
             0.5555555555555556,
             "#d8576b"
            ],
            [
             0.6666666666666666,
             "#ed7953"
            ],
            [
             0.7777777777777778,
             "#fb9f3a"
            ],
            [
             0.8888888888888888,
             "#fdca26"
            ],
            [
             1,
             "#f0f921"
            ]
           ],
           "sequentialminus": [
            [
             0,
             "#0d0887"
            ],
            [
             0.1111111111111111,
             "#46039f"
            ],
            [
             0.2222222222222222,
             "#7201a8"
            ],
            [
             0.3333333333333333,
             "#9c179e"
            ],
            [
             0.4444444444444444,
             "#bd3786"
            ],
            [
             0.5555555555555556,
             "#d8576b"
            ],
            [
             0.6666666666666666,
             "#ed7953"
            ],
            [
             0.7777777777777778,
             "#fb9f3a"
            ],
            [
             0.8888888888888888,
             "#fdca26"
            ],
            [
             1,
             "#f0f921"
            ]
           ]
          },
          "colorway": [
           "#636efa",
           "#EF553B",
           "#00cc96",
           "#ab63fa",
           "#FFA15A",
           "#19d3f3",
           "#FF6692",
           "#B6E880",
           "#FF97FF",
           "#FECB52"
          ],
          "font": {
           "color": "#2a3f5f"
          },
          "geo": {
           "bgcolor": "white",
           "lakecolor": "white",
           "landcolor": "#E5ECF6",
           "showlakes": true,
           "showland": true,
           "subunitcolor": "white"
          },
          "hoverlabel": {
           "align": "left"
          },
          "hovermode": "closest",
          "mapbox": {
           "style": "light"
          },
          "paper_bgcolor": "white",
          "plot_bgcolor": "#E5ECF6",
          "polar": {
           "angularaxis": {
            "gridcolor": "white",
            "linecolor": "white",
            "ticks": ""
           },
           "bgcolor": "#E5ECF6",
           "radialaxis": {
            "gridcolor": "white",
            "linecolor": "white",
            "ticks": ""
           }
          },
          "scene": {
           "xaxis": {
            "backgroundcolor": "#E5ECF6",
            "gridcolor": "white",
            "gridwidth": 2,
            "linecolor": "white",
            "showbackground": true,
            "ticks": "",
            "zerolinecolor": "white"
           },
           "yaxis": {
            "backgroundcolor": "#E5ECF6",
            "gridcolor": "white",
            "gridwidth": 2,
            "linecolor": "white",
            "showbackground": true,
            "ticks": "",
            "zerolinecolor": "white"
           },
           "zaxis": {
            "backgroundcolor": "#E5ECF6",
            "gridcolor": "white",
            "gridwidth": 2,
            "linecolor": "white",
            "showbackground": true,
            "ticks": "",
            "zerolinecolor": "white"
           }
          },
          "shapedefaults": {
           "line": {
            "color": "#2a3f5f"
           }
          },
          "ternary": {
           "aaxis": {
            "gridcolor": "white",
            "linecolor": "white",
            "ticks": ""
           },
           "baxis": {
            "gridcolor": "white",
            "linecolor": "white",
            "ticks": ""
           },
           "bgcolor": "#E5ECF6",
           "caxis": {
            "gridcolor": "white",
            "linecolor": "white",
            "ticks": ""
           }
          },
          "title": {
           "x": 0.05
          },
          "xaxis": {
           "automargin": true,
           "gridcolor": "white",
           "linecolor": "white",
           "ticks": "",
           "title": {
            "standoff": 15
           },
           "zerolinecolor": "white",
           "zerolinewidth": 2
          },
          "yaxis": {
           "automargin": true,
           "gridcolor": "white",
           "linecolor": "white",
           "ticks": "",
           "title": {
            "standoff": 15
           },
           "zerolinecolor": "white",
           "zerolinewidth": 2
          }
         }
        },
        "title": {
         "text": "XGBoost - Feature Importance"
        },
        "xaxis": {
         "anchor": "y",
         "domain": [
          0,
          1
         ],
         "title": {
          "text": "Importance Value"
         }
        },
        "yaxis": {
         "anchor": "x",
         "categoryorder": "total ascending",
         "domain": [
          0,
          1
         ],
         "title": {
          "text": "Feature"
         }
        }
       }
      }
     },
     "metadata": {},
     "output_type": "display_data"
    },
    {
     "name": "stderr",
     "output_type": "stream",
     "text": [
      " 29%|██▊       | 2/7 [00:02<00:06,  1.22s/it]"
     ]
    },
    {
     "name": "stdout",
     "output_type": "stream",
     "text": [
      "LogisticRegression model trained.\n",
      "Shape of transformed_X_train: (1079, 7)\n",
      "Evaluation metrics for LogisticRegression: {'Accuracy': 0.5814814814814815, 'Precision': 0.5146352492843722, 'Recall': 0.5814814814814815, 'F1 Score': 0.5153061215479258}\n",
      "Classification Report for LogisticRegression:\n",
      "{'0': {'precision': 0.25, 'recall': 0.028985507246376812, 'f1-score': 0.051948051948051945, 'support': 69}, '1': {'precision': 0.5135135135135135, 'recall': 0.7755102040816326, 'f1-score': 0.6178861788617885, 'support': 98}, '2': {'precision': 0.6929824561403509, 'recall': 0.7669902912621359, 'f1-score': 0.7281105990783411, 'support': 103}, 'accuracy': 0.5814814814814815, 'macro avg': {'precision': 0.48549865655128815, 'recall': 0.5238286675300484, 'f1-score': 0.4659816099627272, 'support': 270}, 'weighted avg': {'precision': 0.5146352492843722, 'recall': 0.5814814814814815, 'f1-score': 0.5153061215479258, 'support': 270}}\n"
     ]
    },
    {
     "data": {
      "application/vnd.plotly.v1+json": {
       "config": {
        "plotlyServerURL": "https://plot.ly"
       },
       "data": [
        {
         "alignmentgroup": "True",
         "hovertemplate": "Coefficient=%{text}<br>Feature=%{y}<extra></extra>",
         "legendgroup": "",
         "marker": {
          "color": "#636efa",
          "pattern": {
           "shape": ""
          }
         },
         "name": "",
         "offsetgroup": "",
         "orientation": "h",
         "showlegend": false,
         "text": [
          -0.16490710779605294,
          0.11691172211675979,
          -0.1102176541972537,
          0.046774676964558136,
          -0.01820308191155106,
          0.01218111727915696,
          0.008936157874228842
         ],
         "textposition": "auto",
         "type": "bar",
         "x": [
          -0.16490710779605294,
          0.11691172211675979,
          -0.1102176541972537,
          0.046774676964558136,
          -0.01820308191155106,
          0.01218111727915696,
          0.008936157874228842
         ],
         "xaxis": "x",
         "y": [
          "AGE",
          "EDUCATION",
          "CNSUS_PCTM",
          "CNSUS_PCTH",
          "CNSUS_PCTO",
          "CNSUS_PCTW",
          "CNSUS_PCTA"
         ],
         "yaxis": "y"
        }
       ],
       "layout": {
        "barmode": "relative",
        "legend": {
         "tracegroupgap": 0
        },
        "margin": {
         "t": 60
        },
        "template": {
         "data": {
          "bar": [
           {
            "error_x": {
             "color": "#2a3f5f"
            },
            "error_y": {
             "color": "#2a3f5f"
            },
            "marker": {
             "line": {
              "color": "#E5ECF6",
              "width": 0.5
             },
             "pattern": {
              "fillmode": "overlay",
              "size": 10,
              "solidity": 0.2
             }
            },
            "type": "bar"
           }
          ],
          "barpolar": [
           {
            "marker": {
             "line": {
              "color": "#E5ECF6",
              "width": 0.5
             },
             "pattern": {
              "fillmode": "overlay",
              "size": 10,
              "solidity": 0.2
             }
            },
            "type": "barpolar"
           }
          ],
          "carpet": [
           {
            "aaxis": {
             "endlinecolor": "#2a3f5f",
             "gridcolor": "white",
             "linecolor": "white",
             "minorgridcolor": "white",
             "startlinecolor": "#2a3f5f"
            },
            "baxis": {
             "endlinecolor": "#2a3f5f",
             "gridcolor": "white",
             "linecolor": "white",
             "minorgridcolor": "white",
             "startlinecolor": "#2a3f5f"
            },
            "type": "carpet"
           }
          ],
          "choropleth": [
           {
            "colorbar": {
             "outlinewidth": 0,
             "ticks": ""
            },
            "type": "choropleth"
           }
          ],
          "contour": [
           {
            "colorbar": {
             "outlinewidth": 0,
             "ticks": ""
            },
            "colorscale": [
             [
              0,
              "#0d0887"
             ],
             [
              0.1111111111111111,
              "#46039f"
             ],
             [
              0.2222222222222222,
              "#7201a8"
             ],
             [
              0.3333333333333333,
              "#9c179e"
             ],
             [
              0.4444444444444444,
              "#bd3786"
             ],
             [
              0.5555555555555556,
              "#d8576b"
             ],
             [
              0.6666666666666666,
              "#ed7953"
             ],
             [
              0.7777777777777778,
              "#fb9f3a"
             ],
             [
              0.8888888888888888,
              "#fdca26"
             ],
             [
              1,
              "#f0f921"
             ]
            ],
            "type": "contour"
           }
          ],
          "contourcarpet": [
           {
            "colorbar": {
             "outlinewidth": 0,
             "ticks": ""
            },
            "type": "contourcarpet"
           }
          ],
          "heatmap": [
           {
            "colorbar": {
             "outlinewidth": 0,
             "ticks": ""
            },
            "colorscale": [
             [
              0,
              "#0d0887"
             ],
             [
              0.1111111111111111,
              "#46039f"
             ],
             [
              0.2222222222222222,
              "#7201a8"
             ],
             [
              0.3333333333333333,
              "#9c179e"
             ],
             [
              0.4444444444444444,
              "#bd3786"
             ],
             [
              0.5555555555555556,
              "#d8576b"
             ],
             [
              0.6666666666666666,
              "#ed7953"
             ],
             [
              0.7777777777777778,
              "#fb9f3a"
             ],
             [
              0.8888888888888888,
              "#fdca26"
             ],
             [
              1,
              "#f0f921"
             ]
            ],
            "type": "heatmap"
           }
          ],
          "heatmapgl": [
           {
            "colorbar": {
             "outlinewidth": 0,
             "ticks": ""
            },
            "colorscale": [
             [
              0,
              "#0d0887"
             ],
             [
              0.1111111111111111,
              "#46039f"
             ],
             [
              0.2222222222222222,
              "#7201a8"
             ],
             [
              0.3333333333333333,
              "#9c179e"
             ],
             [
              0.4444444444444444,
              "#bd3786"
             ],
             [
              0.5555555555555556,
              "#d8576b"
             ],
             [
              0.6666666666666666,
              "#ed7953"
             ],
             [
              0.7777777777777778,
              "#fb9f3a"
             ],
             [
              0.8888888888888888,
              "#fdca26"
             ],
             [
              1,
              "#f0f921"
             ]
            ],
            "type": "heatmapgl"
           }
          ],
          "histogram": [
           {
            "marker": {
             "pattern": {
              "fillmode": "overlay",
              "size": 10,
              "solidity": 0.2
             }
            },
            "type": "histogram"
           }
          ],
          "histogram2d": [
           {
            "colorbar": {
             "outlinewidth": 0,
             "ticks": ""
            },
            "colorscale": [
             [
              0,
              "#0d0887"
             ],
             [
              0.1111111111111111,
              "#46039f"
             ],
             [
              0.2222222222222222,
              "#7201a8"
             ],
             [
              0.3333333333333333,
              "#9c179e"
             ],
             [
              0.4444444444444444,
              "#bd3786"
             ],
             [
              0.5555555555555556,
              "#d8576b"
             ],
             [
              0.6666666666666666,
              "#ed7953"
             ],
             [
              0.7777777777777778,
              "#fb9f3a"
             ],
             [
              0.8888888888888888,
              "#fdca26"
             ],
             [
              1,
              "#f0f921"
             ]
            ],
            "type": "histogram2d"
           }
          ],
          "histogram2dcontour": [
           {
            "colorbar": {
             "outlinewidth": 0,
             "ticks": ""
            },
            "colorscale": [
             [
              0,
              "#0d0887"
             ],
             [
              0.1111111111111111,
              "#46039f"
             ],
             [
              0.2222222222222222,
              "#7201a8"
             ],
             [
              0.3333333333333333,
              "#9c179e"
             ],
             [
              0.4444444444444444,
              "#bd3786"
             ],
             [
              0.5555555555555556,
              "#d8576b"
             ],
             [
              0.6666666666666666,
              "#ed7953"
             ],
             [
              0.7777777777777778,
              "#fb9f3a"
             ],
             [
              0.8888888888888888,
              "#fdca26"
             ],
             [
              1,
              "#f0f921"
             ]
            ],
            "type": "histogram2dcontour"
           }
          ],
          "mesh3d": [
           {
            "colorbar": {
             "outlinewidth": 0,
             "ticks": ""
            },
            "type": "mesh3d"
           }
          ],
          "parcoords": [
           {
            "line": {
             "colorbar": {
              "outlinewidth": 0,
              "ticks": ""
             }
            },
            "type": "parcoords"
           }
          ],
          "pie": [
           {
            "automargin": true,
            "type": "pie"
           }
          ],
          "scatter": [
           {
            "fillpattern": {
             "fillmode": "overlay",
             "size": 10,
             "solidity": 0.2
            },
            "type": "scatter"
           }
          ],
          "scatter3d": [
           {
            "line": {
             "colorbar": {
              "outlinewidth": 0,
              "ticks": ""
             }
            },
            "marker": {
             "colorbar": {
              "outlinewidth": 0,
              "ticks": ""
             }
            },
            "type": "scatter3d"
           }
          ],
          "scattercarpet": [
           {
            "marker": {
             "colorbar": {
              "outlinewidth": 0,
              "ticks": ""
             }
            },
            "type": "scattercarpet"
           }
          ],
          "scattergeo": [
           {
            "marker": {
             "colorbar": {
              "outlinewidth": 0,
              "ticks": ""
             }
            },
            "type": "scattergeo"
           }
          ],
          "scattergl": [
           {
            "marker": {
             "colorbar": {
              "outlinewidth": 0,
              "ticks": ""
             }
            },
            "type": "scattergl"
           }
          ],
          "scattermapbox": [
           {
            "marker": {
             "colorbar": {
              "outlinewidth": 0,
              "ticks": ""
             }
            },
            "type": "scattermapbox"
           }
          ],
          "scatterpolar": [
           {
            "marker": {
             "colorbar": {
              "outlinewidth": 0,
              "ticks": ""
             }
            },
            "type": "scatterpolar"
           }
          ],
          "scatterpolargl": [
           {
            "marker": {
             "colorbar": {
              "outlinewidth": 0,
              "ticks": ""
             }
            },
            "type": "scatterpolargl"
           }
          ],
          "scatterternary": [
           {
            "marker": {
             "colorbar": {
              "outlinewidth": 0,
              "ticks": ""
             }
            },
            "type": "scatterternary"
           }
          ],
          "surface": [
           {
            "colorbar": {
             "outlinewidth": 0,
             "ticks": ""
            },
            "colorscale": [
             [
              0,
              "#0d0887"
             ],
             [
              0.1111111111111111,
              "#46039f"
             ],
             [
              0.2222222222222222,
              "#7201a8"
             ],
             [
              0.3333333333333333,
              "#9c179e"
             ],
             [
              0.4444444444444444,
              "#bd3786"
             ],
             [
              0.5555555555555556,
              "#d8576b"
             ],
             [
              0.6666666666666666,
              "#ed7953"
             ],
             [
              0.7777777777777778,
              "#fb9f3a"
             ],
             [
              0.8888888888888888,
              "#fdca26"
             ],
             [
              1,
              "#f0f921"
             ]
            ],
            "type": "surface"
           }
          ],
          "table": [
           {
            "cells": {
             "fill": {
              "color": "#EBF0F8"
             },
             "line": {
              "color": "white"
             }
            },
            "header": {
             "fill": {
              "color": "#C8D4E3"
             },
             "line": {
              "color": "white"
             }
            },
            "type": "table"
           }
          ]
         },
         "layout": {
          "annotationdefaults": {
           "arrowcolor": "#2a3f5f",
           "arrowhead": 0,
           "arrowwidth": 1
          },
          "autotypenumbers": "strict",
          "coloraxis": {
           "colorbar": {
            "outlinewidth": 0,
            "ticks": ""
           }
          },
          "colorscale": {
           "diverging": [
            [
             0,
             "#8e0152"
            ],
            [
             0.1,
             "#c51b7d"
            ],
            [
             0.2,
             "#de77ae"
            ],
            [
             0.3,
             "#f1b6da"
            ],
            [
             0.4,
             "#fde0ef"
            ],
            [
             0.5,
             "#f7f7f7"
            ],
            [
             0.6,
             "#e6f5d0"
            ],
            [
             0.7,
             "#b8e186"
            ],
            [
             0.8,
             "#7fbc41"
            ],
            [
             0.9,
             "#4d9221"
            ],
            [
             1,
             "#276419"
            ]
           ],
           "sequential": [
            [
             0,
             "#0d0887"
            ],
            [
             0.1111111111111111,
             "#46039f"
            ],
            [
             0.2222222222222222,
             "#7201a8"
            ],
            [
             0.3333333333333333,
             "#9c179e"
            ],
            [
             0.4444444444444444,
             "#bd3786"
            ],
            [
             0.5555555555555556,
             "#d8576b"
            ],
            [
             0.6666666666666666,
             "#ed7953"
            ],
            [
             0.7777777777777778,
             "#fb9f3a"
            ],
            [
             0.8888888888888888,
             "#fdca26"
            ],
            [
             1,
             "#f0f921"
            ]
           ],
           "sequentialminus": [
            [
             0,
             "#0d0887"
            ],
            [
             0.1111111111111111,
             "#46039f"
            ],
            [
             0.2222222222222222,
             "#7201a8"
            ],
            [
             0.3333333333333333,
             "#9c179e"
            ],
            [
             0.4444444444444444,
             "#bd3786"
            ],
            [
             0.5555555555555556,
             "#d8576b"
            ],
            [
             0.6666666666666666,
             "#ed7953"
            ],
            [
             0.7777777777777778,
             "#fb9f3a"
            ],
            [
             0.8888888888888888,
             "#fdca26"
            ],
            [
             1,
             "#f0f921"
            ]
           ]
          },
          "colorway": [
           "#636efa",
           "#EF553B",
           "#00cc96",
           "#ab63fa",
           "#FFA15A",
           "#19d3f3",
           "#FF6692",
           "#B6E880",
           "#FF97FF",
           "#FECB52"
          ],
          "font": {
           "color": "#2a3f5f"
          },
          "geo": {
           "bgcolor": "white",
           "lakecolor": "white",
           "landcolor": "#E5ECF6",
           "showlakes": true,
           "showland": true,
           "subunitcolor": "white"
          },
          "hoverlabel": {
           "align": "left"
          },
          "hovermode": "closest",
          "mapbox": {
           "style": "light"
          },
          "paper_bgcolor": "white",
          "plot_bgcolor": "#E5ECF6",
          "polar": {
           "angularaxis": {
            "gridcolor": "white",
            "linecolor": "white",
            "ticks": ""
           },
           "bgcolor": "#E5ECF6",
           "radialaxis": {
            "gridcolor": "white",
            "linecolor": "white",
            "ticks": ""
           }
          },
          "scene": {
           "xaxis": {
            "backgroundcolor": "#E5ECF6",
            "gridcolor": "white",
            "gridwidth": 2,
            "linecolor": "white",
            "showbackground": true,
            "ticks": "",
            "zerolinecolor": "white"
           },
           "yaxis": {
            "backgroundcolor": "#E5ECF6",
            "gridcolor": "white",
            "gridwidth": 2,
            "linecolor": "white",
            "showbackground": true,
            "ticks": "",
            "zerolinecolor": "white"
           },
           "zaxis": {
            "backgroundcolor": "#E5ECF6",
            "gridcolor": "white",
            "gridwidth": 2,
            "linecolor": "white",
            "showbackground": true,
            "ticks": "",
            "zerolinecolor": "white"
           }
          },
          "shapedefaults": {
           "line": {
            "color": "#2a3f5f"
           }
          },
          "ternary": {
           "aaxis": {
            "gridcolor": "white",
            "linecolor": "white",
            "ticks": ""
           },
           "baxis": {
            "gridcolor": "white",
            "linecolor": "white",
            "ticks": ""
           },
           "bgcolor": "#E5ECF6",
           "caxis": {
            "gridcolor": "white",
            "linecolor": "white",
            "ticks": ""
           }
          },
          "title": {
           "x": 0.05
          },
          "xaxis": {
           "automargin": true,
           "gridcolor": "white",
           "linecolor": "white",
           "ticks": "",
           "title": {
            "standoff": 15
           },
           "zerolinecolor": "white",
           "zerolinewidth": 2
          },
          "yaxis": {
           "automargin": true,
           "gridcolor": "white",
           "linecolor": "white",
           "ticks": "",
           "title": {
            "standoff": 15
           },
           "zerolinecolor": "white",
           "zerolinewidth": 2
          }
         }
        },
        "title": {
         "text": "LogisticRegression - Coefficients"
        },
        "xaxis": {
         "anchor": "y",
         "domain": [
          0,
          1
         ],
         "title": {
          "text": "Coefficient Value"
         }
        },
        "yaxis": {
         "anchor": "x",
         "categoryorder": "total ascending",
         "domain": [
          0,
          1
         ],
         "title": {
          "text": "Feature"
         }
        }
       }
      }
     },
     "metadata": {},
     "output_type": "display_data"
    },
    {
     "name": "stderr",
     "output_type": "stream",
     "text": [
      " 57%|█████▋    | 4/7 [00:05<00:04,  1.47s/it]"
     ]
    },
    {
     "name": "stdout",
     "output_type": "stream",
     "text": [
      "SVM model trained.\n",
      "Shape of transformed_X_train: (1079, 7)\n",
      "Evaluation metrics for SVM: {'Accuracy': 0.6074074074074074, 'Precision': 0.6253345306862126, 'Recall': 0.6074074074074074, 'F1 Score': 0.5630107852794828}\n",
      "Classification Report for SVM:\n",
      "{'0': {'precision': 0.6428571428571429, 'recall': 0.13043478260869565, 'f1-score': 0.21686746987951808, 'support': 69}, '1': {'precision': 0.5374149659863946, 'recall': 0.8061224489795918, 'f1-score': 0.6448979591836734, 'support': 98}, '2': {'precision': 0.6972477064220184, 'recall': 0.7378640776699029, 'f1-score': 0.7169811320754718, 'support': 103}, 'accuracy': 0.6074074074074074, 'macro avg': {'precision': 0.6258399384218519, 'recall': 0.5581404364193968, 'f1-score': 0.5262488537128878, 'support': 270}, 'weighted avg': {'precision': 0.6253345306862126, 'recall': 0.6074074074074074, 'f1-score': 0.5630107852794828, 'support': 270}}\n",
      "The model does not expose 'coef_' attribute. This method works only for linear kernels.\n",
      "GBC model trained.\n",
      "Shape of transformed_X_train: (1079, 7)\n",
      "Evaluation metrics for GBC: {'Accuracy': 0.5333333333333333, 'Precision': 0.5133602710311006, 'Recall': 0.5333333333333333, 'F1 Score': 0.520792495337612}\n",
      "Classification Report for GBC:\n",
      "{'0': {'precision': 0.26, 'recall': 0.18840579710144928, 'f1-score': 0.2184873949579832, 'support': 69}, '1': {'precision': 0.504424778761062, 'recall': 0.5816326530612245, 'f1-score': 0.5402843601895735, 'support': 98}, '2': {'precision': 0.6915887850467289, 'recall': 0.7184466019417476, 'f1-score': 0.7047619047619048, 'support': 103}, 'accuracy': 0.5333333333333333, 'macro avg': {'precision': 0.485337854602597, 'recall': 0.49616168403480715, 'f1-score': 0.48784455330315385, 'support': 270}, 'weighted avg': {'precision': 0.5133602710311006, 'recall': 0.5333333333333333, 'f1-score': 0.520792495337612, 'support': 270}}\n"
     ]
    },
    {
     "data": {
      "application/vnd.plotly.v1+json": {
       "config": {
        "plotlyServerURL": "https://plot.ly"
       },
       "data": [
        {
         "alignmentgroup": "True",
         "hovertemplate": "Importance=%{text}<br>Feature=%{y}<extra></extra>",
         "legendgroup": "",
         "marker": {
          "color": "#636efa",
          "pattern": {
           "shape": ""
          }
         },
         "name": "",
         "offsetgroup": "",
         "orientation": "h",
         "showlegend": false,
         "text": [
          0.3997456105711459,
          0.1346938711126229,
          0.12239302335792356,
          0.09592325441138243,
          0.08904967176012842,
          0.0868824196889525,
          0.07131214909784435
         ],
         "textposition": "auto",
         "type": "bar",
         "x": [
          0.3997456105711459,
          0.1346938711126229,
          0.12239302335792356,
          0.09592325441138243,
          0.08904967176012842,
          0.0868824196889525,
          0.07131214909784435
         ],
         "xaxis": "x",
         "y": [
          "AGE",
          "CNSUS_PCTH",
          "CNSUS_PCTA",
          "CNSUS_PCTM",
          "EDUCATION",
          "CNSUS_PCTO",
          "CNSUS_PCTW"
         ],
         "yaxis": "y"
        }
       ],
       "layout": {
        "barmode": "relative",
        "legend": {
         "tracegroupgap": 0
        },
        "margin": {
         "t": 60
        },
        "template": {
         "data": {
          "bar": [
           {
            "error_x": {
             "color": "#2a3f5f"
            },
            "error_y": {
             "color": "#2a3f5f"
            },
            "marker": {
             "line": {
              "color": "#E5ECF6",
              "width": 0.5
             },
             "pattern": {
              "fillmode": "overlay",
              "size": 10,
              "solidity": 0.2
             }
            },
            "type": "bar"
           }
          ],
          "barpolar": [
           {
            "marker": {
             "line": {
              "color": "#E5ECF6",
              "width": 0.5
             },
             "pattern": {
              "fillmode": "overlay",
              "size": 10,
              "solidity": 0.2
             }
            },
            "type": "barpolar"
           }
          ],
          "carpet": [
           {
            "aaxis": {
             "endlinecolor": "#2a3f5f",
             "gridcolor": "white",
             "linecolor": "white",
             "minorgridcolor": "white",
             "startlinecolor": "#2a3f5f"
            },
            "baxis": {
             "endlinecolor": "#2a3f5f",
             "gridcolor": "white",
             "linecolor": "white",
             "minorgridcolor": "white",
             "startlinecolor": "#2a3f5f"
            },
            "type": "carpet"
           }
          ],
          "choropleth": [
           {
            "colorbar": {
             "outlinewidth": 0,
             "ticks": ""
            },
            "type": "choropleth"
           }
          ],
          "contour": [
           {
            "colorbar": {
             "outlinewidth": 0,
             "ticks": ""
            },
            "colorscale": [
             [
              0,
              "#0d0887"
             ],
             [
              0.1111111111111111,
              "#46039f"
             ],
             [
              0.2222222222222222,
              "#7201a8"
             ],
             [
              0.3333333333333333,
              "#9c179e"
             ],
             [
              0.4444444444444444,
              "#bd3786"
             ],
             [
              0.5555555555555556,
              "#d8576b"
             ],
             [
              0.6666666666666666,
              "#ed7953"
             ],
             [
              0.7777777777777778,
              "#fb9f3a"
             ],
             [
              0.8888888888888888,
              "#fdca26"
             ],
             [
              1,
              "#f0f921"
             ]
            ],
            "type": "contour"
           }
          ],
          "contourcarpet": [
           {
            "colorbar": {
             "outlinewidth": 0,
             "ticks": ""
            },
            "type": "contourcarpet"
           }
          ],
          "heatmap": [
           {
            "colorbar": {
             "outlinewidth": 0,
             "ticks": ""
            },
            "colorscale": [
             [
              0,
              "#0d0887"
             ],
             [
              0.1111111111111111,
              "#46039f"
             ],
             [
              0.2222222222222222,
              "#7201a8"
             ],
             [
              0.3333333333333333,
              "#9c179e"
             ],
             [
              0.4444444444444444,
              "#bd3786"
             ],
             [
              0.5555555555555556,
              "#d8576b"
             ],
             [
              0.6666666666666666,
              "#ed7953"
             ],
             [
              0.7777777777777778,
              "#fb9f3a"
             ],
             [
              0.8888888888888888,
              "#fdca26"
             ],
             [
              1,
              "#f0f921"
             ]
            ],
            "type": "heatmap"
           }
          ],
          "heatmapgl": [
           {
            "colorbar": {
             "outlinewidth": 0,
             "ticks": ""
            },
            "colorscale": [
             [
              0,
              "#0d0887"
             ],
             [
              0.1111111111111111,
              "#46039f"
             ],
             [
              0.2222222222222222,
              "#7201a8"
             ],
             [
              0.3333333333333333,
              "#9c179e"
             ],
             [
              0.4444444444444444,
              "#bd3786"
             ],
             [
              0.5555555555555556,
              "#d8576b"
             ],
             [
              0.6666666666666666,
              "#ed7953"
             ],
             [
              0.7777777777777778,
              "#fb9f3a"
             ],
             [
              0.8888888888888888,
              "#fdca26"
             ],
             [
              1,
              "#f0f921"
             ]
            ],
            "type": "heatmapgl"
           }
          ],
          "histogram": [
           {
            "marker": {
             "pattern": {
              "fillmode": "overlay",
              "size": 10,
              "solidity": 0.2
             }
            },
            "type": "histogram"
           }
          ],
          "histogram2d": [
           {
            "colorbar": {
             "outlinewidth": 0,
             "ticks": ""
            },
            "colorscale": [
             [
              0,
              "#0d0887"
             ],
             [
              0.1111111111111111,
              "#46039f"
             ],
             [
              0.2222222222222222,
              "#7201a8"
             ],
             [
              0.3333333333333333,
              "#9c179e"
             ],
             [
              0.4444444444444444,
              "#bd3786"
             ],
             [
              0.5555555555555556,
              "#d8576b"
             ],
             [
              0.6666666666666666,
              "#ed7953"
             ],
             [
              0.7777777777777778,
              "#fb9f3a"
             ],
             [
              0.8888888888888888,
              "#fdca26"
             ],
             [
              1,
              "#f0f921"
             ]
            ],
            "type": "histogram2d"
           }
          ],
          "histogram2dcontour": [
           {
            "colorbar": {
             "outlinewidth": 0,
             "ticks": ""
            },
            "colorscale": [
             [
              0,
              "#0d0887"
             ],
             [
              0.1111111111111111,
              "#46039f"
             ],
             [
              0.2222222222222222,
              "#7201a8"
             ],
             [
              0.3333333333333333,
              "#9c179e"
             ],
             [
              0.4444444444444444,
              "#bd3786"
             ],
             [
              0.5555555555555556,
              "#d8576b"
             ],
             [
              0.6666666666666666,
              "#ed7953"
             ],
             [
              0.7777777777777778,
              "#fb9f3a"
             ],
             [
              0.8888888888888888,
              "#fdca26"
             ],
             [
              1,
              "#f0f921"
             ]
            ],
            "type": "histogram2dcontour"
           }
          ],
          "mesh3d": [
           {
            "colorbar": {
             "outlinewidth": 0,
             "ticks": ""
            },
            "type": "mesh3d"
           }
          ],
          "parcoords": [
           {
            "line": {
             "colorbar": {
              "outlinewidth": 0,
              "ticks": ""
             }
            },
            "type": "parcoords"
           }
          ],
          "pie": [
           {
            "automargin": true,
            "type": "pie"
           }
          ],
          "scatter": [
           {
            "fillpattern": {
             "fillmode": "overlay",
             "size": 10,
             "solidity": 0.2
            },
            "type": "scatter"
           }
          ],
          "scatter3d": [
           {
            "line": {
             "colorbar": {
              "outlinewidth": 0,
              "ticks": ""
             }
            },
            "marker": {
             "colorbar": {
              "outlinewidth": 0,
              "ticks": ""
             }
            },
            "type": "scatter3d"
           }
          ],
          "scattercarpet": [
           {
            "marker": {
             "colorbar": {
              "outlinewidth": 0,
              "ticks": ""
             }
            },
            "type": "scattercarpet"
           }
          ],
          "scattergeo": [
           {
            "marker": {
             "colorbar": {
              "outlinewidth": 0,
              "ticks": ""
             }
            },
            "type": "scattergeo"
           }
          ],
          "scattergl": [
           {
            "marker": {
             "colorbar": {
              "outlinewidth": 0,
              "ticks": ""
             }
            },
            "type": "scattergl"
           }
          ],
          "scattermapbox": [
           {
            "marker": {
             "colorbar": {
              "outlinewidth": 0,
              "ticks": ""
             }
            },
            "type": "scattermapbox"
           }
          ],
          "scatterpolar": [
           {
            "marker": {
             "colorbar": {
              "outlinewidth": 0,
              "ticks": ""
             }
            },
            "type": "scatterpolar"
           }
          ],
          "scatterpolargl": [
           {
            "marker": {
             "colorbar": {
              "outlinewidth": 0,
              "ticks": ""
             }
            },
            "type": "scatterpolargl"
           }
          ],
          "scatterternary": [
           {
            "marker": {
             "colorbar": {
              "outlinewidth": 0,
              "ticks": ""
             }
            },
            "type": "scatterternary"
           }
          ],
          "surface": [
           {
            "colorbar": {
             "outlinewidth": 0,
             "ticks": ""
            },
            "colorscale": [
             [
              0,
              "#0d0887"
             ],
             [
              0.1111111111111111,
              "#46039f"
             ],
             [
              0.2222222222222222,
              "#7201a8"
             ],
             [
              0.3333333333333333,
              "#9c179e"
             ],
             [
              0.4444444444444444,
              "#bd3786"
             ],
             [
              0.5555555555555556,
              "#d8576b"
             ],
             [
              0.6666666666666666,
              "#ed7953"
             ],
             [
              0.7777777777777778,
              "#fb9f3a"
             ],
             [
              0.8888888888888888,
              "#fdca26"
             ],
             [
              1,
              "#f0f921"
             ]
            ],
            "type": "surface"
           }
          ],
          "table": [
           {
            "cells": {
             "fill": {
              "color": "#EBF0F8"
             },
             "line": {
              "color": "white"
             }
            },
            "header": {
             "fill": {
              "color": "#C8D4E3"
             },
             "line": {
              "color": "white"
             }
            },
            "type": "table"
           }
          ]
         },
         "layout": {
          "annotationdefaults": {
           "arrowcolor": "#2a3f5f",
           "arrowhead": 0,
           "arrowwidth": 1
          },
          "autotypenumbers": "strict",
          "coloraxis": {
           "colorbar": {
            "outlinewidth": 0,
            "ticks": ""
           }
          },
          "colorscale": {
           "diverging": [
            [
             0,
             "#8e0152"
            ],
            [
             0.1,
             "#c51b7d"
            ],
            [
             0.2,
             "#de77ae"
            ],
            [
             0.3,
             "#f1b6da"
            ],
            [
             0.4,
             "#fde0ef"
            ],
            [
             0.5,
             "#f7f7f7"
            ],
            [
             0.6,
             "#e6f5d0"
            ],
            [
             0.7,
             "#b8e186"
            ],
            [
             0.8,
             "#7fbc41"
            ],
            [
             0.9,
             "#4d9221"
            ],
            [
             1,
             "#276419"
            ]
           ],
           "sequential": [
            [
             0,
             "#0d0887"
            ],
            [
             0.1111111111111111,
             "#46039f"
            ],
            [
             0.2222222222222222,
             "#7201a8"
            ],
            [
             0.3333333333333333,
             "#9c179e"
            ],
            [
             0.4444444444444444,
             "#bd3786"
            ],
            [
             0.5555555555555556,
             "#d8576b"
            ],
            [
             0.6666666666666666,
             "#ed7953"
            ],
            [
             0.7777777777777778,
             "#fb9f3a"
            ],
            [
             0.8888888888888888,
             "#fdca26"
            ],
            [
             1,
             "#f0f921"
            ]
           ],
           "sequentialminus": [
            [
             0,
             "#0d0887"
            ],
            [
             0.1111111111111111,
             "#46039f"
            ],
            [
             0.2222222222222222,
             "#7201a8"
            ],
            [
             0.3333333333333333,
             "#9c179e"
            ],
            [
             0.4444444444444444,
             "#bd3786"
            ],
            [
             0.5555555555555556,
             "#d8576b"
            ],
            [
             0.6666666666666666,
             "#ed7953"
            ],
            [
             0.7777777777777778,
             "#fb9f3a"
            ],
            [
             0.8888888888888888,
             "#fdca26"
            ],
            [
             1,
             "#f0f921"
            ]
           ]
          },
          "colorway": [
           "#636efa",
           "#EF553B",
           "#00cc96",
           "#ab63fa",
           "#FFA15A",
           "#19d3f3",
           "#FF6692",
           "#B6E880",
           "#FF97FF",
           "#FECB52"
          ],
          "font": {
           "color": "#2a3f5f"
          },
          "geo": {
           "bgcolor": "white",
           "lakecolor": "white",
           "landcolor": "#E5ECF6",
           "showlakes": true,
           "showland": true,
           "subunitcolor": "white"
          },
          "hoverlabel": {
           "align": "left"
          },
          "hovermode": "closest",
          "mapbox": {
           "style": "light"
          },
          "paper_bgcolor": "white",
          "plot_bgcolor": "#E5ECF6",
          "polar": {
           "angularaxis": {
            "gridcolor": "white",
            "linecolor": "white",
            "ticks": ""
           },
           "bgcolor": "#E5ECF6",
           "radialaxis": {
            "gridcolor": "white",
            "linecolor": "white",
            "ticks": ""
           }
          },
          "scene": {
           "xaxis": {
            "backgroundcolor": "#E5ECF6",
            "gridcolor": "white",
            "gridwidth": 2,
            "linecolor": "white",
            "showbackground": true,
            "ticks": "",
            "zerolinecolor": "white"
           },
           "yaxis": {
            "backgroundcolor": "#E5ECF6",
            "gridcolor": "white",
            "gridwidth": 2,
            "linecolor": "white",
            "showbackground": true,
            "ticks": "",
            "zerolinecolor": "white"
           },
           "zaxis": {
            "backgroundcolor": "#E5ECF6",
            "gridcolor": "white",
            "gridwidth": 2,
            "linecolor": "white",
            "showbackground": true,
            "ticks": "",
            "zerolinecolor": "white"
           }
          },
          "shapedefaults": {
           "line": {
            "color": "#2a3f5f"
           }
          },
          "ternary": {
           "aaxis": {
            "gridcolor": "white",
            "linecolor": "white",
            "ticks": ""
           },
           "baxis": {
            "gridcolor": "white",
            "linecolor": "white",
            "ticks": ""
           },
           "bgcolor": "#E5ECF6",
           "caxis": {
            "gridcolor": "white",
            "linecolor": "white",
            "ticks": ""
           }
          },
          "title": {
           "x": 0.05
          },
          "xaxis": {
           "automargin": true,
           "gridcolor": "white",
           "linecolor": "white",
           "ticks": "",
           "title": {
            "standoff": 15
           },
           "zerolinecolor": "white",
           "zerolinewidth": 2
          },
          "yaxis": {
           "automargin": true,
           "gridcolor": "white",
           "linecolor": "white",
           "ticks": "",
           "title": {
            "standoff": 15
           },
           "zerolinecolor": "white",
           "zerolinewidth": 2
          }
         }
        },
        "title": {
         "text": "GBC - Feature Importance"
        },
        "xaxis": {
         "anchor": "y",
         "domain": [
          0,
          1
         ],
         "title": {
          "text": "Importance Value"
         }
        },
        "yaxis": {
         "anchor": "x",
         "categoryorder": "total ascending",
         "domain": [
          0,
          1
         ],
         "title": {
          "text": "Feature"
         }
        }
       }
      }
     },
     "metadata": {},
     "output_type": "display_data"
    },
    {
     "name": "stderr",
     "output_type": "stream",
     "text": [
      " 86%|████████▌ | 6/7 [00:09<00:01,  1.71s/it]"
     ]
    },
    {
     "name": "stdout",
     "output_type": "stream",
     "text": [
      "Ensemble model trained.\n",
      "Shape of transformed_X_train: (1079, 7)\n",
      "Evaluation metrics for Ensemble: {'Accuracy': 0.5333333333333333, 'Precision': 0.5144451717034375, 'Recall': 0.5333333333333333, 'F1 Score': 0.5184091673784196}\n",
      "Classification Report for Ensemble:\n",
      "{'0': {'precision': 0.32558139534883723, 'recall': 0.2028985507246377, 'f1-score': 0.25, 'support': 69}, '1': {'precision': 0.4745762711864407, 'recall': 0.5714285714285714, 'f1-score': 0.5185185185185185, 'support': 98}, '2': {'precision': 0.6788990825688074, 'recall': 0.7184466019417476, 'f1-score': 0.6981132075471699, 'support': 103}, 'accuracy': 0.5333333333333333, 'macro avg': {'precision': 0.49301891636802847, 'recall': 0.4975912413649855, 'f1-score': 0.48887724202189614, 'support': 270}, 'weighted avg': {'precision': 0.5144451717034375, 'recall': 0.5333333333333333, 'f1-score': 0.5184091673784196, 'support': 270}}\n",
      "Feature importance for ensembles needs special handling.\n"
     ]
    },
    {
     "name": "stderr",
     "output_type": "stream",
     "text": [
      "100%|██████████| 7/7 [00:17<00:00,  2.49s/it]"
     ]
    },
    {
     "name": "stdout",
     "output_type": "stream",
     "text": [
      "Stacked model trained.\n",
      "Shape of transformed_X_train: (1079, 7)\n",
      "Evaluation metrics for Stacked: {'Accuracy': 0.5703703703703704, 'Precision': 0.5314872866597004, 'Recall': 0.5703703703703704, 'F1 Score': 0.5207307095123707}\n",
      "Classification Report for Stacked:\n",
      "{'0': {'precision': 0.3333333333333333, 'recall': 0.07246376811594203, 'f1-score': 0.11904761904761905, 'support': 69}, '1': {'precision': 0.503448275862069, 'recall': 0.7448979591836735, 'f1-score': 0.6008230452674896, 'support': 98}, '2': {'precision': 0.6909090909090909, 'recall': 0.7378640776699029, 'f1-score': 0.7136150234741784, 'support': 103}, 'accuracy': 0.5703703703703704, 'macro avg': {'precision': 0.5092302333681644, 'recall': 0.5184086016565062, 'f1-score': 0.477828562596429, 'support': 270}, 'weighted avg': {'precision': 0.5314872866597004, 'recall': 0.5703703703703704, 'f1-score': 0.5207307095123707, 'support': 270}}\n",
      "Feature importance for ensembles needs special handling.\n",
      "Model training complete.\n",
      "Next exp_id generated: experiment_378\n"
     ]
    },
    {
     "name": "stderr",
     "output_type": "stream",
     "text": [
      "\n"
     ]
    }
   ],
   "source": [
    "import os\n",
    "import json\n",
    "def get_next_experiment_id(log_file):\n",
    "    if os.path.exists(log_file) and os.path.getsize(log_file) > 0:\n",
    "        try:\n",
    "            experiment_log = pd.read_csv(log_file)\n",
    "            last_exp_id = experiment_log['exp_id'].iloc[-1]\n",
    "            next_exp_id = f\"experiment_{int(last_exp_id.split('_')[1]) + 1}\"\n",
    "            print(f\"Next exp_id generated: {next_exp_id}\")  # Debug print\n",
    "        except pd.errors.EmptyDataError:\n",
    "            next_exp_id = \"experiment_1\"\n",
    "    else:\n",
    "        next_exp_id = \"experiment_1\"\n",
    "    return next_exp_id\n",
    "\n",
    "def log_experiment_results_csv(log_file, exp_id=None, evaluation_results=None, notes={}):\n",
    "    if exp_id is None:\n",
    "        exp_id = get_next_experiment_id(log_file)\n",
    "        \n",
    "    if os.path.exists(log_file) and os.path.getsize(log_file) > 0:\n",
    "        try:\n",
    "            experiment_log = pd.read_csv(log_file)\n",
    "        except pd.errors.EmptyDataError:\n",
    "            experiment_log = pd.DataFrame(columns=['exp_id', 'evaluation_results', 'notes'])\n",
    "    else:\n",
    "        experiment_log = pd.DataFrame(columns=['exp_id', 'evaluation_results', 'notes'])\n",
    "        \n",
    "    new_row = {'exp_id': exp_id, 'evaluation_results': str(evaluation_results), 'notes': str(notes)}\n",
    "    experiment_log = experiment_log.append(new_row, ignore_index=True)\n",
    "    \n",
    "    experiment_log.to_csv(log_file, index=False)\n",
    "\n",
    "log_file = \"experiment_logs.csv\"\n",
    "\n",
    "model_list = [\"RF\", \"XGBoost\", \"LogisticRegression\", \"SVM\", \"GBC\"]\n",
    "[\"RF\", \"XGBoost\", \"LogisticRegression\", \"SVM\", \"GBC\", \"Ensemble\", \"Stacked\"]\n",
    "\n",
    "#df_survey_processed = preprocessor_survey.run_preprocessing_pipeline(skip_preprocess_dataframe=False, drop_converted_cols=True, use_frequency_encoding=True)\n",
    "models, evaluation_results, class_report, best_params,transformed_X_train_df, X_train, y_train, X_test, y_test = prepare_and_fit_model(\n",
    "    survey_df, 'Q1_Candidate', model_type=\"All\", feature_importance=True, \n",
    "    scale_data=True, evaluate_models=True, use_grid_search=False, \n",
    "    feature_engineering=\"BOTH\", add_stats=False\n",
    ")\n",
    "\n",
    "class_report_str = json.dumps(class_report, indent=4)\n",
    "\n",
    "best_params_str = json.dumps(best_params, indent=4)\n",
    "\n",
    "\n",
    "# Update your notes dictionary\n",
    "notes = {\n",
    "    \"description\": \"Good SVM - Removed some features\",\n",
    "    \"target_col\": \"Q1_Candidate\",\n",
    "    \"columns_used\": \", \".join(columns_to_use),\n",
    "    \"classification_report\": class_report_str,\n",
    "    \"best_params\": best_params_str \n",
    "}\n",
    "log_experiment_results_csv(log_file,None, evaluation_results, notes)"
   ]
  },
  {
   "cell_type": "code",
   "execution_count": 20,
   "metadata": {},
   "outputs": [],
   "source": [
    "import joblib\n",
    "\n",
    "def save_models(models_dict, model_names, number):\n",
    "    for name in model_names:\n",
    "        model = models_dict.get(name)\n",
    "        if model:\n",
    "            joblib.dump(model, f'{name}_model_{number}.pkl')\n",
    "        else:\n",
    "            print(f\"{name} model not found in the dictionary.\")\n",
    "\n",
    "#save_models(models, ['LogisticRegression'],\"61_70_pca_7_k_8\")"
   ]
  },
  {
   "cell_type": "code",
   "execution_count": 21,
   "metadata": {},
   "outputs": [
    {
     "data": {
      "text/html": [
       "<div>\n",
       "<style scoped>\n",
       "    .dataframe tbody tr th:only-of-type {\n",
       "        vertical-align: middle;\n",
       "    }\n",
       "\n",
       "    .dataframe tbody tr th {\n",
       "        vertical-align: top;\n",
       "    }\n",
       "\n",
       "    .dataframe thead th {\n",
       "        text-align: right;\n",
       "    }\n",
       "</style>\n",
       "<table border=\"1\" class=\"dataframe\">\n",
       "  <thead>\n",
       "    <tr style=\"text-align: right;\">\n",
       "      <th></th>\n",
       "      <th>PCA1</th>\n",
       "      <th>PCA2</th>\n",
       "      <th>PCA3</th>\n",
       "      <th>PCA4</th>\n",
       "      <th>PCA5</th>\n",
       "      <th>PCA6</th>\n",
       "      <th>PCA7</th>\n",
       "      <th>target_class</th>\n",
       "    </tr>\n",
       "  </thead>\n",
       "  <tbody>\n",
       "    <tr>\n",
       "      <th>0</th>\n",
       "      <td>-0.578705</td>\n",
       "      <td>-0.675645</td>\n",
       "      <td>-0.413306</td>\n",
       "      <td>-2.426388</td>\n",
       "      <td>-0.716955</td>\n",
       "      <td>1.173391</td>\n",
       "      <td>-0.368135</td>\n",
       "      <td>2</td>\n",
       "    </tr>\n",
       "    <tr>\n",
       "      <th>1</th>\n",
       "      <td>0.076877</td>\n",
       "      <td>-0.061290</td>\n",
       "      <td>2.904896</td>\n",
       "      <td>0.417886</td>\n",
       "      <td>-1.788979</td>\n",
       "      <td>1.715090</td>\n",
       "      <td>-0.100682</td>\n",
       "      <td>1</td>\n",
       "    </tr>\n",
       "    <tr>\n",
       "      <th>2</th>\n",
       "      <td>3.472622</td>\n",
       "      <td>2.376391</td>\n",
       "      <td>1.819725</td>\n",
       "      <td>-0.214088</td>\n",
       "      <td>0.849410</td>\n",
       "      <td>-3.854885</td>\n",
       "      <td>0.320745</td>\n",
       "      <td>1</td>\n",
       "    </tr>\n",
       "    <tr>\n",
       "      <th>3</th>\n",
       "      <td>0.501538</td>\n",
       "      <td>-1.230294</td>\n",
       "      <td>-0.406338</td>\n",
       "      <td>-1.475873</td>\n",
       "      <td>-1.245313</td>\n",
       "      <td>1.091647</td>\n",
       "      <td>0.485955</td>\n",
       "      <td>2</td>\n",
       "    </tr>\n",
       "    <tr>\n",
       "      <th>4</th>\n",
       "      <td>0.026681</td>\n",
       "      <td>-0.652298</td>\n",
       "      <td>-1.734389</td>\n",
       "      <td>-0.082336</td>\n",
       "      <td>-1.461620</td>\n",
       "      <td>-0.986357</td>\n",
       "      <td>-2.671032</td>\n",
       "      <td>2</td>\n",
       "    </tr>\n",
       "  </tbody>\n",
       "</table>\n",
       "</div>"
      ],
      "text/plain": [
       "       PCA1      PCA2      PCA3      PCA4      PCA5      PCA6      PCA7  \\\n",
       "0 -0.578705 -0.675645 -0.413306 -2.426388 -0.716955  1.173391 -0.368135   \n",
       "1  0.076877 -0.061290  2.904896  0.417886 -1.788979  1.715090 -0.100682   \n",
       "2  3.472622  2.376391  1.819725 -0.214088  0.849410 -3.854885  0.320745   \n",
       "3  0.501538 -1.230294 -0.406338 -1.475873 -1.245313  1.091647  0.485955   \n",
       "4  0.026681 -0.652298 -1.734389 -0.082336 -1.461620 -0.986357 -2.671032   \n",
       "\n",
       "   target_class  \n",
       "0             2  \n",
       "1             1  \n",
       "2             1  \n",
       "3             2  \n",
       "4             2  "
      ]
     },
     "execution_count": 21,
     "metadata": {},
     "output_type": "execute_result"
    }
   ],
   "source": [
    "transformed_X_train_df.head()"
   ]
  },
  {
   "cell_type": "code",
   "execution_count": 22,
   "metadata": {},
   "outputs": [
    {
     "data": {
      "image/png": "[encoded data removed]",
      "text/plain": [
       "<Figure size 1000x600 with 1 Axes>"
      ]
     },
     "metadata": {},
     "output_type": "display_data"
    }
   ],
   "source": [
    "def plot_feature_engineering_vs_target(df, target_column, feature_engineering_type):\n",
    "    \"\"\"\n",
    "    Plot the relationship between feature engineering outcomes (PCA components or KMeans clusters) \n",
    "    and the target classes.\n",
    "    \n",
    "    Parameters:\n",
    "    df (DataFrame): The DataFrame containing transformed features and target classes.\n",
    "    target_column (str): The name of the column containing the target classes.\n",
    "    feature_engineering_type (str): The type of feature engineering performed ('KMeans', 'PCA', 'BOTH').\n",
    "    \"\"\"\n",
    "    \n",
    "    if feature_engineering_type == 'KMeans' or feature_engineering_type == 'BOTH':\n",
    "        # Plotting KMeans clusters against the target\n",
    "        plt.figure(figsize=(10, 6))\n",
    "        sns.countplot(x='kmeans_cluster', hue=target_column, data=df)\n",
    "        plt.title('KMeans Clusters vs Target Classes')\n",
    "        plt.xlabel('KMeans Cluster')\n",
    "        plt.ylabel('Count')\n",
    "        plt.show()\n",
    "        \n",
    "    if feature_engineering_type == 'PCA' or feature_engineering_type == 'BOTH':\n",
    "        # Plotting PCA components against the target\n",
    "        plt.figure(figsize=(10, 6))\n",
    "        sns.scatterplot(x='PCA1', y='PCA2', hue=target_column, data=df, palette=\"tab10\", s=60, alpha=0.8)\n",
    "        plt.title('PCA Components vs Target Classes')\n",
    "        plt.xlabel('PCA1')\n",
    "        plt.ylabel('PCA2')\n",
    "        plt.show()\n",
    "\n",
    "target_column = 'target_class'\n",
    "\n",
    "plot_feature_engineering_vs_target(transformed_X_train_df, target_column, 'PCA')"
   ]
  },
  {
   "cell_type": "markdown",
   "metadata": {},
   "source": [
    "TOD_PRES_R_2020_PREC"
   ]
  },
  {
   "cell_type": "markdown",
   "metadata": {},
   "source": [
    "import pandas as pd\n",
    "\n",
    "def extract_feature_importance_from_lr_model(models, model_key, feature_names):\n",
    "    \"\"\"\n",
    "    Extracts and sorts feature importances for a given trained Logistic Regression model.\n",
    "    \n",
    "    Parameters:\n",
    "        models (dict): Dictionary containing the trained models.\n",
    "        model_key (str): Key for the Logistic Regression model in the models dictionary.\n",
    "        feature_names (list): List of feature names used in the model training.\n",
    "        \n",
    "    Returns:\n",
    "        sorted_feature_importances (pd.Series): Sorted feature importances.\n",
    "    \"\"\"\n",
    "    # Extract the Logistic Regression model\n",
    "    lr_model = models[model_key].named_steps['classifier']\n",
    "    \n",
    "    # Check if the model has 'coef_' attribute\n",
    "    if not hasattr(lr_model, 'coef_'):\n",
    "        raise AttributeError(\"The model does not have coefficients. Make sure it's a fitted Logistic Regression model.\")\n",
    "    \n",
    "    # Extract and sort the feature importances\n",
    "    feature_importances = pd.Series(lr_model.coef_[0], index=feature_names)\n",
    "    sorted_feature_importances = feature_importances.abs().sort_values(ascending=False)\n",
    "    \n",
    "    return sorted_feature_importances\n",
    "\n",
    "# Feature names used for training the model. Replace with your actual list.\n",
    "feature_names = columns_to_use\n",
    "\n",
    "# Extract and print sorted feature importances\n",
    "sorted_feature_importances = extract_feature_importance_from_lr_model(models, 'LogisticRegression', feature_names)\n",
    "print(sorted_feature_importances)"
   ]
  },
  {
   "cell_type": "markdown",
   "metadata": {},
   "source": [
    "def iterative_feature_removal(df, target_col, initial_model_type='RF', num_iterations=3, num_features_to_remove=1):\n",
    "    all_features = df.columns.tolist()\n",
    "    all_features.remove(target_col)\n",
    "    \n",
    "    global_best_score = 0\n",
    "    global_best_features = []\n",
    "    \n",
    "    for iteration in range(num_iterations):\n",
    "        print(f\"Starting iteration {iteration + 1}\")\n",
    "        best_score = 0\n",
    "        best_features = []\n",
    "        remaining_features = all_features.copy()\n",
    "\n",
    "        while len(remaining_features) > 0:\n",
    "            models, evaluation_results = prepare_and_fit_model(\n",
    "                df[remaining_features + [target_col]], \n",
    "                target_col, \n",
    "                model_type=initial_model_type, \n",
    "                feature_importance=True, \n",
    "                evaluate_models=True\n",
    "            )\n",
    "            \n",
    "            # Get the trained model\n",
    "            clf = models[initial_model_type]\n",
    "            \n",
    "            # Get feature importance\n",
    "            importances = clf.named_steps['classifier'].feature_importances_\n",
    "            \n",
    "            # Evaluate model\n",
    "            X_test = df[remaining_features]\n",
    "            y_test = df[target_col]\n",
    "            y_pred = clf.predict(X_test)\n",
    "            score = accuracy_score(y_test, y_pred)\n",
    "            print(f\"Score: {score} in iteration {iteration + 1}\")\n",
    "            \n",
    "            if score > best_score:\n",
    "                best_score = score\n",
    "                best_features = remaining_features.copy()\n",
    "                \n",
    "            # Sort features by importance\n",
    "            feature_importance = dict(zip(remaining_features, importances))\n",
    "            sorted_features = sorted(feature_importance.items(), key=lambda x: x[1])\n",
    "            \n",
    "            # Remove the least important features\n",
    "            features_to_remove = [f[0] for f in sorted_features[:num_features_to_remove]]\n",
    "            for feature in features_to_remove:\n",
    "                remaining_features.remove(feature)\n",
    "            \n",
    "            print(f\"Removed {features_to_remove}, new best score: {best_score}, remaining features: {len(remaining_features)}\")\n",
    "\n",
    "        if best_score > global_best_score:\n",
    "            global_best_score = best_score\n",
    "            global_best_features = best_features\n",
    "\n",
    "        # Reset all_features to the best from this iteration for the next cycle\n",
    "        all_features = best_features\n",
    "        \n",
    "\n",
    "    return global_best_features\n",
    "\n",
    "best_features = iterative_feature_removal(df_survey_processed, 'Q1_Candidate', initial_model_type='RF', num_iterations=10, num_features_to_remove=100)"
   ]
  },
  {
   "cell_type": "code",
   "execution_count": null,
   "metadata": {},
   "outputs": [],
   "source": []
  }
 ],
 "metadata": {
  "kernelspec": {
   "display_name": "Python 3",
   "language": "python",
   "name": "python3"
  },
  "language_info": {
   "codemirror_mode": {
    "name": "ipython",
    "version": 3
   },
   "file_extension": ".py",
   "mimetype": "text/x-python",
   "name": "python",
   "nbconvert_exporter": "python",
   "pygments_lexer": "ipython3",
   "version": "3.11.5"
  },
  "orig_nbformat": 4
 },
 "nbformat": 4,
 "nbformat_minor": 2
}
