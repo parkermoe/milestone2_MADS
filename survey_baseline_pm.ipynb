{
 "cells": [
  {
   "cell_type": "code",
   "execution_count": 8,
   "metadata": {},
   "outputs": [],
   "source": [
    "from preprocessing_utils import *\n",
    "import pandas as pd\n",
    "import numpy as np\n",
    "import matplotlib.pyplot as plt\n",
    "import seaborn as sns\n",
    "\n",
    "survey_data_path = \"/Volumes/DeepLearner/MADS/Milestone_data/survey_cleaned.csv\"\n",
    "data_5k_path = \"/Volumes/DeepLearner/MADS/Milestone_data/data_5k_cleaned.csv\""
   ]
  },
  {
   "cell_type": "code",
   "execution_count": 9,
   "metadata": {},
   "outputs": [
    {
     "data": {
      "text/plain": [
       "(  ADD_TYPE   AGE AI_COUNTY_NAME  CENSUS_ST  CENSUS_TRK  CNS_MEDINC  \\\n",
       " 0        S  63.0         MARION         18    390602.0       728.0   \n",
       " 1        S  73.0           POLK         12     14123.0       511.0   \n",
       " 2        S  86.0    LOS ANGELES          6    403703.0       728.0   \n",
       " 3        S  55.0          OCEAN         34    714200.0       868.0   \n",
       " 4        S  73.0      JEFFERSON          8      9832.0       793.0   \n",
       " \n",
       "    CNSUS_PCTA  CNSUS_PCTB  CNSUS_PCTH  CNSUS_PCTI  ...  VTR_PRI20  VTR_PRI21  \\\n",
       " 0    0.000000   30.357143    7.142857         0.0  ...          N          N   \n",
       " 1    0.000000   28.571429   14.285714         0.0  ...          N          N   \n",
       " 2   24.324324    0.000000   43.243243         0.0  ...          N          N   \n",
       " 3    0.000000    0.000000   13.636364         0.0  ...          N          N   \n",
       " 4    0.000000    8.450704   14.788732         0.0  ...          Y          N   \n",
       " \n",
       "    VTR_PRI22    ZIP           Q1_Candidate                  Q2_Support  \\\n",
       " 0          A  46216    President Joe Biden      Very likely to support   \n",
       " 1          Y  33884              Undecided                         NaN   \n",
       " 2          N  91724    President Joe Biden           Likely to support   \n",
       " 3          N   8723    Marianne Williamson  Somewhat likely to support   \n",
       " 4          Y  80003  Robert F. Kennedy Jr.                         NaN   \n",
       " \n",
       "              Q3_Party    Q4_LikelyVoter Q5_TrumpSupport SURVEY_TYPE  \n",
       " 0            Democrat  Extremely likely     Never Trump           T  \n",
       " 1                 NaN               NaN             NaN           T  \n",
       " 2            Democrat       Very likely     Never Trump           T  \n",
       " 3  Unaffiliated/Other  Extremely likely     Maybe Trump           T  \n",
       " 4                 NaN               NaN             NaN           T  \n",
       " \n",
       " [5 rows x 182 columns],\n",
       " (1560, 182))"
      ]
     },
     "execution_count": 9,
     "metadata": {},
     "output_type": "execute_result"
    }
   ],
   "source": [
    "df_survey = pd.read_csv(survey_data_path, low_memory=False)\n",
    "df_survey = df_survey.drop(columns=['Unnamed: 0', 'RECORD_ID'])\n",
    "df_survey.head(), df_survey.shape"
   ]
  },
  {
   "cell_type": "code",
   "execution_count": 14,
   "metadata": {},
   "outputs": [],
   "source": [
    "from sklearn.preprocessing import LabelEncoder\n",
    "import pandas as pd\n",
    "\n",
    "def preprocess_dataframe(df, use_frequency_encoding=False):\n",
    "    \"\"\"\n",
    "    Preprocesses the dataframe based on the specified steps.\n",
    "    \n",
    "    Parameters:\n",
    "        df (DataFrame): Input dataframe.\n",
    "        use_frequency_encoding (bool): Whether to use frequency encoding for ZIP, State, and County.\n",
    "        \n",
    "    Returns:\n",
    "        DataFrame: Preprocessed dataframe.\n",
    "    \"\"\"\n",
    "\n",
    "    df = df.applymap(lambda x: x.upper() if type(x) == str else x)\n",
    "\n",
    "    df['PRFL_MINWAGE'] = df['PRFL_MINWAGE'].replace('N', 'UNKNOWN')\n",
    "\n",
    "    # one-Hot Encoding\n",
    "    one_hot_cols = [\n",
    "        'CENSUS_ST', 'AI_COUNTY_NAME', 'ADD_TYPE', 'CENSUS_TRK', 'CONG_DIST',\n",
    "        'COUNTY_TYPE', 'DON_CHARIT', 'DON_POLIT', 'ETHNIC_INFER',\n",
    "        'GENDER_MIX', 'GENERATION', 'HOMEOWNER', 'HOMEOWNRNT', 'LANGUAGE',\n",
    "        'LIFESTAGE_CLUSTER', 'PARTY_CODE', 'PARTY_MIX', 'PRESENCHLD', 'RELIGION',\n",
    "        'SEX', 'ST_LO_HOUS', 'ST_UP_HOUS', 'STATUS'\n",
    "    ]\n",
    "    \n",
    "    df = pd.get_dummies(df, columns=one_hot_cols, drop_first=True)\n",
    "\n",
    "    # Handle PRFL_ columns\n",
    "    prfl_cols = [col for col in df.columns if col.startswith('PRFL_')]\n",
    "    df = pd.get_dummies(df, columns=prfl_cols, drop_first=True)\n",
    "\n",
    "    # splitting Columns\n",
    "    split_cols = ['TOD_PRES_DIFF_2016', 'TOD_PRES_DIFF_2016_PREC', 'TOD_PRES_DIFF_2020_PREC']\n",
    "    for col in split_cols:\n",
    "        df[col + '_num'] = df[col].str.extract('(\\d+)').astype('float')\n",
    "        df[col + '_party'] = df[col].str.extract('([RD])')\n",
    "\n",
    "    #convert to Int\n",
    "    int_cols = ['VOTER_CNT', 'TRAIL_CNT', 'CNS_MEDINC', 'HH_SIZE', 'LENGTH_RES', 'PERSONS_HH']\n",
    "    df[int_cols] = df[int_cols].astype(int)\n",
    "\n",
    "    # label Encoding\n",
    "    label_cols = ['CREDRATE', 'EDUCATION', 'HH_SIZE', 'HOMEMKTVAL', 'INCOMESTHH', 'NETWORTH']\n",
    "    for col in label_cols:\n",
    "        le = LabelEncoder()\n",
    "        df[col] = le.fit_transform(df[col])\n",
    "\n",
    "    # drop Columns\n",
    "    drop_cols = ['ETHNICCODE']\n",
    "    df.drop(columns=drop_cols, inplace=True)\n",
    "    \n",
    "    # frequency Encoding for ZIP, State, and County\n",
    "    if use_frequency_encoding:\n",
    "        freq_cols = ['ZIP', 'STATE', 'COUNTY_ST']\n",
    "        for col in freq_cols:\n",
    "            freq_map = df[col].value_counts(normalize=True)\n",
    "            df[col + '_freq'] = df[col].map(freq_map)\n",
    "            \n",
    "    return df\n",
    "\n"
   ]
  },
  {
   "cell_type": "code",
   "execution_count": 15,
   "metadata": {},
   "outputs": [
    {
     "data": {
      "text/plain": [
       "(    AGE  CNS_MEDINC  CNSUS_PCTA  CNSUS_PCTB  CNSUS_PCTH  CNSUS_PCTI  \\\n",
       " 0  63.0         728    0.000000   30.357143    7.142857         0.0   \n",
       " 1  73.0         511    0.000000   28.571429   14.285714         0.0   \n",
       " 2  86.0         728   24.324324    0.000000   43.243243         0.0   \n",
       " 3  55.0         868    0.000000    0.000000   13.636364         0.0   \n",
       " 4  73.0         793    0.000000    8.450704   14.788732         0.0   \n",
       " \n",
       "    CNSUS_PCTM  CNSUS_PCTO  CNSUS_PCTP  CNSUS_PCTW  ...  PRFL_VETERAN_Y  \\\n",
       " 0    5.357143         0.0    0.000000   57.142857  ...               0   \n",
       " 1    7.142857         0.0    0.000000   50.000000  ...               0   \n",
       " 2    0.000000         0.0    0.000000   32.432432  ...               0   \n",
       " 3    2.272727         0.0    0.000000   84.090909  ...               0   \n",
       " 4    4.225352         0.0    0.704225   71.830986  ...               0   \n",
       " \n",
       "    TOD_PRES_DIFF_2016_num  TOD_PRES_DIFF_2016_party  \\\n",
       " 0                    23.0                         D   \n",
       " 1                    14.0                         R   \n",
       " 2                    48.0                         D   \n",
       " 3                    34.0                         R   \n",
       " 4                     7.0                         D   \n",
       " \n",
       "    TOD_PRES_DIFF_2016_PREC_num  TOD_PRES_DIFF_2016_PREC_party  \\\n",
       " 0                         20.0                              D   \n",
       " 1                         25.0                              R   \n",
       " 2                          5.0                              D   \n",
       " 3                         31.0                              R   \n",
       " 4                          1.0                              D   \n",
       " \n",
       "    TOD_PRES_DIFF_2020_PREC_num  TOD_PRES_DIFF_2020_PREC_party  ZIP_freq  \\\n",
       " 0                         32.0                              D  0.000641   \n",
       " 1                         24.0                              R  0.000641   \n",
       " 2                          NaN                            NaN  0.000641   \n",
       " 3                         24.0                              R  0.000641   \n",
       " 4                          8.0                              D  0.000641   \n",
       " \n",
       "    STATE_freq COUNTY_ST_freq  \n",
       " 0    0.023718       0.015385  \n",
       " 1    0.068590       0.002564  \n",
       " 2    0.080769       0.022436  \n",
       " 3    0.033333       0.020513  \n",
       " 4    0.023077       0.019872  \n",
       " \n",
       " [5 rows x 2522 columns],\n",
       " (1560, 2522))"
      ]
     },
     "execution_count": 15,
     "metadata": {},
     "output_type": "execute_result"
    }
   ],
   "source": [
    "df_survey = preprocess_dataframe(df_survey, use_frequency_encoding=True)\n",
    "df_survey.head(), df_survey.shape"
   ]
  },
  {
   "cell_type": "code",
   "execution_count": null,
   "metadata": {},
   "outputs": [],
   "source": []
  }
 ],
 "metadata": {
  "kernelspec": {
   "display_name": "Python 3",
   "language": "python",
   "name": "python3"
  },
  "language_info": {
   "codemirror_mode": {
    "name": "ipython",
    "version": 3
   },
   "file_extension": ".py",
   "mimetype": "text/x-python",
   "name": "python",
   "nbconvert_exporter": "python",
   "pygments_lexer": "ipython3",
   "version": "3.11.2"
  },
  "orig_nbformat": 4
 },
 "nbformat": 4,
 "nbformat_minor": 2
}
