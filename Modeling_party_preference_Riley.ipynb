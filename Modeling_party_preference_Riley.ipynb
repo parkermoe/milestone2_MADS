{
 "cells": [
  {
   "cell_type": "code",
   "execution_count": 1,
   "id": "initial_id",
   "metadata": {
    "ExecuteTime": {
     "end_time": "2023-10-15T03:57:01.277453Z",
     "start_time": "2023-10-15T03:57:00.953517Z"
    },
    "tags": []
   },
   "outputs": [],
   "source": [
    "import pandas as pd\n",
    "import numpy as np\n",
    "import matplotlib.pyplot as plt\n",
    "import warnings\n",
    "warnings.filterwarnings('ignore')"
   ]
  },
  {
   "cell_type": "code",
   "execution_count": 2,
   "id": "1bbaecd7-d282-4fe3-adaf-45fe3e383006",
   "metadata": {
    "tags": []
   },
   "outputs": [],
   "source": [
    "from sklearn.model_selection import cross_val_score\n",
    "from sklearn.pipeline import Pipeline\n",
    "from sklearn.preprocessing import OneHotEncoder\n",
    "from sklearn.compose import ColumnTransformer\n",
    "from sklearn.metrics import classification_report\n"
   ]
  },
  {
   "cell_type": "code",
   "execution_count": 37,
   "id": "5e04f699-9c4d-471a-a401-d754fefa5bf8",
   "metadata": {
    "tags": []
   },
   "outputs": [],
   "source": [
    "from collections import Counter\n",
    "from sklearn.impute import SimpleImputer\n",
    "from sklearn.preprocessing import LabelEncoder, StandardScaler\n",
    "from sklearn.model_selection import train_test_split\n",
    "from sklearn.ensemble import RandomForestClassifier, GradientBoostingClassifier\n",
    "from sklearn.linear_model import LogisticRegression\n",
    "from sklearn.metrics import accuracy_score, recall_score, f1_score\n",
    "import seaborn as sns\n",
    "import plotly.express as px\n",
    "from collections import defaultdict\n",
    "import time\n",
    "#!pip install xgboost\n",
    "from xgboost import XGBClassifier\n",
    "from sklearn.impute import KNNImputer\n",
    "import xgboost as xgb\n",
    "from sklearn.metrics import accuracy_score, classification_report\n",
    "from sklearn.model_selection import GridSearchCV"
   ]
  },
  {
   "cell_type": "markdown",
   "id": "180ff05e-d646-408e-b6fd-703098d0f32c",
   "metadata": {},
   "source": [
    "# Supervised Learning: Predicting Party Preference "
   ]
  },
  {
   "cell_type": "markdown",
   "id": "0004dc02-a18f-4f2b-b9d2-bed0c9ed078b",
   "metadata": {},
   "source": [
    "### Functions for creating the \"INFER_PARTY\" target feature and data cleaning the two datasets"
   ]
  },
  {
   "cell_type": "code",
   "execution_count": 4,
   "id": "68b281ac-ccd8-43a3-aedf-09b128cf1383",
   "metadata": {
    "tags": []
   },
   "outputs": [],
   "source": [
    "\n",
    "def infer_party(corrected_data):\n",
    "\n",
    "    #set index to 'RECORD_ID' to be able to match records with 500K dataset\n",
    "    corrected_data.set_index('RECORD_ID', inplace=True)\n",
    "\n",
    "    #Replace blanks and spaces with NaN\n",
    "    corrected_data.replace(r'^\\s*$', np.nan, regex=True, inplace=True)\n",
    "\n",
    "    # Update the 'I' values in PARTY_CODE to 'N' for rows where STATE is 'SD'\n",
    "    corrected_data.loc[(corrected_data['STATE'] == 'SD') & (corrected_data['PARTY_CODE'] == 'I'), 'PARTY_CODE'] = 'N'\n",
    "\n",
    "    # Update the 'U' values in PARTY_CODE to 'N' for rows where STATE is in ['DC', 'LA', 'RI']\n",
    "    states_to_update = ['DC', 'LA', 'RI']\n",
    "    corrected_data.loc[(corrected_data['STATE'].isin(states_to_update)) & (corrected_data['PARTY_CODE'] == 'U'), 'PARTY_CODE'] = 'N'\n",
    "\n",
    "    # Update the 'I' values in PARTY_CODE to 'N' for rows where STATE is 'OK'\n",
    "    corrected_data.loc[(corrected_data['STATE'] == 'OK') & (corrected_data['PARTY_CODE'] == 'I'), 'PARTY_CODE'] = 'N'\n",
    "\n",
    "    corrected_data['INFER_PARTY'] = np.nan\n",
    "\n",
    "    # If anyone has voted Dem or Repub in a more recent election, change their INFER_PARTY label to that party\n",
    "    columns_to_check = ['VTR_PPP16', 'VTR_GEN16','VTR_PRI18','VTR_GEN18', 'VTR_PRI20', 'VTR_PPP20', 'VTR_GEN20', 'VTR_PRI22', 'VTR_GEN22']\n",
    "    democrat_values = ['D', 'M', 'Z']\n",
    "    republican_values = ['R', 'P', 'X']\n",
    "\n",
    "    # Loop through the columns and set the 'INFER_PARTY' value based on the mappings\n",
    "    for column in columns_to_check:\n",
    "        corrected_data.loc[corrected_data[column].isin(democrat_values), 'INFER_PARTY'] = 'D'\n",
    "        corrected_data.loc[corrected_data[column].isin(republican_values), 'INFER_PARTY'] = 'R'\n",
    "\n",
    "\n",
    "    print('Final INFER_PARTY Ds and Rs:')\n",
    "    print(len(corrected_data.loc[corrected_data['INFER_PARTY'].isin(['D', 'R'])]))\n",
    "    print('Final INFER_PARTY NaNs:')\n",
    "    print(corrected_data['INFER_PARTY'].isna().sum())\n",
    "    \n",
    "    return corrected_data\n",
    "\n",
    "     \n",
    "def additional_cleaning(data):\n",
    "    \n",
    "    # Convert mixed type columns to either all numeric or all string representations\n",
    "    data['CNS_MEDINC'] = data['CNS_MEDINC'].astype('Int64')\n",
    "    data['YEARBUILT'] = data['YEARBUILT'].astype('Int64')\n",
    "    data['VOTER_CNT'] = data['VOTER_CNT'].str.strip().astype('Int64')\n",
    "    data['HH_SIZE'] = data['HH_SIZE'].str.strip().astype('Int64')\n",
    "    data['VOTER_TRLR'] = data['VOTER_TRLR'].astype(str)\n",
    "    data['GENDER_MIX'] = data['GENDER_MIX'].astype(str)\n",
    "    data['AGE']=data['AGE'].astype('Int64')\n",
    "    data['CRD_RANGE']=data['CRD_RANGE'].astype('Int64')\n",
    "    data['PERSONS_HH'] = data['PERSONS_HH'].astype('Int64')\n",
    "    data['NUMCHILD'] = data['NUMCHILD'].astype('Int64')\n",
    "    data['LENGTH_RES'] = data['LENGTH_RES'].astype('Int64')\n",
    "    \n",
    "    \n",
    "    # Mapping for INCOMESTHH\n",
    "    income_map = {\n",
    "        'A': 5000, 'B': 12500, 'C': 17500, 'D': 22500, 'E': 27500,\n",
    "        'F': 32500, 'G': 37500, 'H': 42500, 'I': 47500, 'J': 52500,\n",
    "        'K': 57500, 'L': 62500, 'M': 70000, 'N': 87500, 'O': 125000,\n",
    "        'P': 162500, 'Q': 187500, 'R': 225000, 'S': 300000  # Since it's 250,000+, this is a simplification\n",
    "    }\n",
    "\n",
    "    # Mapping for NETWORTH\n",
    "    networth_map = {\n",
    "        'A': 0, 'B': 2500, 'C': 7500, 'D': 17500, 'E': 37500,\n",
    "        'F': 75000, 'G': 175000, 'H': 375000, 'I': 500000  # Since it's >499,999, this is a simplification\n",
    "    }\n",
    "\n",
    "    # Mapping for CREDRATE\n",
    "    cred_rate_map = {\n",
    "        'A': 800, 'B': 775, 'C': 725, 'D': 675, 'E': 625,\n",
    "        'F': 575, 'G': 525, 'H': 499  # Assuming under 499 to be 499 for simplification\n",
    "    }\n",
    "\n",
    "    # Mapping for VOTER_TRLR\n",
    "    voter_trlr_map = {\n",
    "        '0': 0, '1': 1, '2': 2, '3': 3, '4': 4,\n",
    "        '5': 5, '6': 6, '7': 7, '8': 8, '9': 9,\n",
    "        'A': 10, 'B': 11, 'C': 12, 'D': 13, 'E': 14, 'F': 15, 'G':16\n",
    "    }\n",
    "\n",
    "    # Define education mapping\n",
    "    education_mapping = {\n",
    "        'A': 0,\n",
    "        'D': 1,\n",
    "        'B': 2,\n",
    "        'C': 3\n",
    "    }\n",
    "    # Define homemktval mapping\n",
    "    homemktval_mapping = {\n",
    "        'A': 1,   # 1,000 - $24,999\n",
    "        'B': 2,   # $25,000 - $49,999\n",
    "        'C': 3,   # $50,000 - $74,999\n",
    "        'D': 4,   # $75,000 - $99,999\n",
    "        'E': 5,   # $100,000 - $124,999\n",
    "        'F': 6,   # $125,000 - $149,999\n",
    "        'G': 7,   # $150,000 - $174,999\n",
    "        'H': 8,   # $175,000 - $199,999\n",
    "        'I': 9,   # $200,000 - $224,999\n",
    "        'J': 10,  # $225,000 - $249,999\n",
    "        'K': 11,  # $250,000 - $274,999\n",
    "        'L': 12,  # $275,000 - $299,999\n",
    "        'M': 13,  # $300,000 - $349,999\n",
    "        'N': 14,  # $350,000 - $399,999\n",
    "        'O': 15,  # $400,000 - $449,999\n",
    "        'P': 16,  # $450,000 - $499,999\n",
    "        'Q': 17,  # $500,000 - $749,999\n",
    "        'R': 18,  # $750,000 - $999,999\n",
    "        'S': 19   # $1,000,000 Plus\n",
    "    }\n",
    "    # Applying the mappings\n",
    "    data['INCOMESTHH'] = data['INCOMESTHH'].replace(income_map).astype('Int64')\n",
    "    data['NETWORTH'] = data['NETWORTH'].replace(networth_map).astype('Int64')\n",
    "    data['CREDRATE'] = data['CREDRATE'].replace(cred_rate_map).astype('Int64')\n",
    "    data['VOTER_TRLR'] = data['VOTER_TRLR'].replace(voter_trlr_map).astype('Int64')\n",
    "    data['EDUCATION'] = data['EDUCATION'].replace(education_mapping).astype('Int64')\n",
    "    data['HOMEMKTVAL'] = data['HOMEMKTVAL'].replace(homemktval_mapping).astype('Int64')\n",
    "  \n",
    "    #Turning the PRES_DIFF columns into numerical variables:\n",
    "    tod_pres_diff_cols = [col for col in data.columns if col.startswith('TOD_PRES_DIFF')]\n",
    "\n",
    "    replacements = {\n",
    "        '78DO': '78D',\n",
    "        '17RO': '17R',\n",
    "        'TIE': 0\n",
    "    }\n",
    "    for key, value in replacements.items():\n",
    "        data[tod_pres_diff_cols] = data[tod_pres_diff_cols].replace(key, value)\n",
    "\n",
    "    for col in tod_pres_diff_cols:\n",
    "        # Skip if the column has already been converted \n",
    "        if data[col].dtype != 'object':\n",
    "            continue\n",
    "\n",
    "        # Strip any whitespace\n",
    "        stripped_col = data[col].str.strip()\n",
    "\n",
    "        # Extract numerical margin and party character\n",
    "        num = stripped_col.str[:-1].replace('', np.nan).astype(float)\n",
    "\n",
    "        party_char = stripped_col.str[-1]\n",
    "\n",
    "        # Create the signed margin column\n",
    "        signed_margin = num.where(party_char == 'D', -num)  # Positive for D, negative for R\n",
    "        data[col] = signed_margin\n",
    "\n",
    "#         # Define bin edges and labels\n",
    "#         bin_edges = [-float('inf'), -50, -25, -10, -5, 0, 5, 10, 25, 50, float('inf')]\n",
    "#         labels = [-7, -5, -3, -2, -1, 1, 2, 3, 5, 7]\n",
    "\n",
    "#         # Apply the binning for each 'TOD_PRES_DIFF' column\n",
    "#         for col in tod_pres_diff_cols:\n",
    "#             engineered_data[col] = pd.cut(engineered_data[col], bins=bin_edges, labels=labels, ordered=False)\n",
    "\n",
    "\n",
    "        # # Plotting the distribution of the 'TOD_PRES_DIFF_2016' column as an example\n",
    "        # plt.figure(figsize=(10, 6))\n",
    "        # engineered_data['TOD_PRES_DIFF_2016'].hist(bins=50, edgecolor='black', alpha=0.7)\n",
    "        # plt.title('Distribution of TOD_PRES_DIFF_2016')\n",
    "        # plt.xlabel('Margin')\n",
    "        # plt.ylabel('Frequency')\n",
    "        # plt.grid(False)\n",
    "        # plt.show() \n",
    "        \n",
    "        #Data engineering features\n",
    "        epsilon = 1e-10  # a small constant to prevent division by zero\n",
    "\n",
    "        data['interaction_div_2020'] = data['CNSUS_PCTW'] / (data['TOD_PRES_R_2020_PREC'] + epsilon)\n",
    "\n",
    "        data['interaction_div_2016'] = data['CNSUS_PCTW'] / (data['TOD_PRES_R_2016_PREC'] + epsilon)\n",
    "\n",
    "        # Delta interaction term\n",
    "        data['interaction_mult_delta'] = (data['TOD_PRES_R_2020_PREC'] - data['TOD_PRES_R_2016_PREC']) * data['CNSUS_PCTW']\n",
    "\n",
    "        # Interaction terms for 2020 with respect to Democratic turnout\n",
    "        data['interaction_div_D_2020'] = data['CNSUS_PCTB'] / (data['TOD_PRES_D_2020_PREC'] + epsilon)\n",
    "\n",
    "        data['interaction_div_D_2016'] = data['CNSUS_PCTB'] / (data['TOD_PRES_D_2016_PREC'] + epsilon)\n",
    "\n",
    "        # Delta interaction term for Democratic turnout\n",
    "        data['interaction_mult_D_delta'] = (data['TOD_PRES_D_2020_PREC'] - data['TOD_PRES_D_2016_PREC']) * data['CNSUS_PCTB']\n",
    "\n",
    "\n",
    "    \n",
    "    # Drop columns that create categorical variables that are only unique within states but not nation-wide, along with categorical variables 'ETHNICCODE', 'ETHNICGRP', 'OCCDETAIL', 'STATE',that harm performance with too many variables:\n",
    "    cols_to_remove = ['ZIP','CONG_DIST','CENSUS_ST', 'COUNTY_ST', 'ST_LO_HOUS', 'ST_UP_HOUS', 'AI_COUNTY_NAME', 'ETHNICCODE', 'ETHNICGRP', 'OCCDETAIL', 'STATE',]\n",
    "    \n",
    "    \n",
    "    \n",
    "    # Drop the identified columns\n",
    "    data = data.drop(columns=cols_to_remove)\n",
    "        \n",
    "    return data       \n",
    "        \n",
    "        \n"
   ]
  },
  {
   "cell_type": "code",
   "execution_count": 5,
   "id": "d959486c-1977-46a7-8a48-0738658c0e73",
   "metadata": {
    "tags": []
   },
   "outputs": [
    {
     "name": "stdout",
     "output_type": "stream",
     "text": [
      "Final INFER_PARTY Ds and Rs:\n",
      "574\n",
      "Final INFER_PARTY NaNs:\n",
      "986\n"
     ]
    }
   ],
   "source": [
    "    \n",
    "survey_data = pd.read_csv('data/surveydata.csv')\n",
    "survey_data = infer_party(survey_data)\n",
    "survey_data = additional_cleaning(survey_data)"
   ]
  },
  {
   "cell_type": "code",
   "execution_count": 6,
   "id": "78e3efe9-57b6-49ba-926c-425711ddee7b",
   "metadata": {
    "tags": []
   },
   "outputs": [
    {
     "name": "stdout",
     "output_type": "stream",
     "text": [
      "Final INFER_PARTY Ds and Rs:\n",
      "112691\n",
      "Final INFER_PARTY NaNs:\n",
      "387309\n"
     ]
    }
   ],
   "source": [
    "full_data = pd.read_csv(\"data/data_500k.csv\")\n",
    "full_data = infer_party(full_data)\n",
    "full_data = additional_cleaning(full_data)"
   ]
  },
  {
   "cell_type": "code",
   "execution_count": 7,
   "id": "59201a2f-96b2-4f74-898e-4a8515e8e868",
   "metadata": {
    "tags": []
   },
   "outputs": [],
   "source": [
    "#Remove all the rows that are in the survey dataset from the 500K dataset to be sure the model is seeing those rows for the first time\n",
    "\n",
    "full_data = full_data.loc[~full_data.index.isin(survey_data.index)]"
   ]
  },
  {
   "cell_type": "code",
   "execution_count": 8,
   "id": "d3ac792c-5ed3-4fd3-9b9f-2c76665a0fc1",
   "metadata": {
    "tags": []
   },
   "outputs": [],
   "source": [
    "large_data = full_data.copy()"
   ]
  },
  {
   "cell_type": "markdown",
   "id": "721a1746-129e-41e3-9c78-e3592cdb2374",
   "metadata": {},
   "source": [
    "### Feature Selection"
   ]
  },
  {
   "cell_type": "code",
   "execution_count": 10,
   "id": "1023c70a-d496-4425-b845-cde97756dd2e",
   "metadata": {
    "tags": []
   },
   "outputs": [],
   "source": [
    "large_data = full_data.copy()\n",
    "\n",
    "\n",
    "features = [\n",
    "    \n",
    "    #Voter data columns are always removed:\n",
    "    'VTR_GEN00', 'VTR_GEN01', 'VTR_GEN02', 'VTR_GEN03', 'VTR_GEN04', 'VTR_GEN05', 'VTR_GEN06', 'VTR_GEN07', 'VTR_GEN08', 'VTR_GEN09', 'VTR_GEN10', 'VTR_GEN11', 'VTR_GEN12', 'VTR_GEN13', 'VTR_GEN14', 'VTR_GEN15', 'VTR_GEN16', 'VTR_GEN17', 'VTR_GEN18', 'VTR_GEN19', 'VTR_GEN20', 'VTR_GEN21', 'VTR_GEN22', 'VTR_OTH00', 'VTR_OTH01', 'VTR_OTH02', 'VTR_OTH03', 'VTR_OTH04', 'VTR_OTH05', 'VTR_OTH06', 'VTR_OTH07', 'VTR_OTH08', 'VTR_OTH09', 'VTR_OTH10', 'VTR_OTH11', 'VTR_OTH12', 'VTR_OTH13', 'VTR_OTH14', 'VTR_OTH15', 'VTR_OTH16', 'VTR_OTH17', 'VTR_OTH18', 'VTR_OTH19', 'VTR_OTH20', 'VTR_OTH21', 'VTR_OTH22', 'VTR_PPP00', 'VTR_PPP04', 'VTR_PPP08', 'VTR_PPP12', 'VTR_PPP16', 'VTR_PPP20', 'VTR_PRI00', 'VTR_PRI01', 'VTR_PRI02', 'VTR_PRI03', 'VTR_PRI04', 'VTR_PRI05', 'VTR_PRI06', 'VTR_PRI07', 'VTR_PRI08', 'VTR_PRI09', 'VTR_PRI10', 'VTR_PRI11', 'VTR_PRI12', 'VTR_PRI13', 'VTR_PRI14', 'VTR_PRI15', 'VTR_PRI16', 'VTR_PRI17', 'VTR_PRI18', 'VTR_PRI19', 'VTR_PRI20', 'VTR_PRI21', 'VTR_PRI22',\n",
    "\n",
    "    ## Aristotle features that include some data leakage from the voter data target variable:\n",
    "   # 'PRFL_MINWAGE','PARTY_CODE','PARTY_MIX','PRFL_BIDEN_SUPPORT','PRFL_BLM_SUPPORT','PRFL_BORDER_SECURITY','PRFL_CONSERVATIVE_NEWS','PRFL_FENCE_SITTER','PRFL_IMMIGRATION_REFORM','PRFL_LGBT_SUPPORT',\n",
    "  #   'PRFL_LIBERAL_NEWS','PRFL_MARIJUANA_REFORM','PRFL_METOO_SUPPORT','PRFL_MINWAGE','PRFL_PERSUADABLE_VOTER','PRFL_SANDERS_SUPPORT','PRFL_TRUMP_SUPPORT', 'PRFL_POLITICAL_IDEOLOGY',\n",
    "    \n",
    "]\n",
    "# #Drop the list of columns from the dataset\n",
    "large_data2 = large_data.drop(columns=features, errors='ignore')\n"
   ]
  },
  {
   "cell_type": "markdown",
   "id": "0593c490-d60a-40b5-9b99-ea96e98bd73c",
   "metadata": {},
   "source": [
    "### Eliminate features based on % data missing"
   ]
  },
  {
   "cell_type": "code",
   "execution_count": 11,
   "id": "cd346fb6-a519-460e-9326-1db5dc338bd9",
   "metadata": {
    "tags": []
   },
   "outputs": [],
   "source": [
    "def drop_missing_columns(dataframe, threshold=90):\n",
    "    \"\"\"\n",
    "    Drop columns from a dataframe based on a threshold of missing data.\n",
    "    \n",
    "    Parameters:\n",
    "    - dataframe: pd.DataFrame : the input dataframe\n",
    "    - threshold: float : percentage of allowed missing data (default is 90)\n",
    "    \n",
    "    Returns:\n",
    "    - pd.DataFrame : dataframe with columns dropped based on the missing data threshold\n",
    "    \"\"\"\n",
    "    # Calculate the percentage of missing data for each column\n",
    "    missing_data_percentage = dataframe.isnull().mean() * 100\n",
    "    \n",
    "    # Identify columns with more missing data than the threshold\n",
    "    cols_to_remove = missing_data_percentage[missing_data_percentage > threshold].index.tolist()\n",
    "    print(f\"Columns to be removed due to more than {threshold}% missing data: {cols_to_remove}\")\n",
    "    \n",
    "    # Drop the identified columns\n",
    "    dataframe = dataframe.drop(columns=cols_to_remove)\n",
    "    \n",
    "    return dataframe\n",
    "\n",
    "# Example usage:\n",
    "large_data = drop_missing_columns(large_data, 90)\n",
    "print(large_data.columns.to_list())\n",
    "\n",
    "\n"
   ]
  },
  {
   "cell_type": "markdown",
   "id": "2130a30a-aecd-4ee9-9f06-6827198e6ed7",
   "metadata": {},
   "source": [
    "### XGBoost"
   ]
  },
  {
   "cell_type": "code",
   "execution_count": 12,
   "id": "96b2a3da-eec0-4388-80e0-b03bcddf85c6",
   "metadata": {
    "tags": []
   },
   "outputs": [
    {
     "name": "stdout",
     "output_type": "stream",
     "text": [
      "112283\n",
      "['ADD_TYPE', 'AFAMPROFLS', 'AIRCOND', 'APP_CHILD', 'APP_MENBIG', 'APP_TODDLR', 'APP_WOMEN', 'APP_WOMPET', 'APP_WOMPLS', 'APP_YNGMEN', 'ARTS', 'ASSMLCODE', 'AUTOACCES', 'AUTOWORK', 'BOATING', 'BROADERLIV', 'BUS_OWNER', 'CARDUSER', 'CATOWNER', 'CH_0002FEM', 'CH_0002MAL', 'CH_0002UNK', 'CH_0305FEM', 'CH_0305MAL', 'CH_0305UNK', 'CH_0610FEM', 'CH_0610MAL', 'CH_0610UNK', 'CH_1115FEM', 'CH_1115MAL', 'CH_1115UNK', 'CH_1617FEM', 'CH_1617MAL', 'CH_1617UNK', 'CHRISTFAM', 'COL_ANTIQ', 'COL_ARTS', 'COL_COIN', 'COL_SPORT', 'COL_STAMP', 'COMPHOMOFC', 'COMPUTERS', 'COOK_GEN', 'COUNTY_TYPE', 'CURRAFFAIR', 'DEPTSTCRD', 'DIETING', 'DIYLIV', 'DOGOWNER', 'DON_ANML', 'DON_ARTCUL', 'DON_CHARIT', 'DON_CHILD', 'DON_ENVIR', 'DON_ENVWLD', 'DON_HEALTH', 'DON_INTAID', 'DON_OTHER', 'DON_POLCONS', 'DON_POLIT', 'DON_POLLIB', 'DON_RELIG', 'DON_VET', 'DONATION', 'EDU_ONLINE', 'EQUESTRIAN', 'ETHNIC_INFER', 'ETHNICCONF', 'EXER_GROUP', 'FUND_POLIT', 'GAMING', 'GARDENER', 'GENDER_MIX', 'GENERATION', 'GOLF', 'GRANDCHLD', 'HEALTHBEAU', 'HEATHMED', 'HH_NUMGEN', 'HH_SENIOR', 'HH_VETERAN', 'HH_YOUNGAD', 'HIGHBROW', 'HIGHENDAPP', 'HISTMIL', 'HITECHLIV', 'HOME_DECOR', 'HOMEOFFICE', 'HOMEOWNER', 'HOMEOWNRNT', 'HUNTING', 'HUNTSHOOT', 'INV_ACTIVE', 'LANGUAGE', 'LIFESTAGE_CLUSTER', 'MAIL_DONOR', 'MAILORDBUY', 'MAILORDRSP', 'MOTORCYCLE', 'NASCAR', 'OCCUPATION', 'PARENTING', 'PARTY_CODE', 'PETS', 'POOL', 'PRESENCHLD', 'PRFL_2NDAMEND', 'PRFL_ACTIVE_MIL', 'PRFL_AMZN_PRIME', 'PRFL_ANML_RIGHTS', 'PRFL_BIDEN_SUPPORT', 'PRFL_BLM_SUPPORT', 'PRFL_BORDER_SECURITY', 'PRFL_CLINTON_SUPPORT', 'PRFL_CONSERVATIVE_NEWS', 'PRFL_EDUCATION', 'PRFL_ENVIRONMENT', 'PRFL_EVANGELICAL', 'PRFL_FENCE_SITTER', 'PRFL_GUN_CONTROL', 'PRFL_HEALTHCARE', 'PRFL_IMMIGRATION_REFORM', 'PRFL_INFLUENCER', 'PRFL_INSURANCE', 'PRFL_LABOR', 'PRFL_LIBERAL_NEWS', 'PRFL_MARIJUANA_REFORM', 'PRFL_METOO_SUPPORT', 'PRFL_MIL_SUPPORT', 'PRFL_OBAMA', 'PRFL_PERSUADABLE_VOTER', 'PRFL_POLITICAL_IDEOLOGY', 'PRFL_SANDERS_SUPPORT', 'PRFL_TAXES', 'PRFL_TEACHERS_UNION', 'PRFL_TEAPARTY', 'PRFL_TRUMP_SUPPORT', 'PRFL_VETERAN', 'RD_FINNEWS', 'RD_GEN', 'RD_RELIG', 'RD_SCIFI', 'RELIGINSP', 'RELIGION', 'SCISPACE', 'SCUBADIVER', 'SELFIMP', 'SEX', 'SINGPARENT', 'SMOKING', 'SPEC_AUTO', 'SPEC_BASE', 'SPEC_BASK', 'SPEC_FOOT', 'SPEC_HOCK', 'SPEC_SOCC', 'SPORTLEIS', 'STATUS', 'SWEEPSTAKE', 'TELECOM', 'TENNIS', 'THEATER', 'TRAVEL', 'WORKWOMAN']\n",
      "['AGE', 'CENSUS_TRK', 'CNS_MEDINC', 'CNSUS_PCTA', 'CNSUS_PCTB', 'CNSUS_PCTH', 'CNSUS_PCTI', 'CNSUS_PCTM', 'CNSUS_PCTO', 'CNSUS_PCTP', 'CNSUS_PCTW', 'CRD_RANGE', 'CREDRATE', 'EDUCATION', 'HH_SIZE', 'HOMEMKTVAL', 'INCOMESTHH', 'LENGTH_RES', 'NETWORTH', 'NUMCHILD', 'PARTY_MIX', 'PERSONS_HH', 'PRFL_CHOICELIFE', 'PRFL_HEALTHCARE_REFORM', 'PRFL_LGBT_SUPPORT', 'PRFL_MARRIAGE_EQUALITY', 'PRFL_MINWAGE', 'TOD_PRES_D_2016', 'TOD_PRES_D_2016_PREC', 'TOD_PRES_D_2020_PREC', 'TOD_PRES_DIFF_2016', 'TOD_PRES_DIFF_2016_PREC', 'TOD_PRES_DIFF_2020_PREC', 'TOD_PRES_O_2016', 'TOD_PRES_O_2016_PREC', 'TOD_PRES_O_2020_PREC', 'TOD_PRES_R_2016', 'TOD_PRES_R_2016_PREC', 'TOD_PRES_R_2020_PREC', 'TRAIL_CNT', 'VOTER_CNT', 'VOTER_TRLR', 'VP_GEN', 'VP_OTH', 'VP_PPP', 'VP_PRI', 'YEARBUILT', 'interaction_div_2020', 'interaction_div_2016', 'interaction_mult_delta', 'interaction_div_D_2020', 'interaction_div_D_2016', 'interaction_mult_D_delta']\n",
      "0.9554259251013048\n",
      "              precision    recall  f1-score   support\n",
      "\n",
      "           0       0.95      0.96      0.96     11663\n",
      "           1       0.96      0.95      0.95     10794\n",
      "\n",
      "    accuracy                           0.96     22457\n",
      "   macro avg       0.96      0.96      0.96     22457\n",
      "weighted avg       0.96      0.96      0.96     22457\n",
      "\n"
     ]
    }
   ],
   "source": [
    "\n",
    "\n",
    "large_data = large_data2.copy()\n",
    "\n",
    "# drop target NaN values\n",
    "filtered_data = large_data.dropna(subset=['INFER_PARTY'])\n",
    "print(len(filtered_data))\n",
    "\n",
    "# Create the binary target variable\n",
    "filtered_data['target'] = filtered_data['INFER_PARTY'].map({'D': 0, 'R': 1})\n",
    "\n",
    "# Split the data into training (80%) and testing (20%) sets\n",
    "X = filtered_data.drop(columns=['target', 'INFER_PARTY'])  \n",
    "y = filtered_data['target']  \n",
    "X_train, X_test, y_train, y_test = train_test_split(X, y, test_size=0.2, random_state=42)\n",
    "\n",
    "# Identify and convert categorical columns to string type\n",
    "categorical_cols = [col for col in X_train.columns if X_train[col].dtype == 'object']\n",
    "print(categorical_cols)\n",
    "\n",
    "X_train[categorical_cols] = X_train[categorical_cols].astype(str)\n",
    "X_test[categorical_cols] = X_test[categorical_cols].astype(str)\n",
    "\n",
    "# Identify numerical columns\n",
    "numerical_cols = [col for col in X_train.columns if col not in categorical_cols]\n",
    "print(numerical_cols)\n",
    "\n",
    "# Preprocessing for Categorical Data no imputation\n",
    "categorical_transformer = Pipeline(steps=[\n",
    "    ('encoder', OneHotEncoder(handle_unknown='ignore'))\n",
    "])\n",
    "\n",
    "#Preprocessing for Numerical Data mean imputation \n",
    "numerical_transformer = SimpleImputer(strategy='mean')  # Impute with the mean for numerical columns\n",
    "\n",
    "# # Preprocessing for Numerical Data KNN imputation \n",
    "# numerical_transformer = KNNImputer(n_neighbors=5)  # KNN imputation for numerical columns\n",
    "\n",
    "preprocessor = ColumnTransformer(\n",
    "    transformers=[\n",
    "        ('cat', categorical_transformer, categorical_cols),\n",
    "        ('num', numerical_transformer, numerical_cols)\n",
    "    ])\n",
    "\n",
    "X_train_preprocessed = preprocessor.fit_transform(X_train)\n",
    "X_test_preprocessed = preprocessor.transform(X_test)\n",
    "\n",
    "# XGBoost Classifier with best hyperparameters\n",
    "xgb_classifier = xgb.XGBClassifier(\n",
    "   #  random_state=42, \n",
    "   #  use_label_encoder=False, \n",
    "   #  eval_metric='logloss',\n",
    "   #  colsample_bytree=0.8, \n",
    "   #  learning_rate=0.01, \n",
    "   # max_depth=8, \n",
    "   # min_child_weight=1, \n",
    "   # n_estimators=500, \n",
    "   # subsample=0.8\n",
    ")\n",
    "\n",
    "xgb_classifier.fit(X_train_preprocessed, y_train)\n",
    "\n",
    "# Predictions and Evaluation\n",
    "y_pred = xgb_classifier.predict(X_test_preprocessed)\n",
    "\n",
    "accuracy_after_filtering = accuracy_score(y_test, y_pred)\n",
    "classification_rep_after_filtering = classification_report(y_test, y_pred)\n",
    "\n",
    "print(accuracy_after_filtering)\n",
    "print(classification_rep_after_filtering)\n",
    "\n",
    "#GRID SEARCH\n",
    "\n",
    "# # Integrated pipeline\n",
    "# pipeline = Pipeline([\n",
    "#     ('preprocessor', preprocessor),\n",
    "#     ('classifier', xgb.XGBClassifier(random_state=42, use_label_encoder=False, eval_metric='logloss'))\n",
    "# ])\n",
    "\n",
    "# # Define the hyperparameter space for grid search\n",
    "# param_grid = {\n",
    "#     'classifier__learning_rate': [0.01, 0.05, 0.1],\n",
    "#     'classifier__n_estimators': [100, 200, 500],\n",
    "#     'classifier__max_depth': [3, 5, 7],\n",
    "#     'classifier__min_child_weight': [1, 3, 5],\n",
    "#     'classifier__subsample': [0.8, 1.0],\n",
    "#     'classifier__colsample_bytree': [0.8, 1.0]\n",
    "# }\n",
    "\n",
    "# # Initialize GridSearchCV\n",
    "# grid_search = GridSearchCV(pipeline, param_grid, cv=3, scoring='accuracy', verbose=2, n_jobs=-1)\n",
    "\n",
    "# # Fit the GridSearchCV object with the training data\n",
    "# grid_search.fit(X_train, y_train)\n",
    "\n",
    "# # Extract and print the best hyperparameters\n",
    "\n",
    "# print(\"Best hyperparameters:\", grid_search.best_params_)\n",
    "\n",
    "# # Evaluate the best estimator on the test data\n",
    "# best_pipeline = grid_search.best_estimator_\n",
    "# y_pred_grid = best_pipeline.predict(X_test)\n",
    "\n",
    "# accuracy_grid_search = accuracy_score(y_test, y_pred_grid)\n",
    "# classification_rep_grid_search = classification_report(y_test, y_pred_grid)\n",
    "\n",
    "# print(accuracy_grid_search)\n",
    "# print(classification_rep_grid_search)"
   ]
  },
  {
   "cell_type": "markdown",
   "id": "468c44a3-6577-46ef-9745-59c8e8bba0c6",
   "metadata": {},
   "source": [
    "### Running inference on the survey data set for model validation"
   ]
  },
  {
   "cell_type": "code",
   "execution_count": 21,
   "id": "6833b39a-569d-4a8c-9e66-5ed42d503a15",
   "metadata": {
    "tags": []
   },
   "outputs": [
    {
     "name": "stdout",
     "output_type": "stream",
     "text": [
      "1560\n",
      "1406\n",
      "Accuracy: 74.68%\n"
     ]
    }
   ],
   "source": [
    "#features2 = features + ['Q1_Candidate', 'Q3_Party','PARTY_CODE']\n",
    "# survey_data_features = survey_data[features2]\n",
    "#CA = survey_data.loc[survey_data['STATE'].isin(['CA'])]\n",
    "\n",
    "survey_data_features= survey_data.drop(columns=features, errors='ignore')\n",
    "\n",
    "nan_rows = survey_data_features\n",
    "print(len(nan_rows))\n",
    "nan_with_survey = nan_rows.copy() \n",
    "nan_with_survey['index'] =nan_with_survey.index\n",
    "\n",
    "# Drop the INFER_PARTY and survey response columns \n",
    "X_nan_modeling = nan_with_survey.drop(columns=['INFER_PARTY','Q1_Candidate','Q3_Party'])\n",
    "\n",
    "# Convert categorical columns to string type\n",
    "X_nan_modeling[categorical_cols] = X_nan_modeling[categorical_cols].astype(str)\n",
    "\n",
    "# Apply the preprocessor\n",
    "nan_rows_preprocessed = preprocessor.transform(X_nan_modeling)\n",
    "\n",
    "# 2. Use the trained XGBoost or Gradient Boosting model to make predictions on the nan_rows dataframe\n",
    "X_nan_modeling['INFER_PARTY_PRED'] = xgb_classifier.predict(nan_rows_preprocessed)\n",
    "\n",
    "evaluation_df = X_nan_modeling[['index', 'INFER_PARTY_PRED']]\n",
    "evaluation_df = evaluation_df.merge(nan_with_survey, on='index', how='left')\n",
    "\n",
    "evaluation_df['INFER_PARTY_PRED'] = evaluation_df['INFER_PARTY_PRED'].map({0: 'D', 1: 'R'})\n",
    "comparison = evaluation_df.copy()\n",
    "\n",
    "comparison = comparison[~comparison['Q1_Candidate'].isin(['Undecided', 'Robert F. Kennedy Jr.'])]\n",
    "\n",
    "# Create the binary target variable\n",
    "\n",
    "comparison['target'] = comparison['Q1_Candidate'].apply(lambda x: 'D' if x in ['President Joe Biden','Marianne Williamson'] else 'R')\n",
    "\n",
    "\n",
    "subset_comparison = comparison[['INFER_PARTY_PRED', 'target']]\n",
    "print(len(subset_comparison))\n",
    "correct_predictions = subset_comparison[subset_comparison['INFER_PARTY_PRED'] == subset_comparison['target']].shape[0]\n",
    "total_predictions = subset_comparison.shape[0]\n",
    "accuracy_percentage = (correct_predictions / total_predictions) * 100\n",
    "\n",
    "print(f\"Accuracy: {accuracy_percentage:.2f}%\")"
   ]
  },
  {
   "cell_type": "code",
   "execution_count": 22,
   "id": "06c7bf34-1a53-4559-971d-b4b955c4853d",
   "metadata": {
    "tags": []
   },
   "outputs": [
    {
     "name": "stdout",
     "output_type": "stream",
     "text": [
      "Accuracy: 0.7468\n",
      "Precision for Democrats: 0.6226\n",
      "Recall for Democrats: 0.7598\n",
      "F1 Score for Democrats: 0.6844\n",
      "Precision for Republicans: 0.8448\n",
      "Recall for Republicans: 0.7394\n",
      "F1 Score for Republicans: 0.7886\n"
     ]
    }
   ],
   "source": [
    "from sklearn.metrics import accuracy_score, precision_score, recall_score, f1_score\n",
    "\n",
    "# Assuming pred_vs_target is your DataFrame\n",
    "y_true = comparison['target']\n",
    "y_pred = comparison['INFER_PARTY_PRED']\n",
    "\n",
    "# Calculate metrics\n",
    "xgb_accuracy = accuracy_score(y_true, y_pred)\n",
    "xgb_precision_D = precision_score(y_true, y_pred, pos_label=\"D\")\n",
    "xgb_recall_D = recall_score(y_true, y_pred, pos_label=\"D\")\n",
    "xgb_f1_D = f1_score(y_true, y_pred, pos_label=\"D\")\n",
    "\n",
    "xgb_precision_R = precision_score(y_true, y_pred, pos_label=\"R\")\n",
    "xgb_recall_R = recall_score(y_true, y_pred, pos_label=\"R\")\n",
    "xgb_f1_R = f1_score(y_true, y_pred, pos_label=\"R\")\n",
    "\n",
    "# Print the results\n",
    "print(f\"Accuracy: {xgb_accuracy:.4f}\")\n",
    "print(f\"Precision for Democrats: {xgb_precision_D:.4f}\")\n",
    "print(f\"Recall for Democrats: {xgb_recall_D:.4f}\")\n",
    "print(f\"F1 Score for Democrats: {xgb_f1_D:.4f}\")\n",
    "print(f\"Precision for Republicans: {xgb_precision_R:.4f}\")\n",
    "print(f\"Recall for Republicans: {xgb_recall_R:.4f}\")\n",
    "print(f\"F1 Score for Republicans: {xgb_f1_R:.4f}\")"
   ]
  },
  {
   "cell_type": "code",
   "execution_count": 23,
   "id": "14281091-64eb-4d62-8bec-6ffdd0d64358",
   "metadata": {
    "tags": []
   },
   "outputs": [
    {
     "name": "stdout",
     "output_type": "stream",
     "text": [
      "Accuracy on 574 voters whose party could be inferred from 2016-2022 voter data: 82.67%\n"
     ]
    }
   ],
   "source": [
    "not_nans_survey = survey_data_features.loc[survey_data_features['INFER_PARTY'].isin(['D', 'R'])]\n",
    "\n",
    "# List of survey columns to remove\n",
    "remove_columns = [  'Q2_Support', 'Q4_LikelyVoter', 'Q5_TrumpSupport', 'SURVEY_TYPE']\n",
    "# Drop the list of columns from the dataset\n",
    "not_nans_survey.drop(columns=remove_columns, errors='ignore', inplace=True)\n",
    "\n",
    "\n",
    "not_nans_survey['index'] =not_nans_survey.index\n",
    "\n",
    "\n",
    "\n",
    "# Drop the INFER_PARTY and survey response columns \n",
    "X_nan_modeling = not_nans_survey.drop(columns=['INFER_PARTY','Q1_Candidate','Q3_Party'])\n",
    "\n",
    "\n",
    "# Convert categorical columns to string type\n",
    "X_nan_modeling[categorical_cols] = X_nan_modeling[categorical_cols].astype(str)\n",
    "\n",
    "# Apply the preprocessor\n",
    "nan_rows_preprocessed = preprocessor.transform(X_nan_modeling)\n",
    "\n",
    "# 2. Use the trained Gradient Boosting model to make predictions on the nan_rows dataframe\n",
    "\n",
    "X_nan_modeling['INFER_PARTY_PRED'] = xgb_classifier.predict(nan_rows_preprocessed)\n",
    "\n",
    "\n",
    "# # 3. Replace the NaN values in the original large_data dataframe with the predicted values\n",
    "\n",
    "# # Assuming the index of your nan_rows dataframe corresponds to the index in the original large_data dataframe\n",
    "# large_data.loc[nan_rows.index, 'INFER_PARTY_pred'] = nan_rows_predictions\n",
    "\n",
    "\n",
    "evaluation_df = X_nan_modeling[['index', 'INFER_PARTY_PRED']]\n",
    "evaluation_df = evaluation_df.merge(not_nans_survey, on='index', how='left')\n",
    "\n",
    "evaluation_df['INFER_PARTY_PRED'] = evaluation_df['INFER_PARTY_PRED'].map({0: 'D', 1: 'R'})\n",
    "\n",
    "#evaluation_df.loc[evaluation_df['Q1_Candidate']=='President Donald Trump'].head(100)\n",
    "\n",
    "comparison = evaluation_df.copy()\n",
    "\n",
    "comparison = comparison[~comparison['Q1_Candidate'].isin(['Undecided', 'Robert F. Kennedy Jr.'])]\n",
    "\n",
    "# Create the binary target variable\n",
    "\n",
    "comparison['target'] = comparison['Q1_Candidate'].apply(lambda x: 'D' if x in ['President Joe Biden','Marianne Williamson'] else 'R')\n",
    "\n",
    "subset_comparison = comparison[['INFER_PARTY_PRED', 'target']]\n",
    "\n",
    "correct_predictions = subset_comparison[subset_comparison['INFER_PARTY_PRED'] == subset_comparison['target']].shape[0]\n",
    "total_predictions = subset_comparison.shape[0]\n",
    "accuracy_percentage = (correct_predictions / total_predictions) * 100\n",
    "\n",
    "print(f\"Accuracy on 574 voters whose party could be inferred from 2016-2022 voter data: {accuracy_percentage:.2f}%\")"
   ]
  },
  {
   "cell_type": "code",
   "execution_count": 24,
   "id": "8610d67e-a4cc-4067-a2e8-ba2adfc530e5",
   "metadata": {
    "tags": []
   },
   "outputs": [
    {
     "name": "stdout",
     "output_type": "stream",
     "text": [
      "Accuracy for 986 voters whose party could not be inferred from 2016-22 voter data: 69.83%\n"
     ]
    }
   ],
   "source": [
    "nan_rows = survey_data_features[survey_data_features['INFER_PARTY'].isna()]\n",
    "\n",
    "nan_with_survey = nan_rows.copy() \n",
    "nan_with_survey['index'] =nan_with_survey.index\n",
    "\n",
    "# Drop the INFER_PARTY and survey response columns \n",
    "X_nan_modeling = nan_with_survey.drop(columns=['INFER_PARTY','Q1_Candidate','Q3_Party'])\n",
    "\n",
    "# Convert categorical columns to string type\n",
    "X_nan_modeling[categorical_cols] = X_nan_modeling[categorical_cols].astype(str)\n",
    "\n",
    "# Apply the preprocessor\n",
    "nan_rows_preprocessed = preprocessor.transform(X_nan_modeling)\n",
    "\n",
    "# 2. Use the trained XGBoost or Gradient Boosting model to make predictions on the nan_rows dataframe\n",
    "X_nan_modeling['INFER_PARTY_PRED'] = xgb_classifier.predict(nan_rows_preprocessed)\n",
    "\n",
    "evaluation_df = X_nan_modeling[['index', 'INFER_PARTY_PRED']]\n",
    "evaluation_df = evaluation_df.merge(nan_with_survey, on='index', how='left')\n",
    "\n",
    "evaluation_df['INFER_PARTY_PRED'] = evaluation_df['INFER_PARTY_PRED'].map({0: 'D', 1: 'R'})\n",
    "comparison = evaluation_df.copy()\n",
    "\n",
    "comparison = comparison[~comparison['Q1_Candidate'].isin(['Undecided', 'Robert F. Kennedy Jr.'])]\n",
    "\n",
    "# Create the binary target variable\n",
    "\n",
    "comparison['target'] = comparison['Q1_Candidate'].apply(lambda x: 'D' if x in ['President Joe Biden','Marianne Williamson'] else 'R')\n",
    "\n",
    "subset_comparison = comparison[['INFER_PARTY_PRED', 'target']]\n",
    "\n",
    "correct_predictions = subset_comparison[subset_comparison['INFER_PARTY_PRED'] == subset_comparison['target']].shape[0]\n",
    "total_predictions = subset_comparison.shape[0]\n",
    "accuracy_percentage = (correct_predictions / total_predictions) * 100\n",
    "\n",
    "print(f\"Accuracy for 986 voters whose party could not be inferred from 2016-22 voter data: {accuracy_percentage:.2f}%\")"
   ]
  },
  {
   "cell_type": "code",
   "execution_count": 25,
   "id": "0beb4b8b-6834-4d66-bb62-c03a3a2ff4df",
   "metadata": {
    "tags": []
   },
   "outputs": [
    {
     "name": "stdout",
     "output_type": "stream",
     "text": [
      "273\n",
      "273\n",
      "244\n",
      " Accuracy at predicting whether 155 registered non-partisans will vote D or R in 2024: 59.02%\n"
     ]
    }
   ],
   "source": [
    "#PREDICTING NON PARTISANS\n",
    "\n",
    "non_partisans = survey_data_features.loc[survey_data_features['PARTY_CODE'].isin(['N', 'U'])]\n",
    "print(len(non_partisans))\n",
    "nan_with_survey = non_partisans.copy() \n",
    "nan_with_survey['index'] =nan_with_survey.index\n",
    "\n",
    "# Drop the INFER_PARTY and survey response columns \n",
    "X_nan_modeling = nan_with_survey.drop(columns=['INFER_PARTY','Q1_Candidate','Q3_Party'])\n",
    "\n",
    "# Convert categorical columns to string type\n",
    "X_nan_modeling[categorical_cols] = X_nan_modeling[categorical_cols].astype(str)\n",
    "\n",
    "# Apply the preprocessor\n",
    "nan_rows_preprocessed = preprocessor.transform(X_nan_modeling)\n",
    "\n",
    "# 2. Use the trained XGBoost or Gradient Boosting model to make predictions on the nan_rows dataframe\n",
    "X_nan_modeling['INFER_PARTY_PRED'] = xgb_classifier.predict(nan_rows_preprocessed)\n",
    "\n",
    "evaluation_df = X_nan_modeling[['index', 'INFER_PARTY_PRED']]\n",
    "evaluation_df = evaluation_df.merge(nan_with_survey, on='index', how='left')\n",
    "\n",
    "evaluation_df['INFER_PARTY_PRED'] = evaluation_df['INFER_PARTY_PRED'].map({0: 'D', 1: 'R'})\n",
    "comparison = evaluation_df.copy()\n",
    "print(len(comparison))\n",
    "comparison = comparison[~comparison['Q1_Candidate'].isin(['Undecided', 'Robert F. Kennedy Jr.'])]\n",
    "print(len(comparison))\n",
    "\n",
    "\n",
    "# Create the binary target variable\n",
    "\n",
    "comparison['target'] = comparison['Q1_Candidate'].apply(lambda x: 'D' if x in ['President Joe Biden','Marianne Williamson'] else 'R')\n",
    "\n",
    "subset_comparison = comparison[['INFER_PARTY_PRED', 'target']]\n",
    "\n",
    "correct_predictions = subset_comparison[subset_comparison['INFER_PARTY_PRED'] == subset_comparison['target']].shape[0]\n",
    "total_predictions = subset_comparison.shape[0]\n",
    "accuracy_percentage = (correct_predictions / total_predictions) * 100\n",
    "\n",
    "\n",
    "print(f\" Accuracy at predicting whether 155 registered non-partisans will vote D or R in 2024: {accuracy_percentage:.2f}%\")\n",
    "\n",
    "\n",
    "\n",
    "\n"
   ]
  },
  {
   "cell_type": "code",
   "execution_count": 26,
   "id": "d30dd5f3-bf5f-421e-ace4-545739bbc2e2",
   "metadata": {
    "tags": []
   },
   "outputs": [
    {
     "name": "stdout",
     "output_type": "stream",
     "text": [
      "Percent Difference for D: 22.99%\n",
      "Percent Difference for R: 12.74%\n"
     ]
    },
    {
     "data": {
      "image/png": "[encoded data removed]",
      "text/plain": [
       "<Figure size 400x300 with 1 Axes>"
      ]
     },
     "metadata": {},
     "output_type": "display_data"
    }
   ],
   "source": [
    "# Compute the counts\n",
    "d_target_count = comparison['target'].value_counts().get('D', 0)\n",
    "d_pred_count = comparison['INFER_PARTY_PRED'].value_counts().get('D', 0)\n",
    "r_target_count = comparison['target'].value_counts().get('R', 0)\n",
    "r_pred_count = comparison['INFER_PARTY_PRED'].value_counts().get('R', 0)\n",
    "\n",
    "# Calculate percent differences\n",
    "d_percent_difference = abs(d_target_count - d_pred_count) / d_target_count * 100\n",
    "r_percent_difference = abs(r_target_count - r_pred_count) / r_target_count * 100\n",
    "\n",
    "# Print the results\n",
    "print(f\"Percent Difference for D: {d_percent_difference:.2f}%\")\n",
    "print(f\"Percent Difference for R: {r_percent_difference:.2f}%\")\n",
    "\n",
    "# Plotting\n",
    "bar_width = 0.35\n",
    "index = np.arange(2)  # There are two sets of bars: one for D and one for R\n",
    "\n",
    "plt.figure(figsize=(4, 3))\n",
    "\n",
    "# Bars for target values\n",
    "plt.bar(index, [d_target_count, r_target_count], bar_width, alpha=0.7, color='gray', label='Actual Counts')\n",
    "\n",
    "# Bars for predicted values\n",
    "plt.bar(index + bar_width, [d_pred_count, r_pred_count], bar_width, alpha=0.7, color=['blue', 'red'], label='Predicted Counts')\n",
    "\n",
    "# Configure the plot\n",
    "plt.xlabel('Party')\n",
    "plt.ylabel('Counts')\n",
    "plt.title('Comparison of Predicted vs Actual Responses')\n",
    "plt.xticks(index + bar_width/2, ('D', 'R'))\n",
    "plt.legend()\n",
    "\n",
    "plt.tight_layout()\n",
    "plt.show()\n",
    "\n",
    "\n"
   ]
  },
  {
   "cell_type": "code",
   "execution_count": 27,
   "id": "6d1ff35f-4bd1-4d47-ac70-dca7092cc657",
   "metadata": {
    "tags": []
   },
   "outputs": [
    {
     "data": {
      "image/png": "[encoded data removed]",
      "text/plain": [
       "<Figure size 400x400 with 1 Axes>"
      ]
     },
     "metadata": {},
     "output_type": "display_data"
    }
   ],
   "source": [
    "#NO GRID SEARCH\n",
    "# Get feature importances\n",
    "feature_importances = xgb_classifier.feature_importances_\n",
    "\n",
    "# Get the column names for one-hot encoded categorical columns\n",
    "cat_feature_names = preprocessor.named_transformers_['cat'].named_steps['encoder'].get_feature_names_out(categorical_cols)\n",
    "\n",
    "# Combine with numerical column names\n",
    "feature_names = np.concatenate([cat_feature_names, numerical_cols])\n",
    "\n",
    "# Combine importances and column names into a list of tuples\n",
    "features_list = sorted(zip(feature_importances, feature_names), reverse=True)[:15]\n",
    "\n",
    "# Separate the tuples for plotting\n",
    "values, names = zip(*features_list)\n",
    "\n",
    "\n",
    "# #GRID SEARCH BEST MODEL \n",
    "# # 1. Access the 'preprocessor' and classifier from the best_pipeline\n",
    "# fitted_preprocessor = best_pipeline.named_steps['preprocessor']\n",
    "# xgb_classifier = best_pipeline.named_steps['classifier']\n",
    "\n",
    "# # 2. Rest of your code remains largely the same\n",
    "# feature_importances = xgb_classifier.feature_importances_\n",
    "\n",
    "# # Get the column names for one-hot encoded categorical columns\n",
    "# cat_feature_names = fitted_preprocessor.named_transformers_['cat'].named_steps['encoder'].get_feature_names_out(categorical_cols)\n",
    "\n",
    "# # Combine with numerical column names\n",
    "# feature_names = np.concatenate([cat_feature_names, numerical_cols])\n",
    "\n",
    "# # Combine importances and column names into a list of tuples\n",
    "# features_list = sorted(zip(feature_importances, feature_names), reverse=True)[:15]\n",
    "\n",
    "# # Separate the tuples for plotting\n",
    "# values, names = zip(*features_list)\n",
    "\n",
    "# Plot\n",
    "import matplotlib.pyplot as plt\n",
    "plt.figure(figsize=(4, 4))\n",
    "plt.barh(names, values, align='center')\n",
    "plt.xlabel('Feature Importance')\n",
    "plt.ylabel('Feature Name')\n",
    "plt.title('Top 15 Features')\n",
    "plt.gca().invert_yaxis()  # Show the most important feature at the top\n",
    "plt.show()\n"
   ]
  },
  {
   "cell_type": "markdown",
   "id": "c64e6a3e-b019-4261-b5b6-7f683214f304",
   "metadata": {
    "tags": []
   },
   "source": [
    "### GBM"
   ]
  },
  {
   "cell_type": "code",
   "execution_count": 57,
   "id": "b51b7117-38fe-4853-ae2b-9e7c5d819fdd",
   "metadata": {
    "tags": []
   },
   "outputs": [
    {
     "name": "stdout",
     "output_type": "stream",
     "text": [
      "112283\n",
      "['ADD_TYPE', 'AFAMPROFLS', 'AIRCOND', 'APP_CHILD', 'APP_MENBIG', 'APP_TODDLR', 'APP_WOMEN', 'APP_WOMPET', 'APP_WOMPLS', 'APP_YNGMEN', 'ARTS', 'ASSMLCODE', 'AUTOACCES', 'AUTOWORK', 'BOATING', 'BROADERLIV', 'BUS_OWNER', 'CARDUSER', 'CATOWNER', 'CH_0002FEM', 'CH_0002MAL', 'CH_0002UNK', 'CH_0305FEM', 'CH_0305MAL', 'CH_0305UNK', 'CH_0610FEM', 'CH_0610MAL', 'CH_0610UNK', 'CH_1115FEM', 'CH_1115MAL', 'CH_1115UNK', 'CH_1617FEM', 'CH_1617MAL', 'CH_1617UNK', 'CHRISTFAM', 'COL_ANTIQ', 'COL_ARTS', 'COL_COIN', 'COL_SPORT', 'COL_STAMP', 'COMPHOMOFC', 'COMPUTERS', 'COOK_GEN', 'COUNTY_TYPE', 'CURRAFFAIR', 'DEPTSTCRD', 'DIETING', 'DIYLIV', 'DOGOWNER', 'DON_ANML', 'DON_ARTCUL', 'DON_CHARIT', 'DON_CHILD', 'DON_ENVIR', 'DON_ENVWLD', 'DON_HEALTH', 'DON_INTAID', 'DON_OTHER', 'DON_POLCONS', 'DON_POLIT', 'DON_POLLIB', 'DON_RELIG', 'DON_VET', 'DONATION', 'EDU_ONLINE', 'EQUESTRIAN', 'ETHNIC_INFER', 'ETHNICCONF', 'EXER_GROUP', 'FUND_POLIT', 'GAMING', 'GARDENER', 'GENDER_MIX', 'GENERATION', 'GOLF', 'GRANDCHLD', 'HEALTHBEAU', 'HEATHMED', 'HH_NUMGEN', 'HH_SENIOR', 'HH_VETERAN', 'HH_YOUNGAD', 'HIGHBROW', 'HIGHENDAPP', 'HISTMIL', 'HITECHLIV', 'HOME_DECOR', 'HOMEOFFICE', 'HOMEOWNER', 'HOMEOWNRNT', 'HUNTING', 'HUNTSHOOT', 'INV_ACTIVE', 'LANGUAGE', 'LIFESTAGE_CLUSTER', 'MAIL_DONOR', 'MAILORDBUY', 'MAILORDRSP', 'MOTORCYCLE', 'NASCAR', 'OCCUPATION', 'PARENTING', 'PARTY_CODE', 'PETS', 'POOL', 'PRESENCHLD', 'PRFL_2NDAMEND', 'PRFL_ACTIVE_MIL', 'PRFL_AMZN_PRIME', 'PRFL_ANML_RIGHTS', 'PRFL_BIDEN_SUPPORT', 'PRFL_BLM_SUPPORT', 'PRFL_BORDER_SECURITY', 'PRFL_CLINTON_SUPPORT', 'PRFL_CONSERVATIVE_NEWS', 'PRFL_EDUCATION', 'PRFL_ENVIRONMENT', 'PRFL_EVANGELICAL', 'PRFL_FENCE_SITTER', 'PRFL_GUN_CONTROL', 'PRFL_HEALTHCARE', 'PRFL_IMMIGRATION_REFORM', 'PRFL_INFLUENCER', 'PRFL_INSURANCE', 'PRFL_LABOR', 'PRFL_LIBERAL_NEWS', 'PRFL_MARIJUANA_REFORM', 'PRFL_METOO_SUPPORT', 'PRFL_MIL_SUPPORT', 'PRFL_OBAMA', 'PRFL_PERSUADABLE_VOTER', 'PRFL_POLITICAL_IDEOLOGY', 'PRFL_SANDERS_SUPPORT', 'PRFL_TAXES', 'PRFL_TEACHERS_UNION', 'PRFL_TEAPARTY', 'PRFL_TRUMP_SUPPORT', 'PRFL_VETERAN', 'RD_FINNEWS', 'RD_GEN', 'RD_RELIG', 'RD_SCIFI', 'RELIGINSP', 'RELIGION', 'SCISPACE', 'SCUBADIVER', 'SELFIMP', 'SEX', 'SINGPARENT', 'SMOKING', 'SPEC_AUTO', 'SPEC_BASE', 'SPEC_BASK', 'SPEC_FOOT', 'SPEC_HOCK', 'SPEC_SOCC', 'SPORTLEIS', 'STATUS', 'SWEEPSTAKE', 'TELECOM', 'TENNIS', 'THEATER', 'TRAVEL', 'WORKWOMAN']\n",
      "['AGE', 'CENSUS_TRK', 'CNS_MEDINC', 'CNSUS_PCTA', 'CNSUS_PCTB', 'CNSUS_PCTH', 'CNSUS_PCTI', 'CNSUS_PCTM', 'CNSUS_PCTO', 'CNSUS_PCTP', 'CNSUS_PCTW', 'CRD_RANGE', 'CREDRATE', 'EDUCATION', 'HH_SIZE', 'HOMEMKTVAL', 'INCOMESTHH', 'LENGTH_RES', 'NETWORTH', 'NUMCHILD', 'PARTY_MIX', 'PERSONS_HH', 'PRFL_CHOICELIFE', 'PRFL_HEALTHCARE_REFORM', 'PRFL_LGBT_SUPPORT', 'PRFL_MARRIAGE_EQUALITY', 'PRFL_MINWAGE', 'TOD_PRES_D_2016', 'TOD_PRES_D_2016_PREC', 'TOD_PRES_D_2020_PREC', 'TOD_PRES_DIFF_2016', 'TOD_PRES_DIFF_2016_PREC', 'TOD_PRES_DIFF_2020_PREC', 'TOD_PRES_O_2016', 'TOD_PRES_O_2016_PREC', 'TOD_PRES_O_2020_PREC', 'TOD_PRES_R_2016', 'TOD_PRES_R_2016_PREC', 'TOD_PRES_R_2020_PREC', 'TRAIL_CNT', 'VOTER_CNT', 'VOTER_TRLR', 'VP_GEN', 'VP_OTH', 'VP_PPP', 'VP_PRI', 'YEARBUILT', 'interaction_div_2020', 'interaction_div_2016', 'interaction_mult_delta', 'interaction_div_D_2020', 'interaction_div_D_2016', 'interaction_mult_D_delta']\n",
      "0.9520416796544507\n",
      "              precision    recall  f1-score   support\n",
      "\n",
      "           D       0.95      0.96      0.95     11663\n",
      "           R       0.95      0.95      0.95     10794\n",
      "\n",
      "    accuracy                           0.95     22457\n",
      "   macro avg       0.95      0.95      0.95     22457\n",
      "weighted avg       0.95      0.95      0.95     22457\n",
      "\n"
     ]
    }
   ],
   "source": [
    "large_data = large_data2.copy()\n",
    "\n",
    "# drop target NaN values\n",
    "filtered_data = large_data.dropna(subset=['INFER_PARTY'])\n",
    "print(len(filtered_data))\n",
    "# Create the binary target variable\n",
    "filtered_data['target'] = filtered_data['INFER_PARTY']\n",
    "\n",
    "# Split the data into training (80%) and testing (20%) sets\n",
    "X = filtered_data.drop(columns=['target', 'INFER_PARTY'])  \n",
    "y = filtered_data['target']  \n",
    "X_train, X_test, y_train, y_test = train_test_split(X, y, test_size=0.2, random_state=42)\n",
    "\n",
    "# Identify and convert categorical columns to string type\n",
    "categorical_cols = [col for col in X_train.columns if X_train[col].dtype == 'object']\n",
    "print(categorical_cols)\n",
    "\n",
    "\n",
    "\n",
    "X_train[categorical_cols] = X_train[categorical_cols].astype(str)\n",
    "X_test[categorical_cols] = X_test[categorical_cols].astype(str)\n",
    "\n",
    "# Identify numerical columns\n",
    "numerical_cols = [col for col in X_train.columns if col not in categorical_cols]\n",
    "print(numerical_cols)\n",
    "\n",
    "\n",
    "# Preprocessing for Categorical Data Only\n",
    "categorical_transformer = Pipeline(steps=[\n",
    "    ('encoder', OneHotEncoder(handle_unknown='ignore'))\n",
    "])\n",
    "# Preprocessing for Numerical Data\n",
    "numerical_transformer = SimpleImputer(strategy='mean')  # Impute with the mean for numerical columns\n",
    "\n",
    "preprocessor = ColumnTransformer(\n",
    "    transformers=[\n",
    "        ('cat', categorical_transformer, categorical_cols),\n",
    "        ('num', numerical_transformer, numerical_cols)\n",
    "    ])\n",
    "\n",
    "\n",
    "X_train_preprocessed = preprocessor.fit_transform(X_train)\n",
    "X_test_preprocessed = preprocessor.transform(X_test)\n",
    "\n",
    "# GBM Classifier\n",
    "gbm_classifier = GradientBoostingClassifier(random_state=42)\n",
    "gbm_classifier.fit(X_train_preprocessed, y_train)\n",
    "\n",
    "# Predictions and Evaluation\n",
    "y_pred = gbm_classifier.predict(X_test_preprocessed)\n",
    "\n",
    "accuracy_after_filtering = accuracy_score(y_test, y_pred)\n",
    "classification_rep_after_filtering = classification_report(y_test, y_pred)\n",
    "\n",
    "print(accuracy_after_filtering)\n",
    "print(classification_rep_after_filtering)\n",
    "\n",
    "\n",
    "\n",
    "# pipeline = Pipeline([\n",
    "#     ('preprocessor', preprocessor),\n",
    "#     ('classifier', GradientBoostingClassifier(random_state=42))\n",
    "# ])\n",
    "\n",
    "# scores = cross_val_score(pipeline, X, y, cv=5, scoring='accuracy')  # Here, we're using accuracy as the metric"
   ]
  },
  {
   "cell_type": "markdown",
   "id": "a3296e07-7595-40b9-ba7d-7de98da3f88f",
   "metadata": {},
   "source": [
    "### Running inference on the survey data set for model validation"
   ]
  },
  {
   "cell_type": "code",
   "execution_count": 58,
   "id": "5320706f-d485-444e-85ba-dd716e200e12",
   "metadata": {
    "tags": []
   },
   "outputs": [
    {
     "name": "stdout",
     "output_type": "stream",
     "text": [
      "1406\n",
      "Model Accuracy on full survey validation set: 73.90%\n"
     ]
    }
   ],
   "source": [
    "features2 = features + ['Q1_Candidate', 'Q3_Party','PARTY_CODE']\n",
    "# survey_data_features = survey_data[features2]\n",
    "\n",
    "survey_data_features= survey_data.drop(columns=features, errors='ignore')\n",
    "\n",
    "nan_rows = survey_data_features\n",
    "nan_with_survey = nan_rows.copy() \n",
    "nan_with_survey['index'] =nan_with_survey.index\n",
    "\n",
    "# Drop the INFER_PARTY and survey response columns \n",
    "X_nan_modeling = nan_with_survey.drop(columns=['INFER_PARTY','Q1_Candidate','Q3_Party'])\n",
    "\n",
    "# Convert categorical columns to string type\n",
    "X_nan_modeling[categorical_cols] = X_nan_modeling[categorical_cols].astype(str)\n",
    "\n",
    "# Apply the preprocessor\n",
    "nan_rows_preprocessed = preprocessor.transform(X_nan_modeling)\n",
    "\n",
    "# 2. Use the trained XGBoost or Gradient Boosting model to make predictions on the nan_rows dataframe\n",
    "X_nan_modeling['INFER_PARTY_PRED'] = gbm_classifier.predict(nan_rows_preprocessed)\n",
    "\n",
    "evaluation_df = X_nan_modeling[['index', 'INFER_PARTY_PRED']]\n",
    "evaluation_df = evaluation_df.merge(nan_with_survey, on='index', how='left')\n",
    "\n",
    "#evaluation_df['INFER_PARTY_PRED'] = evaluation_df['INFER_PARTY_PRED'].map({0: 'D', 1: 'R'})\n",
    "comparison = evaluation_df.copy()\n",
    "\n",
    "comparison = comparison[~comparison['Q1_Candidate'].isin(['Undecided', 'Robert F. Kennedy Jr.'])]\n",
    "\n",
    "# Create the binary target variable\n",
    "\n",
    "comparison['target'] = comparison['Q1_Candidate'].apply(lambda x: 'D' if x in ['President Joe Biden','Marianne Williamson'] else 'R')\n",
    "\n",
    "subset_comparison = comparison[['INFER_PARTY_PRED', 'target']]\n",
    "print(len(subset_comparison))\n",
    "correct_predictions = subset_comparison[subset_comparison['INFER_PARTY_PRED'] == subset_comparison['target']].shape[0]\n",
    "total_predictions = subset_comparison.shape[0]\n",
    "accuracy_percentage = (correct_predictions / total_predictions) * 100\n",
    "\n",
    "print(f\"Model Accuracy on full survey validation set: {accuracy_percentage:.2f}%\")"
   ]
  },
  {
   "cell_type": "code",
   "execution_count": 59,
   "id": "9fe156a1-6e9b-49b0-83ca-1279fa6d20dc",
   "metadata": {
    "tags": []
   },
   "outputs": [
    {
     "name": "stdout",
     "output_type": "stream",
     "text": [
      "Accuracy: 0.7390\n",
      "Precision for Democrats: 0.6103\n",
      "Recall for Democrats: 0.7677\n",
      "F1 Score for Democrats: 0.6800\n",
      "Precision for Republicans: 0.8462\n",
      "Recall for Republicans: 0.7227\n",
      "F1 Score for Republicans: 0.7796\n"
     ]
    }
   ],
   "source": [
    "\n",
    "\n",
    "# Assuming pred_vs_target is your DataFrame\n",
    "y_true = comparison['target']\n",
    "y_pred = comparison['INFER_PARTY_PRED']\n",
    "\n",
    "# Calculate metrics\n",
    "gbm_accuracy = accuracy_score(y_true, y_pred)\n",
    "gbm_precision_D = precision_score(y_true, y_pred, pos_label=\"D\")\n",
    "gbm_recall_D = recall_score(y_true, y_pred, pos_label=\"D\")\n",
    "gbm_f1_D = f1_score(y_true, y_pred, pos_label=\"D\")\n",
    "\n",
    "gbm_precision_R = precision_score(y_true, y_pred, pos_label=\"R\")\n",
    "gbm_recall_R = recall_score(y_true, y_pred, pos_label=\"R\")\n",
    "gbm_f1_R = f1_score(y_true, y_pred, pos_label=\"R\")\n",
    "\n",
    "# Print the results\n",
    "print(f\"Accuracy: {gbm_accuracy:.4f}\")\n",
    "print(f\"Precision for Democrats: {gbm_precision_D:.4f}\")\n",
    "print(f\"Recall for Democrats: {gbm_recall_D:.4f}\")\n",
    "print(f\"F1 Score for Democrats: {gbm_f1_D:.4f}\")\n",
    "print(f\"Precision for Republicans: {gbm_precision_R:.4f}\")\n",
    "print(f\"Recall for Republicans: {gbm_recall_R:.4f}\")\n",
    "print(f\"F1 Score for Republicans: {gbm_f1_R:.4f}\")"
   ]
  },
  {
   "cell_type": "code",
   "execution_count": 31,
   "id": "fcc52e8a-1fc2-4925-8cc3-8ea6bb7c380c",
   "metadata": {
    "tags": []
   },
   "outputs": [
    {
     "data": {
      "image/png": "[encoded data removed]",
      "text/plain": [
       "<Figure size 1000x500 with 1 Axes>"
      ]
     },
     "metadata": {},
     "output_type": "display_data"
    }
   ],
   "source": [
    "# Get feature importances\n",
    "feature_importances = gbm_classifier.feature_importances_\n",
    "\n",
    "# Get the column names for one-hot encoded categorical columns\n",
    "cat_feature_names = preprocessor.named_transformers_['cat'].named_steps['encoder'].get_feature_names_out(categorical_cols)\n",
    "\n",
    "# Combine with numerical column names\n",
    "feature_names = np.concatenate([cat_feature_names, numerical_cols])\n",
    "\n",
    "# Combine importances and column names into a list of tuples\n",
    "features_list = sorted(zip(feature_importances, feature_names), reverse=True)[:10]\n",
    "\n",
    "# Separate the tuples for plotting\n",
    "values, names = zip(*features_list)\n",
    "\n",
    "# Plot\n",
    "plt.figure(figsize=(10, 5))\n",
    "plt.barh(names, values, align='center')\n",
    "plt.xlabel('Feature Importance')\n",
    "plt.ylabel('Feature Name')\n",
    "plt.title('Top 20 Features Based on Importance')\n",
    "plt.gca().invert_yaxis()  # Show the most important feature at the top\n",
    "plt.show()"
   ]
  },
  {
   "cell_type": "markdown",
   "id": "96600308-dd4a-4d5b-89bb-52e99739918b",
   "metadata": {},
   "source": [
    "#### 20 Least important features"
   ]
  },
  {
   "cell_type": "code",
   "execution_count": 32,
   "id": "21cf8959-d928-4833-ac91-08bbc07ccda5",
   "metadata": {
    "tags": []
   },
   "outputs": [
    {
     "name": "stdout",
     "output_type": "stream",
     "text": [
      "[('AFAMPROFLS', 0.0), ('AIRCOND', 0.0), ('APP_CHILD', 0.0), ('APP_MENBIG', 0.0), ('APP_TODDLR', 0.0), ('APP_WOMEN', 0.0), ('APP_WOMPET', 0.0), ('APP_WOMPLS', 0.0), ('APP_YNGMEN', 0.0), ('ARTS', 0.0), ('AUTOACCES', 0.0), ('AUTOWORK', 0.0), ('BOATING', 0.0), ('BROADERLIV', 0.0), ('CARDUSER', 0.0), ('CATOWNER', 0.0), ('CH_0002FEM', 0.0), ('CH_0002MAL', 0.0), ('CH_0002UNK', 0.0), ('CH_0305FEM', 0.0), ('CH_0305MAL', 0.0), ('CH_0305UNK', 0.0), ('CH_0610FEM', 0.0), ('CH_0610MAL', 0.0), ('CH_0610UNK', 0.0), ('CH_1115FEM', 0.0), ('CH_1115MAL', 0.0), ('CH_1115UNK', 0.0), ('CH_1617FEM', 0.0), ('CH_1617UNK', 0.0), ('CHRISTFAM', 0.0), ('CNSUS_PCTB', 0.0), ('CNSUS_PCTH', 0.0), ('CNSUS_PCTM', 0.0), ('CNSUS_PCTP', 0.0), ('COL_ANTIQ', 0.0), ('COL_ARTS', 0), ('COL_COIN', 0.0), ('COL_SPORT', 0.0), ('COL_STAMP', 0.0), ('COMPHOMOFC', 0.0), ('COMPUTERS', 0.0), ('COOK_GEN', 0.0), ('CRD_RANGE', 0.0), ('CREDRATE', 0.0), ('CURRAFFAIR', 0.0), ('DEPTSTCRD', 0.0), ('DIETING', 0.0), ('DIYLIV', 0.0), ('DOGOWNER', 0.0)]\n"
     ]
    }
   ],
   "source": [
    "#20 Least useful features\n",
    "\n",
    "#NO GRID SEARCH\n",
    "# Get the one-hot encoder and its feature names\n",
    "encoder = preprocessor.named_transformers_['cat']['encoder']\n",
    "encoded_feature_names = encoder.get_feature_names_out(input_features=categorical_cols)\n",
    "\n",
    "# Combine one-hot-encoded feature names and numerical column names\n",
    "all_feature_names = np.concatenate([encoded_feature_names, numerical_cols])\n",
    "\n",
    "# Create a dictionary to store original feature importances\n",
    "original_feature_importances = dict.fromkeys(X.columns, 0)\n",
    "\n",
    "for idx, feature_name in enumerate(all_feature_names):\n",
    "    for original_feature in X.columns:\n",
    "        if original_feature in feature_name:\n",
    "\n",
    "            original_feature_importances[original_feature] += feature_importances[idx]\n",
    "            break\n",
    "\n",
    "# Sort the features based on importance\n",
    "sorted_features = sorted(original_feature_importances.items(), key=lambda x: x[1])\n",
    "\n",
    "# Get the top 20 least useful features\n",
    "least_useful_features = sorted_features[:50]\n",
    "\n",
    "print(least_useful_features)\n",
    "# #GRID SEARCH BEST MODEL\n",
    "# # Access the 'preprocessor' from the best_pipeline\n",
    "# fitted_preprocessor = best_pipeline.named_steps['preprocessor']\n",
    "# xgb_classifier = best_pipeline.named_steps['classifier']\n",
    "\n",
    "# # Get feature importances\n",
    "# feature_importances = xgb_classifier.feature_importances_\n",
    "\n",
    "# # Access the one-hot encoder from the fitted_preprocessor\n",
    "# encoder = fitted_preprocessor.named_transformers_['cat'].named_steps['encoder']\n",
    "\n",
    "# # Get the feature names for the one-hot encoded categorical columns\n",
    "# encoded_feature_names = encoder.get_feature_names_out(input_features=categorical_cols)\n",
    "\n",
    "# # Combine one-hot-encoded feature names and numerical column names\n",
    "# all_feature_names = np.concatenate([encoded_feature_names, numerical_cols])\n",
    "\n",
    "# # Create a dictionary to store original feature importances\n",
    "# original_feature_importances = dict.fromkeys(X.columns, 0)\n",
    "\n",
    "# # Aggregate the feature importances based on original features\n",
    "# for idx, feature_name in enumerate(all_feature_names):\n",
    "#     for original_feature in X.columns:\n",
    "#         if original_feature in feature_name:\n",
    "#             original_feature_importances[original_feature] += feature_importances[idx]\n",
    "#             break\n",
    "\n",
    "# # Sort the features based on importance\n",
    "# sorted_features = sorted(original_feature_importances.items(), key=lambda x: x[1])\n",
    "\n",
    "# # Get the top 50 least useful features\n",
    "# least_useful_features = sorted_features[:50]\n",
    "\n",
    "# print(least_useful_features)"
   ]
  },
  {
   "cell_type": "markdown",
   "id": "a642a032-5381-4e9b-9f08-f8612835a435",
   "metadata": {},
   "source": [
    "### Random Forest"
   ]
  },
  {
   "cell_type": "code",
   "execution_count": 60,
   "id": "90ffea96-5566-4c94-ab0f-115e4ab7d7ab",
   "metadata": {
    "tags": []
   },
   "outputs": [
    {
     "name": "stdout",
     "output_type": "stream",
     "text": [
      "112283\n",
      "['ADD_TYPE', 'AFAMPROFLS', 'AIRCOND', 'APP_CHILD', 'APP_MENBIG', 'APP_TODDLR', 'APP_WOMEN', 'APP_WOMPET', 'APP_WOMPLS', 'APP_YNGMEN', 'ARTS', 'ASSMLCODE', 'AUTOACCES', 'AUTOWORK', 'BOATING', 'BROADERLIV', 'BUS_OWNER', 'CARDUSER', 'CATOWNER', 'CH_0002FEM', 'CH_0002MAL', 'CH_0002UNK', 'CH_0305FEM', 'CH_0305MAL', 'CH_0305UNK', 'CH_0610FEM', 'CH_0610MAL', 'CH_0610UNK', 'CH_1115FEM', 'CH_1115MAL', 'CH_1115UNK', 'CH_1617FEM', 'CH_1617MAL', 'CH_1617UNK', 'CHRISTFAM', 'COL_ANTIQ', 'COL_ARTS', 'COL_COIN', 'COL_SPORT', 'COL_STAMP', 'COMPHOMOFC', 'COMPUTERS', 'COOK_GEN', 'COUNTY_TYPE', 'CURRAFFAIR', 'DEPTSTCRD', 'DIETING', 'DIYLIV', 'DOGOWNER', 'DON_ANML', 'DON_ARTCUL', 'DON_CHARIT', 'DON_CHILD', 'DON_ENVIR', 'DON_ENVWLD', 'DON_HEALTH', 'DON_INTAID', 'DON_OTHER', 'DON_POLCONS', 'DON_POLIT', 'DON_POLLIB', 'DON_RELIG', 'DON_VET', 'DONATION', 'EDU_ONLINE', 'EQUESTRIAN', 'ETHNIC_INFER', 'ETHNICCONF', 'EXER_GROUP', 'FUND_POLIT', 'GAMING', 'GARDENER', 'GENDER_MIX', 'GENERATION', 'GOLF', 'GRANDCHLD', 'HEALTHBEAU', 'HEATHMED', 'HH_NUMGEN', 'HH_SENIOR', 'HH_VETERAN', 'HH_YOUNGAD', 'HIGHBROW', 'HIGHENDAPP', 'HISTMIL', 'HITECHLIV', 'HOME_DECOR', 'HOMEOFFICE', 'HOMEOWNER', 'HOMEOWNRNT', 'HUNTING', 'HUNTSHOOT', 'INV_ACTIVE', 'LANGUAGE', 'LIFESTAGE_CLUSTER', 'MAIL_DONOR', 'MAILORDBUY', 'MAILORDRSP', 'MOTORCYCLE', 'NASCAR', 'OCCUPATION', 'PARENTING', 'PARTY_CODE', 'PETS', 'POOL', 'PRESENCHLD', 'PRFL_2NDAMEND', 'PRFL_ACTIVE_MIL', 'PRFL_AMZN_PRIME', 'PRFL_ANML_RIGHTS', 'PRFL_BIDEN_SUPPORT', 'PRFL_BLM_SUPPORT', 'PRFL_BORDER_SECURITY', 'PRFL_CLINTON_SUPPORT', 'PRFL_CONSERVATIVE_NEWS', 'PRFL_EDUCATION', 'PRFL_ENVIRONMENT', 'PRFL_EVANGELICAL', 'PRFL_FENCE_SITTER', 'PRFL_GUN_CONTROL', 'PRFL_HEALTHCARE', 'PRFL_IMMIGRATION_REFORM', 'PRFL_INFLUENCER', 'PRFL_INSURANCE', 'PRFL_LABOR', 'PRFL_LIBERAL_NEWS', 'PRFL_MARIJUANA_REFORM', 'PRFL_METOO_SUPPORT', 'PRFL_MIL_SUPPORT', 'PRFL_OBAMA', 'PRFL_PERSUADABLE_VOTER', 'PRFL_POLITICAL_IDEOLOGY', 'PRFL_SANDERS_SUPPORT', 'PRFL_TAXES', 'PRFL_TEACHERS_UNION', 'PRFL_TEAPARTY', 'PRFL_TRUMP_SUPPORT', 'PRFL_VETERAN', 'RD_FINNEWS', 'RD_GEN', 'RD_RELIG', 'RD_SCIFI', 'RELIGINSP', 'RELIGION', 'SCISPACE', 'SCUBADIVER', 'SELFIMP', 'SEX', 'SINGPARENT', 'SMOKING', 'SPEC_AUTO', 'SPEC_BASE', 'SPEC_BASK', 'SPEC_FOOT', 'SPEC_HOCK', 'SPEC_SOCC', 'SPORTLEIS', 'STATUS', 'SWEEPSTAKE', 'TELECOM', 'TENNIS', 'THEATER', 'TRAVEL', 'WORKWOMAN']\n",
      "['AGE', 'CENSUS_TRK', 'CNS_MEDINC', 'CNSUS_PCTA', 'CNSUS_PCTB', 'CNSUS_PCTH', 'CNSUS_PCTI', 'CNSUS_PCTM', 'CNSUS_PCTO', 'CNSUS_PCTP', 'CNSUS_PCTW', 'CRD_RANGE', 'CREDRATE', 'EDUCATION', 'HH_SIZE', 'HOMEMKTVAL', 'INCOMESTHH', 'LENGTH_RES', 'NETWORTH', 'NUMCHILD', 'PARTY_MIX', 'PERSONS_HH', 'PRFL_CHOICELIFE', 'PRFL_HEALTHCARE_REFORM', 'PRFL_LGBT_SUPPORT', 'PRFL_MARRIAGE_EQUALITY', 'PRFL_MINWAGE', 'TOD_PRES_D_2016', 'TOD_PRES_D_2016_PREC', 'TOD_PRES_D_2020_PREC', 'TOD_PRES_DIFF_2016', 'TOD_PRES_DIFF_2016_PREC', 'TOD_PRES_DIFF_2020_PREC', 'TOD_PRES_O_2016', 'TOD_PRES_O_2016_PREC', 'TOD_PRES_O_2020_PREC', 'TOD_PRES_R_2016', 'TOD_PRES_R_2016_PREC', 'TOD_PRES_R_2020_PREC', 'TRAIL_CNT', 'VOTER_CNT', 'VOTER_TRLR', 'VP_GEN', 'VP_OTH', 'VP_PPP', 'VP_PRI', 'YEARBUILT', 'interaction_div_2020', 'interaction_div_2016', 'interaction_mult_delta', 'interaction_div_D_2020', 'interaction_div_D_2016', 'interaction_mult_D_delta']\n",
      "0.9523533864719241\n",
      "              precision    recall  f1-score   support\n",
      "\n",
      "           0       0.95      0.96      0.95     11663\n",
      "           1       0.95      0.95      0.95     10794\n",
      "\n",
      "    accuracy                           0.95     22457\n",
      "   macro avg       0.95      0.95      0.95     22457\n",
      "weighted avg       0.95      0.95      0.95     22457\n",
      "\n"
     ]
    }
   ],
   "source": [
    "from sklearn.ensemble import RandomForestClassifier\n",
    "from sklearn.metrics import accuracy_score, classification_report\n",
    "from sklearn.model_selection import train_test_split\n",
    "from sklearn.pipeline import Pipeline\n",
    "from sklearn.impute import SimpleImputer\n",
    "from sklearn.preprocessing import OneHotEncoder\n",
    "from sklearn.compose import ColumnTransformer\n",
    "\n",
    "large_data = large_data2.copy()\n",
    "\n",
    "# Drop target NaN values\n",
    "filtered_data = large_data.dropna(subset=['INFER_PARTY'])\n",
    "print(len(filtered_data))\n",
    "\n",
    "# Create the binary target variable\n",
    "filtered_data['target'] = filtered_data['INFER_PARTY'].map({'D': 0, 'R': 1})\n",
    "\n",
    "# Split the data\n",
    "X = filtered_data.drop(columns=['target', 'INFER_PARTY'])  \n",
    "y = filtered_data['target']  \n",
    "X_train, X_test, y_train, y_test = train_test_split(X, y, test_size=0.2, random_state=42)\n",
    "\n",
    "# Identify and convert categorical columns\n",
    "categorical_cols = [col for col in X_train.columns if X_train[col].dtype == 'object']\n",
    "print(categorical_cols)\n",
    "\n",
    "X_train[categorical_cols] = X_train[categorical_cols].astype(str)\n",
    "X_test[categorical_cols] = X_test[categorical_cols].astype(str)\n",
    "\n",
    "# Identify numerical columns\n",
    "numerical_cols = [col for col in X_train.columns if col not in categorical_cols]\n",
    "print(numerical_cols)\n",
    "\n",
    "# Preprocessing for Categorical Data no imputation\n",
    "categorical_transformer = Pipeline(steps=[\n",
    "    ('encoder', OneHotEncoder(handle_unknown='ignore'))\n",
    "])\n",
    "\n",
    "# Preprocessing for Numerical Data mean imputation \n",
    "numerical_transformer = SimpleImputer(strategy='mean')  # Impute with the mean for numerical columns\n",
    "\n",
    "preprocessor = ColumnTransformer(\n",
    "    transformers=[\n",
    "        ('cat', categorical_transformer, categorical_cols),\n",
    "        ('num', numerical_transformer, numerical_cols)\n",
    "    ])\n",
    "\n",
    "X_train_preprocessed = preprocessor.fit_transform(X_train)\n",
    "X_test_preprocessed = preprocessor.transform(X_test)\n",
    "\n",
    "# Random Forest Classifier\n",
    "rf_classifier = RandomForestClassifier(random_state=42)\n",
    "rf_classifier.fit(X_train_preprocessed, y_train)\n",
    "\n",
    "# Predictions and Evaluation\n",
    "y_pred = rf_classifier.predict(X_test_preprocessed)\n",
    "\n",
    "accuracy_after_filtering = accuracy_score(y_test, y_pred)\n",
    "classification_rep_after_filtering = classification_report(y_test, y_pred)\n",
    "\n",
    "print(accuracy_after_filtering)\n",
    "print(classification_rep_after_filtering)"
   ]
  },
  {
   "cell_type": "markdown",
   "id": "38b8aa86-5c06-482e-9491-79a2edf273d8",
   "metadata": {},
   "source": [
    "### Running inference on the survey data set for model validation"
   ]
  },
  {
   "cell_type": "code",
   "execution_count": 61,
   "id": "70a2a0b0-31eb-481b-883d-2cf4d8a7452b",
   "metadata": {
    "tags": []
   },
   "outputs": [
    {
     "name": "stdout",
     "output_type": "stream",
     "text": [
      "1560\n",
      "1406\n",
      "Model Accuracy on full survey validation set: 73.83%\n"
     ]
    }
   ],
   "source": [
    "features2 = features + ['Q1_Candidate', 'Q3_Party','PARTY_CODE']\n",
    "# survey_data_features = survey_data[features2]\n",
    "\n",
    "survey_data_features= survey_data.drop(columns=features, errors='ignore')\n",
    "\n",
    "nan_rows = survey_data_features\n",
    "print(len(nan_rows))\n",
    "nan_with_survey = nan_rows.copy() \n",
    "nan_with_survey['index'] =nan_with_survey.index\n",
    "\n",
    "# Drop the INFER_PARTY and survey response columns \n",
    "X_nan_modeling = nan_with_survey.drop(columns=['INFER_PARTY','Q1_Candidate','Q3_Party'])\n",
    "\n",
    "# Convert categorical columns to string type\n",
    "X_nan_modeling[categorical_cols] = X_nan_modeling[categorical_cols].astype(str)\n",
    "\n",
    "# Apply the preprocessor\n",
    "nan_rows_preprocessed = preprocessor.transform(X_nan_modeling)\n",
    "\n",
    "# 2. Use the trained XGBoost or Gradient Boosting model to make predictions on the nan_rows dataframe\n",
    "X_nan_modeling['INFER_PARTY_PRED'] = rf_classifier.predict(nan_rows_preprocessed)\n",
    "\n",
    "evaluation_df = X_nan_modeling[['index', 'INFER_PARTY_PRED']]\n",
    "evaluation_df = evaluation_df.merge(nan_with_survey, on='index', how='left')\n",
    "\n",
    "evaluation_df['INFER_PARTY_PRED'] = evaluation_df['INFER_PARTY_PRED'].map({0: 'D', 1: 'R'})\n",
    "comparison = evaluation_df.copy()\n",
    "\n",
    "comparison = comparison[~comparison['Q1_Candidate'].isin(['Undecided', 'Robert F. Kennedy Jr.'])]\n",
    "\n",
    "# Create the binary target variable\n",
    "\n",
    "comparison['target'] = comparison['Q1_Candidate'].apply(lambda x: 'D' if x in ['President Joe Biden','Marianne Williamson'] else 'R')\n",
    "\n",
    "subset_comparison = comparison[['INFER_PARTY_PRED', 'target']]\n",
    "print(len(subset_comparison))\n",
    "correct_predictions = subset_comparison[subset_comparison['INFER_PARTY_PRED'] == subset_comparison['target']].shape[0]\n",
    "total_predictions = subset_comparison.shape[0]\n",
    "accuracy_percentage = (correct_predictions / total_predictions) * 100\n",
    "\n",
    "print(f\"Model Accuracy on full survey validation set: {accuracy_percentage:.2f}%\")"
   ]
  },
  {
   "cell_type": "code",
   "execution_count": 62,
   "id": "d9f45e48-c9fa-48f7-b499-bf423f34f9a0",
   "metadata": {
    "tags": []
   },
   "outputs": [
    {
     "name": "stdout",
     "output_type": "stream",
     "text": [
      "Accuracy: 0.7383\n",
      "Precision for Democrats: 0.6133\n",
      "Recall for Democrats: 0.7461\n",
      "F1 Score for Democrats: 0.6732\n",
      "Precision for Republicans: 0.8363\n",
      "Recall for Republicans: 0.7339\n",
      "F1 Score for Republicans: 0.7817\n"
     ]
    }
   ],
   "source": [
    "# Assuming pred_vs_target is your DataFrame\n",
    "y_true = comparison['target']\n",
    "y_pred = comparison['INFER_PARTY_PRED']\n",
    "\n",
    "# Calculate metrics\n",
    "rf_accuracy = accuracy_score(y_true, y_pred)\n",
    "rf_precision_D = precision_score(y_true, y_pred, pos_label=\"D\")\n",
    "rf_recall_D = recall_score(y_true, y_pred, pos_label=\"D\")\n",
    "rf_f1_D = f1_score(y_true, y_pred, pos_label=\"D\")\n",
    "\n",
    "rf_precision_R = precision_score(y_true, y_pred, pos_label=\"R\")\n",
    "rf_recall_R = recall_score(y_true, y_pred, pos_label=\"R\")\n",
    "rf_f1_R = f1_score(y_true, y_pred, pos_label=\"R\")\n",
    "\n",
    "# Print the results\n",
    "print(f\"Accuracy: {rf_accuracy:.4f}\")\n",
    "print(f\"Precision for Democrats: {rf_precision_D:.4f}\")\n",
    "print(f\"Recall for Democrats: {rf_recall_D:.4f}\")\n",
    "print(f\"F1 Score for Democrats: {rf_f1_D:.4f}\")\n",
    "print(f\"Precision for Republicans: {rf_precision_R:.4f}\")\n",
    "print(f\"Recall for Republicans: {rf_recall_R:.4f}\")\n",
    "print(f\"F1 Score for Republicans: {rf_f1_R:.4f}\")"
   ]
  },
  {
   "cell_type": "markdown",
   "id": "23944533-6885-4a8d-b015-89c3d0d7bb44",
   "metadata": {},
   "source": [
    "### Tree based model feature comparison"
   ]
  },
  {
   "cell_type": "code",
   "execution_count": 52,
   "id": "a5f8ef99-113f-4219-950e-59767d7ac489",
   "metadata": {
    "tags": []
   },
   "outputs": [
    {
     "name": "stdout",
     "output_type": "stream",
     "text": [
      "\n",
      "GBM Classifier - Top 10 Important Features:\n",
      "PRFL_LIBERAL_NEWS_nan: 0.2835\n",
      "PRFL_LIBERAL_NEWS_Y: 0.2605\n",
      "PRFL_IMMIGRATION_REFORM_Y: 0.2051\n",
      "PARTY_CODE_S: 0.0828\n",
      "PRFL_BORDER_SECURITY_Y: 0.0355\n",
      "PRFL_IMMIGRATION_REFORM_nan: 0.0190\n",
      "PRFL_BORDER_SECURITY_nan: 0.0149\n",
      "PARTY_CODE_E: 0.0129\n",
      "PRFL_CONSERVATIVE_NEWS_nan: 0.0125\n",
      "PRFL_CONSERVATIVE_NEWS_Y: 0.0115\n",
      "\n",
      "XGB Classifier - Top 10 Important Features:\n",
      "PRFL_LIBERAL_NEWS_Y: 0.5264\n",
      "PRFL_IMMIGRATION_REFORM_Y: 0.0962\n",
      "PARTY_CODE_S: 0.0535\n",
      "PRFL_BORDER_SECURITY_Y: 0.0245\n",
      "PRFL_POLITICAL_IDEOLOGY_nan: 0.0134\n",
      "PRFL_CONSERVATIVE_NEWS_Y: 0.0111\n",
      "PRFL_POLITICAL_IDEOLOGY_C: 0.0105\n",
      "ASSMLCODE_nan: 0.0095\n",
      "PARTY_CODE_N: 0.0082\n",
      "FUND_POLIT_D: 0.0064\n",
      "\n",
      "Random Forest - Top 10 Important Features:\n",
      "PRFL_IMMIGRATION_REFORM_nan: 0.0825\n",
      "PRFL_BORDER_SECURITY_Y: 0.0768\n",
      "PRFL_LIBERAL_NEWS_nan: 0.0703\n",
      "PRFL_POLITICAL_IDEOLOGY_C: 0.0630\n",
      "PRFL_LIBERAL_NEWS_Y: 0.0514\n",
      "PRFL_BIDEN_SUPPORT_Y: 0.0514\n",
      "PRFL_CONSERVATIVE_NEWS_Y: 0.0498\n",
      "PRFL_IMMIGRATION_REFORM_Y: 0.0464\n",
      "PRFL_CONSERVATIVE_NEWS_nan: 0.0452\n",
      "PRFL_BORDER_SECURITY_nan: 0.0342\n",
      "\n",
      "SVM - Top 10 Important Features:\n",
      "LANGUAGE_S4: 1.2912\n",
      "SEX_N: 1.1861\n",
      "BUS_OWNER_2: 1.0925\n",
      "PARTY_CODE_A: 0.7825\n",
      "PARTY_CODE_B: 0.7662\n",
      "BUS_OWNER_5: 0.7329\n",
      "PARTY_CODE_R: 0.7213\n",
      "PARTY_CODE_S: 0.6836\n",
      "LANGUAGE_SB: 0.6591\n",
      "PARTY_CODE_D: 0.5562\n",
      "\n",
      "Logistic Regression - Top 10 Important Features:\n",
      "PARTY_CODE_D: 2.8738\n",
      "PARTY_CODE_R: 2.6383\n",
      "BUS_OWNER_nan: 2.4491\n",
      "PARTY_CODE_S: 2.1546\n",
      "PARTY_CODE_E: 1.7328\n",
      "LANGUAGE_G4: 1.1915\n",
      "LANGUAGE_S2: 1.1037\n",
      "LANGUAGE_A3: 1.0874\n",
      "SEX_N: 0.9519\n",
      "BUS_OWNER_3: 0.8691\n"
     ]
    }
   ],
   "source": [
    "classifiers = [\n",
    "    (\"GBM Classifier\", gbm_classifier),\n",
    "    (\"XGB Classifier\", xgb_classifier),\n",
    "    (\"Random Forest\", rf_classifier),\n",
    "    (\"SVM\", svm_classifier),\n",
    "    (\"Logistic Regression\", logreg_classifier)\n",
    "]\n",
    "\n",
    "\n",
    "# Function to obtain feature names after preprocessing\n",
    "def get_feature_names_after_preprocessing(preprocessor, input_features):\n",
    "    output_features = []\n",
    "    for name, trans, columns in preprocessor.transformers_:\n",
    "        # If the transformer has a method to get feature names out and isn't a \"remainder\" or similar non-transforming step\n",
    "        if hasattr(trans, 'get_feature_names_out') and name != 'remainder':\n",
    "            transformed_features = trans.get_feature_names_out(columns)\n",
    "            output_features.extend(transformed_features)\n",
    "        else:\n",
    "            output_features.extend(columns)\n",
    "    return output_features\n",
    "\n",
    "# Get the features after preprocessing\n",
    "features_post_preprocessing = get_feature_names_after_preprocessing(preprocessor, features)\n",
    "\n",
    "# Loop to print top 10 important features for each model\n",
    "for name, classifier in classifiers:\n",
    "    print(f\"\\n{name} - Top 10 Important Features:\")\n",
    "    \n",
    "    # Check if the classifier is GBM, XGB, Random Forest or SVM for feature importance\n",
    "    if name in [\"GBM Classifier\", \"XGB Classifier\", \"Random Forest\", \"SVM\"]:\n",
    "        if name == \"SVM\":  # SVM doesn't have feature_importances_. Instead, we use coef_.\n",
    "            importances = abs(classifier.coef_[0])  # Use absolute values as they represent \"magnitude\" of importance\n",
    "        else:\n",
    "            importances = classifier.feature_importances_\n",
    "    elif name == \"Logistic Regression\":\n",
    "        # For Logistic Regression, coefficients can be taken as an indicator of feature importance\n",
    "        # Again, we use absolute values to get the magnitude of importance\n",
    "        importances = abs(classifier.coef_[0])\n",
    "    else:\n",
    "        print(\"Feature importance not available for this classifier.\")\n",
    "        continue\n",
    "    \n",
    "    # Sort the feature importances and their respective feature names\n",
    "    sorted_indices = np.argsort(importances)[::-1]\n",
    "    for i in range(10):  # print top 10 features\n",
    "        print(f\"{features_post_preprocessing[sorted_indices[i]]}: {importances[sorted_indices[i]]:.4f}\")"
   ]
  },
  {
   "cell_type": "code",
   "execution_count": 53,
   "id": "4575301a-719a-46a6-bbc0-39d063640d51",
   "metadata": {
    "tags": []
   },
   "outputs": [],
   "source": [
    "import matplotlib.pyplot as plt\n",
    "import seaborn as sns\n",
    "import pandas as pd\n",
    "\n",
    "# Determine the top N features across all models\n",
    "N = 10\n",
    "\n",
    "# Create a DataFrame to store feature importances\n",
    "all_importances = pd.DataFrame(columns=['Feature', 'Importance', 'Model'])\n",
    "\n",
    "for name, classifier in classifiers:\n",
    "    \n",
    "    # Extract feature importances for current classifier\n",
    "    if name in [\"GBM Classifier\", \"XGB Classifier\", \"Random Forest\", \"SVM\"]:\n",
    "        if name == \"SVM\":\n",
    "            importances = abs(classifier.coef_[0])\n",
    "        else:\n",
    "            importances = classifier.feature_importances_\n",
    "    elif name == \"Logistic Regression\":\n",
    "        importances = abs(classifier.coef_[0])\n",
    "    \n",
    "    # Convert to DataFrame\n",
    "    df = pd.DataFrame({\n",
    "        'Feature': features_post_preprocessing,\n",
    "        'Importance': importances,\n",
    "        'Model': name\n",
    "    })\n",
    "    all_importances = pd.concat([all_importances, df], axis=0)\n",
    "\n",
    "# Determine top N features\n",
    "top_features = all_importances.groupby('Feature').Importance.mean().nlargest(N).index.tolist()\n",
    "\n",
    "# Filter only rows corresponding to top features\n",
    "filtered_importances = all_importances[all_importances.Feature.isin(top_features)]\n"
   ]
  },
  {
   "cell_type": "code",
   "execution_count": 54,
   "id": "1bae2404-29b6-4069-9c9c-e9436f64da1a",
   "metadata": {
    "tags": []
   },
   "outputs": [
    {
     "data": {
      "text/html": [
       "\n",
       "<style>\n",
       "  #altair-viz-49877244dc6e4ce4b2d27fec3a9d5113.vega-embed {\n",
       "    width: 100%;\n",
       "    display: flex;\n",
       "  }\n",
       "\n",
       "  #altair-viz-49877244dc6e4ce4b2d27fec3a9d5113.vega-embed details,\n",
       "  #altair-viz-49877244dc6e4ce4b2d27fec3a9d5113.vega-embed details summary {\n",
       "    position: relative;\n",
       "  }\n",
       "</style>\n",
       "<div id=\"altair-viz-49877244dc6e4ce4b2d27fec3a9d5113\"></div>\n",
       "<script type=\"text/javascript\">\n",
       "  var VEGA_DEBUG = (typeof VEGA_DEBUG == \"undefined\") ? {} : VEGA_DEBUG;\n",
       "  (function(spec, embedOpt){\n",
       "    let outputDiv = document.currentScript.previousElementSibling;\n",
       "    if (outputDiv.id !== \"altair-viz-49877244dc6e4ce4b2d27fec3a9d5113\") {\n",
       "      outputDiv = document.getElementById(\"altair-viz-49877244dc6e4ce4b2d27fec3a9d5113\");\n",
       "    }\n",
       "    const paths = {\n",
       "      \"vega\": \"https://cdn.jsdelivr.net/npm/vega@5?noext\",\n",
       "      \"vega-lib\": \"https://cdn.jsdelivr.net/npm/vega-lib?noext\",\n",
       "      \"vega-lite\": \"https://cdn.jsdelivr.net/npm/vega-lite@5.15.1?noext\",\n",
       "      \"vega-embed\": \"https://cdn.jsdelivr.net/npm/vega-embed@6?noext\",\n",
       "    };\n",
       "\n",
       "    function maybeLoadScript(lib, version) {\n",
       "      var key = `${lib.replace(\"-\", \"\")}_version`;\n",
       "      return (VEGA_DEBUG[key] == version) ?\n",
       "        Promise.resolve(paths[lib]) :\n",
       "        new Promise(function(resolve, reject) {\n",
       "          var s = document.createElement('script');\n",
       "          document.getElementsByTagName(\"head\")[0].appendChild(s);\n",
       "          s.async = true;\n",
       "          s.onload = () => {\n",
       "            VEGA_DEBUG[key] = version;\n",
       "            return resolve(paths[lib]);\n",
       "          };\n",
       "          s.onerror = () => reject(`Error loading script: ${paths[lib]}`);\n",
       "          s.src = paths[lib];\n",
       "        });\n",
       "    }\n",
       "\n",
       "    function showError(err) {\n",
       "      outputDiv.innerHTML = `<div class=\"error\" style=\"color:red;\">${err}</div>`;\n",
       "      throw err;\n",
       "    }\n",
       "\n",
       "    function displayChart(vegaEmbed) {\n",
       "      vegaEmbed(outputDiv, spec, embedOpt)\n",
       "        .catch(err => showError(`Javascript Error: ${err.message}<br>This usually means there's a typo in your chart specification. See the javascript console for the full traceback.`));\n",
       "    }\n",
       "\n",
       "    if(typeof define === \"function\" && define.amd) {\n",
       "      requirejs.config({paths});\n",
       "      require([\"vega-embed\"], displayChart, err => showError(`Error loading script: ${err.message}`));\n",
       "    } else {\n",
       "      maybeLoadScript(\"vega\", \"5\")\n",
       "        .then(() => maybeLoadScript(\"vega-lite\", \"5.15.1\"))\n",
       "        .then(() => maybeLoadScript(\"vega-embed\", \"6\"))\n",
       "        .catch(showError)\n",
       "        .then(() => displayChart(vegaEmbed));\n",
       "    }\n",
       "  })({\"config\": {\"view\": {\"continuousWidth\": 300, \"continuousHeight\": 300}, \"axis\": {\"labelFontSize\": 16, \"titleFontSize\": 18}}, \"data\": {\"name\": \"data-d69ffe5a7ebf02a13572f99a9a34b700\"}, \"facet\": {\"column\": {\"field\": \"Feature\", \"header\": {\"labelAlign\": \"right\", \"labelAngle\": -45, \"labelFontSize\": 16, \"labelOrient\": \"bottom\", \"title\": null}, \"type\": \"nominal\"}}, \"spec\": {\"layer\": [{\"mark\": {\"type\": \"bar\"}, \"encoding\": {\"color\": {\"field\": \"Model\", \"legend\": {\"labelFontSize\": 16, \"orient\": \"top-left\", \"title\": null}, \"type\": \"nominal\"}, \"tooltip\": [{\"field\": \"Feature\", \"type\": \"nominal\"}, {\"field\": \"Model\", \"type\": \"nominal\"}, {\"field\": \"Importance\", \"type\": \"quantitative\"}], \"x\": {\"axis\": {\"domain\": false, \"labels\": false, \"ticks\": false}, \"field\": \"Model\", \"title\": null, \"type\": \"nominal\"}, \"y\": {\"field\": \"Importance\", \"title\": null, \"type\": \"quantitative\"}}}], \"height\": 300, \"width\": 50}, \"resolve\": {\"scale\": {\"x\": \"independent\"}}, \"$schema\": \"https://vega.github.io/schema/vega-lite/v5.15.1.json\", \"datasets\": {\"data-d69ffe5a7ebf02a13572f99a9a34b700\": [{\"Feature\": \"ASSMLCODE_nan\", \"Importance\": 0.0006447008176958231, \"Model\": \"GBM Classifier\"}, {\"Feature\": \"FUND_POLIT_D\", \"Importance\": 0.0033107378484817877, \"Model\": \"GBM Classifier\"}, {\"Feature\": \"PARTY_CODE_E\", \"Importance\": 0.012876832730720864, \"Model\": \"GBM Classifier\"}, {\"Feature\": \"PARTY_CODE_N\", \"Importance\": 0.003347368517117368, \"Model\": \"GBM Classifier\"}, {\"Feature\": \"PARTY_CODE_S\", \"Importance\": 0.08276401092225444, \"Model\": \"GBM Classifier\"}, {\"Feature\": \"PRFL_BIDEN_SUPPORT_Y\", \"Importance\": 0.0036727099651440182, \"Model\": \"GBM Classifier\"}, {\"Feature\": \"PRFL_BORDER_SECURITY_Y\", \"Importance\": 0.03545563542199664, \"Model\": \"GBM Classifier\"}, {\"Feature\": \"PRFL_BORDER_SECURITY_nan\", \"Importance\": 0.014880180443665706, \"Model\": \"GBM Classifier\"}, {\"Feature\": \"PRFL_CONSERVATIVE_NEWS_Y\", \"Importance\": 0.011548173026800201, \"Model\": \"GBM Classifier\"}, {\"Feature\": \"PRFL_CONSERVATIVE_NEWS_nan\", \"Importance\": 0.012497903390944762, \"Model\": \"GBM Classifier\"}, {\"Feature\": \"PRFL_IMMIGRATION_REFORM_Y\", \"Importance\": 0.2051212578958254, \"Model\": \"GBM Classifier\"}, {\"Feature\": \"PRFL_IMMIGRATION_REFORM_nan\", \"Importance\": 0.01903549094174854, \"Model\": \"GBM Classifier\"}, {\"Feature\": \"PRFL_LIBERAL_NEWS_Y\", \"Importance\": 0.2604766434687585, \"Model\": \"GBM Classifier\"}, {\"Feature\": \"PRFL_LIBERAL_NEWS_nan\", \"Importance\": 0.2834593345137364, \"Model\": \"GBM Classifier\"}, {\"Feature\": \"PRFL_POLITICAL_IDEOLOGY_C\", \"Importance\": 0.005327268213831512, \"Model\": \"GBM Classifier\"}, {\"Feature\": \"PRFL_POLITICAL_IDEOLOGY_nan\", \"Importance\": 0.0064371500004721275, \"Model\": \"GBM Classifier\"}, {\"Feature\": \"ASSMLCODE_nan\", \"Importance\": 0.009513226337730885, \"Model\": \"XGB Classifier\"}, {\"Feature\": \"FUND_POLIT_D\", \"Importance\": 0.0063792634755373, \"Model\": \"XGB Classifier\"}, {\"Feature\": \"PARTY_CODE_E\", \"Importance\": 0.0058872695080935955, \"Model\": \"XGB Classifier\"}, {\"Feature\": \"PARTY_CODE_N\", \"Importance\": 0.008208421058952808, \"Model\": \"XGB Classifier\"}, {\"Feature\": \"PARTY_CODE_S\", \"Importance\": 0.053471531718969345, \"Model\": \"XGB Classifier\"}, {\"Feature\": \"PRFL_BIDEN_SUPPORT_Y\", \"Importance\": 0.003128509037196636, \"Model\": \"XGB Classifier\"}, {\"Feature\": \"PRFL_BORDER_SECURITY_Y\", \"Importance\": 0.02454501762986183, \"Model\": \"XGB Classifier\"}, {\"Feature\": \"PRFL_BORDER_SECURITY_nan\", \"Importance\": 0.0, \"Model\": \"XGB Classifier\"}, {\"Feature\": \"PRFL_CONSERVATIVE_NEWS_Y\", \"Importance\": 0.011144752614200115, \"Model\": \"XGB Classifier\"}, {\"Feature\": \"PRFL_CONSERVATIVE_NEWS_nan\", \"Importance\": 0.0, \"Model\": \"XGB Classifier\"}, {\"Feature\": \"PRFL_IMMIGRATION_REFORM_Y\", \"Importance\": 0.09618046134710312, \"Model\": \"XGB Classifier\"}, {\"Feature\": \"PRFL_IMMIGRATION_REFORM_nan\", \"Importance\": 0.0, \"Model\": \"XGB Classifier\"}, {\"Feature\": \"PRFL_LIBERAL_NEWS_Y\", \"Importance\": 0.5264461040496826, \"Model\": \"XGB Classifier\"}, {\"Feature\": \"PRFL_LIBERAL_NEWS_nan\", \"Importance\": 0.0, \"Model\": \"XGB Classifier\"}, {\"Feature\": \"PRFL_POLITICAL_IDEOLOGY_C\", \"Importance\": 0.010503667406737804, \"Model\": \"XGB Classifier\"}, {\"Feature\": \"PRFL_POLITICAL_IDEOLOGY_nan\", \"Importance\": 0.01335799228399992, \"Model\": \"XGB Classifier\"}, {\"Feature\": \"ASSMLCODE_nan\", \"Importance\": 0.0004602153686162652, \"Model\": \"Random Forest\"}, {\"Feature\": \"FUND_POLIT_D\", \"Importance\": 0.00369325655661281, \"Model\": \"Random Forest\"}, {\"Feature\": \"PARTY_CODE_E\", \"Importance\": 0.019181652748563375, \"Model\": \"Random Forest\"}, {\"Feature\": \"PARTY_CODE_N\", \"Importance\": 0.0026902392063826224, \"Model\": \"Random Forest\"}, {\"Feature\": \"PARTY_CODE_S\", \"Importance\": 0.030782153555771623, \"Model\": \"Random Forest\"}, {\"Feature\": \"PRFL_BIDEN_SUPPORT_Y\", \"Importance\": 0.05137052840154907, \"Model\": \"Random Forest\"}, {\"Feature\": \"PRFL_BORDER_SECURITY_Y\", \"Importance\": 0.07681477862683526, \"Model\": \"Random Forest\"}, {\"Feature\": \"PRFL_BORDER_SECURITY_nan\", \"Importance\": 0.03421491981678591, \"Model\": \"Random Forest\"}, {\"Feature\": \"PRFL_CONSERVATIVE_NEWS_Y\", \"Importance\": 0.04980147691671558, \"Model\": \"Random Forest\"}, {\"Feature\": \"PRFL_CONSERVATIVE_NEWS_nan\", \"Importance\": 0.04519942069497946, \"Model\": \"Random Forest\"}, {\"Feature\": \"PRFL_IMMIGRATION_REFORM_Y\", \"Importance\": 0.04638801024658913, \"Model\": \"Random Forest\"}, {\"Feature\": \"PRFL_IMMIGRATION_REFORM_nan\", \"Importance\": 0.08251379778842678, \"Model\": \"Random Forest\"}, {\"Feature\": \"PRFL_LIBERAL_NEWS_Y\", \"Importance\": 0.05142047053359174, \"Model\": \"Random Forest\"}, {\"Feature\": \"PRFL_LIBERAL_NEWS_nan\", \"Importance\": 0.07025155292080713, \"Model\": \"Random Forest\"}, {\"Feature\": \"PRFL_POLITICAL_IDEOLOGY_C\", \"Importance\": 0.06295472991425746, \"Model\": \"Random Forest\"}, {\"Feature\": \"PRFL_POLITICAL_IDEOLOGY_nan\", \"Importance\": 0.0019914880460880045, \"Model\": \"Random Forest\"}]}}, {\"mode\": \"vega-lite\"});\n",
       "</script>"
      ],
      "text/plain": [
       "alt.FacetChart(...)"
      ]
     },
     "metadata": {},
     "output_type": "display_data"
    }
   ],
   "source": [
    "import altair as alt\n",
    "\n",
    "# Extract top 10 features for each model\n",
    "top_features_gbm = all_importances[all_importances['Model'] == 'GBM Classifier'].nlargest(10, 'Importance')['Feature'].tolist()\n",
    "top_features_xgb = all_importances[all_importances['Model'] == 'XGB Classifier'].nlargest(10, 'Importance')['Feature'].tolist()\n",
    "top_features_rf = all_importances[all_importances['Model'] == 'Random Forest'].nlargest(10, 'Importance')['Feature'].tolist()\n",
    "\n",
    "# Get the union set of the top features\n",
    "all_top_features = set(top_features_gbm + top_features_xgb + top_features_rf)\n",
    "\n",
    "# Filter the DataFrame for features\n",
    "filtered_importances_features = all_importances[all_importances['Feature'].isin(all_top_features)]\n",
    "\n",
    "# Filter the DataFrame for models\n",
    "tree_based_models = [\"GBM Classifier\", \"XGB Classifier\", \"Random Forest\"]\n",
    "filtered_importances_all = filtered_importances_features[filtered_importances_features['Model'].isin(tree_based_models)]\n",
    "\n",
    "# Plot\n",
    "base = alt.Chart(filtered_importances_all).mark_bar().encode(\n",
    "    x=alt.X('Model:N', axis=alt.Axis(labels=False, ticks=False, domain=False), title=None),  # Hide model names\n",
    "    y=alt.Y('Importance:Q', title=None),\n",
    "    color=alt.Color('Model:N', legend=alt.Legend(title=None, orient='top-left', labelFontSize=16)),\n",
    "    tooltip=['Feature', 'Model', 'Importance']\n",
    ").properties(\n",
    "    width=50,\n",
    "    height=300\n",
    ")\n",
    "\n",
    "chart = alt.layer(base).facet(\n",
    "    column=alt.Column('Feature:N', header=alt.Header(labelAngle=-45, labelAlign='right', title=None, labelOrient='bottom', labelFontSize=16))\n",
    ").resolve_scale(\n",
    "    x='independent'  # This ensures each column has its own x-axis\n",
    ")\n",
    "\n",
    "# Increase the font size in the chart's configuration\n",
    "chart = chart.configure_axis(\n",
    "    labelFontSize=16,\n",
    "    titleFontSize=18\n",
    ")\n",
    "\n",
    "chart.display()"
   ]
  },
  {
   "cell_type": "markdown",
   "id": "0fe1bb1e-7781-4e10-9a46-dabd732b2923",
   "metadata": {},
   "source": [
    "### SVM"
   ]
  },
  {
   "cell_type": "code",
   "execution_count": 63,
   "id": "338493b6-0b1d-4cb8-9baa-c05f7870a35a",
   "metadata": {
    "tags": []
   },
   "outputs": [
    {
     "name": "stdout",
     "output_type": "stream",
     "text": [
      "112283\n",
      "['ADD_TYPE', 'AFAMPROFLS', 'AIRCOND', 'APP_CHILD', 'APP_MENBIG', 'APP_TODDLR', 'APP_WOMEN', 'APP_WOMPET', 'APP_WOMPLS', 'APP_YNGMEN', 'ARTS', 'ASSMLCODE', 'AUTOACCES', 'AUTOWORK', 'BOATING', 'BROADERLIV', 'BUS_OWNER', 'CARDUSER', 'CATOWNER', 'CH_0002FEM', 'CH_0002MAL', 'CH_0002UNK', 'CH_0305FEM', 'CH_0305MAL', 'CH_0305UNK', 'CH_0610FEM', 'CH_0610MAL', 'CH_0610UNK', 'CH_1115FEM', 'CH_1115MAL', 'CH_1115UNK', 'CH_1617FEM', 'CH_1617MAL', 'CH_1617UNK', 'CHRISTFAM', 'COL_ANTIQ', 'COL_ARTS', 'COL_COIN', 'COL_SPORT', 'COL_STAMP', 'COMPHOMOFC', 'COMPUTERS', 'COOK_GEN', 'COUNTY_TYPE', 'CURRAFFAIR', 'DEPTSTCRD', 'DIETING', 'DIYLIV', 'DOGOWNER', 'DON_ANML', 'DON_ARTCUL', 'DON_CHARIT', 'DON_CHILD', 'DON_ENVIR', 'DON_ENVWLD', 'DON_HEALTH', 'DON_INTAID', 'DON_OTHER', 'DON_POLCONS', 'DON_POLIT', 'DON_POLLIB', 'DON_RELIG', 'DON_VET', 'DONATION', 'EDU_ONLINE', 'EQUESTRIAN', 'ETHNIC_INFER', 'ETHNICCONF', 'EXER_GROUP', 'FUND_POLIT', 'GAMING', 'GARDENER', 'GENDER_MIX', 'GENERATION', 'GOLF', 'GRANDCHLD', 'HEALTHBEAU', 'HEATHMED', 'HH_NUMGEN', 'HH_SENIOR', 'HH_VETERAN', 'HH_YOUNGAD', 'HIGHBROW', 'HIGHENDAPP', 'HISTMIL', 'HITECHLIV', 'HOME_DECOR', 'HOMEOFFICE', 'HOMEOWNER', 'HOMEOWNRNT', 'HUNTING', 'HUNTSHOOT', 'INV_ACTIVE', 'LANGUAGE', 'LIFESTAGE_CLUSTER', 'MAIL_DONOR', 'MAILORDBUY', 'MAILORDRSP', 'MOTORCYCLE', 'NASCAR', 'OCCUPATION', 'PARENTING', 'PARTY_CODE', 'PETS', 'POOL', 'PRESENCHLD', 'PRFL_2NDAMEND', 'PRFL_ACTIVE_MIL', 'PRFL_AMZN_PRIME', 'PRFL_ANML_RIGHTS', 'PRFL_BIDEN_SUPPORT', 'PRFL_BLM_SUPPORT', 'PRFL_BORDER_SECURITY', 'PRFL_CLINTON_SUPPORT', 'PRFL_CONSERVATIVE_NEWS', 'PRFL_EDUCATION', 'PRFL_ENVIRONMENT', 'PRFL_EVANGELICAL', 'PRFL_FENCE_SITTER', 'PRFL_GUN_CONTROL', 'PRFL_HEALTHCARE', 'PRFL_IMMIGRATION_REFORM', 'PRFL_INFLUENCER', 'PRFL_INSURANCE', 'PRFL_LABOR', 'PRFL_LIBERAL_NEWS', 'PRFL_MARIJUANA_REFORM', 'PRFL_METOO_SUPPORT', 'PRFL_MIL_SUPPORT', 'PRFL_OBAMA', 'PRFL_PERSUADABLE_VOTER', 'PRFL_POLITICAL_IDEOLOGY', 'PRFL_SANDERS_SUPPORT', 'PRFL_TAXES', 'PRFL_TEACHERS_UNION', 'PRFL_TEAPARTY', 'PRFL_TRUMP_SUPPORT', 'PRFL_VETERAN', 'RD_FINNEWS', 'RD_GEN', 'RD_RELIG', 'RD_SCIFI', 'RELIGINSP', 'RELIGION', 'SCISPACE', 'SCUBADIVER', 'SELFIMP', 'SEX', 'SINGPARENT', 'SMOKING', 'SPEC_AUTO', 'SPEC_BASE', 'SPEC_BASK', 'SPEC_FOOT', 'SPEC_HOCK', 'SPEC_SOCC', 'SPORTLEIS', 'STATUS', 'SWEEPSTAKE', 'TELECOM', 'TENNIS', 'THEATER', 'TRAVEL', 'WORKWOMAN']\n",
      "['AGE', 'CENSUS_TRK', 'CNS_MEDINC', 'CNSUS_PCTA', 'CNSUS_PCTB', 'CNSUS_PCTH', 'CNSUS_PCTI', 'CNSUS_PCTM', 'CNSUS_PCTO', 'CNSUS_PCTP', 'CNSUS_PCTW', 'CRD_RANGE', 'CREDRATE', 'EDUCATION', 'HH_SIZE', 'HOMEMKTVAL', 'INCOMESTHH', 'LENGTH_RES', 'NETWORTH', 'NUMCHILD', 'PARTY_MIX', 'PERSONS_HH', 'PRFL_CHOICELIFE', 'PRFL_HEALTHCARE_REFORM', 'PRFL_LGBT_SUPPORT', 'PRFL_MARRIAGE_EQUALITY', 'PRFL_MINWAGE', 'TOD_PRES_D_2016', 'TOD_PRES_D_2016_PREC', 'TOD_PRES_D_2020_PREC', 'TOD_PRES_DIFF_2016', 'TOD_PRES_DIFF_2016_PREC', 'TOD_PRES_DIFF_2020_PREC', 'TOD_PRES_O_2016', 'TOD_PRES_O_2016_PREC', 'TOD_PRES_O_2020_PREC', 'TOD_PRES_R_2016', 'TOD_PRES_R_2016_PREC', 'TOD_PRES_R_2020_PREC', 'TRAIL_CNT', 'VOTER_CNT', 'VOTER_TRLR', 'VP_GEN', 'VP_OTH', 'VP_PPP', 'VP_PRI', 'YEARBUILT', 'interaction_div_2020', 'interaction_div_2016', 'interaction_mult_delta', 'interaction_div_D_2020', 'interaction_div_D_2016', 'interaction_mult_D_delta']\n",
      "0.9507948523845572\n",
      "              precision    recall  f1-score   support\n",
      "\n",
      "           0       0.95      0.95      0.95     11663\n",
      "           1       0.95      0.95      0.95     10794\n",
      "\n",
      "    accuracy                           0.95     22457\n",
      "   macro avg       0.95      0.95      0.95     22457\n",
      "weighted avg       0.95      0.95      0.95     22457\n",
      "\n"
     ]
    }
   ],
   "source": [
    "\n",
    "\n",
    "from sklearn.svm import LinearSVC\n",
    "from sklearn.preprocessing import StandardScaler\n",
    "\n",
    "large_data = large_data2.copy()\n",
    "\n",
    "# Drop target NaN values\n",
    "filtered_data = large_data.dropna(subset=['INFER_PARTY'])\n",
    "print(len(filtered_data))\n",
    "\n",
    "# Create the binary target variable\n",
    "filtered_data['target'] = filtered_data['INFER_PARTY'].map({'D': 0, 'R': 1})\n",
    "\n",
    "# Split the data\n",
    "X = filtered_data.drop(columns=['target', 'INFER_PARTY'])\n",
    "y = filtered_data['target']\n",
    "X_train, X_test, y_train, y_test = train_test_split(X, y, test_size=0.2, random_state=42)\n",
    "\n",
    "# Identify and convert categorical columns\n",
    "categorical_cols = [col for col in X_train.columns if X_train[col].dtype == 'object']\n",
    "print(categorical_cols)\n",
    "\n",
    "X_train[categorical_cols] = X_train[categorical_cols].astype(str)\n",
    "X_test[categorical_cols] = X_test[categorical_cols].astype(str)\n",
    "\n",
    "# Identify numerical columns\n",
    "numerical_cols = [col for col in X_train.columns if col not in categorical_cols]\n",
    "print(numerical_cols)\n",
    "\n",
    "# Scaling numerical features\n",
    "scaler = StandardScaler()\n",
    "X_train[numerical_cols] = scaler.fit_transform(X_train[numerical_cols])\n",
    "X_test[numerical_cols] = scaler.transform(X_test[numerical_cols])\n",
    "\n",
    "# Preprocessing for Categorical Data no imputation\n",
    "categorical_transformer = Pipeline(steps=[\n",
    "    ('encoder', OneHotEncoder(handle_unknown='ignore'))\n",
    "])\n",
    "\n",
    "# Preprocessing for Numerical Data mean imputation \n",
    "numerical_transformer = SimpleImputer(strategy='mean')\n",
    "\n",
    "preprocessor = ColumnTransformer(\n",
    "    transformers=[\n",
    "        ('cat', categorical_transformer, categorical_cols),\n",
    "        ('num', numerical_transformer, numerical_cols)\n",
    "    ])\n",
    "\n",
    "X_train_preprocessed = preprocessor.fit_transform(X_train)\n",
    "X_test_preprocessed = preprocessor.transform(X_test)\n",
    "\n",
    "# Linear SVM Classifier\n",
    "svm_classifier = LinearSVC(random_state=42, max_iter=1000)\n",
    "svm_classifier.fit(X_train_preprocessed, y_train)\n",
    "\n",
    "# Predictions and Evaluation\n",
    "y_pred = svm_classifier.predict(X_test_preprocessed)\n",
    "\n",
    "accuracy_after_filtering = accuracy_score(y_test, y_pred)\n",
    "classification_rep_after_filtering = classification_report(y_test, y_pred)\n",
    "\n",
    "print(accuracy_after_filtering)\n",
    "print(classification_rep_after_filtering)\n",
    "\n"
   ]
  },
  {
   "cell_type": "markdown",
   "id": "a0b15ea2-3730-453e-8a94-474f4653a265",
   "metadata": {},
   "source": [
    "### Running inference on the survey data set for model validation"
   ]
  },
  {
   "cell_type": "code",
   "execution_count": 64,
   "id": "4f83ebe6-eba0-4d72-bbb6-e7c568a94ba7",
   "metadata": {
    "tags": []
   },
   "outputs": [
    {
     "name": "stdout",
     "output_type": "stream",
     "text": [
      "1560\n",
      "1406\n",
      "Model Accuracy on full survey validation set: 38.12%\n"
     ]
    }
   ],
   "source": [
    "features2 = features + ['Q1_Candidate', 'Q3_Party','PARTY_CODE']\n",
    "# survey_data_features = survey_data[features2]\n",
    "\n",
    "survey_data_features= survey_data.drop(columns=features, errors='ignore')\n",
    "\n",
    "nan_rows = survey_data_features\n",
    "print(len(nan_rows))\n",
    "nan_with_survey = nan_rows.copy() \n",
    "nan_with_survey['index'] =nan_with_survey.index\n",
    "\n",
    "# Drop the INFER_PARTY and survey response columns \n",
    "X_nan_modeling = nan_with_survey.drop(columns=['INFER_PARTY','Q1_Candidate','Q3_Party'])\n",
    "\n",
    "# Convert categorical columns to string type\n",
    "X_nan_modeling[categorical_cols] = X_nan_modeling[categorical_cols].astype(str)\n",
    "\n",
    "# Apply the preprocessor\n",
    "nan_rows_preprocessed = preprocessor.transform(X_nan_modeling)\n",
    "\n",
    "# 2. Use the trained XGBoost or Gradient Boosting model to make predictions on the nan_rows dataframe\n",
    "X_nan_modeling['INFER_PARTY_PRED'] = svm_classifier.predict(nan_rows_preprocessed)\n",
    "\n",
    "evaluation_df = X_nan_modeling[['index', 'INFER_PARTY_PRED']]\n",
    "evaluation_df = evaluation_df.merge(nan_with_survey, on='index', how='left')\n",
    "\n",
    "evaluation_df['INFER_PARTY_PRED'] = evaluation_df['INFER_PARTY_PRED'].map({0: 'D', 1: 'R'})\n",
    "comparison = evaluation_df.copy()\n",
    "\n",
    "comparison = comparison[~comparison['Q1_Candidate'].isin(['Undecided', 'Robert F. Kennedy Jr.'])]\n",
    "\n",
    "# Create the binary target variable\n",
    "\n",
    "comparison['target'] = comparison['Q1_Candidate'].apply(lambda x: 'D' if x in ['President Joe Biden','Marianne Williamson'] else 'R')\n",
    "\n",
    "subset_comparison = comparison[['INFER_PARTY_PRED', 'target']]\n",
    "print(len(subset_comparison))\n",
    "correct_predictions = subset_comparison[subset_comparison['INFER_PARTY_PRED'] == subset_comparison['target']].shape[0]\n",
    "total_predictions = subset_comparison.shape[0]\n",
    "accuracy_percentage = (correct_predictions / total_predictions) * 100\n",
    "\n",
    "print(f\"Model Accuracy on full survey validation set: {accuracy_percentage:.2f}%\")"
   ]
  },
  {
   "cell_type": "code",
   "execution_count": 65,
   "id": "ba73e2b2-7ec5-4439-94a9-6b5cf1ba4a57",
   "metadata": {
    "tags": []
   },
   "outputs": [
    {
     "name": "stdout",
     "output_type": "stream",
     "text": [
      "Accuracy: 0.3812\n",
      "Precision for Democrats: 0.3554\n",
      "Recall for Democrats: 0.8760\n",
      "F1 Score for Democrats: 0.5057\n",
      "Precision for Republicans: 0.5909\n",
      "Recall for Republicans: 0.1013\n",
      "F1 Score for Republicans: 0.1730\n"
     ]
    }
   ],
   "source": [
    "# Assuming pred_vs_target is your DataFrame\n",
    "y_true = comparison['target']\n",
    "y_pred = comparison['INFER_PARTY_PRED']\n",
    "\n",
    "# Calculate metrics\n",
    "svm_accuracy = accuracy_score(y_true, y_pred)\n",
    "svm_precision_D = precision_score(y_true, y_pred, pos_label=\"D\")\n",
    "svm_recall_D = recall_score(y_true, y_pred, pos_label=\"D\")\n",
    "svm_f1_D = f1_score(y_true, y_pred, pos_label=\"D\")\n",
    "\n",
    "svm_precision_R = precision_score(y_true, y_pred, pos_label=\"R\")\n",
    "svm_recall_R = recall_score(y_true, y_pred, pos_label=\"R\")\n",
    "svm_f1_R = f1_score(y_true, y_pred, pos_label=\"R\")\n",
    "\n",
    "# Print the results\n",
    "print(f\"Accuracy: {svm_accuracy:.4f}\")\n",
    "print(f\"Precision for Democrats: {svm_precision_D:.4f}\")\n",
    "print(f\"Recall for Democrats: {svm_recall_D:.4f}\")\n",
    "print(f\"F1 Score for Democrats: {svm_f1_D:.4f}\")\n",
    "print(f\"Precision for Republicans: {svm_precision_R:.4f}\")\n",
    "print(f\"Recall for Republicans: {svm_recall_R:.4f}\")\n",
    "print(f\"F1 Score for Republicans: {svm_f1_R:.4f}\")"
   ]
  },
  {
   "cell_type": "code",
   "execution_count": 46,
   "id": "2031a979-fea1-41ca-ae65-89c4906934a9",
   "metadata": {
    "tags": []
   },
   "outputs": [
    {
     "data": {
      "image/png": "[encoded data removed]",
      "text/plain": [
       "<Figure size 1000x500 with 1 Axes>"
      ]
     },
     "metadata": {},
     "output_type": "display_data"
    }
   ],
   "source": [
    "import numpy as np\n",
    "import matplotlib.pyplot as plt\n",
    "\n",
    "# Get coefficients from the svm_classifier\n",
    "coefficients = svm_classifier.coef_[0]\n",
    "\n",
    "# Get the column names for one-hot encoded categorical columns\n",
    "cat_feature_names = preprocessor.named_transformers_['cat'].named_steps['encoder'].get_feature_names_out(categorical_cols)\n",
    "\n",
    "# Combine with numerical column names\n",
    "feature_names = np.concatenate([cat_feature_names, numerical_cols])\n",
    "\n",
    "# Combine coefficients and column names into a list of tuples\n",
    "features_list = sorted(zip(coefficients, feature_names), key=lambda x: abs(x[0]), reverse=True)[:10]\n",
    "\n",
    "# Separate the tuples for plotting\n",
    "values, names = zip(*features_list)\n",
    "\n",
    "# Plot\n",
    "plt.figure(figsize=(10, 5))\n",
    "plt.barh(names, values, align='center')\n",
    "plt.xlabel('Coefficient Value')\n",
    "plt.ylabel('Feature Name')\n",
    "plt.title('Top 10 Features Based on Coefficients')\n",
    "plt.gca().invert_yaxis()  # Show the feature with the largest magnitude coefficient at the top\n",
    "plt.show()"
   ]
  },
  {
   "cell_type": "markdown",
   "id": "ac716290-2b69-463b-8e7b-9f1aa0bdebf5",
   "metadata": {},
   "source": [
    "### Logistic Regression"
   ]
  },
  {
   "cell_type": "code",
   "execution_count": 66,
   "id": "1c08049a-361f-4fda-bc9c-3e6eabd36159",
   "metadata": {
    "tags": []
   },
   "outputs": [
    {
     "name": "stdout",
     "output_type": "stream",
     "text": [
      "112283\n",
      "['ADD_TYPE', 'AFAMPROFLS', 'AIRCOND', 'APP_CHILD', 'APP_MENBIG', 'APP_TODDLR', 'APP_WOMEN', 'APP_WOMPET', 'APP_WOMPLS', 'APP_YNGMEN', 'ARTS', 'ASSMLCODE', 'AUTOACCES', 'AUTOWORK', 'BOATING', 'BROADERLIV', 'BUS_OWNER', 'CARDUSER', 'CATOWNER', 'CH_0002FEM', 'CH_0002MAL', 'CH_0002UNK', 'CH_0305FEM', 'CH_0305MAL', 'CH_0305UNK', 'CH_0610FEM', 'CH_0610MAL', 'CH_0610UNK', 'CH_1115FEM', 'CH_1115MAL', 'CH_1115UNK', 'CH_1617FEM', 'CH_1617MAL', 'CH_1617UNK', 'CHRISTFAM', 'COL_ANTIQ', 'COL_ARTS', 'COL_COIN', 'COL_SPORT', 'COL_STAMP', 'COMPHOMOFC', 'COMPUTERS', 'COOK_GEN', 'COUNTY_TYPE', 'CURRAFFAIR', 'DEPTSTCRD', 'DIETING', 'DIYLIV', 'DOGOWNER', 'DON_ANML', 'DON_ARTCUL', 'DON_CHARIT', 'DON_CHILD', 'DON_ENVIR', 'DON_ENVWLD', 'DON_HEALTH', 'DON_INTAID', 'DON_OTHER', 'DON_POLCONS', 'DON_POLIT', 'DON_POLLIB', 'DON_RELIG', 'DON_VET', 'DONATION', 'EDU_ONLINE', 'EQUESTRIAN', 'ETHNIC_INFER', 'ETHNICCONF', 'EXER_GROUP', 'FUND_POLIT', 'GAMING', 'GARDENER', 'GENDER_MIX', 'GENERATION', 'GOLF', 'GRANDCHLD', 'HEALTHBEAU', 'HEATHMED', 'HH_NUMGEN', 'HH_SENIOR', 'HH_VETERAN', 'HH_YOUNGAD', 'HIGHBROW', 'HIGHENDAPP', 'HISTMIL', 'HITECHLIV', 'HOME_DECOR', 'HOMEOFFICE', 'HOMEOWNER', 'HOMEOWNRNT', 'HUNTING', 'HUNTSHOOT', 'INV_ACTIVE', 'LANGUAGE', 'LIFESTAGE_CLUSTER', 'MAIL_DONOR', 'MAILORDBUY', 'MAILORDRSP', 'MOTORCYCLE', 'NASCAR', 'OCCUPATION', 'PARENTING', 'PARTY_CODE', 'PETS', 'POOL', 'PRESENCHLD', 'PRFL_2NDAMEND', 'PRFL_ACTIVE_MIL', 'PRFL_AMZN_PRIME', 'PRFL_ANML_RIGHTS', 'PRFL_BIDEN_SUPPORT', 'PRFL_BLM_SUPPORT', 'PRFL_BORDER_SECURITY', 'PRFL_CLINTON_SUPPORT', 'PRFL_CONSERVATIVE_NEWS', 'PRFL_EDUCATION', 'PRFL_ENVIRONMENT', 'PRFL_EVANGELICAL', 'PRFL_FENCE_SITTER', 'PRFL_GUN_CONTROL', 'PRFL_HEALTHCARE', 'PRFL_IMMIGRATION_REFORM', 'PRFL_INFLUENCER', 'PRFL_INSURANCE', 'PRFL_LABOR', 'PRFL_LIBERAL_NEWS', 'PRFL_MARIJUANA_REFORM', 'PRFL_METOO_SUPPORT', 'PRFL_MIL_SUPPORT', 'PRFL_OBAMA', 'PRFL_PERSUADABLE_VOTER', 'PRFL_POLITICAL_IDEOLOGY', 'PRFL_SANDERS_SUPPORT', 'PRFL_TAXES', 'PRFL_TEACHERS_UNION', 'PRFL_TEAPARTY', 'PRFL_TRUMP_SUPPORT', 'PRFL_VETERAN', 'RD_FINNEWS', 'RD_GEN', 'RD_RELIG', 'RD_SCIFI', 'RELIGINSP', 'RELIGION', 'SCISPACE', 'SCUBADIVER', 'SELFIMP', 'SEX', 'SINGPARENT', 'SMOKING', 'SPEC_AUTO', 'SPEC_BASE', 'SPEC_BASK', 'SPEC_FOOT', 'SPEC_HOCK', 'SPEC_SOCC', 'SPORTLEIS', 'STATUS', 'SWEEPSTAKE', 'TELECOM', 'TENNIS', 'THEATER', 'TRAVEL', 'WORKWOMAN']\n",
      "['AGE', 'CENSUS_TRK', 'CNS_MEDINC', 'CNSUS_PCTA', 'CNSUS_PCTB', 'CNSUS_PCTH', 'CNSUS_PCTI', 'CNSUS_PCTM', 'CNSUS_PCTO', 'CNSUS_PCTP', 'CNSUS_PCTW', 'CRD_RANGE', 'CREDRATE', 'EDUCATION', 'HH_SIZE', 'HOMEMKTVAL', 'INCOMESTHH', 'LENGTH_RES', 'NETWORTH', 'NUMCHILD', 'PARTY_MIX', 'PERSONS_HH', 'PRFL_CHOICELIFE', 'PRFL_HEALTHCARE_REFORM', 'PRFL_LGBT_SUPPORT', 'PRFL_MARRIAGE_EQUALITY', 'PRFL_MINWAGE', 'TOD_PRES_D_2016', 'TOD_PRES_D_2016_PREC', 'TOD_PRES_D_2020_PREC', 'TOD_PRES_DIFF_2016', 'TOD_PRES_DIFF_2016_PREC', 'TOD_PRES_DIFF_2020_PREC', 'TOD_PRES_O_2016', 'TOD_PRES_O_2016_PREC', 'TOD_PRES_O_2020_PREC', 'TOD_PRES_R_2016', 'TOD_PRES_R_2016_PREC', 'TOD_PRES_R_2020_PREC', 'TRAIL_CNT', 'VOTER_CNT', 'VOTER_TRLR', 'VP_GEN', 'VP_OTH', 'VP_PPP', 'VP_PRI', 'YEARBUILT', 'interaction_div_2020', 'interaction_div_2016', 'interaction_mult_delta', 'interaction_div_D_2020', 'interaction_div_D_2016', 'interaction_mult_D_delta']\n",
      "(89826, 577)\n",
      "0.9504386160217304\n",
      "              precision    recall  f1-score   support\n",
      "\n",
      "           0       0.95      0.96      0.95     11663\n",
      "           1       0.95      0.94      0.95     10794\n",
      "\n",
      "    accuracy                           0.95     22457\n",
      "   macro avg       0.95      0.95      0.95     22457\n",
      "weighted avg       0.95      0.95      0.95     22457\n",
      "\n"
     ]
    }
   ],
   "source": [
    "from sklearn.linear_model import LogisticRegression\n",
    "from sklearn.preprocessing import StandardScaler\n",
    "\n",
    "large_data = large_data2.copy()\n",
    "\n",
    "# Drop target NaN values\n",
    "filtered_data = large_data.dropna(subset=['INFER_PARTY'])\n",
    "print(len(filtered_data))\n",
    "\n",
    "# Create the binary target variable\n",
    "filtered_data['target'] = filtered_data['INFER_PARTY'].map({'D': 0, 'R': 1})\n",
    "\n",
    "# Split the data\n",
    "X = filtered_data.drop(columns=['target', 'INFER_PARTY'])\n",
    "y = filtered_data['target']\n",
    "X_train, X_test, y_train, y_test = train_test_split(X, y, test_size=0.2, random_state=42)\n",
    "\n",
    "# Identify and convert categorical columns\n",
    "categorical_cols = [col for col in X_train.columns if X_train[col].dtype == 'object']\n",
    "print(categorical_cols)\n",
    "\n",
    "X_train[categorical_cols] = X_train[categorical_cols].astype(str)\n",
    "X_test[categorical_cols] = X_test[categorical_cols].astype(str)\n",
    "\n",
    "# Identify numerical columns\n",
    "numerical_cols = [col for col in X_train.columns if col not in categorical_cols]\n",
    "print(numerical_cols)\n",
    "\n",
    "# Preprocessing for Categorical Data no imputation\n",
    "categorical_transformer = Pipeline(steps=[\n",
    "    ('encoder', OneHotEncoder(handle_unknown='ignore'))\n",
    "])\n",
    "\n",
    "# Preprocessing for Numerical Data with mean imputation and scaling\n",
    "numerical_transformer = Pipeline(steps=[\n",
    "    ('imputer', SimpleImputer(strategy='mean')),\n",
    "    ('scaler', StandardScaler())\n",
    "])\n",
    "\n",
    "preprocessor = ColumnTransformer(\n",
    "    transformers=[\n",
    "        ('cat', categorical_transformer, categorical_cols),\n",
    "        ('num', numerical_transformer, numerical_cols)\n",
    "    ])\n",
    "print(X_train_preprocessed.shape)\n",
    "\n",
    "X_train_preprocessed = preprocessor.fit_transform(X_train)\n",
    "X_test_preprocessed = preprocessor.transform(X_test)\n",
    "\n",
    "# Logistic Regression Classifier\n",
    "logreg_classifier = LogisticRegression(random_state=42, max_iter=1000)\n",
    "logreg_classifier.fit(X_train_preprocessed, y_train)\n",
    "\n",
    "# Predictions and Evaluation\n",
    "y_pred = logreg_classifier.predict(X_test_preprocessed)\n",
    "\n",
    "accuracy_after_filtering = accuracy_score(y_test, y_pred)\n",
    "classification_rep_after_filtering = classification_report(y_test, y_pred)\n",
    "\n",
    "print(accuracy_after_filtering)\n",
    "print(classification_rep_after_filtering)"
   ]
  },
  {
   "cell_type": "markdown",
   "id": "d8a9f504-6c74-45b4-ae35-b3c44eb615ac",
   "metadata": {},
   "source": [
    "### Running inference on the survey data set for model validation"
   ]
  },
  {
   "cell_type": "code",
   "execution_count": 67,
   "id": "301b1427-fa3d-4fa9-a46c-58488ad5dcea",
   "metadata": {
    "tags": []
   },
   "outputs": [
    {
     "name": "stdout",
     "output_type": "stream",
     "text": [
      "1560\n",
      "1406\n",
      "Model Accuracy on full survey validation set: 73.68%\n"
     ]
    }
   ],
   "source": [
    "features2 = features + ['Q1_Candidate', 'Q3_Party','PARTY_CODE']\n",
    "# survey_data_features = survey_data[features2]\n",
    "\n",
    "survey_data_features= survey_data.drop(columns=features, errors='ignore')\n",
    "\n",
    "nan_rows = survey_data_features\n",
    "print(len(nan_rows))\n",
    "nan_with_survey = nan_rows.copy() \n",
    "nan_with_survey['index'] =nan_with_survey.index\n",
    "\n",
    "# Drop the INFER_PARTY and survey response columns \n",
    "X_nan_modeling = nan_with_survey.drop(columns=['INFER_PARTY','Q1_Candidate','Q3_Party'])\n",
    "\n",
    "# Convert categorical columns to string type\n",
    "X_nan_modeling[categorical_cols] = X_nan_modeling[categorical_cols].astype(str)\n",
    "\n",
    "# Apply the preprocessor\n",
    "nan_rows_preprocessed = preprocessor.transform(X_nan_modeling)\n",
    "\n",
    "# 2. Use the trained XGBoost or Gradient Boosting model to make predictions on the nan_rows dataframe\n",
    "X_nan_modeling['INFER_PARTY_PRED'] = logreg_classifier.predict(nan_rows_preprocessed)\n",
    "\n",
    "evaluation_df = X_nan_modeling[['index', 'INFER_PARTY_PRED']]\n",
    "evaluation_df = evaluation_df.merge(nan_with_survey, on='index', how='left')\n",
    "\n",
    "evaluation_df['INFER_PARTY_PRED'] = evaluation_df['INFER_PARTY_PRED'].map({0: 'D', 1: 'R'})\n",
    "comparison = evaluation_df.copy()\n",
    "\n",
    "comparison = comparison[~comparison['Q1_Candidate'].isin(['Undecided', 'Robert F. Kennedy Jr.'])]\n",
    "\n",
    "# Create the binary target variable\n",
    "\n",
    "comparison['target'] = comparison['Q1_Candidate'].apply(lambda x: 'D' if x in ['President Joe Biden','Marianne Williamson'] else 'R')\n",
    "\n",
    "subset_comparison = comparison[['INFER_PARTY_PRED', 'target']]\n",
    "print(len(subset_comparison))\n",
    "correct_predictions = subset_comparison[subset_comparison['INFER_PARTY_PRED'] == subset_comparison['target']].shape[0]\n",
    "total_predictions = subset_comparison.shape[0]\n",
    "accuracy_percentage = (correct_predictions / total_predictions) * 100\n",
    "\n",
    "print(f\"Model Accuracy on full survey validation set: {accuracy_percentage:.2f}%\")"
   ]
  },
  {
   "cell_type": "code",
   "execution_count": 68,
   "id": "afee3424-635e-466f-a40a-2dd8bc564a66",
   "metadata": {
    "tags": []
   },
   "outputs": [
    {
     "name": "stdout",
     "output_type": "stream",
     "text": [
      "Accuracy: 0.7368\n",
      "Precision for Democrats: 0.6082\n",
      "Recall for Democrats: 0.7638\n",
      "F1 Score for Democrats: 0.6771\n",
      "Precision for Republicans: 0.8438\n",
      "Recall for Republicans: 0.7216\n",
      "F1 Score for Republicans: 0.7779\n"
     ]
    }
   ],
   "source": [
    "# Assuming pred_vs_target is your DataFrame\n",
    "y_true = comparison['target']\n",
    "y_pred = comparison['INFER_PARTY_PRED']\n",
    "\n",
    "# Calculate metrics\n",
    "logreg_accuracy = accuracy_score(y_true, y_pred)\n",
    "logreg_precision_D = precision_score(y_true, y_pred, pos_label=\"D\")\n",
    "logreg_recall_D = recall_score(y_true, y_pred, pos_label=\"D\")\n",
    "logreg_f1_D = f1_score(y_true, y_pred, pos_label=\"D\")\n",
    "\n",
    "logreg_precision_R = precision_score(y_true, y_pred, pos_label=\"R\")\n",
    "logreg_recall_R = recall_score(y_true, y_pred, pos_label=\"R\")\n",
    "logreg_f1_R = f1_score(y_true, y_pred, pos_label=\"R\")\n",
    "\n",
    "# Print the results\n",
    "print(f\"Accuracy: {logreg_accuracy:.4f}\")\n",
    "print(f\"Precision for Democrats: {logreg_precision_D:.4f}\")\n",
    "print(f\"Recall for Democrats: {logreg_recall_D:.4f}\")\n",
    "print(f\"F1 Score for Democrats: {logreg_f1_D:.4f}\")\n",
    "print(f\"Precision for Republicans: {logreg_precision_R:.4f}\")\n",
    "print(f\"Recall for Republicans: {logreg_recall_R:.4f}\")\n",
    "print(f\"F1 Score for Republicans: {logreg_f1_R:.4f}\")"
   ]
  },
  {
   "cell_type": "code",
   "execution_count": 50,
   "id": "2379d29c-f30e-4272-acce-65b563f62d67",
   "metadata": {
    "tags": []
   },
   "outputs": [
    {
     "data": {
      "image/png": "[encoded data removed]",
      "text/plain": [
       "<Figure size 1000x600 with 1 Axes>"
      ]
     },
     "metadata": {},
     "output_type": "display_data"
    }
   ],
   "source": [
    "\n",
    "# 1. Get feature names from the preprocessor\n",
    "# OneHotEncoder feature names\n",
    "ohe_categories = preprocessor.named_transformers_['cat'].named_steps['encoder'].categories_\n",
    "\n",
    "# Revised approach to handle non-numeric category labels\n",
    "ohe_feature_names = [f\"{col}__{cat}\" for col, cats in zip(categorical_cols, ohe_categories) for cat in cats]\n",
    "\n",
    "# Combine feature names\n",
    "feature_names = ohe_feature_names + numerical_cols\n",
    "\n",
    "# 2. Sort the coefficients\n",
    "# Extract coefficients from the logistic regression model\n",
    "coefs = logreg_classifier.coef_[0]\n",
    "\n",
    "# Sort by absolute value (to capture importance regardless of direction/sign)\n",
    "sorted_indices = np.argsort(np.abs(coefs))[::-1]\n",
    "\n",
    "# 3. Plot the top features\n",
    "n_top_features = 20  # Number of top features you want to display\n",
    "top_features = [feature_names[i] for i in sorted_indices[:n_top_features]]\n",
    "top_coefs = coefs[sorted_indices[:n_top_features]]\n",
    "\n",
    "plt.figure(figsize=(10, 6))\n",
    "plt.barh(top_features, top_coefs, align='center')\n",
    "plt.xlabel(\"Coefficient Value\")\n",
    "plt.title(\"Top Feature Importances in Logistic Regression Model\")\n",
    "plt.gca().invert_yaxis()  # Display the highest coefficient at the top\n",
    "plt.show()"
   ]
  },
  {
   "cell_type": "code",
   "execution_count": 69,
   "id": "4520e6d7-9927-42ef-bb0f-48d53a262745",
   "metadata": {
    "tags": []
   },
   "outputs": [
    {
     "data": {
      "text/html": [
       "\n",
       "<style>\n",
       "  #altair-viz-fd21494a731541da9313e729982bc90e.vega-embed {\n",
       "    width: 100%;\n",
       "    display: flex;\n",
       "  }\n",
       "\n",
       "  #altair-viz-fd21494a731541da9313e729982bc90e.vega-embed details,\n",
       "  #altair-viz-fd21494a731541da9313e729982bc90e.vega-embed details summary {\n",
       "    position: relative;\n",
       "  }\n",
       "</style>\n",
       "<div id=\"altair-viz-fd21494a731541da9313e729982bc90e\"></div>\n",
       "<script type=\"text/javascript\">\n",
       "  var VEGA_DEBUG = (typeof VEGA_DEBUG == \"undefined\") ? {} : VEGA_DEBUG;\n",
       "  (function(spec, embedOpt){\n",
       "    let outputDiv = document.currentScript.previousElementSibling;\n",
       "    if (outputDiv.id !== \"altair-viz-fd21494a731541da9313e729982bc90e\") {\n",
       "      outputDiv = document.getElementById(\"altair-viz-fd21494a731541da9313e729982bc90e\");\n",
       "    }\n",
       "    const paths = {\n",
       "      \"vega\": \"https://cdn.jsdelivr.net/npm/vega@5?noext\",\n",
       "      \"vega-lib\": \"https://cdn.jsdelivr.net/npm/vega-lib?noext\",\n",
       "      \"vega-lite\": \"https://cdn.jsdelivr.net/npm/vega-lite@5.15.1?noext\",\n",
       "      \"vega-embed\": \"https://cdn.jsdelivr.net/npm/vega-embed@6?noext\",\n",
       "    };\n",
       "\n",
       "    function maybeLoadScript(lib, version) {\n",
       "      var key = `${lib.replace(\"-\", \"\")}_version`;\n",
       "      return (VEGA_DEBUG[key] == version) ?\n",
       "        Promise.resolve(paths[lib]) :\n",
       "        new Promise(function(resolve, reject) {\n",
       "          var s = document.createElement('script');\n",
       "          document.getElementsByTagName(\"head\")[0].appendChild(s);\n",
       "          s.async = true;\n",
       "          s.onload = () => {\n",
       "            VEGA_DEBUG[key] = version;\n",
       "            return resolve(paths[lib]);\n",
       "          };\n",
       "          s.onerror = () => reject(`Error loading script: ${paths[lib]}`);\n",
       "          s.src = paths[lib];\n",
       "        });\n",
       "    }\n",
       "\n",
       "    function showError(err) {\n",
       "      outputDiv.innerHTML = `<div class=\"error\" style=\"color:red;\">${err}</div>`;\n",
       "      throw err;\n",
       "    }\n",
       "\n",
       "    function displayChart(vegaEmbed) {\n",
       "      vegaEmbed(outputDiv, spec, embedOpt)\n",
       "        .catch(err => showError(`Javascript Error: ${err.message}<br>This usually means there's a typo in your chart specification. See the javascript console for the full traceback.`));\n",
       "    }\n",
       "\n",
       "    if(typeof define === \"function\" && define.amd) {\n",
       "      requirejs.config({paths});\n",
       "      require([\"vega-embed\"], displayChart, err => showError(`Error loading script: ${err.message}`));\n",
       "    } else {\n",
       "      maybeLoadScript(\"vega\", \"5\")\n",
       "        .then(() => maybeLoadScript(\"vega-lite\", \"5.15.1\"))\n",
       "        .then(() => maybeLoadScript(\"vega-embed\", \"6\"))\n",
       "        .catch(showError)\n",
       "        .then(() => displayChart(vegaEmbed));\n",
       "    }\n",
       "  })({\"config\": {\"view\": {\"continuousWidth\": 300, \"continuousHeight\": 300}}, \"layer\": [{\"mark\": {\"type\": \"rect\"}, \"encoding\": {\"color\": {\"field\": \"Score\", \"scale\": {\"domain\": [0, 1], \"reverse\": true, \"scheme\": \"redblue\"}, \"type\": \"quantitative\"}, \"tooltip\": [{\"field\": \"Model\", \"type\": \"nominal\"}, {\"field\": \"Metric\", \"type\": \"nominal\"}, {\"field\": \"Score\", \"type\": \"quantitative\"}], \"x\": {\"field\": \"Model\", \"type\": \"nominal\"}, \"y\": {\"field\": \"Metric\", \"type\": \"nominal\"}}}, {\"mark\": {\"type\": \"text\", \"baseline\": \"middle\"}, \"encoding\": {\"color\": {\"condition\": {\"test\": \"(datum.Score > 0.75)\", \"value\": \"white\"}, \"value\": \"black\"}, \"text\": {\"field\": \"Score\", \"format\": \".4f\", \"type\": \"quantitative\"}, \"tooltip\": [{\"field\": \"Model\", \"type\": \"nominal\"}, {\"field\": \"Metric\", \"type\": \"nominal\"}, {\"field\": \"Score\", \"type\": \"quantitative\"}], \"x\": {\"field\": \"Model\", \"type\": \"nominal\"}, \"y\": {\"field\": \"Metric\", \"type\": \"nominal\"}}}], \"data\": {\"name\": \"data-fc1b38b85b9413a7c6ea6b3d0ad6e6a4\"}, \"height\": 400, \"width\": 300, \"$schema\": \"https://vega.github.io/schema/vega-lite/v5.15.1.json\", \"datasets\": {\"data-fc1b38b85b9413a7c6ea6b3d0ad6e6a4\": [{\"Model\": \"XGB\", \"Metric\": \"Accuracy\", \"Score\": 0.7467994310099573}, {\"Model\": \"XGB\", \"Metric\": \"Precision_D\", \"Score\": 0.6225806451612903}, {\"Model\": \"XGB\", \"Metric\": \"Recall_D\", \"Score\": 0.7598425196850394}, {\"Model\": \"XGB\", \"Metric\": \"F1_D\", \"Score\": 0.6843971631205674}, {\"Model\": \"XGB\", \"Metric\": \"Precision_R\", \"Score\": 0.8447837150127226}, {\"Model\": \"XGB\", \"Metric\": \"Recall_R\", \"Score\": 0.7394209354120267}, {\"Model\": \"XGB\", \"Metric\": \"F1_R\", \"Score\": 0.7885985748218527}, {\"Model\": \"GBM\", \"Metric\": \"Accuracy\", \"Score\": 0.7389758179231863}, {\"Model\": \"GBM\", \"Metric\": \"Precision_D\", \"Score\": 0.6103286384976526}, {\"Model\": \"GBM\", \"Metric\": \"Recall_D\", \"Score\": 0.7677165354330708}, {\"Model\": \"GBM\", \"Metric\": \"F1_D\", \"Score\": 0.6800348735832608}, {\"Model\": \"GBM\", \"Metric\": \"Precision_R\", \"Score\": 0.8461538461538461}, {\"Model\": \"GBM\", \"Metric\": \"Recall_R\", \"Score\": 0.72271714922049}, {\"Model\": \"GBM\", \"Metric\": \"F1_R\", \"Score\": 0.7795795795795795}, {\"Model\": \"RF\", \"Metric\": \"Accuracy\", \"Score\": 0.7382645803698435}, {\"Model\": \"RF\", \"Metric\": \"Precision_D\", \"Score\": 0.6132686084142395}, {\"Model\": \"RF\", \"Metric\": \"Recall_D\", \"Score\": 0.7460629921259843}, {\"Model\": \"RF\", \"Metric\": \"F1_D\", \"Score\": 0.6731793960923623}, {\"Model\": \"RF\", \"Metric\": \"Precision_R\", \"Score\": 0.8362944162436549}, {\"Model\": \"RF\", \"Metric\": \"Recall_R\", \"Score\": 0.7338530066815144}, {\"Model\": \"RF\", \"Metric\": \"F1_R\", \"Score\": 0.7817319098457889}, {\"Model\": \"SVM\", \"Metric\": \"Accuracy\", \"Score\": 0.3812233285917496}, {\"Model\": \"SVM\", \"Metric\": \"Precision_D\", \"Score\": 0.35543130990415334}, {\"Model\": \"SVM\", \"Metric\": \"Recall_D\", \"Score\": 0.8759842519685039}, {\"Model\": \"SVM\", \"Metric\": \"F1_D\", \"Score\": 0.5056818181818182}, {\"Model\": \"SVM\", \"Metric\": \"Precision_R\", \"Score\": 0.5909090909090909}, {\"Model\": \"SVM\", \"Metric\": \"Recall_R\", \"Score\": 0.10133630289532294}, {\"Model\": \"SVM\", \"Metric\": \"F1_R\", \"Score\": 0.17300380228136883}, {\"Model\": \"LogReg\", \"Metric\": \"Accuracy\", \"Score\": 0.7368421052631579}, {\"Model\": \"LogReg\", \"Metric\": \"Precision_D\", \"Score\": 0.6081504702194357}, {\"Model\": \"LogReg\", \"Metric\": \"Recall_D\", \"Score\": 0.7637795275590551}, {\"Model\": \"LogReg\", \"Metric\": \"F1_D\", \"Score\": 0.6771378708551483}, {\"Model\": \"LogReg\", \"Metric\": \"Precision_R\", \"Score\": 0.84375}, {\"Model\": \"LogReg\", \"Metric\": \"Recall_R\", \"Score\": 0.7216035634743875}, {\"Model\": \"LogReg\", \"Metric\": \"F1_R\", \"Score\": 0.7779111644657862}]}}, {\"mode\": \"vega-lite\"});\n",
       "</script>"
      ],
      "text/plain": [
       "alt.LayerChart(...)"
      ]
     },
     "metadata": {},
     "output_type": "display_data"
    }
   ],
   "source": [
    "\n",
    "\n",
    "# Construct the data\n",
    "data = {\n",
    "    'Model': ['XGB', 'XGB', 'XGB', 'XGB', 'XGB', 'XGB', 'XGB',\n",
    "              'GBM', 'GBM', 'GBM', 'GBM', 'GBM', 'GBM', 'GBM',\n",
    "              'RF', 'RF', 'RF', 'RF', 'RF', 'RF', 'RF',\n",
    "              'SVM', 'SVM', 'SVM', 'SVM', 'SVM', 'SVM', 'SVM',\n",
    "              'LogReg', 'LogReg', 'LogReg', 'LogReg', 'LogReg', 'LogReg', 'LogReg'],\n",
    "    'Metric': ['Accuracy', 'Precision_D', 'Recall_D', 'F1_D', 'Precision_R', 'Recall_R', 'F1_R']*5,\n",
    "    'Score': [xgb_accuracy, xgb_precision_D, xgb_recall_D, xgb_f1_D, xgb_precision_R, xgb_recall_R, xgb_f1_R,\n",
    "              gbm_accuracy, gbm_precision_D, gbm_recall_D, gbm_f1_D, gbm_precision_R, gbm_recall_R, gbm_f1_R,\n",
    "              rf_accuracy, rf_precision_D, rf_recall_D, rf_f1_D, rf_precision_R, rf_recall_R, rf_f1_R,\n",
    "              svm_accuracy, svm_precision_D, svm_recall_D, svm_f1_D, svm_precision_R, svm_recall_R, svm_f1_R,\n",
    "              logreg_accuracy, logreg_precision_D, logreg_recall_D, logreg_f1_D, logreg_precision_R, logreg_recall_R, logreg_f1_R]\n",
    "}\n",
    "\n",
    "df = pd.DataFrame(data)\n",
    "\n",
    "# Heatmap in Altair\n",
    "chart = alt.Chart(df).mark_rect().encode(\n",
    "    x='Model:N',\n",
    "    y='Metric:N',\n",
    "    color=alt.Color('Score:Q', scale=alt.Scale(scheme='redblue', domain=[0, 1], reverse=True)),\n",
    "    tooltip=['Model', 'Metric', 'Score']\n",
    ").properties(\n",
    "    width=300,\n",
    "    height=400  # Adjusted height to fit more metrics\n",
    ")\n",
    "\n",
    "# Add text in the middle of the cells\n",
    "text = chart.mark_text(baseline='middle').encode(\n",
    "    text=alt.Text('Score:Q', format=\".4f\"),\n",
    "    color=alt.condition(\n",
    "        alt.datum.Score > 0.75,  # this threshold can be adjusted\n",
    "        alt.value('white'),\n",
    "        alt.value('black')\n",
    "    )\n",
    ")\n",
    "\n",
    "(chart + text).display()"
   ]
  },
  {
   "cell_type": "markdown",
   "id": "df79dcbc-1036-44dd-9c4c-df618f6dca00",
   "metadata": {},
   "source": [
    "### Evaluating Aristotle Features' accuracy at predicting survey responses"
   ]
  },
  {
   "cell_type": "code",
   "execution_count": 70,
   "id": "19ed7722-fd05-4c8d-9f1c-6277c2702aee",
   "metadata": {
    "tags": []
   },
   "outputs": [
    {
     "name": "stdout",
     "output_type": "stream",
     "text": [
      "Accuracy when IMMIGRRATION_REFORM has a value: 74.11%\n",
      "Accuracy considering entire dataset: 66.79%\n"
     ]
    }
   ],
   "source": [
    "\n",
    "# Filter out 'Undecided' and 'Robert F. Kennedy Jr.' from the candidate column\n",
    "comparison = survey_data[~survey_data['Q1_Candidate'].isin(['Undecided', 'Robert F. Kennedy Jr.'])].copy()\n",
    "\n",
    "# Create the binary target variable based on the candidate\n",
    "comparison['target'] = comparison['Q1_Candidate'].apply(lambda x: 'D' if x in ['President Joe Biden', 'Marianne Williamson'] else 'R')\n",
    "\n",
    "# Modify the PRFL_LIBERAL_NEWS column in the comparison dataframe\n",
    "comparison['PRFL_IMMIGRATION_REFORM'] = comparison['PRFL_IMMIGRATION_REFORM'].fillna('R').apply(lambda x: 'D' if x == 'Y' else 'R')\n",
    "\n",
    "# Filter data to only include rows where PRFL_LIBERAL_NEWS is not NaN (but now there shouldn't be any NaNs)\n",
    "valid_liberal_news = comparison.dropna(subset=['PRFL_IMMIGRATION_REFORM'])\n",
    "\n",
    "# Evaluate the accuracy for rows where PRFL_LIBERAL_NEWS has a value\n",
    "correct_predictions_valid = valid_liberal_news[valid_liberal_news['PRFL_IMMIGRATION_REFORM'] == valid_liberal_news['target']].shape[0]\n",
    "total_predictions_valid = valid_liberal_news.shape[0]\n",
    "accuracy_percentage_valid = (correct_predictions_valid / total_predictions_valid) * 100\n",
    "\n",
    "# Evaluate the accuracy considering the entire dataset\n",
    "correct_predictions_total = comparison[comparison['PRFL_IMMIGRATION_REFORM'] == comparison['target']].shape[0]\n",
    "entire_dataset_size = survey_data.shape[0]\n",
    "accuracy_percentage_total = (correct_predictions_total / entire_dataset_size) * 100\n",
    "\n",
    "print(f\"Accuracy when IMMIGRRATION_REFORM has a value: {accuracy_percentage_valid:.2f}%\")\n",
    "print(f\"Accuracy considering entire dataset: {accuracy_percentage_total:.2f}%\")"
   ]
  },
  {
   "cell_type": "markdown",
   "id": "6024e143-0de5-41de-b2b4-1dbdc5dd7f00",
   "metadata": {
    "tags": []
   },
   "source": [
    "### UMAP of dataset, map predictions (shapes) and target (colors) to data points"
   ]
  },
  {
   "cell_type": "code",
   "execution_count": 71,
   "id": "4cb80adb-5c48-429c-8421-dd38b91d7272",
   "metadata": {
    "tags": []
   },
   "outputs": [],
   "source": [
    "# #!pip install umap-learn\n",
    "\n",
    "# import umap.umap_ as umap\n",
    "\n",
    "# # Applying UMAP\n",
    "# reducer = umap.UMAP()\n",
    "# umap_results = reducer.fit_transform(nan_rows_preprocessed)\n",
    "\n",
    "# # Add the UMAP dimensions to our dataframe\n",
    "# comparison['umap_1'] = umap_results[:, 0]\n",
    "# comparison['umap_2'] = umap_results[:, 1]\n",
    "\n",
    "# # Visualizing\n",
    "# plt.figure(figsize=(10,8))\n",
    "# palette = sns.color_palette(\"viridis\", as_cmap=True)\n",
    "\n",
    "# sns.scatterplot(\n",
    "#     x=\"umap_1\", y=\"umap_2\",\n",
    "#     hue=\"INFER_PARTY_PRED\",\n",
    "#     style=\"target\",\n",
    "#     palette=palette,\n",
    "#     data=comparison,\n",
    "#     legend=\"full\",\n",
    "#     alpha=0.9\n",
    "# )\n",
    "# plt.title(\"UMAP Visualization color-coded by INFER_PARTY_PRED and shape according to Q1_Candidate target\")\n",
    "# plt.show()"
   ]
  },
  {
   "cell_type": "markdown",
   "id": "fc1defc4-08a4-43d2-96bf-8b0d96fc1be3",
   "metadata": {},
   "source": [
    "### Failure Analysis"
   ]
  },
  {
   "cell_type": "code",
   "execution_count": 72,
   "id": "7c7037d7-287d-4675-b1a4-7ad9c91791df",
   "metadata": {
    "collapsed": true,
    "jupyter": {
     "outputs_hidden": true
    },
    "tags": []
   },
   "outputs": [
    {
     "name": "stdout",
     "output_type": "stream",
     "text": [
      "There are 94 times that survey respondents picked a candidate opposite of the party reflected in their most recent 2016-2022 voter data \n"
     ]
    },
    {
     "ename": "KeyError",
     "evalue": "'INFER_PARTY_PRED'",
     "output_type": "error",
     "traceback": [
      "\u001b[1;31m---------------------------------------------------------------------------\u001b[0m",
      "\u001b[1;31mKeyError\u001b[0m                                  Traceback (most recent call last)",
      "File \u001b[1;32m~\\anaconda3\\Lib\\site-packages\\pandas\\core\\indexes\\base.py:3653\u001b[0m, in \u001b[0;36mIndex.get_loc\u001b[1;34m(self, key)\u001b[0m\n\u001b[0;32m   3652\u001b[0m \u001b[38;5;28;01mtry\u001b[39;00m:\n\u001b[1;32m-> 3653\u001b[0m     \u001b[38;5;28;01mreturn\u001b[39;00m \u001b[38;5;28mself\u001b[39m\u001b[38;5;241m.\u001b[39m_engine\u001b[38;5;241m.\u001b[39mget_loc(casted_key)\n\u001b[0;32m   3654\u001b[0m \u001b[38;5;28;01mexcept\u001b[39;00m \u001b[38;5;167;01mKeyError\u001b[39;00m \u001b[38;5;28;01mas\u001b[39;00m err:\n",
      "File \u001b[1;32m~\\anaconda3\\Lib\\site-packages\\pandas\\_libs\\index.pyx:147\u001b[0m, in \u001b[0;36mpandas._libs.index.IndexEngine.get_loc\u001b[1;34m()\u001b[0m\n",
      "File \u001b[1;32m~\\anaconda3\\Lib\\site-packages\\pandas\\_libs\\index.pyx:176\u001b[0m, in \u001b[0;36mpandas._libs.index.IndexEngine.get_loc\u001b[1;34m()\u001b[0m\n",
      "File \u001b[1;32mpandas\\_libs\\hashtable_class_helper.pxi:7080\u001b[0m, in \u001b[0;36mpandas._libs.hashtable.PyObjectHashTable.get_item\u001b[1;34m()\u001b[0m\n",
      "File \u001b[1;32mpandas\\_libs\\hashtable_class_helper.pxi:7088\u001b[0m, in \u001b[0;36mpandas._libs.hashtable.PyObjectHashTable.get_item\u001b[1;34m()\u001b[0m\n",
      "\u001b[1;31mKeyError\u001b[0m: 'INFER_PARTY_PRED'",
      "\nThe above exception was the direct cause of the following exception:\n",
      "\u001b[1;31mKeyError\u001b[0m                                  Traceback (most recent call last)",
      "Cell \u001b[1;32mIn[72], line 5\u001b[0m\n\u001b[0;32m      1\u001b[0m failures \u001b[38;5;241m=\u001b[39m comparison\u001b[38;5;241m.\u001b[39mloc[((comparison[\u001b[38;5;124m'\u001b[39m\u001b[38;5;124mtarget\u001b[39m\u001b[38;5;124m'\u001b[39m]\u001b[38;5;241m==\u001b[39m\u001b[38;5;124m'\u001b[39m\u001b[38;5;124mR\u001b[39m\u001b[38;5;124m'\u001b[39m) \u001b[38;5;241m&\u001b[39m (comparison[\u001b[38;5;124m'\u001b[39m\u001b[38;5;124mINFER_PARTY\u001b[39m\u001b[38;5;124m'\u001b[39m]\u001b[38;5;241m==\u001b[39m\u001b[38;5;124m'\u001b[39m\u001b[38;5;124mD\u001b[39m\u001b[38;5;124m'\u001b[39m) ) \u001b[38;5;241m|\u001b[39m ((comparison[\u001b[38;5;124m'\u001b[39m\u001b[38;5;124mtarget\u001b[39m\u001b[38;5;124m'\u001b[39m]\u001b[38;5;241m==\u001b[39m\u001b[38;5;124m'\u001b[39m\u001b[38;5;124mD\u001b[39m\u001b[38;5;124m'\u001b[39m) \u001b[38;5;241m&\u001b[39m (comparison[\u001b[38;5;124m'\u001b[39m\u001b[38;5;124mINFER_PARTY\u001b[39m\u001b[38;5;124m'\u001b[39m]\u001b[38;5;241m==\u001b[39m\u001b[38;5;124m'\u001b[39m\u001b[38;5;124mR\u001b[39m\u001b[38;5;124m'\u001b[39m))]\n\u001b[0;32m      3\u001b[0m \u001b[38;5;28mprint\u001b[39m(\u001b[38;5;124mf\u001b[39m\u001b[38;5;124m\"\u001b[39m\u001b[38;5;124mThere are \u001b[39m\u001b[38;5;132;01m{\u001b[39;00m\u001b[38;5;28mlen\u001b[39m(failures)\u001b[38;5;132;01m}\u001b[39;00m\u001b[38;5;124m times that survey respondents picked a candidate opposite of the party reflected in their most recent 2016-2022 voter data \u001b[39m\u001b[38;5;124m\"\u001b[39m)\n\u001b[1;32m----> 5\u001b[0m failures2 \u001b[38;5;241m=\u001b[39m comparison\u001b[38;5;241m.\u001b[39mloc[((comparison[\u001b[38;5;124m'\u001b[39m\u001b[38;5;124mtarget\u001b[39m\u001b[38;5;124m'\u001b[39m]\u001b[38;5;241m==\u001b[39m\u001b[38;5;124m'\u001b[39m\u001b[38;5;124mR\u001b[39m\u001b[38;5;124m'\u001b[39m) \u001b[38;5;241m&\u001b[39m (comparison[\u001b[38;5;124m'\u001b[39m\u001b[38;5;124mINFER_PARTY_PRED\u001b[39m\u001b[38;5;124m'\u001b[39m]\u001b[38;5;241m==\u001b[39m\u001b[38;5;124m'\u001b[39m\u001b[38;5;124mD\u001b[39m\u001b[38;5;124m'\u001b[39m) \u001b[38;5;241m&\u001b[39m (comparison[\u001b[38;5;124m'\u001b[39m\u001b[38;5;124mINFER_PARTY\u001b[39m\u001b[38;5;124m'\u001b[39m]\u001b[38;5;241m==\u001b[39m\u001b[38;5;124m'\u001b[39m\u001b[38;5;124mD\u001b[39m\u001b[38;5;124m'\u001b[39m)) \u001b[38;5;241m|\u001b[39m ((comparison[\u001b[38;5;124m'\u001b[39m\u001b[38;5;124mtarget\u001b[39m\u001b[38;5;124m'\u001b[39m]\u001b[38;5;241m==\u001b[39m\u001b[38;5;124m'\u001b[39m\u001b[38;5;124mD\u001b[39m\u001b[38;5;124m'\u001b[39m) \u001b[38;5;241m&\u001b[39m (comparison[\u001b[38;5;124m'\u001b[39m\u001b[38;5;124mINFER_PARTY_PRED\u001b[39m\u001b[38;5;124m'\u001b[39m]\u001b[38;5;241m==\u001b[39m\u001b[38;5;124m'\u001b[39m\u001b[38;5;124mR\u001b[39m\u001b[38;5;124m'\u001b[39m)\u001b[38;5;241m&\u001b[39m (comparison[\u001b[38;5;124m'\u001b[39m\u001b[38;5;124mINFER_PARTY\u001b[39m\u001b[38;5;124m'\u001b[39m]\u001b[38;5;241m==\u001b[39m\u001b[38;5;124m'\u001b[39m\u001b[38;5;124mR\u001b[39m\u001b[38;5;124m'\u001b[39m))]\n\u001b[0;32m      6\u001b[0m \u001b[38;5;28mprint\u001b[39m(\u001b[38;5;124mf\u001b[39m\u001b[38;5;124m\"\u001b[39m\u001b[38;5;132;01m{\u001b[39;00m\u001b[38;5;28mlen\u001b[39m(failures2)\u001b[38;5;132;01m}\u001b[39;00m\u001b[38;5;124m of those \u001b[39m\u001b[38;5;132;01m{\u001b[39;00m\u001b[38;5;28mlen\u001b[39m(failures)\u001b[38;5;132;01m}\u001b[39;00m\u001b[38;5;124m times the model incorrectly picked the party that was reflected in their most recent 2016-2022 voter data \u001b[39m\u001b[38;5;124m\"\u001b[39m)\n\u001b[0;32m      8\u001b[0m failures3 \u001b[38;5;241m=\u001b[39m comparison\u001b[38;5;241m.\u001b[39mloc[((comparison[\u001b[38;5;124m'\u001b[39m\u001b[38;5;124mtarget\u001b[39m\u001b[38;5;124m'\u001b[39m]\u001b[38;5;241m==\u001b[39m\u001b[38;5;124m'\u001b[39m\u001b[38;5;124mD\u001b[39m\u001b[38;5;124m'\u001b[39m) \u001b[38;5;241m&\u001b[39m (comparison[\u001b[38;5;124m'\u001b[39m\u001b[38;5;124mINFER_PARTY_PRED\u001b[39m\u001b[38;5;124m'\u001b[39m]\u001b[38;5;241m==\u001b[39m\u001b[38;5;124m'\u001b[39m\u001b[38;5;124mD\u001b[39m\u001b[38;5;124m'\u001b[39m) \u001b[38;5;241m&\u001b[39m (comparison[\u001b[38;5;124m'\u001b[39m\u001b[38;5;124mINFER_PARTY\u001b[39m\u001b[38;5;124m'\u001b[39m]\u001b[38;5;241m==\u001b[39m\u001b[38;5;124m'\u001b[39m\u001b[38;5;124mR\u001b[39m\u001b[38;5;124m'\u001b[39m)) \u001b[38;5;241m|\u001b[39m ((comparison[\u001b[38;5;124m'\u001b[39m\u001b[38;5;124mtarget\u001b[39m\u001b[38;5;124m'\u001b[39m]\u001b[38;5;241m==\u001b[39m\u001b[38;5;124m'\u001b[39m\u001b[38;5;124mR\u001b[39m\u001b[38;5;124m'\u001b[39m) \u001b[38;5;241m&\u001b[39m (comparison[\u001b[38;5;124m'\u001b[39m\u001b[38;5;124mINFER_PARTY_PRED\u001b[39m\u001b[38;5;124m'\u001b[39m]\u001b[38;5;241m==\u001b[39m\u001b[38;5;124m'\u001b[39m\u001b[38;5;124mR\u001b[39m\u001b[38;5;124m'\u001b[39m)\u001b[38;5;241m&\u001b[39m (comparison[\u001b[38;5;124m'\u001b[39m\u001b[38;5;124mINFER_PARTY\u001b[39m\u001b[38;5;124m'\u001b[39m]\u001b[38;5;241m==\u001b[39m\u001b[38;5;124m'\u001b[39m\u001b[38;5;124mD\u001b[39m\u001b[38;5;124m'\u001b[39m))]\n",
      "File \u001b[1;32m~\\anaconda3\\Lib\\site-packages\\pandas\\core\\frame.py:3761\u001b[0m, in \u001b[0;36mDataFrame.__getitem__\u001b[1;34m(self, key)\u001b[0m\n\u001b[0;32m   3759\u001b[0m \u001b[38;5;28;01mif\u001b[39;00m \u001b[38;5;28mself\u001b[39m\u001b[38;5;241m.\u001b[39mcolumns\u001b[38;5;241m.\u001b[39mnlevels \u001b[38;5;241m>\u001b[39m \u001b[38;5;241m1\u001b[39m:\n\u001b[0;32m   3760\u001b[0m     \u001b[38;5;28;01mreturn\u001b[39;00m \u001b[38;5;28mself\u001b[39m\u001b[38;5;241m.\u001b[39m_getitem_multilevel(key)\n\u001b[1;32m-> 3761\u001b[0m indexer \u001b[38;5;241m=\u001b[39m \u001b[38;5;28mself\u001b[39m\u001b[38;5;241m.\u001b[39mcolumns\u001b[38;5;241m.\u001b[39mget_loc(key)\n\u001b[0;32m   3762\u001b[0m \u001b[38;5;28;01mif\u001b[39;00m is_integer(indexer):\n\u001b[0;32m   3763\u001b[0m     indexer \u001b[38;5;241m=\u001b[39m [indexer]\n",
      "File \u001b[1;32m~\\anaconda3\\Lib\\site-packages\\pandas\\core\\indexes\\base.py:3655\u001b[0m, in \u001b[0;36mIndex.get_loc\u001b[1;34m(self, key)\u001b[0m\n\u001b[0;32m   3653\u001b[0m     \u001b[38;5;28;01mreturn\u001b[39;00m \u001b[38;5;28mself\u001b[39m\u001b[38;5;241m.\u001b[39m_engine\u001b[38;5;241m.\u001b[39mget_loc(casted_key)\n\u001b[0;32m   3654\u001b[0m \u001b[38;5;28;01mexcept\u001b[39;00m \u001b[38;5;167;01mKeyError\u001b[39;00m \u001b[38;5;28;01mas\u001b[39;00m err:\n\u001b[1;32m-> 3655\u001b[0m     \u001b[38;5;28;01mraise\u001b[39;00m \u001b[38;5;167;01mKeyError\u001b[39;00m(key) \u001b[38;5;28;01mfrom\u001b[39;00m \u001b[38;5;21;01merr\u001b[39;00m\n\u001b[0;32m   3656\u001b[0m \u001b[38;5;28;01mexcept\u001b[39;00m \u001b[38;5;167;01mTypeError\u001b[39;00m:\n\u001b[0;32m   3657\u001b[0m     \u001b[38;5;66;03m# If we have a listlike key, _check_indexing_error will raise\u001b[39;00m\n\u001b[0;32m   3658\u001b[0m     \u001b[38;5;66;03m#  InvalidIndexError. Otherwise we fall through and re-raise\u001b[39;00m\n\u001b[0;32m   3659\u001b[0m     \u001b[38;5;66;03m#  the TypeError.\u001b[39;00m\n\u001b[0;32m   3660\u001b[0m     \u001b[38;5;28mself\u001b[39m\u001b[38;5;241m.\u001b[39m_check_indexing_error(key)\n",
      "\u001b[1;31mKeyError\u001b[0m: 'INFER_PARTY_PRED'"
     ]
    }
   ],
   "source": [
    "\n",
    "failures = comparison.loc[((comparison['target']=='R') & (comparison['INFER_PARTY']=='D') ) | ((comparison['target']=='D') & (comparison['INFER_PARTY']=='R'))]\n",
    "\n",
    "print(f\"There are {len(failures)} times that survey respondents picked a candidate opposite of the party reflected in their most recent 2016-2022 voter data \")\n",
    "\n",
    "failures2 = comparison.loc[((comparison['target']=='R') & (comparison['INFER_PARTY_PRED']=='D') & (comparison['INFER_PARTY']=='D')) | ((comparison['target']=='D') & (comparison['INFER_PARTY_PRED']=='R')& (comparison['INFER_PARTY']=='R'))]\n",
    "print(f\"{len(failures2)} of those {len(failures)} times the model incorrectly picked the party that was reflected in their most recent 2016-2022 voter data \")\n",
    "\n",
    "failures3 = comparison.loc[((comparison['target']=='D') & (comparison['INFER_PARTY_PRED']=='D') & (comparison['INFER_PARTY']=='R')) | ((comparison['target']=='R') & (comparison['INFER_PARTY_PRED']=='R')& (comparison['INFER_PARTY']=='D'))]\n",
    "print(f\"{len(failures3)} of those {len(failures)} times the model correctly picked the party that was not reflected in their most recent 2016-2022 voter data \")\n",
    "\n",
    "failures4 = comparison.loc[(comparison['INFER_PARTY_PRED']=='D') & (comparison['PRFL_LIBERAL_NEWS']=='Y') & (comparison['target']=='R')]\n",
    "print(f\"{len(failures4)}  times the model incorrectly predicted D when Liberal News == Y \")\n"
   ]
  },
  {
   "cell_type": "code",
   "execution_count": 73,
   "id": "6cd891cd-9c52-4266-bcb5-c34d2775572a",
   "metadata": {
    "tags": []
   },
   "outputs": [
    {
     "name": "stdout",
     "output_type": "stream",
     "text": [
      "target\n",
      "R    63.869132\n",
      "D    36.130868\n",
      "Name: proportion, dtype: float64\n"
     ]
    }
   ],
   "source": [
    "subset_comparison['target']\n",
    "percentages = subset_comparison['target'].value_counts(normalize=True) * 100\n",
    "print(percentages)"
   ]
  },
  {
   "cell_type": "code",
   "execution_count": 79,
   "id": "eef1c994-c7fa-46fb-921b-c1ab257ff445",
   "metadata": {
    "tags": []
   },
   "outputs": [],
   "source": [
    "# # Create a crosstab\n",
    "# ct1 = pd.crosstab([comparison['INFER_PARTY_PRED'],comparison['PRFL_LIBERAL_NEWS']], comparison['target'])\n",
    "# #ct1 = pd.crosstab([comparison['INFER_PARTY'], comparison['INFER_PARTY_PRED']], comparison['target'])\n",
    "\n",
    "# print(ct1)\n"
   ]
  },
  {
   "cell_type": "code",
   "execution_count": 77,
   "id": "19b38fd8-74df-4fc8-b48b-11ee5d35e086",
   "metadata": {
    "tags": []
   },
   "outputs": [],
   "source": [
    "# failures = failures[['INFER_PARTY','INFER_PARTY_PRED','PRFL_LIBERAL_NEWS','target']]\n",
    "# #failures.head(50)\n",
    "\n",
    "\n",
    "# # Create a crosstab\n",
    "# ct1 = pd.crosstab([comparison['INFER_PARTY'], comparison['INFER_PARTY_PRED']], comparison['target'])\n",
    "\n",
    "# print(ct1)\n",
    "# #print(ct2)"
   ]
  },
  {
   "cell_type": "code",
   "execution_count": 78,
   "id": "1e5ef325-adf8-4a33-9043-fc2bab22c837",
   "metadata": {
    "tags": []
   },
   "outputs": [],
   "source": [
    "# failures4 = comparison.loc[((comparison['INFER_PARTY']=='D') & (comparison['INFER_PARTY_PRED']=='D') & (comparison['PRFL_LIBERAL_NEWS']=='Y') & (comparison['target']=='R'))]\n",
    "# len(failures4)"
   ]
  },
  {
   "cell_type": "code",
   "execution_count": null,
   "id": "2fd91414-bf4a-4307-a2b1-e96c71678443",
   "metadata": {
    "tags": []
   },
   "outputs": [],
   "source": [
    "subset_comparison['target']\n",
    "percentages = subset_comparison['target'].value_counts(normalize=True) * 100\n",
    "print(percentages)"
   ]
  },
  {
   "cell_type": "markdown",
   "id": "e134e3ad-d94c-4a2f-81bd-20ccfb155e6b",
   "metadata": {},
   "source": [
    "### Running inference on full 500k dataset and comparing predictions to 2020 presidential results"
   ]
  },
  {
   "cell_type": "code",
   "execution_count": null,
   "id": "d2d2321e-a6a5-462c-9dea-9875f9baeb56",
   "metadata": {
    "tags": []
   },
   "outputs": [],
   "source": [
    "\n",
    "\n",
    "import matplotlib.pyplot as plt\n",
    "\n",
    "# Group by 'STATE' and count the number of rows for each state in both dataframes\n",
    "large_data_counts = large_data['STATE'].value_counts()\n",
    "filtered_data_counts = filtered_data['STATE'].value_counts()\n",
    "\n",
    "# Create a figure with custom size\n",
    "plt.figure(figsize=[12,6])\n",
    "\n",
    "# Plot the bar chart for large_data\n",
    "large_data_counts.plot(kind='bar', color='lightgray', label='Data with 2016-2022 party voting data', edgecolor='black')\n",
    "\n",
    "# Plot the bar chart for filtered_data on top\n",
    "filtered_data_counts.plot(kind='bar', color='skyblue', label='No 2016-2022 party voting data', edgecolor='black', alpha=0.7)\n",
    "\n",
    "# Set chart title, labels, and legend\n",
    "plt.title('Stacked Bar Chart: Count of Rows Grouped by STATE')\n",
    "plt.xlabel('STATE')\n",
    "plt.ylabel('Count')\n",
    "plt.xticks(rotation=45)  # Rotate state names for better readability\n",
    "plt.legend()\n",
    "\n",
    "# Display the combined bar chart\n",
    "plt.tight_layout()  # Adjust layout for better display\n",
    "plt.show()\n",
    "\n",
    "\n"
   ]
  },
  {
   "cell_type": "code",
   "execution_count": null,
   "id": "3f69b65a-c20d-425b-9ef8-5dfe54b940ae",
   "metadata": {},
   "outputs": [],
   "source": [
    "# Drop the INFER_PARTY and survey response columns \n",
    "X_nan_modeling = large_data.drop(columns=['INFER_PARTY'])\n",
    "\n",
    "# Convert categorical columns to string type\n",
    "X_nan_modeling[categorical_cols] = X_nan_modeling[categorical_cols].astype(str)\n",
    "\n",
    "\n",
    "#NO GRID SEARCH\n",
    "# Apply the preprocessor\n",
    "nan_rows_preprocessed = preprocessor.transform(X_nan_modeling)\n",
    "\n",
    "# 2. Use the trained Gradient Boosting model to make predictions on the nan_rows dataframe\n",
    "\n",
    "X_nan_modeling['INFER_PARTY_PRED'] = xgb_classifier.predict(nan_rows_preprocessed)\n",
    "X_nan_modeling['INFER_PARTY_PRED'] = X_nan_modeling['INFER_PARTY_PRED'].map({0: 'D', 1: 'R'})\n",
    "\n",
    "#Merge the STATE column from full_data to X_nan_modeling based on the index\n",
    "#X_nan_modeling = X_nan_modeling.merge(large_data[['STATE']], left_index=True, right_index=True, how='left')\n",
    "\n",
    "X_nan_modeling\n",
    "\n",
    "# #GRID SEARCH\n",
    "# # Use the entire pipeline from the grid search's best estimator for prediction\n",
    "# fitted_pipeline = grid_search.best_estimator_\n",
    "# X_nan_modeling['INFER_PARTY_PRED'] = fitted_pipeline.predict(X_nan_modeling)\n",
    "# X_nan_modeling['INFER_PARTY_PRED'] = X_nan_modeling['INFER_PARTY_PRED'].map({0: 'D', 1: 'R'})\n",
    "\n",
    "# #Merge the STATE column from full_data to X_nan_modeling based on the index\n",
    "# X_nan_modeling = X_nan_modeling.merge(full_data[['STATE']], left_index=True, right_index=True, how='left')\n",
    "\n",
    "# X_nan_modeling"
   ]
  },
  {
   "cell_type": "code",
   "execution_count": null,
   "id": "64ef9b45-51bf-4fe8-a856-9cde74f5cd2a",
   "metadata": {
    "tags": []
   },
   "outputs": [],
   "source": [
    "votes_by_state_df = pd.read_csv('data/VOTES_BY_STATE_2020_PRES.csv')\n",
    "votes_by_state_df['Total_Votes'] = votes_by_state_df[['VOTES_TRUMP', 'VOTES_BIDEN', 'VOTES_OTHER']].sum(axis=1)\n",
    "votes_by_state_df['R'] = votes_by_state_df['VOTES_TRUMP'] / votes_by_state_df['Total_Votes'] * 100\n",
    "votes_by_state_df['D'] = votes_by_state_df['VOTES_BIDEN'] / votes_by_state_df['Total_Votes'] * 100\n",
    "actual_ratios_df = votes_by_state_df[['STATE', 'R', 'D']]\n",
    "\n",
    "# Count the number of 'D' and 'R' predictions by state\n",
    "party_counts = X_nan_modeling.groupby(['STATE', 'INFER_PARTY_PRED']).size().reset_index(name='count')\n",
    "\n",
    "# Convert these counts into percentages\n",
    "total_counts = party_counts.groupby('STATE')['count'].transform('sum')\n",
    "party_counts['Percentage'] = (party_counts['count'] / total_counts) * 100\n",
    "\n",
    "\n",
    "# Pivot the data for easier merging and visualization\n",
    "statewise_percentages = party_counts.pivot(index='STATE', columns='INFER_PARTY_PRED', values='Percentage').reset_index()\n",
    "\n",
    "# Now you can merge this with actual_ratios_df as previously explained:\n",
    "\n",
    "comparison_df = pd.merge(actual_ratios_df, statewise_percentages, on='STATE', how='inner')\n",
    "\n",
    "# Visualization\n",
    "import matplotlib.pyplot as plt\n",
    "\n",
    "# Calculate the differences\n",
    "comparison_df['R_difference'] = comparison_df['R_x'] - comparison_df['R_y']\n",
    "comparison_df['D_difference'] = comparison_df['D_x'] - comparison_df['D_y']\n",
    "\n",
    "# Calculate average differences across all states\n",
    "avg_R_difference = comparison_df['R_difference'].mean()\n",
    "avg_D_difference = comparison_df['D_difference'].mean()\n",
    "\n",
    "# Print the average differences\n",
    "print(f\"Average Republican Voteshare Difference: {avg_R_difference:.2f}%\")\n",
    "print(f\"Average Democrat Voteshare Difference: {avg_D_difference:.2f}%\")\n",
    "\n",
    "\n",
    "parties = ['R', 'D']\n",
    "for party in parties:\n",
    "    plt.figure(figsize=(12, 6))\n",
    "    plt.bar(comparison_df['STATE'], comparison_df[party+'_x'], alpha=0.5, label='Actual Ratios')\n",
    "    plt.bar(comparison_df['STATE'], comparison_df[party+'_y'], alpha=0.5, label='Predicted Ratios')\n",
    "    plt.title(f'Vote Ratios for {party}')\n",
    "    plt.xticks(rotation=45)  \n",
    "    plt.legend()\n",
    "    plt.show()\n",
    "\n",
    "# Calculate the differences\n",
    "comparison_df['R_difference'] = comparison_df['R_x'] - comparison_df['R_y']\n",
    "comparison_df['D_difference'] = comparison_df['D_x'] - comparison_df['D_y']\n",
    "\n",
    "# Extract the differences in a new dataframe for a clearer view\n",
    "difference_df = comparison_df[['STATE', 'R_difference', 'D_difference']]\n",
    "\n",
    "# Print the differences\n",
    "print(\"Differences between actual and predicted voteshare:\")\n",
    "print(\"-\" * 50)\n",
    "for index, row in difference_df.iterrows():\n",
    "    print(f\"State: {row['STATE']}\")\n",
    "    print(f\"   Republican Difference: {row['R_difference']:.2f}%\")\n",
    "    print(f\"   Democrat Difference: {row['D_difference']:.2f}%\")\n",
    "    print(\"-\" * 50)\n",
    "    \n",
    "    \n"
   ]
  },
  {
   "cell_type": "markdown",
   "id": "1734d6a4-608d-45cc-90a8-8045a45773dc",
   "metadata": {},
   "source": [
    "### Old target feature code"
   ]
  },
  {
   "cell_type": "code",
   "execution_count": null,
   "id": "8f6f961e8a9d6778",
   "metadata": {
    "ExecuteTime": {
     "end_time": "2023-10-15T03:19:39.354946Z",
     "start_time": "2023-10-15T03:19:35.686982Z"
    },
    "tags": []
   },
   "outputs": [],
   "source": [
    "# engineered_data = corrected_data.copy()\n",
    "# voter_columns = [col for col in engineered_data.columns if col.startswith(\"VTR\")]\n",
    "# #Create column with total number of votes in voter_columns per row\n",
    "# engineered_data['VTR_TOTAL_VOTES'] = engineered_data[voter_columns].notnull().sum(axis=1)\n",
    "# #Sum Democrat and Republican totals\n",
    "# engineered_data['VTR_TOTAL_DVOTES'] = engineered_data[voter_columns].isin(['D', 'M', 'Z']).sum(axis=1)\n",
    "# engineered_data['VTR_TOTAL_RVOTES'] = engineered_data[voter_columns].isin(['R', 'P', 'X']).sum(axis=1)\n",
    "# #Create conditions that evaluate whether more votes have been cast for Democrats or Republicans, and assign 'D' and 'R' to new column based on conditions\n",
    "# conditions = [\n",
    "#     engineered_data['VTR_TOTAL_DVOTES'] > engineered_data['VTR_TOTAL_RVOTES'],\n",
    "#     engineered_data['VTR_TOTAL_DVOTES'] < engineered_data['VTR_TOTAL_RVOTES']\n",
    "# ]\n",
    "# choices = ['D', 'R']\n",
    "# engineered_data['VTR_INFER_PARTY'] = np.select(conditions, choices, default=np.nan)\n",
    "# #Create conditions that evaluate whether a voter is a swing voter or not\n",
    "# conditions_swing = [\n",
    "#     (engineered_data['VTR_TOTAL_DVOTES'] > 2) & (engineered_data['VTR_TOTAL_RVOTES'] > 2),\n",
    "#     ((engineered_data['VTR_TOTAL_DVOTES'] > 1) & (engineered_data['VTR_TOTAL_RVOTES'] == 0)) | ((engineered_data['VTR_TOTAL_RVOTES'] > 1) & (engineered_data['VTR_TOTAL_DVOTES'] == 0))\n",
    "# ]\n",
    "# choices_swing = ['Y', 'N']\n",
    "# engineered_data['VTR_INFER_SWING'] = np.select(conditions_swing, choices_swing, default=np.nan)\n",
    "# #sampledf = engineered_data[['PARTY_CODE','INFER_PARTY','VTR_TOTAL_DVOTES','VTR_TOTAL_RVOTES','VTR_INFER_PARTY','VTR_INFER_SWING']]\n",
    "# #print(sampledf.head(50))\n",
    "# #Add values to INFER_PARTY and correct any other INFER_PARTY values that don't meet the conditions above:\n",
    "# print(sum(engineered_data['INFER_PARTY'].isna())) #291 NaNs for INFER_PARTY before\n",
    "# engineered_data.loc[(engineered_data['VTR_INFER_PARTY'] == 'D') & (engineered_data['VTR_INFER_SWING'] == 'N'), 'INFER_PARTY'] = 'D'\n",
    "# engineered_data.loc[(engineered_data['VTR_INFER_PARTY'] == 'R') & (engineered_data['VTR_INFER_SWING'] == 'N'), 'INFER_PARTY'] = 'R'\n",
    "# engineered_data.loc[(engineered_data['VTR_INFER_PARTY'] == 'D') & (engineered_data['VTR_INFER_SWING'] == 'Y'), 'INFER_PARTY'] =  float('nan')\n",
    "# engineered_data.loc[(engineered_data['VTR_INFER_PARTY'] == 'R') & (engineered_data['VTR_INFER_SWING'] == 'Y'), 'INFER_PARTY'] =  float('nan')\n",
    "# #Also delete any 'D' or 'R' INFER_PARTY labels for anyone deemed a \"swing voter\" based on criteria above of voting for both parties at least 3 times each:\n",
    "# engineered_data.loc[(engineered_data['VTR_INFER_SWING'] == 'Y') , 'INFER_PARTY'] = float('nan')\n",
    "# print(sum(engineered_data['INFER_PARTY'].isna())) #291 NaNs for INFER_PARTY before\n",
    "# #Drop auxiliary columns used for math, keeping 'VTR_TOTAL_VOTES', 'VTR_INFER_SWING', and the updated 'INFER_PARTY' columns as features:\n",
    "# engineered_data = engineered_data.drop(columns=['VTR_TOTAL_DVOTES','VTR_TOTAL_RVOTES','VTR_INFER_PARTY'])\n",
    "# # Drop the list of columns from the dataset\n",
    "# #engineered_data_cleaned = engineered_data.drop(columns=remove_columns, errors='ignore')\n",
    "# \n",
    "# # features_to_remove = [\n",
    "# #     'PRFL_CHOICELIFE', 'TOD_PRES_D_2016_PREC', 'TOD_PRES_O_2016',\n",
    "# #     'TOD_PRES_R_2016', 'TOD_PRES_R_2016_PREC', 'TOD_PRES_R_2020_PREC', 'VP_PPP',\n",
    "# #     'AGE', 'CNSUS_PCTW'\n",
    "# # ]\n",
    "# # # Assuming 'engineered_data' is your DataFrame, remove the less important features\n",
    "# # engineered_data = engineered_data.drop(columns=features_to_remove, errors='ignore')\n"
   ]
  },
  {
   "cell_type": "code",
   "execution_count": null,
   "id": "1a7ca8abe3b48536",
   "metadata": {
    "collapsed": false,
    "is_executing": true,
    "jupyter": {
     "outputs_hidden": false
    }
   },
   "outputs": [],
   "source": []
  },
  {
   "cell_type": "code",
   "execution_count": null,
   "id": "042f8232-74e1-4027-8a9d-efc9b9f9c82d",
   "metadata": {},
   "outputs": [],
   "source": []
  },
  {
   "cell_type": "code",
   "execution_count": null,
   "id": "535b0a49-cfe5-460f-b495-50d9e9e12382",
   "metadata": {},
   "outputs": [],
   "source": []
  }
 ],
 "metadata": {
  "kernelspec": {
   "display_name": "Python 3 (ipykernel)",
   "language": "python",
   "name": "python3"
  },
  "language_info": {
   "codemirror_mode": {
    "name": "ipython",
    "version": 3
   },
   "file_extension": ".py",
   "mimetype": "text/x-python",
   "name": "python",
   "nbconvert_exporter": "python",
   "pygments_lexer": "ipython3",
   "version": "3.11.5"
  }
 },
 "nbformat": 4,
 "nbformat_minor": 5
}
