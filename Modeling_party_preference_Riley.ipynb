{
 "cells": [
  {
   "cell_type": "code",
   "execution_count": 1,
   "id": "initial_id",
   "metadata": {
    "ExecuteTime": {
     "end_time": "2023-10-15T20:14:27.850527Z",
     "start_time": "2023-10-15T20:14:27.191384Z"
    },
    "tags": []
   },
   "outputs": [],
   "source": [
    "import pandas as pd\n",
    "import numpy as np\n",
    "import matplotlib.pyplot as plt\n",
    "from collections import Counter\n",
    "from sklearn.impute import SimpleImputer\n",
    "from sklearn.preprocessing import LabelEncoder, StandardScaler\n",
    "from sklearn.model_selection import train_test_split\n",
    "from sklearn.ensemble import RandomForestClassifier, GradientBoostingClassifier\n",
    "from sklearn.linear_model import LogisticRegression\n",
    "from sklearn.metrics import accuracy_score, recall_score, f1_score\n",
    "import seaborn as sns\n",
    "import plotly.express as px\n",
    "from collections import defaultdict\n",
    "import time\n",
    "from xgboost import XGBClassifier\n",
    "from IPython.display import display"
   ]
  },
  {
   "cell_type": "code",
   "execution_count": 2,
   "id": "a6a9f9d222a5c272",
   "metadata": {
    "ExecuteTime": {
     "end_time": "2023-10-15T20:14:28.021230Z",
     "start_time": "2023-10-15T20:14:27.810031Z"
    },
    "collapsed": false,
    "jupyter": {
     "outputs_hidden": false
    },
    "tags": []
   },
   "outputs": [],
   "source": [
    "import plotly.io as pio\n",
    "pio.renderers.default = \"notebook\"\n",
    "# import plotly\n",
    "# print(plotly.__version__)\n",
    "# # import plotly.offline as pyo\n",
    "# # pyo.init_notebook_mode(connected=True)"
   ]
  },
  {
   "cell_type": "code",
   "execution_count": 3,
   "id": "778d1a0f0e25b833",
   "metadata": {
    "ExecuteTime": {
     "end_time": "2023-10-15T20:14:43.240849Z",
     "start_time": "2023-10-15T20:14:27.963508Z"
    },
    "collapsed": false,
    "jupyter": {
     "outputs_hidden": false
    },
    "tags": []
   },
   "outputs": [],
   "source": [
    "# data_500 = pd.read_csv(\"/Users/nirugidla/Documents/GitHub/milestone2_MADS/data_500k.csv\", low_memory=False)\n",
    "# data_500.sample(5)"
   ]
  },
  {
   "cell_type": "code",
   "execution_count": 4,
   "id": "211e9f4b08ac9dc3",
   "metadata": {
    "ExecuteTime": {
     "end_time": "2023-10-15T20:16:39.101686Z",
     "start_time": "2023-10-15T20:15:00.838034Z"
    },
    "collapsed": false,
    "jupyter": {
     "outputs_hidden": false
    },
    "tags": []
   },
   "outputs": [
    {
     "name": "stderr",
     "output_type": "stream",
     "text": [
      "C:\\Users\\Hernando\\AppData\\Local\\Temp\\ipykernel_6188\\2482597874.py:1: DtypeWarning:\n",
      "\n",
      "Columns (22,56,58,86,93,117,144,146,148,150,159,164,169,171,178,192,193,205,214,215,241,293,297) have mixed types. Specify dtype option on import or set low_memory=False.\n",
      "\n"
     ]
    },
    {
     "name": "stdout",
     "output_type": "stream",
     "text": [
      "N's after corrections\n",
      "75028\n",
      "U's after corrections\n",
      "69537\n",
      "inferred Rs:\n",
      "78296\n",
      "inferred Ds:\n",
      "71769\n",
      "new inferred Rs:\n",
      "81680\n",
      "new inferred Ds:\n",
      "76795\n",
      "Final PARTY_CODE values:\n",
      "['N' 'R' 'O' 'D' 'L' nan]\n",
      "Final INFER_PARTY values:\n",
      "[nan 'R' 'D']\n",
      "INFER_PARTY Ds and Rs:\n",
      "354058\n",
      "INFER_PARTY NaNs:\n",
      "145942\n",
      "Final INFER_PARTY Ds and Rs:\n",
      "354080\n",
      "Final INFER_PARTY NaNs:\n",
      "145920\n"
     ]
    }
   ],
   "source": [
    "data_500 = pd.read_csv(\"data/data_500k.csv\")\n",
    "def clean_party_create_infer(corrected_data):\n",
    "    #Replace blanks and spaces with NaN\n",
    "    corrected_data.replace(r'^\\s*$', np.nan, regex=True, inplace=True)\n",
    "\n",
    "    # Update the 'I' values in PARTY_CODE to 'N' for rows where STATE is 'SD'\n",
    "    corrected_data.loc[(corrected_data['STATE'] == 'SD') & (corrected_data['PARTY_CODE'] == 'I'), 'PARTY_CODE'] = 'N'\n",
    "\n",
    "    # Update the 'U' values in PARTY_CODE to 'N' for rows where STATE is in ['DC', 'LA', 'RI']\n",
    "    states_to_update = ['DC', 'LA', 'RI']\n",
    "    corrected_data.loc[(corrected_data['STATE'].isin(states_to_update)) & (corrected_data['PARTY_CODE'] == 'U'), 'PARTY_CODE'] = 'N'\n",
    "\n",
    "    # Update the 'I' values in PARTY_CODE to 'N' for rows where STATE is 'OK'\n",
    "    corrected_data.loc[(corrected_data['STATE'] == 'OK') & (corrected_data['PARTY_CODE'] == 'I'), 'PARTY_CODE'] = 'N'\n",
    "\n",
    "    print(\"N's after corrections\")\n",
    "    print(len(corrected_data.loc[corrected_data['PARTY_CODE'].isin(['N'])]))\n",
    "\n",
    "    print(\"U's after corrections\")\n",
    "    print(len(corrected_data.loc[corrected_data['PARTY_CODE'].isin(['U'])]))\n",
    "\n",
    "    print(\"inferred Rs:\")\n",
    "    print(len(corrected_data.loc[corrected_data['PARTY_CODE'].isin(['S'])]))\n",
    "\n",
    "    print(\"inferred Ds:\")\n",
    "    print(len(corrected_data.loc[corrected_data['PARTY_CODE'].isin(['E'])]))\n",
    "\n",
    "    # Define function to infer party based on given conditions\n",
    "    def set_inferred_party(row):\n",
    "        not_in_list = ['D', 'R', 'M', 'P', 'X', 'Z']\n",
    "        rpx = ['R', 'P', 'X']\n",
    "        dmz = ['D', 'M', 'Z']\n",
    "        if row['PARTY_CODE'] not in ['D', 'R','E','S']:\n",
    "            if (\n",
    "               (row['FUND_POLIT'] == 'R' or row['DON_POLCONS'] or row['PRFL_HEALTHCARE_REFORM'] == '2' or\n",
    "                row['PRFL_2NDAMEND'] == 'Y' or row['PRFL_CHOICELIFE'] == '1') and row['FUND_POLIT'] != 'D' and\n",
    "                not row['DON_POLLIB'] and all(row[col] not in not_in_list for col in\n",
    "                ['VTR_PRI' + \"{:02}\".format(i) for i in range(22, 2, -1)] + ['VTR_PPP' + \"{:02}\".format(i) for i in [20, 16, 12, 8, 4, 0]])\n",
    "           ) or (\n",
    "               sum(1 for col in ['VTR_PRI' + \"{:02}\".format(i) for i in range(22, 2, -1)] + ['VTR_PPP' + \"{:02}\".format(i) for i in [20, 16, 12, 8, 4, 0]]\n",
    "                if row[col] in rpx) > sum(1 for col in ['VTR_PRI' + \"{:02}\".format(i) for i in range(22, 2, -1)] +\n",
    "                ['VTR_PPP' + \"{:02}\".format(i) for i in [20, 16, 12, 8, 4, 0]] if row[col] in dmz)\n",
    "           ):\n",
    "                return 'S'\n",
    "            elif (\n",
    "               (row['FUND_POLIT'] == 'D' or row['DON_POLLIB'] or row['PRFL_HEALTHCARE_REFORM'] == '1' or\n",
    "                row['PRFL_CHOICELIFE'] == '2') and row['FUND_POLIT'] != 'R' and not row['DON_POLCONS'] and\n",
    "                all(row[col] not in not_in_list for col in ['VTR_PRI' + \"{:02}\".format(i) for i in range(22, 2, -1)] +\n",
    "                ['VTR_PPP' + \"{:02}\".format(i) for i in [20, 16, 12, 8, 4, 0]])\n",
    "           ) or (\n",
    "               sum(1 for col in ['VTR_PRI' + \"{:02}\".format(i) for i in range(22, 2, -1)] + ['VTR_PPP' + \"{:02}\".format(i) for i in [20, 16, 12, 8, 4, 0]]\n",
    "                if row[col] in rpx) < sum(1 for col in ['VTR_PRI' + \"{:02}\".format(i) for i in range(22, 2, -1)] +\n",
    "                ['VTR_PPP' + \"{:02}\".format(i) for i in [20, 16, 12, 8, 4, 0]] if row[col] in dmz)\n",
    "           ):\n",
    "                return 'E'\n",
    "        return row['PARTY_CODE']\n",
    "\n",
    "    # Applying the function\n",
    "    corrected_data['PARTY_CODE'] = corrected_data.apply(set_inferred_party, axis=1)\n",
    "\n",
    "    print(\"new inferred Rs:\")\n",
    "    print(len(corrected_data.loc[corrected_data['PARTY_CODE'].isin(['S'])]))\n",
    "\n",
    "    print(\"new inferred Ds:\")\n",
    "    print(len(corrected_data.loc[corrected_data['PARTY_CODE'].isin(['E'])]))\n",
    "\n",
    "\n",
    "    # Create party_mapping using defaultdict.Lambda sets default (all other non-D and non-R party registrations to NaN.\n",
    "    infer_party_mapping = defaultdict(lambda: float('nan'))\n",
    "    infer_party_mapping.update({\n",
    "        'D': 'D',  # Registered Democrats are mapped to Democrat\n",
    "        'E': 'D',  # E (Inferred Democrats) are mapped to Democrat\n",
    "        'R': 'R',  # Registered Republicans are mapped to Republican \n",
    "        'S': 'R'   # S (Inferred Republicans) are mapped to Republican\n",
    "    })\n",
    "    # Map PARTY_CODE to INFER_PARTY\n",
    "    corrected_data['INFER_PARTY'] = corrected_data['PARTY_CODE'].map(infer_party_mapping)\n",
    "\n",
    "    # Define the mapping for PARTY_CODE modifications\n",
    "    party_code_mapping = {\n",
    "        'E': float('nan'),\n",
    "        'S': float('nan'),\n",
    "        'U': float('nan'),\n",
    "        'A': 'O',\n",
    "        'B': 'O',\n",
    "        'C': 'O',\n",
    "        'F': 'O',\n",
    "        'G': 'O',\n",
    "        'H': 'O',\n",
    "        'I': 'O',\n",
    "        'J': 'O',\n",
    "        'K': 'O',\n",
    "        'L': 'L',\n",
    "        'P': 'O',\n",
    "        'Q': 'O',\n",
    "        'T': 'O',\n",
    "        'V': 'O',\n",
    "        'W': 'O',\n",
    "        'Y': 'O',\n",
    "        'Z': 'O'\n",
    "    }\n",
    "    # Apply the mapping to the PARTY_CODE column\n",
    "    corrected_data['PARTY_CODE'] = corrected_data['PARTY_CODE'].replace(party_code_mapping)\n",
    "\n",
    "    print(\"Final PARTY_CODE values:\")\n",
    "    print(corrected_data['PARTY_CODE'].unique())\n",
    "    print('Final INFER_PARTY values:')\n",
    "    print(corrected_data['INFER_PARTY'].unique())\n",
    "    print('INFER_PARTY Ds and Rs:')\n",
    "    print(len(corrected_data.loc[corrected_data['INFER_PARTY'].isin(['D', 'R'])]))\n",
    "    print('INFER_PARTY NaNs:')\n",
    "    print(corrected_data['INFER_PARTY'].isna().sum())\n",
    "\n",
    "    voter_columns = [col for col in corrected_data.columns if col.startswith(\"VTR\")]\n",
    "\n",
    "    #Create column with total number of votes in voter_columns per row\n",
    "    #corrected_data['VTR_TOTAL_VOTES'] = corrected_data[voter_columns].notnull().sum(axis=1)\n",
    "\n",
    "    #Sum Democrat and Republican totals\n",
    "    corrected_data['VTR_TOTAL_DVOTES'] = corrected_data[voter_columns].isin(['D', 'M', 'Z']).sum(axis=1)\n",
    "    corrected_data['VTR_TOTAL_RVOTES'] = corrected_data[voter_columns].isin(['R', 'P', 'X']).sum(axis=1)\n",
    "\n",
    "    #Create conditions that evaluate whether someone has cast at least two more votes for Democrats or Republicans: \n",
    "    conditions = [\n",
    "        corrected_data['VTR_TOTAL_DVOTES'] - corrected_data['VTR_TOTAL_RVOTES'] >= 2,\n",
    "        corrected_data['VTR_TOTAL_RVOTES'] - corrected_data['VTR_TOTAL_DVOTES'] >= 2\n",
    "    ]\n",
    "\n",
    "    choices = ['D', 'R']\n",
    "\n",
    "    corrected_data['VTR_INFER_PARTY'] = np.select(conditions, choices, default=np.nan)\n",
    "    corrected_data['VTR_INFER_PARTY'].replace('nan', np.nan, inplace=True)\n",
    "\n",
    "    # Assign a 'D' or an 'R' to INFER_PARTY if either condition is true:\n",
    "    corrected_data.loc[(corrected_data['VTR_INFER_PARTY'] == 'D') , 'INFER_PARTY'] = 'D'\n",
    "    corrected_data.loc[(corrected_data['VTR_INFER_PARTY'] == 'R') , 'INFER_PARTY'] = 'R'\n",
    "    corrected_data.drop(columns=[\"VTR_INFER_PARTY\", \"VTR_TOTAL_DVOTES\", \"VTR_TOTAL_RVOTES\"], inplace=True)\n",
    "\n",
    "    print('Final INFER_PARTY Ds and Rs:')\n",
    "    print(len(corrected_data.loc[corrected_data['INFER_PARTY'].isin(['D', 'R'])]))\n",
    "    print('Final INFER_PARTY NaNs:')\n",
    "    print(corrected_data['INFER_PARTY'].isna().sum())\n",
    "\n",
    "    return corrected_data\n",
    "engineered_data = clean_party_create_infer(data_500)"
   ]
  },
  {
   "cell_type": "code",
   "execution_count": 5,
   "id": "3fb66f22dc14488f",
   "metadata": {
    "ExecuteTime": {
     "end_time": "2023-10-15T20:14:43.255467Z",
     "start_time": "2023-10-15T20:14:43.245378Z"
    },
    "collapsed": false,
    "jupyter": {
     "outputs_hidden": false
    },
    "tags": []
   },
   "outputs": [],
   "source": [
    "# data_500 = pd.read_csv(\"/Users/nirugidla/Documents/GitHub/milestone2_MADS/data_500k.csv\", low_memory=False)\n",
    "# \n",
    "# def replace_blanks_with_nan(data):\n",
    "#     return data.replace(r'^\\s*$', np.nan, regex=True)\n",
    "# \n",
    "# def update_states(data):\n",
    "#     states_to_update = {\n",
    "#         'SD': 'I',\n",
    "#         'DC': 'U',\n",
    "#         'LA': 'U',\n",
    "#         'RI': 'U',\n",
    "#         'OK': 'I'\n",
    "#     }\n",
    "#     for state, party_code in states_to_update.items():\n",
    "#         data.loc[(data['STATE'] == state) & (data['PARTY_CODE'] == party_code), 'PARTY_CODE'] = 'N'\n",
    "#     return data\n",
    "# \n",
    "# def set_inferred_party(row):\n",
    "#     not_in_list = ['D', 'R', 'M', 'P', 'X', 'Z']\n",
    "#     rpx = ['R', 'P', 'X']\n",
    "#     dmz = ['D', 'M', 'Z']\n",
    "#     if row['PARTY_CODE'] not in ['D', 'R','E','S']:\n",
    "#         conditions = [\n",
    "#             (row['FUND_POLIT'] == 'R' or row['DON_POLCONS'] or row['PRFL_HEALTHCARE_REFORM'] == '2' or\n",
    "#              row['PRFL_2NDAMEND'] == 'Y' or row['PRFL_CHOICELIFE'] == '1') and row['FUND_POLIT'] != 'D' and\n",
    "#             not row['DON_POLLIB'],\n",
    "#             sum(1 for col in ['VTR_PRI' + \"{:02}\".format(i) for i in range(22, 2, -1)] + \n",
    "#             ['VTR_PPP' + \"{:02}\".format(i) for i in [20, 16, 12, 8, 4, 0]] if row[col] in rpx) > \n",
    "#             sum(1 for col in ['VTR_PRI' + \"{:02}\".format(i) for i in range(22, 2, -1)] + \n",
    "#             ['VTR_PPP' + \"{:02}\".format(i) for i in [20, 16, 12, 8, 4, 0]] if row[col] in dmz)\n",
    "#         ]\n",
    "#         if any(conditions):\n",
    "#             return 'S'\n",
    "#         else:\n",
    "#             return 'E'\n",
    "#     return row['PARTY_CODE']\n",
    "# \n",
    "# def infer_party_from_voting_history(data):\n",
    "#     voter_columns = [col for col in data.columns if col.startswith(\"VTR\")]\n",
    "#     data['VTR_TOTAL_DVOTES'] = data[voter_columns].isin(['D', 'M', 'Z']).sum(axis=1)\n",
    "#     data['VTR_TOTAL_RVOTES'] = data[voter_columns].isin(['R', 'P', 'X']).sum(axis=1)\n",
    "#     conditions = [\n",
    "#         data['VTR_TOTAL_DVOTES'] - data['VTR_TOTAL_RVOTES'] >= 2,\n",
    "#         data['VTR_TOTAL_RVOTES'] - data['VTR_TOTAL_DVOTES'] >= 2\n",
    "#     ]\n",
    "#     choices = ['D', 'R']\n",
    "#     data['VTR_INFER_PARTY'] = np.select(conditions, choices, default=np.nan)\n",
    "#     data['VTR_INFER_PARTY'].replace('nan', np.nan, inplace=True)\n",
    "#     data.loc[(data['VTR_INFER_PARTY'] == 'D'), 'INFER_PARTY'] = 'D'\n",
    "#     data.loc[(data['VTR_INFER_PARTY'] == 'R'), 'INFER_PARTY'] = 'R'\n",
    "#     data = data.drop(columns=[\"VTR_INFER_PARTY\", \"VTR_TOTAL_DVOTES\", \"VTR_TOTAL_RVOTES\"])\n",
    "#     return data\n",
    "# \n",
    "# def clean_party_create_infer(data):\n",
    "#     data = replace_blanks_with_nan(data)\n",
    "#     data = update_states(data)\n",
    "# \n",
    "#     data['PARTY_CODE'] = data.apply(set_inferred_party, axis=1)\n",
    "# \n",
    "#     # Other transformations and mappings remain unchanged.\n",
    "#     # ... (rest of the code)\n",
    "# \n",
    "#     data = infer_party_from_voting_history(data)\n",
    "# \n",
    "#     return data\n",
    "# \n",
    "# engineered_data = clean_party_create_infer(data_500)\n"
   ]
  },
  {
   "cell_type": "code",
   "execution_count": 6,
   "id": "c39d6c0a564eaf5d",
   "metadata": {
    "ExecuteTime": {
     "end_time": "2023-10-15T19:07:31.870877Z",
     "start_time": "2023-10-15T19:05:24.082193Z"
    },
    "collapsed": false,
    "jupyter": {
     "outputs_hidden": false
    },
    "tags": []
   },
   "outputs": [],
   "source": [
    "# def replace_blanks_with_nan(data):\n",
    "#     return data.replace(r'^\\s*$', np.nan, regex=True)\n",
    "# \n",
    "# def update_states(data):\n",
    "#     states_to_update = {\n",
    "#         'SD': 'I',\n",
    "#         'DC': 'U',\n",
    "#         'LA': 'U',\n",
    "#         'RI': 'U',\n",
    "#         'OK': 'I'\n",
    "#     }\n",
    "#     for state, party_code in states_to_update.items():\n",
    "#         data.loc[(data['STATE'] == state) & (data['PARTY_CODE'] == party_code), 'PARTY_CODE'] = 'N'\n",
    "#     return data\n",
    "# \n",
    "# def set_inferred_party(row):\n",
    "#     not_in_list = ['D', 'R', 'M', 'P', 'X', 'Z']\n",
    "#     rpx = ['R', 'P', 'X']\n",
    "#     dmz = ['D', 'M', 'Z']\n",
    "#     if row['PARTY_CODE'] not in ['D', 'R','E','S']:\n",
    "#         conditions = [\n",
    "#             (row['FUND_POLIT'] == 'R' or row['DON_POLCONS'] or row['PRFL_HEALTHCARE_REFORM'] == '2' or\n",
    "#              row['PRFL_2NDAMEND'] == 'Y' or row['PRFL_CHOICELIFE'] == '1') and row['FUND_POLIT'] != 'D' and\n",
    "#             not row['DON_POLLIB'],\n",
    "#             sum(1 for col in ['VTR_PRI' + \"{:02}\".format(i) for i in range(22, 2, -1)] + \n",
    "#             ['VTR_PPP' + \"{:02}\".format(i) for i in [20, 16, 12, 8, 4, 0]] if row[col] in rpx) > \n",
    "#             sum(1 for col in ['VTR_PRI' + \"{:02}\".format(i) for i in range(22, 2, -1)] + \n",
    "#             ['VTR_PPP' + \"{:02}\".format(i) for i in [20, 16, 12, 8, 4, 0]] if row[col] in dmz)\n",
    "#         ]\n",
    "#         if any(conditions):\n",
    "#             return 'S'\n",
    "#         else:\n",
    "#             return 'E'\n",
    "#     return row['PARTY_CODE']\n",
    "# \n",
    "# def infer_party_from_voting_history(data):\n",
    "#     voter_columns = [col for col in data.columns if col.startswith(\"VTR\")]\n",
    "#     data['VTR_TOTAL_DVOTES'] = data[voter_columns].isin(['D', 'M', 'Z']).sum(axis=1)\n",
    "#     data['VTR_TOTAL_RVOTES'] = data[voter_columns].isin(['R', 'P', 'X']).sum(axis=1)\n",
    "#     conditions = [\n",
    "#         data['VTR_TOTAL_DVOTES'] - data['VTR_TOTAL_RVOTES'] >= 2,\n",
    "#         data['VTR_TOTAL_RVOTES'] - data['VTR_TOTAL_DVOTES'] >= 2\n",
    "#     ]\n",
    "#     choices = ['D', 'R']\n",
    "#     data['VTR_INFER_PARTY'] = np.select(conditions, choices, default=np.nan)\n",
    "#     data['VTR_INFER_PARTY'].replace('nan', np.nan, inplace=True)\n",
    "#     data.loc[(data['VTR_INFER_PARTY'] == 'D'), 'INFER_PARTY'] = 'D'\n",
    "#     data.loc[(data['VTR_INFER_PARTY'] == 'R'), 'INFER_PARTY'] = 'R'\n",
    "#     data = data.drop(columns=[\"VTR_INFER_PARTY\", \"VTR_TOTAL_DVOTES\", \"VTR_TOTAL_RVOTES\"])\n",
    "#     return data\n",
    "# \n",
    "# def clean_party_create_infer(data):\n",
    "#     data = replace_blanks_with_nan(data)\n",
    "#     data = update_states(data)\n",
    "#     data['PARTY_CODE'] = data.apply(set_inferred_party, axis=1)\n",
    "#     data = infer_party_from_voting_history(data)\n",
    "#     \n",
    "#     return data\n",
    "# # Assuming data_500 is your loaded DataFrame\n",
    "# data_replaced = replace_blanks_with_nan(data_500)\n",
    "# data_states_updated = update_states(data_replaced)\n",
    "# data_inferred_party = data_states_updated.copy()\n",
    "# data_inferred_party['PARTY_CODE'] = data_inferred_party.apply(set_inferred_party, axis=1)\n",
    "# data_party_from_voting = infer_party_from_voting_history(data_inferred_party)\n",
    "# final_data = clean_party_create_infer(data_party_from_voting)\n",
    "# print(final_data.shape)"
   ]
  },
  {
   "cell_type": "code",
   "execution_count": 7,
   "id": "8ca8964afca903e8",
   "metadata": {
    "ExecuteTime": {
     "end_time": "2023-10-15T20:23:18.266592Z",
     "start_time": "2023-10-15T20:23:17.336050Z"
    },
    "collapsed": false,
    "jupyter": {
     "outputs_hidden": false
    },
    "tags": []
   },
   "outputs": [],
   "source": [
    "remove_columns = [\n",
    "    'PRFL_LGBT_SUPPORT',\n",
    "    'PRFL_LIBERAL_NEWS',\n",
    "    'PRFL_MARIJUANA_REFORM',\n",
    "    'PRFL_BIDEN_SUPPORT',\n",
    "    'PRFL_BORDER_SECURITY',\n",
    "    'PRFL_CONSERVATIVE_NEWS',\n",
    "    'PRFL_IMMIGRATION_REFORM',\n",
    "    'PRFL_OBAMA',\n",
    "    'PRFL_PERSUADABLE_VOTER',\n",
    "    'PRFL_POLITICAL_IDEOLOGY',\n",
    "    'PRFL_SANDERS_SUPPORT',\n",
    "    'PRFL_TRUMP_SUPPORT',\n",
    "    'ZIP',\n",
    "    \n",
    "    'VTR_GEN00', 'VTR_GEN01', 'VTR_GEN02', 'VTR_GEN03', 'VTR_GEN04', 'VTR_GEN05', 'VTR_GEN06', 'VTR_GEN07', 'VTR_GEN08', 'VTR_GEN09', 'VTR_GEN10', 'VTR_GEN11', 'VTR_GEN12', 'VTR_GEN13', 'VTR_GEN14', 'VTR_GEN15', 'VTR_GEN16', 'VTR_GEN17', 'VTR_GEN18', 'VTR_GEN19', 'VTR_GEN20', 'VTR_GEN21', 'VTR_GEN22', 'VTR_OTH00', 'VTR_OTH01', 'VTR_OTH02', 'VTR_OTH03', 'VTR_OTH04', 'VTR_OTH05', 'VTR_OTH06', 'VTR_OTH07', 'VTR_OTH08', 'VTR_OTH09', 'VTR_OTH10', 'VTR_OTH11', 'VTR_OTH12', 'VTR_OTH13', 'VTR_OTH14', 'VTR_OTH15', 'VTR_OTH16', 'VTR_OTH17', 'VTR_OTH18', 'VTR_OTH19', 'VTR_OTH20', 'VTR_OTH21', 'VTR_OTH22', 'VTR_PPP00', 'VTR_PPP04', 'VTR_PPP08', 'VTR_PPP12', 'VTR_PPP16', 'VTR_PPP20', 'VTR_PRI00', 'VTR_PRI01', 'VTR_PRI02', 'VTR_PRI03', 'VTR_PRI04', 'VTR_PRI05', 'VTR_PRI06', 'VTR_PRI07', 'VTR_PRI08', 'VTR_PRI09', 'VTR_PRI10', 'VTR_PRI11', 'VTR_PRI12', 'VTR_PRI13', 'VTR_PRI14', 'VTR_PRI15', 'VTR_PRI16', 'VTR_PRI17', 'VTR_PRI18', 'VTR_PRI19', 'VTR_PRI20', 'VTR_PRI21', 'VTR_PRI22',\n",
    "    \n",
    "      'PRFL_CHOICELIFE', \"PRFL_GUN_CONTROL\",'PRFL_MARRIAGE_EQUALITY', 'PRFL_TEAPARTY',\n",
    "    'VP_PPP', \"AI_COUNTY_NAME\", 'PRFL_CLINTON_SUPPORT',\n",
    "    'AGE', 'CNSUS_PCTW', 'PARTY_MIX', 'PRFL_MINWAGE', 'PRFL_FENCE_SITTER', \"RECORD_ID\", 'CNSUS_PCTA',\n",
    "    'PRFL_BLM_SUPPORT', 'PRFL_METOO_SUPPORT', 'PRFL_HEALTHCARE_REFORM','DON_POLLIB', 'PRFL_2NDAMEND', 'FUND_POLIT', 'DON_POLCONS', \n",
    "    \n",
    "   \n",
    "]\n",
    "# Drop the list of columns from the dataset\n",
    "engineered_data.drop(columns=remove_columns, errors='ignore', inplace=True)"
   ]
  },
  {
   "cell_type": "code",
   "execution_count": 8,
   "id": "4c0f0234813e8a63",
   "metadata": {
    "ExecuteTime": {
     "end_time": "2023-10-15T20:23:18.529645Z",
     "start_time": "2023-10-15T20:23:18.523773Z"
    },
    "collapsed": false,
    "jupyter": {
     "outputs_hidden": false
    },
    "tags": []
   },
   "outputs": [
    {
     "name": "stdout",
     "output_type": "stream",
     "text": [
      "(500000, 190)\n"
     ]
    }
   ],
   "source": [
    "print(engineered_data.shape)"
   ]
  },
  {
   "cell_type": "code",
   "execution_count": 9,
   "id": "b008534cf5964d39",
   "metadata": {
    "ExecuteTime": {
     "end_time": "2023-10-15T20:23:19.408378Z",
     "start_time": "2023-10-15T20:23:19.395408Z"
    },
    "collapsed": false,
    "jupyter": {
     "outputs_hidden": false
    },
    "tags": []
   },
   "outputs": [],
   "source": [
    "# # Data Loading\n",
    "# #data_500 = pd.read_csv(\"/Users/nirugidla/Documents/GitHub/milestone2_MADS/data_500k.csv\", low_memory=False)\n",
    "# \n",
    "# # Data Cleaning - Column Names\n",
    "# data_500.columns = data_500.columns.str.strip()\n",
    "# \n",
    "# # Data Cleaning - Drop ZIP\n",
    "# #data_500.drop('ZIP', axis=1, inplace=True)\n",
    "# # Drop the list of columns from the dataset\n",
    "# data_500_cleaned = data_500.drop(columns=remove_columns, errors='ignore')\n",
    "# \n",
    "# # Data Cleaning - Drop Duplicates\n",
    "# data_500.drop_duplicates(inplace=True)\n",
    "# \n",
    "# # Data Cleaning - Object Columns\n",
    "# for col in data_500.columns:\n",
    "#     if data_500[col].dtype == 'object':\n",
    "#         data_500[col] = data_500[col].str.strip()\n",
    "# \n",
    "# # Data Cleaning - Empty Strings\n",
    "# data_500.replace('', 'Unknown', inplace=True)\n",
    "# \n",
    "# # Data Cleaning - NaN for Object Types\n",
    "# data_500.loc[:, data_500.dtypes == 'object'] = data_500.loc[:, data_500.dtypes == 'object'].fillna('Unknown')\n",
    "# \n",
    "# # Data Cleaning - Drop Columns and Rows with All NaNs\n",
    "# data_500.dropna(axis=1, how='all', inplace=True)\n",
    "# data_500.dropna(axis=0, how='all', inplace=True)\n",
    "# \n",
    "# # Identify numeric and non-numeric columns\n",
    "# numeric_cols = data_500.select_dtypes(include=['int64', 'float64']).columns\n",
    "# non_numeric_cols = data_500.select_dtypes(exclude=['int64', 'float64']).columns\n",
    "# \n",
    "# # Data Cleaning - Removing Non-Numeric Columns with More Than 90% Missing Data\n",
    "# missing_data_percentage = data_500.isnull().mean() * 100\n",
    "# non_numeric_cols_to_remove = missing_data_percentage[non_numeric_cols]\n",
    "# non_numeric_cols_to_remove = non_numeric_cols_to_remove[non_numeric_cols_to_remove > 90].index.tolist()\n",
    "# data_500_reduced = data_500.drop(columns=non_numeric_cols_to_remove)\n",
    "# \n",
    "# # Update the list of non-numeric columns after removal\n",
    "# non_numeric_cols = data_500_reduced.select_dtypes(exclude=['int64', 'float64']).columns\n",
    "# \n",
    "# # Identifying Specific Types of Non-Numeric Columns\n",
    "# cols_with_Y_or_Unknown = [col for col in non_numeric_cols if set(data_500_reduced[col].unique()) <= {'Y', 'Unknown'}]\n",
    "# cols_with_more_than_two_categories = [col for col in non_numeric_cols if len(data_500_reduced[col].unique()) > 2]\n",
    "# \n",
    "# # Print identified columns\n",
    "# print(\"Columns with 'Y' or 'Unknown':\", cols_with_Y_or_Unknown, len(cols_with_Y_or_Unknown))\n",
    "# print(\"Columns with more than two categories:\", cols_with_more_than_two_categories, len(cols_with_more_than_two_categories))"
   ]
  },
  {
   "cell_type": "code",
   "execution_count": 10,
   "id": "844f3b7008b1aeb1",
   "metadata": {
    "ExecuteTime": {
     "end_time": "2023-10-15T20:23:19.697856Z",
     "start_time": "2023-10-15T20:23:19.687084Z"
    },
    "collapsed": false,
    "jupyter": {
     "outputs_hidden": false
    },
    "tags": []
   },
   "outputs": [],
   "source": [
    "# # Load the dataset again\n",
    "# #data = pd.read_csv('data/surveydata.csv')\n",
    "# \n",
    "# corrected_data = data_500_reduced.copy()\n",
    "# \n",
    "# # Update the 'I' values in PARTY_CODE to 'N' for rows where STATE is 'SD'\n",
    "# corrected_data.loc[(corrected_data['STATE'] == 'SD') & (corrected_data['PARTY_CODE'] == 'I'), 'PARTY_CODE'] = 'N'\n",
    "# \n",
    "# # Update the 'U' values in PARTY_CODE to 'N' for rows where STATE is in ['DC', 'LA', 'RI']\n",
    "# states_to_update = ['DC', 'LA', 'RI']\n",
    "# corrected_data.loc[(corrected_data['STATE'].isin(states_to_update)) & (corrected_data['PARTY_CODE'] == 'U'), 'PARTY_CODE'] = 'N'\n",
    "# \n",
    "# # Update the 'I' values in PARTY_CODE to 'N' for rows where STATE is 'OK'\n",
    "# corrected_data.loc[(corrected_data['STATE'] == 'OK') & (corrected_data['PARTY_CODE'] == 'I'), 'PARTY_CODE'] = 'N'\n",
    "# \n",
    "# \n",
    "# #categorical_columns\n",
    "# # Create a mapping dictionary for PARTY_CODE to INFER_PARTY values\n",
    "# party_mapping = {\n",
    "#     'D': 'D',\n",
    "#     'E': 'D',\n",
    "#     'R': 'R',\n",
    "#     'S': 'R',\n",
    "#     'N': float('nan'),\n",
    "#     'U': float('nan'),\n",
    "#     'A': float('nan'),\n",
    "#     'B': float('nan'),\n",
    "#     'C': float('nan'),\n",
    "#     'F': float('nan'),\n",
    "#     'G': float('nan'),\n",
    "#     'H': float('nan'),\n",
    "#     'I': float('nan'),\n",
    "#     'J': float('nan'),\n",
    "#     'K': float('nan'),\n",
    "#     'L': float('nan'),\n",
    "#     'P': float('nan'),\n",
    "#     'Q': float('nan'),\n",
    "#     'T': float('nan'),\n",
    "#     'V': float('nan'),\n",
    "#     'W': float('nan'),\n",
    "#     'Y': float('nan'),\n",
    "#     'Z': float('nan'),\n",
    "#     'O': float('nan'),\n",
    "# }\n",
    "# \n",
    "# # Create the INFER_PARTY column using the mapping\n",
    "# corrected_data['INFER_PARTY'] = corrected_data['PARTY_CODE'].map(party_mapping)\n",
    "# \n",
    "# print(corrected_data['PARTY_CODE'].unique())\n",
    "# \n",
    "# \n",
    "# # Display the unique values in the INFER_PARTY column to ensure correctness\n",
    "# unique_infer_party = corrected_data['INFER_PARTY'].unique()\n",
    "# \n",
    "# print('unique_infer_party:')\n",
    "# \n",
    "# print(unique_infer_party)\n",
    "# \n",
    "# # Define the mapping for PARTY_CODE modifications\n",
    "# party_code_mapping = {\n",
    "#     'E': float('nan'),\n",
    "#     'S': float('nan'),\n",
    "#     'U': float('nan'),\n",
    "#     'A': 'O',\n",
    "#     'B': 'O',\n",
    "#     'C': 'O',\n",
    "#     'F': 'O',\n",
    "#     'G': 'O',\n",
    "#     'H': 'O',\n",
    "#     'I': 'O',\n",
    "#     'J': 'O',\n",
    "#     'K': 'O',\n",
    "#     'L': 'L',\n",
    "#     'P': 'O',\n",
    "#     'Q': 'O',\n",
    "#     'T': 'O',\n",
    "#     'V': 'O',\n",
    "#     'W': 'O',\n",
    "#     'Y': 'O',\n",
    "#     'Z': 'O'\n",
    "# }\n",
    "# \n",
    "# # Apply the mapping to the PARTY_CODE column\n",
    "# corrected_data['PARTY_CODE'] = corrected_data['PARTY_CODE'].replace(party_code_mapping)\n",
    "# \n",
    "# # Check the unique values of PARTY_CODE after the modifications\n",
    "# unique_party_code_after_modifications = corrected_data['PARTY_CODE'].unique()\n",
    "# \n",
    "# print(\"unique_party_code_after_modifications:\")\n",
    "# \n",
    "# print(unique_party_code_after_modifications)"
   ]
  },
  {
   "cell_type": "code",
   "execution_count": 11,
   "id": "8f6f961e8a9d6778",
   "metadata": {
    "ExecuteTime": {
     "end_time": "2023-10-15T20:23:19.941829Z",
     "start_time": "2023-10-15T20:23:19.938045Z"
    },
    "collapsed": false,
    "jupyter": {
     "outputs_hidden": false
    },
    "tags": []
   },
   "outputs": [],
   "source": [
    "# engineered_data = corrected_data.copy()\n",
    "# voter_columns = [col for col in engineered_data.columns if col.startswith(\"VTR\")]\n",
    "# #Create column with total number of votes in voter_columns per row\n",
    "# engineered_data['VTR_TOTAL_VOTES'] = engineered_data[voter_columns].notnull().sum(axis=1)\n",
    "# #Sum Democrat and Republican totals\n",
    "# engineered_data['VTR_TOTAL_DVOTES'] = engineered_data[voter_columns].isin(['D', 'M', 'Z']).sum(axis=1)\n",
    "# engineered_data['VTR_TOTAL_RVOTES'] = engineered_data[voter_columns].isin(['R', 'P', 'X']).sum(axis=1)\n",
    "# #Create conditions that evaluate whether more votes have been cast for Democrats or Republicans, and assign 'D' and 'R' to new column based on conditions\n",
    "# conditions = [\n",
    "#     engineered_data['VTR_TOTAL_DVOTES'] > engineered_data['VTR_TOTAL_RVOTES'],\n",
    "#     engineered_data['VTR_TOTAL_DVOTES'] < engineered_data['VTR_TOTAL_RVOTES']\n",
    "# ]\n",
    "# choices = ['D', 'R']\n",
    "# engineered_data['VTR_INFER_PARTY'] = np.select(conditions, choices, default=np.nan)\n",
    "# #Create conditions that evaluate whether a voter is a swing voter or not\n",
    "# conditions_swing = [\n",
    "#     (engineered_data['VTR_TOTAL_DVOTES'] > 2) & (engineered_data['VTR_TOTAL_RVOTES'] > 2),\n",
    "#     ((engineered_data['VTR_TOTAL_DVOTES'] > 1) & (engineered_data['VTR_TOTAL_RVOTES'] == 0)) | ((engineered_data['VTR_TOTAL_RVOTES'] > 1) & (engineered_data['VTR_TOTAL_DVOTES'] == 0))\n",
    "# ]\n",
    "# choices_swing = ['Y', 'N']\n",
    "# engineered_data['VTR_INFER_SWING'] = np.select(conditions_swing, choices_swing, default=np.nan)\n",
    "# #sampledf = engineered_data[['PARTY_CODE','INFER_PARTY','VTR_TOTAL_DVOTES','VTR_TOTAL_RVOTES','VTR_INFER_PARTY','VTR_INFER_SWING']]\n",
    "# #print(sampledf.head(50))\n",
    "# #Add values to INFER_PARTY and correct any other INFER_PARTY values that don't meet the conditions above:\n",
    "# print(sum(engineered_data['INFER_PARTY'].isna())) #291 NaNs for INFER_PARTY before\n",
    "# engineered_data.loc[(engineered_data['VTR_INFER_PARTY'] == 'D') & (engineered_data['VTR_INFER_SWING'] == 'N'), 'INFER_PARTY'] = 'D'\n",
    "# engineered_data.loc[(engineered_data['VTR_INFER_PARTY'] == 'R') & (engineered_data['VTR_INFER_SWING'] == 'N'), 'INFER_PARTY'] = 'R'\n",
    "# engineered_data.loc[(engineered_data['VTR_INFER_PARTY'] == 'D') & (engineered_data['VTR_INFER_SWING'] == 'Y'), 'INFER_PARTY'] =  float('nan')\n",
    "# engineered_data.loc[(engineered_data['VTR_INFER_PARTY'] == 'R') & (engineered_data['VTR_INFER_SWING'] == 'Y'), 'INFER_PARTY'] =  float('nan')\n",
    "# #Also delete any 'D' or 'R' INFER_PARTY labels for anyone deemed a \"swing voter\" based on criteria above of voting for both parties at least 3 times each:\n",
    "# engineered_data.loc[(engineered_data['VTR_INFER_SWING'] == 'Y') , 'INFER_PARTY'] = float('nan')\n",
    "# print(sum(engineered_data['INFER_PARTY'].isna())) #291 NaNs for INFER_PARTY before\n",
    "# #Drop auxiliary columns used for math, keeping 'VTR_TOTAL_VOTES', 'VTR_INFER_SWING', and the updated 'INFER_PARTY' columns as features:\n",
    "# engineered_data = engineered_data.drop(columns=['VTR_TOTAL_DVOTES','VTR_TOTAL_RVOTES','VTR_INFER_PARTY'])\n",
    "# # Drop the list of columns from the dataset\n",
    "# #engineered_data_cleaned = engineered_data.drop(columns=remove_columns, errors='ignore')\n",
    "# \n",
    "# # features_to_remove = [\n",
    "# #     'PRFL_CHOICELIFE', 'TOD_PRES_D_2016_PREC', 'TOD_PRES_O_2016',\n",
    "# #     'TOD_PRES_R_2016', 'TOD_PRES_R_2016_PREC', 'TOD_PRES_R_2020_PREC', 'VP_PPP',\n",
    "# #     'AGE', 'CNSUS_PCTW'\n",
    "# # ]\n",
    "# # # Assuming 'engineered_data' is your DataFrame, remove the less important features\n",
    "# # engineered_data = engineered_data.drop(columns=features_to_remove, errors='ignore')\n"
   ]
  },
  {
   "cell_type": "code",
   "execution_count": 12,
   "id": "37b1fd29f4ea3dde",
   "metadata": {
    "ExecuteTime": {
     "end_time": "2023-10-15T20:23:20.182215Z",
     "start_time": "2023-10-15T20:23:20.178065Z"
    },
    "collapsed": false,
    "jupyter": {
     "outputs_hidden": false
    },
    "tags": []
   },
   "outputs": [
    {
     "name": "stdout",
     "output_type": "stream",
     "text": [
      "190\n"
     ]
    }
   ],
   "source": [
    "print(len(engineered_data.columns))"
   ]
  },
  {
   "cell_type": "code",
   "execution_count": 13,
   "id": "d3804eecf4bdfcff",
   "metadata": {
    "ExecuteTime": {
     "end_time": "2023-10-15T20:23:20.545820Z",
     "start_time": "2023-10-15T20:23:20.533159Z"
    },
    "collapsed": false,
    "jupyter": {
     "outputs_hidden": false
    },
    "tags": []
   },
   "outputs": [],
   "source": [
    "# #engineered_data = corrected_data.copy()\n",
    "# tod_pres_diff_cols = [col for col in engineered_data.columns if col.startswith('TOD_PRES_DIFF')]\n",
    "# # Convert 'TIE' values to 0 for all 'TOD_PRES_DIFF' columns\n",
    "# engineered_data[tod_pres_diff_cols] = engineered_data[tod_pres_diff_cols].replace('TIE', 0)\n",
    "# # Apply the transformation to each of the 'TOD_PRES_DIFF' columns\n",
    "# for col in tod_pres_diff_cols:\n",
    "#     # Skip if the column has already been converted (e.g. TOD_PRES_DIFF_2016)\n",
    "#     if engineered_data[col].dtype != 'object':\n",
    "#         continue\n",
    "#     # Strip any whitespace\n",
    "#     stripped_col = engineered_data[col].str.strip()\n",
    "#     # Extract numerical margin and party character\n",
    "#     margin_num = engineered_data[col].str[:-1].astype(float)\n",
    "#     party_char = engineered_data[col].str[-1]\n",
    "#     # Create the signed margin column\n",
    "#     signed_margin = margin_num.where(party_char == 'D', -margin_num)  # Positive for D, negative for R\n",
    "#     engineered_data[col] = signed_margin\n",
    "# # Display the first few rows of the transformed columns to verify the transformation\n",
    "# engineered_data[tod_pres_diff_cols].head()"
   ]
  },
  {
   "cell_type": "code",
   "execution_count": 14,
   "id": "3970e154779cb727",
   "metadata": {
    "ExecuteTime": {
     "end_time": "2023-10-15T20:23:20.785576Z",
     "start_time": "2023-10-15T20:23:20.781582Z"
    },
    "collapsed": false,
    "jupyter": {
     "outputs_hidden": false
    },
    "tags": []
   },
   "outputs": [],
   "source": [
    "def timer_decorator(func):\n",
    "    def wrapper(*args, **kwargs):\n",
    "        start_time = time.time()\n",
    "        result = func(*args, **kwargs)\n",
    "        end_time = time.time()\n",
    "        print(f\"Function {func.__name__} took {(end_time - start_time):.2f} seconds to run.\")\n",
    "        return result\n",
    "    return wrapper"
   ]
  },
  {
   "cell_type": "code",
   "execution_count": 15,
   "id": "f9620c3d5c5bf629",
   "metadata": {
    "ExecuteTime": {
     "end_time": "2023-10-15T20:23:35.180836Z",
     "start_time": "2023-10-15T20:23:21.093300Z"
    },
    "collapsed": false,
    "jupyter": {
     "outputs_hidden": false
    },
    "tags": []
   },
   "outputs": [
    {
     "name": "stdout",
     "output_type": "stream",
     "text": [
      "Starting run 1...\n",
      "Number of columns in the dataset: 189\n"
     ]
    },
    {
     "name": "stderr",
     "output_type": "stream",
     "text": [
      "C:\\Users\\Hernando\\AppData\\Local\\Temp\\ipykernel_6188\\2147770143.py:31: FutureWarning:\n",
      "\n",
      "The default value of regex will change from True to False in a future version. In addition, single character regular expressions will *not* be treated as literal strings when regex=True.\n",
      "\n",
      "C:\\Users\\Hernando\\AppData\\Local\\Temp\\ipykernel_6188\\2147770143.py:31: FutureWarning:\n",
      "\n",
      "The default value of regex will change from True to False in a future version. In addition, single character regular expressions will *not* be treated as literal strings when regex=True.\n",
      "\n",
      "C:\\Users\\Hernando\\AppData\\Local\\Temp\\ipykernel_6188\\2147770143.py:32: FutureWarning:\n",
      "\n",
      "The default value of regex will change from True to False in a future version. In addition, single character regular expressions will *not* be treated as literal strings when regex=True.\n",
      "\n",
      "C:\\Users\\Hernando\\AppData\\Local\\Temp\\ipykernel_6188\\2147770143.py:32: FutureWarning:\n",
      "\n",
      "The default value of regex will change from True to False in a future version. In addition, single character regular expressions will *not* be treated as literal strings when regex=True.\n",
      "\n"
     ]
    },
    {
     "ename": "ValueError",
     "evalue": "feature_names must be unique. Duplicates found: ['CENSUS_ST_10', 'CENSUS_ST_12', 'CENSUS_ST_13', 'CENSUS_ST_19', 'CENSUS_ST_24', 'CENSUS_ST_26', 'CENSUS_ST_28', 'CENSUS_ST_29', 'CENSUS_ST_30', 'CENSUS_ST_31', 'CENSUS_ST_34', 'CENSUS_ST_36', 'CENSUS_ST_39', 'CENSUS_ST_40', 'CENSUS_ST_48', 'CENSUS_ST_51', 'CENSUS_ST_53', 'CENSUS_ST_54', 'CENSUS_ST_55', 'CONG_DIST_10', 'CONG_DIST_11', 'CONG_DIST_12', 'CONG_DIST_13', 'CONG_DIST_14', 'CONG_DIST_15', 'CONG_DIST_16', 'CONG_DIST_17', 'CONG_DIST_18', 'CONG_DIST_19', 'CONG_DIST_20', 'CONG_DIST_21', 'CONG_DIST_22', 'CONG_DIST_23', 'CONG_DIST_24', 'CONG_DIST_25', 'CONG_DIST_26', 'CONG_DIST_27', 'CONG_DIST_28', 'CONG_DIST_29', 'CONG_DIST_30', 'CONG_DIST_31', 'CONG_DIST_32', 'CONG_DIST_33', 'CONG_DIST_34', 'CONG_DIST_35', 'CONG_DIST_36', 'CONG_DIST_37', 'CONG_DIST_38', 'CONG_DIST_39', 'CONG_DIST_40', 'CONG_DIST_41', 'CONG_DIST_42', 'CONG_DIST_44', 'CONG_DIST_45', 'CONG_DIST_46', 'CONG_DIST_49', 'CONG_DIST_50', 'CONG_DIST_51', 'CONG_DIST_52', 'GENDER_MIX_2', 'GENDER_MIX_3', 'GENDER_MIX_4', 'GENDER_MIX_5', 'GENDER_MIX_6', 'GENDER_MIX_7', 'ST_LO_HOUS_100', 'ST_LO_HOUS_101', 'ST_LO_HOUS_102', 'ST_LO_HOUS_103', 'ST_LO_HOUS_104', 'ST_LO_HOUS_105', 'ST_LO_HOUS_106', 'ST_LO_HOUS_107', 'ST_LO_HOUS_108', 'ST_LO_HOUS_109', 'ST_LO_HOUS_110', 'ST_LO_HOUS_111', 'ST_LO_HOUS_112', 'ST_LO_HOUS_113', 'ST_LO_HOUS_114', 'ST_LO_HOUS_115', 'ST_LO_HOUS_116', 'ST_LO_HOUS_117', 'ST_LO_HOUS_118', 'ST_LO_HOUS_119', 'ST_LO_HOUS_120', 'ST_LO_HOUS_121', 'ST_LO_HOUS_122', 'ST_LO_HOUS_123', 'ST_LO_HOUS_124', 'ST_LO_HOUS_125', 'ST_LO_HOUS_126', 'ST_LO_HOUS_127', 'ST_LO_HOUS_128', 'ST_LO_HOUS_129', 'ST_LO_HOUS_130', 'ST_LO_HOUS_131', 'ST_LO_HOUS_132', 'ST_LO_HOUS_133', 'ST_LO_HOUS_134', 'ST_LO_HOUS_135', 'ST_LO_HOUS_136', 'ST_LO_HOUS_137', 'ST_LO_HOUS_138', 'ST_LO_HOUS_139', 'ST_LO_HOUS_140', 'ST_LO_HOUS_141', 'ST_LO_HOUS_142', 'ST_LO_HOUS_143', 'ST_LO_HOUS_144', 'ST_LO_HOUS_145', 'ST_LO_HOUS_146', 'ST_LO_HOUS_147', 'ST_LO_HOUS_148', 'ST_LO_HOUS_149', 'ST_LO_HOUS_150', 'ST_LO_HOUS_151', 'ST_LO_HOUS_152', 'ST_LO_HOUS_153', 'ST_LO_HOUS_154', 'ST_LO_HOUS_155', 'ST_LO_HOUS_156', 'ST_LO_HOUS_157', 'ST_LO_HOUS_158', 'ST_LO_HOUS_159', 'ST_LO_HOUS_160', 'ST_LO_HOUS_161', 'ST_LO_HOUS_162', 'ST_LO_HOUS_163', 'ST_LO_HOUS_164', 'ST_LO_HOUS_165', 'ST_LO_HOUS_166', 'ST_LO_HOUS_167', 'ST_LO_HOUS_168', 'ST_LO_HOUS_169', 'ST_LO_HOUS_170', 'ST_LO_HOUS_171', 'ST_LO_HOUS_172', 'ST_LO_HOUS_173', 'ST_LO_HOUS_174', 'ST_LO_HOUS_175', 'ST_LO_HOUS_176', 'ST_LO_HOUS_177', 'ST_LO_HOUS_178', 'ST_LO_HOUS_179', 'ST_LO_HOUS_180', 'ST_LO_HOUS_181', 'ST_LO_HOUS_183', 'ST_LO_HOUS_190', 'ST_LO_HOUS_194', 'ST_LO_HOUS_195', 'ST_LO_HOUS_201', 'ST_LO_HOUS_202', 'ST_UP_HOUS_10', 'ST_UP_HOUS_11', 'ST_UP_HOUS_12', 'ST_UP_HOUS_13', 'ST_UP_HOUS_14', 'ST_UP_HOUS_15', 'ST_UP_HOUS_16', 'ST_UP_HOUS_17', 'ST_UP_HOUS_18', 'ST_UP_HOUS_19', 'ST_UP_HOUS_20', 'ST_UP_HOUS_21', 'ST_UP_HOUS_22', 'ST_UP_HOUS_23', 'ST_UP_HOUS_24', 'ST_UP_HOUS_25', 'ST_UP_HOUS_26', 'ST_UP_HOUS_27', 'ST_UP_HOUS_28', 'ST_UP_HOUS_29', 'ST_UP_HOUS_30', 'ST_UP_HOUS_31', 'ST_UP_HOUS_32', 'ST_UP_HOUS_33', 'ST_UP_HOUS_34', 'ST_UP_HOUS_35', 'ST_UP_HOUS_36', 'ST_UP_HOUS_37', 'ST_UP_HOUS_38', 'ST_UP_HOUS_39', 'ST_UP_HOUS_40', 'ST_UP_HOUS_41', 'ST_UP_HOUS_42', 'ST_UP_HOUS_43', 'ST_UP_HOUS_44', 'ST_UP_HOUS_45', 'ST_UP_HOUS_46', 'ST_UP_HOUS_47', 'ST_UP_HOUS_48', 'ST_UP_HOUS_49', 'ST_UP_HOUS_50', 'ST_UP_HOUS_51', 'ST_UP_HOUS_52', 'ST_UP_HOUS_53', 'ST_UP_HOUS_54', 'ST_UP_HOUS_55', 'ST_UP_HOUS_56', 'VOTER_CNT_10', 'VOTER_CNT_11', 'VOTER_CNT_12', 'VOTER_CNT_13', 'VOTER_CNT_14', 'VOTER_CNT_15', 'VOTER_CNT_16', 'VOTER_CNT_17', 'VOTER_CNT_18', 'VOTER_CNT_19', 'VOTER_CNT_20', 'VOTER_CNT_21', 'VOTER_CNT_22', 'VOTER_CNT_23', 'VOTER_CNT_24', 'VOTER_CNT_25', 'VOTER_CNT_26', 'VOTER_CNT_27', 'VOTER_CNT_28', 'VOTER_CNT_29', 'VOTER_CNT_30', 'VOTER_CNT_31', 'VOTER_CNT_32', 'VOTER_CNT_33', 'VOTER_CNT_34', 'VOTER_CNT_35', 'VOTER_CNT_36', 'VOTER_CNT_37', 'VOTER_CNT_38', 'VOTER_CNT_39', 'VOTER_CNT_40', 'VOTER_CNT_41', 'VOTER_CNT_42', 'VOTER_CNT_43', 'VOTER_CNT_44', 'VOTER_CNT_45', 'VOTER_CNT_46', 'VOTER_CNT_47', 'VOTER_CNT_48', 'VOTER_CNT_49', 'VOTER_CNT_50', 'VOTER_CNT_51', 'VOTER_CNT_52', 'VOTER_CNT_53', 'VOTER_CNT_54', 'VOTER_CNT_55', 'VOTER_CNT_56', 'VOTER_CNT_57', 'VOTER_CNT_58', 'VOTER_CNT_59', 'VOTER_CNT_60', 'VOTER_CNT_62', 'VOTER_CNT_65', 'VOTER_CNT_66', 'VOTER_CNT_67', 'VOTER_CNT_69', 'VOTER_CNT_70', 'VOTER_CNT_71', 'VOTER_CNT_75', 'VOTER_CNT_78', 'VOTER_TRLR_1', 'VOTER_TRLR_2', 'VOTER_TRLR_3', 'VOTER_TRLR_4', 'VOTER_TRLR_5', 'VOTER_TRLR_6']",
     "output_type": "error",
     "traceback": [
      "\u001b[1;31m---------------------------------------------------------------------------\u001b[0m",
      "\u001b[1;31mValueError\u001b[0m                                Traceback (most recent call last)",
      "Cell \u001b[1;32mIn[15], line 76\u001b[0m\n\u001b[0;32m     73\u001b[0m     \u001b[38;5;28;01mreturn\u001b[39;00m result_df\n\u001b[0;32m     75\u001b[0m \u001b[38;5;66;03m# Assuming engineered_data is already defined\u001b[39;00m\n\u001b[1;32m---> 76\u001b[0m result \u001b[38;5;241m=\u001b[39m run_xgboost_all_columns(engineered_data, sample_size\u001b[38;5;241m=\u001b[39m\u001b[38;5;241m25000\u001b[39m, num_runs\u001b[38;5;241m=\u001b[39m\u001b[38;5;241m1\u001b[39m, top_N_features\u001b[38;5;241m=\u001b[39m\u001b[38;5;241m50\u001b[39m)\n\u001b[0;32m     77\u001b[0m result\n",
      "Cell \u001b[1;32mIn[14], line 4\u001b[0m, in \u001b[0;36mtimer_decorator.<locals>.wrapper\u001b[1;34m(*args, **kwargs)\u001b[0m\n\u001b[0;32m      2\u001b[0m \u001b[38;5;28;01mdef\u001b[39;00m \u001b[38;5;21mwrapper\u001b[39m(\u001b[38;5;241m*\u001b[39margs, \u001b[38;5;241m*\u001b[39m\u001b[38;5;241m*\u001b[39mkwargs):\n\u001b[0;32m      3\u001b[0m     start_time \u001b[38;5;241m=\u001b[39m time\u001b[38;5;241m.\u001b[39mtime()\n\u001b[1;32m----> 4\u001b[0m     result \u001b[38;5;241m=\u001b[39m func(\u001b[38;5;241m*\u001b[39margs, \u001b[38;5;241m*\u001b[39m\u001b[38;5;241m*\u001b[39mkwargs)\n\u001b[0;32m      5\u001b[0m     end_time \u001b[38;5;241m=\u001b[39m time\u001b[38;5;241m.\u001b[39mtime()\n\u001b[0;32m      6\u001b[0m     \u001b[38;5;28mprint\u001b[39m(\u001b[38;5;124mf\u001b[39m\u001b[38;5;124m\"\u001b[39m\u001b[38;5;124mFunction \u001b[39m\u001b[38;5;132;01m{\u001b[39;00mfunc\u001b[38;5;241m.\u001b[39m\u001b[38;5;18m__name__\u001b[39m\u001b[38;5;132;01m}\u001b[39;00m\u001b[38;5;124m took \u001b[39m\u001b[38;5;132;01m{\u001b[39;00m(end_time\u001b[38;5;250m \u001b[39m\u001b[38;5;241m-\u001b[39m\u001b[38;5;250m \u001b[39mstart_time)\u001b[38;5;132;01m:\u001b[39;00m\u001b[38;5;124m.2f\u001b[39m\u001b[38;5;132;01m}\u001b[39;00m\u001b[38;5;124m seconds to run.\u001b[39m\u001b[38;5;124m\"\u001b[39m)\n",
      "Cell \u001b[1;32mIn[15], line 35\u001b[0m, in \u001b[0;36mrun_xgboost_all_columns\u001b[1;34m(data, sample_size, num_runs, top_N_features)\u001b[0m\n\u001b[0;32m     32\u001b[0m X_test\u001b[38;5;241m.\u001b[39mcolumns \u001b[38;5;241m=\u001b[39m X_test\u001b[38;5;241m.\u001b[39mcolumns\u001b[38;5;241m.\u001b[39mstr\u001b[38;5;241m.\u001b[39mreplace(\u001b[38;5;124m'\u001b[39m\u001b[38;5;124m[\u001b[39m\u001b[38;5;124m'\u001b[39m, \u001b[38;5;124m'\u001b[39m\u001b[38;5;124m_\u001b[39m\u001b[38;5;124m'\u001b[39m)\u001b[38;5;241m.\u001b[39mstr\u001b[38;5;241m.\u001b[39mreplace(\u001b[38;5;124m'\u001b[39m\u001b[38;5;124m]\u001b[39m\u001b[38;5;124m'\u001b[39m, \u001b[38;5;124m'\u001b[39m\u001b[38;5;124m_\u001b[39m\u001b[38;5;124m'\u001b[39m)\u001b[38;5;241m.\u001b[39mstr\u001b[38;5;241m.\u001b[39mreplace(\u001b[38;5;124m'\u001b[39m\u001b[38;5;124m<\u001b[39m\u001b[38;5;124m'\u001b[39m, \u001b[38;5;124m'\u001b[39m\u001b[38;5;124m_\u001b[39m\u001b[38;5;124m'\u001b[39m)\n\u001b[0;32m     34\u001b[0m xgb \u001b[38;5;241m=\u001b[39m XGBClassifier(objective\u001b[38;5;241m=\u001b[39m\u001b[38;5;124m'\u001b[39m\u001b[38;5;124mmulti:softmax\u001b[39m\u001b[38;5;124m'\u001b[39m, num_class\u001b[38;5;241m=\u001b[39m\u001b[38;5;28mlen\u001b[39m(np\u001b[38;5;241m.\u001b[39munique(y_train)), random_state\u001b[38;5;241m=\u001b[39m\u001b[38;5;241m42\u001b[39m)\n\u001b[1;32m---> 35\u001b[0m xgb\u001b[38;5;241m.\u001b[39mfit(X_train, y_train)\n\u001b[0;32m     37\u001b[0m y_pred \u001b[38;5;241m=\u001b[39m xgb\u001b[38;5;241m.\u001b[39mpredict(X_test)\n\u001b[0;32m     38\u001b[0m accuracy \u001b[38;5;241m=\u001b[39m accuracy_score(y_test, y_pred)\n",
      "File \u001b[1;32m~\\anaconda3\\Lib\\site-packages\\xgboost\\core.py:729\u001b[0m, in \u001b[0;36mrequire_keyword_args.<locals>.throw_if.<locals>.inner_f\u001b[1;34m(*args, **kwargs)\u001b[0m\n\u001b[0;32m    727\u001b[0m \u001b[38;5;28;01mfor\u001b[39;00m k, arg \u001b[38;5;129;01min\u001b[39;00m \u001b[38;5;28mzip\u001b[39m(sig\u001b[38;5;241m.\u001b[39mparameters, args):\n\u001b[0;32m    728\u001b[0m     kwargs[k] \u001b[38;5;241m=\u001b[39m arg\n\u001b[1;32m--> 729\u001b[0m \u001b[38;5;28;01mreturn\u001b[39;00m func(\u001b[38;5;241m*\u001b[39m\u001b[38;5;241m*\u001b[39mkwargs)\n",
      "File \u001b[1;32m~\\anaconda3\\Lib\\site-packages\\xgboost\\sklearn.py:1496\u001b[0m, in \u001b[0;36mXGBClassifier.fit\u001b[1;34m(self, X, y, sample_weight, base_margin, eval_set, eval_metric, early_stopping_rounds, verbose, xgb_model, sample_weight_eval_set, base_margin_eval_set, feature_weights, callbacks)\u001b[0m\n\u001b[0;32m   1485\u001b[0m     params[\u001b[38;5;124m\"\u001b[39m\u001b[38;5;124mnum_class\u001b[39m\u001b[38;5;124m\"\u001b[39m] \u001b[38;5;241m=\u001b[39m \u001b[38;5;28mself\u001b[39m\u001b[38;5;241m.\u001b[39mn_classes_\n\u001b[0;32m   1487\u001b[0m (\n\u001b[0;32m   1488\u001b[0m     model,\n\u001b[0;32m   1489\u001b[0m     metric,\n\u001b[1;32m   (...)\u001b[0m\n\u001b[0;32m   1494\u001b[0m     xgb_model, eval_metric, params, early_stopping_rounds, callbacks\n\u001b[0;32m   1495\u001b[0m )\n\u001b[1;32m-> 1496\u001b[0m train_dmatrix, evals \u001b[38;5;241m=\u001b[39m _wrap_evaluation_matrices(\n\u001b[0;32m   1497\u001b[0m     missing\u001b[38;5;241m=\u001b[39m\u001b[38;5;28mself\u001b[39m\u001b[38;5;241m.\u001b[39mmissing,\n\u001b[0;32m   1498\u001b[0m     X\u001b[38;5;241m=\u001b[39mX,\n\u001b[0;32m   1499\u001b[0m     y\u001b[38;5;241m=\u001b[39my,\n\u001b[0;32m   1500\u001b[0m     group\u001b[38;5;241m=\u001b[39m\u001b[38;5;28;01mNone\u001b[39;00m,\n\u001b[0;32m   1501\u001b[0m     qid\u001b[38;5;241m=\u001b[39m\u001b[38;5;28;01mNone\u001b[39;00m,\n\u001b[0;32m   1502\u001b[0m     sample_weight\u001b[38;5;241m=\u001b[39msample_weight,\n\u001b[0;32m   1503\u001b[0m     base_margin\u001b[38;5;241m=\u001b[39mbase_margin,\n\u001b[0;32m   1504\u001b[0m     feature_weights\u001b[38;5;241m=\u001b[39mfeature_weights,\n\u001b[0;32m   1505\u001b[0m     eval_set\u001b[38;5;241m=\u001b[39meval_set,\n\u001b[0;32m   1506\u001b[0m     sample_weight_eval_set\u001b[38;5;241m=\u001b[39msample_weight_eval_set,\n\u001b[0;32m   1507\u001b[0m     base_margin_eval_set\u001b[38;5;241m=\u001b[39mbase_margin_eval_set,\n\u001b[0;32m   1508\u001b[0m     eval_group\u001b[38;5;241m=\u001b[39m\u001b[38;5;28;01mNone\u001b[39;00m,\n\u001b[0;32m   1509\u001b[0m     eval_qid\u001b[38;5;241m=\u001b[39m\u001b[38;5;28;01mNone\u001b[39;00m,\n\u001b[0;32m   1510\u001b[0m     create_dmatrix\u001b[38;5;241m=\u001b[39m\u001b[38;5;28mself\u001b[39m\u001b[38;5;241m.\u001b[39m_create_dmatrix,\n\u001b[0;32m   1511\u001b[0m     enable_categorical\u001b[38;5;241m=\u001b[39m\u001b[38;5;28mself\u001b[39m\u001b[38;5;241m.\u001b[39menable_categorical,\n\u001b[0;32m   1512\u001b[0m     feature_types\u001b[38;5;241m=\u001b[39m\u001b[38;5;28mself\u001b[39m\u001b[38;5;241m.\u001b[39mfeature_types,\n\u001b[0;32m   1513\u001b[0m )\n\u001b[0;32m   1515\u001b[0m \u001b[38;5;28mself\u001b[39m\u001b[38;5;241m.\u001b[39m_Booster \u001b[38;5;241m=\u001b[39m train(\n\u001b[0;32m   1516\u001b[0m     params,\n\u001b[0;32m   1517\u001b[0m     train_dmatrix,\n\u001b[1;32m   (...)\u001b[0m\n\u001b[0;32m   1526\u001b[0m     callbacks\u001b[38;5;241m=\u001b[39mcallbacks,\n\u001b[0;32m   1527\u001b[0m )\n\u001b[0;32m   1529\u001b[0m \u001b[38;5;28;01mif\u001b[39;00m \u001b[38;5;129;01mnot\u001b[39;00m \u001b[38;5;28mcallable\u001b[39m(\u001b[38;5;28mself\u001b[39m\u001b[38;5;241m.\u001b[39mobjective):\n",
      "File \u001b[1;32m~\\anaconda3\\Lib\\site-packages\\xgboost\\sklearn.py:534\u001b[0m, in \u001b[0;36m_wrap_evaluation_matrices\u001b[1;34m(missing, X, y, group, qid, sample_weight, base_margin, feature_weights, eval_set, sample_weight_eval_set, base_margin_eval_set, eval_group, eval_qid, create_dmatrix, enable_categorical, feature_types)\u001b[0m\n\u001b[0;32m    514\u001b[0m \u001b[38;5;28;01mdef\u001b[39;00m \u001b[38;5;21m_wrap_evaluation_matrices\u001b[39m(\n\u001b[0;32m    515\u001b[0m     missing: \u001b[38;5;28mfloat\u001b[39m,\n\u001b[0;32m    516\u001b[0m     X: Any,\n\u001b[1;32m   (...)\u001b[0m\n\u001b[0;32m    530\u001b[0m     feature_types: Optional[FeatureTypes],\n\u001b[0;32m    531\u001b[0m ) \u001b[38;5;241m-\u001b[39m\u001b[38;5;241m>\u001b[39m Tuple[Any, List[Tuple[Any, \u001b[38;5;28mstr\u001b[39m]]]:\n\u001b[0;32m    532\u001b[0m \u001b[38;5;250m    \u001b[39m\u001b[38;5;124;03m\"\"\"Convert array_like evaluation matrices into DMatrix.  Perform validation on the\u001b[39;00m\n\u001b[0;32m    533\u001b[0m \u001b[38;5;124;03m    way.\"\"\"\u001b[39;00m\n\u001b[1;32m--> 534\u001b[0m     train_dmatrix \u001b[38;5;241m=\u001b[39m create_dmatrix(\n\u001b[0;32m    535\u001b[0m         data\u001b[38;5;241m=\u001b[39mX,\n\u001b[0;32m    536\u001b[0m         label\u001b[38;5;241m=\u001b[39my,\n\u001b[0;32m    537\u001b[0m         group\u001b[38;5;241m=\u001b[39mgroup,\n\u001b[0;32m    538\u001b[0m         qid\u001b[38;5;241m=\u001b[39mqid,\n\u001b[0;32m    539\u001b[0m         weight\u001b[38;5;241m=\u001b[39msample_weight,\n\u001b[0;32m    540\u001b[0m         base_margin\u001b[38;5;241m=\u001b[39mbase_margin,\n\u001b[0;32m    541\u001b[0m         feature_weights\u001b[38;5;241m=\u001b[39mfeature_weights,\n\u001b[0;32m    542\u001b[0m         missing\u001b[38;5;241m=\u001b[39mmissing,\n\u001b[0;32m    543\u001b[0m         enable_categorical\u001b[38;5;241m=\u001b[39menable_categorical,\n\u001b[0;32m    544\u001b[0m         feature_types\u001b[38;5;241m=\u001b[39mfeature_types,\n\u001b[0;32m    545\u001b[0m         ref\u001b[38;5;241m=\u001b[39m\u001b[38;5;28;01mNone\u001b[39;00m,\n\u001b[0;32m    546\u001b[0m     )\n\u001b[0;32m    548\u001b[0m     n_validation \u001b[38;5;241m=\u001b[39m \u001b[38;5;241m0\u001b[39m \u001b[38;5;28;01mif\u001b[39;00m eval_set \u001b[38;5;129;01mis\u001b[39;00m \u001b[38;5;28;01mNone\u001b[39;00m \u001b[38;5;28;01melse\u001b[39;00m \u001b[38;5;28mlen\u001b[39m(eval_set)\n\u001b[0;32m    550\u001b[0m     \u001b[38;5;28;01mdef\u001b[39;00m \u001b[38;5;21mvalidate_or_none\u001b[39m(meta: Optional[Sequence], name: \u001b[38;5;28mstr\u001b[39m) \u001b[38;5;241m-\u001b[39m\u001b[38;5;241m>\u001b[39m Sequence:\n",
      "File \u001b[1;32m~\\anaconda3\\Lib\\site-packages\\xgboost\\sklearn.py:954\u001b[0m, in \u001b[0;36mXGBModel._create_dmatrix\u001b[1;34m(self, ref, **kwargs)\u001b[0m\n\u001b[0;32m    952\u001b[0m \u001b[38;5;28;01mif\u001b[39;00m _can_use_qdm(\u001b[38;5;28mself\u001b[39m\u001b[38;5;241m.\u001b[39mtree_method) \u001b[38;5;129;01mand\u001b[39;00m \u001b[38;5;28mself\u001b[39m\u001b[38;5;241m.\u001b[39mbooster \u001b[38;5;241m!=\u001b[39m \u001b[38;5;124m\"\u001b[39m\u001b[38;5;124mgblinear\u001b[39m\u001b[38;5;124m\"\u001b[39m:\n\u001b[0;32m    953\u001b[0m     \u001b[38;5;28;01mtry\u001b[39;00m:\n\u001b[1;32m--> 954\u001b[0m         \u001b[38;5;28;01mreturn\u001b[39;00m QuantileDMatrix(\n\u001b[0;32m    955\u001b[0m             \u001b[38;5;241m*\u001b[39m\u001b[38;5;241m*\u001b[39mkwargs, ref\u001b[38;5;241m=\u001b[39mref, nthread\u001b[38;5;241m=\u001b[39m\u001b[38;5;28mself\u001b[39m\u001b[38;5;241m.\u001b[39mn_jobs, max_bin\u001b[38;5;241m=\u001b[39m\u001b[38;5;28mself\u001b[39m\u001b[38;5;241m.\u001b[39mmax_bin\n\u001b[0;32m    956\u001b[0m         )\n\u001b[0;32m    957\u001b[0m     \u001b[38;5;28;01mexcept\u001b[39;00m \u001b[38;5;167;01mTypeError\u001b[39;00m:  \u001b[38;5;66;03m# `QuantileDMatrix` supports lesser types than DMatrix\u001b[39;00m\n\u001b[0;32m    958\u001b[0m         \u001b[38;5;28;01mpass\u001b[39;00m\n",
      "File \u001b[1;32m~\\anaconda3\\Lib\\site-packages\\xgboost\\core.py:729\u001b[0m, in \u001b[0;36mrequire_keyword_args.<locals>.throw_if.<locals>.inner_f\u001b[1;34m(*args, **kwargs)\u001b[0m\n\u001b[0;32m    727\u001b[0m \u001b[38;5;28;01mfor\u001b[39;00m k, arg \u001b[38;5;129;01min\u001b[39;00m \u001b[38;5;28mzip\u001b[39m(sig\u001b[38;5;241m.\u001b[39mparameters, args):\n\u001b[0;32m    728\u001b[0m     kwargs[k] \u001b[38;5;241m=\u001b[39m arg\n\u001b[1;32m--> 729\u001b[0m \u001b[38;5;28;01mreturn\u001b[39;00m func(\u001b[38;5;241m*\u001b[39m\u001b[38;5;241m*\u001b[39mkwargs)\n",
      "File \u001b[1;32m~\\anaconda3\\Lib\\site-packages\\xgboost\\core.py:1528\u001b[0m, in \u001b[0;36mQuantileDMatrix.__init__\u001b[1;34m(self, data, label, weight, base_margin, missing, silent, feature_names, feature_types, nthread, max_bin, ref, group, qid, label_lower_bound, label_upper_bound, feature_weights, enable_categorical, data_split_mode)\u001b[0m\n\u001b[0;32m   1508\u001b[0m     \u001b[38;5;28;01mif\u001b[39;00m \u001b[38;5;28many\u001b[39m(\n\u001b[0;32m   1509\u001b[0m         info \u001b[38;5;129;01mis\u001b[39;00m \u001b[38;5;129;01mnot\u001b[39;00m \u001b[38;5;28;01mNone\u001b[39;00m\n\u001b[0;32m   1510\u001b[0m         \u001b[38;5;28;01mfor\u001b[39;00m info \u001b[38;5;129;01min\u001b[39;00m (\n\u001b[1;32m   (...)\u001b[0m\n\u001b[0;32m   1521\u001b[0m         )\n\u001b[0;32m   1522\u001b[0m     ):\n\u001b[0;32m   1523\u001b[0m         \u001b[38;5;28;01mraise\u001b[39;00m \u001b[38;5;167;01mValueError\u001b[39;00m(\n\u001b[0;32m   1524\u001b[0m             \u001b[38;5;124m\"\u001b[39m\u001b[38;5;124mIf data iterator is used as input, data like label should be \u001b[39m\u001b[38;5;124m\"\u001b[39m\n\u001b[0;32m   1525\u001b[0m             \u001b[38;5;124m\"\u001b[39m\u001b[38;5;124mspecified as batch argument.\u001b[39m\u001b[38;5;124m\"\u001b[39m\n\u001b[0;32m   1526\u001b[0m         )\n\u001b[1;32m-> 1528\u001b[0m \u001b[38;5;28mself\u001b[39m\u001b[38;5;241m.\u001b[39m_init(\n\u001b[0;32m   1529\u001b[0m     data,\n\u001b[0;32m   1530\u001b[0m     ref\u001b[38;5;241m=\u001b[39mref,\n\u001b[0;32m   1531\u001b[0m     label\u001b[38;5;241m=\u001b[39mlabel,\n\u001b[0;32m   1532\u001b[0m     weight\u001b[38;5;241m=\u001b[39mweight,\n\u001b[0;32m   1533\u001b[0m     base_margin\u001b[38;5;241m=\u001b[39mbase_margin,\n\u001b[0;32m   1534\u001b[0m     group\u001b[38;5;241m=\u001b[39mgroup,\n\u001b[0;32m   1535\u001b[0m     qid\u001b[38;5;241m=\u001b[39mqid,\n\u001b[0;32m   1536\u001b[0m     label_lower_bound\u001b[38;5;241m=\u001b[39mlabel_lower_bound,\n\u001b[0;32m   1537\u001b[0m     label_upper_bound\u001b[38;5;241m=\u001b[39mlabel_upper_bound,\n\u001b[0;32m   1538\u001b[0m     feature_weights\u001b[38;5;241m=\u001b[39mfeature_weights,\n\u001b[0;32m   1539\u001b[0m     feature_names\u001b[38;5;241m=\u001b[39mfeature_names,\n\u001b[0;32m   1540\u001b[0m     feature_types\u001b[38;5;241m=\u001b[39mfeature_types,\n\u001b[0;32m   1541\u001b[0m     enable_categorical\u001b[38;5;241m=\u001b[39menable_categorical,\n\u001b[0;32m   1542\u001b[0m )\n",
      "File \u001b[1;32m~\\anaconda3\\Lib\\site-packages\\xgboost\\core.py:1587\u001b[0m, in \u001b[0;36mQuantileDMatrix._init\u001b[1;34m(self, data, ref, enable_categorical, **meta)\u001b[0m\n\u001b[0;32m   1575\u001b[0m config \u001b[38;5;241m=\u001b[39m make_jcargs(\n\u001b[0;32m   1576\u001b[0m     nthread\u001b[38;5;241m=\u001b[39m\u001b[38;5;28mself\u001b[39m\u001b[38;5;241m.\u001b[39mnthread, missing\u001b[38;5;241m=\u001b[39m\u001b[38;5;28mself\u001b[39m\u001b[38;5;241m.\u001b[39mmissing, max_bin\u001b[38;5;241m=\u001b[39m\u001b[38;5;28mself\u001b[39m\u001b[38;5;241m.\u001b[39mmax_bin\n\u001b[0;32m   1577\u001b[0m )\n\u001b[0;32m   1578\u001b[0m ret \u001b[38;5;241m=\u001b[39m _LIB\u001b[38;5;241m.\u001b[39mXGQuantileDMatrixCreateFromCallback(\n\u001b[0;32m   1579\u001b[0m     \u001b[38;5;28;01mNone\u001b[39;00m,\n\u001b[0;32m   1580\u001b[0m     it\u001b[38;5;241m.\u001b[39mproxy\u001b[38;5;241m.\u001b[39mhandle,\n\u001b[1;32m   (...)\u001b[0m\n\u001b[0;32m   1585\u001b[0m     ctypes\u001b[38;5;241m.\u001b[39mbyref(handle),\n\u001b[0;32m   1586\u001b[0m )\n\u001b[1;32m-> 1587\u001b[0m it\u001b[38;5;241m.\u001b[39mreraise()\n\u001b[0;32m   1588\u001b[0m \u001b[38;5;66;03m# delay check_call to throw intermediate exception first\u001b[39;00m\n\u001b[0;32m   1589\u001b[0m _check_call(ret)\n",
      "File \u001b[1;32m~\\anaconda3\\Lib\\site-packages\\xgboost\\core.py:575\u001b[0m, in \u001b[0;36mDataIter.reraise\u001b[1;34m(self)\u001b[0m\n\u001b[0;32m    573\u001b[0m exc \u001b[38;5;241m=\u001b[39m \u001b[38;5;28mself\u001b[39m\u001b[38;5;241m.\u001b[39m_exception\n\u001b[0;32m    574\u001b[0m \u001b[38;5;28mself\u001b[39m\u001b[38;5;241m.\u001b[39m_exception \u001b[38;5;241m=\u001b[39m \u001b[38;5;28;01mNone\u001b[39;00m\n\u001b[1;32m--> 575\u001b[0m \u001b[38;5;28;01mraise\u001b[39;00m exc\n",
      "File \u001b[1;32m~\\anaconda3\\Lib\\site-packages\\xgboost\\core.py:556\u001b[0m, in \u001b[0;36mDataIter._handle_exception\u001b[1;34m(self, fn, dft_ret)\u001b[0m\n\u001b[0;32m    553\u001b[0m     \u001b[38;5;28;01mreturn\u001b[39;00m dft_ret\n\u001b[0;32m    555\u001b[0m \u001b[38;5;28;01mtry\u001b[39;00m:\n\u001b[1;32m--> 556\u001b[0m     \u001b[38;5;28;01mreturn\u001b[39;00m fn()\n\u001b[0;32m    557\u001b[0m \u001b[38;5;28;01mexcept\u001b[39;00m \u001b[38;5;167;01mException\u001b[39;00m \u001b[38;5;28;01mas\u001b[39;00m e:  \u001b[38;5;66;03m# pylint: disable=broad-except\u001b[39;00m\n\u001b[0;32m    558\u001b[0m     \u001b[38;5;66;03m# Defer the exception in order to return 0 and stop the iteration.\u001b[39;00m\n\u001b[0;32m    559\u001b[0m     \u001b[38;5;66;03m# Exception inside a ctype callback function has no effect except\u001b[39;00m\n\u001b[0;32m    560\u001b[0m     \u001b[38;5;66;03m# for printing to stderr (doesn't stop the execution).\u001b[39;00m\n\u001b[0;32m    561\u001b[0m     tb \u001b[38;5;241m=\u001b[39m sys\u001b[38;5;241m.\u001b[39mexc_info()[\u001b[38;5;241m2\u001b[39m]\n",
      "File \u001b[1;32m~\\anaconda3\\Lib\\site-packages\\xgboost\\core.py:640\u001b[0m, in \u001b[0;36mDataIter._next_wrapper.<locals>.<lambda>\u001b[1;34m()\u001b[0m\n\u001b[0;32m    637\u001b[0m     \u001b[38;5;28mself\u001b[39m\u001b[38;5;241m.\u001b[39m_data_ref \u001b[38;5;241m=\u001b[39m ref\n\u001b[0;32m    639\u001b[0m \u001b[38;5;66;03m# pylint: disable=not-callable\u001b[39;00m\n\u001b[1;32m--> 640\u001b[0m \u001b[38;5;28;01mreturn\u001b[39;00m \u001b[38;5;28mself\u001b[39m\u001b[38;5;241m.\u001b[39m_handle_exception(\u001b[38;5;28;01mlambda\u001b[39;00m: \u001b[38;5;28mself\u001b[39m\u001b[38;5;241m.\u001b[39mnext(input_data), \u001b[38;5;241m0\u001b[39m)\n",
      "File \u001b[1;32m~\\anaconda3\\Lib\\site-packages\\xgboost\\data.py:1260\u001b[0m, in \u001b[0;36mSingleBatchInternalIter.next\u001b[1;34m(self, input_data)\u001b[0m\n\u001b[0;32m   1258\u001b[0m     \u001b[38;5;28;01mreturn\u001b[39;00m \u001b[38;5;241m0\u001b[39m\n\u001b[0;32m   1259\u001b[0m \u001b[38;5;28mself\u001b[39m\u001b[38;5;241m.\u001b[39mit \u001b[38;5;241m+\u001b[39m\u001b[38;5;241m=\u001b[39m \u001b[38;5;241m1\u001b[39m\n\u001b[1;32m-> 1260\u001b[0m input_data(\u001b[38;5;241m*\u001b[39m\u001b[38;5;241m*\u001b[39m\u001b[38;5;28mself\u001b[39m\u001b[38;5;241m.\u001b[39mkwargs)\n\u001b[0;32m   1261\u001b[0m \u001b[38;5;28;01mreturn\u001b[39;00m \u001b[38;5;241m1\u001b[39m\n",
      "File \u001b[1;32m~\\anaconda3\\Lib\\site-packages\\xgboost\\core.py:729\u001b[0m, in \u001b[0;36mrequire_keyword_args.<locals>.throw_if.<locals>.inner_f\u001b[1;34m(*args, **kwargs)\u001b[0m\n\u001b[0;32m    727\u001b[0m \u001b[38;5;28;01mfor\u001b[39;00m k, arg \u001b[38;5;129;01min\u001b[39;00m \u001b[38;5;28mzip\u001b[39m(sig\u001b[38;5;241m.\u001b[39mparameters, args):\n\u001b[0;32m    728\u001b[0m     kwargs[k] \u001b[38;5;241m=\u001b[39m arg\n\u001b[1;32m--> 729\u001b[0m \u001b[38;5;28;01mreturn\u001b[39;00m func(\u001b[38;5;241m*\u001b[39m\u001b[38;5;241m*\u001b[39mkwargs)\n",
      "File \u001b[1;32m~\\anaconda3\\Lib\\site-packages\\xgboost\\core.py:632\u001b[0m, in \u001b[0;36mDataIter._next_wrapper.<locals>.input_data\u001b[1;34m(data, feature_names, feature_types, **kwargs)\u001b[0m\n\u001b[0;32m    630\u001b[0m \u001b[38;5;28mself\u001b[39m\u001b[38;5;241m.\u001b[39m_temporary_data \u001b[38;5;241m=\u001b[39m (new, cat_codes, feature_names, feature_types)\n\u001b[0;32m    631\u001b[0m dispatch_proxy_set_data(\u001b[38;5;28mself\u001b[39m\u001b[38;5;241m.\u001b[39mproxy, new, cat_codes, \u001b[38;5;28mself\u001b[39m\u001b[38;5;241m.\u001b[39m_allow_host)\n\u001b[1;32m--> 632\u001b[0m \u001b[38;5;28mself\u001b[39m\u001b[38;5;241m.\u001b[39mproxy\u001b[38;5;241m.\u001b[39mset_info(\n\u001b[0;32m    633\u001b[0m     feature_names\u001b[38;5;241m=\u001b[39mfeature_names,\n\u001b[0;32m    634\u001b[0m     feature_types\u001b[38;5;241m=\u001b[39mfeature_types,\n\u001b[0;32m    635\u001b[0m     \u001b[38;5;241m*\u001b[39m\u001b[38;5;241m*\u001b[39mkwargs,\n\u001b[0;32m    636\u001b[0m )\n\u001b[0;32m    637\u001b[0m \u001b[38;5;28mself\u001b[39m\u001b[38;5;241m.\u001b[39m_data_ref \u001b[38;5;241m=\u001b[39m ref\n",
      "File \u001b[1;32m~\\anaconda3\\Lib\\site-packages\\xgboost\\core.py:729\u001b[0m, in \u001b[0;36mrequire_keyword_args.<locals>.throw_if.<locals>.inner_f\u001b[1;34m(*args, **kwargs)\u001b[0m\n\u001b[0;32m    727\u001b[0m \u001b[38;5;28;01mfor\u001b[39;00m k, arg \u001b[38;5;129;01min\u001b[39;00m \u001b[38;5;28mzip\u001b[39m(sig\u001b[38;5;241m.\u001b[39mparameters, args):\n\u001b[0;32m    728\u001b[0m     kwargs[k] \u001b[38;5;241m=\u001b[39m arg\n\u001b[1;32m--> 729\u001b[0m \u001b[38;5;28;01mreturn\u001b[39;00m func(\u001b[38;5;241m*\u001b[39m\u001b[38;5;241m*\u001b[39mkwargs)\n",
      "File \u001b[1;32m~\\anaconda3\\Lib\\site-packages\\xgboost\\core.py:945\u001b[0m, in \u001b[0;36mDMatrix.set_info\u001b[1;34m(self, label, weight, base_margin, group, qid, label_lower_bound, label_upper_bound, feature_names, feature_types, feature_weights)\u001b[0m\n\u001b[0;32m    943\u001b[0m     \u001b[38;5;28mself\u001b[39m\u001b[38;5;241m.\u001b[39mset_float_info(\u001b[38;5;124m\"\u001b[39m\u001b[38;5;124mlabel_upper_bound\u001b[39m\u001b[38;5;124m\"\u001b[39m, label_upper_bound)\n\u001b[0;32m    944\u001b[0m \u001b[38;5;28;01mif\u001b[39;00m feature_names \u001b[38;5;129;01mis\u001b[39;00m \u001b[38;5;129;01mnot\u001b[39;00m \u001b[38;5;28;01mNone\u001b[39;00m:\n\u001b[1;32m--> 945\u001b[0m     \u001b[38;5;28mself\u001b[39m\u001b[38;5;241m.\u001b[39mfeature_names \u001b[38;5;241m=\u001b[39m feature_names\n\u001b[0;32m    946\u001b[0m \u001b[38;5;28;01mif\u001b[39;00m feature_types \u001b[38;5;129;01mis\u001b[39;00m \u001b[38;5;129;01mnot\u001b[39;00m \u001b[38;5;28;01mNone\u001b[39;00m:\n\u001b[0;32m    947\u001b[0m     \u001b[38;5;28mself\u001b[39m\u001b[38;5;241m.\u001b[39mfeature_types \u001b[38;5;241m=\u001b[39m feature_types\n",
      "File \u001b[1;32m~\\anaconda3\\Lib\\site-packages\\xgboost\\core.py:1312\u001b[0m, in \u001b[0;36mDMatrix.feature_names\u001b[1;34m(self, feature_names)\u001b[0m\n\u001b[0;32m   1305\u001b[0m     values, counts \u001b[38;5;241m=\u001b[39m np\u001b[38;5;241m.\u001b[39munique(\n\u001b[0;32m   1306\u001b[0m         feature_names,\n\u001b[0;32m   1307\u001b[0m         return_index\u001b[38;5;241m=\u001b[39m\u001b[38;5;28;01mFalse\u001b[39;00m,\n\u001b[0;32m   1308\u001b[0m         return_inverse\u001b[38;5;241m=\u001b[39m\u001b[38;5;28;01mFalse\u001b[39;00m,\n\u001b[0;32m   1309\u001b[0m         return_counts\u001b[38;5;241m=\u001b[39m\u001b[38;5;28;01mTrue\u001b[39;00m,\n\u001b[0;32m   1310\u001b[0m     )\n\u001b[0;32m   1311\u001b[0m     duplicates \u001b[38;5;241m=\u001b[39m [name \u001b[38;5;28;01mfor\u001b[39;00m name, cnt \u001b[38;5;129;01min\u001b[39;00m \u001b[38;5;28mzip\u001b[39m(values, counts) \u001b[38;5;28;01mif\u001b[39;00m cnt \u001b[38;5;241m>\u001b[39m \u001b[38;5;241m1\u001b[39m]\n\u001b[1;32m-> 1312\u001b[0m     \u001b[38;5;28;01mraise\u001b[39;00m \u001b[38;5;167;01mValueError\u001b[39;00m(\n\u001b[0;32m   1313\u001b[0m         \u001b[38;5;124mf\u001b[39m\u001b[38;5;124m\"\u001b[39m\u001b[38;5;124mfeature_names must be unique. Duplicates found: \u001b[39m\u001b[38;5;132;01m{\u001b[39;00mduplicates\u001b[38;5;132;01m}\u001b[39;00m\u001b[38;5;124m\"\u001b[39m\n\u001b[0;32m   1314\u001b[0m     )\n\u001b[0;32m   1316\u001b[0m \u001b[38;5;66;03m# prohibit the use symbols that may affect parsing. e.g. []<\u001b[39;00m\n\u001b[0;32m   1317\u001b[0m \u001b[38;5;28;01mif\u001b[39;00m \u001b[38;5;129;01mnot\u001b[39;00m \u001b[38;5;28mall\u001b[39m(\n\u001b[0;32m   1318\u001b[0m     \u001b[38;5;28misinstance\u001b[39m(f, \u001b[38;5;28mstr\u001b[39m) \u001b[38;5;129;01mand\u001b[39;00m \u001b[38;5;129;01mnot\u001b[39;00m \u001b[38;5;28many\u001b[39m(x \u001b[38;5;129;01min\u001b[39;00m f \u001b[38;5;28;01mfor\u001b[39;00m x \u001b[38;5;129;01min\u001b[39;00m [\u001b[38;5;124m\"\u001b[39m\u001b[38;5;124m[\u001b[39m\u001b[38;5;124m\"\u001b[39m, \u001b[38;5;124m\"\u001b[39m\u001b[38;5;124m]\u001b[39m\u001b[38;5;124m\"\u001b[39m, \u001b[38;5;124m\"\u001b[39m\u001b[38;5;124m<\u001b[39m\u001b[38;5;124m\"\u001b[39m])\n\u001b[0;32m   1319\u001b[0m     \u001b[38;5;28;01mfor\u001b[39;00m f \u001b[38;5;129;01min\u001b[39;00m feature_names\n\u001b[0;32m   1320\u001b[0m ):\n",
      "\u001b[1;31mValueError\u001b[0m: feature_names must be unique. Duplicates found: ['CENSUS_ST_10', 'CENSUS_ST_12', 'CENSUS_ST_13', 'CENSUS_ST_19', 'CENSUS_ST_24', 'CENSUS_ST_26', 'CENSUS_ST_28', 'CENSUS_ST_29', 'CENSUS_ST_30', 'CENSUS_ST_31', 'CENSUS_ST_34', 'CENSUS_ST_36', 'CENSUS_ST_39', 'CENSUS_ST_40', 'CENSUS_ST_48', 'CENSUS_ST_51', 'CENSUS_ST_53', 'CENSUS_ST_54', 'CENSUS_ST_55', 'CONG_DIST_10', 'CONG_DIST_11', 'CONG_DIST_12', 'CONG_DIST_13', 'CONG_DIST_14', 'CONG_DIST_15', 'CONG_DIST_16', 'CONG_DIST_17', 'CONG_DIST_18', 'CONG_DIST_19', 'CONG_DIST_20', 'CONG_DIST_21', 'CONG_DIST_22', 'CONG_DIST_23', 'CONG_DIST_24', 'CONG_DIST_25', 'CONG_DIST_26', 'CONG_DIST_27', 'CONG_DIST_28', 'CONG_DIST_29', 'CONG_DIST_30', 'CONG_DIST_31', 'CONG_DIST_32', 'CONG_DIST_33', 'CONG_DIST_34', 'CONG_DIST_35', 'CONG_DIST_36', 'CONG_DIST_37', 'CONG_DIST_38', 'CONG_DIST_39', 'CONG_DIST_40', 'CONG_DIST_41', 'CONG_DIST_42', 'CONG_DIST_44', 'CONG_DIST_45', 'CONG_DIST_46', 'CONG_DIST_49', 'CONG_DIST_50', 'CONG_DIST_51', 'CONG_DIST_52', 'GENDER_MIX_2', 'GENDER_MIX_3', 'GENDER_MIX_4', 'GENDER_MIX_5', 'GENDER_MIX_6', 'GENDER_MIX_7', 'ST_LO_HOUS_100', 'ST_LO_HOUS_101', 'ST_LO_HOUS_102', 'ST_LO_HOUS_103', 'ST_LO_HOUS_104', 'ST_LO_HOUS_105', 'ST_LO_HOUS_106', 'ST_LO_HOUS_107', 'ST_LO_HOUS_108', 'ST_LO_HOUS_109', 'ST_LO_HOUS_110', 'ST_LO_HOUS_111', 'ST_LO_HOUS_112', 'ST_LO_HOUS_113', 'ST_LO_HOUS_114', 'ST_LO_HOUS_115', 'ST_LO_HOUS_116', 'ST_LO_HOUS_117', 'ST_LO_HOUS_118', 'ST_LO_HOUS_119', 'ST_LO_HOUS_120', 'ST_LO_HOUS_121', 'ST_LO_HOUS_122', 'ST_LO_HOUS_123', 'ST_LO_HOUS_124', 'ST_LO_HOUS_125', 'ST_LO_HOUS_126', 'ST_LO_HOUS_127', 'ST_LO_HOUS_128', 'ST_LO_HOUS_129', 'ST_LO_HOUS_130', 'ST_LO_HOUS_131', 'ST_LO_HOUS_132', 'ST_LO_HOUS_133', 'ST_LO_HOUS_134', 'ST_LO_HOUS_135', 'ST_LO_HOUS_136', 'ST_LO_HOUS_137', 'ST_LO_HOUS_138', 'ST_LO_HOUS_139', 'ST_LO_HOUS_140', 'ST_LO_HOUS_141', 'ST_LO_HOUS_142', 'ST_LO_HOUS_143', 'ST_LO_HOUS_144', 'ST_LO_HOUS_145', 'ST_LO_HOUS_146', 'ST_LO_HOUS_147', 'ST_LO_HOUS_148', 'ST_LO_HOUS_149', 'ST_LO_HOUS_150', 'ST_LO_HOUS_151', 'ST_LO_HOUS_152', 'ST_LO_HOUS_153', 'ST_LO_HOUS_154', 'ST_LO_HOUS_155', 'ST_LO_HOUS_156', 'ST_LO_HOUS_157', 'ST_LO_HOUS_158', 'ST_LO_HOUS_159', 'ST_LO_HOUS_160', 'ST_LO_HOUS_161', 'ST_LO_HOUS_162', 'ST_LO_HOUS_163', 'ST_LO_HOUS_164', 'ST_LO_HOUS_165', 'ST_LO_HOUS_166', 'ST_LO_HOUS_167', 'ST_LO_HOUS_168', 'ST_LO_HOUS_169', 'ST_LO_HOUS_170', 'ST_LO_HOUS_171', 'ST_LO_HOUS_172', 'ST_LO_HOUS_173', 'ST_LO_HOUS_174', 'ST_LO_HOUS_175', 'ST_LO_HOUS_176', 'ST_LO_HOUS_177', 'ST_LO_HOUS_178', 'ST_LO_HOUS_179', 'ST_LO_HOUS_180', 'ST_LO_HOUS_181', 'ST_LO_HOUS_183', 'ST_LO_HOUS_190', 'ST_LO_HOUS_194', 'ST_LO_HOUS_195', 'ST_LO_HOUS_201', 'ST_LO_HOUS_202', 'ST_UP_HOUS_10', 'ST_UP_HOUS_11', 'ST_UP_HOUS_12', 'ST_UP_HOUS_13', 'ST_UP_HOUS_14', 'ST_UP_HOUS_15', 'ST_UP_HOUS_16', 'ST_UP_HOUS_17', 'ST_UP_HOUS_18', 'ST_UP_HOUS_19', 'ST_UP_HOUS_20', 'ST_UP_HOUS_21', 'ST_UP_HOUS_22', 'ST_UP_HOUS_23', 'ST_UP_HOUS_24', 'ST_UP_HOUS_25', 'ST_UP_HOUS_26', 'ST_UP_HOUS_27', 'ST_UP_HOUS_28', 'ST_UP_HOUS_29', 'ST_UP_HOUS_30', 'ST_UP_HOUS_31', 'ST_UP_HOUS_32', 'ST_UP_HOUS_33', 'ST_UP_HOUS_34', 'ST_UP_HOUS_35', 'ST_UP_HOUS_36', 'ST_UP_HOUS_37', 'ST_UP_HOUS_38', 'ST_UP_HOUS_39', 'ST_UP_HOUS_40', 'ST_UP_HOUS_41', 'ST_UP_HOUS_42', 'ST_UP_HOUS_43', 'ST_UP_HOUS_44', 'ST_UP_HOUS_45', 'ST_UP_HOUS_46', 'ST_UP_HOUS_47', 'ST_UP_HOUS_48', 'ST_UP_HOUS_49', 'ST_UP_HOUS_50', 'ST_UP_HOUS_51', 'ST_UP_HOUS_52', 'ST_UP_HOUS_53', 'ST_UP_HOUS_54', 'ST_UP_HOUS_55', 'ST_UP_HOUS_56', 'VOTER_CNT_10', 'VOTER_CNT_11', 'VOTER_CNT_12', 'VOTER_CNT_13', 'VOTER_CNT_14', 'VOTER_CNT_15', 'VOTER_CNT_16', 'VOTER_CNT_17', 'VOTER_CNT_18', 'VOTER_CNT_19', 'VOTER_CNT_20', 'VOTER_CNT_21', 'VOTER_CNT_22', 'VOTER_CNT_23', 'VOTER_CNT_24', 'VOTER_CNT_25', 'VOTER_CNT_26', 'VOTER_CNT_27', 'VOTER_CNT_28', 'VOTER_CNT_29', 'VOTER_CNT_30', 'VOTER_CNT_31', 'VOTER_CNT_32', 'VOTER_CNT_33', 'VOTER_CNT_34', 'VOTER_CNT_35', 'VOTER_CNT_36', 'VOTER_CNT_37', 'VOTER_CNT_38', 'VOTER_CNT_39', 'VOTER_CNT_40', 'VOTER_CNT_41', 'VOTER_CNT_42', 'VOTER_CNT_43', 'VOTER_CNT_44', 'VOTER_CNT_45', 'VOTER_CNT_46', 'VOTER_CNT_47', 'VOTER_CNT_48', 'VOTER_CNT_49', 'VOTER_CNT_50', 'VOTER_CNT_51', 'VOTER_CNT_52', 'VOTER_CNT_53', 'VOTER_CNT_54', 'VOTER_CNT_55', 'VOTER_CNT_56', 'VOTER_CNT_57', 'VOTER_CNT_58', 'VOTER_CNT_59', 'VOTER_CNT_60', 'VOTER_CNT_62', 'VOTER_CNT_65', 'VOTER_CNT_66', 'VOTER_CNT_67', 'VOTER_CNT_69', 'VOTER_CNT_70', 'VOTER_CNT_71', 'VOTER_CNT_75', 'VOTER_CNT_78', 'VOTER_TRLR_1', 'VOTER_TRLR_2', 'VOTER_TRLR_3', 'VOTER_TRLR_4', 'VOTER_TRLR_5', 'VOTER_TRLR_6']"
     ]
    }
   ],
   "source": [
    "@timer_decorator\n",
    "def run_xgboost_all_columns(data, sample_size=150000, num_runs=1, top_N_features=50):\n",
    "    results_list = []\n",
    "\n",
    "    for run in range(1, num_runs + 1):\n",
    "        print(f\"Starting run {run}...\")\n",
    "        \n",
    "        data_with_all_columns = data.copy()\n",
    "        data_with_all_columns = data_with_all_columns[data_with_all_columns['INFER_PARTY'].notna()]\n",
    "        \n",
    "        if 'PARTY_CODE' in data_with_all_columns.columns:\n",
    "            data_with_all_columns.drop('PARTY_CODE', axis=1, inplace=True)\n",
    "        \n",
    "        print(\"Number of columns in the dataset:\", len(data_with_all_columns.columns))\n",
    "\n",
    "        data_sample = data_with_all_columns.sample(n=sample_size, random_state=42)\n",
    "        \n",
    "        le = LabelEncoder()\n",
    "        data_sample['INFER_PARTY'] = le.fit_transform(data_sample['INFER_PARTY'].astype(str))\n",
    "        \n",
    "        non_numeric_cols = data_sample.select_dtypes(exclude=['int64', 'float64']).columns.difference(['INFER_PARTY'])\n",
    "        \n",
    "        data_one_hot = pd.get_dummies(data_sample, columns=non_numeric_cols, drop_first=True)\n",
    "\n",
    "        X = data_one_hot.drop('INFER_PARTY', axis=1)\n",
    "        y = data_one_hot['INFER_PARTY']\n",
    "\n",
    "        X_train, X_test, y_train, y_test = train_test_split(X, y, test_size=0.2, random_state=42, stratify=y)\n",
    "        \n",
    "        # Replacing unsupported characters in feature names\n",
    "        X_train.columns = X_train.columns.str.replace('[', '_').str.replace(']', '_').str.replace('<', '_')\n",
    "        X_test.columns = X_test.columns.str.replace('[', '_').str.replace(']', '_').str.replace('<', '_')\n",
    "        \n",
    "        xgb = XGBClassifier(objective='multi:softmax', num_class=len(np.unique(y_train)), random_state=42)\n",
    "        xgb.fit(X_train, y_train)\n",
    "        \n",
    "        y_pred = xgb.predict(X_test)\n",
    "        accuracy = accuracy_score(y_test, y_pred)\n",
    "        f1 = f1_score(y_test, y_pred, average='weighted')\n",
    "\n",
    "        print(f\"Run {run} - Baseline Metrics: Accuracy: {accuracy}, F1 Score: {f1}\")\n",
    "\n",
    "        feature_importances = xgb.feature_importances_\n",
    "        sorted_idx = feature_importances.argsort()[::-1][:top_N_features]\n",
    "        top_features = X.columns[sorted_idx].tolist()\n",
    "        print(top_features)\n",
    "        \n",
    "        # Re-train and evaluate the model using top 50 features\n",
    "        X_train_top_50 = X_train[top_features]\n",
    "        X_test_top_50 = X_test[top_features]\n",
    "        \n",
    "        xgb_top_50 = XGBClassifier(objective='multi:softmax', num_class=len(np.unique(y_train)), random_state=42)\n",
    "        xgb_top_50.fit(X_train_top_50, y_train)\n",
    "        \n",
    "        y_pred_top_50 = xgb_top_50.predict(X_test_top_50)\n",
    "        accuracy_top_50 = accuracy_score(y_test, y_pred_top_50)\n",
    "        f1_top_50 = f1_score(y_test, y_pred_top_50, average='weighted')\n",
    "\n",
    "        print(f\"Run {run} - Model performance with top 50 features:\")\n",
    "        print(f\"Accuracy: {accuracy_top_50}\")\n",
    "        print(f\"F1 Score: {f1_top_50}\")\n",
    "\n",
    "        results_list.append({\n",
    "            'Run': run,\n",
    "            'Accuracy': accuracy,\n",
    "            'F1_Score': f1,\n",
    "            'Accuracy_Top_50': accuracy_top_50,\n",
    "            'F1_Score_Top_50': f1_top_50,\n",
    "            'Top_N_Features': top_features\n",
    "        })\n",
    "\n",
    "    result_df = pd.DataFrame(results_list)\n",
    "    return result_df\n",
    "\n",
    "# Assuming engineered_data is already defined\n",
    "result = run_xgboost_all_columns(engineered_data, sample_size=25000, num_runs=1, top_N_features=50)\n",
    "result"
   ]
  },
  {
   "cell_type": "code",
   "execution_count": 21,
   "id": "6d9055b0bf68055a",
   "metadata": {
    "ExecuteTime": {
     "end_time": "2023-10-15T20:24:00.132745Z",
     "start_time": "2023-10-15T20:23:59.768123Z"
    },
    "collapsed": false,
    "jupyter": {
     "outputs_hidden": false
    }
   },
   "outputs": [
    {
     "data": {
      "image/png": "[encoded data removed]",
      "text/plain": [
       "<Figure size 1200x600 with 1 Axes>"
      ]
     },
     "metadata": {},
     "output_type": "display_data"
    },
    {
     "name": "stdout",
     "output_type": "stream",
     "text": [
      "Counts for each category in PARTY_CODE:\n",
      "PARTY_CODE\n",
      "D    110365\n",
      "R     85218\n",
      "N     67573\n",
      "O      7800\n",
      "L      1563\n",
      "Name: count, dtype: int64\n"
     ]
    }
   ],
   "source": [
    "# Generate a bar plot for 'PARTY_CODE'\n",
    "plt.figure(figsize=(12, 6))\n",
    "sns.countplot(data=engineered_data, x='PARTY_CODE', order=engineered_data['PARTY_CODE'].value_counts().index)\n",
    "plt.title('Distribution of PARTY_CODE')\n",
    "plt.xlabel('Party Code')\n",
    "plt.ylabel('Frequency')\n",
    "plt.xticks(rotation=45)\n",
    "plt.show()\n",
    "\n",
    "# Display statistics\n",
    "party_code_counts = engineered_data['PARTY_CODE'].value_counts()\n",
    "print(\"Counts for each category in PARTY_CODE:\")\n",
    "print(party_code_counts)"
   ]
  },
  {
   "cell_type": "code",
   "execution_count": null,
   "id": "c5b60bd648f39122",
   "metadata": {
    "ExecuteTime": {
     "start_time": "2023-10-15T20:23:35.446777Z"
    },
    "collapsed": false,
    "jupyter": {
     "outputs_hidden": false
    }
   },
   "outputs": [],
   "source": [
    "@timer_decorator\n",
    "def run_xgboost_all_columns(data, sample_size=100000, num_runs=1, top_N_features=10):\n",
    "    results_list = []\n",
    "\n",
    "    for run in range(1, num_runs + 1):\n",
    "        print(f\"Starting run {run}...\")\n",
    "        \n",
    "        # Use all available columns except the target column 'PARTY_CODE'\n",
    "        data_with_all_columns = data.copy()\n",
    "        data_with_all_columns = data_with_all_columns[data_with_all_columns['PARTY_CODE'].notna()]\n",
    "        \n",
    "        if 'INFER_PARTY' in data_with_all_columns.columns:\n",
    "            data_with_all_columns.drop('INFER_PARTY', axis=1, inplace=True)\n",
    "\n",
    "\n",
    "        print(\"number of columns in the dataset\", len(data_with_all_columns.columns))\n",
    "        data_sample = data_with_all_columns.sample(n=sample_size, random_state=42)\n",
    "        \n",
    "        class_counts = data_sample['PARTY_CODE'].value_counts()\n",
    "        valid_classes = class_counts[class_counts >= 2].index.tolist()\n",
    "        data_sample = data_sample[data_sample['PARTY_CODE'].isin(valid_classes)]\n",
    "        \n",
    "        le = LabelEncoder()\n",
    "        data_sample['PARTY_CODE'] = le.fit_transform(data_sample['PARTY_CODE'].astype(str))\n",
    "        \n",
    "        # Identify numeric and non-numeric columns\n",
    "        numeric_cols = data_sample.select_dtypes(include=['int64', 'float64']).columns.difference(['PARTY_CODE'])\n",
    "        non_numeric_cols = data_sample.select_dtypes(exclude=['int64', 'float64']).columns.difference(['PARTY_CODE'])\n",
    "        \n",
    "        # One-hot encode non-numeric columns\n",
    "        data_one_hot = pd.get_dummies(data_sample, columns=non_numeric_cols, drop_first=True)\n",
    "        \n",
    "        X = data_one_hot.drop('PARTY_CODE', axis=1)\n",
    "        y = data_one_hot['PARTY_CODE']\n",
    "        \n",
    "        X_train, X_test, y_train, y_test = train_test_split(X, y, test_size=0.2, random_state=42, stratify=y)\n",
    "        \n",
    "        # Handle special characters in column names that XGBoost doesn't like\n",
    "        X_train.columns = X_train.columns.str.replace('[', '_').str.replace(']', '_').str.replace('<', '_')\n",
    "        X_test.columns = X_test.columns.str.replace('[', '_').str.replace(']', '_').str.replace('<', '_')\n",
    "        \n",
    "        xgb = XGBClassifier(objective='multi:softmax', random_state=42)\n",
    "        xgb.fit(X_train, y_train)\n",
    "        \n",
    "        # Print feature importances\n",
    "        feature_importances = xgb.feature_importances_\n",
    "        sorted_idx = feature_importances.argsort()[::-1][:top_N_features]\n",
    "        print(\"Top 10 Important Features and Their Importances for Run {}: \".format(run))\n",
    "        for index in sorted_idx:\n",
    "            print(f\"{X_train.columns[index]}: {feature_importances[index]}\")\n",
    "\n",
    "\n",
    "        y_pred = xgb.predict(X_test)\n",
    "        accuracy = accuracy_score(y_test, y_pred)\n",
    "        f1 = f1_score(y_test, y_pred, average=None)\n",
    "        recall = recall_score(y_test, y_pred, average=None)\n",
    "\n",
    "        print(f\"Run {run} - Accuracy: {accuracy}, F1 Score: {f1}, Recall: {recall}\")\n",
    "\n",
    "        feature_importances = xgb.feature_importances_\n",
    "        sorted_idx = feature_importances.argsort()[::-1][:top_N_features]\n",
    "        top_features = X.columns[sorted_idx].tolist()\n",
    "\n",
    "        results_list.append({\n",
    "            'Run': run,\n",
    "            'Accuracy': accuracy,\n",
    "            'F1_Score': f1,\n",
    "            'Recall': recall,\n",
    "            'Top_N_Features': top_features\n",
    "        })\n",
    "\n",
    "    results_df = pd.DataFrame(results_list)\n",
    "    \n",
    "    return results_df\n",
    "\n",
    "# Assuming engineered_data is already defined\n",
    "result = run_xgboost_all_columns(final_data, sample_size=250000, num_runs=1, top_N_features=10)\n",
    "result"
   ]
  },
  {
   "cell_type": "code",
   "execution_count": null,
   "id": "dd542e2afd99388",
   "metadata": {
    "ExecuteTime": {
     "end_time": "2023-10-15T20:23:35.451913Z",
     "start_time": "2023-10-15T20:23:35.448717Z"
    },
    "collapsed": false,
    "jupyter": {
     "outputs_hidden": false
    }
   },
   "outputs": [],
   "source": [
    "result['Top_N_Features']"
   ]
  },
  {
   "cell_type": "code",
   "execution_count": null,
   "id": "5380f10452a0318f",
   "metadata": {
    "ExecuteTime": {
     "start_time": "2023-10-15T20:23:35.449826Z"
    },
    "collapsed": false,
    "jupyter": {
     "outputs_hidden": false
    }
   },
   "outputs": [],
   "source": [
    "@timer_decorator\n",
    "def run_xgboost_all_columns(data, sample_size=10000, num_runs=1, top_N_features=10):\n",
    "    results_list = []\n",
    "    all_features = [col for col in data.columns if col != 'INFER_PARTY']\n",
    "    \n",
    "    for exclude_feature in all_features:\n",
    "        for run in range(1, num_runs + 1):\n",
    "            data_with_all_columns = data.copy()\n",
    "            data_with_all_columns = data_with_all_columns[data_with_all_columns['INFER_PARTY'].notna()]\n",
    "            if 'PARTY_CODE' in data_with_all_columns.columns:\n",
    "                data_with_all_columns.drop('PARTY_CODE', axis=1, inplace=True)\n",
    "            \n",
    "            data_sample = data_with_all_columns.sample(n=sample_size, random_state=42)\n",
    "            \n",
    "            class_counts = data_sample['INFER_PARTY'].value_counts()\n",
    "            valid_classes = class_counts[class_counts >= 2].index.tolist()\n",
    "            data_sample = data_sample[data_sample['INFER_PARTY'].isin(valid_classes)]\n",
    "            \n",
    "            le = LabelEncoder()\n",
    "            data_sample['INFER_PARTY'] = le.fit_transform(data_sample['INFER_PARTY'].astype(str))\n",
    "            \n",
    "            if len(data_sample['INFER_PARTY'].unique()) < 2:\n",
    "                continue\n",
    "            \n",
    "            numeric_cols = data_sample.select_dtypes(include=['int64', 'float64']).columns.difference(['INFER_PARTY'])\n",
    "            non_numeric_cols = data_sample.select_dtypes(exclude=['int64', 'float64']).columns.difference(['INFER_PARTY'])\n",
    "            \n",
    "            data_one_hot = pd.get_dummies(data_sample[non_numeric_cols], drop_first=True)\n",
    "            \n",
    "            final_data = pd.concat([data_one_hot, data_sample[numeric_cols], data_sample['INFER_PARTY']], axis=1)\n",
    "            \n",
    "            # Remove unsupported characters in feature names\n",
    "            final_data.columns = final_data.columns.str.replace('[', '_').str.replace(']', '_').str.replace('<', '_')\n",
    "            \n",
    "            final_data = final_data.drop(columns=[exclude_feature], errors='ignore')\n",
    "\n",
    "            X = final_data.drop('INFER_PARTY', axis=1)\n",
    "            y = final_data['INFER_PARTY']\n",
    "            \n",
    "            X_train, X_test, y_train, y_test = train_test_split(X, y, test_size=0.2, random_state=42, stratify=y)\n",
    "            \n",
    "            xgb = XGBClassifier(objective='multi:softmax', num_class=len(valid_classes), random_state=42)\n",
    "            xgb.fit(X_train, y_train)\n",
    "            \n",
    "            y_pred = xgb.predict(X_test)\n",
    "            accuracy = accuracy_score(y_test, y_pred)\n",
    "            f1 = f1_score(y_test, y_pred)\n",
    "            recall = recall_score(y_test, y_pred)\n",
    "\n",
    "            feature_importances = xgb.feature_importances_\n",
    "            sorted_idx = feature_importances.argsort()[::-1][:top_N_features]\n",
    "            top_features = X.columns[sorted_idx].tolist()\n",
    "\n",
    "            results_list.append({\n",
    "                'Run': run,\n",
    "                'Excluded_Feature': exclude_feature,\n",
    "                'Accuracy': accuracy,\n",
    "                'F1_Score': f1,\n",
    "                'Recall': recall,\n",
    "                'Top_N_Features': top_features\n",
    "            })\n",
    "\n",
    "    result_ablation = pd.DataFrame(results_list)\n",
    "    return result_ablation\n",
    "\n",
    "# Assuming engineered_data is already defined\n",
    "result_ablation_infer_party = run_xgboost_all_columns(final_data, sample_size=10000, num_runs=1, top_N_features=20)"
   ]
  },
  {
   "cell_type": "code",
   "execution_count": null,
   "id": "baa3e831fd9573c3",
   "metadata": {
    "ExecuteTime": {
     "start_time": "2023-10-15T18:34:21.216709Z"
    },
    "collapsed": false,
    "jupyter": {
     "outputs_hidden": false
    }
   },
   "outputs": [],
   "source": [
    "result_ablation_infer_party"
   ]
  },
  {
   "cell_type": "code",
   "execution_count": null,
   "id": "1a7ca8abe3b48536",
   "metadata": {
    "ExecuteTime": {
     "end_time": "2023-10-15T18:34:21.218835Z",
     "start_time": "2023-10-15T18:34:21.217992Z"
    },
    "collapsed": false,
    "jupyter": {
     "outputs_hidden": false
    }
   },
   "outputs": [],
   "source": [
    "result_ablation_infer_party.to_csv('/Users/nirugidla/Documents/GitHub/milestone2_MADS/result_ablation_infer_party_df.csv', index=False)"
   ]
  },
  {
   "cell_type": "code",
   "execution_count": 29,
   "id": "e1da376c964407c2",
   "metadata": {
    "ExecuteTime": {
     "end_time": "2023-10-15T19:19:09.515438Z",
     "start_time": "2023-10-15T19:19:09.443561Z"
    },
    "collapsed": false,
    "jupyter": {
     "outputs_hidden": false
    }
   },
   "outputs": [
    {
     "data": {
      "text/html": [
       "<div>                            <div id=\"8e4966df-42da-4d98-a58a-f00c647026c1\" class=\"plotly-graph-div\" style=\"height:525px; width:100%;\"></div>            <script type=\"text/javascript\">                require([\"plotly\"], function(Plotly) {                    window.PLOTLYENV=window.PLOTLYENV || {};                                    if (document.getElementById(\"8e4966df-42da-4d98-a58a-f00c647026c1\")) {                    Plotly.newPlot(                        \"8e4966df-42da-4d98-a58a-f00c647026c1\",                        [{\"hovertemplate\":\"Excluded_Feature=%{x}\\u003cbr\\u003eAccuracy=%{y}\\u003cextra\\u003e\\u003c\\u002fextra\\u003e\",\"legendgroup\":\"\",\"line\":{\"color\":\"#636efa\",\"dash\":\"solid\"},\"marker\":{\"symbol\":\"circle\"},\"mode\":\"lines\",\"name\":\"\",\"orientation\":\"v\",\"showlegend\":false,\"x\":[\"ADD_TYPE\",\"AFAMPROFLS\",\"AIRCOND\",\"APP_CHILD\",\"APP_MENBIG\",\"APP_TODDLR\",\"APP_WOMEN\",\"APP_WOMPET\",\"APP_WOMPLS\",\"APP_YNGMEN\",\"ARTS\",\"ASSMLCODE\",\"AUTOACCES\",\"AUTOWORK\",\"BOATING\",\"BROADERLIV\",\"BUS_OWNER\",\"CARDUSER\",\"CATOWNER\",\"CENSUS_ST\",\"CENSUS_TRK\",\"CH_0002FEM\",\"CH_0002MAL\",\"CH_0002UNK\",\"CH_0305FEM\",\"CH_0305MAL\",\"CH_0305UNK\",\"CH_0610FEM\",\"CH_0610MAL\",\"CH_0610UNK\",\"CH_1115FEM\",\"CH_1115MAL\",\"CH_1115UNK\",\"CH_1617FEM\",\"CH_1617MAL\",\"CH_1617UNK\",\"CHRISTFAM\",\"CNS_MEDINC\",\"CNSUS_PCTB\",\"CNSUS_PCTH\",\"CNSUS_PCTI\",\"CNSUS_PCTM\",\"CNSUS_PCTO\",\"CNSUS_PCTP\",\"COL_ANTIQ\",\"COL_ARTS\",\"COL_COIN\",\"COL_SPORT\",\"COL_STAMP\",\"COMPHOMOFC\",\"COMPUTERS\",\"CONG_DIST\",\"COOK_GEN\",\"COUNTY_ST\",\"COUNTY_TYPE\",\"CRD_RANGE\",\"CREDRATE\",\"CURRAFFAIR\",\"DEPTSTCRD\",\"DIETING\",\"DIYLIV\",\"DOGOWNER\",\"DON_ANML\",\"DON_ARTCUL\",\"DON_CHARIT\",\"DON_CHILD\",\"DON_ENVIR\",\"DON_ENVWLD\",\"DON_HEALTH\",\"DON_INTAID\",\"DON_OTHER\",\"DON_POLIT\",\"DON_RELIG\",\"DON_VET\",\"DONATION\",\"EDU_ONLINE\",\"EDUCATION\",\"EQUESTRIAN\",\"ETHNIC_INFER\",\"ETHNICCODE\",\"ETHNICCONF\",\"ETHNICGRP\",\"EXER_GROUP\",\"GAMING\",\"GARDENER\",\"GENDER_MIX\",\"GENERATION\",\"GOLF\",\"GRANDCHLD\",\"HEALTHBEAU\",\"HEATHMED\",\"HH_NUMGEN\",\"HH_SENIOR\",\"HH_SIZE\",\"HH_VETERAN\",\"HH_YOUNGAD\",\"HIGHBROW\",\"HIGHENDAPP\",\"HISTMIL\",\"HITECHLIV\",\"HOME_DECOR\",\"HOMEMKTVAL\",\"HOMEOFFICE\",\"HOMEOWNER\",\"HOMEOWNRNT\",\"HUNTING\",\"HUNTSHOOT\",\"INCOMESTHH\",\"INV_ACTIVE\",\"LANGUAGE\",\"LENGTH_RES\",\"LIFESTAGE_CLUSTER\",\"MAIL_DONOR\",\"MAILORDBUY\",\"MAILORDRSP\",\"MOTORCYCLE\",\"NASCAR\",\"NETWORTH\",\"NUMCHILD\",\"OCCDETAIL\",\"OCCUPATION\",\"PARENTING\",\"PARTY_CODE\",\"PERSONS_HH\",\"PETS\",\"POOL\",\"PRESENCHLD\",\"PRFL_ACTIVE_MIL\",\"PRFL_AMZN_PRIME\",\"PRFL_ANML_RIGHTS\",\"PRFL_EDUCATION\",\"PRFL_ENVIRONMENT\",\"PRFL_EVANGELICAL\",\"PRFL_HEALTHCARE\",\"PRFL_INFLUENCER\",\"PRFL_INSURANCE\",\"PRFL_LABOR\",\"PRFL_MIL_SUPPORT\",\"PRFL_TAXES\",\"PRFL_TEACHERS_UNION\",\"PRFL_VETERAN\",\"RD_FINNEWS\",\"RD_GEN\",\"RD_RELIG\",\"RD_SCIFI\",\"RELIGINSP\",\"RELIGION\",\"SCISPACE\",\"SCUBADIVER\",\"SELFIMP\",\"SEX\",\"SINGPARENT\",\"SMOKING\",\"SPEC_AUTO\",\"SPEC_BASE\",\"SPEC_BASK\",\"SPEC_FOOT\",\"SPEC_HOCK\",\"SPEC_SOCC\",\"SPORTLEIS\",\"ST_LO_HOUS\",\"ST_UP_HOUS\",\"STATE\",\"STATUS\",\"SWEEPSTAKE\",\"TELECOM\",\"TENNIS\",\"THEATER\",\"TOD_PRES_D_2016\",\"TOD_PRES_D_2016_PREC\",\"TOD_PRES_D_2020_PREC\",\"TOD_PRES_DIFF_2016\",\"TOD_PRES_DIFF_2016_PREC\",\"TOD_PRES_DIFF_2020_PREC\",\"TOD_PRES_O_2016\",\"TOD_PRES_O_2016_PREC\",\"TOD_PRES_O_2020_PREC\",\"TOD_PRES_R_2016\",\"TOD_PRES_R_2016_PREC\",\"TOD_PRES_R_2020_PREC\",\"TRAIL_CNT\",\"TRAVEL\",\"VOTER_CNT\",\"VOTER_TRLR\",\"VP_GEN\",\"VP_OTH\",\"VP_PRI\",\"WORKWOMAN\",\"YEARBUILT\"],\"xaxis\":\"x\",\"y\":[0.727,0.727,0.727,0.727,0.727,0.727,0.727,0.727,0.727,0.727,0.727,0.727,0.727,0.727,0.727,0.727,0.727,0.727,0.727,0.727,0.72,0.727,0.727,0.727,0.727,0.727,0.727,0.727,0.727,0.727,0.727,0.727,0.727,0.727,0.727,0.727,0.727,0.727,0.7225,0.716,0.7205,0.725,0.7285,0.7175,0.727,0.727,0.727,0.727,0.727,0.727,0.727,0.727,0.727,0.727,0.727,0.727,0.727,0.727,0.727,0.727,0.727,0.727,0.727,0.727,0.727,0.727,0.727,0.727,0.727,0.727,0.727,0.727,0.727,0.727,0.727,0.727,0.727,0.727,0.727,0.727,0.727,0.727,0.727,0.727,0.727,0.727,0.727,0.727,0.727,0.727,0.727,0.727,0.727,0.727,0.727,0.727,0.727,0.727,0.727,0.727,0.727,0.727,0.727,0.727,0.727,0.727,0.727,0.727,0.727,0.727,0.727,0.727,0.727,0.727,0.727,0.727,0.727,0.727,0.727,0.727,0.727,0.727,0.727,0.727,0.727,0.727,0.727,0.727,0.727,0.727,0.727,0.727,0.727,0.727,0.727,0.727,0.727,0.727,0.727,0.727,0.727,0.727,0.727,0.727,0.727,0.727,0.727,0.727,0.727,0.727,0.727,0.727,0.727,0.727,0.727,0.727,0.727,0.727,0.727,0.727,0.727,0.727,0.727,0.727,0.727,0.727,0.727,0.727,0.724,0.7305,0.727,0.727,0.727,0.727,0.725,0.7325,0.721,0.7215,0.727,0.7325,0.7225,0.727,0.727,0.727,0.725,0.718,0.735,0.727,0.727],\"yaxis\":\"y\",\"type\":\"scatter\"}],                        {\"template\":{\"data\":{\"histogram2dcontour\":[{\"type\":\"histogram2dcontour\",\"colorbar\":{\"outlinewidth\":0,\"ticks\":\"\"},\"colorscale\":[[0.0,\"#0d0887\"],[0.1111111111111111,\"#46039f\"],[0.2222222222222222,\"#7201a8\"],[0.3333333333333333,\"#9c179e\"],[0.4444444444444444,\"#bd3786\"],[0.5555555555555556,\"#d8576b\"],[0.6666666666666666,\"#ed7953\"],[0.7777777777777778,\"#fb9f3a\"],[0.8888888888888888,\"#fdca26\"],[1.0,\"#f0f921\"]]}],\"choropleth\":[{\"type\":\"choropleth\",\"colorbar\":{\"outlinewidth\":0,\"ticks\":\"\"}}],\"histogram2d\":[{\"type\":\"histogram2d\",\"colorbar\":{\"outlinewidth\":0,\"ticks\":\"\"},\"colorscale\":[[0.0,\"#0d0887\"],[0.1111111111111111,\"#46039f\"],[0.2222222222222222,\"#7201a8\"],[0.3333333333333333,\"#9c179e\"],[0.4444444444444444,\"#bd3786\"],[0.5555555555555556,\"#d8576b\"],[0.6666666666666666,\"#ed7953\"],[0.7777777777777778,\"#fb9f3a\"],[0.8888888888888888,\"#fdca26\"],[1.0,\"#f0f921\"]]}],\"heatmap\":[{\"type\":\"heatmap\",\"colorbar\":{\"outlinewidth\":0,\"ticks\":\"\"},\"colorscale\":[[0.0,\"#0d0887\"],[0.1111111111111111,\"#46039f\"],[0.2222222222222222,\"#7201a8\"],[0.3333333333333333,\"#9c179e\"],[0.4444444444444444,\"#bd3786\"],[0.5555555555555556,\"#d8576b\"],[0.6666666666666666,\"#ed7953\"],[0.7777777777777778,\"#fb9f3a\"],[0.8888888888888888,\"#fdca26\"],[1.0,\"#f0f921\"]]}],\"heatmapgl\":[{\"type\":\"heatmapgl\",\"colorbar\":{\"outlinewidth\":0,\"ticks\":\"\"},\"colorscale\":[[0.0,\"#0d0887\"],[0.1111111111111111,\"#46039f\"],[0.2222222222222222,\"#7201a8\"],[0.3333333333333333,\"#9c179e\"],[0.4444444444444444,\"#bd3786\"],[0.5555555555555556,\"#d8576b\"],[0.6666666666666666,\"#ed7953\"],[0.7777777777777778,\"#fb9f3a\"],[0.8888888888888888,\"#fdca26\"],[1.0,\"#f0f921\"]]}],\"contourcarpet\":[{\"type\":\"contourcarpet\",\"colorbar\":{\"outlinewidth\":0,\"ticks\":\"\"}}],\"contour\":[{\"type\":\"contour\",\"colorbar\":{\"outlinewidth\":0,\"ticks\":\"\"},\"colorscale\":[[0.0,\"#0d0887\"],[0.1111111111111111,\"#46039f\"],[0.2222222222222222,\"#7201a8\"],[0.3333333333333333,\"#9c179e\"],[0.4444444444444444,\"#bd3786\"],[0.5555555555555556,\"#d8576b\"],[0.6666666666666666,\"#ed7953\"],[0.7777777777777778,\"#fb9f3a\"],[0.8888888888888888,\"#fdca26\"],[1.0,\"#f0f921\"]]}],\"surface\":[{\"type\":\"surface\",\"colorbar\":{\"outlinewidth\":0,\"ticks\":\"\"},\"colorscale\":[[0.0,\"#0d0887\"],[0.1111111111111111,\"#46039f\"],[0.2222222222222222,\"#7201a8\"],[0.3333333333333333,\"#9c179e\"],[0.4444444444444444,\"#bd3786\"],[0.5555555555555556,\"#d8576b\"],[0.6666666666666666,\"#ed7953\"],[0.7777777777777778,\"#fb9f3a\"],[0.8888888888888888,\"#fdca26\"],[1.0,\"#f0f921\"]]}],\"mesh3d\":[{\"type\":\"mesh3d\",\"colorbar\":{\"outlinewidth\":0,\"ticks\":\"\"}}],\"scatter\":[{\"fillpattern\":{\"fillmode\":\"overlay\",\"size\":10,\"solidity\":0.2},\"type\":\"scatter\"}],\"parcoords\":[{\"type\":\"parcoords\",\"line\":{\"colorbar\":{\"outlinewidth\":0,\"ticks\":\"\"}}}],\"scatterpolargl\":[{\"type\":\"scatterpolargl\",\"marker\":{\"colorbar\":{\"outlinewidth\":0,\"ticks\":\"\"}}}],\"bar\":[{\"error_x\":{\"color\":\"#2a3f5f\"},\"error_y\":{\"color\":\"#2a3f5f\"},\"marker\":{\"line\":{\"color\":\"#E5ECF6\",\"width\":0.5},\"pattern\":{\"fillmode\":\"overlay\",\"size\":10,\"solidity\":0.2}},\"type\":\"bar\"}],\"scattergeo\":[{\"type\":\"scattergeo\",\"marker\":{\"colorbar\":{\"outlinewidth\":0,\"ticks\":\"\"}}}],\"scatterpolar\":[{\"type\":\"scatterpolar\",\"marker\":{\"colorbar\":{\"outlinewidth\":0,\"ticks\":\"\"}}}],\"histogram\":[{\"marker\":{\"pattern\":{\"fillmode\":\"overlay\",\"size\":10,\"solidity\":0.2}},\"type\":\"histogram\"}],\"scattergl\":[{\"type\":\"scattergl\",\"marker\":{\"colorbar\":{\"outlinewidth\":0,\"ticks\":\"\"}}}],\"scatter3d\":[{\"type\":\"scatter3d\",\"line\":{\"colorbar\":{\"outlinewidth\":0,\"ticks\":\"\"}},\"marker\":{\"colorbar\":{\"outlinewidth\":0,\"ticks\":\"\"}}}],\"scattermapbox\":[{\"type\":\"scattermapbox\",\"marker\":{\"colorbar\":{\"outlinewidth\":0,\"ticks\":\"\"}}}],\"scatterternary\":[{\"type\":\"scatterternary\",\"marker\":{\"colorbar\":{\"outlinewidth\":0,\"ticks\":\"\"}}}],\"scattercarpet\":[{\"type\":\"scattercarpet\",\"marker\":{\"colorbar\":{\"outlinewidth\":0,\"ticks\":\"\"}}}],\"carpet\":[{\"aaxis\":{\"endlinecolor\":\"#2a3f5f\",\"gridcolor\":\"white\",\"linecolor\":\"white\",\"minorgridcolor\":\"white\",\"startlinecolor\":\"#2a3f5f\"},\"baxis\":{\"endlinecolor\":\"#2a3f5f\",\"gridcolor\":\"white\",\"linecolor\":\"white\",\"minorgridcolor\":\"white\",\"startlinecolor\":\"#2a3f5f\"},\"type\":\"carpet\"}],\"table\":[{\"cells\":{\"fill\":{\"color\":\"#EBF0F8\"},\"line\":{\"color\":\"white\"}},\"header\":{\"fill\":{\"color\":\"#C8D4E3\"},\"line\":{\"color\":\"white\"}},\"type\":\"table\"}],\"barpolar\":[{\"marker\":{\"line\":{\"color\":\"#E5ECF6\",\"width\":0.5},\"pattern\":{\"fillmode\":\"overlay\",\"size\":10,\"solidity\":0.2}},\"type\":\"barpolar\"}],\"pie\":[{\"automargin\":true,\"type\":\"pie\"}]},\"layout\":{\"autotypenumbers\":\"strict\",\"colorway\":[\"#636efa\",\"#EF553B\",\"#00cc96\",\"#ab63fa\",\"#FFA15A\",\"#19d3f3\",\"#FF6692\",\"#B6E880\",\"#FF97FF\",\"#FECB52\"],\"font\":{\"color\":\"#2a3f5f\"},\"hovermode\":\"closest\",\"hoverlabel\":{\"align\":\"left\"},\"paper_bgcolor\":\"white\",\"plot_bgcolor\":\"#E5ECF6\",\"polar\":{\"bgcolor\":\"#E5ECF6\",\"angularaxis\":{\"gridcolor\":\"white\",\"linecolor\":\"white\",\"ticks\":\"\"},\"radialaxis\":{\"gridcolor\":\"white\",\"linecolor\":\"white\",\"ticks\":\"\"}},\"ternary\":{\"bgcolor\":\"#E5ECF6\",\"aaxis\":{\"gridcolor\":\"white\",\"linecolor\":\"white\",\"ticks\":\"\"},\"baxis\":{\"gridcolor\":\"white\",\"linecolor\":\"white\",\"ticks\":\"\"},\"caxis\":{\"gridcolor\":\"white\",\"linecolor\":\"white\",\"ticks\":\"\"}},\"coloraxis\":{\"colorbar\":{\"outlinewidth\":0,\"ticks\":\"\"}},\"colorscale\":{\"sequential\":[[0.0,\"#0d0887\"],[0.1111111111111111,\"#46039f\"],[0.2222222222222222,\"#7201a8\"],[0.3333333333333333,\"#9c179e\"],[0.4444444444444444,\"#bd3786\"],[0.5555555555555556,\"#d8576b\"],[0.6666666666666666,\"#ed7953\"],[0.7777777777777778,\"#fb9f3a\"],[0.8888888888888888,\"#fdca26\"],[1.0,\"#f0f921\"]],\"sequentialminus\":[[0.0,\"#0d0887\"],[0.1111111111111111,\"#46039f\"],[0.2222222222222222,\"#7201a8\"],[0.3333333333333333,\"#9c179e\"],[0.4444444444444444,\"#bd3786\"],[0.5555555555555556,\"#d8576b\"],[0.6666666666666666,\"#ed7953\"],[0.7777777777777778,\"#fb9f3a\"],[0.8888888888888888,\"#fdca26\"],[1.0,\"#f0f921\"]],\"diverging\":[[0,\"#8e0152\"],[0.1,\"#c51b7d\"],[0.2,\"#de77ae\"],[0.3,\"#f1b6da\"],[0.4,\"#fde0ef\"],[0.5,\"#f7f7f7\"],[0.6,\"#e6f5d0\"],[0.7,\"#b8e186\"],[0.8,\"#7fbc41\"],[0.9,\"#4d9221\"],[1,\"#276419\"]]},\"xaxis\":{\"gridcolor\":\"white\",\"linecolor\":\"white\",\"ticks\":\"\",\"title\":{\"standoff\":15},\"zerolinecolor\":\"white\",\"automargin\":true,\"zerolinewidth\":2},\"yaxis\":{\"gridcolor\":\"white\",\"linecolor\":\"white\",\"ticks\":\"\",\"title\":{\"standoff\":15},\"zerolinecolor\":\"white\",\"automargin\":true,\"zerolinewidth\":2},\"scene\":{\"xaxis\":{\"backgroundcolor\":\"#E5ECF6\",\"gridcolor\":\"white\",\"linecolor\":\"white\",\"showbackground\":true,\"ticks\":\"\",\"zerolinecolor\":\"white\",\"gridwidth\":2},\"yaxis\":{\"backgroundcolor\":\"#E5ECF6\",\"gridcolor\":\"white\",\"linecolor\":\"white\",\"showbackground\":true,\"ticks\":\"\",\"zerolinecolor\":\"white\",\"gridwidth\":2},\"zaxis\":{\"backgroundcolor\":\"#E5ECF6\",\"gridcolor\":\"white\",\"linecolor\":\"white\",\"showbackground\":true,\"ticks\":\"\",\"zerolinecolor\":\"white\",\"gridwidth\":2}},\"shapedefaults\":{\"line\":{\"color\":\"#2a3f5f\"}},\"annotationdefaults\":{\"arrowcolor\":\"#2a3f5f\",\"arrowhead\":0,\"arrowwidth\":1},\"geo\":{\"bgcolor\":\"white\",\"landcolor\":\"#E5ECF6\",\"subunitcolor\":\"white\",\"showland\":true,\"showlakes\":true,\"lakecolor\":\"white\"},\"title\":{\"x\":0.05},\"mapbox\":{\"style\":\"light\"}}},\"xaxis\":{\"anchor\":\"y\",\"domain\":[0.0,1.0],\"title\":{\"text\":\"Excluded_Feature\"}},\"yaxis\":{\"anchor\":\"x\",\"domain\":[0.0,1.0],\"title\":{\"text\":\"Accuracy\"}},\"legend\":{\"tracegroupgap\":0},\"title\":{\"text\":\"Accuracy vs Excluded Feature\"}},                        {\"responsive\": true}                    ).then(function(){\n",
       "                            \n",
       "var gd = document.getElementById('8e4966df-42da-4d98-a58a-f00c647026c1');\n",
       "var x = new MutationObserver(function (mutations, observer) {{\n",
       "        var display = window.getComputedStyle(gd).display;\n",
       "        if (!display || display === 'none') {{\n",
       "            console.log([gd, 'removed!']);\n",
       "            Plotly.purge(gd);\n",
       "            observer.disconnect();\n",
       "        }}\n",
       "}});\n",
       "\n",
       "// Listen for the removal of the full notebook cells\n",
       "var notebookContainer = gd.closest('#notebook-container');\n",
       "if (notebookContainer) {{\n",
       "    x.observe(notebookContainer, {childList: true});\n",
       "}}\n",
       "\n",
       "// Listen for the clearing of the current output cell\n",
       "var outputEl = gd.closest('.output');\n",
       "if (outputEl) {{\n",
       "    x.observe(outputEl, {childList: true});\n",
       "}}\n",
       "\n",
       "                        })                };                });            </script>        </div>"
      ]
     },
     "metadata": {},
     "output_type": "display_data"
    },
    {
     "data": {
      "text/html": [
       "<div>                            <div id=\"7dac13bf-a0d1-4e34-8b5e-2a1925db9b02\" class=\"plotly-graph-div\" style=\"height:525px; width:100%;\"></div>            <script type=\"text/javascript\">                require([\"plotly\"], function(Plotly) {                    window.PLOTLYENV=window.PLOTLYENV || {};                                    if (document.getElementById(\"7dac13bf-a0d1-4e34-8b5e-2a1925db9b02\")) {                    Plotly.newPlot(                        \"7dac13bf-a0d1-4e34-8b5e-2a1925db9b02\",                        [{\"hovertemplate\":\"Excluded_Feature=%{x}\\u003cbr\\u003eF1_Score=%{y}\\u003cextra\\u003e\\u003c\\u002fextra\\u003e\",\"legendgroup\":\"\",\"line\":{\"color\":\"#636efa\",\"dash\":\"solid\"},\"marker\":{\"symbol\":\"circle\"},\"mode\":\"lines\",\"name\":\"\",\"orientation\":\"v\",\"showlegend\":false,\"x\":[\"ADD_TYPE\",\"AFAMPROFLS\",\"AIRCOND\",\"APP_CHILD\",\"APP_MENBIG\",\"APP_TODDLR\",\"APP_WOMEN\",\"APP_WOMPET\",\"APP_WOMPLS\",\"APP_YNGMEN\",\"ARTS\",\"ASSMLCODE\",\"AUTOACCES\",\"AUTOWORK\",\"BOATING\",\"BROADERLIV\",\"BUS_OWNER\",\"CARDUSER\",\"CATOWNER\",\"CENSUS_ST\",\"CENSUS_TRK\",\"CH_0002FEM\",\"CH_0002MAL\",\"CH_0002UNK\",\"CH_0305FEM\",\"CH_0305MAL\",\"CH_0305UNK\",\"CH_0610FEM\",\"CH_0610MAL\",\"CH_0610UNK\",\"CH_1115FEM\",\"CH_1115MAL\",\"CH_1115UNK\",\"CH_1617FEM\",\"CH_1617MAL\",\"CH_1617UNK\",\"CHRISTFAM\",\"CNS_MEDINC\",\"CNSUS_PCTB\",\"CNSUS_PCTH\",\"CNSUS_PCTI\",\"CNSUS_PCTM\",\"CNSUS_PCTO\",\"CNSUS_PCTP\",\"COL_ANTIQ\",\"COL_ARTS\",\"COL_COIN\",\"COL_SPORT\",\"COL_STAMP\",\"COMPHOMOFC\",\"COMPUTERS\",\"CONG_DIST\",\"COOK_GEN\",\"COUNTY_ST\",\"COUNTY_TYPE\",\"CRD_RANGE\",\"CREDRATE\",\"CURRAFFAIR\",\"DEPTSTCRD\",\"DIETING\",\"DIYLIV\",\"DOGOWNER\",\"DON_ANML\",\"DON_ARTCUL\",\"DON_CHARIT\",\"DON_CHILD\",\"DON_ENVIR\",\"DON_ENVWLD\",\"DON_HEALTH\",\"DON_INTAID\",\"DON_OTHER\",\"DON_POLIT\",\"DON_RELIG\",\"DON_VET\",\"DONATION\",\"EDU_ONLINE\",\"EDUCATION\",\"EQUESTRIAN\",\"ETHNIC_INFER\",\"ETHNICCODE\",\"ETHNICCONF\",\"ETHNICGRP\",\"EXER_GROUP\",\"GAMING\",\"GARDENER\",\"GENDER_MIX\",\"GENERATION\",\"GOLF\",\"GRANDCHLD\",\"HEALTHBEAU\",\"HEATHMED\",\"HH_NUMGEN\",\"HH_SENIOR\",\"HH_SIZE\",\"HH_VETERAN\",\"HH_YOUNGAD\",\"HIGHBROW\",\"HIGHENDAPP\",\"HISTMIL\",\"HITECHLIV\",\"HOME_DECOR\",\"HOMEMKTVAL\",\"HOMEOFFICE\",\"HOMEOWNER\",\"HOMEOWNRNT\",\"HUNTING\",\"HUNTSHOOT\",\"INCOMESTHH\",\"INV_ACTIVE\",\"LANGUAGE\",\"LENGTH_RES\",\"LIFESTAGE_CLUSTER\",\"MAIL_DONOR\",\"MAILORDBUY\",\"MAILORDRSP\",\"MOTORCYCLE\",\"NASCAR\",\"NETWORTH\",\"NUMCHILD\",\"OCCDETAIL\",\"OCCUPATION\",\"PARENTING\",\"PARTY_CODE\",\"PERSONS_HH\",\"PETS\",\"POOL\",\"PRESENCHLD\",\"PRFL_ACTIVE_MIL\",\"PRFL_AMZN_PRIME\",\"PRFL_ANML_RIGHTS\",\"PRFL_EDUCATION\",\"PRFL_ENVIRONMENT\",\"PRFL_EVANGELICAL\",\"PRFL_HEALTHCARE\",\"PRFL_INFLUENCER\",\"PRFL_INSURANCE\",\"PRFL_LABOR\",\"PRFL_MIL_SUPPORT\",\"PRFL_TAXES\",\"PRFL_TEACHERS_UNION\",\"PRFL_VETERAN\",\"RD_FINNEWS\",\"RD_GEN\",\"RD_RELIG\",\"RD_SCIFI\",\"RELIGINSP\",\"RELIGION\",\"SCISPACE\",\"SCUBADIVER\",\"SELFIMP\",\"SEX\",\"SINGPARENT\",\"SMOKING\",\"SPEC_AUTO\",\"SPEC_BASE\",\"SPEC_BASK\",\"SPEC_FOOT\",\"SPEC_HOCK\",\"SPEC_SOCC\",\"SPORTLEIS\",\"ST_LO_HOUS\",\"ST_UP_HOUS\",\"STATE\",\"STATUS\",\"SWEEPSTAKE\",\"TELECOM\",\"TENNIS\",\"THEATER\",\"TOD_PRES_D_2016\",\"TOD_PRES_D_2016_PREC\",\"TOD_PRES_D_2020_PREC\",\"TOD_PRES_DIFF_2016\",\"TOD_PRES_DIFF_2016_PREC\",\"TOD_PRES_DIFF_2020_PREC\",\"TOD_PRES_O_2016\",\"TOD_PRES_O_2016_PREC\",\"TOD_PRES_O_2020_PREC\",\"TOD_PRES_R_2016\",\"TOD_PRES_R_2016_PREC\",\"TOD_PRES_R_2020_PREC\",\"TRAIL_CNT\",\"TRAVEL\",\"VOTER_CNT\",\"VOTER_TRLR\",\"VP_GEN\",\"VP_OTH\",\"VP_PRI\",\"WORKWOMAN\",\"YEARBUILT\"],\"xaxis\":\"x\",\"y\":[0.7048648648648648,0.7048648648648648,0.7048648648648648,0.7048648648648648,0.7048648648648648,0.7048648648648648,0.7048648648648648,0.7048648648648648,0.7048648648648648,0.7048648648648648,0.7048648648648648,0.7048648648648648,0.7048648648648648,0.7048648648648648,0.7048648648648648,0.7048648648648648,0.7048648648648648,0.7048648648648648,0.7048648648648648,0.7048648648648648,0.7024442082890542,0.7048648648648648,0.7048648648648648,0.7048648648648648,0.7048648648648648,0.7048648648648648,0.7048648648648648,0.7048648648648648,0.7048648648648648,0.7048648648648648,0.7048648648648648,0.7048648648648648,0.7048648648648648,0.7048648648648648,0.7048648648648648,0.7048648648648648,0.7048648648648648,0.7048648648648648,0.7046301224055349,0.6949516648764769,0.7012292891501871,0.708686440677966,0.7103999999999999,0.7021613073273589,0.7048648648648648,0.7048648648648648,0.7048648648648648,0.7048648648648648,0.7048648648648648,0.7048648648648648,0.7048648648648648,0.7048648648648648,0.7048648648648648,0.7048648648648648,0.7048648648648648,0.7048648648648648,0.7048648648648648,0.7048648648648648,0.7048648648648648,0.7048648648648648,0.7048648648648648,0.7048648648648648,0.7048648648648648,0.7048648648648648,0.7048648648648648,0.7048648648648648,0.7048648648648648,0.7048648648648648,0.7048648648648648,0.7048648648648648,0.7048648648648648,0.7048648648648648,0.7048648648648648,0.7048648648648648,0.7048648648648648,0.7048648648648648,0.7048648648648648,0.7048648648648648,0.7048648648648648,0.7048648648648648,0.7048648648648648,0.7048648648648648,0.7048648648648648,0.7048648648648648,0.7048648648648648,0.7048648648648648,0.7048648648648648,0.7048648648648648,0.7048648648648648,0.7048648648648648,0.7048648648648648,0.7048648648648648,0.7048648648648648,0.7048648648648648,0.7048648648648648,0.7048648648648648,0.7048648648648648,0.7048648648648648,0.7048648648648648,0.7048648648648648,0.7048648648648648,0.7048648648648648,0.7048648648648648,0.7048648648648648,0.7048648648648648,0.7048648648648648,0.7048648648648648,0.7048648648648648,0.7048648648648648,0.7048648648648648,0.7048648648648648,0.7048648648648648,0.7048648648648648,0.7048648648648648,0.7048648648648648,0.7048648648648648,0.7048648648648648,0.7048648648648648,0.7048648648648648,0.7048648648648648,0.7048648648648648,0.7048648648648648,0.7048648648648648,0.7048648648648648,0.7048648648648648,0.7048648648648648,0.7048648648648648,0.7048648648648648,0.7048648648648648,0.7048648648648648,0.7048648648648648,0.7048648648648648,0.7048648648648648,0.7048648648648648,0.7048648648648648,0.7048648648648648,0.7048648648648648,0.7048648648648648,0.7048648648648648,0.7048648648648648,0.7048648648648648,0.7048648648648648,0.7048648648648648,0.7048648648648648,0.7048648648648648,0.7048648648648648,0.7048648648648648,0.7048648648648648,0.7048648648648648,0.7048648648648648,0.7048648648648648,0.7048648648648648,0.7048648648648648,0.7048648648648648,0.7048648648648648,0.7048648648648648,0.7048648648648648,0.7048648648648648,0.7048648648648648,0.7048648648648648,0.7048648648648648,0.7048648648648648,0.7048648648648648,0.7048648648648648,0.7048648648648648,0.7048648648648648,0.7048648648648648,0.7048648648648648,0.7063829787234043,0.7149656266525647,0.7092651757188498,0.7048648648648648,0.7048648648648648,0.7048648648648648,0.7068230277185501,0.7155768208399786,0.7060063224446785,0.7054468535166578,0.7135362014690452,0.7155768208399786,0.7024128686327078,0.7048648648648648,0.7048648648648648,0.7048648648648648,0.7099156118143459,0.6974248927038627,0.7174840085287845,0.7048648648648648,0.7048648648648648],\"yaxis\":\"y\",\"type\":\"scatter\"}],                        {\"template\":{\"data\":{\"histogram2dcontour\":[{\"type\":\"histogram2dcontour\",\"colorbar\":{\"outlinewidth\":0,\"ticks\":\"\"},\"colorscale\":[[0.0,\"#0d0887\"],[0.1111111111111111,\"#46039f\"],[0.2222222222222222,\"#7201a8\"],[0.3333333333333333,\"#9c179e\"],[0.4444444444444444,\"#bd3786\"],[0.5555555555555556,\"#d8576b\"],[0.6666666666666666,\"#ed7953\"],[0.7777777777777778,\"#fb9f3a\"],[0.8888888888888888,\"#fdca26\"],[1.0,\"#f0f921\"]]}],\"choropleth\":[{\"type\":\"choropleth\",\"colorbar\":{\"outlinewidth\":0,\"ticks\":\"\"}}],\"histogram2d\":[{\"type\":\"histogram2d\",\"colorbar\":{\"outlinewidth\":0,\"ticks\":\"\"},\"colorscale\":[[0.0,\"#0d0887\"],[0.1111111111111111,\"#46039f\"],[0.2222222222222222,\"#7201a8\"],[0.3333333333333333,\"#9c179e\"],[0.4444444444444444,\"#bd3786\"],[0.5555555555555556,\"#d8576b\"],[0.6666666666666666,\"#ed7953\"],[0.7777777777777778,\"#fb9f3a\"],[0.8888888888888888,\"#fdca26\"],[1.0,\"#f0f921\"]]}],\"heatmap\":[{\"type\":\"heatmap\",\"colorbar\":{\"outlinewidth\":0,\"ticks\":\"\"},\"colorscale\":[[0.0,\"#0d0887\"],[0.1111111111111111,\"#46039f\"],[0.2222222222222222,\"#7201a8\"],[0.3333333333333333,\"#9c179e\"],[0.4444444444444444,\"#bd3786\"],[0.5555555555555556,\"#d8576b\"],[0.6666666666666666,\"#ed7953\"],[0.7777777777777778,\"#fb9f3a\"],[0.8888888888888888,\"#fdca26\"],[1.0,\"#f0f921\"]]}],\"heatmapgl\":[{\"type\":\"heatmapgl\",\"colorbar\":{\"outlinewidth\":0,\"ticks\":\"\"},\"colorscale\":[[0.0,\"#0d0887\"],[0.1111111111111111,\"#46039f\"],[0.2222222222222222,\"#7201a8\"],[0.3333333333333333,\"#9c179e\"],[0.4444444444444444,\"#bd3786\"],[0.5555555555555556,\"#d8576b\"],[0.6666666666666666,\"#ed7953\"],[0.7777777777777778,\"#fb9f3a\"],[0.8888888888888888,\"#fdca26\"],[1.0,\"#f0f921\"]]}],\"contourcarpet\":[{\"type\":\"contourcarpet\",\"colorbar\":{\"outlinewidth\":0,\"ticks\":\"\"}}],\"contour\":[{\"type\":\"contour\",\"colorbar\":{\"outlinewidth\":0,\"ticks\":\"\"},\"colorscale\":[[0.0,\"#0d0887\"],[0.1111111111111111,\"#46039f\"],[0.2222222222222222,\"#7201a8\"],[0.3333333333333333,\"#9c179e\"],[0.4444444444444444,\"#bd3786\"],[0.5555555555555556,\"#d8576b\"],[0.6666666666666666,\"#ed7953\"],[0.7777777777777778,\"#fb9f3a\"],[0.8888888888888888,\"#fdca26\"],[1.0,\"#f0f921\"]]}],\"surface\":[{\"type\":\"surface\",\"colorbar\":{\"outlinewidth\":0,\"ticks\":\"\"},\"colorscale\":[[0.0,\"#0d0887\"],[0.1111111111111111,\"#46039f\"],[0.2222222222222222,\"#7201a8\"],[0.3333333333333333,\"#9c179e\"],[0.4444444444444444,\"#bd3786\"],[0.5555555555555556,\"#d8576b\"],[0.6666666666666666,\"#ed7953\"],[0.7777777777777778,\"#fb9f3a\"],[0.8888888888888888,\"#fdca26\"],[1.0,\"#f0f921\"]]}],\"mesh3d\":[{\"type\":\"mesh3d\",\"colorbar\":{\"outlinewidth\":0,\"ticks\":\"\"}}],\"scatter\":[{\"fillpattern\":{\"fillmode\":\"overlay\",\"size\":10,\"solidity\":0.2},\"type\":\"scatter\"}],\"parcoords\":[{\"type\":\"parcoords\",\"line\":{\"colorbar\":{\"outlinewidth\":0,\"ticks\":\"\"}}}],\"scatterpolargl\":[{\"type\":\"scatterpolargl\",\"marker\":{\"colorbar\":{\"outlinewidth\":0,\"ticks\":\"\"}}}],\"bar\":[{\"error_x\":{\"color\":\"#2a3f5f\"},\"error_y\":{\"color\":\"#2a3f5f\"},\"marker\":{\"line\":{\"color\":\"#E5ECF6\",\"width\":0.5},\"pattern\":{\"fillmode\":\"overlay\",\"size\":10,\"solidity\":0.2}},\"type\":\"bar\"}],\"scattergeo\":[{\"type\":\"scattergeo\",\"marker\":{\"colorbar\":{\"outlinewidth\":0,\"ticks\":\"\"}}}],\"scatterpolar\":[{\"type\":\"scatterpolar\",\"marker\":{\"colorbar\":{\"outlinewidth\":0,\"ticks\":\"\"}}}],\"histogram\":[{\"marker\":{\"pattern\":{\"fillmode\":\"overlay\",\"size\":10,\"solidity\":0.2}},\"type\":\"histogram\"}],\"scattergl\":[{\"type\":\"scattergl\",\"marker\":{\"colorbar\":{\"outlinewidth\":0,\"ticks\":\"\"}}}],\"scatter3d\":[{\"type\":\"scatter3d\",\"line\":{\"colorbar\":{\"outlinewidth\":0,\"ticks\":\"\"}},\"marker\":{\"colorbar\":{\"outlinewidth\":0,\"ticks\":\"\"}}}],\"scattermapbox\":[{\"type\":\"scattermapbox\",\"marker\":{\"colorbar\":{\"outlinewidth\":0,\"ticks\":\"\"}}}],\"scatterternary\":[{\"type\":\"scatterternary\",\"marker\":{\"colorbar\":{\"outlinewidth\":0,\"ticks\":\"\"}}}],\"scattercarpet\":[{\"type\":\"scattercarpet\",\"marker\":{\"colorbar\":{\"outlinewidth\":0,\"ticks\":\"\"}}}],\"carpet\":[{\"aaxis\":{\"endlinecolor\":\"#2a3f5f\",\"gridcolor\":\"white\",\"linecolor\":\"white\",\"minorgridcolor\":\"white\",\"startlinecolor\":\"#2a3f5f\"},\"baxis\":{\"endlinecolor\":\"#2a3f5f\",\"gridcolor\":\"white\",\"linecolor\":\"white\",\"minorgridcolor\":\"white\",\"startlinecolor\":\"#2a3f5f\"},\"type\":\"carpet\"}],\"table\":[{\"cells\":{\"fill\":{\"color\":\"#EBF0F8\"},\"line\":{\"color\":\"white\"}},\"header\":{\"fill\":{\"color\":\"#C8D4E3\"},\"line\":{\"color\":\"white\"}},\"type\":\"table\"}],\"barpolar\":[{\"marker\":{\"line\":{\"color\":\"#E5ECF6\",\"width\":0.5},\"pattern\":{\"fillmode\":\"overlay\",\"size\":10,\"solidity\":0.2}},\"type\":\"barpolar\"}],\"pie\":[{\"automargin\":true,\"type\":\"pie\"}]},\"layout\":{\"autotypenumbers\":\"strict\",\"colorway\":[\"#636efa\",\"#EF553B\",\"#00cc96\",\"#ab63fa\",\"#FFA15A\",\"#19d3f3\",\"#FF6692\",\"#B6E880\",\"#FF97FF\",\"#FECB52\"],\"font\":{\"color\":\"#2a3f5f\"},\"hovermode\":\"closest\",\"hoverlabel\":{\"align\":\"left\"},\"paper_bgcolor\":\"white\",\"plot_bgcolor\":\"#E5ECF6\",\"polar\":{\"bgcolor\":\"#E5ECF6\",\"angularaxis\":{\"gridcolor\":\"white\",\"linecolor\":\"white\",\"ticks\":\"\"},\"radialaxis\":{\"gridcolor\":\"white\",\"linecolor\":\"white\",\"ticks\":\"\"}},\"ternary\":{\"bgcolor\":\"#E5ECF6\",\"aaxis\":{\"gridcolor\":\"white\",\"linecolor\":\"white\",\"ticks\":\"\"},\"baxis\":{\"gridcolor\":\"white\",\"linecolor\":\"white\",\"ticks\":\"\"},\"caxis\":{\"gridcolor\":\"white\",\"linecolor\":\"white\",\"ticks\":\"\"}},\"coloraxis\":{\"colorbar\":{\"outlinewidth\":0,\"ticks\":\"\"}},\"colorscale\":{\"sequential\":[[0.0,\"#0d0887\"],[0.1111111111111111,\"#46039f\"],[0.2222222222222222,\"#7201a8\"],[0.3333333333333333,\"#9c179e\"],[0.4444444444444444,\"#bd3786\"],[0.5555555555555556,\"#d8576b\"],[0.6666666666666666,\"#ed7953\"],[0.7777777777777778,\"#fb9f3a\"],[0.8888888888888888,\"#fdca26\"],[1.0,\"#f0f921\"]],\"sequentialminus\":[[0.0,\"#0d0887\"],[0.1111111111111111,\"#46039f\"],[0.2222222222222222,\"#7201a8\"],[0.3333333333333333,\"#9c179e\"],[0.4444444444444444,\"#bd3786\"],[0.5555555555555556,\"#d8576b\"],[0.6666666666666666,\"#ed7953\"],[0.7777777777777778,\"#fb9f3a\"],[0.8888888888888888,\"#fdca26\"],[1.0,\"#f0f921\"]],\"diverging\":[[0,\"#8e0152\"],[0.1,\"#c51b7d\"],[0.2,\"#de77ae\"],[0.3,\"#f1b6da\"],[0.4,\"#fde0ef\"],[0.5,\"#f7f7f7\"],[0.6,\"#e6f5d0\"],[0.7,\"#b8e186\"],[0.8,\"#7fbc41\"],[0.9,\"#4d9221\"],[1,\"#276419\"]]},\"xaxis\":{\"gridcolor\":\"white\",\"linecolor\":\"white\",\"ticks\":\"\",\"title\":{\"standoff\":15},\"zerolinecolor\":\"white\",\"automargin\":true,\"zerolinewidth\":2},\"yaxis\":{\"gridcolor\":\"white\",\"linecolor\":\"white\",\"ticks\":\"\",\"title\":{\"standoff\":15},\"zerolinecolor\":\"white\",\"automargin\":true,\"zerolinewidth\":2},\"scene\":{\"xaxis\":{\"backgroundcolor\":\"#E5ECF6\",\"gridcolor\":\"white\",\"linecolor\":\"white\",\"showbackground\":true,\"ticks\":\"\",\"zerolinecolor\":\"white\",\"gridwidth\":2},\"yaxis\":{\"backgroundcolor\":\"#E5ECF6\",\"gridcolor\":\"white\",\"linecolor\":\"white\",\"showbackground\":true,\"ticks\":\"\",\"zerolinecolor\":\"white\",\"gridwidth\":2},\"zaxis\":{\"backgroundcolor\":\"#E5ECF6\",\"gridcolor\":\"white\",\"linecolor\":\"white\",\"showbackground\":true,\"ticks\":\"\",\"zerolinecolor\":\"white\",\"gridwidth\":2}},\"shapedefaults\":{\"line\":{\"color\":\"#2a3f5f\"}},\"annotationdefaults\":{\"arrowcolor\":\"#2a3f5f\",\"arrowhead\":0,\"arrowwidth\":1},\"geo\":{\"bgcolor\":\"white\",\"landcolor\":\"#E5ECF6\",\"subunitcolor\":\"white\",\"showland\":true,\"showlakes\":true,\"lakecolor\":\"white\"},\"title\":{\"x\":0.05},\"mapbox\":{\"style\":\"light\"}}},\"xaxis\":{\"anchor\":\"y\",\"domain\":[0.0,1.0],\"title\":{\"text\":\"Excluded_Feature\"}},\"yaxis\":{\"anchor\":\"x\",\"domain\":[0.0,1.0],\"title\":{\"text\":\"F1_Score\"}},\"legend\":{\"tracegroupgap\":0},\"title\":{\"text\":\"F1 Score vs Excluded Feature\"}},                        {\"responsive\": true}                    ).then(function(){\n",
       "                            \n",
       "var gd = document.getElementById('7dac13bf-a0d1-4e34-8b5e-2a1925db9b02');\n",
       "var x = new MutationObserver(function (mutations, observer) {{\n",
       "        var display = window.getComputedStyle(gd).display;\n",
       "        if (!display || display === 'none') {{\n",
       "            console.log([gd, 'removed!']);\n",
       "            Plotly.purge(gd);\n",
       "            observer.disconnect();\n",
       "        }}\n",
       "}});\n",
       "\n",
       "// Listen for the removal of the full notebook cells\n",
       "var notebookContainer = gd.closest('#notebook-container');\n",
       "if (notebookContainer) {{\n",
       "    x.observe(notebookContainer, {childList: true});\n",
       "}}\n",
       "\n",
       "// Listen for the clearing of the current output cell\n",
       "var outputEl = gd.closest('.output');\n",
       "if (outputEl) {{\n",
       "    x.observe(outputEl, {childList: true});\n",
       "}}\n",
       "\n",
       "                        })                };                });            </script>        </div>"
      ]
     },
     "metadata": {},
     "output_type": "display_data"
    },
    {
     "data": {
      "text/html": [
       "<div>                            <div id=\"473d64d3-315f-43f3-84b5-1103089233ea\" class=\"plotly-graph-div\" style=\"height:525px; width:100%;\"></div>            <script type=\"text/javascript\">                require([\"plotly\"], function(Plotly) {                    window.PLOTLYENV=window.PLOTLYENV || {};                                    if (document.getElementById(\"473d64d3-315f-43f3-84b5-1103089233ea\")) {                    Plotly.newPlot(                        \"473d64d3-315f-43f3-84b5-1103089233ea\",                        [{\"hovertemplate\":\"Excluded_Feature=%{x}\\u003cbr\\u003eRecall=%{y}\\u003cextra\\u003e\\u003c\\u002fextra\\u003e\",\"legendgroup\":\"\",\"line\":{\"color\":\"#636efa\",\"dash\":\"solid\"},\"marker\":{\"symbol\":\"circle\"},\"mode\":\"lines\",\"name\":\"\",\"orientation\":\"v\",\"showlegend\":false,\"x\":[\"ADD_TYPE\",\"AFAMPROFLS\",\"AIRCOND\",\"APP_CHILD\",\"APP_MENBIG\",\"APP_TODDLR\",\"APP_WOMEN\",\"APP_WOMPET\",\"APP_WOMPLS\",\"APP_YNGMEN\",\"ARTS\",\"ASSMLCODE\",\"AUTOACCES\",\"AUTOWORK\",\"BOATING\",\"BROADERLIV\",\"BUS_OWNER\",\"CARDUSER\",\"CATOWNER\",\"CENSUS_ST\",\"CENSUS_TRK\",\"CH_0002FEM\",\"CH_0002MAL\",\"CH_0002UNK\",\"CH_0305FEM\",\"CH_0305MAL\",\"CH_0305UNK\",\"CH_0610FEM\",\"CH_0610MAL\",\"CH_0610UNK\",\"CH_1115FEM\",\"CH_1115MAL\",\"CH_1115UNK\",\"CH_1617FEM\",\"CH_1617MAL\",\"CH_1617UNK\",\"CHRISTFAM\",\"CNS_MEDINC\",\"CNSUS_PCTB\",\"CNSUS_PCTH\",\"CNSUS_PCTI\",\"CNSUS_PCTM\",\"CNSUS_PCTO\",\"CNSUS_PCTP\",\"COL_ANTIQ\",\"COL_ARTS\",\"COL_COIN\",\"COL_SPORT\",\"COL_STAMP\",\"COMPHOMOFC\",\"COMPUTERS\",\"CONG_DIST\",\"COOK_GEN\",\"COUNTY_ST\",\"COUNTY_TYPE\",\"CRD_RANGE\",\"CREDRATE\",\"CURRAFFAIR\",\"DEPTSTCRD\",\"DIETING\",\"DIYLIV\",\"DOGOWNER\",\"DON_ANML\",\"DON_ARTCUL\",\"DON_CHARIT\",\"DON_CHILD\",\"DON_ENVIR\",\"DON_ENVWLD\",\"DON_HEALTH\",\"DON_INTAID\",\"DON_OTHER\",\"DON_POLIT\",\"DON_RELIG\",\"DON_VET\",\"DONATION\",\"EDU_ONLINE\",\"EDUCATION\",\"EQUESTRIAN\",\"ETHNIC_INFER\",\"ETHNICCODE\",\"ETHNICCONF\",\"ETHNICGRP\",\"EXER_GROUP\",\"GAMING\",\"GARDENER\",\"GENDER_MIX\",\"GENERATION\",\"GOLF\",\"GRANDCHLD\",\"HEALTHBEAU\",\"HEATHMED\",\"HH_NUMGEN\",\"HH_SENIOR\",\"HH_SIZE\",\"HH_VETERAN\",\"HH_YOUNGAD\",\"HIGHBROW\",\"HIGHENDAPP\",\"HISTMIL\",\"HITECHLIV\",\"HOME_DECOR\",\"HOMEMKTVAL\",\"HOMEOFFICE\",\"HOMEOWNER\",\"HOMEOWNRNT\",\"HUNTING\",\"HUNTSHOOT\",\"INCOMESTHH\",\"INV_ACTIVE\",\"LANGUAGE\",\"LENGTH_RES\",\"LIFESTAGE_CLUSTER\",\"MAIL_DONOR\",\"MAILORDBUY\",\"MAILORDRSP\",\"MOTORCYCLE\",\"NASCAR\",\"NETWORTH\",\"NUMCHILD\",\"OCCDETAIL\",\"OCCUPATION\",\"PARENTING\",\"PARTY_CODE\",\"PERSONS_HH\",\"PETS\",\"POOL\",\"PRESENCHLD\",\"PRFL_ACTIVE_MIL\",\"PRFL_AMZN_PRIME\",\"PRFL_ANML_RIGHTS\",\"PRFL_EDUCATION\",\"PRFL_ENVIRONMENT\",\"PRFL_EVANGELICAL\",\"PRFL_HEALTHCARE\",\"PRFL_INFLUENCER\",\"PRFL_INSURANCE\",\"PRFL_LABOR\",\"PRFL_MIL_SUPPORT\",\"PRFL_TAXES\",\"PRFL_TEACHERS_UNION\",\"PRFL_VETERAN\",\"RD_FINNEWS\",\"RD_GEN\",\"RD_RELIG\",\"RD_SCIFI\",\"RELIGINSP\",\"RELIGION\",\"SCISPACE\",\"SCUBADIVER\",\"SELFIMP\",\"SEX\",\"SINGPARENT\",\"SMOKING\",\"SPEC_AUTO\",\"SPEC_BASE\",\"SPEC_BASK\",\"SPEC_FOOT\",\"SPEC_HOCK\",\"SPEC_SOCC\",\"SPORTLEIS\",\"ST_LO_HOUS\",\"ST_UP_HOUS\",\"STATE\",\"STATUS\",\"SWEEPSTAKE\",\"TELECOM\",\"TENNIS\",\"THEATER\",\"TOD_PRES_D_2016\",\"TOD_PRES_D_2016_PREC\",\"TOD_PRES_D_2020_PREC\",\"TOD_PRES_DIFF_2016\",\"TOD_PRES_DIFF_2016_PREC\",\"TOD_PRES_DIFF_2020_PREC\",\"TOD_PRES_O_2016\",\"TOD_PRES_O_2016_PREC\",\"TOD_PRES_O_2020_PREC\",\"TOD_PRES_R_2016\",\"TOD_PRES_R_2016_PREC\",\"TOD_PRES_R_2020_PREC\",\"TRAIL_CNT\",\"TRAVEL\",\"VOTER_CNT\",\"VOTER_TRLR\",\"VP_GEN\",\"VP_OTH\",\"VP_PRI\",\"WORKWOMAN\",\"YEARBUILT\"],\"xaxis\":\"x\",\"y\":[0.6965811965811965,0.6965811965811965,0.6965811965811965,0.6965811965811965,0.6965811965811965,0.6965811965811965,0.6965811965811965,0.6965811965811965,0.6965811965811965,0.6965811965811965,0.6965811965811965,0.6965811965811965,0.6965811965811965,0.6965811965811965,0.6965811965811965,0.6965811965811965,0.6965811965811965,0.6965811965811965,0.6965811965811965,0.6965811965811965,0.7061965811965812,0.6965811965811965,0.6965811965811965,0.6965811965811965,0.6965811965811965,0.6965811965811965,0.6965811965811965,0.6965811965811965,0.6965811965811965,0.6965811965811965,0.6965811965811965,0.6965811965811965,0.6965811965811965,0.6965811965811965,0.6965811965811965,0.6965811965811965,0.6965811965811965,0.6965811965811965,0.7072649572649573,0.6912393162393162,0.7008547008547008,0.7147435897435898,0.7115384615384616,0.7115384615384616,0.6965811965811965,0.6965811965811965,0.6965811965811965,0.6965811965811965,0.6965811965811965,0.6965811965811965,0.6965811965811965,0.6965811965811965,0.6965811965811965,0.6965811965811965,0.6965811965811965,0.6965811965811965,0.6965811965811965,0.6965811965811965,0.6965811965811965,0.6965811965811965,0.6965811965811965,0.6965811965811965,0.6965811965811965,0.6965811965811965,0.6965811965811965,0.6965811965811965,0.6965811965811965,0.6965811965811965,0.6965811965811965,0.6965811965811965,0.6965811965811965,0.6965811965811965,0.6965811965811965,0.6965811965811965,0.6965811965811965,0.6965811965811965,0.6965811965811965,0.6965811965811965,0.6965811965811965,0.6965811965811965,0.6965811965811965,0.6965811965811965,0.6965811965811965,0.6965811965811965,0.6965811965811965,0.6965811965811965,0.6965811965811965,0.6965811965811965,0.6965811965811965,0.6965811965811965,0.6965811965811965,0.6965811965811965,0.6965811965811965,0.6965811965811965,0.6965811965811965,0.6965811965811965,0.6965811965811965,0.6965811965811965,0.6965811965811965,0.6965811965811965,0.6965811965811965,0.6965811965811965,0.6965811965811965,0.6965811965811965,0.6965811965811965,0.6965811965811965,0.6965811965811965,0.6965811965811965,0.6965811965811965,0.6965811965811965,0.6965811965811965,0.6965811965811965,0.6965811965811965,0.6965811965811965,0.6965811965811965,0.6965811965811965,0.6965811965811965,0.6965811965811965,0.6965811965811965,0.6965811965811965,0.6965811965811965,0.6965811965811965,0.6965811965811965,0.6965811965811965,0.6965811965811965,0.6965811965811965,0.6965811965811965,0.6965811965811965,0.6965811965811965,0.6965811965811965,0.6965811965811965,0.6965811965811965,0.6965811965811965,0.6965811965811965,0.6965811965811965,0.6965811965811965,0.6965811965811965,0.6965811965811965,0.6965811965811965,0.6965811965811965,0.6965811965811965,0.6965811965811965,0.6965811965811965,0.6965811965811965,0.6965811965811965,0.6965811965811965,0.6965811965811965,0.6965811965811965,0.6965811965811965,0.6965811965811965,0.6965811965811965,0.6965811965811965,0.6965811965811965,0.6965811965811965,0.6965811965811965,0.6965811965811965,0.6965811965811965,0.6965811965811965,0.6965811965811965,0.6965811965811965,0.6965811965811965,0.6965811965811965,0.6965811965811965,0.6965811965811965,0.6965811965811965,0.6965811965811965,0.6965811965811965,0.6965811965811965,0.7094017094017094,0.7222222222222222,0.7115384615384616,0.6965811965811965,0.6965811965811965,0.6965811965811965,0.7083333333333334,0.719017094017094,0.7158119658119658,0.7126068376068376,0.7264957264957265,0.719017094017094,0.6997863247863247,0.6965811965811965,0.6965811965811965,0.6965811965811965,0.719017094017094,0.6944444444444444,0.719017094017094,0.6965811965811965,0.6965811965811965],\"yaxis\":\"y\",\"type\":\"scatter\"}],                        {\"template\":{\"data\":{\"histogram2dcontour\":[{\"type\":\"histogram2dcontour\",\"colorbar\":{\"outlinewidth\":0,\"ticks\":\"\"},\"colorscale\":[[0.0,\"#0d0887\"],[0.1111111111111111,\"#46039f\"],[0.2222222222222222,\"#7201a8\"],[0.3333333333333333,\"#9c179e\"],[0.4444444444444444,\"#bd3786\"],[0.5555555555555556,\"#d8576b\"],[0.6666666666666666,\"#ed7953\"],[0.7777777777777778,\"#fb9f3a\"],[0.8888888888888888,\"#fdca26\"],[1.0,\"#f0f921\"]]}],\"choropleth\":[{\"type\":\"choropleth\",\"colorbar\":{\"outlinewidth\":0,\"ticks\":\"\"}}],\"histogram2d\":[{\"type\":\"histogram2d\",\"colorbar\":{\"outlinewidth\":0,\"ticks\":\"\"},\"colorscale\":[[0.0,\"#0d0887\"],[0.1111111111111111,\"#46039f\"],[0.2222222222222222,\"#7201a8\"],[0.3333333333333333,\"#9c179e\"],[0.4444444444444444,\"#bd3786\"],[0.5555555555555556,\"#d8576b\"],[0.6666666666666666,\"#ed7953\"],[0.7777777777777778,\"#fb9f3a\"],[0.8888888888888888,\"#fdca26\"],[1.0,\"#f0f921\"]]}],\"heatmap\":[{\"type\":\"heatmap\",\"colorbar\":{\"outlinewidth\":0,\"ticks\":\"\"},\"colorscale\":[[0.0,\"#0d0887\"],[0.1111111111111111,\"#46039f\"],[0.2222222222222222,\"#7201a8\"],[0.3333333333333333,\"#9c179e\"],[0.4444444444444444,\"#bd3786\"],[0.5555555555555556,\"#d8576b\"],[0.6666666666666666,\"#ed7953\"],[0.7777777777777778,\"#fb9f3a\"],[0.8888888888888888,\"#fdca26\"],[1.0,\"#f0f921\"]]}],\"heatmapgl\":[{\"type\":\"heatmapgl\",\"colorbar\":{\"outlinewidth\":0,\"ticks\":\"\"},\"colorscale\":[[0.0,\"#0d0887\"],[0.1111111111111111,\"#46039f\"],[0.2222222222222222,\"#7201a8\"],[0.3333333333333333,\"#9c179e\"],[0.4444444444444444,\"#bd3786\"],[0.5555555555555556,\"#d8576b\"],[0.6666666666666666,\"#ed7953\"],[0.7777777777777778,\"#fb9f3a\"],[0.8888888888888888,\"#fdca26\"],[1.0,\"#f0f921\"]]}],\"contourcarpet\":[{\"type\":\"contourcarpet\",\"colorbar\":{\"outlinewidth\":0,\"ticks\":\"\"}}],\"contour\":[{\"type\":\"contour\",\"colorbar\":{\"outlinewidth\":0,\"ticks\":\"\"},\"colorscale\":[[0.0,\"#0d0887\"],[0.1111111111111111,\"#46039f\"],[0.2222222222222222,\"#7201a8\"],[0.3333333333333333,\"#9c179e\"],[0.4444444444444444,\"#bd3786\"],[0.5555555555555556,\"#d8576b\"],[0.6666666666666666,\"#ed7953\"],[0.7777777777777778,\"#fb9f3a\"],[0.8888888888888888,\"#fdca26\"],[1.0,\"#f0f921\"]]}],\"surface\":[{\"type\":\"surface\",\"colorbar\":{\"outlinewidth\":0,\"ticks\":\"\"},\"colorscale\":[[0.0,\"#0d0887\"],[0.1111111111111111,\"#46039f\"],[0.2222222222222222,\"#7201a8\"],[0.3333333333333333,\"#9c179e\"],[0.4444444444444444,\"#bd3786\"],[0.5555555555555556,\"#d8576b\"],[0.6666666666666666,\"#ed7953\"],[0.7777777777777778,\"#fb9f3a\"],[0.8888888888888888,\"#fdca26\"],[1.0,\"#f0f921\"]]}],\"mesh3d\":[{\"type\":\"mesh3d\",\"colorbar\":{\"outlinewidth\":0,\"ticks\":\"\"}}],\"scatter\":[{\"fillpattern\":{\"fillmode\":\"overlay\",\"size\":10,\"solidity\":0.2},\"type\":\"scatter\"}],\"parcoords\":[{\"type\":\"parcoords\",\"line\":{\"colorbar\":{\"outlinewidth\":0,\"ticks\":\"\"}}}],\"scatterpolargl\":[{\"type\":\"scatterpolargl\",\"marker\":{\"colorbar\":{\"outlinewidth\":0,\"ticks\":\"\"}}}],\"bar\":[{\"error_x\":{\"color\":\"#2a3f5f\"},\"error_y\":{\"color\":\"#2a3f5f\"},\"marker\":{\"line\":{\"color\":\"#E5ECF6\",\"width\":0.5},\"pattern\":{\"fillmode\":\"overlay\",\"size\":10,\"solidity\":0.2}},\"type\":\"bar\"}],\"scattergeo\":[{\"type\":\"scattergeo\",\"marker\":{\"colorbar\":{\"outlinewidth\":0,\"ticks\":\"\"}}}],\"scatterpolar\":[{\"type\":\"scatterpolar\",\"marker\":{\"colorbar\":{\"outlinewidth\":0,\"ticks\":\"\"}}}],\"histogram\":[{\"marker\":{\"pattern\":{\"fillmode\":\"overlay\",\"size\":10,\"solidity\":0.2}},\"type\":\"histogram\"}],\"scattergl\":[{\"type\":\"scattergl\",\"marker\":{\"colorbar\":{\"outlinewidth\":0,\"ticks\":\"\"}}}],\"scatter3d\":[{\"type\":\"scatter3d\",\"line\":{\"colorbar\":{\"outlinewidth\":0,\"ticks\":\"\"}},\"marker\":{\"colorbar\":{\"outlinewidth\":0,\"ticks\":\"\"}}}],\"scattermapbox\":[{\"type\":\"scattermapbox\",\"marker\":{\"colorbar\":{\"outlinewidth\":0,\"ticks\":\"\"}}}],\"scatterternary\":[{\"type\":\"scatterternary\",\"marker\":{\"colorbar\":{\"outlinewidth\":0,\"ticks\":\"\"}}}],\"scattercarpet\":[{\"type\":\"scattercarpet\",\"marker\":{\"colorbar\":{\"outlinewidth\":0,\"ticks\":\"\"}}}],\"carpet\":[{\"aaxis\":{\"endlinecolor\":\"#2a3f5f\",\"gridcolor\":\"white\",\"linecolor\":\"white\",\"minorgridcolor\":\"white\",\"startlinecolor\":\"#2a3f5f\"},\"baxis\":{\"endlinecolor\":\"#2a3f5f\",\"gridcolor\":\"white\",\"linecolor\":\"white\",\"minorgridcolor\":\"white\",\"startlinecolor\":\"#2a3f5f\"},\"type\":\"carpet\"}],\"table\":[{\"cells\":{\"fill\":{\"color\":\"#EBF0F8\"},\"line\":{\"color\":\"white\"}},\"header\":{\"fill\":{\"color\":\"#C8D4E3\"},\"line\":{\"color\":\"white\"}},\"type\":\"table\"}],\"barpolar\":[{\"marker\":{\"line\":{\"color\":\"#E5ECF6\",\"width\":0.5},\"pattern\":{\"fillmode\":\"overlay\",\"size\":10,\"solidity\":0.2}},\"type\":\"barpolar\"}],\"pie\":[{\"automargin\":true,\"type\":\"pie\"}]},\"layout\":{\"autotypenumbers\":\"strict\",\"colorway\":[\"#636efa\",\"#EF553B\",\"#00cc96\",\"#ab63fa\",\"#FFA15A\",\"#19d3f3\",\"#FF6692\",\"#B6E880\",\"#FF97FF\",\"#FECB52\"],\"font\":{\"color\":\"#2a3f5f\"},\"hovermode\":\"closest\",\"hoverlabel\":{\"align\":\"left\"},\"paper_bgcolor\":\"white\",\"plot_bgcolor\":\"#E5ECF6\",\"polar\":{\"bgcolor\":\"#E5ECF6\",\"angularaxis\":{\"gridcolor\":\"white\",\"linecolor\":\"white\",\"ticks\":\"\"},\"radialaxis\":{\"gridcolor\":\"white\",\"linecolor\":\"white\",\"ticks\":\"\"}},\"ternary\":{\"bgcolor\":\"#E5ECF6\",\"aaxis\":{\"gridcolor\":\"white\",\"linecolor\":\"white\",\"ticks\":\"\"},\"baxis\":{\"gridcolor\":\"white\",\"linecolor\":\"white\",\"ticks\":\"\"},\"caxis\":{\"gridcolor\":\"white\",\"linecolor\":\"white\",\"ticks\":\"\"}},\"coloraxis\":{\"colorbar\":{\"outlinewidth\":0,\"ticks\":\"\"}},\"colorscale\":{\"sequential\":[[0.0,\"#0d0887\"],[0.1111111111111111,\"#46039f\"],[0.2222222222222222,\"#7201a8\"],[0.3333333333333333,\"#9c179e\"],[0.4444444444444444,\"#bd3786\"],[0.5555555555555556,\"#d8576b\"],[0.6666666666666666,\"#ed7953\"],[0.7777777777777778,\"#fb9f3a\"],[0.8888888888888888,\"#fdca26\"],[1.0,\"#f0f921\"]],\"sequentialminus\":[[0.0,\"#0d0887\"],[0.1111111111111111,\"#46039f\"],[0.2222222222222222,\"#7201a8\"],[0.3333333333333333,\"#9c179e\"],[0.4444444444444444,\"#bd3786\"],[0.5555555555555556,\"#d8576b\"],[0.6666666666666666,\"#ed7953\"],[0.7777777777777778,\"#fb9f3a\"],[0.8888888888888888,\"#fdca26\"],[1.0,\"#f0f921\"]],\"diverging\":[[0,\"#8e0152\"],[0.1,\"#c51b7d\"],[0.2,\"#de77ae\"],[0.3,\"#f1b6da\"],[0.4,\"#fde0ef\"],[0.5,\"#f7f7f7\"],[0.6,\"#e6f5d0\"],[0.7,\"#b8e186\"],[0.8,\"#7fbc41\"],[0.9,\"#4d9221\"],[1,\"#276419\"]]},\"xaxis\":{\"gridcolor\":\"white\",\"linecolor\":\"white\",\"ticks\":\"\",\"title\":{\"standoff\":15},\"zerolinecolor\":\"white\",\"automargin\":true,\"zerolinewidth\":2},\"yaxis\":{\"gridcolor\":\"white\",\"linecolor\":\"white\",\"ticks\":\"\",\"title\":{\"standoff\":15},\"zerolinecolor\":\"white\",\"automargin\":true,\"zerolinewidth\":2},\"scene\":{\"xaxis\":{\"backgroundcolor\":\"#E5ECF6\",\"gridcolor\":\"white\",\"linecolor\":\"white\",\"showbackground\":true,\"ticks\":\"\",\"zerolinecolor\":\"white\",\"gridwidth\":2},\"yaxis\":{\"backgroundcolor\":\"#E5ECF6\",\"gridcolor\":\"white\",\"linecolor\":\"white\",\"showbackground\":true,\"ticks\":\"\",\"zerolinecolor\":\"white\",\"gridwidth\":2},\"zaxis\":{\"backgroundcolor\":\"#E5ECF6\",\"gridcolor\":\"white\",\"linecolor\":\"white\",\"showbackground\":true,\"ticks\":\"\",\"zerolinecolor\":\"white\",\"gridwidth\":2}},\"shapedefaults\":{\"line\":{\"color\":\"#2a3f5f\"}},\"annotationdefaults\":{\"arrowcolor\":\"#2a3f5f\",\"arrowhead\":0,\"arrowwidth\":1},\"geo\":{\"bgcolor\":\"white\",\"landcolor\":\"#E5ECF6\",\"subunitcolor\":\"white\",\"showland\":true,\"showlakes\":true,\"lakecolor\":\"white\"},\"title\":{\"x\":0.05},\"mapbox\":{\"style\":\"light\"}}},\"xaxis\":{\"anchor\":\"y\",\"domain\":[0.0,1.0],\"title\":{\"text\":\"Excluded_Feature\"}},\"yaxis\":{\"anchor\":\"x\",\"domain\":[0.0,1.0],\"title\":{\"text\":\"Recall\"}},\"legend\":{\"tracegroupgap\":0},\"title\":{\"text\":\"Recall vs Excluded Feature\"}},                        {\"responsive\": true}                    ).then(function(){\n",
       "                            \n",
       "var gd = document.getElementById('473d64d3-315f-43f3-84b5-1103089233ea');\n",
       "var x = new MutationObserver(function (mutations, observer) {{\n",
       "        var display = window.getComputedStyle(gd).display;\n",
       "        if (!display || display === 'none') {{\n",
       "            console.log([gd, 'removed!']);\n",
       "            Plotly.purge(gd);\n",
       "            observer.disconnect();\n",
       "        }}\n",
       "}});\n",
       "\n",
       "// Listen for the removal of the full notebook cells\n",
       "var notebookContainer = gd.closest('#notebook-container');\n",
       "if (notebookContainer) {{\n",
       "    x.observe(notebookContainer, {childList: true});\n",
       "}}\n",
       "\n",
       "// Listen for the clearing of the current output cell\n",
       "var outputEl = gd.closest('.output');\n",
       "if (outputEl) {{\n",
       "    x.observe(outputEl, {childList: true});\n",
       "}}\n",
       "\n",
       "                        })                };                });            </script>        </div>"
      ]
     },
     "metadata": {},
     "output_type": "display_data"
    }
   ],
   "source": [
    "# Step 2: Read the CSV file\n",
    "result_ablation_infer_party = pd.read_csv('/Users/nirugidla/Documents/GitHub/milestone2_MADS/result_ablation_infer_party_df.csv')\n",
    "\n",
    "# Step 3: Visualize\n",
    "# Plotting Accuracy\n",
    "fig = px.line(result_ablation_infer_party, x='Excluded_Feature', y='Accuracy', title='Accuracy vs Excluded Feature')\n",
    "fig.show()\n",
    "\n",
    "# Plotting F1 Score\n",
    "fig = px.line(result_ablation_infer_party, x='Excluded_Feature', y='F1_Score', title='F1 Score vs Excluded Feature')\n",
    "fig.show()\n",
    "\n",
    "# Plotting Recall\n",
    "fig = px.line(result_ablation_infer_party, x='Excluded_Feature', y='Recall', title='Recall vs Excluded Feature')\n",
    "fig.show()"
   ]
  },
  {
   "cell_type": "code",
   "execution_count": null,
   "id": "f1ca66b5a238018a",
   "metadata": {
    "ExecuteTime": {
     "start_time": "2023-10-15T18:34:21.220549Z"
    },
    "collapsed": false,
    "jupyter": {
     "outputs_hidden": false
    }
   },
   "outputs": [],
   "source": [
    "# Step 1: Get the baseline metrics\n",
    "# baseline_accuracy = 0.9329\n",
    "# baseline_f1_score = 0.9205910012701286\n",
    "# baseline_recall = 0.9329\n",
    "baseline_accuracy = 0.7746333333333333\n",
    "baseline_f1_score = 0.7655605256770346\n",
    "baseline_recall = 0.777394366197183\n",
    "\n",
    "# baseline_accuracy = 0.86\n",
    "# baseline_f1_score = 0.86\n",
    "# baseline_recall = 0.86\n",
    "\n",
    "# Define a threshold for acceptable performance drop. For example, 1% drop.\n",
    "threshold = 0.0055\n",
    "\n",
    "# Step 2 and 3: Identify features that can be removed\n",
    "features_to_remove = []\n",
    "\n",
    "for _, row in result_ablation_infer_party.iterrows():\n",
    "    if abs(row['Accuracy'] - baseline_accuracy) <= threshold and \\\n",
    "       abs(row['F1_Score'] - baseline_f1_score) <= threshold and \\\n",
    "       abs(row['Recall'] - baseline_recall) <= threshold:\n",
    "        features_to_remove.append(row['Excluded_Feature'])\n",
    "\n",
    "# Remove duplicates if any\n",
    "features_to_remove = list(set(features_to_remove))\n",
    "\n",
    "# Now features_to_remove contains the list of features that can be safely removed\n",
    "print(\"Features to remove:\", features_to_remove)\n",
    "print(\"Number Features to remove:\", len(features_to_remove))"
   ]
  },
  {
   "cell_type": "code",
   "execution_count": null,
   "id": "589a6d0962ab78d2",
   "metadata": {
    "ExecuteTime": {
     "start_time": "2023-10-15T18:34:21.221945Z"
    },
    "collapsed": false,
    "jupyter": {
     "outputs_hidden": false
    }
   },
   "outputs": [],
   "source": [
    "result_ablation_infer_party"
   ]
  },
  {
   "cell_type": "code",
   "execution_count": null,
   "id": "90199cba687997ae",
   "metadata": {
    "ExecuteTime": {
     "start_time": "2023-10-15T18:34:21.223273Z"
    },
    "collapsed": false,
    "jupyter": {
     "outputs_hidden": false
    }
   },
   "outputs": [],
   "source": []
  },
  {
   "cell_type": "code",
   "execution_count": null,
   "id": "6b3d258decf207a9",
   "metadata": {
    "ExecuteTime": {
     "start_time": "2023-10-15T18:34:21.224591Z"
    },
    "collapsed": false,
    "jupyter": {
     "outputs_hidden": false
    }
   },
   "outputs": [],
   "source": []
  },
  {
   "cell_type": "code",
   "execution_count": null,
   "id": "1f3a99b0272dbd59",
   "metadata": {
    "ExecuteTime": {
     "end_time": "2023-10-15T18:34:21.233917Z",
     "start_time": "2023-10-15T18:34:21.225981Z"
    },
    "collapsed": false,
    "jupyter": {
     "outputs_hidden": false
    }
   },
   "outputs": [],
   "source": []
  },
  {
   "cell_type": "code",
   "execution_count": null,
   "id": "2736d0f7e5d16624",
   "metadata": {
    "ExecuteTime": {
     "start_time": "2023-10-15T18:34:21.227310Z"
    },
    "collapsed": false,
    "jupyter": {
     "outputs_hidden": false
    }
   },
   "outputs": [],
   "source": []
  },
  {
   "cell_type": "code",
   "execution_count": null,
   "id": "60d4ecc05cb9b585",
   "metadata": {
    "ExecuteTime": {
     "start_time": "2023-10-15T18:34:21.228617Z"
    },
    "collapsed": false,
    "jupyter": {
     "outputs_hidden": false
    }
   },
   "outputs": [],
   "source": []
  },
  {
   "cell_type": "code",
   "execution_count": null,
   "id": "a3b6e698fca05be2",
   "metadata": {
    "ExecuteTime": {
     "start_time": "2023-10-15T18:34:21.229929Z"
    },
    "collapsed": false,
    "jupyter": {
     "outputs_hidden": false
    }
   },
   "outputs": [],
   "source": []
  },
  {
   "cell_type": "code",
   "execution_count": null,
   "id": "39ebd1882e671741",
   "metadata": {
    "ExecuteTime": {
     "start_time": "2023-10-15T18:34:21.231410Z"
    },
    "collapsed": false,
    "jupyter": {
     "outputs_hidden": false
    }
   },
   "outputs": [],
   "source": []
  },
  {
   "cell_type": "code",
   "execution_count": null,
   "id": "f84244bd06fd9098",
   "metadata": {
    "ExecuteTime": {
     "start_time": "2023-10-15T18:34:21.232703Z"
    },
    "collapsed": false,
    "jupyter": {
     "outputs_hidden": false
    }
   },
   "outputs": [],
   "source": []
  },
  {
   "cell_type": "code",
   "execution_count": null,
   "id": "a004a67ba34e34c1",
   "metadata": {
    "ExecuteTime": {
     "end_time": "2023-10-15T18:34:21.255754Z",
     "start_time": "2023-10-15T18:34:21.234053Z"
    },
    "collapsed": false,
    "jupyter": {
     "outputs_hidden": false
    }
   },
   "outputs": [],
   "source": []
  },
  {
   "cell_type": "code",
   "execution_count": null,
   "id": "1153dc92166bc95e",
   "metadata": {
    "ExecuteTime": {
     "start_time": "2023-10-15T18:34:21.235413Z"
    },
    "collapsed": false,
    "jupyter": {
     "outputs_hidden": false
    }
   },
   "outputs": [],
   "source": []
  },
  {
   "cell_type": "code",
   "execution_count": null,
   "id": "24c48bb12e03c2e6",
   "metadata": {
    "ExecuteTime": {
     "start_time": "2023-10-15T18:34:21.236586Z"
    },
    "collapsed": false,
    "jupyter": {
     "outputs_hidden": false
    }
   },
   "outputs": [],
   "source": []
  },
  {
   "cell_type": "code",
   "execution_count": null,
   "id": "f14dd1e1e990bca3",
   "metadata": {
    "ExecuteTime": {
     "start_time": "2023-10-15T18:34:21.237801Z"
    },
    "collapsed": false,
    "jupyter": {
     "outputs_hidden": false
    }
   },
   "outputs": [],
   "source": []
  },
  {
   "cell_type": "code",
   "execution_count": null,
   "id": "e697325cf07c66ae",
   "metadata": {
    "ExecuteTime": {
     "start_time": "2023-10-15T18:34:21.239049Z"
    },
    "collapsed": false,
    "jupyter": {
     "outputs_hidden": false
    }
   },
   "outputs": [],
   "source": []
  },
  {
   "cell_type": "code",
   "execution_count": null,
   "id": "61aaa0ebf5e46567",
   "metadata": {
    "ExecuteTime": {
     "start_time": "2023-10-15T18:34:21.240154Z"
    },
    "collapsed": false,
    "jupyter": {
     "outputs_hidden": false
    }
   },
   "outputs": [],
   "source": []
  },
  {
   "cell_type": "code",
   "execution_count": null,
   "id": "dcd2ddbee23f2c29",
   "metadata": {
    "ExecuteTime": {
     "start_time": "2023-10-15T18:34:21.241266Z"
    },
    "collapsed": false,
    "jupyter": {
     "outputs_hidden": false
    }
   },
   "outputs": [],
   "source": []
  },
  {
   "cell_type": "code",
   "execution_count": null,
   "id": "76f473efec1bc72a",
   "metadata": {
    "ExecuteTime": {
     "start_time": "2023-10-15T18:34:21.242157Z"
    },
    "collapsed": false,
    "jupyter": {
     "outputs_hidden": false
    }
   },
   "outputs": [],
   "source": []
  },
  {
   "cell_type": "code",
   "execution_count": null,
   "id": "4e2261328fcccbb0",
   "metadata": {
    "ExecuteTime": {
     "start_time": "2023-10-15T18:34:21.242982Z"
    },
    "collapsed": false,
    "jupyter": {
     "outputs_hidden": false
    }
   },
   "outputs": [],
   "source": [
    "#####"
   ]
  },
  {
   "cell_type": "code",
   "execution_count": null,
   "id": "9af00024876ddd8b",
   "metadata": {
    "ExecuteTime": {
     "start_time": "2023-10-15T18:34:21.243733Z"
    },
    "collapsed": false,
    "jupyter": {
     "outputs_hidden": false
    }
   },
   "outputs": [],
   "source": [
    "@timer_decorator\n",
    "def run_xgboost_all_columns(data, sample_size=150000, num_runs=1, top_N_features=10):\n",
    "    results_list = []\n",
    "\n",
    "    for run in range(1, num_runs + 1):\n",
    "        print(f\"Starting run {run}...\")\n",
    "        \n",
    "        # Use 'INFER_PARTY' as the target variable and remove 'PARTY_CODE'\n",
    "        data_with_all_columns = data.copy()\n",
    "        data_with_all_columns = data_with_all_columns[data_with_all_columns['INFER_PARTY'].notna()]\n",
    "        if 'PARTY_CODE' in data_with_all_columns.columns:\n",
    "            data_with_all_columns.drop('PARTY_CODE', axis=1, inplace=True)\n",
    "\n",
    "        print(\"Number of columns in the dataset:\", len(data_with_all_columns.columns))\n",
    "\n",
    "        data_sample = data_with_all_columns.sample(n=sample_size, random_state=42)\n",
    "        \n",
    "        class_counts = data_sample['INFER_PARTY'].value_counts()\n",
    "        valid_classes = class_counts[class_counts >= 2].index.tolist()\n",
    "        data_sample = data_sample[data_sample['INFER_PARTY'].isin(valid_classes)]\n",
    "\n",
    "        if len(valid_classes) > 1:  # Only continue if there are at least two classes to predict\n",
    "            le = LabelEncoder()\n",
    "            data_sample['INFER_PARTY'] = le.fit_transform(data_sample['INFER_PARTY'].astype(str))\n",
    "\n",
    "            #numeric_cols = data_sample.select_dtypes(include=['int64', 'float64']).columns.difference(['INFER_PARTY'])\n",
    "            non_numeric_cols = data_sample.select_dtypes(exclude=['int64', 'float64']).columns.difference(['INFER_PARTY'])\n",
    "\n",
    "            data_one_hot = pd.get_dummies(data_sample, columns=non_numeric_cols, drop_first=True)\n",
    "\n",
    "            X = data_one_hot.drop('INFER_PARTY', axis=1)\n",
    "            y = data_one_hot['INFER_PARTY']\n",
    "\n",
    "            X_train, X_test, y_train, y_test = train_test_split(X, y, test_size=0.2, random_state=42, stratify=y)\n",
    "\n",
    "            X_train.columns = X_train.columns.str.replace('[', '_').str.replace(']', '_').str.replace('<', '_')\n",
    "            X_test.columns = X_test.columns.str.replace('[', '_').str.replace(']', '_').str.replace('<', '_')\n",
    "            \n",
    "            xgb = XGBClassifier(objective='multi:softmax', num_class=len(valid_classes), random_state=42)\n",
    "            xgb.fit(X_train, y_train)\n",
    "\n",
    "            y_pred = xgb.predict(X_test)\n",
    "            accuracy = accuracy_score(y_test, y_pred)\n",
    "            f1 = f1_score(y_test, y_pred)\n",
    "            recall = recall_score(y_test, y_pred)\n",
    "\n",
    "            print(f\"Run {run} - Baseline Metrics: Accuracy: {accuracy}, F1 Score: {f1}, Recall: {recall}\")\n",
    "\n",
    "            feature_importances = xgb.feature_importances_\n",
    "            sorted_idx = feature_importances.argsort()[::-1][:top_N_features]\n",
    "            top_features = X.columns[sorted_idx].tolist()\n",
    "\n",
    "            results_list.append({\n",
    "                'Run': run,\n",
    "                'Accuracy': accuracy,\n",
    "                'F1_Score': f1,\n",
    "                'Recall': recall,\n",
    "                'Top_N_Features': top_features\n",
    "            })\n",
    "        else:\n",
    "            print(f\"Run {run} skipped as there are not enough classes to perform classification.\")\n",
    "\n",
    "    results_df = pd.DataFrame(results_list)\n",
    "    return results_df\n",
    "\n",
    "# Assuming engineered_data is already defined\n",
    "result = run_xgboost_all_columns(engineered_data, sample_size=150000, num_runs=1, top_N_features=10)\n",
    "result"
   ]
  },
  {
   "cell_type": "code",
   "execution_count": null,
   "id": "3bfc22a3923914d",
   "metadata": {
    "ExecuteTime": {
     "start_time": "2023-10-15T18:34:21.244520Z"
    },
    "collapsed": false,
    "jupyter": {
     "outputs_hidden": false
    }
   },
   "outputs": [],
   "source": []
  },
  {
   "cell_type": "code",
   "execution_count": null,
   "id": "6796bfc6d6031b9b",
   "metadata": {
    "ExecuteTime": {
     "start_time": "2023-10-15T18:34:21.245392Z"
    },
    "collapsed": false,
    "jupyter": {
     "outputs_hidden": false
    }
   },
   "outputs": [],
   "source": []
  },
  {
   "cell_type": "code",
   "execution_count": null,
   "id": "d2c148a19f602911",
   "metadata": {
    "ExecuteTime": {
     "start_time": "2023-10-15T18:34:21.246210Z"
    },
    "collapsed": false,
    "jupyter": {
     "outputs_hidden": false
    }
   },
   "outputs": [],
   "source": []
  },
  {
   "cell_type": "code",
   "execution_count": null,
   "id": "56d3a537ace6cd33",
   "metadata": {
    "ExecuteTime": {
     "start_time": "2023-10-15T18:34:21.246953Z"
    },
    "collapsed": false,
    "jupyter": {
     "outputs_hidden": false
    }
   },
   "outputs": [],
   "source": []
  },
  {
   "cell_type": "code",
   "execution_count": null,
   "id": "8321179557f2ea5d",
   "metadata": {
    "ExecuteTime": {
     "start_time": "2023-10-15T18:34:21.247742Z"
    },
    "collapsed": false,
    "jupyter": {
     "outputs_hidden": false
    }
   },
   "outputs": [],
   "source": []
  },
  {
   "cell_type": "code",
   "execution_count": null,
   "id": "b97b055495562974",
   "metadata": {
    "ExecuteTime": {
     "start_time": "2023-10-15T18:34:21.248600Z"
    },
    "collapsed": false,
    "jupyter": {
     "outputs_hidden": false
    }
   },
   "outputs": [],
   "source": []
  },
  {
   "cell_type": "code",
   "execution_count": null,
   "id": "7c6c57a27c4b96a0",
   "metadata": {
    "ExecuteTime": {
     "start_time": "2023-10-15T18:34:21.249386Z"
    },
    "collapsed": false,
    "jupyter": {
     "outputs_hidden": false
    }
   },
   "outputs": [],
   "source": []
  },
  {
   "cell_type": "code",
   "execution_count": null,
   "id": "8b452600ca715bf4",
   "metadata": {
    "ExecuteTime": {
     "start_time": "2023-10-15T18:34:21.250123Z"
    },
    "collapsed": false,
    "jupyter": {
     "outputs_hidden": false
    }
   },
   "outputs": [],
   "source": []
  },
  {
   "cell_type": "code",
   "execution_count": null,
   "id": "a2cf2efacb4b86f1",
   "metadata": {
    "ExecuteTime": {
     "start_time": "2023-10-15T18:34:21.250878Z"
    },
    "collapsed": false,
    "jupyter": {
     "outputs_hidden": false
    }
   },
   "outputs": [],
   "source": [
    "def plot_feature_importance(importance, names, model_type, top_N_features=10):\n",
    "    feature_importance = np.array(importance)\n",
    "    feature_names = np.array(names)\n",
    "\n",
    "    sorted_idx = feature_importance.argsort()[-top_N_features:]\n",
    "    plt.barh(range(len(sorted_idx)), feature_importance[sorted_idx], align='center', color='blue')\n",
    "    plt.yticks(range(len(sorted_idx)), [feature_names[i] for i in sorted_idx])\n",
    "    plt.xlabel('Importance')\n",
    "    plt.title(model_type + ' - Feature Importance')\n",
    "    plt.show()\n",
    "\n",
    "@timer_decorator\n",
    "def run_xgboost_all_columns(data, sample_size=100000, num_runs=1, top_N_features=10):\n",
    "    results_list = []\n",
    "\n",
    "    for run in range(1, num_runs + 1):\n",
    "        print(f\"Starting run {run}...\")\n",
    "        \n",
    "        # Use all available columns except the target column 'PARTY_CODE'\n",
    "        data_with_all_columns = data.copy()\n",
    "        data_with_all_columns = data_with_all_columns[data_with_all_columns['PARTY_CODE'].notna()]\n",
    "        print(\"number of columns in the dataset\", len(data_with_all_columns.columns))\n",
    "        data_sample = data_with_all_columns.sample(n=sample_size, random_state=42)\n",
    "        \n",
    "        class_counts = data_sample['PARTY_CODE'].value_counts()\n",
    "        valid_classes = class_counts[class_counts >= 2].index.tolist()\n",
    "        data_sample = data_sample[data_sample['PARTY_CODE'].isin(valid_classes)]\n",
    "        \n",
    "        le = LabelEncoder()\n",
    "        data_sample['PARTY_CODE'] = le.fit_transform(data_sample['PARTY_CODE'].astype(str))\n",
    "        \n",
    "        # Identify numeric and non-numeric columns\n",
    "        numeric_cols = data_sample.select_dtypes(include=['int64', 'float64']).columns.difference(['PARTY_CODE'])\n",
    "        non_numeric_cols = data_sample.select_dtypes(exclude=['int64', 'float64']).columns.difference(['PARTY_CODE'])\n",
    "        \n",
    "        # One-hot encode non-numeric columns\n",
    "        data_one_hot = pd.get_dummies(data_sample[non_numeric_cols], drop_first=True)\n",
    "        \n",
    "        # Combine back with the numeric columns and the target variable\n",
    "        final_data = pd.concat([data_one_hot, data_sample[numeric_cols], data_sample['PARTY_CODE']], axis=1)\n",
    "        \n",
    "        X = final_data.drop('PARTY_CODE', axis=1)\n",
    "        y = final_data['PARTY_CODE']\n",
    "                \n",
    "        X_train, X_test, y_train, y_test = train_test_split(X, y, test_size=0.2, random_state=42, stratify=y)\n",
    "        \n",
    "        # Handle special characters in column names that XGBoost doesn't like\n",
    "        X_train.columns = X_train.columns.str.replace('[', '_').str.replace(']', '_').str.replace('<', '_')\n",
    "        X_test.columns = X_test.columns.str.replace('[', '_').str.replace(']', '_').str.replace('<', '_')\n",
    "        \n",
    "        xgb = XGBClassifier(objective='multi:softmax', random_state=42)\n",
    "        xgb.fit(X_train, y_train)\n",
    "        \n",
    "        # Print feature importances\n",
    "        feature_importances = xgb.feature_importances_\n",
    "        sorted_idx = feature_importances.argsort()[::-1][:top_N_features]\n",
    "        print(\"Top 10 Important Features and Their Importances for Run {}: \".format(run))\n",
    "        for index in sorted_idx:\n",
    "            print(f\"{X_train.columns[index]}: {feature_importances[index]}\")\n",
    "\n",
    "        # Plot feature importances\n",
    "        plot_feature_importance(xgb.feature_importances_, X_train.columns, 'XGBoost', top_N_features=top_N_features)\n",
    "\n",
    "        y_pred = xgb.predict(X_test)\n",
    "        accuracy = accuracy_score(y_test, y_pred)\n",
    "        f1 = f1_score(y_test, y_pred)\n",
    "        recall = recall_score(y_test, y_pred)\n",
    "\n",
    "        print(f\"Run {run} - Accuracy: {accuracy}, F1 Score: {f1}, Recall: {recall}\")\n",
    "\n",
    "        feature_importances = xgb.feature_importances_\n",
    "        sorted_idx = feature_importances.argsort()[::-1][:top_N_features]\n",
    "        top_features = X.columns[sorted_idx].tolist()\n",
    "\n",
    "        results_list.append({\n",
    "            'Run': run,\n",
    "            'Accuracy': accuracy,\n",
    "            'F1_Score': f1,\n",
    "            'Recall': recall,\n",
    "            'Top_N_Features': top_features\n",
    "        })\n",
    "\n",
    "    results_df = pd.DataFrame(results_list)\n",
    "    \n",
    "    return results_df\n",
    "# Assuming engineered_data is already defined\n",
    "result = run_xgboost_all_columns(engineered_data, sample_size=50000, num_runs=2, top_N_features=10)\n",
    "result"
   ]
  },
  {
   "cell_type": "code",
   "execution_count": null,
   "id": "80f563da2b805629",
   "metadata": {
    "ExecuteTime": {
     "start_time": "2023-10-15T18:34:21.251575Z"
    },
    "collapsed": false,
    "jupyter": {
     "outputs_hidden": false
    }
   },
   "outputs": [],
   "source": [
    "# Remove 'INFER_PARTY_R' from the dataset\n",
    "engineered_data_ablation = engineered_data.drop(columns=['INFER_PARTY_R'])\n",
    "\n",
    "# Retrain and evaluate the model\n",
    "result_ablation = run_xgboost_all_columns(engineered_data_ablation, sample_size=50000, num_runs=2, top_N_features=10)\n",
    "result_ablation"
   ]
  },
  {
   "cell_type": "code",
   "execution_count": null,
   "id": "6d35675d956977e5",
   "metadata": {
    "ExecuteTime": {
     "start_time": "2023-10-15T18:34:21.252322Z"
    },
    "collapsed": false,
    "jupyter": {
     "outputs_hidden": false
    }
   },
   "outputs": [],
   "source": [
    "def plot_feature_importance(importance, names, model_type, top_N_features=10):\n",
    "    feature_importance = np.array(importance)\n",
    "    feature_names = np.array(names)\n",
    "\n",
    "    sorted_idx = feature_importance.argsort()[-top_N_features:]\n",
    "    plt.barh(range(len(sorted_idx)), feature_importance[sorted_idx], align='center', color='blue')\n",
    "    plt.yticks(range(len(sorted_idx)), [feature_names[i] for i in sorted_idx])\n",
    "    plt.xlabel('Importance')\n",
    "    plt.title(model_type + ' - Feature Importance')\n",
    "    plt.show()\n",
    "\n",
    "@timer_decorator\n",
    "def run_xgboost_all_columns(data, sample_size=100000, num_runs=1, top_N_features=10, exclude_features=None):\n",
    "    results_list = []\n",
    "    if exclude_features is None:\n",
    "        exclude_features = []\n",
    "\n",
    "    for run in range(1, num_runs + 1):\n",
    "        print(f\"Starting run {run}...\")\n",
    "        \n",
    "        # Use all available columns except the target column 'PARTY_CODE'\n",
    "        data_with_all_columns = data.copy()\n",
    "        data_with_all_columns = data_with_all_columns[data_with_all_columns['PARTY_CODE'].notna()]\n",
    "        print(\"number of columns in the dataset\", len(data_with_all_columns.columns))\n",
    "        data_sample = data_with_all_columns.sample(n=sample_size, random_state=42)\n",
    "        \n",
    "        class_counts = data_sample['PARTY_CODE'].value_counts()\n",
    "        valid_classes = class_counts[class_counts >= 2].index.tolist()\n",
    "        data_sample = data_sample[data_sample['PARTY_CODE'].isin(valid_classes)]\n",
    "        \n",
    "        le = LabelEncoder()\n",
    "        data_sample['PARTY_CODE'] = le.fit_transform(data_sample['PARTY_CODE'].astype(str))\n",
    "        \n",
    "        # Identify numeric and non-numeric columns\n",
    "        numeric_cols = data_sample.select_dtypes(include=['int64', 'float64']).columns.difference(['PARTY_CODE'])\n",
    "        non_numeric_cols = data_sample.select_dtypes(exclude=['int64', 'float64']).columns.difference(['PARTY_CODE'])\n",
    "        \n",
    "        # One-hot encode non-numeric columns\n",
    "        data_one_hot = pd.get_dummies(data_sample[non_numeric_cols], drop_first=True)\n",
    "        \n",
    "        # Combine back with the numeric columns and the target variable\n",
    "        final_data = pd.concat([data_one_hot, data_sample[numeric_cols], data_sample['PARTY_CODE']], axis=1)\n",
    "        \n",
    "        # Remove excluded features if any\n",
    "        final_data = final_data.drop(columns=exclude_features, errors='ignore')\n",
    "\n",
    "        X = final_data.drop('PARTY_CODE', axis=1)\n",
    "        y = final_data['PARTY_CODE']\n",
    "                \n",
    "        X_train, X_test, y_train, y_test = train_test_split(X, y, test_size=0.2, random_state=42, stratify=y)\n",
    "        \n",
    "        # Handle special characters in column names that XGBoost doesn't like\n",
    "        X_train.columns = X_train.columns.str.replace('[', '_').str.replace(']', '_').str.replace('<', '_')\n",
    "        X_test.columns = X_test.columns.str.replace('[', '_').str.replace(']', '_').str.replace('<', '_')\n",
    "        \n",
    "        xgb = XGBClassifier(objective='multi:softmax', random_state=42)\n",
    "        xgb.fit(X_train, y_train)\n",
    "        \n",
    "        # Print feature importances\n",
    "        feature_importances = xgb.feature_importances_\n",
    "        sorted_idx = feature_importances.argsort()[::-1][:top_N_features]\n",
    "        print(\"Top 10 Important Features and Their Importances for Run {}: \".format(run))\n",
    "        for index in sorted_idx:\n",
    "            print(f\"{X_train.columns[index]}: {feature_importances[index]}\")\n",
    "\n",
    "        # Plot feature importances\n",
    "        plot_feature_importance(xgb.feature_importances_, X_train.columns, 'XGBoost', top_N_features=top_N_features)\n",
    "\n",
    "        y_pred = xgb.predict(X_test)\n",
    "        accuracy = accuracy_score(y_test, y_pred)\n",
    "        f1 = f1_score(y_test, y_pred)\n",
    "        recall = recall_score(y_test, y_pred)\n",
    "\n",
    "        print(f\"Run {run} - Accuracy: {accuracy}, F1 Score: {f1}, Recall: {recall}\")\n",
    "\n",
    "        feature_importances = xgb.feature_importances_\n",
    "        sorted_idx = feature_importances.argsort()[::-1][:top_N_features]\n",
    "        top_features = X.columns[sorted_idx].tolist()\n",
    "\n",
    "        results_list.append({\n",
    "            'Run': run,\n",
    "            'Accuracy': accuracy,\n",
    "            'F1_Score': f1,\n",
    "            'Recall': recall,\n",
    "            'Top_N_Features': top_features\n",
    "        })\n",
    "\n",
    "    results_df = pd.DataFrame(results_list)\n",
    "    \n",
    "    return results_df\n",
    "# Assuming engineered_data is already defined\n",
    "# result = run_xgboost_all_columns(engineered_data, sample_size=50000, num_runs=2, top_N_features=10)\n",
    "# result\n",
    "result_ablation = run_xgboost_all_columns(engineered_data, sample_size=50000, num_runs=2, top_N_features=10, exclude_features=['INFER_PARTY_R'])\n",
    "result_ablation"
   ]
  },
  {
   "cell_type": "code",
   "execution_count": null,
   "id": "7c54affbab720e18",
   "metadata": {
    "ExecuteTime": {
     "start_time": "2023-10-15T18:34:21.253110Z"
    },
    "collapsed": false,
    "jupyter": {
     "outputs_hidden": false
    }
   },
   "outputs": [],
   "source": [
    "@timer_decorator\n",
    "def run_feature_ablation(engineered_data, sample_size=50000, num_runs=1, top_N_features=10):\n",
    "    ablation_results = []  # List to store the results\n",
    "\n",
    "    all_columns = engineered_data.columns.tolist()\n",
    "    all_columns.remove('PARTY_CODE')  # Remove the target variable\n",
    "\n",
    "    for feature in all_columns:\n",
    "        print(f\"Running ablation by excluding feature: {feature}\")\n",
    "        result = run_xgboost_all_columns(engineered_data, sample_size=sample_size, num_runs=num_runs, top_N_features=top_N_features, exclude_features=[feature])\n",
    "        \n",
    "        # Assuming the first run's metrics are stored in result.iloc[0]\n",
    "        metrics = result.iloc[0].to_dict()\n",
    "        metrics['Excluded_Feature'] = feature  # Add the excluded feature to the metrics\n",
    "        \n",
    "        ablation_results.append(metrics)\n",
    "\n",
    "    # Convert the list of results to a DataFrame\n",
    "    ablation_results_df = pd.DataFrame(ablation_results)\n",
    "    \n",
    "    return ablation_results_df\n",
    "\n",
    "# Run the feature ablation\n",
    "ablation_results_df = run_feature_ablation(engineered_data, sample_size=50000, num_runs=1, top_N_features=10)\n",
    "#ablation_results_df\n",
    "# Save the DataFrame to a CSV file if you want\n",
    "# ablation_results_df.to_csv(\"/path/to/save/ablation_results.csv\", index=False)"
   ]
  },
  {
   "cell_type": "markdown",
   "id": "7a740b5fe54a8dcf",
   "metadata": {},
   "source": []
  },
  {
   "cell_type": "code",
   "execution_count": null,
   "id": "6afd98c79979456e",
   "metadata": {
    "ExecuteTime": {
     "start_time": "2023-10-15T18:34:21.253864Z"
    },
    "collapsed": false,
    "jupyter": {
     "outputs_hidden": false
    }
   },
   "outputs": [],
   "source": [
    "ablation_results_df.to_csv('/Users/nirugidla/Downloads/ablation_results_df.csv', index=False)\n"
   ]
  },
  {
   "cell_type": "code",
   "execution_count": null,
   "id": "402f9b704e5de12d",
   "metadata": {
    "ExecuteTime": {
     "start_time": "2023-10-15T18:34:21.254613Z"
    },
    "collapsed": false,
    "jupyter": {
     "outputs_hidden": false
    }
   },
   "outputs": [],
   "source": [
    "ablation_results_df_copy = pd.read_csv(\"/Users/nirugidla/Downloads/ablation_results_df.csv\")"
   ]
  },
  {
   "cell_type": "code",
   "execution_count": null,
   "id": "91a894dbe956d271",
   "metadata": {
    "ExecuteTime": {
     "start_time": "2023-10-15T18:34:21.255344Z"
    },
    "collapsed": false,
    "jupyter": {
     "outputs_hidden": false
    }
   },
   "outputs": [],
   "source": [
    "# Sorting the DataFrame by 'Accuracy' to understand which feature removal has the greatest impact on accuracy\n",
    "sorted_by_accuracy = ablation_results_df_copy.sort_values(by='Accuracy', ascending=False)\n",
    "\n",
    "# Displaying the sorted DataFrame to show features with the greatest impact when removed\n",
    "sorted_by_accuracy.head()"
   ]
  },
  {
   "cell_type": "code",
   "execution_count": null,
   "id": "4d61d2706f242525",
   "metadata": {
    "ExecuteTime": {
     "end_time": "2023-10-15T18:34:21.302289Z",
     "start_time": "2023-10-15T18:34:21.256089Z"
    },
    "collapsed": false,
    "jupyter": {
     "outputs_hidden": false
    }
   },
   "outputs": [],
   "source": [
    "# Assuming ablation_results_df is already defined in your environment\n",
    "\n",
    "# Sorting the DataFrame by 'Accuracy' to understand which feature removal has the greatest impact on accuracy\n",
    "sorted_by_accuracy = ablation_results_df_copy.sort_values(by='Accuracy', ascending=False)\n",
    "\n",
    "# Plotting the metrics as features are excluded\n",
    "plt.figure(figsize=(20, 8))\n",
    "\n",
    "# Creating subplots for each metric: Accuracy, F1 Score, and Recall\n",
    "for idx, metric in enumerate(['Accuracy', 'F1_Score', 'Recall'], 1):\n",
    "    plt.subplot(1, 3, idx)\n",
    "    sns.boxplot(data=ablation_results_df_copy, x='Excluded_Feature', y=metric)\n",
    "    plt.title(f\"{metric} vs Excluded Features\")\n",
    "    plt.xticks(rotation=90)\n",
    "\n",
    "plt.tight_layout()\n",
    "plt.show()"
   ]
  },
  {
   "cell_type": "code",
   "execution_count": null,
   "id": "92235a86d7b12cb7",
   "metadata": {
    "ExecuteTime": {
     "start_time": "2023-10-15T18:34:21.256850Z"
    },
    "collapsed": false,
    "jupyter": {
     "outputs_hidden": false
    }
   },
   "outputs": [],
   "source": [
    "# Importing the Plotly library for interactive plots\n",
    "# Creating subplots for each metric: Accuracy, F1 Score, and Recall\n",
    "fig = px.box(ablation_results_df_copy.melt(id_vars='Excluded_Feature', value_vars=['Accuracy', 'F1_Score', 'Recall']),\n",
    "             x='Excluded_Feature', y='value', color='variable',\n",
    "             labels={'value': 'Metric Value', 'Excluded_Feature': 'Excluded Feature'},\n",
    "             title='Metrics vs Excluded Features')\n",
    "\n",
    "# Updating layout for better readability\n",
    "fig.update_layout(\n",
    "    xaxis_title='Excluded Features',\n",
    "    yaxis_title='Metric Value',\n",
    "    boxmode='group'  # group together boxes of the same type\n",
    ")\n",
    "fig.update_xaxes(categoryorder='total ascending')\n",
    "\n",
    "fig.show()"
   ]
  },
  {
   "cell_type": "code",
   "execution_count": null,
   "id": "2771469f5d86cb57",
   "metadata": {
    "ExecuteTime": {
     "start_time": "2023-10-15T18:34:21.257617Z"
    },
    "collapsed": false,
    "jupyter": {
     "outputs_hidden": false
    }
   },
   "outputs": [],
   "source": [
    "import plotly.graph_objects as go\n",
    "\n",
    "# Prepare data for plot\n",
    "melted_df = ablation_results_df_copy.melt(id_vars='Excluded_Feature', value_vars=['Accuracy', 'F1_Score', 'Recall'])\n",
    "\n",
    "# Create subplots\n",
    "fig = go.Figure()\n",
    "\n",
    "metrics = ['Accuracy', 'F1_Score', 'Recall']\n",
    "colors = ['red', 'green', 'blue']\n",
    "\n",
    "for metric, color in zip(metrics, colors):\n",
    "    subset = melted_df[melted_df['variable'] == metric]\n",
    "    fig.add_trace(go.Box(\n",
    "        y=subset['value'],\n",
    "        x=subset['Excluded_Feature'],\n",
    "        name=metric,\n",
    "        marker=dict(\n",
    "            color=color,\n",
    "            line=dict(\n",
    "                width=2,\n",
    "            )\n",
    "        )\n",
    "    ))\n",
    "\n",
    "# Update layout\n",
    "fig.update_layout(\n",
    "    xaxis_title='Excluded Features',\n",
    "    yaxis_title='Metric Value',\n",
    "    title='Metrics vs Excluded Features',\n",
    "    boxmode='group'\n",
    ")\n",
    "fig.update_xaxes(categoryorder='total ascending')\n",
    "\n",
    "fig.show()\n"
   ]
  },
  {
   "cell_type": "code",
   "execution_count": null,
   "id": "7711cec9a586b28",
   "metadata": {
    "ExecuteTime": {
     "start_time": "2023-10-15T18:34:21.258378Z"
    },
    "collapsed": false,
    "jupyter": {
     "outputs_hidden": false
    }
   },
   "outputs": [],
   "source": [
    "import plotly.express as px\n",
    "\n",
    "# Assuming ablation_results_df_copy is the DataFrame you're working with\n",
    "# Melt the DataFrame to make it suitable for line plots\n",
    "melted_df = ablation_results_df_copy.melt(id_vars='Excluded_Feature', value_vars=['Accuracy', 'F1_Score', 'Recall'])\n",
    "\n",
    "# Create the line plot\n",
    "fig = px.line(melted_df, x='Excluded_Feature', y='value', color='variable', \n",
    "              labels={'value': 'Metric Value', 'Excluded_Feature': 'Excluded Feature'},\n",
    "              title='Metrics vs Excluded Features')\n",
    "\n",
    "# Update layout for better readability\n",
    "fig.update_layout(\n",
    "    xaxis_title='Excluded Features',\n",
    "    yaxis_title='Metric Value'\n",
    ")\n",
    "fig.update_xaxes(categoryorder='total ascending')\n",
    "\n",
    "fig.show()"
   ]
  },
  {
   "cell_type": "code",
   "execution_count": null,
   "id": "d60ac443d820ff1b",
   "metadata": {
    "ExecuteTime": {
     "start_time": "2023-10-15T18:34:21.259156Z"
    },
    "collapsed": false,
    "jupyter": {
     "outputs_hidden": false
    }
   },
   "outputs": [],
   "source": []
  }
 ],
 "metadata": {
  "kernelspec": {
   "display_name": "Python 3 (ipykernel)",
   "language": "python",
   "name": "python3"
  },
  "language_info": {
   "codemirror_mode": {
    "name": "ipython",
    "version": 3
   },
   "file_extension": ".py",
   "mimetype": "text/x-python",
   "name": "python",
   "nbconvert_exporter": "python",
   "pygments_lexer": "ipython3",
   "version": "3.11.5"
  }
 },
 "nbformat": 4,
 "nbformat_minor": 5
}
