{
 "cells": [
  {
   "cell_type": "code",
   "execution_count": 1,
   "metadata": {},
   "outputs": [],
   "source": [
    "from preprocessing_utils import *\n",
    "import pandas as pd\n",
    "import numpy as np\n",
    "import matplotlib.pyplot as plt\n",
    "import seaborn as sns\n",
    "\n",
    "survey_data_path = \"/Volumes/DeepLearner/MADS/Milestone_data/surveydata.csv\"\n",
    "data_5k_path = \"/Volumes/DeepLearner/MADS/Milestone_data/data_500k.csv\""
   ]
  },
  {
   "cell_type": "code",
   "execution_count": 2,
   "metadata": {},
   "outputs": [
    {
     "data": {
      "text/html": [
       "<div>\n",
       "<style scoped>\n",
       "    .dataframe tbody tr th:only-of-type {\n",
       "        vertical-align: middle;\n",
       "    }\n",
       "\n",
       "    .dataframe tbody tr th {\n",
       "        vertical-align: top;\n",
       "    }\n",
       "\n",
       "    .dataframe thead th {\n",
       "        text-align: right;\n",
       "    }\n",
       "</style>\n",
       "<table border=\"1\" class=\"dataframe\">\n",
       "  <thead>\n",
       "    <tr style=\"text-align: right;\">\n",
       "      <th></th>\n",
       "      <th>RECORD_ID</th>\n",
       "      <th>ADD_TYPE</th>\n",
       "      <th>AFAMPROFLS</th>\n",
       "      <th>AGE</th>\n",
       "      <th>AI_COUNTY_NAME</th>\n",
       "      <th>AIRCOND</th>\n",
       "      <th>APP_CHILD</th>\n",
       "      <th>APP_MENBIG</th>\n",
       "      <th>APP_TODDLR</th>\n",
       "      <th>APP_WOMEN</th>\n",
       "      <th>...</th>\n",
       "      <th>VTR_PRI22</th>\n",
       "      <th>WORKWOMAN</th>\n",
       "      <th>YEARBUILT</th>\n",
       "      <th>ZIP</th>\n",
       "      <th>Q1_Candidate</th>\n",
       "      <th>Q2_Support</th>\n",
       "      <th>Q3_Party</th>\n",
       "      <th>Q4_LikelyVoter</th>\n",
       "      <th>Q5_TrumpSupport</th>\n",
       "      <th>SURVEY_TYPE</th>\n",
       "    </tr>\n",
       "  </thead>\n",
       "  <tbody>\n",
       "    <tr>\n",
       "      <th>0</th>\n",
       "      <td>100544</td>\n",
       "      <td>S</td>\n",
       "      <td>NaN</td>\n",
       "      <td>63.0</td>\n",
       "      <td>MARION</td>\n",
       "      <td>NaN</td>\n",
       "      <td>NaN</td>\n",
       "      <td>NaN</td>\n",
       "      <td>NaN</td>\n",
       "      <td>NaN</td>\n",
       "      <td>...</td>\n",
       "      <td>A</td>\n",
       "      <td>NaN</td>\n",
       "      <td>NaN</td>\n",
       "      <td>46216</td>\n",
       "      <td>President Joe Biden</td>\n",
       "      <td>Very likely to support</td>\n",
       "      <td>Democrat</td>\n",
       "      <td>Extremely likely</td>\n",
       "      <td>Never Trump</td>\n",
       "      <td>T</td>\n",
       "    </tr>\n",
       "    <tr>\n",
       "      <th>1</th>\n",
       "      <td>100886</td>\n",
       "      <td>S</td>\n",
       "      <td>NaN</td>\n",
       "      <td>73.0</td>\n",
       "      <td>POLK</td>\n",
       "      <td>A</td>\n",
       "      <td>NaN</td>\n",
       "      <td>NaN</td>\n",
       "      <td>NaN</td>\n",
       "      <td>NaN</td>\n",
       "      <td>...</td>\n",
       "      <td>Y</td>\n",
       "      <td>NaN</td>\n",
       "      <td>1990</td>\n",
       "      <td>33884</td>\n",
       "      <td>Undecided</td>\n",
       "      <td>NaN</td>\n",
       "      <td>NaN</td>\n",
       "      <td>NaN</td>\n",
       "      <td>NaN</td>\n",
       "      <td>T</td>\n",
       "    </tr>\n",
       "    <tr>\n",
       "      <th>2</th>\n",
       "      <td>101569</td>\n",
       "      <td>S</td>\n",
       "      <td>NaN</td>\n",
       "      <td>86.0</td>\n",
       "      <td>LOS ANGELES</td>\n",
       "      <td>A</td>\n",
       "      <td>NaN</td>\n",
       "      <td>NaN</td>\n",
       "      <td>NaN</td>\n",
       "      <td>NaN</td>\n",
       "      <td>...</td>\n",
       "      <td>NaN</td>\n",
       "      <td>Y</td>\n",
       "      <td>1954</td>\n",
       "      <td>91724</td>\n",
       "      <td>President Joe Biden</td>\n",
       "      <td>Likely to support</td>\n",
       "      <td>Democrat</td>\n",
       "      <td>Very likely</td>\n",
       "      <td>Never Trump</td>\n",
       "      <td>T</td>\n",
       "    </tr>\n",
       "    <tr>\n",
       "      <th>3</th>\n",
       "      <td>101672</td>\n",
       "      <td>S</td>\n",
       "      <td>NaN</td>\n",
       "      <td>55.0</td>\n",
       "      <td>OCEAN</td>\n",
       "      <td>NaN</td>\n",
       "      <td>NaN</td>\n",
       "      <td>NaN</td>\n",
       "      <td>NaN</td>\n",
       "      <td>NaN</td>\n",
       "      <td>...</td>\n",
       "      <td>NaN</td>\n",
       "      <td>NaN</td>\n",
       "      <td>2017</td>\n",
       "      <td>8723</td>\n",
       "      <td>Marianne Williamson</td>\n",
       "      <td>Somewhat likely to support</td>\n",
       "      <td>Unaffiliated/Other</td>\n",
       "      <td>Extremely likely</td>\n",
       "      <td>Maybe Trump</td>\n",
       "      <td>T</td>\n",
       "    </tr>\n",
       "    <tr>\n",
       "      <th>4</th>\n",
       "      <td>101908</td>\n",
       "      <td>S</td>\n",
       "      <td>NaN</td>\n",
       "      <td>73.0</td>\n",
       "      <td>JEFFERSON</td>\n",
       "      <td>NaN</td>\n",
       "      <td>NaN</td>\n",
       "      <td>NaN</td>\n",
       "      <td>NaN</td>\n",
       "      <td>NaN</td>\n",
       "      <td>...</td>\n",
       "      <td>Y</td>\n",
       "      <td>Y</td>\n",
       "      <td>1961</td>\n",
       "      <td>80003</td>\n",
       "      <td>Robert F. Kennedy Jr.</td>\n",
       "      <td>NaN</td>\n",
       "      <td>NaN</td>\n",
       "      <td>NaN</td>\n",
       "      <td>NaN</td>\n",
       "      <td>T</td>\n",
       "    </tr>\n",
       "  </tbody>\n",
       "</table>\n",
       "<p>5 rows × 304 columns</p>\n",
       "</div>"
      ],
      "text/plain": [
       "   RECORD_ID ADD_TYPE AFAMPROFLS   AGE AI_COUNTY_NAME AIRCOND APP_CHILD  \\\n",
       "0     100544        S        NaN  63.0         MARION     NaN       NaN   \n",
       "1     100886        S        NaN  73.0           POLK       A       NaN   \n",
       "2     101569        S        NaN  86.0    LOS ANGELES       A       NaN   \n",
       "3     101672        S        NaN  55.0          OCEAN     NaN       NaN   \n",
       "4     101908        S        NaN  73.0      JEFFERSON     NaN       NaN   \n",
       "\n",
       "  APP_MENBIG APP_TODDLR APP_WOMEN  ... VTR_PRI22 WORKWOMAN YEARBUILT    ZIP  \\\n",
       "0        NaN        NaN       NaN  ...         A       NaN       NaN  46216   \n",
       "1        NaN        NaN       NaN  ...         Y       NaN      1990  33884   \n",
       "2        NaN        NaN       NaN  ...       NaN         Y      1954  91724   \n",
       "3        NaN        NaN       NaN  ...       NaN       NaN      2017   8723   \n",
       "4        NaN        NaN       NaN  ...         Y         Y      1961  80003   \n",
       "\n",
       "            Q1_Candidate                  Q2_Support            Q3_Party  \\\n",
       "0    President Joe Biden      Very likely to support            Democrat   \n",
       "1              Undecided                         NaN                 NaN   \n",
       "2    President Joe Biden           Likely to support            Democrat   \n",
       "3    Marianne Williamson  Somewhat likely to support  Unaffiliated/Other   \n",
       "4  Robert F. Kennedy Jr.                         NaN                 NaN   \n",
       "\n",
       "     Q4_LikelyVoter Q5_TrumpSupport SURVEY_TYPE  \n",
       "0  Extremely likely     Never Trump           T  \n",
       "1               NaN             NaN           T  \n",
       "2       Very likely     Never Trump           T  \n",
       "3  Extremely likely     Maybe Trump           T  \n",
       "4               NaN             NaN           T  \n",
       "\n",
       "[5 rows x 304 columns]"
      ]
     },
     "execution_count": 2,
     "metadata": {},
     "output_type": "execute_result"
    }
   ],
   "source": [
    "df = pd.read_csv(survey_data_path)\n",
    "df_cleaned = standardize_missing_values(df)\n",
    "df_cleaned.head()"
   ]
  },
  {
   "cell_type": "code",
   "execution_count": 3,
   "metadata": {},
   "outputs": [
    {
     "data": {
      "application/vnd.plotly.v1+json": {
       "config": {
        "plotlyServerURL": "https://plot.ly"
       },
       "data": [
        {
         "alignmentgroup": "True",
         "hovertemplate": "Columns=%{x}<br>Percentage (%)=%{y}<extra></extra>",
         "legendgroup": "",
         "marker": {
          "color": "#636efa",
          "pattern": {
           "shape": ""
          }
         },
         "name": "",
         "offsetgroup": "",
         "orientation": "v",
         "showlegend": false,
         "textposition": "auto",
         "type": "bar",
         "x": [
          "ADD_TYPE",
          "AFAMPROFLS",
          "AGE",
          "AIRCOND",
          "APP_CHILD",
          "APP_MENBIG",
          "APP_TODDLR",
          "APP_WOMEN",
          "APP_WOMPET",
          "APP_WOMPLS",
          "APP_YNGMEN",
          "ARTS",
          "ASSMLCODE",
          "AUTOACCES",
          "AUTOWORK",
          "BOATING",
          "BROADERLIV",
          "BUS_OWNER",
          "CARDUSER",
          "CATOWNER",
          "CENSUS_TRK",
          "CH_0002FEM",
          "CH_0002MAL",
          "CH_0002UNK",
          "CH_0305FEM",
          "CH_0305MAL",
          "CH_0305UNK",
          "CH_0610FEM",
          "CH_0610MAL",
          "CH_0610UNK",
          "CH_1115FEM",
          "CH_1115MAL",
          "CH_1115UNK",
          "CH_1617FEM",
          "CH_1617MAL",
          "CH_1617UNK",
          "CHRISTFAM",
          "CNS_MEDINC",
          "CNSUS_PCTA",
          "CNSUS_PCTB",
          "CNSUS_PCTH",
          "CNSUS_PCTI",
          "CNSUS_PCTM",
          "CNSUS_PCTO",
          "CNSUS_PCTP",
          "CNSUS_PCTW",
          "COL_ANTIQ",
          "COL_ARTS",
          "COL_COIN",
          "COL_SPORT",
          "COL_STAMP",
          "COMPHOMOFC",
          "COMPUTERS",
          "CONG_DIST",
          "COOK_GEN",
          "COUNTY_TYPE",
          "CRD_RANGE",
          "CREDRATE",
          "CURRAFFAIR",
          "DEPTSTCRD",
          "DIETING",
          "DIYLIV",
          "DOGOWNER",
          "DON_ANML",
          "DON_ARTCUL",
          "DON_CHILD",
          "DON_ENVIR",
          "DON_ENVWLD",
          "DON_HEALTH",
          "DON_INTAID",
          "DON_OTHER",
          "DON_POLCONS",
          "DON_POLLIB",
          "DON_RELIG",
          "DON_VET",
          "DONATION",
          "EDU_ONLINE",
          "EDUCATION",
          "EQUESTRIAN",
          "ETHNIC_INFER",
          "ETHNICCODE",
          "ETHNICCONF",
          "ETHNICGRP",
          "EXER_GROUP",
          "FUND_POLIT",
          "GAMING",
          "GARDENER",
          "GENDER_MIX",
          "GENERATION",
          "GOLF",
          "GRANDCHLD",
          "HEALTHBEAU",
          "HEATHMED",
          "HH_NUMGEN",
          "HH_SENIOR",
          "HH_SIZE",
          "HH_VETERAN",
          "HH_YOUNGAD",
          "HIGHBROW",
          "HIGHENDAPP",
          "HISTMIL",
          "HITECHLIV",
          "HOME_DECOR",
          "HOMEMKTVAL",
          "HOMEOFFICE",
          "HOMEOWNER",
          "HOMEOWNRNT",
          "HUNTING",
          "HUNTSHOOT",
          "INCOMESTHH",
          "INV_ACTIVE",
          "LANGUAGE",
          "LENGTH_RES",
          "LIFESTAGE_CLUSTER",
          "MAIL_DONOR",
          "MAILORDBUY",
          "MAILORDRSP",
          "MOTORCYCLE",
          "NASCAR",
          "NETWORTH",
          "NUMCHILD",
          "OCCDETAIL",
          "OCCUPATION",
          "PARENTING",
          "PERSONS_HH",
          "PETS",
          "POOL",
          "PRFL_CHOICELIFE",
          "PRFL_LGBT_SUPPORT",
          "PRFL_MARRIAGE_EQUALITY",
          "PRFL_POLITICAL_IDEOLOGY",
          "PRFL_TEAPARTY",
          "RD_FINNEWS",
          "RD_GEN",
          "RD_RELIG",
          "RD_SCIFI",
          "RELIGINSP",
          "RELIGION",
          "SCISPACE",
          "SCUBADIVER",
          "SELFIMP",
          "SEX",
          "SINGPARENT",
          "SMOKING",
          "SPEC_AUTO",
          "SPEC_BASE",
          "SPEC_BASK",
          "SPEC_FOOT",
          "SPEC_HOCK",
          "SPEC_SOCC",
          "SPORTLEIS",
          "ST_LO_HOUS",
          "ST_UP_HOUS",
          "STATUS",
          "SWEEPSTAKE",
          "TELECOM",
          "TENNIS",
          "THEATER",
          "TOD_PRES_D_2016",
          "TOD_PRES_D_2016_PREC",
          "TOD_PRES_D_2020_PREC",
          "TOD_PRES_DIFF_2016",
          "TOD_PRES_DIFF_2016_PREC",
          "TOD_PRES_DIFF_2020_PREC",
          "TOD_PRES_O_2016",
          "TOD_PRES_O_2016_PREC",
          "TOD_PRES_O_2020_PREC",
          "TOD_PRES_R_2016",
          "TOD_PRES_R_2016_PREC",
          "TOD_PRES_R_2020_PREC",
          "TRAVEL",
          "VOTER_CNT",
          "VP_GEN",
          "VP_OTH",
          "VP_PPP",
          "VP_PRI",
          "WORKWOMAN",
          "YEARBUILT",
          "Q2_Support",
          "Q3_Party",
          "Q4_LikelyVoter",
          "Q5_TrumpSupport"
         ],
         "xaxis": "x",
         "y": [
          1.7307692307692308,
          99.67948717948718,
          0.1282051282051282,
          69.42307692307692,
          96.6025641025641,
          98.07692307692307,
          98.26923076923076,
          98.07692307692307,
          98.07692307692307,
          96.08974358974359,
          99.87179487179488,
          83.52564102564102,
          94.74358974358974,
          89.48717948717949,
          76.15384615384615,
          90.96153846153847,
          76.53846153846153,
          97.05128205128204,
          33.782051282051285,
          85.96153846153847,
          1.7307692307692308,
          100,
          99.74358974358975,
          96.21794871794872,
          99.2948717948718,
          99.48717948717949,
          96.53846153846153,
          97.17948717948718,
          97.6923076923077,
          92.17948717948717,
          95.83333333333334,
          96.41025641025641,
          92.43589743589745,
          98.46153846153847,
          98.84615384615385,
          92.24358974358975,
          90.38461538461539,
          45.06410256410256,
          2.1153846153846154,
          2.1153846153846154,
          2.1153846153846154,
          2.1153846153846154,
          2.1153846153846154,
          2.1153846153846154,
          2.1153846153846154,
          2.1153846153846154,
          83.84615384615385,
          96.21794871794872,
          92.17948717948717,
          95.83333333333334,
          97.94871794871794,
          97.6923076923077,
          44.03846153846154,
          0.19230769230769232,
          64.8076923076923,
          0.1282051282051282,
          69.93589743589743,
          21.73076923076923,
          84.74358974358974,
          65.96153846153847,
          77.11538461538461,
          95.8974358974359,
          81.34615384615384,
          91.28205128205128,
          98.84615384615385,
          88.33333333333333,
          99.87179487179488,
          90.83333333333333,
          75.7051282051282,
          94.67948717948718,
          93.2051282051282,
          95.96153846153847,
          97.75641025641025,
          87.37179487179488,
          91.02564102564102,
          95.12820512820512,
          94.48717948717949,
          39.23076923076923,
          97.11538461538461,
          8.717948717948717,
          20.64102564102564,
          96.21794871794872,
          20.64102564102564,
          48.78205128205128,
          68.71794871794872,
          99.61538461538461,
          69.55128205128204,
          0.1282051282051282,
          5.384615384615385,
          79.93589743589745,
          86.92307692307692,
          78.58974358974359,
          65.8974358974359,
          36.794871794871796,
          89.2948717948718,
          14.423076923076922,
          94.42307692307692,
          92.11538461538461,
          86.34615384615385,
          99.61538461538461,
          96.47435897435898,
          79.93589743589745,
          44.230769230769226,
          25.44871794871795,
          83.97435897435898,
          20.64102564102564,
          19.294871794871796,
          92.88461538461539,
          84.23076923076923,
          13.012820512820515,
          94.48717948717949,
          20.64102564102564,
          15.384615384615385,
          10.384615384615385,
          97.88461538461539,
          37.82051282051282,
          37.82051282051282,
          94.16666666666667,
          91.6025641025641,
          16.08974358974359,
          46.85897435897436,
          73.71794871794873,
          58.46153846153847,
          97.43589743589743,
          46.47435897435898,
          72.56410256410255,
          94.2948717948718,
          87.62820512820512,
          95.06410256410255,
          97.6923076923077,
          13.91025641025641,
          95.32051282051283,
          92.94871794871796,
          44.871794871794876,
          81.15384615384616,
          96.34615384615385,
          84.8076923076923,
          21.025641025641026,
          97.56410256410255,
          99.2948717948718,
          92.6923076923077,
          0.0641025641025641,
          95.64102564102565,
          95.76923076923077,
          92.6923076923077,
          83.3974358974359,
          84.35897435897436,
          77.82051282051282,
          94.35897435897435,
          100,
          80.76923076923077,
          0.19230769230769232,
          0.19230769230769232,
          3.5897435897435894,
          78.58974358974359,
          99.93589743589743,
          99.03846153846155,
          90.76923076923077,
          0.38461538461538464,
          3.076923076923077,
          14.166666666666666,
          0.38461538461538464,
          3.076923076923077,
          14.166666666666666,
          0.38461538461538464,
          3.076923076923077,
          14.166666666666666,
          0.38461538461538464,
          3.076923076923077,
          14.166666666666666,
          70.44871794871796,
          0.1282051282051282,
          1.0897435897435896,
          1.0897435897435896,
          1.0897435897435896,
          1.0897435897435896,
          63.01282051282051,
          39.03846153846154,
          10,
          3.141025641025641,
          3.141025641025641,
          3.141025641025641
         ],
         "yaxis": "y"
        }
       ],
       "layout": {
        "barmode": "relative",
        "height": 600,
        "legend": {
         "tracegroupgap": 0
        },
        "template": {
         "data": {
          "bar": [
           {
            "error_x": {
             "color": "#2a3f5f"
            },
            "error_y": {
             "color": "#2a3f5f"
            },
            "marker": {
             "line": {
              "color": "#E5ECF6",
              "width": 0.5
             },
             "pattern": {
              "fillmode": "overlay",
              "size": 10,
              "solidity": 0.2
             }
            },
            "type": "bar"
           }
          ],
          "barpolar": [
           {
            "marker": {
             "line": {
              "color": "#E5ECF6",
              "width": 0.5
             },
             "pattern": {
              "fillmode": "overlay",
              "size": 10,
              "solidity": 0.2
             }
            },
            "type": "barpolar"
           }
          ],
          "carpet": [
           {
            "aaxis": {
             "endlinecolor": "#2a3f5f",
             "gridcolor": "white",
             "linecolor": "white",
             "minorgridcolor": "white",
             "startlinecolor": "#2a3f5f"
            },
            "baxis": {
             "endlinecolor": "#2a3f5f",
             "gridcolor": "white",
             "linecolor": "white",
             "minorgridcolor": "white",
             "startlinecolor": "#2a3f5f"
            },
            "type": "carpet"
           }
          ],
          "choropleth": [
           {
            "colorbar": {
             "outlinewidth": 0,
             "ticks": ""
            },
            "type": "choropleth"
           }
          ],
          "contour": [
           {
            "colorbar": {
             "outlinewidth": 0,
             "ticks": ""
            },
            "colorscale": [
             [
              0,
              "#0d0887"
             ],
             [
              0.1111111111111111,
              "#46039f"
             ],
             [
              0.2222222222222222,
              "#7201a8"
             ],
             [
              0.3333333333333333,
              "#9c179e"
             ],
             [
              0.4444444444444444,
              "#bd3786"
             ],
             [
              0.5555555555555556,
              "#d8576b"
             ],
             [
              0.6666666666666666,
              "#ed7953"
             ],
             [
              0.7777777777777778,
              "#fb9f3a"
             ],
             [
              0.8888888888888888,
              "#fdca26"
             ],
             [
              1,
              "#f0f921"
             ]
            ],
            "type": "contour"
           }
          ],
          "contourcarpet": [
           {
            "colorbar": {
             "outlinewidth": 0,
             "ticks": ""
            },
            "type": "contourcarpet"
           }
          ],
          "heatmap": [
           {
            "colorbar": {
             "outlinewidth": 0,
             "ticks": ""
            },
            "colorscale": [
             [
              0,
              "#0d0887"
             ],
             [
              0.1111111111111111,
              "#46039f"
             ],
             [
              0.2222222222222222,
              "#7201a8"
             ],
             [
              0.3333333333333333,
              "#9c179e"
             ],
             [
              0.4444444444444444,
              "#bd3786"
             ],
             [
              0.5555555555555556,
              "#d8576b"
             ],
             [
              0.6666666666666666,
              "#ed7953"
             ],
             [
              0.7777777777777778,
              "#fb9f3a"
             ],
             [
              0.8888888888888888,
              "#fdca26"
             ],
             [
              1,
              "#f0f921"
             ]
            ],
            "type": "heatmap"
           }
          ],
          "heatmapgl": [
           {
            "colorbar": {
             "outlinewidth": 0,
             "ticks": ""
            },
            "colorscale": [
             [
              0,
              "#0d0887"
             ],
             [
              0.1111111111111111,
              "#46039f"
             ],
             [
              0.2222222222222222,
              "#7201a8"
             ],
             [
              0.3333333333333333,
              "#9c179e"
             ],
             [
              0.4444444444444444,
              "#bd3786"
             ],
             [
              0.5555555555555556,
              "#d8576b"
             ],
             [
              0.6666666666666666,
              "#ed7953"
             ],
             [
              0.7777777777777778,
              "#fb9f3a"
             ],
             [
              0.8888888888888888,
              "#fdca26"
             ],
             [
              1,
              "#f0f921"
             ]
            ],
            "type": "heatmapgl"
           }
          ],
          "histogram": [
           {
            "marker": {
             "pattern": {
              "fillmode": "overlay",
              "size": 10,
              "solidity": 0.2
             }
            },
            "type": "histogram"
           }
          ],
          "histogram2d": [
           {
            "colorbar": {
             "outlinewidth": 0,
             "ticks": ""
            },
            "colorscale": [
             [
              0,
              "#0d0887"
             ],
             [
              0.1111111111111111,
              "#46039f"
             ],
             [
              0.2222222222222222,
              "#7201a8"
             ],
             [
              0.3333333333333333,
              "#9c179e"
             ],
             [
              0.4444444444444444,
              "#bd3786"
             ],
             [
              0.5555555555555556,
              "#d8576b"
             ],
             [
              0.6666666666666666,
              "#ed7953"
             ],
             [
              0.7777777777777778,
              "#fb9f3a"
             ],
             [
              0.8888888888888888,
              "#fdca26"
             ],
             [
              1,
              "#f0f921"
             ]
            ],
            "type": "histogram2d"
           }
          ],
          "histogram2dcontour": [
           {
            "colorbar": {
             "outlinewidth": 0,
             "ticks": ""
            },
            "colorscale": [
             [
              0,
              "#0d0887"
             ],
             [
              0.1111111111111111,
              "#46039f"
             ],
             [
              0.2222222222222222,
              "#7201a8"
             ],
             [
              0.3333333333333333,
              "#9c179e"
             ],
             [
              0.4444444444444444,
              "#bd3786"
             ],
             [
              0.5555555555555556,
              "#d8576b"
             ],
             [
              0.6666666666666666,
              "#ed7953"
             ],
             [
              0.7777777777777778,
              "#fb9f3a"
             ],
             [
              0.8888888888888888,
              "#fdca26"
             ],
             [
              1,
              "#f0f921"
             ]
            ],
            "type": "histogram2dcontour"
           }
          ],
          "mesh3d": [
           {
            "colorbar": {
             "outlinewidth": 0,
             "ticks": ""
            },
            "type": "mesh3d"
           }
          ],
          "parcoords": [
           {
            "line": {
             "colorbar": {
              "outlinewidth": 0,
              "ticks": ""
             }
            },
            "type": "parcoords"
           }
          ],
          "pie": [
           {
            "automargin": true,
            "type": "pie"
           }
          ],
          "scatter": [
           {
            "fillpattern": {
             "fillmode": "overlay",
             "size": 10,
             "solidity": 0.2
            },
            "type": "scatter"
           }
          ],
          "scatter3d": [
           {
            "line": {
             "colorbar": {
              "outlinewidth": 0,
              "ticks": ""
             }
            },
            "marker": {
             "colorbar": {
              "outlinewidth": 0,
              "ticks": ""
             }
            },
            "type": "scatter3d"
           }
          ],
          "scattercarpet": [
           {
            "marker": {
             "colorbar": {
              "outlinewidth": 0,
              "ticks": ""
             }
            },
            "type": "scattercarpet"
           }
          ],
          "scattergeo": [
           {
            "marker": {
             "colorbar": {
              "outlinewidth": 0,
              "ticks": ""
             }
            },
            "type": "scattergeo"
           }
          ],
          "scattergl": [
           {
            "marker": {
             "colorbar": {
              "outlinewidth": 0,
              "ticks": ""
             }
            },
            "type": "scattergl"
           }
          ],
          "scattermapbox": [
           {
            "marker": {
             "colorbar": {
              "outlinewidth": 0,
              "ticks": ""
             }
            },
            "type": "scattermapbox"
           }
          ],
          "scatterpolar": [
           {
            "marker": {
             "colorbar": {
              "outlinewidth": 0,
              "ticks": ""
             }
            },
            "type": "scatterpolar"
           }
          ],
          "scatterpolargl": [
           {
            "marker": {
             "colorbar": {
              "outlinewidth": 0,
              "ticks": ""
             }
            },
            "type": "scatterpolargl"
           }
          ],
          "scatterternary": [
           {
            "marker": {
             "colorbar": {
              "outlinewidth": 0,
              "ticks": ""
             }
            },
            "type": "scatterternary"
           }
          ],
          "surface": [
           {
            "colorbar": {
             "outlinewidth": 0,
             "ticks": ""
            },
            "colorscale": [
             [
              0,
              "#0d0887"
             ],
             [
              0.1111111111111111,
              "#46039f"
             ],
             [
              0.2222222222222222,
              "#7201a8"
             ],
             [
              0.3333333333333333,
              "#9c179e"
             ],
             [
              0.4444444444444444,
              "#bd3786"
             ],
             [
              0.5555555555555556,
              "#d8576b"
             ],
             [
              0.6666666666666666,
              "#ed7953"
             ],
             [
              0.7777777777777778,
              "#fb9f3a"
             ],
             [
              0.8888888888888888,
              "#fdca26"
             ],
             [
              1,
              "#f0f921"
             ]
            ],
            "type": "surface"
           }
          ],
          "table": [
           {
            "cells": {
             "fill": {
              "color": "#EBF0F8"
             },
             "line": {
              "color": "white"
             }
            },
            "header": {
             "fill": {
              "color": "#C8D4E3"
             },
             "line": {
              "color": "white"
             }
            },
            "type": "table"
           }
          ]
         },
         "layout": {
          "annotationdefaults": {
           "arrowcolor": "#2a3f5f",
           "arrowhead": 0,
           "arrowwidth": 1
          },
          "autotypenumbers": "strict",
          "coloraxis": {
           "colorbar": {
            "outlinewidth": 0,
            "ticks": ""
           }
          },
          "colorscale": {
           "diverging": [
            [
             0,
             "#8e0152"
            ],
            [
             0.1,
             "#c51b7d"
            ],
            [
             0.2,
             "#de77ae"
            ],
            [
             0.3,
             "#f1b6da"
            ],
            [
             0.4,
             "#fde0ef"
            ],
            [
             0.5,
             "#f7f7f7"
            ],
            [
             0.6,
             "#e6f5d0"
            ],
            [
             0.7,
             "#b8e186"
            ],
            [
             0.8,
             "#7fbc41"
            ],
            [
             0.9,
             "#4d9221"
            ],
            [
             1,
             "#276419"
            ]
           ],
           "sequential": [
            [
             0,
             "#0d0887"
            ],
            [
             0.1111111111111111,
             "#46039f"
            ],
            [
             0.2222222222222222,
             "#7201a8"
            ],
            [
             0.3333333333333333,
             "#9c179e"
            ],
            [
             0.4444444444444444,
             "#bd3786"
            ],
            [
             0.5555555555555556,
             "#d8576b"
            ],
            [
             0.6666666666666666,
             "#ed7953"
            ],
            [
             0.7777777777777778,
             "#fb9f3a"
            ],
            [
             0.8888888888888888,
             "#fdca26"
            ],
            [
             1,
             "#f0f921"
            ]
           ],
           "sequentialminus": [
            [
             0,
             "#0d0887"
            ],
            [
             0.1111111111111111,
             "#46039f"
            ],
            [
             0.2222222222222222,
             "#7201a8"
            ],
            [
             0.3333333333333333,
             "#9c179e"
            ],
            [
             0.4444444444444444,
             "#bd3786"
            ],
            [
             0.5555555555555556,
             "#d8576b"
            ],
            [
             0.6666666666666666,
             "#ed7953"
            ],
            [
             0.7777777777777778,
             "#fb9f3a"
            ],
            [
             0.8888888888888888,
             "#fdca26"
            ],
            [
             1,
             "#f0f921"
            ]
           ]
          },
          "colorway": [
           "#636efa",
           "#EF553B",
           "#00cc96",
           "#ab63fa",
           "#FFA15A",
           "#19d3f3",
           "#FF6692",
           "#B6E880",
           "#FF97FF",
           "#FECB52"
          ],
          "font": {
           "color": "#2a3f5f"
          },
          "geo": {
           "bgcolor": "white",
           "lakecolor": "white",
           "landcolor": "#E5ECF6",
           "showlakes": true,
           "showland": true,
           "subunitcolor": "white"
          },
          "hoverlabel": {
           "align": "left"
          },
          "hovermode": "closest",
          "mapbox": {
           "style": "light"
          },
          "paper_bgcolor": "white",
          "plot_bgcolor": "#E5ECF6",
          "polar": {
           "angularaxis": {
            "gridcolor": "white",
            "linecolor": "white",
            "ticks": ""
           },
           "bgcolor": "#E5ECF6",
           "radialaxis": {
            "gridcolor": "white",
            "linecolor": "white",
            "ticks": ""
           }
          },
          "scene": {
           "xaxis": {
            "backgroundcolor": "#E5ECF6",
            "gridcolor": "white",
            "gridwidth": 2,
            "linecolor": "white",
            "showbackground": true,
            "ticks": "",
            "zerolinecolor": "white"
           },
           "yaxis": {
            "backgroundcolor": "#E5ECF6",
            "gridcolor": "white",
            "gridwidth": 2,
            "linecolor": "white",
            "showbackground": true,
            "ticks": "",
            "zerolinecolor": "white"
           },
           "zaxis": {
            "backgroundcolor": "#E5ECF6",
            "gridcolor": "white",
            "gridwidth": 2,
            "linecolor": "white",
            "showbackground": true,
            "ticks": "",
            "zerolinecolor": "white"
           }
          },
          "shapedefaults": {
           "line": {
            "color": "#2a3f5f"
           }
          },
          "ternary": {
           "aaxis": {
            "gridcolor": "white",
            "linecolor": "white",
            "ticks": ""
           },
           "baxis": {
            "gridcolor": "white",
            "linecolor": "white",
            "ticks": ""
           },
           "bgcolor": "#E5ECF6",
           "caxis": {
            "gridcolor": "white",
            "linecolor": "white",
            "ticks": ""
           }
          },
          "title": {
           "x": 0.05
          },
          "xaxis": {
           "automargin": true,
           "gridcolor": "white",
           "linecolor": "white",
           "ticks": "",
           "title": {
            "standoff": 15
           },
           "zerolinecolor": "white",
           "zerolinewidth": 2
          },
          "yaxis": {
           "automargin": true,
           "gridcolor": "white",
           "linecolor": "white",
           "ticks": "",
           "title": {
            "standoff": 15
           },
           "zerolinecolor": "white",
           "zerolinewidth": 2
          }
         }
        },
        "title": {
         "text": "Percentage of Missing Values by Column"
        },
        "xaxis": {
         "anchor": "y",
         "domain": [
          0,
          1
         ],
         "title": {
          "text": "Columns"
         }
        },
        "yaxis": {
         "anchor": "x",
         "domain": [
          0,
          1
         ],
         "title": {
          "text": "Percentage (%)"
         }
        }
       }
      }
     },
     "metadata": {},
     "output_type": "display_data"
    }
   ],
   "source": [
    "\n",
    "\n",
    "column_string = \"\"\"\n",
    "DON_CHARIT\n",
    "DON_POLIT\n",
    "PRESENCHLD\n",
    "PRFL_2NDAMEND\n",
    "PRFL_ACTIVE_MIL\n",
    "PRFL_AMZN_PRIME\n",
    "PRFL_ANML_RIGHTS\n",
    "PRFL_BIDEN_SUPPORT\n",
    "PRFL_BLM_SUPPORT\n",
    "PRFL_BORDER_SECURITY\n",
    "PRFL_CLINTON_SUPPORT\n",
    "PRFL_CONSERVATIVE_NEWS\n",
    "PRFL_EDUCATION\n",
    "PRFL_ENVIRONMENT\n",
    "PRFL_EVANGELICAL\n",
    "PRFL_FENCE_SITTER\n",
    "PRFL_GUN_CONTROL\n",
    "PRFL_HEALTHCARE\n",
    "PRFL_HEALTHCARE_REFORM\n",
    "PRFL_IMMIGRATION_REFORM\n",
    "PRFL_INFLUENCER\n",
    "PRFL_INSURANCE\n",
    "PRFL_LABOR\n",
    "PRFL_LIBERAL_NEWS\n",
    "PRFL_MARIJUANA_REFORM\n",
    "PRFL_METOO_SUPPORT\n",
    "PRFL_MIL_SUPPORT\n",
    "PRFL_MINWAGE\n",
    "PRFL_OBAMA\n",
    "PRFL_PERSUADABLE_VOTER\n",
    "PRFL_SANDERS_SUPPORT\n",
    "PRFL_TAXES\n",
    "PRFL_TEACHERS_UNION\n",
    "PRFL_TRUMP_SUPPORT\n",
    "PRFL_VETERAN\n",
    "VTR_GEN00\n",
    "VTR_GEN01\n",
    "VTR_GEN02\n",
    "VTR_GEN03\n",
    "VTR_GEN04\n",
    "VTR_GEN05\n",
    "VTR_GEN06\n",
    "VTR_GEN07\n",
    "VTR_GEN08\n",
    "VTR_GEN09\n",
    "VTR_GEN10\n",
    "VTR_GEN11\n",
    "VTR_GEN12\n",
    "VTR_GEN13\n",
    "VTR_GEN14\n",
    "VTR_GEN15\n",
    "VTR_GEN16\n",
    "VTR_GEN17\n",
    "VTR_GEN18\n",
    "VTR_GEN19\n",
    "VTR_GEN20\n",
    "VTR_GEN21\n",
    "VTR_GEN22\n",
    "VTR_OTH00\n",
    "VTR_OTH01\n",
    "VTR_OTH02\n",
    "VTR_OTH03\n",
    "VTR_OTH04\n",
    "VTR_OTH05\n",
    "VTR_OTH06\n",
    "VTR_OTH07\n",
    "VTR_OTH08\n",
    "VTR_OTH09\n",
    "VTR_OTH10\n",
    "VTR_OTH11\n",
    "VTR_OTH12\n",
    "VTR_OTH13\n",
    "VTR_OTH14\n",
    "VTR_OTH15\n",
    "VTR_OTH16\n",
    "VTR_OTH17\n",
    "VTR_OTH18\n",
    "VTR_OTH19\n",
    "VTR_OTH20\n",
    "VTR_OTH21\n",
    "VTR_OTH22\n",
    "VTR_PPP00\n",
    "VTR_PPP04\n",
    "VTR_PPP08\n",
    "VTR_PPP12\n",
    "VTR_PPP16\n",
    "VTR_PPP20\n",
    "VTR_PRI00\n",
    "VTR_PRI01\n",
    "VTR_PRI02\n",
    "VTR_PRI03\n",
    "VTR_PRI04\n",
    "VTR_PRI05\n",
    "VTR_PRI06\n",
    "VTR_PRI07\n",
    "VTR_PRI08\n",
    "VTR_PRI09\n",
    "VTR_PRI10\n",
    "VTR_PRI11\n",
    "VTR_PRI12\n",
    "VTR_PRI13\n",
    "VTR_PRI14\n",
    "VTR_PRI15\n",
    "VTR_PRI16\n",
    "VTR_PRI17\n",
    "VTR_PRI18\n",
    "VTR_PRI19\n",
    "VTR_PRI20\n",
    "VTR_PRI21\n",
    "VTR_PRI22 \"\"\"\n",
    "\n",
    "columns_to_impute = convert_columns_to_list(column_string)\n",
    "df_imputed = impute_missing_values(df_cleaned, columns_to_impute, \"N\")\n",
    "plot_missing_values(df_imputed)"
   ]
  },
  {
   "cell_type": "code",
   "execution_count": 4,
   "metadata": {},
   "outputs": [
    {
     "data": {
      "application/vnd.plotly.v1+json": {
       "config": {
        "plotlyServerURL": "https://plot.ly"
       },
       "data": [
        {
         "alignmentgroup": "True",
         "hovertemplate": "Columns=%{x}<br>Percentage (%)=%{y}<extra></extra>",
         "legendgroup": "",
         "marker": {
          "color": "#636efa",
          "pattern": {
           "shape": ""
          }
         },
         "name": "",
         "offsetgroup": "",
         "orientation": "v",
         "showlegend": false,
         "textposition": "auto",
         "type": "bar",
         "x": [
          "ADD_TYPE",
          "AFAMPROFLS",
          "AGE",
          "AIRCOND",
          "APP_CHILD",
          "APP_MENBIG",
          "APP_TODDLR",
          "APP_WOMEN",
          "APP_WOMPET",
          "APP_WOMPLS",
          "APP_YNGMEN",
          "ARTS",
          "ASSMLCODE",
          "AUTOACCES",
          "AUTOWORK",
          "BOATING",
          "BROADERLIV",
          "BUS_OWNER",
          "CARDUSER",
          "CATOWNER",
          "CH_0002FEM",
          "CH_0002MAL",
          "CH_0002UNK",
          "CH_0305FEM",
          "CH_0305MAL",
          "CH_0305UNK",
          "CH_0610FEM",
          "CH_0610MAL",
          "CH_0610UNK",
          "CH_1115FEM",
          "CH_1115MAL",
          "CH_1115UNK",
          "CH_1617FEM",
          "CH_1617MAL",
          "CH_1617UNK",
          "CHRISTFAM",
          "CNS_MEDINC",
          "CNSUS_PCTA",
          "CNSUS_PCTB",
          "CNSUS_PCTH",
          "CNSUS_PCTI",
          "CNSUS_PCTM",
          "CNSUS_PCTO",
          "CNSUS_PCTP",
          "CNSUS_PCTW",
          "COL_ANTIQ",
          "COL_ARTS",
          "COL_COIN",
          "COL_SPORT",
          "COL_STAMP",
          "COMPHOMOFC",
          "COMPUTERS",
          "COOK_GEN",
          "COUNTY_TYPE",
          "CRD_RANGE",
          "CREDRATE",
          "CURRAFFAIR",
          "DEPTSTCRD",
          "DIETING",
          "DIYLIV",
          "DOGOWNER",
          "DON_ANML",
          "DON_ARTCUL",
          "DON_CHILD",
          "DON_ENVIR",
          "DON_ENVWLD",
          "DON_HEALTH",
          "DON_INTAID",
          "DON_OTHER",
          "DON_POLCONS",
          "DON_POLLIB",
          "DON_RELIG",
          "DON_VET",
          "DONATION",
          "EDU_ONLINE",
          "EDUCATION",
          "EQUESTRIAN",
          "ETHNIC_INFER",
          "ETHNICCODE",
          "ETHNICCONF",
          "ETHNICGRP",
          "EXER_GROUP",
          "FUND_POLIT",
          "GAMING",
          "GARDENER",
          "GENDER_MIX",
          "GENERATION",
          "GOLF",
          "GRANDCHLD",
          "HEALTHBEAU",
          "HEATHMED",
          "HH_NUMGEN",
          "HH_SENIOR",
          "HH_SIZE",
          "HH_VETERAN",
          "HH_YOUNGAD",
          "HIGHBROW",
          "HIGHENDAPP",
          "HISTMIL",
          "HITECHLIV",
          "HOME_DECOR",
          "HOMEMKTVAL",
          "HOMEOFFICE",
          "HOMEOWNER",
          "HOMEOWNRNT",
          "HUNTING",
          "HUNTSHOOT",
          "INCOMESTHH",
          "INV_ACTIVE",
          "LANGUAGE",
          "LENGTH_RES",
          "LIFESTAGE_CLUSTER",
          "MAIL_DONOR",
          "MAILORDBUY",
          "MAILORDRSP",
          "MOTORCYCLE",
          "NASCAR",
          "NETWORTH",
          "NUMCHILD",
          "OCCDETAIL",
          "OCCUPATION",
          "PARENTING",
          "PERSONS_HH",
          "PETS",
          "POOL",
          "PRFL_CHOICELIFE",
          "PRFL_LGBT_SUPPORT",
          "PRFL_MARRIAGE_EQUALITY",
          "PRFL_POLITICAL_IDEOLOGY",
          "PRFL_TEAPARTY",
          "RD_FINNEWS",
          "RD_GEN",
          "RD_RELIG",
          "RD_SCIFI",
          "RELIGINSP",
          "RELIGION",
          "SCISPACE",
          "SCUBADIVER",
          "SELFIMP",
          "SEX",
          "SINGPARENT",
          "SMOKING",
          "SPEC_AUTO",
          "SPEC_BASE",
          "SPEC_BASK",
          "SPEC_FOOT",
          "SPEC_HOCK",
          "SPEC_SOCC",
          "SPORTLEIS",
          "ST_LO_HOUS",
          "ST_UP_HOUS",
          "STATUS",
          "SWEEPSTAKE",
          "TELECOM",
          "TENNIS",
          "THEATER",
          "TOD_PRES_D_2016",
          "TOD_PRES_D_2016_PREC",
          "TOD_PRES_D_2020_PREC",
          "TOD_PRES_DIFF_2016",
          "TOD_PRES_DIFF_2016_PREC",
          "TOD_PRES_DIFF_2020_PREC",
          "TOD_PRES_O_2016",
          "TOD_PRES_O_2016_PREC",
          "TOD_PRES_O_2020_PREC",
          "TOD_PRES_R_2016",
          "TOD_PRES_R_2016_PREC",
          "TOD_PRES_R_2020_PREC",
          "TRAVEL",
          "VOTER_CNT",
          "VP_GEN",
          "VP_OTH",
          "VP_PPP",
          "VP_PRI",
          "WORKWOMAN",
          "YEARBUILT",
          "Q2_Support",
          "Q3_Party",
          "Q4_LikelyVoter",
          "Q5_TrumpSupport"
         ],
         "xaxis": "x",
         "y": [
          1.7307692307692308,
          99.67948717948718,
          0.1282051282051282,
          69.42307692307692,
          96.6025641025641,
          98.07692307692307,
          98.26923076923076,
          98.07692307692307,
          98.07692307692307,
          96.08974358974359,
          99.87179487179488,
          83.52564102564102,
          94.74358974358974,
          89.48717948717949,
          76.15384615384615,
          90.96153846153847,
          76.53846153846153,
          97.05128205128204,
          33.782051282051285,
          85.96153846153847,
          100,
          99.74358974358975,
          96.21794871794872,
          99.2948717948718,
          99.48717948717949,
          96.53846153846153,
          97.17948717948718,
          97.6923076923077,
          92.17948717948717,
          95.83333333333334,
          96.41025641025641,
          92.43589743589745,
          98.46153846153847,
          98.84615384615385,
          92.24358974358975,
          90.38461538461539,
          45.06410256410256,
          2.1153846153846154,
          2.1153846153846154,
          2.1153846153846154,
          2.1153846153846154,
          2.1153846153846154,
          2.1153846153846154,
          2.1153846153846154,
          2.1153846153846154,
          83.84615384615385,
          96.21794871794872,
          92.17948717948717,
          95.83333333333334,
          97.94871794871794,
          97.6923076923077,
          44.03846153846154,
          64.8076923076923,
          0.1282051282051282,
          69.93589743589743,
          21.73076923076923,
          84.74358974358974,
          65.96153846153847,
          77.11538461538461,
          95.8974358974359,
          81.34615384615384,
          91.28205128205128,
          98.84615384615385,
          88.33333333333333,
          99.87179487179488,
          90.83333333333333,
          75.7051282051282,
          94.67948717948718,
          93.2051282051282,
          95.96153846153847,
          97.75641025641025,
          87.37179487179488,
          91.02564102564102,
          95.12820512820512,
          94.48717948717949,
          39.23076923076923,
          97.11538461538461,
          8.717948717948717,
          20.64102564102564,
          96.21794871794872,
          20.64102564102564,
          48.78205128205128,
          68.71794871794872,
          99.61538461538461,
          69.55128205128204,
          0.1282051282051282,
          5.384615384615385,
          79.93589743589745,
          86.92307692307692,
          78.58974358974359,
          65.8974358974359,
          36.794871794871796,
          89.2948717948718,
          14.423076923076922,
          94.42307692307692,
          92.11538461538461,
          86.34615384615385,
          99.61538461538461,
          96.47435897435898,
          79.93589743589745,
          44.230769230769226,
          25.44871794871795,
          83.97435897435898,
          20.64102564102564,
          19.294871794871796,
          92.88461538461539,
          84.23076923076923,
          13.012820512820515,
          94.48717948717949,
          20.64102564102564,
          15.384615384615385,
          10.384615384615385,
          97.88461538461539,
          37.82051282051282,
          37.82051282051282,
          94.16666666666667,
          91.6025641025641,
          16.08974358974359,
          46.85897435897436,
          73.71794871794873,
          58.46153846153847,
          97.43589743589743,
          46.47435897435898,
          72.56410256410255,
          94.2948717948718,
          87.62820512820512,
          95.06410256410255,
          97.6923076923077,
          13.91025641025641,
          95.32051282051283,
          92.94871794871796,
          44.871794871794876,
          81.15384615384616,
          96.34615384615385,
          84.8076923076923,
          21.025641025641026,
          97.56410256410255,
          99.2948717948718,
          92.6923076923077,
          0.0641025641025641,
          95.64102564102565,
          95.76923076923077,
          92.6923076923077,
          83.3974358974359,
          84.35897435897436,
          77.82051282051282,
          94.35897435897435,
          100,
          80.76923076923077,
          0.19230769230769232,
          0.19230769230769232,
          3.5897435897435894,
          78.58974358974359,
          99.93589743589743,
          99.03846153846155,
          90.76923076923077,
          0.38461538461538464,
          3.076923076923077,
          14.166666666666666,
          0.38461538461538464,
          3.076923076923077,
          14.166666666666666,
          0.38461538461538464,
          3.076923076923077,
          14.166666666666666,
          0.38461538461538464,
          3.076923076923077,
          14.166666666666666,
          70.44871794871796,
          0.1282051282051282,
          1.0897435897435896,
          1.0897435897435896,
          1.0897435897435896,
          1.0897435897435896,
          63.01282051282051,
          39.03846153846154,
          10,
          3.141025641025641,
          3.141025641025641,
          3.141025641025641
         ],
         "yaxis": "y"
        }
       ],
       "layout": {
        "barmode": "relative",
        "height": 600,
        "legend": {
         "tracegroupgap": 0
        },
        "template": {
         "data": {
          "bar": [
           {
            "error_x": {
             "color": "#2a3f5f"
            },
            "error_y": {
             "color": "#2a3f5f"
            },
            "marker": {
             "line": {
              "color": "#E5ECF6",
              "width": 0.5
             },
             "pattern": {
              "fillmode": "overlay",
              "size": 10,
              "solidity": 0.2
             }
            },
            "type": "bar"
           }
          ],
          "barpolar": [
           {
            "marker": {
             "line": {
              "color": "#E5ECF6",
              "width": 0.5
             },
             "pattern": {
              "fillmode": "overlay",
              "size": 10,
              "solidity": 0.2
             }
            },
            "type": "barpolar"
           }
          ],
          "carpet": [
           {
            "aaxis": {
             "endlinecolor": "#2a3f5f",
             "gridcolor": "white",
             "linecolor": "white",
             "minorgridcolor": "white",
             "startlinecolor": "#2a3f5f"
            },
            "baxis": {
             "endlinecolor": "#2a3f5f",
             "gridcolor": "white",
             "linecolor": "white",
             "minorgridcolor": "white",
             "startlinecolor": "#2a3f5f"
            },
            "type": "carpet"
           }
          ],
          "choropleth": [
           {
            "colorbar": {
             "outlinewidth": 0,
             "ticks": ""
            },
            "type": "choropleth"
           }
          ],
          "contour": [
           {
            "colorbar": {
             "outlinewidth": 0,
             "ticks": ""
            },
            "colorscale": [
             [
              0,
              "#0d0887"
             ],
             [
              0.1111111111111111,
              "#46039f"
             ],
             [
              0.2222222222222222,
              "#7201a8"
             ],
             [
              0.3333333333333333,
              "#9c179e"
             ],
             [
              0.4444444444444444,
              "#bd3786"
             ],
             [
              0.5555555555555556,
              "#d8576b"
             ],
             [
              0.6666666666666666,
              "#ed7953"
             ],
             [
              0.7777777777777778,
              "#fb9f3a"
             ],
             [
              0.8888888888888888,
              "#fdca26"
             ],
             [
              1,
              "#f0f921"
             ]
            ],
            "type": "contour"
           }
          ],
          "contourcarpet": [
           {
            "colorbar": {
             "outlinewidth": 0,
             "ticks": ""
            },
            "type": "contourcarpet"
           }
          ],
          "heatmap": [
           {
            "colorbar": {
             "outlinewidth": 0,
             "ticks": ""
            },
            "colorscale": [
             [
              0,
              "#0d0887"
             ],
             [
              0.1111111111111111,
              "#46039f"
             ],
             [
              0.2222222222222222,
              "#7201a8"
             ],
             [
              0.3333333333333333,
              "#9c179e"
             ],
             [
              0.4444444444444444,
              "#bd3786"
             ],
             [
              0.5555555555555556,
              "#d8576b"
             ],
             [
              0.6666666666666666,
              "#ed7953"
             ],
             [
              0.7777777777777778,
              "#fb9f3a"
             ],
             [
              0.8888888888888888,
              "#fdca26"
             ],
             [
              1,
              "#f0f921"
             ]
            ],
            "type": "heatmap"
           }
          ],
          "heatmapgl": [
           {
            "colorbar": {
             "outlinewidth": 0,
             "ticks": ""
            },
            "colorscale": [
             [
              0,
              "#0d0887"
             ],
             [
              0.1111111111111111,
              "#46039f"
             ],
             [
              0.2222222222222222,
              "#7201a8"
             ],
             [
              0.3333333333333333,
              "#9c179e"
             ],
             [
              0.4444444444444444,
              "#bd3786"
             ],
             [
              0.5555555555555556,
              "#d8576b"
             ],
             [
              0.6666666666666666,
              "#ed7953"
             ],
             [
              0.7777777777777778,
              "#fb9f3a"
             ],
             [
              0.8888888888888888,
              "#fdca26"
             ],
             [
              1,
              "#f0f921"
             ]
            ],
            "type": "heatmapgl"
           }
          ],
          "histogram": [
           {
            "marker": {
             "pattern": {
              "fillmode": "overlay",
              "size": 10,
              "solidity": 0.2
             }
            },
            "type": "histogram"
           }
          ],
          "histogram2d": [
           {
            "colorbar": {
             "outlinewidth": 0,
             "ticks": ""
            },
            "colorscale": [
             [
              0,
              "#0d0887"
             ],
             [
              0.1111111111111111,
              "#46039f"
             ],
             [
              0.2222222222222222,
              "#7201a8"
             ],
             [
              0.3333333333333333,
              "#9c179e"
             ],
             [
              0.4444444444444444,
              "#bd3786"
             ],
             [
              0.5555555555555556,
              "#d8576b"
             ],
             [
              0.6666666666666666,
              "#ed7953"
             ],
             [
              0.7777777777777778,
              "#fb9f3a"
             ],
             [
              0.8888888888888888,
              "#fdca26"
             ],
             [
              1,
              "#f0f921"
             ]
            ],
            "type": "histogram2d"
           }
          ],
          "histogram2dcontour": [
           {
            "colorbar": {
             "outlinewidth": 0,
             "ticks": ""
            },
            "colorscale": [
             [
              0,
              "#0d0887"
             ],
             [
              0.1111111111111111,
              "#46039f"
             ],
             [
              0.2222222222222222,
              "#7201a8"
             ],
             [
              0.3333333333333333,
              "#9c179e"
             ],
             [
              0.4444444444444444,
              "#bd3786"
             ],
             [
              0.5555555555555556,
              "#d8576b"
             ],
             [
              0.6666666666666666,
              "#ed7953"
             ],
             [
              0.7777777777777778,
              "#fb9f3a"
             ],
             [
              0.8888888888888888,
              "#fdca26"
             ],
             [
              1,
              "#f0f921"
             ]
            ],
            "type": "histogram2dcontour"
           }
          ],
          "mesh3d": [
           {
            "colorbar": {
             "outlinewidth": 0,
             "ticks": ""
            },
            "type": "mesh3d"
           }
          ],
          "parcoords": [
           {
            "line": {
             "colorbar": {
              "outlinewidth": 0,
              "ticks": ""
             }
            },
            "type": "parcoords"
           }
          ],
          "pie": [
           {
            "automargin": true,
            "type": "pie"
           }
          ],
          "scatter": [
           {
            "fillpattern": {
             "fillmode": "overlay",
             "size": 10,
             "solidity": 0.2
            },
            "type": "scatter"
           }
          ],
          "scatter3d": [
           {
            "line": {
             "colorbar": {
              "outlinewidth": 0,
              "ticks": ""
             }
            },
            "marker": {
             "colorbar": {
              "outlinewidth": 0,
              "ticks": ""
             }
            },
            "type": "scatter3d"
           }
          ],
          "scattercarpet": [
           {
            "marker": {
             "colorbar": {
              "outlinewidth": 0,
              "ticks": ""
             }
            },
            "type": "scattercarpet"
           }
          ],
          "scattergeo": [
           {
            "marker": {
             "colorbar": {
              "outlinewidth": 0,
              "ticks": ""
             }
            },
            "type": "scattergeo"
           }
          ],
          "scattergl": [
           {
            "marker": {
             "colorbar": {
              "outlinewidth": 0,
              "ticks": ""
             }
            },
            "type": "scattergl"
           }
          ],
          "scattermapbox": [
           {
            "marker": {
             "colorbar": {
              "outlinewidth": 0,
              "ticks": ""
             }
            },
            "type": "scattermapbox"
           }
          ],
          "scatterpolar": [
           {
            "marker": {
             "colorbar": {
              "outlinewidth": 0,
              "ticks": ""
             }
            },
            "type": "scatterpolar"
           }
          ],
          "scatterpolargl": [
           {
            "marker": {
             "colorbar": {
              "outlinewidth": 0,
              "ticks": ""
             }
            },
            "type": "scatterpolargl"
           }
          ],
          "scatterternary": [
           {
            "marker": {
             "colorbar": {
              "outlinewidth": 0,
              "ticks": ""
             }
            },
            "type": "scatterternary"
           }
          ],
          "surface": [
           {
            "colorbar": {
             "outlinewidth": 0,
             "ticks": ""
            },
            "colorscale": [
             [
              0,
              "#0d0887"
             ],
             [
              0.1111111111111111,
              "#46039f"
             ],
             [
              0.2222222222222222,
              "#7201a8"
             ],
             [
              0.3333333333333333,
              "#9c179e"
             ],
             [
              0.4444444444444444,
              "#bd3786"
             ],
             [
              0.5555555555555556,
              "#d8576b"
             ],
             [
              0.6666666666666666,
              "#ed7953"
             ],
             [
              0.7777777777777778,
              "#fb9f3a"
             ],
             [
              0.8888888888888888,
              "#fdca26"
             ],
             [
              1,
              "#f0f921"
             ]
            ],
            "type": "surface"
           }
          ],
          "table": [
           {
            "cells": {
             "fill": {
              "color": "#EBF0F8"
             },
             "line": {
              "color": "white"
             }
            },
            "header": {
             "fill": {
              "color": "#C8D4E3"
             },
             "line": {
              "color": "white"
             }
            },
            "type": "table"
           }
          ]
         },
         "layout": {
          "annotationdefaults": {
           "arrowcolor": "#2a3f5f",
           "arrowhead": 0,
           "arrowwidth": 1
          },
          "autotypenumbers": "strict",
          "coloraxis": {
           "colorbar": {
            "outlinewidth": 0,
            "ticks": ""
           }
          },
          "colorscale": {
           "diverging": [
            [
             0,
             "#8e0152"
            ],
            [
             0.1,
             "#c51b7d"
            ],
            [
             0.2,
             "#de77ae"
            ],
            [
             0.3,
             "#f1b6da"
            ],
            [
             0.4,
             "#fde0ef"
            ],
            [
             0.5,
             "#f7f7f7"
            ],
            [
             0.6,
             "#e6f5d0"
            ],
            [
             0.7,
             "#b8e186"
            ],
            [
             0.8,
             "#7fbc41"
            ],
            [
             0.9,
             "#4d9221"
            ],
            [
             1,
             "#276419"
            ]
           ],
           "sequential": [
            [
             0,
             "#0d0887"
            ],
            [
             0.1111111111111111,
             "#46039f"
            ],
            [
             0.2222222222222222,
             "#7201a8"
            ],
            [
             0.3333333333333333,
             "#9c179e"
            ],
            [
             0.4444444444444444,
             "#bd3786"
            ],
            [
             0.5555555555555556,
             "#d8576b"
            ],
            [
             0.6666666666666666,
             "#ed7953"
            ],
            [
             0.7777777777777778,
             "#fb9f3a"
            ],
            [
             0.8888888888888888,
             "#fdca26"
            ],
            [
             1,
             "#f0f921"
            ]
           ],
           "sequentialminus": [
            [
             0,
             "#0d0887"
            ],
            [
             0.1111111111111111,
             "#46039f"
            ],
            [
             0.2222222222222222,
             "#7201a8"
            ],
            [
             0.3333333333333333,
             "#9c179e"
            ],
            [
             0.4444444444444444,
             "#bd3786"
            ],
            [
             0.5555555555555556,
             "#d8576b"
            ],
            [
             0.6666666666666666,
             "#ed7953"
            ],
            [
             0.7777777777777778,
             "#fb9f3a"
            ],
            [
             0.8888888888888888,
             "#fdca26"
            ],
            [
             1,
             "#f0f921"
            ]
           ]
          },
          "colorway": [
           "#636efa",
           "#EF553B",
           "#00cc96",
           "#ab63fa",
           "#FFA15A",
           "#19d3f3",
           "#FF6692",
           "#B6E880",
           "#FF97FF",
           "#FECB52"
          ],
          "font": {
           "color": "#2a3f5f"
          },
          "geo": {
           "bgcolor": "white",
           "lakecolor": "white",
           "landcolor": "#E5ECF6",
           "showlakes": true,
           "showland": true,
           "subunitcolor": "white"
          },
          "hoverlabel": {
           "align": "left"
          },
          "hovermode": "closest",
          "mapbox": {
           "style": "light"
          },
          "paper_bgcolor": "white",
          "plot_bgcolor": "#E5ECF6",
          "polar": {
           "angularaxis": {
            "gridcolor": "white",
            "linecolor": "white",
            "ticks": ""
           },
           "bgcolor": "#E5ECF6",
           "radialaxis": {
            "gridcolor": "white",
            "linecolor": "white",
            "ticks": ""
           }
          },
          "scene": {
           "xaxis": {
            "backgroundcolor": "#E5ECF6",
            "gridcolor": "white",
            "gridwidth": 2,
            "linecolor": "white",
            "showbackground": true,
            "ticks": "",
            "zerolinecolor": "white"
           },
           "yaxis": {
            "backgroundcolor": "#E5ECF6",
            "gridcolor": "white",
            "gridwidth": 2,
            "linecolor": "white",
            "showbackground": true,
            "ticks": "",
            "zerolinecolor": "white"
           },
           "zaxis": {
            "backgroundcolor": "#E5ECF6",
            "gridcolor": "white",
            "gridwidth": 2,
            "linecolor": "white",
            "showbackground": true,
            "ticks": "",
            "zerolinecolor": "white"
           }
          },
          "shapedefaults": {
           "line": {
            "color": "#2a3f5f"
           }
          },
          "ternary": {
           "aaxis": {
            "gridcolor": "white",
            "linecolor": "white",
            "ticks": ""
           },
           "baxis": {
            "gridcolor": "white",
            "linecolor": "white",
            "ticks": ""
           },
           "bgcolor": "#E5ECF6",
           "caxis": {
            "gridcolor": "white",
            "linecolor": "white",
            "ticks": ""
           }
          },
          "title": {
           "x": 0.05
          },
          "xaxis": {
           "automargin": true,
           "gridcolor": "white",
           "linecolor": "white",
           "ticks": "",
           "title": {
            "standoff": 15
           },
           "zerolinecolor": "white",
           "zerolinewidth": 2
          },
          "yaxis": {
           "automargin": true,
           "gridcolor": "white",
           "linecolor": "white",
           "ticks": "",
           "title": {
            "standoff": 15
           },
           "zerolinecolor": "white",
           "zerolinewidth": 2
          }
         }
        },
        "title": {
         "text": "Percentage of Missing Values by Column"
        },
        "xaxis": {
         "anchor": "y",
         "domain": [
          0,
          1
         ],
         "title": {
          "text": "Columns"
         }
        },
        "yaxis": {
         "anchor": "x",
         "domain": [
          0,
          1
         ],
         "title": {
          "text": "Percentage (%)"
         }
        }
       }
      }
     },
     "metadata": {},
     "output_type": "display_data"
    }
   ],
   "source": [
    "columns_fill_zero = [\"CENSUS_TRK\",\n",
    "\"CONG_DIST\"]\n",
    "\n",
    "df_imputed = impute_missing_values(df_imputed, columns_fill_zero, \"zero\")\n",
    "plot_missing_values(df_imputed)"
   ]
  },
  {
   "cell_type": "code",
   "execution_count": 5,
   "metadata": {},
   "outputs": [
    {
     "data": {
      "application/vnd.plotly.v1+json": {
       "config": {
        "plotlyServerURL": "https://plot.ly"
       },
       "data": [
        {
         "alignmentgroup": "True",
         "hovertemplate": "Columns=%{x}<br>Percentage (%)=%{y}<extra></extra>",
         "legendgroup": "",
         "marker": {
          "color": "#636efa",
          "pattern": {
           "shape": ""
          }
         },
         "name": "",
         "offsetgroup": "",
         "orientation": "v",
         "showlegend": false,
         "textposition": "auto",
         "type": "bar",
         "x": [
          "ADD_TYPE",
          "AFAMPROFLS",
          "AIRCOND",
          "APP_CHILD",
          "APP_MENBIG",
          "APP_TODDLR",
          "APP_WOMEN",
          "APP_WOMPET",
          "APP_WOMPLS",
          "APP_YNGMEN",
          "ARTS",
          "ASSMLCODE",
          "AUTOACCES",
          "AUTOWORK",
          "BOATING",
          "BROADERLIV",
          "BUS_OWNER",
          "CARDUSER",
          "CATOWNER",
          "CH_0002FEM",
          "CH_0002MAL",
          "CH_0002UNK",
          "CH_0305FEM",
          "CH_0305MAL",
          "CH_0305UNK",
          "CH_0610FEM",
          "CH_0610MAL",
          "CH_0610UNK",
          "CH_1115FEM",
          "CH_1115MAL",
          "CH_1115UNK",
          "CH_1617FEM",
          "CH_1617MAL",
          "CH_1617UNK",
          "CHRISTFAM",
          "COL_ANTIQ",
          "COL_ARTS",
          "COL_COIN",
          "COL_SPORT",
          "COL_STAMP",
          "COMPHOMOFC",
          "COMPUTERS",
          "COOK_GEN",
          "COUNTY_TYPE",
          "CRD_RANGE",
          "CREDRATE",
          "CURRAFFAIR",
          "DEPTSTCRD",
          "DIETING",
          "DIYLIV",
          "DOGOWNER",
          "DON_ANML",
          "DON_ARTCUL",
          "DON_CHILD",
          "DON_ENVIR",
          "DON_ENVWLD",
          "DON_HEALTH",
          "DON_INTAID",
          "DON_OTHER",
          "DON_POLCONS",
          "DON_POLLIB",
          "DON_RELIG",
          "DON_VET",
          "DONATION",
          "EDU_ONLINE",
          "EDUCATION",
          "EQUESTRIAN",
          "ETHNIC_INFER",
          "ETHNICCODE",
          "ETHNICCONF",
          "ETHNICGRP",
          "EXER_GROUP",
          "FUND_POLIT",
          "GAMING",
          "GARDENER",
          "GENDER_MIX",
          "GENERATION",
          "GOLF",
          "GRANDCHLD",
          "HEALTHBEAU",
          "HEATHMED",
          "HH_NUMGEN",
          "HH_SENIOR",
          "HH_VETERAN",
          "HH_YOUNGAD",
          "HIGHBROW",
          "HIGHENDAPP",
          "HISTMIL",
          "HITECHLIV",
          "HOME_DECOR",
          "HOMEMKTVAL",
          "HOMEOFFICE",
          "HOMEOWNER",
          "HOMEOWNRNT",
          "HUNTING",
          "HUNTSHOOT",
          "INCOMESTHH",
          "INV_ACTIVE",
          "LANGUAGE",
          "LIFESTAGE_CLUSTER",
          "MAIL_DONOR",
          "MAILORDBUY",
          "MAILORDRSP",
          "MOTORCYCLE",
          "NASCAR",
          "NETWORTH",
          "NUMCHILD",
          "OCCDETAIL",
          "OCCUPATION",
          "PARENTING",
          "PETS",
          "POOL",
          "PRFL_CHOICELIFE",
          "PRFL_LGBT_SUPPORT",
          "PRFL_MARRIAGE_EQUALITY",
          "PRFL_POLITICAL_IDEOLOGY",
          "PRFL_TEAPARTY",
          "RD_FINNEWS",
          "RD_GEN",
          "RD_RELIG",
          "RD_SCIFI",
          "RELIGINSP",
          "RELIGION",
          "SCISPACE",
          "SCUBADIVER",
          "SELFIMP",
          "SEX",
          "SINGPARENT",
          "SMOKING",
          "SPEC_AUTO",
          "SPEC_BASE",
          "SPEC_BASK",
          "SPEC_FOOT",
          "SPEC_HOCK",
          "SPEC_SOCC",
          "SPORTLEIS",
          "ST_LO_HOUS",
          "ST_UP_HOUS",
          "STATUS",
          "SWEEPSTAKE",
          "TELECOM",
          "TENNIS",
          "THEATER",
          "TOD_PRES_DIFF_2016",
          "TOD_PRES_DIFF_2016_PREC",
          "TOD_PRES_DIFF_2020_PREC",
          "TRAVEL",
          "WORKWOMAN",
          "YEARBUILT",
          "Q2_Support",
          "Q3_Party",
          "Q4_LikelyVoter",
          "Q5_TrumpSupport"
         ],
         "xaxis": "x",
         "y": [
          1.7307692307692308,
          99.67948717948718,
          69.42307692307692,
          96.6025641025641,
          98.07692307692307,
          98.26923076923076,
          98.07692307692307,
          98.07692307692307,
          96.08974358974359,
          99.87179487179488,
          83.52564102564102,
          94.74358974358974,
          89.48717948717949,
          76.15384615384615,
          90.96153846153847,
          76.53846153846153,
          97.05128205128204,
          33.782051282051285,
          85.96153846153847,
          100,
          99.74358974358975,
          96.21794871794872,
          99.2948717948718,
          99.48717948717949,
          96.53846153846153,
          97.17948717948718,
          97.6923076923077,
          92.17948717948717,
          95.83333333333334,
          96.41025641025641,
          92.43589743589745,
          98.46153846153847,
          98.84615384615385,
          92.24358974358975,
          90.38461538461539,
          83.84615384615385,
          96.21794871794872,
          92.17948717948717,
          95.83333333333334,
          97.94871794871794,
          97.6923076923077,
          44.03846153846154,
          64.8076923076923,
          0.1282051282051282,
          69.93589743589743,
          21.73076923076923,
          84.74358974358974,
          65.96153846153847,
          77.11538461538461,
          95.8974358974359,
          81.34615384615384,
          91.28205128205128,
          98.84615384615385,
          88.33333333333333,
          99.87179487179488,
          90.83333333333333,
          75.7051282051282,
          94.67948717948718,
          93.2051282051282,
          95.96153846153847,
          97.75641025641025,
          87.37179487179488,
          91.02564102564102,
          95.12820512820512,
          94.48717948717949,
          39.23076923076923,
          97.11538461538461,
          8.717948717948717,
          20.64102564102564,
          96.21794871794872,
          20.64102564102564,
          48.78205128205128,
          68.71794871794872,
          99.61538461538461,
          69.55128205128204,
          0.1282051282051282,
          5.384615384615385,
          79.93589743589745,
          86.92307692307692,
          78.58974358974359,
          65.8974358974359,
          36.794871794871796,
          89.2948717948718,
          94.42307692307692,
          92.11538461538461,
          86.34615384615385,
          99.61538461538461,
          96.47435897435898,
          79.93589743589745,
          44.230769230769226,
          25.44871794871795,
          83.97435897435898,
          20.64102564102564,
          19.294871794871796,
          92.88461538461539,
          84.23076923076923,
          13.012820512820515,
          94.48717948717949,
          20.64102564102564,
          10.384615384615385,
          97.88461538461539,
          37.82051282051282,
          37.82051282051282,
          94.16666666666667,
          91.6025641025641,
          16.08974358974359,
          46.85897435897436,
          73.71794871794873,
          58.46153846153847,
          97.43589743589743,
          72.56410256410255,
          94.2948717948718,
          87.62820512820512,
          95.06410256410255,
          97.6923076923077,
          13.91025641025641,
          95.32051282051283,
          92.94871794871796,
          44.871794871794876,
          81.15384615384616,
          96.34615384615385,
          84.8076923076923,
          21.025641025641026,
          97.56410256410255,
          99.2948717948718,
          92.6923076923077,
          0.0641025641025641,
          95.64102564102565,
          95.76923076923077,
          92.6923076923077,
          83.3974358974359,
          84.35897435897436,
          77.82051282051282,
          94.35897435897435,
          100,
          80.76923076923077,
          0.19230769230769232,
          0.19230769230769232,
          3.5897435897435894,
          78.58974358974359,
          99.93589743589743,
          99.03846153846155,
          90.76923076923077,
          0.38461538461538464,
          3.076923076923077,
          14.166666666666666,
          70.44871794871796,
          63.01282051282051,
          39.03846153846154,
          10,
          3.141025641025641,
          3.141025641025641,
          3.141025641025641
         ],
         "yaxis": "y"
        }
       ],
       "layout": {
        "barmode": "relative",
        "height": 600,
        "legend": {
         "tracegroupgap": 0
        },
        "template": {
         "data": {
          "bar": [
           {
            "error_x": {
             "color": "#2a3f5f"
            },
            "error_y": {
             "color": "#2a3f5f"
            },
            "marker": {
             "line": {
              "color": "#E5ECF6",
              "width": 0.5
             },
             "pattern": {
              "fillmode": "overlay",
              "size": 10,
              "solidity": 0.2
             }
            },
            "type": "bar"
           }
          ],
          "barpolar": [
           {
            "marker": {
             "line": {
              "color": "#E5ECF6",
              "width": 0.5
             },
             "pattern": {
              "fillmode": "overlay",
              "size": 10,
              "solidity": 0.2
             }
            },
            "type": "barpolar"
           }
          ],
          "carpet": [
           {
            "aaxis": {
             "endlinecolor": "#2a3f5f",
             "gridcolor": "white",
             "linecolor": "white",
             "minorgridcolor": "white",
             "startlinecolor": "#2a3f5f"
            },
            "baxis": {
             "endlinecolor": "#2a3f5f",
             "gridcolor": "white",
             "linecolor": "white",
             "minorgridcolor": "white",
             "startlinecolor": "#2a3f5f"
            },
            "type": "carpet"
           }
          ],
          "choropleth": [
           {
            "colorbar": {
             "outlinewidth": 0,
             "ticks": ""
            },
            "type": "choropleth"
           }
          ],
          "contour": [
           {
            "colorbar": {
             "outlinewidth": 0,
             "ticks": ""
            },
            "colorscale": [
             [
              0,
              "#0d0887"
             ],
             [
              0.1111111111111111,
              "#46039f"
             ],
             [
              0.2222222222222222,
              "#7201a8"
             ],
             [
              0.3333333333333333,
              "#9c179e"
             ],
             [
              0.4444444444444444,
              "#bd3786"
             ],
             [
              0.5555555555555556,
              "#d8576b"
             ],
             [
              0.6666666666666666,
              "#ed7953"
             ],
             [
              0.7777777777777778,
              "#fb9f3a"
             ],
             [
              0.8888888888888888,
              "#fdca26"
             ],
             [
              1,
              "#f0f921"
             ]
            ],
            "type": "contour"
           }
          ],
          "contourcarpet": [
           {
            "colorbar": {
             "outlinewidth": 0,
             "ticks": ""
            },
            "type": "contourcarpet"
           }
          ],
          "heatmap": [
           {
            "colorbar": {
             "outlinewidth": 0,
             "ticks": ""
            },
            "colorscale": [
             [
              0,
              "#0d0887"
             ],
             [
              0.1111111111111111,
              "#46039f"
             ],
             [
              0.2222222222222222,
              "#7201a8"
             ],
             [
              0.3333333333333333,
              "#9c179e"
             ],
             [
              0.4444444444444444,
              "#bd3786"
             ],
             [
              0.5555555555555556,
              "#d8576b"
             ],
             [
              0.6666666666666666,
              "#ed7953"
             ],
             [
              0.7777777777777778,
              "#fb9f3a"
             ],
             [
              0.8888888888888888,
              "#fdca26"
             ],
             [
              1,
              "#f0f921"
             ]
            ],
            "type": "heatmap"
           }
          ],
          "heatmapgl": [
           {
            "colorbar": {
             "outlinewidth": 0,
             "ticks": ""
            },
            "colorscale": [
             [
              0,
              "#0d0887"
             ],
             [
              0.1111111111111111,
              "#46039f"
             ],
             [
              0.2222222222222222,
              "#7201a8"
             ],
             [
              0.3333333333333333,
              "#9c179e"
             ],
             [
              0.4444444444444444,
              "#bd3786"
             ],
             [
              0.5555555555555556,
              "#d8576b"
             ],
             [
              0.6666666666666666,
              "#ed7953"
             ],
             [
              0.7777777777777778,
              "#fb9f3a"
             ],
             [
              0.8888888888888888,
              "#fdca26"
             ],
             [
              1,
              "#f0f921"
             ]
            ],
            "type": "heatmapgl"
           }
          ],
          "histogram": [
           {
            "marker": {
             "pattern": {
              "fillmode": "overlay",
              "size": 10,
              "solidity": 0.2
             }
            },
            "type": "histogram"
           }
          ],
          "histogram2d": [
           {
            "colorbar": {
             "outlinewidth": 0,
             "ticks": ""
            },
            "colorscale": [
             [
              0,
              "#0d0887"
             ],
             [
              0.1111111111111111,
              "#46039f"
             ],
             [
              0.2222222222222222,
              "#7201a8"
             ],
             [
              0.3333333333333333,
              "#9c179e"
             ],
             [
              0.4444444444444444,
              "#bd3786"
             ],
             [
              0.5555555555555556,
              "#d8576b"
             ],
             [
              0.6666666666666666,
              "#ed7953"
             ],
             [
              0.7777777777777778,
              "#fb9f3a"
             ],
             [
              0.8888888888888888,
              "#fdca26"
             ],
             [
              1,
              "#f0f921"
             ]
            ],
            "type": "histogram2d"
           }
          ],
          "histogram2dcontour": [
           {
            "colorbar": {
             "outlinewidth": 0,
             "ticks": ""
            },
            "colorscale": [
             [
              0,
              "#0d0887"
             ],
             [
              0.1111111111111111,
              "#46039f"
             ],
             [
              0.2222222222222222,
              "#7201a8"
             ],
             [
              0.3333333333333333,
              "#9c179e"
             ],
             [
              0.4444444444444444,
              "#bd3786"
             ],
             [
              0.5555555555555556,
              "#d8576b"
             ],
             [
              0.6666666666666666,
              "#ed7953"
             ],
             [
              0.7777777777777778,
              "#fb9f3a"
             ],
             [
              0.8888888888888888,
              "#fdca26"
             ],
             [
              1,
              "#f0f921"
             ]
            ],
            "type": "histogram2dcontour"
           }
          ],
          "mesh3d": [
           {
            "colorbar": {
             "outlinewidth": 0,
             "ticks": ""
            },
            "type": "mesh3d"
           }
          ],
          "parcoords": [
           {
            "line": {
             "colorbar": {
              "outlinewidth": 0,
              "ticks": ""
             }
            },
            "type": "parcoords"
           }
          ],
          "pie": [
           {
            "automargin": true,
            "type": "pie"
           }
          ],
          "scatter": [
           {
            "fillpattern": {
             "fillmode": "overlay",
             "size": 10,
             "solidity": 0.2
            },
            "type": "scatter"
           }
          ],
          "scatter3d": [
           {
            "line": {
             "colorbar": {
              "outlinewidth": 0,
              "ticks": ""
             }
            },
            "marker": {
             "colorbar": {
              "outlinewidth": 0,
              "ticks": ""
             }
            },
            "type": "scatter3d"
           }
          ],
          "scattercarpet": [
           {
            "marker": {
             "colorbar": {
              "outlinewidth": 0,
              "ticks": ""
             }
            },
            "type": "scattercarpet"
           }
          ],
          "scattergeo": [
           {
            "marker": {
             "colorbar": {
              "outlinewidth": 0,
              "ticks": ""
             }
            },
            "type": "scattergeo"
           }
          ],
          "scattergl": [
           {
            "marker": {
             "colorbar": {
              "outlinewidth": 0,
              "ticks": ""
             }
            },
            "type": "scattergl"
           }
          ],
          "scattermapbox": [
           {
            "marker": {
             "colorbar": {
              "outlinewidth": 0,
              "ticks": ""
             }
            },
            "type": "scattermapbox"
           }
          ],
          "scatterpolar": [
           {
            "marker": {
             "colorbar": {
              "outlinewidth": 0,
              "ticks": ""
             }
            },
            "type": "scatterpolar"
           }
          ],
          "scatterpolargl": [
           {
            "marker": {
             "colorbar": {
              "outlinewidth": 0,
              "ticks": ""
             }
            },
            "type": "scatterpolargl"
           }
          ],
          "scatterternary": [
           {
            "marker": {
             "colorbar": {
              "outlinewidth": 0,
              "ticks": ""
             }
            },
            "type": "scatterternary"
           }
          ],
          "surface": [
           {
            "colorbar": {
             "outlinewidth": 0,
             "ticks": ""
            },
            "colorscale": [
             [
              0,
              "#0d0887"
             ],
             [
              0.1111111111111111,
              "#46039f"
             ],
             [
              0.2222222222222222,
              "#7201a8"
             ],
             [
              0.3333333333333333,
              "#9c179e"
             ],
             [
              0.4444444444444444,
              "#bd3786"
             ],
             [
              0.5555555555555556,
              "#d8576b"
             ],
             [
              0.6666666666666666,
              "#ed7953"
             ],
             [
              0.7777777777777778,
              "#fb9f3a"
             ],
             [
              0.8888888888888888,
              "#fdca26"
             ],
             [
              1,
              "#f0f921"
             ]
            ],
            "type": "surface"
           }
          ],
          "table": [
           {
            "cells": {
             "fill": {
              "color": "#EBF0F8"
             },
             "line": {
              "color": "white"
             }
            },
            "header": {
             "fill": {
              "color": "#C8D4E3"
             },
             "line": {
              "color": "white"
             }
            },
            "type": "table"
           }
          ]
         },
         "layout": {
          "annotationdefaults": {
           "arrowcolor": "#2a3f5f",
           "arrowhead": 0,
           "arrowwidth": 1
          },
          "autotypenumbers": "strict",
          "coloraxis": {
           "colorbar": {
            "outlinewidth": 0,
            "ticks": ""
           }
          },
          "colorscale": {
           "diverging": [
            [
             0,
             "#8e0152"
            ],
            [
             0.1,
             "#c51b7d"
            ],
            [
             0.2,
             "#de77ae"
            ],
            [
             0.3,
             "#f1b6da"
            ],
            [
             0.4,
             "#fde0ef"
            ],
            [
             0.5,
             "#f7f7f7"
            ],
            [
             0.6,
             "#e6f5d0"
            ],
            [
             0.7,
             "#b8e186"
            ],
            [
             0.8,
             "#7fbc41"
            ],
            [
             0.9,
             "#4d9221"
            ],
            [
             1,
             "#276419"
            ]
           ],
           "sequential": [
            [
             0,
             "#0d0887"
            ],
            [
             0.1111111111111111,
             "#46039f"
            ],
            [
             0.2222222222222222,
             "#7201a8"
            ],
            [
             0.3333333333333333,
             "#9c179e"
            ],
            [
             0.4444444444444444,
             "#bd3786"
            ],
            [
             0.5555555555555556,
             "#d8576b"
            ],
            [
             0.6666666666666666,
             "#ed7953"
            ],
            [
             0.7777777777777778,
             "#fb9f3a"
            ],
            [
             0.8888888888888888,
             "#fdca26"
            ],
            [
             1,
             "#f0f921"
            ]
           ],
           "sequentialminus": [
            [
             0,
             "#0d0887"
            ],
            [
             0.1111111111111111,
             "#46039f"
            ],
            [
             0.2222222222222222,
             "#7201a8"
            ],
            [
             0.3333333333333333,
             "#9c179e"
            ],
            [
             0.4444444444444444,
             "#bd3786"
            ],
            [
             0.5555555555555556,
             "#d8576b"
            ],
            [
             0.6666666666666666,
             "#ed7953"
            ],
            [
             0.7777777777777778,
             "#fb9f3a"
            ],
            [
             0.8888888888888888,
             "#fdca26"
            ],
            [
             1,
             "#f0f921"
            ]
           ]
          },
          "colorway": [
           "#636efa",
           "#EF553B",
           "#00cc96",
           "#ab63fa",
           "#FFA15A",
           "#19d3f3",
           "#FF6692",
           "#B6E880",
           "#FF97FF",
           "#FECB52"
          ],
          "font": {
           "color": "#2a3f5f"
          },
          "geo": {
           "bgcolor": "white",
           "lakecolor": "white",
           "landcolor": "#E5ECF6",
           "showlakes": true,
           "showland": true,
           "subunitcolor": "white"
          },
          "hoverlabel": {
           "align": "left"
          },
          "hovermode": "closest",
          "mapbox": {
           "style": "light"
          },
          "paper_bgcolor": "white",
          "plot_bgcolor": "#E5ECF6",
          "polar": {
           "angularaxis": {
            "gridcolor": "white",
            "linecolor": "white",
            "ticks": ""
           },
           "bgcolor": "#E5ECF6",
           "radialaxis": {
            "gridcolor": "white",
            "linecolor": "white",
            "ticks": ""
           }
          },
          "scene": {
           "xaxis": {
            "backgroundcolor": "#E5ECF6",
            "gridcolor": "white",
            "gridwidth": 2,
            "linecolor": "white",
            "showbackground": true,
            "ticks": "",
            "zerolinecolor": "white"
           },
           "yaxis": {
            "backgroundcolor": "#E5ECF6",
            "gridcolor": "white",
            "gridwidth": 2,
            "linecolor": "white",
            "showbackground": true,
            "ticks": "",
            "zerolinecolor": "white"
           },
           "zaxis": {
            "backgroundcolor": "#E5ECF6",
            "gridcolor": "white",
            "gridwidth": 2,
            "linecolor": "white",
            "showbackground": true,
            "ticks": "",
            "zerolinecolor": "white"
           }
          },
          "shapedefaults": {
           "line": {
            "color": "#2a3f5f"
           }
          },
          "ternary": {
           "aaxis": {
            "gridcolor": "white",
            "linecolor": "white",
            "ticks": ""
           },
           "baxis": {
            "gridcolor": "white",
            "linecolor": "white",
            "ticks": ""
           },
           "bgcolor": "#E5ECF6",
           "caxis": {
            "gridcolor": "white",
            "linecolor": "white",
            "ticks": ""
           }
          },
          "title": {
           "x": 0.05
          },
          "xaxis": {
           "automargin": true,
           "gridcolor": "white",
           "linecolor": "white",
           "ticks": "",
           "title": {
            "standoff": 15
           },
           "zerolinecolor": "white",
           "zerolinewidth": 2
          },
          "yaxis": {
           "automargin": true,
           "gridcolor": "white",
           "linecolor": "white",
           "ticks": "",
           "title": {
            "standoff": 15
           },
           "zerolinecolor": "white",
           "zerolinewidth": 2
          }
         }
        },
        "title": {
         "text": "Percentage of Missing Values by Column"
        },
        "xaxis": {
         "anchor": "y",
         "domain": [
          0,
          1
         ],
         "title": {
          "text": "Columns"
         }
        },
        "yaxis": {
         "anchor": "x",
         "domain": [
          0,
          1
         ],
         "title": {
          "text": "Percentage (%)"
         }
        }
       }
      }
     },
     "metadata": {},
     "output_type": "display_data"
    }
   ],
   "source": [
    "columns_med_string = \"\"\"\n",
    "AGE\n",
    "CNS_MEDINC\n",
    "CNSUS_PCTA\n",
    "CNSUS_PCTB\n",
    "CNSUS_PCTH\n",
    "CNSUS_PCTI\n",
    "CNSUS_PCTM\n",
    "CNSUS_PCTO\n",
    "CNSUS_PCTP\n",
    "CNSUS_PCTW\n",
    "HH_SIZE\n",
    "LENGTH_RES\n",
    "PERSONS_HH\n",
    "TOD_PRES_D_2016\n",
    "TOD_PRES_D_2016_PREC\n",
    "TOD_PRES_D_2020_PREC\n",
    "TOD_PRES_O_2016\n",
    "TOD_PRES_O_2016_PREC\n",
    "TOD_PRES_O_2020_PREC\n",
    "TOD_PRES_R_2016\n",
    "TOD_PRES_R_2016_PREC\n",
    "TOD_PRES_R_2020_PREC\n",
    "VOTER_CNT\n",
    "VP_GEN\n",
    "VP_OTH\n",
    "VP_PPP\n",
    "VP_PRI \"\"\"\n",
    "\n",
    "columns_med_impute = convert_columns_to_list(columns_med_string)\n",
    "\n",
    "df_imputed = impute_missing_values(df_imputed, columns_med_impute, \"median\")\n",
    "plot_missing_values(df_imputed)\n"
   ]
  },
  {
   "cell_type": "code",
   "execution_count": 6,
   "metadata": {},
   "outputs": [],
   "source": [
    "column_mappings = {\n",
    "    'PRFL_MARRIAGE_EQUALITY': {\n",
    "        1: 'Supports Marriage Equality',\n",
    "        2: 'Supports Traditional Marriage'\n",
    "    },\n",
    "    'PRFL_CHOICELIFE': {\n",
    "        1: 'ProLife',\n",
    "        2: 'ProChoice'\n",
    "    },\n",
    "    'PRFL_LGBT_SUPPORT': {\n",
    "        1: 'Donated to Pro-LGBT',\n",
    "        2: 'Likely LGBT Supporter'\n",
    "    },\n",
    "    'PRFL_POLITICAL_IDEOLOGY': {\n",
    "        'C': 'Conservative',\n",
    "        'M': 'Moderate',\n",
    "        'L': 'Liberal'\n",
    "    },\n",
    "    'PRFL_TEAPARTY': {\n",
    "        1: 'Tea Party Donor',\n",
    "        2: 'Likely Tea Party Supporter'\n",
    "    }\n",
    "}\n",
    "\n",
    "df_imputed = map_categorical_values(df_imputed, column_mappings)"
   ]
  },
  {
   "cell_type": "code",
   "execution_count": 7,
   "metadata": {},
   "outputs": [
    {
     "data": {
      "application/vnd.plotly.v1+json": {
       "config": {
        "plotlyServerURL": "https://plot.ly"
       },
       "data": [
        {
         "alignmentgroup": "True",
         "hovertemplate": "Columns=%{x}<br>Percentage (%)=%{y}<extra></extra>",
         "legendgroup": "",
         "marker": {
          "color": "#636efa",
          "pattern": {
           "shape": ""
          }
         },
         "name": "",
         "offsetgroup": "",
         "orientation": "v",
         "showlegend": false,
         "textposition": "auto",
         "type": "bar",
         "x": [
          "ADD_TYPE",
          "COUNTY_TYPE",
          "CREDRATE",
          "EDUCATION",
          "ETHNIC_INFER",
          "ETHNICCODE",
          "GENDER_MIX",
          "GENERATION",
          "HOMEMKTVAL",
          "HOMEOWNER",
          "HOMEOWNRNT",
          "INCOMESTHH",
          "LANGUAGE",
          "LIFESTAGE_CLUSTER",
          "NETWORTH",
          "RELIGION",
          "SEX",
          "ST_LO_HOUS",
          "ST_UP_HOUS",
          "STATUS",
          "TOD_PRES_DIFF_2016",
          "TOD_PRES_DIFF_2016_PREC",
          "TOD_PRES_DIFF_2020_PREC",
          "Q2_Support",
          "Q3_Party",
          "Q4_LikelyVoter",
          "Q5_TrumpSupport"
         ],
         "xaxis": "x",
         "y": [
          1.7307692307692308,
          0.1282051282051282,
          21.73076923076923,
          39.23076923076923,
          8.717948717948717,
          20.64102564102564,
          0.1282051282051282,
          5.384615384615385,
          25.44871794871795,
          20.64102564102564,
          19.294871794871796,
          13.012820512820515,
          20.64102564102564,
          10.384615384615385,
          16.08974358974359,
          21.025641025641026,
          0.0641025641025641,
          0.19230769230769232,
          0.19230769230769232,
          3.5897435897435894,
          0.38461538461538464,
          3.076923076923077,
          14.166666666666666,
          10,
          3.141025641025641,
          3.141025641025641,
          3.141025641025641
         ],
         "yaxis": "y"
        }
       ],
       "layout": {
        "barmode": "relative",
        "height": 600,
        "legend": {
         "tracegroupgap": 0
        },
        "template": {
         "data": {
          "bar": [
           {
            "error_x": {
             "color": "#2a3f5f"
            },
            "error_y": {
             "color": "#2a3f5f"
            },
            "marker": {
             "line": {
              "color": "#E5ECF6",
              "width": 0.5
             },
             "pattern": {
              "fillmode": "overlay",
              "size": 10,
              "solidity": 0.2
             }
            },
            "type": "bar"
           }
          ],
          "barpolar": [
           {
            "marker": {
             "line": {
              "color": "#E5ECF6",
              "width": 0.5
             },
             "pattern": {
              "fillmode": "overlay",
              "size": 10,
              "solidity": 0.2
             }
            },
            "type": "barpolar"
           }
          ],
          "carpet": [
           {
            "aaxis": {
             "endlinecolor": "#2a3f5f",
             "gridcolor": "white",
             "linecolor": "white",
             "minorgridcolor": "white",
             "startlinecolor": "#2a3f5f"
            },
            "baxis": {
             "endlinecolor": "#2a3f5f",
             "gridcolor": "white",
             "linecolor": "white",
             "minorgridcolor": "white",
             "startlinecolor": "#2a3f5f"
            },
            "type": "carpet"
           }
          ],
          "choropleth": [
           {
            "colorbar": {
             "outlinewidth": 0,
             "ticks": ""
            },
            "type": "choropleth"
           }
          ],
          "contour": [
           {
            "colorbar": {
             "outlinewidth": 0,
             "ticks": ""
            },
            "colorscale": [
             [
              0,
              "#0d0887"
             ],
             [
              0.1111111111111111,
              "#46039f"
             ],
             [
              0.2222222222222222,
              "#7201a8"
             ],
             [
              0.3333333333333333,
              "#9c179e"
             ],
             [
              0.4444444444444444,
              "#bd3786"
             ],
             [
              0.5555555555555556,
              "#d8576b"
             ],
             [
              0.6666666666666666,
              "#ed7953"
             ],
             [
              0.7777777777777778,
              "#fb9f3a"
             ],
             [
              0.8888888888888888,
              "#fdca26"
             ],
             [
              1,
              "#f0f921"
             ]
            ],
            "type": "contour"
           }
          ],
          "contourcarpet": [
           {
            "colorbar": {
             "outlinewidth": 0,
             "ticks": ""
            },
            "type": "contourcarpet"
           }
          ],
          "heatmap": [
           {
            "colorbar": {
             "outlinewidth": 0,
             "ticks": ""
            },
            "colorscale": [
             [
              0,
              "#0d0887"
             ],
             [
              0.1111111111111111,
              "#46039f"
             ],
             [
              0.2222222222222222,
              "#7201a8"
             ],
             [
              0.3333333333333333,
              "#9c179e"
             ],
             [
              0.4444444444444444,
              "#bd3786"
             ],
             [
              0.5555555555555556,
              "#d8576b"
             ],
             [
              0.6666666666666666,
              "#ed7953"
             ],
             [
              0.7777777777777778,
              "#fb9f3a"
             ],
             [
              0.8888888888888888,
              "#fdca26"
             ],
             [
              1,
              "#f0f921"
             ]
            ],
            "type": "heatmap"
           }
          ],
          "heatmapgl": [
           {
            "colorbar": {
             "outlinewidth": 0,
             "ticks": ""
            },
            "colorscale": [
             [
              0,
              "#0d0887"
             ],
             [
              0.1111111111111111,
              "#46039f"
             ],
             [
              0.2222222222222222,
              "#7201a8"
             ],
             [
              0.3333333333333333,
              "#9c179e"
             ],
             [
              0.4444444444444444,
              "#bd3786"
             ],
             [
              0.5555555555555556,
              "#d8576b"
             ],
             [
              0.6666666666666666,
              "#ed7953"
             ],
             [
              0.7777777777777778,
              "#fb9f3a"
             ],
             [
              0.8888888888888888,
              "#fdca26"
             ],
             [
              1,
              "#f0f921"
             ]
            ],
            "type": "heatmapgl"
           }
          ],
          "histogram": [
           {
            "marker": {
             "pattern": {
              "fillmode": "overlay",
              "size": 10,
              "solidity": 0.2
             }
            },
            "type": "histogram"
           }
          ],
          "histogram2d": [
           {
            "colorbar": {
             "outlinewidth": 0,
             "ticks": ""
            },
            "colorscale": [
             [
              0,
              "#0d0887"
             ],
             [
              0.1111111111111111,
              "#46039f"
             ],
             [
              0.2222222222222222,
              "#7201a8"
             ],
             [
              0.3333333333333333,
              "#9c179e"
             ],
             [
              0.4444444444444444,
              "#bd3786"
             ],
             [
              0.5555555555555556,
              "#d8576b"
             ],
             [
              0.6666666666666666,
              "#ed7953"
             ],
             [
              0.7777777777777778,
              "#fb9f3a"
             ],
             [
              0.8888888888888888,
              "#fdca26"
             ],
             [
              1,
              "#f0f921"
             ]
            ],
            "type": "histogram2d"
           }
          ],
          "histogram2dcontour": [
           {
            "colorbar": {
             "outlinewidth": 0,
             "ticks": ""
            },
            "colorscale": [
             [
              0,
              "#0d0887"
             ],
             [
              0.1111111111111111,
              "#46039f"
             ],
             [
              0.2222222222222222,
              "#7201a8"
             ],
             [
              0.3333333333333333,
              "#9c179e"
             ],
             [
              0.4444444444444444,
              "#bd3786"
             ],
             [
              0.5555555555555556,
              "#d8576b"
             ],
             [
              0.6666666666666666,
              "#ed7953"
             ],
             [
              0.7777777777777778,
              "#fb9f3a"
             ],
             [
              0.8888888888888888,
              "#fdca26"
             ],
             [
              1,
              "#f0f921"
             ]
            ],
            "type": "histogram2dcontour"
           }
          ],
          "mesh3d": [
           {
            "colorbar": {
             "outlinewidth": 0,
             "ticks": ""
            },
            "type": "mesh3d"
           }
          ],
          "parcoords": [
           {
            "line": {
             "colorbar": {
              "outlinewidth": 0,
              "ticks": ""
             }
            },
            "type": "parcoords"
           }
          ],
          "pie": [
           {
            "automargin": true,
            "type": "pie"
           }
          ],
          "scatter": [
           {
            "fillpattern": {
             "fillmode": "overlay",
             "size": 10,
             "solidity": 0.2
            },
            "type": "scatter"
           }
          ],
          "scatter3d": [
           {
            "line": {
             "colorbar": {
              "outlinewidth": 0,
              "ticks": ""
             }
            },
            "marker": {
             "colorbar": {
              "outlinewidth": 0,
              "ticks": ""
             }
            },
            "type": "scatter3d"
           }
          ],
          "scattercarpet": [
           {
            "marker": {
             "colorbar": {
              "outlinewidth": 0,
              "ticks": ""
             }
            },
            "type": "scattercarpet"
           }
          ],
          "scattergeo": [
           {
            "marker": {
             "colorbar": {
              "outlinewidth": 0,
              "ticks": ""
             }
            },
            "type": "scattergeo"
           }
          ],
          "scattergl": [
           {
            "marker": {
             "colorbar": {
              "outlinewidth": 0,
              "ticks": ""
             }
            },
            "type": "scattergl"
           }
          ],
          "scattermapbox": [
           {
            "marker": {
             "colorbar": {
              "outlinewidth": 0,
              "ticks": ""
             }
            },
            "type": "scattermapbox"
           }
          ],
          "scatterpolar": [
           {
            "marker": {
             "colorbar": {
              "outlinewidth": 0,
              "ticks": ""
             }
            },
            "type": "scatterpolar"
           }
          ],
          "scatterpolargl": [
           {
            "marker": {
             "colorbar": {
              "outlinewidth": 0,
              "ticks": ""
             }
            },
            "type": "scatterpolargl"
           }
          ],
          "scatterternary": [
           {
            "marker": {
             "colorbar": {
              "outlinewidth": 0,
              "ticks": ""
             }
            },
            "type": "scatterternary"
           }
          ],
          "surface": [
           {
            "colorbar": {
             "outlinewidth": 0,
             "ticks": ""
            },
            "colorscale": [
             [
              0,
              "#0d0887"
             ],
             [
              0.1111111111111111,
              "#46039f"
             ],
             [
              0.2222222222222222,
              "#7201a8"
             ],
             [
              0.3333333333333333,
              "#9c179e"
             ],
             [
              0.4444444444444444,
              "#bd3786"
             ],
             [
              0.5555555555555556,
              "#d8576b"
             ],
             [
              0.6666666666666666,
              "#ed7953"
             ],
             [
              0.7777777777777778,
              "#fb9f3a"
             ],
             [
              0.8888888888888888,
              "#fdca26"
             ],
             [
              1,
              "#f0f921"
             ]
            ],
            "type": "surface"
           }
          ],
          "table": [
           {
            "cells": {
             "fill": {
              "color": "#EBF0F8"
             },
             "line": {
              "color": "white"
             }
            },
            "header": {
             "fill": {
              "color": "#C8D4E3"
             },
             "line": {
              "color": "white"
             }
            },
            "type": "table"
           }
          ]
         },
         "layout": {
          "annotationdefaults": {
           "arrowcolor": "#2a3f5f",
           "arrowhead": 0,
           "arrowwidth": 1
          },
          "autotypenumbers": "strict",
          "coloraxis": {
           "colorbar": {
            "outlinewidth": 0,
            "ticks": ""
           }
          },
          "colorscale": {
           "diverging": [
            [
             0,
             "#8e0152"
            ],
            [
             0.1,
             "#c51b7d"
            ],
            [
             0.2,
             "#de77ae"
            ],
            [
             0.3,
             "#f1b6da"
            ],
            [
             0.4,
             "#fde0ef"
            ],
            [
             0.5,
             "#f7f7f7"
            ],
            [
             0.6,
             "#e6f5d0"
            ],
            [
             0.7,
             "#b8e186"
            ],
            [
             0.8,
             "#7fbc41"
            ],
            [
             0.9,
             "#4d9221"
            ],
            [
             1,
             "#276419"
            ]
           ],
           "sequential": [
            [
             0,
             "#0d0887"
            ],
            [
             0.1111111111111111,
             "#46039f"
            ],
            [
             0.2222222222222222,
             "#7201a8"
            ],
            [
             0.3333333333333333,
             "#9c179e"
            ],
            [
             0.4444444444444444,
             "#bd3786"
            ],
            [
             0.5555555555555556,
             "#d8576b"
            ],
            [
             0.6666666666666666,
             "#ed7953"
            ],
            [
             0.7777777777777778,
             "#fb9f3a"
            ],
            [
             0.8888888888888888,
             "#fdca26"
            ],
            [
             1,
             "#f0f921"
            ]
           ],
           "sequentialminus": [
            [
             0,
             "#0d0887"
            ],
            [
             0.1111111111111111,
             "#46039f"
            ],
            [
             0.2222222222222222,
             "#7201a8"
            ],
            [
             0.3333333333333333,
             "#9c179e"
            ],
            [
             0.4444444444444444,
             "#bd3786"
            ],
            [
             0.5555555555555556,
             "#d8576b"
            ],
            [
             0.6666666666666666,
             "#ed7953"
            ],
            [
             0.7777777777777778,
             "#fb9f3a"
            ],
            [
             0.8888888888888888,
             "#fdca26"
            ],
            [
             1,
             "#f0f921"
            ]
           ]
          },
          "colorway": [
           "#636efa",
           "#EF553B",
           "#00cc96",
           "#ab63fa",
           "#FFA15A",
           "#19d3f3",
           "#FF6692",
           "#B6E880",
           "#FF97FF",
           "#FECB52"
          ],
          "font": {
           "color": "#2a3f5f"
          },
          "geo": {
           "bgcolor": "white",
           "lakecolor": "white",
           "landcolor": "#E5ECF6",
           "showlakes": true,
           "showland": true,
           "subunitcolor": "white"
          },
          "hoverlabel": {
           "align": "left"
          },
          "hovermode": "closest",
          "mapbox": {
           "style": "light"
          },
          "paper_bgcolor": "white",
          "plot_bgcolor": "#E5ECF6",
          "polar": {
           "angularaxis": {
            "gridcolor": "white",
            "linecolor": "white",
            "ticks": ""
           },
           "bgcolor": "#E5ECF6",
           "radialaxis": {
            "gridcolor": "white",
            "linecolor": "white",
            "ticks": ""
           }
          },
          "scene": {
           "xaxis": {
            "backgroundcolor": "#E5ECF6",
            "gridcolor": "white",
            "gridwidth": 2,
            "linecolor": "white",
            "showbackground": true,
            "ticks": "",
            "zerolinecolor": "white"
           },
           "yaxis": {
            "backgroundcolor": "#E5ECF6",
            "gridcolor": "white",
            "gridwidth": 2,
            "linecolor": "white",
            "showbackground": true,
            "ticks": "",
            "zerolinecolor": "white"
           },
           "zaxis": {
            "backgroundcolor": "#E5ECF6",
            "gridcolor": "white",
            "gridwidth": 2,
            "linecolor": "white",
            "showbackground": true,
            "ticks": "",
            "zerolinecolor": "white"
           }
          },
          "shapedefaults": {
           "line": {
            "color": "#2a3f5f"
           }
          },
          "ternary": {
           "aaxis": {
            "gridcolor": "white",
            "linecolor": "white",
            "ticks": ""
           },
           "baxis": {
            "gridcolor": "white",
            "linecolor": "white",
            "ticks": ""
           },
           "bgcolor": "#E5ECF6",
           "caxis": {
            "gridcolor": "white",
            "linecolor": "white",
            "ticks": ""
           }
          },
          "title": {
           "x": 0.05
          },
          "xaxis": {
           "automargin": true,
           "gridcolor": "white",
           "linecolor": "white",
           "ticks": "",
           "title": {
            "standoff": 15
           },
           "zerolinecolor": "white",
           "zerolinewidth": 2
          },
          "yaxis": {
           "automargin": true,
           "gridcolor": "white",
           "linecolor": "white",
           "ticks": "",
           "title": {
            "standoff": 15
           },
           "zerolinecolor": "white",
           "zerolinewidth": 2
          }
         }
        },
        "title": {
         "text": "Percentage of Missing Values by Column"
        },
        "xaxis": {
         "anchor": "y",
         "domain": [
          0,
          1
         ],
         "title": {
          "text": "Columns"
         }
        },
        "yaxis": {
         "anchor": "x",
         "domain": [
          0,
          1
         ],
         "title": {
          "text": "Percentage (%)"
         }
        }
       }
      }
     },
     "metadata": {},
     "output_type": "display_data"
    }
   ],
   "source": [
    "cols_to_keep_below_20 = \"\"\"\n",
    "CREDRATE\n",
    "EDUCATION\n",
    "ETHNICCODE\n",
    "HOMEMKTVAL\n",
    "HOMEOWNER\n",
    "LANGUAGE\n",
    "PRFL_CHOICELIFE\n",
    "PRFL_LGBT_SUPPORT\n",
    "PRFL_MARRIAGE_EQUALITY\n",
    "PRFL_TEAPARTY\n",
    "RELIGION\n",
    "\"\"\"\n",
    "\n",
    "columns_to_keep_below_20 = convert_columns_to_list(cols_to_keep_below_20)\n",
    "\n",
    "df_clean = remove_columns_over_threshold(df_imputed, threshold=20, exclude_cols=columns_to_keep_below_20)\n",
    "plot_missing_values(df_clean)"
   ]
  },
  {
   "cell_type": "code",
   "execution_count": 8,
   "metadata": {},
   "outputs": [],
   "source": [
    "save_path = \"/Volumes/DeepLearner/MADS/Milestone_data/survey_cleaned.csv\"\n",
    "df_clean.to_csv(save_path)"
   ]
  },
  {
   "cell_type": "code",
   "execution_count": null,
   "metadata": {},
   "outputs": [],
   "source": []
  }
 ],
 "metadata": {
  "kernelspec": {
   "display_name": "Python 3",
   "language": "python",
   "name": "python3"
  },
  "language_info": {
   "codemirror_mode": {
    "name": "ipython",
    "version": 3
   },
   "file_extension": ".py",
   "mimetype": "text/x-python",
   "name": "python",
   "nbconvert_exporter": "python",
   "pygments_lexer": "ipython3",
   "version": "3.11.2"
  },
  "orig_nbformat": 4
 },
 "nbformat": 4,
 "nbformat_minor": 2
}
