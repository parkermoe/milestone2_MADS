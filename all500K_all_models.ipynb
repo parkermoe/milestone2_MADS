{
 "cells": [
  {
   "cell_type": "code",
   "execution_count": 1,
   "metadata": {
    "ExecuteTime": {
     "end_time": "2023-10-22T18:32:21.213670Z",
     "start_time": "2023-10-22T18:32:21.008794Z"
    }
   },
   "outputs": [],
   "source": [
    "import pandas as pd\n",
    "import numpy as np\n",
    "import time\n",
    "from sklearn.metrics import accuracy_score, f1_score, recall_score, precision_score\n",
    "from sklearn.model_selection import train_test_split\n",
    "from sklearn.preprocessing import LabelEncoder, StandardScaler, MinMaxScaler\n",
    "from sklearn.impute import SimpleImputer\n",
    "from sklearn.feature_selection import SelectKBest, chi2, mutual_info_classif\n",
    "from sklearn.ensemble import RandomForestClassifier, GradientBoostingClassifier\n",
    "import matplotlib.pyplot as plt\n",
    "import seaborn as sns\n",
    "from collections import Counter\n",
    "import plotly.express as px\n",
    "from collections import defaultdict\n",
    "from xgboost import XGBClassifier\n",
    "from IPython.display import display\n",
    "from sklearn.linear_model import LogisticRegression"
   ]
  },
  {
   "cell_type": "markdown",
   "source": [
    "## Data Cleaning"
   ],
   "metadata": {
    "collapsed": false
   }
  },
  {
   "cell_type": "markdown",
   "source": [
    "## 500K dataset cleaning (with riley's code)"
   ],
   "metadata": {
    "collapsed": false
   }
  },
  {
   "cell_type": "code",
   "execution_count": 2,
   "outputs": [
    {
     "name": "stdout",
     "output_type": "stream",
     "text": [
      "(500000, 299)\n"
     ]
    }
   ],
   "source": [
    "def clean_party_create_infer():\n",
    "    corrected_data  = pd.read_csv(\"/Users/nirugidla/Documents/GitHub/milestone2_MADS/data_500k.csv\", low_memory=False)\n",
    "    #corrected_data  = pd.read_csv(\"/Users/nirugidla/Documents/GitHub/milestone2_MADS/surveydata.csv\", low_memory=False).sample(1000)\n",
    "    \n",
    "    corrected_data.replace(r'^\\s*$', np.nan, regex=True, inplace=True)\n",
    "\n",
    "    corrected_data.loc[(corrected_data['STATE'] == 'SD') & (corrected_data['PARTY_CODE'] == 'I'), 'PARTY_CODE'] = 'N'\n",
    "    states_to_update = ['DC', 'LA', 'RI']\n",
    "    corrected_data.loc[(corrected_data['STATE'].isin(states_to_update)) & (corrected_data['PARTY_CODE'] == 'U'), 'PARTY_CODE'] = 'N'\n",
    "    corrected_data.loc[(corrected_data['STATE'] == 'OK') & (corrected_data['PARTY_CODE'] == 'I'), 'PARTY_CODE'] = 'N'\n",
    "\n",
    "    infer_party_mapping = defaultdict(lambda: float('nan'))\n",
    "    infer_party_mapping.update({'D': 'D', 'E': 'D', 'R': 'R', 'S': 'R', 'L': 'R'})\n",
    "\n",
    "    new_columns_df = pd.DataFrame()\n",
    "    new_columns_df['INFER_PARTY'] = corrected_data['PARTY_CODE'].map(infer_party_mapping)\n",
    "    \n",
    "    party_code_mapping = {\n",
    "        'E': float('nan'),\n",
    "        'S': float('nan'),\n",
    "        'U': float('nan'),\n",
    "        'A': 'O',\n",
    "        'B': 'O',\n",
    "        'C': 'O',\n",
    "        'F': 'O',\n",
    "        'G': 'O',\n",
    "        'H': 'O',\n",
    "        'I': 'O',\n",
    "        'J': 'O',\n",
    "        'K': 'O',\n",
    "        'P': 'O',\n",
    "        'Q': 'O',\n",
    "        'T': 'O',\n",
    "        'V': 'O',\n",
    "        'W': 'O',\n",
    "        'Y': 'O',\n",
    "        'Z': 'O'\n",
    "    }\n",
    "    \n",
    "    corrected_data['PARTY_CODE'] = corrected_data['PARTY_CODE'].replace(party_code_mapping)\n",
    "    \n",
    "    voter_columns = [col for col in corrected_data.columns if col.startswith(\"VTR\")]\n",
    "\n",
    "    new_columns_df['VTR_TOTAL_DVOTES'] = corrected_data[voter_columns].isin(['D', 'M', 'Z']).sum(axis=1)\n",
    "    new_columns_df['VTR_TOTAL_RVOTES'] = corrected_data[voter_columns].isin(['R', 'P', 'X']).sum(axis=1)\n",
    "\n",
    "    conditions = [\n",
    "        new_columns_df['VTR_TOTAL_DVOTES'] - new_columns_df['VTR_TOTAL_RVOTES'] >= 2,\n",
    "        new_columns_df['VTR_TOTAL_RVOTES'] - new_columns_df['VTR_TOTAL_DVOTES'] >= 2\n",
    "    ]\n",
    "    choices = ['D', 'R']\n",
    "\n",
    "    new_columns_df['VTR_INFER_PARTY'] = np.select(conditions, choices, default=np.nan)\n",
    "\n",
    "    corrected_data = pd.concat([corrected_data, new_columns_df], axis=1)\n",
    "    \n",
    "    corrected_data.loc[(corrected_data['VTR_INFER_PARTY'] == 'D') , 'INFER_PARTY'] = 'D'\n",
    "    corrected_data.loc[(corrected_data['VTR_INFER_PARTY'] == 'R') , 'INFER_PARTY'] = 'R'\n",
    "\n",
    "    columns_to_check = ['VTR_PPP16', 'VTR_GEN16', 'VTR_GEN18', 'VTR_PRI20', 'VTR_PPP20', 'VTR_GEN20', 'VTR_PRI22', 'VTR_GEN22']\n",
    "    democrat_values = ['D', 'M', 'Z']\n",
    "    republican_values = ['R', 'P', 'X']\n",
    "\n",
    "    for column in columns_to_check:\n",
    "        corrected_data.loc[corrected_data[column].isin(democrat_values), 'INFER_PARTY'] = 'D'\n",
    "        corrected_data.loc[corrected_data[column].isin(republican_values), 'INFER_PARTY'] = 'R'\n",
    "    \n",
    "    corrected_data.drop(columns=[\"VTR_INFER_PARTY\", \"VTR_TOTAL_DVOTES\", \"VTR_TOTAL_RVOTES\"], inplace=True)\n",
    "    \n",
    "    return corrected_data\n",
    "\n",
    "engineered_data = clean_party_create_infer()\n",
    "print(engineered_data.shape)"
   ],
   "metadata": {
    "collapsed": false,
    "ExecuteTime": {
     "end_time": "2023-10-22T18:33:36.159544Z",
     "start_time": "2023-10-22T18:32:22.179391Z"
    }
   }
  },
  {
   "cell_type": "code",
   "execution_count": 3,
   "outputs": [
    {
     "name": "stdout",
     "output_type": "stream",
     "text": [
      "['AFAMPROFLS', 'APP_CHILD', 'APP_MENBIG', 'APP_TODDLR', 'APP_WOMEN', 'APP_WOMPET', 'APP_WOMPLS', 'APP_YNGMEN', 'ARTS', 'AUTOACCES', 'BOATING', 'BUS_OWNER', 'CATOWNER', 'CH_0002FEM', 'CH_0002MAL', 'CH_0002UNK', 'CH_0305FEM', 'CH_0305MAL', 'CH_0305UNK', 'CH_0610FEM', 'CH_0610MAL', 'CH_0610UNK', 'CH_1115FEM', 'CH_1115MAL', 'CH_1115UNK', 'CH_1617FEM', 'CH_1617MAL', 'CH_1617UNK', 'CHRISTFAM', 'COL_ANTIQ', 'COL_ARTS', 'COL_COIN', 'COL_SPORT', 'COL_STAMP', 'COMPHOMOFC', 'CURRAFFAIR', 'DIYLIV', 'DON_ANML', 'DON_ARTCUL', 'DON_CHILD', 'DON_ENVIR', 'DON_ENVWLD', 'DON_INTAID', 'DON_OTHER', 'DON_POLCONS', 'DON_POLLIB', 'DON_RELIG', 'DON_VET', 'DONATION', 'EDU_ONLINE', 'EQUESTRIAN', 'ETHNICCONF', 'GAMING', 'GRANDCHLD', 'HH_SENIOR', 'HH_VETERAN', 'HH_YOUNGAD', 'HIGHBROW', 'HIGHENDAPP', 'HISTMIL', 'HOMEOFFICE', 'HUNTING', 'HUNTSHOOT', 'INV_ACTIVE', 'MAIL_DONOR', 'MOTORCYCLE', 'NASCAR', 'PARENTING', 'POOL', 'PRFL_ACTIVE_MIL', 'PRFL_BLM_SUPPORT', 'PRFL_CHOICELIFE', 'PRFL_CLINTON_SUPPORT', 'PRFL_EDUCATION', 'PRFL_EVANGELICAL', 'PRFL_GUN_CONTROL', 'PRFL_HEALTHCARE', 'PRFL_HEALTHCARE_REFORM', 'PRFL_INFLUENCER', 'PRFL_LABOR', 'PRFL_LGBT_SUPPORT', 'PRFL_MARIJUANA_REFORM', 'PRFL_MARRIAGE_EQUALITY', 'PRFL_MIL_SUPPORT', 'PRFL_OBAMA', 'PRFL_TEACHERS_UNION', 'PRFL_TEAPARTY', 'PRFL_VETERAN', 'RD_FINNEWS', 'RD_SCIFI', 'RELIGINSP', 'SCISPACE', 'SCUBADIVER', 'SELFIMP', 'SINGPARENT', 'SMOKING', 'SPEC_AUTO', 'SPEC_BASE', 'SPEC_BASK', 'SPEC_HOCK', 'SPEC_SOCC', 'TELECOM', 'TENNIS', 'THEATER', 'VTR_GEN01', 'VTR_GEN03', 'VTR_GEN05', 'VTR_GEN07', 'VTR_GEN09', 'VTR_GEN11', 'VTR_GEN13', 'VTR_GEN15', 'VTR_GEN17', 'VTR_GEN19', 'VTR_GEN21', 'VTR_OTH00', 'VTR_OTH01', 'VTR_OTH02', 'VTR_OTH03', 'VTR_OTH04', 'VTR_OTH05', 'VTR_OTH06', 'VTR_OTH07', 'VTR_OTH08', 'VTR_OTH09', 'VTR_OTH10', 'VTR_OTH11', 'VTR_OTH12', 'VTR_OTH13', 'VTR_OTH14', 'VTR_OTH15', 'VTR_OTH16', 'VTR_OTH17', 'VTR_OTH18', 'VTR_OTH19', 'VTR_OTH20', 'VTR_OTH21', 'VTR_OTH22', 'VTR_PPP00', 'VTR_PPP04', 'VTR_PRI00', 'VTR_PRI01', 'VTR_PRI02', 'VTR_PRI03', 'VTR_PRI04', 'VTR_PRI05', 'VTR_PRI06', 'VTR_PRI07', 'VTR_PRI08', 'VTR_PRI09', 'VTR_PRI11', 'VTR_PRI12', 'VTR_PRI13', 'VTR_PRI15', 'VTR_PRI16', 'VTR_PRI17', 'VTR_PRI19', 'VTR_PRI21']\n",
      "(500000, 141)\n"
     ]
    }
   ],
   "source": [
    "def additional_cleaning(data):\n",
    "    \n",
    "    # Calculate the percentage of missing data for each column\n",
    "    missing_data_percentage = data.isnull().mean() * 100\n",
    "\n",
    "    # Identify columns with more than 90% missing data\n",
    "    cols_to_remove = missing_data_percentage[missing_data_percentage > 90].index.tolist()\n",
    "    print(cols_to_remove)\n",
    "   \n",
    "    # Drop the identified columns\n",
    "    data = data.drop(columns=cols_to_remove)\n",
    "\n",
    "    def convert_with_leading_zero(value):\n",
    "        if isinstance(value, int) and 0 <= value < 10:\n",
    "            return '0' + str(value)\n",
    "        else:\n",
    "            return str(value)\n",
    "\n",
    "    data['CONG_DIST'] = data['CONG_DIST'].apply(convert_with_leading_zero)\n",
    "        \n",
    "    data['CNS_MEDINC'] = data['CNS_MEDINC'].astype('Int64')\n",
    "    data['YEARBUILT'] = data['YEARBUILT'].astype('Int64')\n",
    "    data['VOTER_CNT'] = data['VOTER_CNT'].str.strip().astype('Int64')\n",
    "    data['VOTER_TRLR'] = data['VOTER_TRLR'].astype(str)\n",
    "    \n",
    "    return data\n",
    "engineered_data = additional_cleaning(engineered_data)\n",
    "print(engineered_data.shape)"
   ],
   "metadata": {
    "collapsed": false,
    "ExecuteTime": {
     "end_time": "2023-10-22T18:33:38.588098Z",
     "start_time": "2023-10-22T18:33:36.175732Z"
    }
   }
  },
  {
   "cell_type": "code",
   "execution_count": 4,
   "outputs": [
    {
     "name": "stdout",
     "output_type": "stream",
     "text": [
      "(500000, 94)\n"
     ]
    }
   ],
   "source": [
    "remove_columns = [\n",
    "    'PRFL_LGBT_SUPPORT',\n",
    "    'PRFL_LIBERAL_NEWS',\n",
    "    'PRFL_MARIJUANA_REFORM',\n",
    "    'PRFL_BIDEN_SUPPORT',\n",
    "    'PRFL_BORDER_SECURITY',\n",
    "    'PRFL_CONSERVATIVE_NEWS',\n",
    "    'PRFL_IMMIGRATION_REFORM',\n",
    "    'PRFL_OBAMA',\n",
    "    'PRFL_PERSUADABLE_VOTER',\n",
    "    'PRFL_POLITICAL_IDEOLOGY',\n",
    "    'PRFL_SANDERS_SUPPORT',\n",
    "    'PRFL_TRUMP_SUPPORT',\n",
    "    'ZIP',\n",
    "    \n",
    "    'VTR_GEN00', 'VTR_GEN01', 'VTR_GEN02', 'VTR_GEN03', 'VTR_GEN04', 'VTR_GEN05', 'VTR_GEN06', 'VTR_GEN07', 'VTR_GEN08', 'VTR_GEN09', 'VTR_GEN10', 'VTR_GEN11', 'VTR_GEN12', 'VTR_GEN13', 'VTR_GEN14', 'VTR_GEN15', 'VTR_GEN16', 'VTR_GEN17', 'VTR_GEN18', 'VTR_GEN19', 'VTR_GEN20', 'VTR_GEN21', 'VTR_GEN22', 'VTR_OTH00', 'VTR_OTH01', 'VTR_OTH02', 'VTR_OTH03', 'VTR_OTH04', 'VTR_OTH05', 'VTR_OTH06', 'VTR_OTH07', 'VTR_OTH08', 'VTR_OTH09', 'VTR_OTH10', 'VTR_OTH11', 'VTR_OTH12', 'VTR_OTH13', 'VTR_OTH14', 'VTR_OTH15', 'VTR_OTH16', 'VTR_OTH17', 'VTR_OTH18', 'VTR_OTH19', 'VTR_OTH20', 'VTR_OTH21', 'VTR_OTH22', 'VTR_PPP00', 'VTR_PPP04', 'VTR_PPP08', 'VTR_PPP12', 'VTR_PPP16', 'VTR_PPP20', 'VTR_PRI00', 'VTR_PRI01', 'VTR_PRI02', 'VTR_PRI03', 'VTR_PRI04', 'VTR_PRI05', 'VTR_PRI06', 'VTR_PRI07', 'VTR_PRI08', 'VTR_PRI09', 'VTR_PRI10', 'VTR_PRI11', 'VTR_PRI12', 'VTR_PRI13', 'VTR_PRI14', 'VTR_PRI15', 'VTR_PRI16', 'VTR_PRI17', 'VTR_PRI18', 'VTR_PRI19', 'VTR_PRI20', 'VTR_PRI21', 'VTR_PRI22',\n",
    "    \n",
    "      'PRFL_CHOICELIFE', \"PRFL_GUN_CONTROL\",'PRFL_MARRIAGE_EQUALITY', 'PRFL_TEAPARTY',\n",
    "    'VP_PPP', \"AI_COUNTY_NAME\", 'PRFL_CLINTON_SUPPORT',\n",
    "     'CNSUS_PCTW', 'PARTY_MIX', 'PRFL_MINWAGE', 'PRFL_FENCE_SITTER', \"RECORD_ID\", 'CNSUS_PCTA',\n",
    "    'PRFL_BLM_SUPPORT', 'PRFL_METOO_SUPPORT', 'PRFL_HEALTHCARE_REFORM','DON_POLLIB', 'PRFL_2NDAMEND', 'FUND_POLIT', 'DON_POLCONS', \n",
    "    \n",
    "   'PARTY_CODE','ST_LO_HOUS', 'ST_UP_HOUS', 'CENSUS_ST', 'COUNTY_ST',\n",
    "    #'AGE'\n",
    "]\n",
    "# Drop the list of columns from the dataset\n",
    "engineered_data.drop(columns=remove_columns, errors='ignore', inplace=True)\n",
    "print(engineered_data.shape)"
   ],
   "metadata": {
    "collapsed": false,
    "ExecuteTime": {
     "end_time": "2023-10-22T18:33:38.884182Z",
     "start_time": "2023-10-22T18:33:38.599948Z"
    }
   }
  },
  {
   "cell_type": "code",
   "execution_count": 5,
   "outputs": [
    {
     "name": "stdout",
     "output_type": "stream",
     "text": [
      "Index(['ADD_TYPE', 'AGE', 'AIRCOND', 'ASSMLCODE', 'AUTOWORK', 'BROADERLIV',\n",
      "       'CARDUSER', 'CENSUS_TRK', 'CNS_MEDINC', 'CNSUS_PCTB', 'CNSUS_PCTH',\n",
      "       'CNSUS_PCTI', 'CNSUS_PCTM', 'CNSUS_PCTO', 'CNSUS_PCTP', 'COMPUTERS',\n",
      "       'CONG_DIST', 'COOK_GEN', 'COUNTY_TYPE', 'CRD_RANGE', 'CREDRATE',\n",
      "       'DEPTSTCRD', 'DIETING', 'DOGOWNER', 'DON_CHARIT', 'DON_HEALTH',\n",
      "       'DON_POLIT', 'EDUCATION', 'ETHNIC_INFER', 'ETHNICCODE', 'ETHNICGRP',\n",
      "       'EXER_GROUP', 'GARDENER', 'GENDER_MIX', 'GENERATION', 'GOLF',\n",
      "       'HEALTHBEAU', 'HEATHMED', 'HH_NUMGEN', 'HH_SIZE', 'HITECHLIV',\n",
      "       'HOME_DECOR', 'HOMEMKTVAL', 'HOMEOWNER', 'HOMEOWNRNT', 'INCOMESTHH',\n",
      "       'LANGUAGE', 'LENGTH_RES', 'LIFESTAGE_CLUSTER', 'MAILORDBUY',\n",
      "       'MAILORDRSP', 'NETWORTH', 'NUMCHILD', 'OCCDETAIL', 'OCCUPATION',\n",
      "       'PERSONS_HH', 'PETS', 'PRESENCHLD', 'PRFL_AMZN_PRIME',\n",
      "       'PRFL_ANML_RIGHTS', 'PRFL_ENVIRONMENT', 'PRFL_INSURANCE', 'PRFL_TAXES',\n",
      "       'RD_GEN', 'RD_RELIG', 'RELIGION', 'SEX', 'SPEC_FOOT', 'SPORTLEIS',\n",
      "       'STATE', 'STATUS', 'SWEEPSTAKE', 'TOD_PRES_D_2016',\n",
      "       'TOD_PRES_D_2016_PREC', 'TOD_PRES_D_2020_PREC', 'TOD_PRES_DIFF_2016',\n",
      "       'TOD_PRES_DIFF_2016_PREC', 'TOD_PRES_DIFF_2020_PREC', 'TOD_PRES_O_2016',\n",
      "       'TOD_PRES_O_2016_PREC', 'TOD_PRES_O_2020_PREC', 'TOD_PRES_R_2016',\n",
      "       'TOD_PRES_R_2016_PREC', 'TOD_PRES_R_2020_PREC', 'TRAIL_CNT', 'TRAVEL',\n",
      "       'VOTER_CNT', 'VOTER_TRLR', 'VP_GEN', 'VP_OTH', 'VP_PRI', 'WORKWOMAN',\n",
      "       'YEARBUILT', 'INFER_PARTY'],\n",
      "      dtype='object')\n"
     ]
    }
   ],
   "source": [
    "print(engineered_data.columns)"
   ],
   "metadata": {
    "collapsed": false,
    "ExecuteTime": {
     "end_time": "2023-10-22T18:33:38.888119Z",
     "start_time": "2023-10-22T18:33:38.885008Z"
    }
   }
  },
  {
   "cell_type": "code",
   "execution_count": 6,
   "outputs": [
    {
     "data": {
      "text/plain": "       ADD_TYPE   AGE AIRCOND ASSMLCODE AUTOWORK BROADERLIV CARDUSER  \\\n430301        H  25.0     NaN       NaN      NaN        NaN      NaN   \n274698        S  39.0     NaN         A      NaN        NaN      NaN   \n427594        S  68.0     NaN       NaN      NaN        NaN      NaN   \n243841        S  60.0     NaN       NaN        Y        NaN        Y   \n201032        S  79.0       I       NaN      NaN        NaN        Y   \n468846        S  54.0     NaN       NaN      NaN        NaN        Y   \n309765        S  76.0       A       NaN        Y        NaN        Y   \n483066        S  64.0       A       NaN      NaN        NaN      NaN   \n272111        S  57.0     NaN       NaN      NaN        NaN      NaN   \n129899        S  37.0     NaN       NaN      NaN        NaN      NaN   \n\n        CENSUS_TRK  CNS_MEDINC  CNSUS_PCTB  ...  TRAIL_CNT  TRAVEL  VOTER_CNT  \\\n430301    105207.0        <NA>   53.191489  ...          1     NaN          0   \n274698      1414.0        <NA>    0.000000  ...          2     NaN          6   \n427594    532700.0        <NA>   42.905405  ...          1     NaN          0   \n243841    951101.0         607   26.484018  ...          3     NaN         37   \n201032    270200.0         923    0.000000  ...          1     NaN         23   \n468846     12903.0        <NA>    0.000000  ...          1     NaN          8   \n309765     14304.0        <NA>    0.000000  ...          2     NaN         25   \n483066     30370.0        1518    2.028398  ...          1       Y         10   \n272111     11003.0        1411    1.311475  ...          1     NaN         35   \n129899     10700.0         617    0.000000  ...          1       Y          3   \n\n        VOTER_TRLR  VP_GEN VP_OTH VP_PRI WORKWOMAN YEARBUILT INFER_PARTY  \n430301           0    0.00   0.00    0.0       NaN      <NA>         NaN  \n274698           2   33.33   0.00    0.0       NaN      1981           R  \n427594           0    0.00   0.00    0.0       NaN      <NA>           D  \n243841           2   70.00  10.00   40.0         Y      1986           R  \n201032           0   50.00   0.00   30.0       NaN      1920           D  \n468846           1   20.00  10.00    0.0         Y      <NA>           R  \n309765           1   90.00   0.00   10.0       NaN      2019           R  \n483066           1   42.86  42.86    0.0       NaN      1994         NaN  \n272111           1   90.00  10.00   10.0       NaN      1999           D  \n129899           0   30.00   0.00    0.0       NaN      <NA>           R  \n\n[10 rows x 94 columns]",
      "text/html": "<div>\n<style scoped>\n    .dataframe tbody tr th:only-of-type {\n        vertical-align: middle;\n    }\n\n    .dataframe tbody tr th {\n        vertical-align: top;\n    }\n\n    .dataframe thead th {\n        text-align: right;\n    }\n</style>\n<table border=\"1\" class=\"dataframe\">\n  <thead>\n    <tr style=\"text-align: right;\">\n      <th></th>\n      <th>ADD_TYPE</th>\n      <th>AGE</th>\n      <th>AIRCOND</th>\n      <th>ASSMLCODE</th>\n      <th>AUTOWORK</th>\n      <th>BROADERLIV</th>\n      <th>CARDUSER</th>\n      <th>CENSUS_TRK</th>\n      <th>CNS_MEDINC</th>\n      <th>CNSUS_PCTB</th>\n      <th>...</th>\n      <th>TRAIL_CNT</th>\n      <th>TRAVEL</th>\n      <th>VOTER_CNT</th>\n      <th>VOTER_TRLR</th>\n      <th>VP_GEN</th>\n      <th>VP_OTH</th>\n      <th>VP_PRI</th>\n      <th>WORKWOMAN</th>\n      <th>YEARBUILT</th>\n      <th>INFER_PARTY</th>\n    </tr>\n  </thead>\n  <tbody>\n    <tr>\n      <th>430301</th>\n      <td>H</td>\n      <td>25.0</td>\n      <td>NaN</td>\n      <td>NaN</td>\n      <td>NaN</td>\n      <td>NaN</td>\n      <td>NaN</td>\n      <td>105207.0</td>\n      <td>&lt;NA&gt;</td>\n      <td>53.191489</td>\n      <td>...</td>\n      <td>1</td>\n      <td>NaN</td>\n      <td>0</td>\n      <td>0</td>\n      <td>0.00</td>\n      <td>0.00</td>\n      <td>0.0</td>\n      <td>NaN</td>\n      <td>&lt;NA&gt;</td>\n      <td>NaN</td>\n    </tr>\n    <tr>\n      <th>274698</th>\n      <td>S</td>\n      <td>39.0</td>\n      <td>NaN</td>\n      <td>A</td>\n      <td>NaN</td>\n      <td>NaN</td>\n      <td>NaN</td>\n      <td>1414.0</td>\n      <td>&lt;NA&gt;</td>\n      <td>0.000000</td>\n      <td>...</td>\n      <td>2</td>\n      <td>NaN</td>\n      <td>6</td>\n      <td>2</td>\n      <td>33.33</td>\n      <td>0.00</td>\n      <td>0.0</td>\n      <td>NaN</td>\n      <td>1981</td>\n      <td>R</td>\n    </tr>\n    <tr>\n      <th>427594</th>\n      <td>S</td>\n      <td>68.0</td>\n      <td>NaN</td>\n      <td>NaN</td>\n      <td>NaN</td>\n      <td>NaN</td>\n      <td>NaN</td>\n      <td>532700.0</td>\n      <td>&lt;NA&gt;</td>\n      <td>42.905405</td>\n      <td>...</td>\n      <td>1</td>\n      <td>NaN</td>\n      <td>0</td>\n      <td>0</td>\n      <td>0.00</td>\n      <td>0.00</td>\n      <td>0.0</td>\n      <td>NaN</td>\n      <td>&lt;NA&gt;</td>\n      <td>D</td>\n    </tr>\n    <tr>\n      <th>243841</th>\n      <td>S</td>\n      <td>60.0</td>\n      <td>NaN</td>\n      <td>NaN</td>\n      <td>Y</td>\n      <td>NaN</td>\n      <td>Y</td>\n      <td>951101.0</td>\n      <td>607</td>\n      <td>26.484018</td>\n      <td>...</td>\n      <td>3</td>\n      <td>NaN</td>\n      <td>37</td>\n      <td>2</td>\n      <td>70.00</td>\n      <td>10.00</td>\n      <td>40.0</td>\n      <td>Y</td>\n      <td>1986</td>\n      <td>R</td>\n    </tr>\n    <tr>\n      <th>201032</th>\n      <td>S</td>\n      <td>79.0</td>\n      <td>I</td>\n      <td>NaN</td>\n      <td>NaN</td>\n      <td>NaN</td>\n      <td>Y</td>\n      <td>270200.0</td>\n      <td>923</td>\n      <td>0.000000</td>\n      <td>...</td>\n      <td>1</td>\n      <td>NaN</td>\n      <td>23</td>\n      <td>0</td>\n      <td>50.00</td>\n      <td>0.00</td>\n      <td>30.0</td>\n      <td>NaN</td>\n      <td>1920</td>\n      <td>D</td>\n    </tr>\n    <tr>\n      <th>468846</th>\n      <td>S</td>\n      <td>54.0</td>\n      <td>NaN</td>\n      <td>NaN</td>\n      <td>NaN</td>\n      <td>NaN</td>\n      <td>Y</td>\n      <td>12903.0</td>\n      <td>&lt;NA&gt;</td>\n      <td>0.000000</td>\n      <td>...</td>\n      <td>1</td>\n      <td>NaN</td>\n      <td>8</td>\n      <td>1</td>\n      <td>20.00</td>\n      <td>10.00</td>\n      <td>0.0</td>\n      <td>Y</td>\n      <td>&lt;NA&gt;</td>\n      <td>R</td>\n    </tr>\n    <tr>\n      <th>309765</th>\n      <td>S</td>\n      <td>76.0</td>\n      <td>A</td>\n      <td>NaN</td>\n      <td>Y</td>\n      <td>NaN</td>\n      <td>Y</td>\n      <td>14304.0</td>\n      <td>&lt;NA&gt;</td>\n      <td>0.000000</td>\n      <td>...</td>\n      <td>2</td>\n      <td>NaN</td>\n      <td>25</td>\n      <td>1</td>\n      <td>90.00</td>\n      <td>0.00</td>\n      <td>10.0</td>\n      <td>NaN</td>\n      <td>2019</td>\n      <td>R</td>\n    </tr>\n    <tr>\n      <th>483066</th>\n      <td>S</td>\n      <td>64.0</td>\n      <td>A</td>\n      <td>NaN</td>\n      <td>NaN</td>\n      <td>NaN</td>\n      <td>NaN</td>\n      <td>30370.0</td>\n      <td>1518</td>\n      <td>2.028398</td>\n      <td>...</td>\n      <td>1</td>\n      <td>Y</td>\n      <td>10</td>\n      <td>1</td>\n      <td>42.86</td>\n      <td>42.86</td>\n      <td>0.0</td>\n      <td>NaN</td>\n      <td>1994</td>\n      <td>NaN</td>\n    </tr>\n    <tr>\n      <th>272111</th>\n      <td>S</td>\n      <td>57.0</td>\n      <td>NaN</td>\n      <td>NaN</td>\n      <td>NaN</td>\n      <td>NaN</td>\n      <td>NaN</td>\n      <td>11003.0</td>\n      <td>1411</td>\n      <td>1.311475</td>\n      <td>...</td>\n      <td>1</td>\n      <td>NaN</td>\n      <td>35</td>\n      <td>1</td>\n      <td>90.00</td>\n      <td>10.00</td>\n      <td>10.0</td>\n      <td>NaN</td>\n      <td>1999</td>\n      <td>D</td>\n    </tr>\n    <tr>\n      <th>129899</th>\n      <td>S</td>\n      <td>37.0</td>\n      <td>NaN</td>\n      <td>NaN</td>\n      <td>NaN</td>\n      <td>NaN</td>\n      <td>NaN</td>\n      <td>10700.0</td>\n      <td>617</td>\n      <td>0.000000</td>\n      <td>...</td>\n      <td>1</td>\n      <td>Y</td>\n      <td>3</td>\n      <td>0</td>\n      <td>30.00</td>\n      <td>0.00</td>\n      <td>0.0</td>\n      <td>NaN</td>\n      <td>&lt;NA&gt;</td>\n      <td>R</td>\n    </tr>\n  </tbody>\n</table>\n<p>10 rows × 94 columns</p>\n</div>"
     },
     "execution_count": 6,
     "metadata": {},
     "output_type": "execute_result"
    }
   ],
   "source": [
    "engineered_data.sample(10)"
   ],
   "metadata": {
    "collapsed": false,
    "ExecuteTime": {
     "end_time": "2023-10-22T18:33:38.914971Z",
     "start_time": "2023-10-22T18:33:38.898882Z"
    }
   }
  },
  {
   "cell_type": "code",
   "execution_count": 7,
   "outputs": [
    {
     "name": "stdout",
     "output_type": "stream",
     "text": [
      "Initial Numerical Columns Count: 24\n",
      "Initial Non-Numerical Columns Count: 70\n",
      "Column ADD_TYPE couldn't be converted to 'int64' or 'float64'. It is non-numeric.\n",
      "Column AIRCOND couldn't be converted to 'int64' or 'float64'. It is non-numeric.\n",
      "Column ASSMLCODE couldn't be converted to 'int64' or 'float64'. It is non-numeric.\n",
      "Column AUTOWORK couldn't be converted to 'int64' or 'float64'. It is non-numeric.\n",
      "Column BROADERLIV couldn't be converted to 'int64' or 'float64'. It is non-numeric.\n",
      "Column CARDUSER couldn't be converted to 'int64' or 'float64'. It is non-numeric.\n",
      "Column COMPUTERS couldn't be converted to 'int64' or 'float64'. It is non-numeric.\n",
      "Column COOK_GEN couldn't be converted to 'int64' or 'float64'. It is non-numeric.\n",
      "Column COUNTY_TYPE couldn't be converted to 'int64' or 'float64'. It is non-numeric.\n",
      "Column CREDRATE couldn't be converted to 'int64' or 'float64'. It is non-numeric.\n",
      "Column DEPTSTCRD couldn't be converted to 'int64' or 'float64'. It is non-numeric.\n",
      "Column DIETING couldn't be converted to 'int64' or 'float64'. It is non-numeric.\n",
      "Column DOGOWNER couldn't be converted to 'int64' or 'float64'. It is non-numeric.\n",
      "Column DON_CHARIT couldn't be converted to 'int64' or 'float64'. It is non-numeric.\n",
      "Column DON_HEALTH couldn't be converted to 'int64' or 'float64'. It is non-numeric.\n",
      "Column DON_POLIT couldn't be converted to 'int64' or 'float64'. It is non-numeric.\n",
      "Column EDUCATION couldn't be converted to 'int64' or 'float64'. It is non-numeric.\n",
      "Column ETHNIC_INFER couldn't be converted to 'int64' or 'float64'. It is non-numeric.\n",
      "Column ETHNICCODE couldn't be converted to 'int64' or 'float64'. It is non-numeric.\n",
      "Column ETHNICGRP couldn't be converted to 'int64' or 'float64'. It is non-numeric.\n",
      "Column EXER_GROUP couldn't be converted to 'int64' or 'float64'. It is non-numeric.\n",
      "Column GARDENER couldn't be converted to 'int64' or 'float64'. It is non-numeric.\n",
      "Column GENERATION couldn't be converted to 'int64' or 'float64'. It is non-numeric.\n",
      "Column GOLF couldn't be converted to 'int64' or 'float64'. It is non-numeric.\n",
      "Column HEALTHBEAU couldn't be converted to 'int64' or 'float64'. It is non-numeric.\n",
      "Column HEATHMED couldn't be converted to 'int64' or 'float64'. It is non-numeric.\n",
      "Column HITECHLIV couldn't be converted to 'int64' or 'float64'. It is non-numeric.\n",
      "Column HOME_DECOR couldn't be converted to 'int64' or 'float64'. It is non-numeric.\n",
      "Column HOMEMKTVAL couldn't be converted to 'int64' or 'float64'. It is non-numeric.\n",
      "Column HOMEOWNER couldn't be converted to 'int64' or 'float64'. It is non-numeric.\n",
      "Column HOMEOWNRNT couldn't be converted to 'int64' or 'float64'. It is non-numeric.\n",
      "Column INCOMESTHH couldn't be converted to 'int64' or 'float64'. It is non-numeric.\n",
      "Column LANGUAGE couldn't be converted to 'int64' or 'float64'. It is non-numeric.\n",
      "Column LIFESTAGE_CLUSTER couldn't be converted to 'int64' or 'float64'. It is non-numeric.\n",
      "Column MAILORDBUY couldn't be converted to 'int64' or 'float64'. It is non-numeric.\n",
      "Column MAILORDRSP couldn't be converted to 'int64' or 'float64'. It is non-numeric.\n",
      "Column NETWORTH couldn't be converted to 'int64' or 'float64'. It is non-numeric.\n",
      "Column OCCDETAIL couldn't be converted to 'int64' or 'float64'. It is non-numeric.\n",
      "Column OCCUPATION couldn't be converted to 'int64' or 'float64'. It is non-numeric.\n",
      "Column PETS couldn't be converted to 'int64' or 'float64'. It is non-numeric.\n",
      "Column PRESENCHLD couldn't be converted to 'int64' or 'float64'. It is non-numeric.\n",
      "Column PRFL_AMZN_PRIME couldn't be converted to 'int64' or 'float64'. It is non-numeric.\n",
      "Column PRFL_ANML_RIGHTS couldn't be converted to 'int64' or 'float64'. It is non-numeric.\n",
      "Column PRFL_ENVIRONMENT couldn't be converted to 'int64' or 'float64'. It is non-numeric.\n",
      "Column PRFL_INSURANCE couldn't be converted to 'int64' or 'float64'. It is non-numeric.\n",
      "Column PRFL_TAXES couldn't be converted to 'int64' or 'float64'. It is non-numeric.\n",
      "Column RD_GEN couldn't be converted to 'int64' or 'float64'. It is non-numeric.\n",
      "Column RD_RELIG couldn't be converted to 'int64' or 'float64'. It is non-numeric.\n",
      "Column RELIGION couldn't be converted to 'int64' or 'float64'. It is non-numeric.\n",
      "Column SEX couldn't be converted to 'int64' or 'float64'. It is non-numeric.\n",
      "Column SPEC_FOOT couldn't be converted to 'int64' or 'float64'. It is non-numeric.\n",
      "Column SPORTLEIS couldn't be converted to 'int64' or 'float64'. It is non-numeric.\n",
      "Column STATE couldn't be converted to 'int64' or 'float64'. It is non-numeric.\n",
      "Column STATUS couldn't be converted to 'int64' or 'float64'. It is non-numeric.\n",
      "Column SWEEPSTAKE couldn't be converted to 'int64' or 'float64'. It is non-numeric.\n",
      "Column TOD_PRES_DIFF_2016 couldn't be converted to 'int64' or 'float64'. It is non-numeric.\n",
      "Column TOD_PRES_DIFF_2016_PREC couldn't be converted to 'int64' or 'float64'. It is non-numeric.\n",
      "Column TOD_PRES_DIFF_2020_PREC couldn't be converted to 'int64' or 'float64'. It is non-numeric.\n",
      "Column TRAVEL couldn't be converted to 'int64' or 'float64'. It is non-numeric.\n",
      "Column VOTER_TRLR couldn't be converted to 'int64' or 'float64'. It is non-numeric.\n",
      "Column WORKWOMAN couldn't be converted to 'int64' or 'float64'. It is non-numeric.\n",
      "Column INFER_PARTY couldn't be converted to 'int64' or 'float64'. It is non-numeric.\n",
      "\n",
      "Data types after conversion:\n",
      "ADD_TYPE        object\n",
      "AGE            float64\n",
      "AIRCOND         object\n",
      "ASSMLCODE       object\n",
      "AUTOWORK        object\n",
      "                ...   \n",
      "VP_OTH         float64\n",
      "VP_PRI         float64\n",
      "WORKWOMAN       object\n",
      "YEARBUILT      float64\n",
      "INFER_PARTY     object\n",
      "Length: 94, dtype: object\n",
      "\n",
      "Total Numerical Columns after conversion: 32\n",
      "Total Non-Numerical Columns after conversion: 62\n",
      "(500000, 94)\n"
     ]
    }
   ],
   "source": [
    "def preprocess_dataframe(df):\n",
    "    # Initial count of numerical and non-numerical columns\n",
    "    initial_numerical_cols = df.select_dtypes(include=['int64', 'float64']).columns\n",
    "    initial_non_numerical_cols = df.select_dtypes(include=['object']).columns\n",
    "\n",
    "    print(f\"Initial Numerical Columns Count: {len(initial_numerical_cols)}\")\n",
    "    print(f\"Initial Non-Numerical Columns Count: {len(initial_non_numerical_cols)}\")\n",
    "\n",
    "    # Create a copy of the DataFrame to avoid modifying the original one\n",
    "    converted_data = df.copy()\n",
    "\n",
    "    # Initialize counters for numerical and non-numerical columns\n",
    "    num_cols_count = 0\n",
    "    non_num_cols_count = 0\n",
    "\n",
    "    # Loop through each column and try to convert it to numerical data types\n",
    "    for col in converted_data.columns:\n",
    "        try:\n",
    "            # Try converting to 'int64'\n",
    "            converted_data[col] = converted_data[col].astype('int64')\n",
    "            num_cols_count += 1\n",
    "        except ValueError:\n",
    "            try:\n",
    "                # If that fails, try converting to 'float64'\n",
    "                converted_data[col] = converted_data[col].astype('float64')\n",
    "                num_cols_count += 1\n",
    "            except ValueError:\n",
    "                # If both fail, the column is genuinely non-numeric\n",
    "                non_num_cols_count += 1\n",
    "                print(f\"Column {col} couldn't be converted to 'int64' or 'float64'. It is non-numeric.\")\n",
    "\n",
    "    # Display the data types after the conversion\n",
    "    print(\"\\nData types after conversion:\")\n",
    "    print(converted_data.dtypes)\n",
    "\n",
    "    # Display count of numerical and non-numerical columns\n",
    "    print(f\"\\nTotal Numerical Columns after conversion: {num_cols_count}\")\n",
    "    print(f\"Total Non-Numerical Columns after conversion: {non_num_cols_count}\")\n",
    "\n",
    "    return converted_data\n",
    "\n",
    "# Assuming your DataFrame is named 'engineered_data'\n",
    "processed_data = preprocess_dataframe(engineered_data)\n",
    "print(processed_data.shape)"
   ],
   "metadata": {
    "collapsed": false,
    "ExecuteTime": {
     "end_time": "2023-10-22T18:33:40.024583Z",
     "start_time": "2023-10-22T18:33:38.911750Z"
    }
   }
  },
  {
   "cell_type": "markdown",
   "source": [
    "## time decorator"
   ],
   "metadata": {
    "collapsed": false
   }
  },
  {
   "cell_type": "code",
   "execution_count": 8,
   "outputs": [],
   "source": [
    "def timer_decorator(func):\n",
    "    def wrapper(*args, **kwargs):\n",
    "        start_time = time.time()\n",
    "        result = func(*args, **kwargs)\n",
    "        end_time = time.time()\n",
    "        elapsed_time = end_time - start_time\n",
    "        print(f\"Elapsed time: {elapsed_time:.2f} seconds\")\n",
    "        return result\n",
    "    return wrapper"
   ],
   "metadata": {
    "collapsed": false,
    "ExecuteTime": {
     "end_time": "2023-10-22T18:33:40.028298Z",
     "start_time": "2023-10-22T18:33:40.024305Z"
    }
   }
  },
  {
   "cell_type": "markdown",
   "source": [
    "### Feature Selection with Random Forest Generator"
   ],
   "metadata": {
    "collapsed": false
   }
  },
  {
   "cell_type": "code",
   "execution_count": 11,
   "outputs": [
    {
     "name": "stdout",
     "output_type": "stream",
     "text": [
      "Starting Random Forest run 1...\n",
      "Elapsed time: 74.25 seconds\n"
     ]
    },
    {
     "data": {
      "text/plain": "   Run  Accuracy  Precision  F1_Score    Recall  \\\n0    1  0.742583   0.717987  0.734781  0.752379   \n\n                                      Top_N_Features  \n0  [TOD_PRES_R_2016_PREC, TOD_PRES_D_2016_PREC, T...  ",
      "text/html": "<div>\n<style scoped>\n    .dataframe tbody tr th:only-of-type {\n        vertical-align: middle;\n    }\n\n    .dataframe tbody tr th {\n        vertical-align: top;\n    }\n\n    .dataframe thead th {\n        text-align: right;\n    }\n</style>\n<table border=\"1\" class=\"dataframe\">\n  <thead>\n    <tr style=\"text-align: right;\">\n      <th></th>\n      <th>Run</th>\n      <th>Accuracy</th>\n      <th>Precision</th>\n      <th>F1_Score</th>\n      <th>Recall</th>\n      <th>Top_N_Features</th>\n    </tr>\n  </thead>\n  <tbody>\n    <tr>\n      <th>0</th>\n      <td>1</td>\n      <td>0.742583</td>\n      <td>0.717987</td>\n      <td>0.734781</td>\n      <td>0.752379</td>\n      <td>[TOD_PRES_R_2016_PREC, TOD_PRES_D_2016_PREC, T...</td>\n    </tr>\n  </tbody>\n</table>\n</div>"
     },
     "execution_count": 11,
     "metadata": {},
     "output_type": "execute_result"
    }
   ],
   "source": [
    "@timer_decorator\n",
    "def run_random_forest(data, num_runs=1, top_N_features=10):\n",
    "    results_list = []\n",
    "\n",
    "    for run in range(1, num_runs + 1):\n",
    "        print(f\"Starting Random Forest run {run}...\")\n",
    "        \n",
    "        # Copy the original data to work with\n",
    "        data_copy = data.copy()\n",
    "        \n",
    "        # Drop rows with missing 'INFER_PARTY'\n",
    "        data_copy = data_copy.dropna(subset=['INFER_PARTY'])\n",
    "        \n",
    "        # Encode all object type columns\n",
    "        le = LabelEncoder()\n",
    "        for col in data_copy.select_dtypes(include=['object']).columns:\n",
    "            data_copy[col] = le.fit_transform(data_copy[col].astype(str))\n",
    "        \n",
    "        # Impute missing values with column means\n",
    "        imputer = SimpleImputer(strategy='mean')\n",
    "        data_copy = imputer.fit_transform(data_copy)\n",
    "        \n",
    "        # Convert back to DataFrame after imputation\n",
    "        data_copy = pd.DataFrame(data_copy, columns=data.columns)\n",
    "        \n",
    "        # Extract features and target variable\n",
    "        X = data_copy.drop(columns=['INFER_PARTY'])\n",
    "        y = data_copy['INFER_PARTY']\n",
    "        \n",
    "        # Train-test split\n",
    "        X_train, X_test, y_train, y_test = train_test_split(X, y, test_size=0.2, random_state=42)\n",
    "        \n",
    "        # Initialize Random Forest Classifier\n",
    "        rf = RandomForestClassifier(random_state=42+run)\n",
    "        \n",
    "        # Fit the model\n",
    "        rf.fit(X_train, y_train)\n",
    "        \n",
    "        # Make predictions\n",
    "        y_pred = rf.predict(X_test)\n",
    "        \n",
    "        # Calculate evaluation metrics\n",
    "        accuracy = accuracy_score(y_test, y_pred)\n",
    "        f1 = f1_score(y_test, y_pred)\n",
    "        recall = recall_score(y_test, y_pred)\n",
    "        precision = precision_score(y_test, y_pred)\n",
    "        \n",
    "        # Get top N features using feature_importances_\n",
    "        top_feature_indices = np.argsort(rf.feature_importances_)[::-1][:top_N_features]\n",
    "        top_features = X.columns[top_feature_indices].tolist()\n",
    "        \n",
    "        # Append results to the list\n",
    "        results_list.append({\n",
    "            'Run': run,\n",
    "            'Accuracy': accuracy,\n",
    "            'Precision': precision,\n",
    "            'F1_Score': f1,\n",
    "            'Recall': recall,\n",
    "            'Top_N_Features': top_features\n",
    "        })\n",
    "\n",
    "    # Create a DataFrame from the results list\n",
    "    results_df = pd.DataFrame(results_list)\n",
    "\n",
    "    return results_df\n",
    "\n",
    "# Assuming processed_data is your preprocessed dataset\n",
    "result = run_random_forest(engineered_data, num_runs=1, top_N_features=10)\n",
    "result"
   ],
   "metadata": {
    "collapsed": false,
    "ExecuteTime": {
     "end_time": "2023-10-22T18:50:02.129376Z",
     "start_time": "2023-10-22T18:48:47.867481Z"
    }
   }
  },
  {
   "cell_type": "code",
   "execution_count": 12,
   "outputs": [
    {
     "name": "stdout",
     "output_type": "stream",
     "text": [
      "['TOD_PRES_R_2016_PREC', 'TOD_PRES_D_2016_PREC', 'TOD_PRES_D_2020_PREC', 'TOD_PRES_D_2016', 'TOD_PRES_R_2016', 'TOD_PRES_R_2020_PREC', 'ETHNIC_INFER', 'CNSUS_PCTB', 'CENSUS_TRK', 'TOD_PRES_DIFF_2016_PREC']\n"
     ]
    }
   ],
   "source": [
    "for n in result['Top_N_Features']:\n",
    "    print(n)\n",
    "    break"
   ],
   "metadata": {
    "collapsed": false,
    "ExecuteTime": {
     "end_time": "2023-10-22T18:54:00.873718Z",
     "start_time": "2023-10-22T18:54:00.829804Z"
    }
   }
  },
  {
   "cell_type": "markdown",
   "source": [
    "#### Plot for Random Forest Generator for Feature Selection"
   ],
   "metadata": {
    "collapsed": false
   }
  },
  {
   "cell_type": "code",
   "execution_count": 13,
   "outputs": [
    {
     "name": "stdout",
     "output_type": "stream",
     "text": [
      "Starting Random Forest run for feature importance...\n"
     ]
    },
    {
     "data": {
      "text/plain": "<Figure size 1000x800 with 1 Axes>",
      "image/png": "[encoded data removed]"
     },
     "metadata": {},
     "output_type": "display_data"
    }
   ],
   "source": [
    "def plot_feature_importance(importance, names, model_type):\n",
    "    feature_importance = pd.DataFrame({'feature': names, 'importance': importance})\n",
    "    feature_importance = feature_importance.sort_values(by='importance', ascending=True)\n",
    "    \n",
    "    plt.figure(figsize=(10, 8))\n",
    "    \n",
    "    cubehelix_palette = sns.cubehelix_palette(start=.5, rot=-.5)\n",
    "    \n",
    "    ax = sns.barplot(x=\"importance\", y=\"feature\", data=feature_importance, palette=cubehelix_palette)\n",
    "    \n",
    "    for p in ax.patches:\n",
    "        ax.annotate(f'{p.get_width():.3f}', \n",
    "                    (p.get_width(), p.get_y() + p.get_height() / 2.), \n",
    "                    ha='left', \n",
    "                    va='center', \n",
    "                    fontsize=12, \n",
    "                    color='black',\n",
    "                    xytext=(5, 0), \n",
    "                    textcoords='offset points')\n",
    "    \n",
    "    plt.title(f'{model_type} - Feature Importance')\n",
    "    plt.xlabel('Importance Score')\n",
    "    plt.ylabel('Features')\n",
    "    plt.grid(False)\n",
    "    plt.show()\n",
    "\n",
    "def run_random_forest_for_feature_importance(data, top_N_features=10):\n",
    "    print(\"Starting Random Forest run for feature importance...\")\n",
    "\n",
    "    # Copy the original data to work with\n",
    "    data_copy = data.copy()\n",
    "\n",
    "    # Drop rows with missing 'INFER_PARTY'\n",
    "    data_copy = data_copy.dropna(subset=['INFER_PARTY'])\n",
    "\n",
    "    # Encode all object type columns\n",
    "    le = LabelEncoder()\n",
    "    for col in data_copy.select_dtypes(include=['object']).columns:\n",
    "        data_copy[col] = le.fit_transform(data_copy[col].astype(str))\n",
    "\n",
    "    # Impute missing values with column means\n",
    "    imputer = SimpleImputer(strategy='mean')\n",
    "    data_copy = imputer.fit_transform(data_copy)\n",
    "\n",
    "    # Convert back to DataFrame after imputation\n",
    "    data_copy = pd.DataFrame(data_copy, columns=data.columns)\n",
    "\n",
    "    # Extract features and target variable\n",
    "    X = data_copy.drop(columns=['INFER_PARTY'])\n",
    "    y = data_copy['INFER_PARTY']\n",
    "\n",
    "    # Train-test split\n",
    "    X_train, X_test, y_train, y_test = train_test_split(X, y, test_size=0.2, random_state=42)\n",
    "\n",
    "    # Initialize Random Forest Classifier\n",
    "    rf = RandomForestClassifier(random_state=42)\n",
    "\n",
    "    # Fit the model\n",
    "    rf.fit(X_train, y_train)\n",
    "\n",
    "    # Get top N features using feature_importances_\n",
    "    top_feature_indices = np.argsort(rf.feature_importances_)[::-1][:top_N_features]\n",
    "    top_features = X.columns[top_feature_indices].tolist()\n",
    "\n",
    "    # Plot feature importance\n",
    "    plot_feature_importance(rf.feature_importances_[top_feature_indices], top_features, 'Random Forest')\n",
    "\n",
    "    return top_features\n",
    "\n",
    "# Assuming processed_data is your DataFrame\n",
    "top_features = run_random_forest_for_feature_importance(processed_data, top_N_features=10)\n"
   ],
   "metadata": {
    "collapsed": false,
    "ExecuteTime": {
     "end_time": "2023-10-22T18:55:15.782034Z",
     "start_time": "2023-10-22T18:54:06.191814Z"
    }
   }
  },
  {
   "cell_type": "code",
   "execution_count": null,
   "outputs": [],
   "source": [
    "top_features['Top_N_Features'][0]"
   ],
   "metadata": {
    "collapsed": false,
    "ExecuteTime": {
     "start_time": "2023-10-22T18:34:53.339126Z"
    }
   }
  },
  {
   "cell_type": "markdown",
   "source": [
    "### Feature Selection with Gradient boosting"
   ],
   "metadata": {
    "collapsed": false
   }
  },
  {
   "cell_type": "code",
   "execution_count": 15,
   "outputs": [
    {
     "name": "stdout",
     "output_type": "stream",
     "text": [
      "Starting Gradient Boosting run 1...\n",
      "Elapsed time: 330.53 seconds\n"
     ]
    },
    {
     "data": {
      "text/plain": "   Run  Accuracy  Precision  F1_Score    Recall  \\\n0    1  0.740279   0.767441  0.745534  0.724842   \n\n                                      Top_N_Features  \n0  [OCCDETAIL_W523, ETHNICCODE_HA, OCCDETAIL_T899...  ",
      "text/html": "<div>\n<style scoped>\n    .dataframe tbody tr th:only-of-type {\n        vertical-align: middle;\n    }\n\n    .dataframe tbody tr th {\n        vertical-align: top;\n    }\n\n    .dataframe thead th {\n        text-align: right;\n    }\n</style>\n<table border=\"1\" class=\"dataframe\">\n  <thead>\n    <tr style=\"text-align: right;\">\n      <th></th>\n      <th>Run</th>\n      <th>Accuracy</th>\n      <th>Precision</th>\n      <th>F1_Score</th>\n      <th>Recall</th>\n      <th>Top_N_Features</th>\n    </tr>\n  </thead>\n  <tbody>\n    <tr>\n      <th>0</th>\n      <td>1</td>\n      <td>0.740279</td>\n      <td>0.767441</td>\n      <td>0.745534</td>\n      <td>0.724842</td>\n      <td>[OCCDETAIL_W523, ETHNICCODE_HA, OCCDETAIL_T899...</td>\n    </tr>\n  </tbody>\n</table>\n</div>"
     },
     "execution_count": 15,
     "metadata": {},
     "output_type": "execute_result"
    }
   ],
   "source": [
    "@timer_decorator\n",
    "def run_gradient_boosting(data, num_runs=1, top_N_features=10, pos_label='D'):\n",
    "    results_list = []\n",
    "    \n",
    "    for run in range(1, num_runs + 1):\n",
    "        print(f\"Starting Gradient Boosting run {run}...\")\n",
    "        \n",
    "        # Copy the original data\n",
    "        data_copy = data.copy()\n",
    "        data_copy = data_copy.dropna(subset=['INFER_PARTY'])\n",
    "        \n",
    "        # Separate target and features\n",
    "        y = data_copy['INFER_PARTY']\n",
    "        X = data_copy.drop('INFER_PARTY', axis=1)\n",
    "        \n",
    "        # One-hot encoding\n",
    "        X = pd.get_dummies(X, drop_first=True)\n",
    "        \n",
    "        # Handle missing values\n",
    "        imputer = SimpleImputer(strategy='mean')\n",
    "        X = pd.DataFrame(imputer.fit_transform(X), columns=X.columns)\n",
    "        \n",
    "        # Train-test split\n",
    "        if y.nunique() > 1:\n",
    "            X_train, X_test, y_train, y_test = train_test_split(X, y, test_size=0.2, random_state=42, stratify=y)\n",
    "        else:\n",
    "            X_train, X_test, y_train, y_test = train_test_split(X, y, test_size=0.2, random_state=42)\n",
    "        \n",
    "        # Initialize and fit model\n",
    "        gb = GradientBoostingClassifier(random_state=42)\n",
    "        gb.fit(X_train, y_train)\n",
    "        \n",
    "        # Make predictions\n",
    "        y_pred = gb.predict(X_test)\n",
    "        \n",
    "        # Calculate metrics\n",
    "        accuracy = accuracy_score(y_test, y_pred)\n",
    "        f1 = f1_score(y_test, y_pred, pos_label=pos_label)\n",
    "        recall = recall_score(y_test, y_pred, pos_label=pos_label)\n",
    "        precision = precision_score(y_test, y_pred, pos_label=pos_label)\n",
    "        \n",
    "        # Get top N features\n",
    "        k_best = SelectKBest(score_func=chi2, k=top_N_features)\n",
    "        k_best.fit(X_train, y_train)\n",
    "        top_feature_indices = np.argsort(k_best.scores_)[::-1][:top_N_features]\n",
    "        top_features = X.columns[top_feature_indices].tolist()\n",
    "        \n",
    "        # Store results\n",
    "        results_list.append({\n",
    "            'Run': run,\n",
    "            'Accuracy': accuracy,\n",
    "            'Precision': precision,\n",
    "            'F1_Score': f1,\n",
    "            'Recall': recall,\n",
    "            'Top_N_Features': top_features\n",
    "        })\n",
    "\n",
    "    results_df = pd.DataFrame(results_list)\n",
    "\n",
    "    return results_df\n",
    "\n",
    "# Assuming engineered_data is your preprocessed dataset\n",
    "result = run_gradient_boosting(processed_data, num_runs=1, top_N_features=10, pos_label='D')\n",
    "result"
   ],
   "metadata": {
    "collapsed": false,
    "ExecuteTime": {
     "end_time": "2023-10-22T19:16:30.917096Z",
     "start_time": "2023-10-22T19:11:00.361619Z"
    }
   }
  },
  {
   "cell_type": "code",
   "execution_count": null,
   "outputs": [],
   "source": [
    "result['Top_N_Features'][0]"
   ],
   "metadata": {
    "collapsed": false,
    "ExecuteTime": {
     "end_time": "2023-10-22T19:00:59.705522Z",
     "start_time": "2023-10-22T19:00:59.705350Z"
    }
   }
  },
  {
   "cell_type": "markdown",
   "source": [
    "#### Plot for Gradient Boosting for Feature Selection"
   ],
   "metadata": {
    "collapsed": false
   }
  },
  {
   "cell_type": "code",
   "execution_count": null,
   "outputs": [],
   "source": [
    "@timer_decorator\n",
    "def run_gradient_boosting(data, pos_label='D', top_N_features=10):\n",
    "    results_list = []\n",
    "    \n",
    "    print(f\"Starting Gradient Boosting...\")\n",
    "    \n",
    "    # Copy the original data\n",
    "    data_copy = data.copy()\n",
    "    data_copy = data_copy.dropna(subset=['INFER_PARTY'])\n",
    "    \n",
    "    # Separate target and features\n",
    "    y = data_copy['INFER_PARTY']\n",
    "    X = data_copy.drop('INFER_PARTY', axis=1)\n",
    "    \n",
    "    # One-hot encoding\n",
    "    X = pd.get_dummies(X, drop_first=True)\n",
    "    \n",
    "    # Handle missing values\n",
    "    imputer = SimpleImputer(strategy='mean')\n",
    "    X = pd.DataFrame(imputer.fit_transform(X), columns=X.columns)\n",
    "    \n",
    "    # Initialize and fit model\n",
    "    gb = GradientBoostingClassifier(random_state=42)\n",
    "    gb.fit(X, y)\n",
    "    \n",
    "    # Make predictions\n",
    "    y_pred = gb.predict(X)\n",
    "    \n",
    "    # Calculate metrics\n",
    "    accuracy = accuracy_score(y, y_pred)\n",
    "    f1 = f1_score(y, y_pred, pos_label=pos_label)\n",
    "    recall = recall_score(y, y_pred, pos_label=pos_label)\n",
    "    \n",
    "    # Get top N features\n",
    "    importance = gb.feature_importances_\n",
    "    top_feature_indices = np.argsort(importance)[-top_N_features:]\n",
    "    top_features = X.columns[top_feature_indices].tolist()\n",
    "    \n",
    "    \n",
    "    # Store results\n",
    "    results_list.append({\n",
    "        'Accuracy': accuracy,\n",
    "        'F1_Score': f1,\n",
    "        'Recall': recall,\n",
    "        'Top_N_Features': top_features\n",
    "    })\n",
    "\n",
    "    results_df = pd.DataFrame(results_list)\n",
    "\n",
    "    return results_df, gb\n",
    "\n",
    "# Assuming processed_data is your preprocessed dataset\n",
    "results_df, gb_model = run_gradient_boosting(processed_data, pos_label='D', top_N_features=10)\n",
    "results_df\n",
    "\n",
    "# Function for plotting feature importance\n",
    "def plot_feature_importance(importance, names, model_type):\n",
    "    feature_importance = pd.DataFrame({'feature': names, 'importance': importance})\n",
    "    feature_importance = feature_importance.sort_values(by='importance', ascending=True).tail(10)  # For top 10 features\n",
    "    \n",
    "    plt.figure(figsize=(10, 8))\n",
    "    \n",
    "    cubehelix_palette = sns.cubehelix_palette(start=.5, rot=-.5)\n",
    "    \n",
    "    ax = sns.barplot(x=\"importance\", y=\"feature\", data=feature_importance, palette=cubehelix_palette)\n",
    "    \n",
    "    for p in ax.patches:\n",
    "        ax.annotate(f'{p.get_width():.3f}', \n",
    "                    (p.get_width(), p.get_y() + p.get_height() / 2.), \n",
    "                    ha='left', \n",
    "                    va='center', \n",
    "                    fontsize=12, \n",
    "                    color='black',\n",
    "                    xytext=(5, 0), \n",
    "                    textcoords='offset points')\n",
    "    \n",
    "    plt.title(f'{model_type} - Feature Importance')\n",
    "    plt.xlabel('Importance Score')\n",
    "    plt.ylabel('Features')\n",
    "    plt.grid(False)\n",
    "    plt.show()\n",
    "\n",
    "# Assuming processed_data is your preprocessed dataset\n",
    "result = run_gradient_boosting(processed_data, pos_label='D')\n",
    "result"
   ],
   "metadata": {
    "collapsed": false,
    "ExecuteTime": {
     "start_time": "2023-10-22T19:00:59.706281Z"
    }
   }
  },
  {
   "cell_type": "code",
   "execution_count": null,
   "outputs": [],
   "source": [
    "@timer_decorator\n",
    "def run_gradient_boosting(data, pos_label='D', top_N_features=10):\n",
    "    # Get top N features\n",
    "    importance = gb.feature_importances_\n",
    "    top_feature_indices = np.argsort(importance)[-top_N_features:]\n",
    "    top_features = X.columns[top_feature_indices].tolist()  \n",
    "    return results_df\n",
    "\n",
    "# Modified plot_feature_importance to include only top N features\n",
    "def plot_feature_importance(importance, names, model_type, top_features=None):\n",
    "    feature_importance = pd.DataFrame({'feature': names, 'importance': importance})\n",
    "    \n",
    "    # If top_features is provided, filter the DataFrame\n",
    "    if top_features:\n",
    "        feature_importance = feature_importance[feature_importance['feature'].isin(top_features)]\n",
    "\n",
    "    feature_importance = feature_importance.sort_values(by='importance', ascending=True)\n",
    "    \n",
    "    plt.figure(figsize=(10, 8))\n",
    "    \n",
    "    cubehelix_palette = sns.cubehelix_palette(start=.5, rot=-.5)\n",
    "    \n",
    "    ax = sns.barplot(x=\"importance\", y=\"feature\", data=feature_importance, palette=cubehelix_palette)\n",
    "    \n",
    "    for p in ax.patches:\n",
    "        ax.annotate(f'{p.get_width():.3f}', \n",
    "                    (p.get_width(), p.get_y() + p.get_height() / 2.), \n",
    "                    ha='left', \n",
    "                    va='center', \n",
    "                    fontsize=12, \n",
    "                    color='black',\n",
    "                    xytext=(5, 0), \n",
    "                    textcoords='offset points')\n",
    "    \n",
    "    plt.title(f'{model_type} - Feature Importance')\n",
    "    plt.xlabel('Importance Score')\n",
    "    plt.ylabel('Features')\n",
    "    plt.grid(False)\n",
    "    plt.show()\n",
    "\n",
    "# Existing run_gradient_boosting function\n",
    "@timer_decorator\n",
    "def run_gradient_boosting(data, pos_label='D', top_N_features=10):\n",
    "    results_list = []\n",
    "    \n",
    "    print(f\"Starting Gradient Boosting...\")\n",
    "    \n",
    "    # Copy the original data and drop NA values for target variable\n",
    "    data_copy = data.copy()\n",
    "    data_copy = data_copy.dropna(subset=['INFER_PARTY'])\n",
    "    \n",
    "    # Separate target and features\n",
    "    y = data_copy['INFER_PARTY']\n",
    "    X = data_copy.drop('INFER_PARTY', axis=1)\n",
    "    \n",
    "    # One-hot encoding\n",
    "    X = pd.get_dummies(X, drop_first=True)\n",
    "    \n",
    "    # Handle missing values\n",
    "    imputer = SimpleImputer(strategy='mean')\n",
    "    X = pd.DataFrame(imputer.fit_transform(X), columns=X.columns)\n",
    "    \n",
    "    # Initialize and fit model\n",
    "    gb = GradientBoostingClassifier(random_state=42)\n",
    "    gb.fit(X, y)\n",
    "    \n",
    "    # Make predictions\n",
    "    y_pred = gb.predict(X)\n",
    "    \n",
    "    # Calculate metrics\n",
    "    accuracy = accuracy_score(y, y_pred)\n",
    "    f1 = f1_score(y, y_pred, pos_label=pos_label)\n",
    "    recall = recall_score(y, y_pred, pos_label=pos_label)\n",
    "    precision = precision_score(y, y_pred, pos_label=pos_label)\n",
    "    \n",
    "    # Get top N features\n",
    "    importance = gb.feature_importances_\n",
    "    top_feature_indices = np.argsort(importance)[-top_N_features:]\n",
    "    top_features = X.columns[top_feature_indices].tolist()\n",
    "    \n",
    "     # Store results\n",
    "    results_list.append({\n",
    "        'Accuracy': accuracy,\n",
    "        'F1_Score': f1,\n",
    "        'Recall': recall,\n",
    "        'Precision': precision,\n",
    "        'Top_N_Features': top_features\n",
    "    })\n",
    "\n",
    "    results_df = pd.DataFrame(results_list)\n",
    "    \n",
    "    # Plotting feature importance using top_features\n",
    "    feature_importances = gb.feature_importances_\n",
    "    plot_feature_importance(feature_importances, X.columns, \"Gradient Boosting\", top_features=top_features)\n",
    "    \n",
    "    return results_df\n",
    "    \n",
    "# The run_gradient_boosting function remains the same as before\n",
    "# Assuming processed_data is your preprocessed dataset\n",
    "result = run_gradient_boosting(processed_data, pos_label='D', top_N_features=10)\n",
    "result"
   ],
   "metadata": {
    "collapsed": false,
    "ExecuteTime": {
     "start_time": "2023-10-22T19:00:59.707012Z"
    }
   }
  },
  {
   "cell_type": "code",
   "execution_count": 16,
   "outputs": [
    {
     "name": "stdout",
     "output_type": "stream",
     "text": [
      "['OCCDETAIL_W523', 'ETHNICCODE_HA', 'OCCDETAIL_T899', 'LANGUAGE_S4', 'OCCDETAIL_C123', 'TOD_PRES_DIFF_2016_88R', 'ETHNICCODE_M9', 'ETHNICCODE_HY', 'OCCDETAIL_L398', 'OCCDETAIL_I146']\n"
     ]
    }
   ],
   "source": [
    "for n in result['Top_N_Features']:\n",
    "    print(n)"
   ],
   "metadata": {
    "collapsed": false,
    "ExecuteTime": {
     "end_time": "2023-10-22T19:23:21.691814Z",
     "start_time": "2023-10-22T19:23:21.672399Z"
    }
   }
  },
  {
   "cell_type": "markdown",
   "source": [
    "### Feature Selection with Logistic Regression"
   ],
   "metadata": {
    "collapsed": false
   }
  },
  {
   "cell_type": "code",
   "execution_count": 17,
   "outputs": [
    {
     "name": "stdout",
     "output_type": "stream",
     "text": [
      "Starting Logistic Regression run 1...\n",
      "Starting Logistic Regression run 2...\n",
      "Starting Logistic Regression run 3...\n",
      "Starting Logistic Regression run 4...\n",
      "Starting Logistic Regression run 5...\n",
      "Elapsed time: 35.09 seconds\n"
     ]
    },
    {
     "data": {
      "text/plain": "   Run  Accuracy  Precision  F1_Score    Recall  \\\n0    1  0.721342   0.698749  0.712522  0.726848   \n1    2  0.721342   0.698749  0.712522  0.726848   \n2    3  0.721342   0.698749  0.712522  0.726848   \n3    4  0.721342   0.698749  0.712522  0.726848   \n4    5  0.721342   0.698749  0.712522  0.726848   \n\n                                      Top_N_Features  \n0  [CNSUS_PCTB, TOD_PRES_R_2016_PREC, TOD_PRES_D_...  \n1  [CNSUS_PCTB, TOD_PRES_R_2016_PREC, TOD_PRES_D_...  \n2  [CNSUS_PCTB, TOD_PRES_R_2016_PREC, TOD_PRES_D_...  \n3  [CNSUS_PCTB, TOD_PRES_R_2016_PREC, TOD_PRES_D_...  \n4  [CNSUS_PCTB, TOD_PRES_R_2016_PREC, TOD_PRES_D_...  ",
      "text/html": "<div>\n<style scoped>\n    .dataframe tbody tr th:only-of-type {\n        vertical-align: middle;\n    }\n\n    .dataframe tbody tr th {\n        vertical-align: top;\n    }\n\n    .dataframe thead th {\n        text-align: right;\n    }\n</style>\n<table border=\"1\" class=\"dataframe\">\n  <thead>\n    <tr style=\"text-align: right;\">\n      <th></th>\n      <th>Run</th>\n      <th>Accuracy</th>\n      <th>Precision</th>\n      <th>F1_Score</th>\n      <th>Recall</th>\n      <th>Top_N_Features</th>\n    </tr>\n  </thead>\n  <tbody>\n    <tr>\n      <th>0</th>\n      <td>1</td>\n      <td>0.721342</td>\n      <td>0.698749</td>\n      <td>0.712522</td>\n      <td>0.726848</td>\n      <td>[CNSUS_PCTB, TOD_PRES_R_2016_PREC, TOD_PRES_D_...</td>\n    </tr>\n    <tr>\n      <th>1</th>\n      <td>2</td>\n      <td>0.721342</td>\n      <td>0.698749</td>\n      <td>0.712522</td>\n      <td>0.726848</td>\n      <td>[CNSUS_PCTB, TOD_PRES_R_2016_PREC, TOD_PRES_D_...</td>\n    </tr>\n    <tr>\n      <th>2</th>\n      <td>3</td>\n      <td>0.721342</td>\n      <td>0.698749</td>\n      <td>0.712522</td>\n      <td>0.726848</td>\n      <td>[CNSUS_PCTB, TOD_PRES_R_2016_PREC, TOD_PRES_D_...</td>\n    </tr>\n    <tr>\n      <th>3</th>\n      <td>4</td>\n      <td>0.721342</td>\n      <td>0.698749</td>\n      <td>0.712522</td>\n      <td>0.726848</td>\n      <td>[CNSUS_PCTB, TOD_PRES_R_2016_PREC, TOD_PRES_D_...</td>\n    </tr>\n    <tr>\n      <th>4</th>\n      <td>5</td>\n      <td>0.721342</td>\n      <td>0.698749</td>\n      <td>0.712522</td>\n      <td>0.726848</td>\n      <td>[CNSUS_PCTB, TOD_PRES_R_2016_PREC, TOD_PRES_D_...</td>\n    </tr>\n  </tbody>\n</table>\n</div>"
     },
     "execution_count": 17,
     "metadata": {},
     "output_type": "execute_result"
    }
   ],
   "source": [
    "@timer_decorator\n",
    "def run_logistic_regression(data, num_runs=1, top_N_features=10):\n",
    "    results_list = []\n",
    "\n",
    "    for run in range(1, num_runs + 1):\n",
    "        print(f\"Starting Logistic Regression run {run}...\")\n",
    "        \n",
    "        # Copy the original data to work with\n",
    "        data_copy = data.copy()\n",
    "        \n",
    "        # Drop rows with missing 'INFER_PARTY'\n",
    "        data_copy = data_copy.dropna(subset=['INFER_PARTY'])\n",
    "        \n",
    "        # Encode 'INFER_PARTY' column\n",
    "        le = LabelEncoder()\n",
    "        data_copy['INFER_PARTY'] = le.fit_transform(data_copy['INFER_PARTY'].astype(str))\n",
    "        \n",
    "        # Check for classes with only one instance after sampling and encoding\n",
    "        class_counts = data_copy['INFER_PARTY'].value_counts()\n",
    "        min_class_count = class_counts.min()\n",
    "        \n",
    "        # Select numerical columns\n",
    "        numerical_cols = data_copy.select_dtypes(include=['int64', 'float64']).columns\n",
    "        \n",
    "        # Drop 'INFER_PARTY' from the numerical columns as it is the target variable\n",
    "        numerical_cols = numerical_cols.drop('INFER_PARTY')\n",
    "\n",
    "        # Impute missing values with column means\n",
    "        imputer = SimpleImputer(strategy='mean')\n",
    "        data_copy[numerical_cols] = imputer.fit_transform(data_copy[numerical_cols])\n",
    "        \n",
    "        # Extract features and target variable\n",
    "        X = data_copy[numerical_cols]\n",
    "        y = data_copy['INFER_PARTY']\n",
    "        \n",
    "        # Train-test split\n",
    "        if min_class_count > 1:\n",
    "            X_train, X_test, y_train, y_test = train_test_split(X, y, test_size=0.1, random_state=42, stratify=y)\n",
    "        else:\n",
    "            X_train, X_test, y_train, y_test = train_test_split(X, y, test_size=0.1, random_state=42)\n",
    "        \n",
    "        scaler = MinMaxScaler()\n",
    "        X_train = scaler.fit_transform(X_train)\n",
    "        X_test = scaler.transform(X_test)\n",
    "        \n",
    "        # Initialize Logistic Regression model\n",
    "        lr = LogisticRegression(C=0.1, max_iter=10000, random_state=42+run)\n",
    "    \n",
    "        # Fit the model\n",
    "        lr.fit(X_train, y_train)\n",
    "        \n",
    "        # Make predictions\n",
    "        y_pred = lr.predict(X_test)\n",
    "        \n",
    "        # Calculate evaluation metrics\n",
    "        accuracy = accuracy_score(y_test, y_pred)\n",
    "        f1 = f1_score(y_test, y_pred)\n",
    "        recall = recall_score(y_test, y_pred, zero_division='warn')\n",
    "        precision = precision_score(y_test, y_pred)\n",
    "        \n",
    "        # Get top N features using SelectKBest with chi-squared\n",
    "        k_best = SelectKBest(score_func=chi2, k=top_N_features)\n",
    "        k_best.fit(X_train, y_train)\n",
    "        top_feature_indices = np.argsort(k_best.scores_)[::-1][:top_N_features]\n",
    "        top_features = X.columns[top_feature_indices].tolist()\n",
    "        \n",
    "        # Append results to the list\n",
    "        results_list.append({\n",
    "            'Run': run,\n",
    "            'Accuracy': accuracy,\n",
    "            'Precision': precision,\n",
    "            'F1_Score': f1,\n",
    "            'Recall': recall,\n",
    "            'Top_N_Features': top_features\n",
    "        })\n",
    "\n",
    "    # Create a DataFrame from the results list\n",
    "    results_df = pd.DataFrame(results_list)\n",
    "\n",
    "    return results_df\n",
    "\n",
    "# Assuming processed_data is your dataset, you can call the function like this:\n",
    "result = run_logistic_regression(processed_data, num_runs=5, top_N_features=30)\n",
    "result"
   ],
   "metadata": {
    "collapsed": false,
    "ExecuteTime": {
     "end_time": "2023-10-22T19:27:34.690914Z",
     "start_time": "2023-10-22T19:26:59.580021Z"
    }
   }
  },
  {
   "cell_type": "code",
   "execution_count": null,
   "outputs": [],
   "source": [
    "# @timer_decorator\n",
    "# def run_logistic_regression(data, sample_size=500, num_runs=1, top_N_features=10):\n",
    "#     results_list = []\n",
    "# \n",
    "#     for run in range(1, num_runs + 1):\n",
    "#         print(f\"Starting Logistic Regression run {run}...\")\n",
    "#         \n",
    "#         # Copy the original data to work with\n",
    "#         data_copy = data.copy()\n",
    "#         \n",
    "#         # Drop rows with missing 'INFER_PARTY'\n",
    "#         data_copy = data_copy.dropna(subset=['INFER_PARTY'])\n",
    "#         \n",
    "#         # Sample data\n",
    "#         data_sample = data_copy.sample(n=sample_size, random_state=42+run)\n",
    "#         \n",
    "#         # Encode 'INFER_PARTY' column\n",
    "#         le = LabelEncoder()\n",
    "#         data_sample['INFER_PARTY'] = le.fit_transform(data_sample['INFER_PARTY'].astype(str))\n",
    "#         \n",
    "#         # Check for classes with only one instance after sampling and encoding\n",
    "#         class_counts = data_sample['INFER_PARTY'].value_counts()\n",
    "#         min_class_count = class_counts.min()\n",
    "#         \n",
    "#         # Select numerical columns\n",
    "#         numerical_cols = data_sample.select_dtypes(include=['int64', 'float64']).columns\n",
    "#         \n",
    "#         # Drop 'INFER_PARTY' from the numerical columns as it is the target variable\n",
    "#         numerical_cols = numerical_cols.drop('INFER_PARTY')\n",
    "# \n",
    "#         # Impute missing values with column means\n",
    "#         imputer = SimpleImputer(strategy='mean')\n",
    "#         data_sample[numerical_cols] = imputer.fit_transform(data_sample[numerical_cols])\n",
    "#         \n",
    "#         # Extract features and target variable\n",
    "#         X = data_sample[numerical_cols]\n",
    "#         y = data_sample['INFER_PARTY']\n",
    "#         \n",
    "#         # Train-test split\n",
    "#         if min_class_count > 1:\n",
    "#             X_train, X_test, y_train, y_test = train_test_split(X, y, test_size=0.1, random_state=42, stratify=y)\n",
    "#         else:\n",
    "#             X_train, X_test, y_train, y_test = train_test_split(X, y, test_size=0.1, random_state=42)\n",
    "#         \n",
    "#         scaler = MinMaxScaler()\n",
    "#         X_train = scaler.fit_transform(X_train)\n",
    "#         X_test = scaler.transform(X_test)\n",
    "#         \n",
    "#         # Initialize Logistic Regression model\n",
    "#         lr = LogisticRegression(C=0.1, max_iter=10000, random_state=42+run)\n",
    "#     \n",
    "#         # Fit the model\n",
    "#         lr.fit(X_train, y_train)\n",
    "#         \n",
    "#         # Make predictions\n",
    "#         y_pred = lr.predict(X_test)\n",
    "#         \n",
    "#         # Calculate evaluation metrics\n",
    "#         accuracy = accuracy_score(y_test, y_pred)\n",
    "#         f1 = f1_score(y_test, y_pred)\n",
    "#         recall = recall_score(y_test, y_pred, zero_division='warn')\n",
    "#         precision = precision_score(y, y_pred)\n",
    "#         \n",
    "#         # Get top N features using SelectKBest with chi-squared\n",
    "#         k_best = SelectKBest(score_func=chi2, k=top_N_features)\n",
    "#         k_best.fit(X_train, y_train)\n",
    "#         top_feature_indices = np.argsort(k_best.scores_)[::-1][:top_N_features]\n",
    "#         top_features = X.columns[top_feature_indices].tolist()\n",
    "#         \n",
    "#         # Append results to the list\n",
    "#         results_list.append({\n",
    "#             'Run': run,\n",
    "#             'Accuracy': accuracy,\n",
    "#             'Precision': precision,\n",
    "#             'F1_Score': f1,\n",
    "#             'Recall': recall,\n",
    "#             'Top_N_Features': top_features\n",
    "#         })\n",
    "# \n",
    "#     # Create a DataFrame from the results list\n",
    "#     results_df = pd.DataFrame(results_list)\n",
    "# \n",
    "#     return results_df\n",
    "# \n",
    "# # Assuming data_500 is your dataset, you can call the function like this:\n",
    "# result = run_logistic_regression(processed_data, sample_size=500, num_runs=5, top_N_features=30)\n",
    "# result"
   ],
   "metadata": {
    "collapsed": false,
    "ExecuteTime": {
     "start_time": "2023-10-22T18:34:53.346937Z"
    }
   }
  },
  {
   "cell_type": "code",
   "execution_count": null,
   "outputs": [],
   "source": [],
   "metadata": {
    "collapsed": false,
    "ExecuteTime": {
     "end_time": "2023-10-22T18:34:53.353495Z",
     "start_time": "2023-10-22T18:34:53.348431Z"
    }
   }
  },
  {
   "cell_type": "markdown",
   "source": [
    "#### Plot for Logistic Regression for Feature Selection"
   ],
   "metadata": {
    "collapsed": false
   }
  },
  {
   "cell_type": "code",
   "execution_count": null,
   "outputs": [],
   "source": [
    "@timer_decorator\n",
    "def plot_feature_importance(importance, names, model_type):\n",
    "    feature_importance = pd.DataFrame({'feature': names, 'importance': importance})\n",
    "    feature_importance = feature_importance.sort_values(by='importance', ascending=True)\n",
    "    \n",
    "    plt.figure(figsize=(10, 8))\n",
    "    \n",
    "    cubehelix_palette = sns.cubehelix_palette(start=.5, rot=-.5)\n",
    "    \n",
    "    ax = sns.barplot(x=\"importance\", y=\"feature\", data=feature_importance, palette=cubehelix_palette)\n",
    "    \n",
    "    for p in ax.patches:\n",
    "        ax.annotate(f'{p.get_width():.3f}', \n",
    "                    (p.get_width(), p.get_y() + p.get_height() / 2.), \n",
    "                    ha='left', \n",
    "                    va='center', \n",
    "                    fontsize=12, \n",
    "                    color='black',\n",
    "                    xytext=(5, 0), \n",
    "                    textcoords='offset points')\n",
    "    \n",
    "    plt.title(f'{model_type} - Feature Importance')\n",
    "    plt.xlabel('Importance Score')\n",
    "    plt.ylabel('Features')\n",
    "    plt.grid(False)\n",
    "    plt.show()\n",
    "\n",
    "\n",
    "def run_logistic_regression_for_feature_importance(data, sample_size=500, top_N_features=10):\n",
    "    # Copy the original data to work with\n",
    "    data_copy = data.copy()\n",
    "    \n",
    "    # Drop rows with missing 'INFER_PARTY'\n",
    "    data_copy = data_copy.dropna(subset=['INFER_PARTY'])\n",
    "    \n",
    "    # Sample data\n",
    "    data_sample = data_copy.sample(n=sample_size, random_state=42)\n",
    "    \n",
    "    # Encode 'INFER_PARTY' column\n",
    "    le = LabelEncoder()\n",
    "    data_sample['INFER_PARTY'] = le.fit_transform(data_sample['INFER_PARTY'].astype(str))\n",
    "    \n",
    "    # Select numerical columns\n",
    "    numerical_cols = data_sample.select_dtypes(include=['int64', 'float64']).columns\n",
    "    \n",
    "    # Drop 'INFER_PARTY' from the numerical columns as it is the target variable\n",
    "    numerical_cols = numerical_cols.drop('INFER_PARTY')\n",
    "\n",
    "    # Impute missing values with column means\n",
    "    imputer = SimpleImputer(strategy='mean')\n",
    "    data_sample[numerical_cols] = imputer.fit_transform(data_sample[numerical_cols])\n",
    "    \n",
    "    # Extract features and target variable\n",
    "    X = data_sample[numerical_cols]\n",
    "    y = data_sample['INFER_PARTY']\n",
    "    \n",
    "    # Train-test split\n",
    "    X_train, X_test, y_train, y_test = train_test_split(X, y, test_size=0.1, random_state=42)\n",
    "    \n",
    "    scaler = MinMaxScaler()\n",
    "    X_train = scaler.fit_transform(X_train)\n",
    "    X_test = scaler.transform(X_test)\n",
    "    \n",
    "    # Initialize Logistic Regression model\n",
    "    lr = LogisticRegression(C=0.1, max_iter=10000, random_state=42)\n",
    "    \n",
    "    # Fit the model\n",
    "    lr.fit(X_train, y_train)\n",
    "    \n",
    "    # Get top N features using SelectKBest with chi-squared\n",
    "    k_best = SelectKBest(score_func=chi2, k=top_N_features)\n",
    "    k_best.fit(X_train, y_train)\n",
    "    top_feature_indices = np.argsort(k_best.scores_)[::-1][:top_N_features]\n",
    "    top_features = X.columns[top_feature_indices].tolist()\n",
    "    \n",
    "    # Plot feature importance\n",
    "    feature_importances = k_best.scores_[top_feature_indices]\n",
    "    plot_feature_importance(feature_importances, top_features, 'Logistic Regression')\n",
    "\n",
    "# Assuming processed_data is your dataset, you can call the function like this:\n",
    "run_logistic_regression_for_feature_importance(processed_data, sample_size=500, top_N_features=10)\n"
   ],
   "metadata": {
    "collapsed": false,
    "ExecuteTime": {
     "start_time": "2023-10-22T18:34:53.349749Z"
    }
   }
  },
  {
   "cell_type": "markdown",
   "source": [
    "#### Modeling XGradientBoosting"
   ],
   "metadata": {
    "collapsed": false
   }
  },
  {
   "cell_type": "code",
   "execution_count": null,
   "outputs": [],
   "source": [
    "@timer_decorator\n",
    "def run_xgboost_all_columns(data, sample_size=500, num_runs=1, top_N_features=50):\n",
    "    results_list = []\n",
    "    le = LabelEncoder()  # Initialize the label encoder\n",
    "\n",
    "    for run in range(1, num_runs + 1):\n",
    "        print(f\"Starting run {run}...\")\n",
    "        \n",
    "        data_with_all_columns = data.copy()\n",
    "        data_with_all_columns = data_with_all_columns[data_with_all_columns['INFER_PARTY'].notna()]\n",
    "        \n",
    "        print(\"Number of columns in the dataset:\", len(data_with_all_columns.columns))\n",
    "\n",
    "        data_sample = data_with_all_columns.sample(n=sample_size, random_state=42)\n",
    "\n",
    "        # Convert object columns to category type\n",
    "        for col in data_sample.select_dtypes(['object']).columns:\n",
    "            data_sample[col] = data_sample[col].astype('category')\n",
    "\n",
    "        # Splitting the data into features and target without encoding feature columns\n",
    "        X = data_sample.drop('INFER_PARTY', axis=1)\n",
    "        \n",
    "        # Encoding the target column 'INFER_PARTY'\n",
    "        y = le.fit_transform(data_sample['INFER_PARTY'])\n",
    "\n",
    "        X_train, X_test, y_train, y_test = train_test_split(X, y, test_size=0.2, random_state=42, stratify=y)\n",
    "        \n",
    "        xgb = XGBClassifier(objective='multi:softmax', num_class=len(np.unique(y_train)), random_state=42, enable_categorical=True)\n",
    "        xgb.fit(X_train, y_train)\n",
    "        \n",
    "        y_pred = xgb.predict(X_test)\n",
    "        accuracy = accuracy_score(y_test, y_pred)\n",
    "        f1 = f1_score(y_test, y_pred)\n",
    "        recall = recall_score(y_test, y_pred, zero_division='warn')\n",
    "        precision = precision_score(y, y_pred)\n",
    "\n",
    "        print(f\"Run {run} - Baseline Metrics: Accuracy: {accuracy}, Precision: {precision}, F1 Score: {f1}, Recall: {recall}\")\n",
    "\n",
    "        feature_importances = xgb.feature_importances_\n",
    "        sorted_idx = feature_importances.argsort()[::-1][:top_N_features]\n",
    "        top_features = X.columns[sorted_idx].tolist()\n",
    "        print(top_features)\n",
    "        \n",
    "        # Re-train and evaluate the model using top 50 features\n",
    "        X_train_top_50 = X_train[top_features]\n",
    "        X_test_top_50 = X_test[top_features]\n",
    "        \n",
    "        xgb_top_50 = XGBClassifier(objective='multi:softmax', num_class=len(np.unique(y_train)), random_state=42, enable_categorical=True)\n",
    "        xgb_top_50.fit(X_train_top_50, y_train)\n",
    "        \n",
    "        feature_importances = xgb.feature_importances_\n",
    "        sorted_idx = feature_importances.argsort()[::-1][:top_N_features]\n",
    "        top_features = X.columns[sorted_idx].tolist()\n",
    "        top_importances = feature_importances[sorted_idx]\n",
    "    \n",
    "        # Plot the feature importances\n",
    "        plt.figure(figsize=(7, 15))\n",
    "        plt.barh(top_features, top_importances, align='center')\n",
    "        plt.xlabel('Feature Importance')\n",
    "        plt.ylabel('Feature Name')\n",
    "        plt.title('Top 50 Features Based on Importance')\n",
    "        plt.gca().invert_yaxis()  # Show the most important feature at the top\n",
    "        plt.show()\n",
    "        \n",
    "        y_pred_top_50 = xgb_top_50.predict(X_test_top_50)\n",
    "        accuracy_top_50 = accuracy_score(y_test, y_pred_top_50)\n",
    "        f1_top_50 = f1_score(y_test, y_pred_top_50)\n",
    "        recall_top_50 = recall_score(y_test, y_pred_top_50)\n",
    "        precision_top_50 = precision_score(y, y_pred_top_50)\n",
    "\n",
    "        print(f\"Run {run} - Model performance with top 50 features:\")\n",
    "        print(f\"Accuracy: {accuracy_top_50}\")\n",
    "        print(f\"F1 Score: {f1_top_50}\")\n",
    "        print(f\"Recall: {recall_top_50}\")\n",
    "\n",
    "        results_list.append({\n",
    "            'Run': run,\n",
    "            'Accuracy': accuracy,\n",
    "            'Recall': recall,\n",
    "            'F1_Score': f1,\n",
    "            'Accuracy_Top_50': accuracy_top_50,\n",
    "            'Precision_top_50': precision_top_50,\n",
    "            'F1_Score_Top_50': f1_top_50,\n",
    "            'Top_N_Features': top_features\n",
    "        })\n",
    "\n",
    "    result_df = pd.DataFrame(results_list)\n",
    "    return result_df\n",
    "\n",
    "# Assuming engineered_data is already defined\n",
    "result = run_xgboost_all_columns(processed_data, sample_size=500, num_runs=1, top_N_features=50)\n",
    "result"
   ],
   "metadata": {
    "collapsed": false,
    "ExecuteTime": {
     "start_time": "2023-10-22T18:34:53.350719Z"
    }
   }
  },
  {
   "cell_type": "code",
   "execution_count": null,
   "outputs": [],
   "source": [
    "for n in result['Top_N_Features']:\n",
    "    print(n)"
   ],
   "metadata": {
    "collapsed": false,
    "ExecuteTime": {
     "start_time": "2023-10-22T18:34:53.351567Z"
    }
   }
  },
  {
   "cell_type": "code",
   "execution_count": 18,
   "outputs": [
    {
     "name": "stdout",
     "output_type": "stream",
     "text": [
      "Starting run 1...\n",
      "Number of columns in the dataset: 94\n",
      "Run 1 - Baseline Metrics: Accuracy: 0.739969656102495, F1 Score: 0.7301513251887919, Recall: 0.7404494382022472, Precision: 0.7201357335940646\n"
     ]
    },
    {
     "data": {
      "text/plain": "<Figure size 1000x800 with 1 Axes>",
      "image/png": "[encoded data removed]"
     },
     "metadata": {},
     "output_type": "display_data"
    },
    {
     "name": "stdout",
     "output_type": "stream",
     "text": [
      "Elapsed time: 10.71 seconds\n"
     ]
    },
    {
     "data": {
      "text/plain": "   Run  Accuracy    Recall  F1_Score  Precision  \\\n0    1   0.73997  0.740449  0.730151   0.720136   \n\n                                      Top_N_Features  \n0  [TOD_PRES_D_2016_PREC, TOD_PRES_R_2016_PREC, E...  ",
      "text/html": "<div>\n<style scoped>\n    .dataframe tbody tr th:only-of-type {\n        vertical-align: middle;\n    }\n\n    .dataframe tbody tr th {\n        vertical-align: top;\n    }\n\n    .dataframe thead th {\n        text-align: right;\n    }\n</style>\n<table border=\"1\" class=\"dataframe\">\n  <thead>\n    <tr style=\"text-align: right;\">\n      <th></th>\n      <th>Run</th>\n      <th>Accuracy</th>\n      <th>Recall</th>\n      <th>F1_Score</th>\n      <th>Precision</th>\n      <th>Top_N_Features</th>\n    </tr>\n  </thead>\n  <tbody>\n    <tr>\n      <th>0</th>\n      <td>1</td>\n      <td>0.73997</td>\n      <td>0.740449</td>\n      <td>0.730151</td>\n      <td>0.720136</td>\n      <td>[TOD_PRES_D_2016_PREC, TOD_PRES_R_2016_PREC, E...</td>\n    </tr>\n  </tbody>\n</table>\n</div>"
     },
     "execution_count": 18,
     "metadata": {},
     "output_type": "execute_result"
    }
   ],
   "source": [
    "@timer_decorator\n",
    "def run_xgboost_all_columns(data, num_runs=1):\n",
    "    results_list = []\n",
    "    le = LabelEncoder()  # Initialize the label encoder\n",
    "\n",
    "    for run in range(1, num_runs + 1):\n",
    "        print(f\"Starting run {run}...\")\n",
    "        \n",
    "        data_with_all_columns = data.copy()\n",
    "        data_with_all_columns = data_with_all_columns[data_with_all_columns['INFER_PARTY'].notna()]\n",
    "        \n",
    "        print(\"Number of columns in the dataset:\", len(data_with_all_columns.columns))\n",
    "\n",
    "        # Convert object columns to category type\n",
    "        for col in data_with_all_columns.select_dtypes(['object']).columns:\n",
    "            data_with_all_columns[col] = data_with_all_columns[col].astype('category')\n",
    "\n",
    "        # Splitting the data into features and target without encoding feature columns\n",
    "        X = data_with_all_columns.drop('INFER_PARTY', axis=1)\n",
    "        \n",
    "        # Encoding the target column 'INFER_PARTY'\n",
    "        y = le.fit_transform(data_with_all_columns['INFER_PARTY'])\n",
    "\n",
    "        X_train, X_test, y_train, y_test = train_test_split(X, y, test_size=0.2, random_state=42, stratify=y)\n",
    "        \n",
    "        xgb = XGBClassifier(objective='multi:softmax', num_class=len(np.unique(y_train)), random_state=42, enable_categorical=True)\n",
    "        xgb.fit(X_train, y_train)\n",
    "        \n",
    "        y_pred = xgb.predict(X_test)\n",
    "        accuracy = accuracy_score(y_test, y_pred)\n",
    "        f1 = f1_score(y_test, y_pred)\n",
    "        recall = recall_score(y_test, y_pred, zero_division='warn')\n",
    "        precision = precision_score(y_test, y_pred, zero_division='warn')\n",
    "\n",
    "        print(f\"Run {run} - Baseline Metrics: Accuracy: {accuracy}, F1 Score: {f1}, Recall: {recall}, Precision: {precision}\")\n",
    "\n",
    "        feature_importances = xgb.feature_importances_\n",
    "        sorted_idx = feature_importances.argsort()[::-1][:10]\n",
    "        top_features = X.columns[sorted_idx].tolist()\n",
    "        top_importances = feature_importances[sorted_idx]\n",
    "\n",
    "        plot_feature_importance(top_importances, top_features, 'XGBoost')\n",
    "\n",
    "        results_list.append({\n",
    "            'Run': run,\n",
    "            'Accuracy': accuracy,\n",
    "            'Recall': recall,\n",
    "            'F1_Score': f1,\n",
    "            'Precision': precision,\n",
    "            'Top_N_Features': top_features\n",
    "        })\n",
    "\n",
    "    result_df = pd.DataFrame(results_list)\n",
    "    return result_df\n",
    "\n",
    "def plot_feature_importance(importance, names, model_type):\n",
    "    feature_importance = pd.DataFrame({'feature': names, 'importance': importance})\n",
    "    feature_importance = feature_importance.sort_values(by='importance', ascending=True)\n",
    "    \n",
    "    plt.figure(figsize=(10, 8))\n",
    "    \n",
    "    cubehelix_palette = sns.cubehelix_palette(start=.5, rot=-.5)\n",
    "    \n",
    "    ax = sns.barplot(x=\"importance\", y=\"feature\", data=feature_importance, palette=cubehelix_palette)\n",
    "    \n",
    "    for p in ax.patches:\n",
    "        ax.annotate(f'{p.get_width():.3f}', \n",
    "                    (p.get_width(), p.get_y() + p.get_height() / 2.), \n",
    "                    ha='left', \n",
    "                    va='center', \n",
    "                    fontsize=12, \n",
    "                    color='black',\n",
    "                    xytext=(5, 0), \n",
    "                    textcoords='offset points')\n",
    "    \n",
    "    plt.title(f'{model_type} - Feature Importance')\n",
    "    plt.xlabel('Importance Score')\n",
    "    plt.ylabel('Features')\n",
    "    plt.grid(False)\n",
    "    plt.show()\n",
    "\n",
    "# Assuming processed_data is already defined\n",
    "result = run_xgboost_all_columns(processed_data, num_runs=1)\n",
    "result"
   ],
   "metadata": {
    "collapsed": false,
    "ExecuteTime": {
     "end_time": "2023-10-22T20:37:44.662041Z",
     "start_time": "2023-10-22T20:37:33.940807Z"
    }
   }
  },
  {
   "cell_type": "code",
   "execution_count": null,
   "outputs": [],
   "source": [],
   "metadata": {
    "collapsed": false,
    "ExecuteTime": {
     "start_time": "2023-10-22T18:34:53.353015Z"
    }
   }
  },
  {
   "cell_type": "code",
   "execution_count": null,
   "outputs": [],
   "source": [
    "@timer_decorator\n",
    "def run_xgboost_all_columns(data, num_runs=1, top_N_features=50):\n",
    "    results_list = []\n",
    "    le = LabelEncoder()  # Initialize the label encoder\n",
    "\n",
    "    for run in range(1, num_runs + 1):\n",
    "        print(f\"Starting run {run}...\")\n",
    "        \n",
    "        data_with_all_columns = data.copy()\n",
    "        data_with_all_columns = data_with_all_columns[data_with_all_columns['INFER_PARTY'].notna()]\n",
    "\n",
    "        # Convert object columns to category type\n",
    "        for col in data_with_all_columns.select_dtypes(['object']).columns:\n",
    "            data_with_all_columns[col] = data_with_all_columns[col].astype('category')\n",
    "\n",
    "        # Splitting the data into features and target without encoding feature columns\n",
    "        X = data_with_all_columns.drop('INFER_PARTY', axis=1)\n",
    "        \n",
    "        # Encoding the target column 'INFER_PARTY'\n",
    "        y = le.fit_transform(data_with_all_columns['INFER_PARTY'])\n",
    "\n",
    "        X_train, X_test, y_train, y_test = train_test_split(X, y, test_size=0.2, random_state=42, stratify=y)\n",
    "        \n",
    "        xgb = XGBClassifier(objective='multi:softmax', num_class=len(np.unique(y_train)), random_state=42, enable_categorical=True)\n",
    "        xgb.fit(X_train, y_train)\n",
    "        \n",
    "        y_pred = xgb.predict(X_test)\n",
    "        accuracy = accuracy_score(y_test, y_pred)\n",
    "        f1 = f1_score(y_test, y_pred)\n",
    "        recall = recall_score(y_test, y_pred, zero_division='warn')\n",
    "        precision = precision_score(y_test, y_pred)\n",
    "\n",
    "        feature_importances = xgb.feature_importances_\n",
    "        sorted_idx = feature_importances.argsort()[::-1][:top_N_features]\n",
    "        top_features = X.columns[sorted_idx].tolist()\n",
    "        \n",
    "        results_list.append({\n",
    "            'Run': run,\n",
    "            'Accuracy': accuracy,\n",
    "            'Recall': recall,\n",
    "            'Precision': precision,\n",
    "            'F1_Score': f1,\n",
    "            'Top_N_Features': top_features\n",
    "        })\n",
    "\n",
    "    result_df = pd.DataFrame(results_list)\n",
    "    return result_df\n",
    "\n",
    "# Assuming processed_data is already defined\n",
    "result = run_xgboost_all_columns(processed_data, num_runs=1, top_N_features=10)\n",
    "result"
   ],
   "metadata": {
    "collapsed": false,
    "ExecuteTime": {
     "end_time": "2023-10-22T18:34:53.354513Z",
     "start_time": "2023-10-22T18:34:53.353893Z"
    }
   }
  },
  {
   "cell_type": "code",
   "execution_count": null,
   "outputs": [],
   "source": [],
   "metadata": {
    "collapsed": false,
    "ExecuteTime": {
     "end_time": "2023-10-22T18:34:53.354607Z",
     "start_time": "2023-10-22T18:34:53.354578Z"
    }
   }
  },
  {
   "cell_type": "code",
   "execution_count": null,
   "outputs": [],
   "source": [
    "@timer_decorator\n",
    "def run_xgboost_all_columns(data, sample_size=500, num_runs=1, top_N_features=50):\n",
    "    results_list = []\n",
    "    le = LabelEncoder()  # Initialize the label encoder\n",
    "\n",
    "    for run in range(1, num_runs + 1):\n",
    "        print(f\"Starting run {run}...\")\n",
    "        \n",
    "        data_with_all_columns = data.copy()\n",
    "        data_with_all_columns = data_with_all_columns[data_with_all_columns['INFER_PARTY'].notna()]\n",
    "        \n",
    "        print(\"Number of columns in the dataset:\", len(data_with_all_columns.columns))\n",
    "\n",
    "        data_sample = data_with_all_columns.sample(n=sample_size, random_state=42)\n",
    "\n",
    "        # Convert object columns to category type\n",
    "        for col in data_sample.select_dtypes(['object']).columns:\n",
    "            data_sample[col] = data_sample[col].astype('category')\n",
    "\n",
    "        # Splitting the data into features and target without encoding feature columns\n",
    "        X = data_sample.drop('INFER_PARTY', axis=1)\n",
    "        \n",
    "        # Encoding the target column 'INFER_PARTY'\n",
    "        y = le.fit_transform(data_sample['INFER_PARTY'])\n",
    "\n",
    "        X_train, X_test, y_train, y_test = train_test_split(X, y, test_size=0.2, random_state=42, stratify=y)\n",
    "        \n",
    "        xgb = XGBClassifier(objective='multi:softmax', num_class=len(np.unique(y_train)), random_state=42, enable_categorical=True)\n",
    "        xgb.fit(X_train, y_train)\n",
    "        \n",
    "        y_pred = xgb.predict(X_test)\n",
    "        accuracy = accuracy_score(y_test, y_pred)\n",
    "        precision = precision_score(y_test, y_pred)\n",
    "        f1 = f1_score(y_test, y_pred)\n",
    "        recall = recall_score(y_test, y_pred, zero_division='warn')\n",
    "\n",
    "        print(f\"Run {run} - Baseline Metrics: Accuracy: {accuracy}, F1 Score: {f1}, Recall: {recall}\")\n",
    "\n",
    "        feature_importances = xgb.feature_importances_\n",
    "        sorted_idx = feature_importances.argsort()[::-1][:top_N_features]\n",
    "        top_features = X.columns[sorted_idx].tolist()\n",
    "\n",
    "        results_list.append({\n",
    "            'Run': run,\n",
    "            'Accuracy': accuracy,\n",
    "            'Precision': precision,\n",
    "            'Recall': recall,\n",
    "            'F1_Score': f1,\n",
    "            'Top_N_Features': top_features\n",
    "        })\n",
    "\n",
    "    result_df = pd.DataFrame(results_list)\n",
    "    return result_df\n",
    "\n",
    "# Assuming engineered_data is already defined\n",
    "result = run_xgboost_all_columns(engineered_data, sample_size=500, num_runs=1, top_N_features=50)\n",
    "result"
   ],
   "metadata": {
    "collapsed": false,
    "ExecuteTime": {
     "start_time": "2023-10-22T18:34:53.355335Z"
    }
   }
  },
  {
   "cell_type": "code",
   "execution_count": null,
   "outputs": [],
   "source": [],
   "metadata": {
    "collapsed": false,
    "ExecuteTime": {
     "start_time": "2023-10-22T18:34:53.356183Z"
    }
   }
  },
  {
   "cell_type": "code",
   "execution_count": null,
   "outputs": [],
   "source": [],
   "metadata": {
    "collapsed": false,
    "ExecuteTime": {
     "start_time": "2023-10-22T18:34:53.357001Z"
    }
   }
  },
  {
   "cell_type": "code",
   "execution_count": null,
   "outputs": [],
   "source": [],
   "metadata": {
    "collapsed": false
   }
  },
  {
   "cell_type": "code",
   "execution_count": null,
   "outputs": [],
   "source": [],
   "metadata": {
    "collapsed": false
   }
  },
  {
   "cell_type": "code",
   "execution_count": null,
   "outputs": [],
   "source": [],
   "metadata": {
    "collapsed": false
   }
  },
  {
   "cell_type": "code",
   "execution_count": null,
   "outputs": [],
   "source": [],
   "metadata": {
    "collapsed": false
   }
  },
  {
   "cell_type": "code",
   "execution_count": null,
   "outputs": [],
   "source": [],
   "metadata": {
    "collapsed": false
   }
  },
  {
   "cell_type": "code",
   "execution_count": null,
   "outputs": [],
   "source": [],
   "metadata": {
    "collapsed": false
   }
  },
  {
   "cell_type": "code",
   "execution_count": null,
   "outputs": [],
   "source": [],
   "metadata": {
    "collapsed": false
   }
  },
  {
   "cell_type": "code",
   "execution_count": null,
   "outputs": [],
   "source": [],
   "metadata": {
    "collapsed": false
   }
  },
  {
   "cell_type": "code",
   "execution_count": null,
   "outputs": [],
   "source": [],
   "metadata": {
    "collapsed": false
   }
  },
  {
   "cell_type": "code",
   "execution_count": null,
   "outputs": [],
   "source": [],
   "metadata": {
    "collapsed": false
   }
  }
 ],
 "metadata": {
  "kernelspec": {
   "display_name": "Python 3",
   "language": "python",
   "name": "python3"
  },
  "language_info": {
   "codemirror_mode": {
    "name": "ipython",
    "version": 3
   },
   "file_extension": ".py",
   "mimetype": "text/x-python",
   "name": "python",
   "nbconvert_exporter": "python",
   "pygments_lexer": "ipython3",
   "version": "3.11.2"
  },
  "orig_nbformat": 4
 },
 "nbformat": 4,
 "nbformat_minor": 2
}
