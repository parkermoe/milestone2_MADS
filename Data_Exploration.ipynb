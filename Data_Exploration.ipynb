{
 "cells": [
  {
   "cell_type": "code",
   "execution_count": null,
   "id": "37fbd2bf-20a7-488a-997e-c301ac5cba78",
   "metadata": {
    "tags": []
   },
   "outputs": [],
   "source": [
    "\n",
    "import matplotlib.pyplot as plt\n",
    "\n",
    "import pandas as pd\n",
    "import altair as alt\n",
    "import numpy as np\n",
    "import warnings\n",
    "warnings.filterwarnings('ignore')"
   ]
  },
  {
   "cell_type": "code",
   "execution_count": null,
   "id": "45a5f9c4-ace6-45d9-8f1b-40049c02f788",
   "metadata": {
    "tags": []
   },
   "outputs": [],
   "source": [
    "df_survey = pd.read_csv(\"data/surveydata.9.24.23.csv\")\n",
    "df_full = pd.read_csv(\"data/data_500k.csv\")\n"
   ]
  },
  {
   "cell_type": "code",
   "execution_count": null,
   "id": "52a2566f-bfbc-477a-9e11-cf9581a2e652",
   "metadata": {
    "jupyter": {
     "source_hidden": true
    },
    "tags": []
   },
   "outputs": [],
   "source": [
    "# # Choose the row index you want to print (for example, row 1)\n",
    "# row_index = 60000\n",
    "\n",
    "\n",
    "# # Loop through each column and print column name and value\n",
    "# for col_name, col_value in df_full.iloc[row_index].items():\n",
    "#     print(f\"{col_name}: {col_value}\")"
   ]
  },
  {
   "cell_type": "code",
   "execution_count": null,
   "id": "33219873-2d7d-478b-809f-159c73661b32",
   "metadata": {
    "jupyter": {
     "source_hidden": true
    },
    "tags": []
   },
   "outputs": [],
   "source": [
    "# counties = df_full.AI_COUNTY_NAME.unique()\n",
    "# len(list(counties))\n",
    "\n",
    "# len(df.columns)\n",
    "\n",
    "# df[df['AI_COUNTY_NAME'] =='MARICOPA']\n"
   ]
  },
  {
   "cell_type": "code",
   "execution_count": null,
   "id": "e196abe3-ac6d-4125-9259-1eeab0716eeb",
   "metadata": {
    "tags": []
   },
   "outputs": [],
   "source": [
    "\n",
    "\n",
    "def create_bar_chart(data, column):\n",
    "    non_null_data = data[data[column].notnull()]  # Filter out rows where the column is null\n",
    "    chart = alt.Chart(non_null_data).mark_bar().encode(\n",
    "        alt.X('count()', title='Count'),\n",
    "        alt.Y(column + ':O', title=column),\n",
    "        color=alt.Color(column + ':N', legend=None)\n",
    "    ).properties(\n",
    "        width=200,\n",
    "        height=150\n",
    "    )\n",
    "    return chart\n",
    "\n",
    "columns_to_plot = ['Q1_Candidate', 'Q2_Support', 'Q3_Party', 'Q4_LikelyVoter', 'Q5_TrumpSupport']\n",
    "for col in columns_to_plot:\n",
    "    df_survey[col] = df_survey[col].str.lower()\n",
    "    \n",
    "charts = [create_bar_chart(df_survey, column) for column in columns_to_plot]\n",
    "concatenated_charts = alt.hconcat(*charts)"
   ]
  },
  {
   "cell_type": "code",
   "execution_count": null,
   "id": "2f46f280-744d-4459-ab23-4b91850dd225",
   "metadata": {
    "tags": []
   },
   "outputs": [],
   "source": [
    "concatenated_charts"
   ]
  },
  {
   "cell_type": "code",
   "execution_count": null,
   "id": "8db67a27-cec5-455e-b253-49070b21a8e1",
   "metadata": {
    "tags": []
   },
   "outputs": [],
   "source": [
    "\n",
    "\n",
    "survey_data = df_survey\n",
    "\n",
    "\n",
    "# List of columns of interest\n",
    "columns_of_interest_updated = [\n",
    "    \"PRFL_BIDEN_SUPPORT\", \"PRFL_BORDER_SECURITY\", \"PRFL_CONSERVATIVE_NEWS\", \"PRFL_METOO_SUPPORT\", \"PRFL_LIBERAL_NEWS\", \n",
    "    \"PRFL_TAXES\", \"PRFL_AMZN_PRIME\", \"PRFL_INSURANCE\", \"PRFL_ANML_RIGHTS\", \"PRFL_ENVIRONMENT\", \"PRFL_EVANGELICAL\", \n",
    "    \"PRFL_TRUMP_SUPPORT\", \"PRFL_SANDERS_SUPPORT\", \"PRFL_POLITICAL_IDEOLOGY\", \"PRFL_FENCE_SITTER\", \"PRFL_PERSUADABLE_VOTER\",\n",
    "    \"PRFL_OBAMA\", \"PRFL_2NDAMEND\", \"PARTY_MIX\", \"PARTY_CODE\"\n",
    "]\n",
    "\n",
    "# Party filters\n",
    "parties = [\"Republican\", \"Democrat\", \"Unaffiliated/Other\"]\n",
    "\n",
    "# Function to reorder the Series to have \"Y\" as the rightmost column if it exists\n",
    "def reorder_series_for_Y(series):\n",
    "    if 'Y' in series:\n",
    "        without_Y = series.drop('Y')\n",
    "        return without_Y.append(pd.Series(series['Y'], index=['Y']))\n",
    "    return series\n",
    "\n",
    "# Calculating the difference in 'Y' responses between \"Republicans\" and \"Democrats\" for each column of interest\n",
    "y_difference_scores = {}\n",
    "for col in columns_of_interest_updated:\n",
    "    # Compute the proportion of 'Y' responses for each party\n",
    "    rep_y_prop = survey_data[(survey_data[\"Q3_Party\"] == \"republican\") & (survey_data[col] == \"Y\")].shape[0] / survey_data[survey_data[\"Q3_Party\"] == \"republican\"].shape[0]\n",
    "    dem_y_prop = survey_data[(survey_data[\"Q3_Party\"] == \"democrat\") & (survey_data[col] == \"Y\")].shape[0] / survey_data[survey_data[\"Q3_Party\"] == \"democrat\"].shape[0]\n",
    "    # Store the absolute difference in 'Y' proportions for the column\n",
    "    y_difference_scores[col] = abs(rep_y_prop - dem_y_prop)\n",
    "\n",
    "# Sort the columns based on the difference in 'Y' proportions\n",
    "sorted_columns_y_difference = sorted(y_difference_scores.keys(), key=lambda x: y_difference_scores[x], reverse=True)\n",
    "\n",
    "# Visualizing the sorted columns based on the differences in 'Y' responses\n",
    "fig, axs = plt.subplots(nrows=len(sorted_columns_y_difference), ncols=len(parties), figsize=(20, 40))\n",
    "for idx, col in enumerate(sorted_columns_y_difference):\n",
    "    for jdx, party in enumerate(parties):\n",
    "        filtered_data = survey_data[survey_data[\"Q3_Party\"] == party.lower()]\n",
    "        reordered_series = reorder_series_for_Y(filtered_data[col].value_counts(dropna=False))\n",
    "        reordered_series.plot(kind='bar', ax=axs[idx, jdx], color='lightcoral' if jdx == 0 else ('lightgreen' if jdx == 1 else 'lightblue'))\n",
    "        axs[idx, jdx].set_title(f\"{col} ({party})\", fontsize=12)\n",
    "        axs[idx, jdx].tick_params(axis='x', rotation=45)\n",
    "        if jdx == 0:\n",
    "            axs[idx, jdx].set_ylabel('Count')\n",
    "        if idx == 0:\n",
    "            axs[idx, jdx].set_xlabel('Response')\n",
    "plt.tight_layout()\n",
    "plt.show()\n"
   ]
  },
  {
   "cell_type": "code",
   "execution_count": null,
   "id": "a2a87b65-e122-4a3b-b0d1-70bf616762b5",
   "metadata": {
    "tags": []
   },
   "outputs": [],
   "source": [
    "# List of columns of interest\n",
    "columns_of_interest_updated = [\n",
    "    \"PRFL_BIDEN_SUPPORT\", \"PRFL_BORDER_SECURITY\", \"PRFL_CONSERVATIVE_NEWS\", \"PRFL_METOO_SUPPORT\", \"PRFL_LIBERAL_NEWS\", \n",
    "    \"PRFL_TAXES\", \"PRFL_AMZN_PRIME\", \"PRFL_INSURANCE\", \"PRFL_ANML_RIGHTS\", \"PRFL_ENVIRONMENT\", \"PRFL_EVANGELICAL\", \n",
    "    \"PRFL_TRUMP_SUPPORT\", \"PRFL_SANDERS_SUPPORT\", \"PRFL_POLITICAL_IDEOLOGY\", \"PRFL_FENCE_SITTER\", \"PRFL_PERSUADABLE_VOTER\",\n",
    "    \"PRFL_OBAMA\", \"PRFL_2NDAMEND\", \"PARTY_MIX\", \"PARTY_CODE\"\n",
    "]\n",
    "\n",
    "# Party filters\n",
    "candidates = [\"president donald trump\", \"president joe biden\", \"governor ron desantis\", \"nikki haley\",  \"undecided\"]\n",
    "\n",
    "# Function to reorder the Series to have \"Y\" as the rightmost column if it exists\n",
    "def reorder_series_for_Y(series):\n",
    "    if 'Y' in series:\n",
    "        without_Y = series.drop('Y')\n",
    "        return without_Y.append(pd.Series(series['Y'], index=['Y']))\n",
    "    return series\n",
    "\n",
    "# Calculating the difference in 'Y' responses between Biden and Trump for each column of interest\n",
    "y_difference_scores = {}\n",
    "for col in columns_of_interest_updated:\n",
    "    # Compute the proportion of 'Y' responses for Biden v Trump\n",
    "    rep_y_prop = survey_data[(survey_data[\"Q1_Candidate\"] == \"president donald trump\") & (survey_data[col] == \"Y\")].shape[0] / survey_data[survey_data[\"Q1_Candidate\"] == \"president donald trump\"].shape[0]\n",
    "    dem_y_prop = survey_data[(survey_data[\"Q1_Candidate\"] == \"president joe biden\") & (survey_data[col] == \"Y\")].shape[0] / survey_data[survey_data[\"Q1_Candidate\"] == \"president joe biden\"].shape[0]\n",
    "    # Store the absolute difference in 'Y' proportions for the column\n",
    "    y_difference_scores[col] = abs(rep_y_prop - dem_y_prop)\n",
    "\n",
    "# Sort the columns based on the difference in 'Y' proportions\n",
    "sorted_columns_y_difference = sorted(y_difference_scores.keys(), key=lambda x: y_difference_scores[x], reverse=True)\n",
    "\n",
    "# Visualizing the sorted columns based on the differences in 'Y' responses\n",
    "fig, axs = plt.subplots(nrows=len(sorted_columns_y_difference), ncols=len(candidates), figsize=(20, 40))\n",
    "for idx, col in enumerate(sorted_columns_y_difference):\n",
    "    for jdx, candidate in enumerate(candidates):\n",
    "        filtered_data = survey_data[survey_data[\"Q1_Candidate\"] == candidate]\n",
    "        reordered_series = reorder_series_for_Y(filtered_data[col].value_counts(dropna=False))\n",
    "        reordered_series.plot(kind='bar', ax=axs[idx, jdx], color='lightcoral' if jdx == 0 else ('lightgreen' if jdx == 1 else 'lightblue'))\n",
    "        axs[idx, jdx].set_title(f\"{col} ({candidate})\", fontsize=12)\n",
    "        axs[idx, jdx].tick_params(axis='x', rotation=45)\n",
    "        if jdx == 0:\n",
    "            axs[idx, jdx].set_ylabel('Count')\n",
    "        if idx == 0:\n",
    "            axs[idx, jdx].set_xlabel('Response')\n",
    "plt.tight_layout()\n",
    "plt.show()"
   ]
  },
  {
   "cell_type": "code",
   "execution_count": null,
   "id": "0cc47c49-8a3e-4152-b759-74df73313b0f",
   "metadata": {},
   "outputs": [],
   "source": []
  }
 ],
 "metadata": {
  "kernelspec": {
   "display_name": "Python 3 (ipykernel)",
   "language": "python",
   "name": "python3"
  },
  "language_info": {
   "codemirror_mode": {
    "name": "ipython",
    "version": 3
   },
   "file_extension": ".py",
   "mimetype": "text/x-python",
   "name": "python",
   "nbconvert_exporter": "python",
   "pygments_lexer": "ipython3",
   "version": "3.11.4"
  }
 },
 "nbformat": 4,
 "nbformat_minor": 5
}
