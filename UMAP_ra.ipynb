{
 "cells": [
  {
   "cell_type": "code",
   "execution_count": 12,
   "metadata": {
    "ExecuteTime": {
     "end_time": "2023-10-08T20:34:33.217889Z",
     "start_time": "2023-10-08T20:34:33.202551Z"
    }
   },
   "outputs": [],
   "source": [
    "import pandas as pd\n",
    "import numpy as np\n",
    "import matplotlib.pyplot as plt\n",
    "from xgboost import XGBClassifier\n",
    "import xgboost as xgb\n",
    "import pandas as pd\n",
    "from collections import Counter\n",
    "from sklearn.impute import SimpleImputer\n",
    "from sklearn.preprocessing import LabelEncoder, StandardScaler\n",
    "from sklearn.model_selection import train_test_split\n",
    "from sklearn.ensemble import RandomForestClassifier, GradientBoostingClassifier\n",
    "from sklearn.linear_model import LogisticRegression\n",
    "from sklearn.metrics import accuracy_score, recall_score, f1_score\n",
    "import time"
   ]
  },
  {
   "cell_type": "code",
   "execution_count": 6,
   "outputs": [
    {
     "data": {
      "text/plain": "        RECORD_ID ADD_TYPE AFAMPROFLS   AGE        AI_COUNTY_NAME AIRCOND  \\\n0          403390        S             21.0  Fairbanks North Star           \n1           62285        H              NaN             Anchorage           \n2          331355                      91.0       Kenai Peninsula           \n3          206320        H             65.0             Anchorage           \n4          188078        S             76.0                Juneau           \n...           ...      ...        ...   ...                   ...     ...   \n499995     349635        H             20.0                  BIBB           \n499996     420654        S             50.0                COWETA       A   \n499997     131262        S             19.0              ROCKDALE           \n499998     315673        H             21.0                BARROW           \n499999     467477        S             19.0               CHATHAM           \n\n       APP_CHILD APP_MENBIG APP_TODDLR APP_WOMEN  ... VTR_PRI16 VTR_PRI17  \\\n0                                                 ...                       \n1                                                 ...                       \n2                                                 ...                       \n3                                                 ...                       \n4                                                 ...         Y             \n...          ...        ...        ...       ...  ...       ...       ...   \n499995                                            ...                       \n499996                                            ...                       \n499997                                            ...                       \n499998                                            ...                       \n499999                                            ...                       \n\n       VTR_PRI18 VTR_PRI19 VTR_PRI20 VTR_PRI21 VTR_PRI22 WORKWOMAN YEARBUILT  \\\n0                                                                        NaN   \n1                                                                        NaN   \n2                                                                        NaN   \n3                                                      Y                       \n4              Y                                       Y         Y      1985   \n...          ...       ...       ...       ...       ...       ...       ...   \n499995                                                                   NaN   \n499996                                                                  2003   \n499997                                                                         \n499998                                                                   NaN   \n499999                                                                   NaN   \n\n          ZIP  \n0       99705  \n1       99506  \n2       99603  \n3       99567  \n4       99801  \n...       ...  \n499995  31204  \n499996  30263  \n499997  30013  \n499998  30680  \n499999  31407  \n\n[500000 rows x 298 columns]",
      "text/html": "<div>\n<style scoped>\n    .dataframe tbody tr th:only-of-type {\n        vertical-align: middle;\n    }\n\n    .dataframe tbody tr th {\n        vertical-align: top;\n    }\n\n    .dataframe thead th {\n        text-align: right;\n    }\n</style>\n<table border=\"1\" class=\"dataframe\">\n  <thead>\n    <tr style=\"text-align: right;\">\n      <th></th>\n      <th>RECORD_ID</th>\n      <th>ADD_TYPE</th>\n      <th>AFAMPROFLS</th>\n      <th>AGE</th>\n      <th>AI_COUNTY_NAME</th>\n      <th>AIRCOND</th>\n      <th>APP_CHILD</th>\n      <th>APP_MENBIG</th>\n      <th>APP_TODDLR</th>\n      <th>APP_WOMEN</th>\n      <th>...</th>\n      <th>VTR_PRI16</th>\n      <th>VTR_PRI17</th>\n      <th>VTR_PRI18</th>\n      <th>VTR_PRI19</th>\n      <th>VTR_PRI20</th>\n      <th>VTR_PRI21</th>\n      <th>VTR_PRI22</th>\n      <th>WORKWOMAN</th>\n      <th>YEARBUILT</th>\n      <th>ZIP</th>\n    </tr>\n  </thead>\n  <tbody>\n    <tr>\n      <th>0</th>\n      <td>403390</td>\n      <td>S</td>\n      <td></td>\n      <td>21.0</td>\n      <td>Fairbanks North Star</td>\n      <td></td>\n      <td></td>\n      <td></td>\n      <td></td>\n      <td></td>\n      <td>...</td>\n      <td></td>\n      <td></td>\n      <td></td>\n      <td></td>\n      <td></td>\n      <td></td>\n      <td></td>\n      <td></td>\n      <td>NaN</td>\n      <td>99705</td>\n    </tr>\n    <tr>\n      <th>1</th>\n      <td>62285</td>\n      <td>H</td>\n      <td></td>\n      <td>NaN</td>\n      <td>Anchorage</td>\n      <td></td>\n      <td></td>\n      <td></td>\n      <td></td>\n      <td></td>\n      <td>...</td>\n      <td></td>\n      <td></td>\n      <td></td>\n      <td></td>\n      <td></td>\n      <td></td>\n      <td></td>\n      <td></td>\n      <td>NaN</td>\n      <td>99506</td>\n    </tr>\n    <tr>\n      <th>2</th>\n      <td>331355</td>\n      <td></td>\n      <td></td>\n      <td>91.0</td>\n      <td>Kenai Peninsula</td>\n      <td></td>\n      <td></td>\n      <td></td>\n      <td></td>\n      <td></td>\n      <td>...</td>\n      <td></td>\n      <td></td>\n      <td></td>\n      <td></td>\n      <td></td>\n      <td></td>\n      <td></td>\n      <td></td>\n      <td>NaN</td>\n      <td>99603</td>\n    </tr>\n    <tr>\n      <th>3</th>\n      <td>206320</td>\n      <td>H</td>\n      <td></td>\n      <td>65.0</td>\n      <td>Anchorage</td>\n      <td></td>\n      <td></td>\n      <td></td>\n      <td></td>\n      <td></td>\n      <td>...</td>\n      <td></td>\n      <td></td>\n      <td></td>\n      <td></td>\n      <td></td>\n      <td></td>\n      <td>Y</td>\n      <td></td>\n      <td></td>\n      <td>99567</td>\n    </tr>\n    <tr>\n      <th>4</th>\n      <td>188078</td>\n      <td>S</td>\n      <td></td>\n      <td>76.0</td>\n      <td>Juneau</td>\n      <td></td>\n      <td></td>\n      <td></td>\n      <td></td>\n      <td></td>\n      <td>...</td>\n      <td>Y</td>\n      <td></td>\n      <td>Y</td>\n      <td></td>\n      <td></td>\n      <td></td>\n      <td>Y</td>\n      <td>Y</td>\n      <td>1985</td>\n      <td>99801</td>\n    </tr>\n    <tr>\n      <th>...</th>\n      <td>...</td>\n      <td>...</td>\n      <td>...</td>\n      <td>...</td>\n      <td>...</td>\n      <td>...</td>\n      <td>...</td>\n      <td>...</td>\n      <td>...</td>\n      <td>...</td>\n      <td>...</td>\n      <td>...</td>\n      <td>...</td>\n      <td>...</td>\n      <td>...</td>\n      <td>...</td>\n      <td>...</td>\n      <td>...</td>\n      <td>...</td>\n      <td>...</td>\n      <td>...</td>\n    </tr>\n    <tr>\n      <th>499995</th>\n      <td>349635</td>\n      <td>H</td>\n      <td></td>\n      <td>20.0</td>\n      <td>BIBB</td>\n      <td></td>\n      <td></td>\n      <td></td>\n      <td></td>\n      <td></td>\n      <td>...</td>\n      <td></td>\n      <td></td>\n      <td></td>\n      <td></td>\n      <td></td>\n      <td></td>\n      <td></td>\n      <td></td>\n      <td>NaN</td>\n      <td>31204</td>\n    </tr>\n    <tr>\n      <th>499996</th>\n      <td>420654</td>\n      <td>S</td>\n      <td></td>\n      <td>50.0</td>\n      <td>COWETA</td>\n      <td>A</td>\n      <td></td>\n      <td></td>\n      <td></td>\n      <td></td>\n      <td>...</td>\n      <td></td>\n      <td></td>\n      <td></td>\n      <td></td>\n      <td></td>\n      <td></td>\n      <td></td>\n      <td></td>\n      <td>2003</td>\n      <td>30263</td>\n    </tr>\n    <tr>\n      <th>499997</th>\n      <td>131262</td>\n      <td>S</td>\n      <td></td>\n      <td>19.0</td>\n      <td>ROCKDALE</td>\n      <td></td>\n      <td></td>\n      <td></td>\n      <td></td>\n      <td></td>\n      <td>...</td>\n      <td></td>\n      <td></td>\n      <td></td>\n      <td></td>\n      <td></td>\n      <td></td>\n      <td></td>\n      <td></td>\n      <td></td>\n      <td>30013</td>\n    </tr>\n    <tr>\n      <th>499998</th>\n      <td>315673</td>\n      <td>H</td>\n      <td></td>\n      <td>21.0</td>\n      <td>BARROW</td>\n      <td></td>\n      <td></td>\n      <td></td>\n      <td></td>\n      <td></td>\n      <td>...</td>\n      <td></td>\n      <td></td>\n      <td></td>\n      <td></td>\n      <td></td>\n      <td></td>\n      <td></td>\n      <td></td>\n      <td>NaN</td>\n      <td>30680</td>\n    </tr>\n    <tr>\n      <th>499999</th>\n      <td>467477</td>\n      <td>S</td>\n      <td></td>\n      <td>19.0</td>\n      <td>CHATHAM</td>\n      <td></td>\n      <td></td>\n      <td></td>\n      <td></td>\n      <td></td>\n      <td>...</td>\n      <td></td>\n      <td></td>\n      <td></td>\n      <td></td>\n      <td></td>\n      <td></td>\n      <td></td>\n      <td></td>\n      <td>NaN</td>\n      <td>31407</td>\n    </tr>\n  </tbody>\n</table>\n<p>500000 rows × 298 columns</p>\n</div>"
     },
     "execution_count": 6,
     "metadata": {},
     "output_type": "execute_result"
    }
   ],
   "source": [
    "data_500 = pd.read_csv(\"/Users/nirugidla/Documents/GitHub/milestone2_MADS/data_500k.csv\",  low_memory=False)\n",
    "data_500"
   ],
   "metadata": {
    "collapsed": false,
    "ExecuteTime": {
     "end_time": "2023-10-07T21:58:06.080888Z",
     "start_time": "2023-10-07T21:57:12.367652Z"
    }
   }
  },
  {
   "cell_type": "code",
   "execution_count": 7,
   "outputs": [],
   "source": [
    "# Original list of selected features\n",
    "selected_features_too_many = ['CENSUS_TRK','RECORD_ID', 'VP_PPP', 'CNSUS_PCTB', 'PARTY_CODE',\n",
    "                     'CENSUS_TRK', 'RECORD_ID', 'VP_PPP', 'CNSUS_PCTB', 'PARTY_CODE',\n",
    "                     'PARTY_CODE', 'PARTY_MIX', 'VP_PPP', 'CNSUS_PCTB', 'TOD_PRES_R_2016_PREC',\n",
    "                     'PRFL_POLITICAL_IDEOLOGY_L','PRFL_POLITICAL_IDEOLOGY_Unknown',\n",
    "                     'CENSUS_ST_12', 'TOD_PRES_DIFF_2020_PREC_Unknown', 'CENSUS_ST_48', \n",
    "                     'CENSUS_ST_48', 'PRFL_POLITICAL_IDEOLOGY_L', 'CENSUS_ST_13', \n",
    "                     'PRFL_POLITICAL_IDEOLOGY_Unknown', 'TOD_PRES_DIFF_2020_PREC_Unknown']\n"
   ],
   "metadata": {
    "collapsed": false,
    "ExecuteTime": {
     "end_time": "2023-10-07T21:58:06.097156Z",
     "start_time": "2023-10-07T21:58:06.082021Z"
    }
   }
  },
  {
   "cell_type": "code",
   "execution_count": 8,
   "outputs": [],
   "source": [
    "selected_features = ['PRFL_POLITICAL_IDEOLOGY', 'TOD_PRES_R_2016_PREC', 'RECORD_ID', 'CENSUS_ST', \n",
    "                'VP_PPP', 'PARTY_MIX', 'PRFL_POLITICAL_IDEOLOGY', \n",
    "                     'TOD_PRES_DIFF_2020_PREC', 'CNSUS_PCTB', 'CENSUS_TRK', 'PARTY_CODE'\n",
    "\n",
    "]\n",
    "parkers_features = ['AGE', 'CNSUS_PCTA', 'CNSUS_PCTH', 'CNSUS_PCTM', 'CNSUS_PCTO',\n",
    "       'CNSUS_PCTW', 'EDUCATION', 'ETHNIC_INFER', 'HOMEMKTVAL', 'NETWORTH',\n",
    "       'PARTY_CODE', 'PRESENCHLD', 'RELIGION', 'CENSUS_TRK', 'TOD_PRES_D_2016',\n",
    "       'TOD_PRES_D_2020_PREC', 'TOD_PRES_R_2016', 'TOD_PRES_R_2016_PREC',\n",
    "       'TOD_PRES_R_2020_PREC', 'TOD_PRES_DIFF_2016', 'TOD_PRES_DIFF_2016_PREC',\n",
    "       'TOD_PRES_DIFF_2020_PREC', 'AI_COUNTY_NAME', 'CREDRATE', 'HH_SIZE',\n",
    "       'PRFL_BORDER_SECURITY', 'PRFL_CHOICELIFE', 'PRFL_CONSERVATIVE_NEWS',\n",
    "       'PRFL_TRUMP_SUPPORT', 'PRFL_IMMIGRATION_REFORM', 'VTR_GEN20',\n",
    "       'VTR_GEN21', 'VTR_GEN22', 'VTR_OTH09', 'VTR_OTH17', 'VTR_PPP04',\n",
    "       'VTR_PPP08', 'VTR_PPP12', 'VTR_PPP16', 'VTR_PPP20'\n",
    "]"
   ],
   "metadata": {
    "collapsed": false,
    "ExecuteTime": {
     "end_time": "2023-10-07T21:58:06.097530Z",
     "start_time": "2023-10-07T21:58:06.092584Z"
    }
   }
  },
  {
   "cell_type": "code",
   "execution_count": 9,
   "outputs": [
    {
     "name": "stdout",
     "output_type": "stream",
     "text": [
      "Processing column: CNSUS_PCTB\n",
      "Processing column: CENSUS_TRK\n",
      "Processing column: RECORD_ID\n",
      "Processing column: PRFL_POLITICAL_IDEOLOGY\n",
      "Processing column: VP_PPP\n",
      "Processing column: TOD_PRES_R_2016_PREC\n",
      "Processing column: PARTY_CODE\n",
      "Processing column: TOD_PRES_DIFF_2020_PREC\n",
      "Processing column: PARTY_MIX\n",
      "Processing column: CENSUS_ST\n",
      "6\n",
      "4\n"
     ]
    }
   ],
   "source": [
    "selected_features = list(set(selected_features))  # This will remove duplicates\n",
    "\n",
    "# Filter your data to include only the selected features\n",
    "data_reduced = data_500[selected_features].copy()\n",
    "\n",
    "# Strip whitespaces from column names\n",
    "data_reduced.columns = data_reduced.columns.str.strip()\n",
    "\n",
    "# Drop duplicates\n",
    "data_reduced.drop_duplicates(inplace=True)\n",
    "\n",
    "for col in data_reduced.columns:\n",
    "    print(f\"Processing column: {col}\")\n",
    "    if data_reduced[col].dtype == object:\n",
    "        data_reduced[col] = data_reduced[col].str.strip()\n",
    "\n",
    "# Replace empty strings with 'Unknown'\n",
    "data_reduced.replace('', 'Unknown', inplace=True)\n",
    "\n",
    "# Fill NaN values with 'Unknown' for object dtype columns\n",
    "data_reduced.loc[:, data_reduced.dtypes == object] = data_reduced.loc[:, data_reduced.dtypes == object].fillna('Unknown')\n",
    "\n",
    "# Drop columns where all elements are NaN\n",
    "data_reduced.dropna(axis=1, how='all', inplace=True)\n",
    "\n",
    "# Drop rows where all elements are NaN\n",
    "data_reduced.dropna(axis=0, how='all', inplace=True)\n",
    "\n",
    "# Identify numeric and non-numeric columns\n",
    "numeric_cols = data_reduced.select_dtypes(include=['int64', 'float64']).columns\n",
    "non_numeric_cols = data_reduced.select_dtypes(exclude=['int64', 'float64']).columns\n",
    "\n",
    "print(len(numeric_cols))\n",
    "print(len(non_numeric_cols))"
   ],
   "metadata": {
    "collapsed": false,
    "ExecuteTime": {
     "end_time": "2023-10-07T21:58:08.909923Z",
     "start_time": "2023-10-07T21:58:06.110886Z"
    }
   }
  },
  {
   "cell_type": "code",
   "execution_count": 10,
   "outputs": [
    {
     "name": "stdout",
     "output_type": "stream",
     "text": [
      "(500000, 288) before dropping Nan\n",
      "(471415, 288) after dropping Nan\n"
     ]
    }
   ],
   "source": [
    "# Separating out the features that are numeric and categorical\n",
    "data_numeric = data_reduced[numeric_cols]\n",
    "data_categorical = data_reduced[non_numeric_cols]\n",
    "# One-hot encode the categorical variables\n",
    "data_categorical_one_hot = pd.get_dummies(data_categorical)\n",
    "# Concatenate numeric and one-hot encoded categorical variables\n",
    "data_final = pd.concat([data_numeric, data_categorical_one_hot], axis=1)\n",
    "print(data_final.shape, \"before dropping Nan\")\n",
    "# Drop any rows containing NaN values\n",
    "data_final.dropna(inplace=True)\n",
    "print(data_final.shape, \"after dropping Nan\")"
   ],
   "metadata": {
    "collapsed": false,
    "ExecuteTime": {
     "end_time": "2023-10-07T21:58:10.900535Z",
     "start_time": "2023-10-07T21:58:08.915391Z"
    }
   }
  },
  {
   "cell_type": "code",
   "execution_count": 11,
   "outputs": [
    {
     "data": {
      "text/plain": "<Figure size 640x480 with 1 Axes>",
      "image/png": "[encoded data removed]"
     },
     "metadata": {},
     "output_type": "display_data"
    }
   ],
   "source": [
    "import umap\n",
    "import matplotlib.pyplot as plt\n",
    "\n",
    "# Initialize UMAP\n",
    "reducer = umap.UMAP()\n",
    "\n",
    "# Fit and transform the final data\n",
    "data_umap = reducer.fit_transform(data_final)\n",
    "\n",
    "# Plotting the results\n",
    "plt.scatter(data_umap[:, 0], data_umap[:, 1])\n",
    "plt.xlabel('UMAP feature 1')\n",
    "plt.ylabel('UMAP feature 2')\n",
    "plt.title('UMAP on Voter Data')\n",
    "plt.show()"
   ],
   "metadata": {
    "collapsed": false,
    "ExecuteTime": {
     "end_time": "2023-10-08T04:34:45.928713Z",
     "start_time": "2023-10-07T21:58:41.501524Z"
    }
   }
  },
  {
   "cell_type": "code",
   "execution_count": 14,
   "outputs": [],
   "source": [
    "import umap\n",
    "import matplotlib.pyplot as plt\n",
    "\n",
    "def timer_decorator(func):\n",
    "    def wrapper(*args, **kwargs):\n",
    "        start_time = time.time()\n",
    "        result = func(*args, **kwargs)\n",
    "        end_time = time.time()\n",
    "        elapsed_time = end_time - start_time\n",
    "        print(f\"Elapsed time: {elapsed_time:.2f} seconds\")\n",
    "        return result\n",
    "    return wrapper\n"
   ],
   "metadata": {
    "collapsed": false,
    "ExecuteTime": {
     "end_time": "2023-10-08T20:34:50.962115Z",
     "start_time": "2023-10-08T20:34:50.953761Z"
    }
   }
  },
  {
   "cell_type": "code",
   "execution_count": null,
   "outputs": [],
   "source": [],
   "metadata": {
    "collapsed": false
   }
  },
  {
   "cell_type": "code",
   "execution_count": null,
   "outputs": [],
   "source": [],
   "metadata": {
    "collapsed": false
   }
  },
  {
   "cell_type": "code",
   "execution_count": null,
   "outputs": [],
   "source": [],
   "metadata": {
    "collapsed": false
   }
  },
  {
   "cell_type": "code",
   "execution_count": null,
   "outputs": [],
   "source": [],
   "metadata": {
    "collapsed": false
   }
  },
  {
   "cell_type": "code",
   "execution_count": null,
   "outputs": [],
   "source": [],
   "metadata": {
    "collapsed": false
   }
  },
  {
   "cell_type": "code",
   "execution_count": null,
   "outputs": [],
   "source": [],
   "metadata": {
    "collapsed": false
   }
  },
  {
   "cell_type": "code",
   "execution_count": null,
   "outputs": [],
   "source": [],
   "metadata": {
    "collapsed": false
   }
  }
 ],
 "metadata": {
  "kernelspec": {
   "display_name": "Python 3",
   "language": "python",
   "name": "python3"
  },
  "language_info": {
   "codemirror_mode": {
    "name": "ipython",
    "version": 3
   },
   "file_extension": ".py",
   "mimetype": "text/x-python",
   "name": "python",
   "nbconvert_exporter": "python",
   "pygments_lexer": "ipython3",
   "version": "3.11.2"
  },
  "orig_nbformat": 4
 },
 "nbformat": 4,
 "nbformat_minor": 2
}
